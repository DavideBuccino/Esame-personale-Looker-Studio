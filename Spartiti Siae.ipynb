{
 "cells": [
  {
   "cell_type": "markdown",
   "id": "85dcd839-b115-4e40-86ce-79c29dc85037",
   "metadata": {},
   "source": [
    "QUI CERCO DI OTTENERE GLI SPARTITI DELLE CANZONI DALL'ARCHIVIO STORICO DI SANREMO ALL'INTERNO DEL SITO SIAE"
   ]
  },
  {
   "cell_type": "code",
   "execution_count": 7,
   "id": "e0458a0d-d506-4fa6-9331-a9d8761b6d13",
   "metadata": {},
   "outputs": [
    {
     "name": "stdout",
     "output_type": "stream",
     "text": [
      "📅 Trovati 0 link agli anni\n"
     ]
    }
   ],
   "source": [
    "import os\n",
    "import time\n",
    "import requests\n",
    "from bs4 import BeautifulSoup\n",
    "from urllib.parse import urljoin\n",
    "\n",
    "# URL iniziale dell'archivio\n",
    "base_url = \"https://www.siae.it\"\n",
    "archivio_url = \"https://www.siae.it/it/archivio-festival-sanremo/\"\n",
    "\n",
    "# Cartella dove salvare le immagini\n",
    "cartella_base = \"spartiti_sanremo\"\n",
    "os.makedirs(cartella_base, exist_ok=True)\n",
    "\n",
    "# Intestazioni della richiesta\n",
    "headers = {\n",
    "    \"User-Agent\": \"Mozilla/5.0 (Windows NT 10.0; Win64; x64)\"\n",
    "}\n",
    "\n",
    "# Funzione per scaricare una singola immagine\n",
    "def scarica_immagine(img_url, cartella, nome_file):\n",
    "    response = requests.get(img_url, headers=headers)\n",
    "    if response.status_code == 200:\n",
    "        with open(os.path.join(cartella, nome_file), \"wb\") as f:\n",
    "            f.write(response.content)\n",
    "        print(f\"✅ Immagine salvata: {nome_file}\")\n",
    "    else:\n",
    "        print(f\"❌ Errore nel download: {img_url}\")\n",
    "\n",
    "# Richiedi la pagina iniziale\n",
    "response = requests.get(archivio_url, headers=headers)\n",
    "soup = BeautifulSoup(response.content, \"html.parser\")\n",
    "\n",
    "# Trova i link agli anni\n",
    "link_anni = soup.select(\"div.view-content a\")\n",
    "print(f\"📅 Trovati {len(link_anni)} link agli anni\")\n",
    "\n",
    "# Cicla per ogni anno\n",
    "for a in link_anni:\n",
    "    nome_anno = a.text.strip()\n",
    "    url_anno = urljoin(base_url, a['href'])\n",
    "    print(f\"🔍 Analizzo anno: {nome_anno} - {url_anno}\")\n",
    "\n",
    "    # Crea una cartella per l'anno\n",
    "    cartella_anno = os.path.join(cartella_base, nome_anno)\n",
    "    os.makedirs(cartella_anno, exist_ok=True)\n",
    "\n",
    "    # Scarica la pagina dell’anno\n",
    "    time.sleep(1)\n",
    "    response_anno = requests.get(url_anno, headers=headers)\n",
    "    soup_anno = BeautifulSoup(response_anno.content, \"html.parser\")\n",
    "\n",
    "    # Cerca tutte le immagini degli spartiti\n",
    "    immagini = soup_anno.find_all(\"img\")\n",
    "    for idx, img in enumerate(immagini):\n",
    "        src = img.get(\"src\")\n",
    "        if not src:\n",
    "            continue\n",
    "        img_url = urljoin(base_url, src)\n",
    "        nome_file = f\"{nome_anno}_{idx+1}.jpg\"\n",
    "        scarica_immagine(img_url, cartella_anno, nome_file)\n"
   ]
  },
  {
   "cell_type": "code",
   "execution_count": null,
   "id": "841363d2-07fe-4c88-9ed9-1f8cff5be904",
   "metadata": {},
   "outputs": [],
   "source": []
  },
  {
   "cell_type": "code",
   "execution_count": null,
   "id": "c45ac8f5-e834-42eb-9f5b-8e2e156f4d0e",
   "metadata": {},
   "outputs": [],
   "source": []
  }
 ],
 "metadata": {
  "kernelspec": {
   "display_name": "Python [conda env:base] *",
   "language": "python",
   "name": "conda-base-py"
  },
  "language_info": {
   "codemirror_mode": {
    "name": "ipython",
    "version": 3
   },
   "file_extension": ".py",
   "mimetype": "text/x-python",
   "name": "python",
   "nbconvert_exporter": "python",
   "pygments_lexer": "ipython3",
   "version": "3.12.7"
  }
 },
 "nbformat": 4,
 "nbformat_minor": 5
}

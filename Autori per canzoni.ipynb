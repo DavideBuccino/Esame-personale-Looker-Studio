{
 "cells": [
  {
   "cell_type": "markdown",
   "id": "1ff423b0-e1cc-46dd-9480-9af05c00f285",
   "metadata": {},
   "source": [
    "QUI CERCO DI CALCOLARE QUANDO UN AUTORE PARTECIPA ALLA SCRITTURA DI PIU CANZONI"
   ]
  },
  {
   "cell_type": "code",
   "execution_count": 2,
   "id": "599108ce-ee31-48b1-8a3d-9207bef6c4ba",
   "metadata": {},
   "outputs": [
    {
     "name": "stdout",
     "output_type": "stream",
     "text": [
      "Index(['Indice', 'Artista', 'Genere', 'Posizione', 'Canzone', 'Anno',\n",
      "       'Autori'],\n",
      "      dtype='object')\n",
      "Index(['Autore'], dtype='object')\n"
     ]
    }
   ],
   "source": [
    "import pandas as pd\n",
    "\n",
    "# Percorso del file\n",
    "file_path = r'C:\\Users\\bocci\\OneDrive\\Desktop\\ESAME FINALE LOOKER STUDIO\\File Unico Sanremo.xlsx'\n",
    "\n",
    "# Carica i due fogli\n",
    "df_classifica = pd.read_excel(file_path, sheet_name=\"Dati-classifica con genere\")\n",
    "df_autori_espansi = pd.read_excel(file_path, sheet_name=\"Autori Espansi\")\n",
    "\n",
    "# Controlla che colonne e dati siano corretti\n",
    "print(df_classifica.columns)\n",
    "print(df_autori_espansi.columns)\n"
   ]
  },
  {
   "cell_type": "code",
   "execution_count": 4,
   "id": "3235b9a3-0c66-422e-9ba9-1f000f709278",
   "metadata": {},
   "outputs": [],
   "source": [
    "# Rimuovi spazi intorno ai nomi degli autori nei due fogli\n",
    "df_classifica['Autori'] = df_classifica['Autori'].astype(str).str.strip()\n",
    "df_autori_espansi['Autore'] = df_autori_espansi['Autore'].astype(str).str.strip()\n",
    "\n",
    "# Lista per salvare le associazioni\n",
    "associazioni = []\n",
    "\n",
    "# Crea una mappatura: Canzone + Autori stringa\n",
    "for _, row in df_classifica.iterrows():\n",
    "    canzone = row['Canzone']\n",
    "    autori_str = row['Autori']\n",
    "    \n",
    "    # Spezza la stringa degli autori (separati da virgola)\n",
    "    autori = [a.strip() for a in autori_str.split(',') if a.strip()]\n",
    "    \n",
    "    # Aggiungi ogni autore singolarmente con la canzone\n",
    "    for autore in autori:\n",
    "        associazioni.append({'Canzone': canzone, 'Autore': autore})\n",
    "\n",
    "# Crea un nuovo DataFrame con i dati associati\n",
    "df_associazioni = pd.DataFrame(associazioni)\n"
   ]
  },
  {
   "cell_type": "code",
   "execution_count": 6,
   "id": "447f988e-37ff-41df-98c9-aa1e4b63cbca",
   "metadata": {},
   "outputs": [
    {
     "data": {
      "text/html": [
       "<div>\n",
       "<style scoped>\n",
       "    .dataframe tbody tr th:only-of-type {\n",
       "        vertical-align: middle;\n",
       "    }\n",
       "\n",
       "    .dataframe tbody tr th {\n",
       "        vertical-align: top;\n",
       "    }\n",
       "\n",
       "    .dataframe thead th {\n",
       "        text-align: right;\n",
       "    }\n",
       "</style>\n",
       "<table border=\"1\" class=\"dataframe\">\n",
       "  <thead>\n",
       "    <tr style=\"text-align: right;\">\n",
       "      <th></th>\n",
       "      <th>Canzone</th>\n",
       "      <th>Autore</th>\n",
       "    </tr>\n",
       "  </thead>\n",
       "  <tbody>\n",
       "    <tr>\n",
       "      <th>0</th>\n",
       "      <td>Grazie dei fiori</td>\n",
       "      <td>Gian Carlo Testoni e Mario Panzeri</td>\n",
       "    </tr>\n",
       "    <tr>\n",
       "      <th>1</th>\n",
       "      <td>La luna si veste d'argento</td>\n",
       "      <td>Biri</td>\n",
       "    </tr>\n",
       "    <tr>\n",
       "      <th>2</th>\n",
       "      <td>Serenata a nessuno</td>\n",
       "      <td>Walter Colì</td>\n",
       "    </tr>\n",
       "    <tr>\n",
       "      <th>3</th>\n",
       "      <td>Al mercato di Pizzighettone</td>\n",
       "      <td>Aldo Locatelli</td>\n",
       "    </tr>\n",
       "    <tr>\n",
       "      <th>4</th>\n",
       "      <td>Eco tra gli abeti</td>\n",
       "      <td>Enzo Bonagura</td>\n",
       "    </tr>\n",
       "    <tr>\n",
       "      <th>...</th>\n",
       "      <td>...</td>\n",
       "      <td>...</td>\n",
       "    </tr>\n",
       "    <tr>\n",
       "      <th>2558</th>\n",
       "      <td>Stupido</td>\n",
       "      <td>S. Cremonini e A. Pugliese</td>\n",
       "    </tr>\n",
       "    <tr>\n",
       "      <th>2559</th>\n",
       "      <td>Egoista</td>\n",
       "      <td>Shari</td>\n",
       "    </tr>\n",
       "    <tr>\n",
       "      <th>2560</th>\n",
       "      <td>Egoista</td>\n",
       "      <td>M. Pisciottu</td>\n",
       "    </tr>\n",
       "    <tr>\n",
       "      <th>2561</th>\n",
       "      <td>Egoista</td>\n",
       "      <td>L. Fenudi e R. Puddu</td>\n",
       "    </tr>\n",
       "    <tr>\n",
       "      <th>2562</th>\n",
       "      <td>Cause perse</td>\n",
       "      <td>M. De Lauri e G. De Lauri</td>\n",
       "    </tr>\n",
       "  </tbody>\n",
       "</table>\n",
       "<p>2563 rows × 2 columns</p>\n",
       "</div>"
      ],
      "text/plain": [
       "                          Canzone                              Autore\n",
       "0                Grazie dei fiori  Gian Carlo Testoni e Mario Panzeri\n",
       "1      La luna si veste d'argento                                Biri\n",
       "2              Serenata a nessuno                         Walter Colì\n",
       "3     Al mercato di Pizzighettone                      Aldo Locatelli\n",
       "4               Eco tra gli abeti                       Enzo Bonagura\n",
       "...                           ...                                 ...\n",
       "2558                      Stupido          S. Cremonini e A. Pugliese\n",
       "2559                      Egoista                               Shari\n",
       "2560                      Egoista                        M. Pisciottu\n",
       "2561                      Egoista                L. Fenudi e R. Puddu\n",
       "2562                  Cause perse           M. De Lauri e G. De Lauri\n",
       "\n",
       "[2563 rows x 2 columns]"
      ]
     },
     "execution_count": 6,
     "metadata": {},
     "output_type": "execute_result"
    }
   ],
   "source": [
    "df_associazioni"
   ]
  },
  {
   "cell_type": "code",
   "execution_count": 8,
   "id": "f19b1c4c-48db-4cc0-9151-c33230e11dc2",
   "metadata": {},
   "outputs": [
    {
     "name": "stdout",
     "output_type": "stream",
     "text": [
      "                   Autore  Partecipazioni\n",
      "0  G. Morra e M. Fabrizio              14\n",
      "1              G. Bigazzi              12\n",
      "2                 D. Pace              12\n",
      "3          V. Pallavicini              11\n",
      "4                   Mogol              11\n",
      "5             R. Casalino              10\n",
      "6           L. Barbarossa               9\n",
      "7            F. Migliacci               8\n",
      "8            F. Silvestre               8\n",
      "9              T. Cutugno               8\n"
     ]
    }
   ],
   "source": [
    "# Rimuovi eventuali duplicati (es. stesso autore associato due volte alla stessa canzone)\n",
    "df_unici = df_associazioni.drop_duplicates()\n",
    "\n",
    "# Conta partecipazioni\n",
    "conteggio_autori = df_unici['Autore'].value_counts().reset_index()\n",
    "conteggio_autori.columns = ['Autore', 'Partecipazioni']\n",
    "\n",
    "# Visualizza i più ricorrenti\n",
    "print(conteggio_autori.head(10))\n"
   ]
  },
  {
   "cell_type": "code",
   "execution_count": 10,
   "id": "2fe337c2-55b4-489e-8275-085ee8e4c1a9",
   "metadata": {},
   "outputs": [],
   "source": [
    "conteggio_autori.to_excel(r'C:\\Users\\bocci\\OneDrive\\Desktop\\ESAME FINALE LOOKER STUDIO\\partecipazioni_autori.xlsx', index=False)\n"
   ]
  },
  {
   "cell_type": "code",
   "execution_count": 12,
   "id": "f7dd4513-ecd8-4773-b133-f7c78eb01512",
   "metadata": {},
   "outputs": [
    {
     "name": "stdout",
     "output_type": "stream",
     "text": [
      "                       Canzone              Autore\n",
      "0             Grazie dei fiori  Gian Carlo Testoni\n",
      "1             Grazie dei fiori       Mario Panzeri\n",
      "2   La luna si veste d'argento                Biri\n",
      "3           Serenata a nessuno         Walter Colì\n",
      "4  Al mercato di Pizzighettone      Aldo Locatelli\n"
     ]
    }
   ],
   "source": [
    "import pandas as pd\n",
    "import re\n",
    "\n",
    "# Percorso del file\n",
    "file_path = r'C:\\Users\\bocci\\OneDrive\\Desktop\\ESAME FINALE LOOKER STUDIO\\File Unico Sanremo.xlsx'\n",
    "\n",
    "# Carica il foglio originale\n",
    "df_classifica = pd.read_excel(file_path, sheet_name=\"Dati-classifica con genere\")\n",
    "\n",
    "# Lista per le righe espanse\n",
    "righe_espanse = []\n",
    "\n",
    "# Itera sulle righe del foglio\n",
    "for _, row in df_classifica.iterrows():\n",
    "    canzone = row['Canzone']\n",
    "    autori_raw = str(row['Autori']).strip()\n",
    "    \n",
    "    # Split con regex su: \" , \", \" - \", \" e \" (con spazi)\n",
    "    autori_splittati = re.split(r'\\s*,\\s*|\\s*-\\s*|\\s+e\\s+', autori_raw)\n",
    "    \n",
    "    # Rimuovi vuoti e spazi\n",
    "    autori_puliti = [autore.strip() for autore in autori_splittati if autore.strip()]\n",
    "    \n",
    "    # Aggiungi ciascun autore con la canzone corrispondente\n",
    "    for autore in autori_puliti:\n",
    "        righe_espanse.append({'Canzone': canzone, 'Autore': autore})\n",
    "\n",
    "# Crea il DataFrame espanso\n",
    "df_autori_espansi = pd.DataFrame(righe_espanse)\n",
    "\n",
    "# Visualizza esempio\n",
    "print(df_autori_espansi.head())\n",
    "\n",
    "# Salva per uso futuro\n",
    "df_autori_espansi.to_excel(r'C:\\Users\\bocci\\OneDrive\\Desktop\\ESAME FINALE LOOKER STUDIO\\Autori_Canzoni_Espansi.xlsx', index=False)\n"
   ]
  },
  {
   "cell_type": "markdown",
   "id": "f387196c-c762-42e6-91a8-a6ff8672b7c0",
   "metadata": {},
   "source": [
    "QUI MI RENDO CONTO CHE GLI AUTORI NON ERANO STATI ESPANSI CORRETTAMENTE (ME NE TROVAVO PIU DI UNO IN VARIE CELLE), QUINDI UTILIZZO DELIMITATORI PIU OTTIMIZZATI"
   ]
  },
  {
   "cell_type": "code",
   "execution_count": 14,
   "id": "7935d563-8601-457a-b409-44aab9a7621e",
   "metadata": {},
   "outputs": [
    {
     "name": "stdout",
     "output_type": "stream",
     "text": [
      "           Autore  Numero_partecipazioni\n",
      "0  V. Pallavicini                     48\n",
      "1           Mogol                     44\n",
      "2         D. Pace                     38\n",
      "3      M. Panzeri                     36\n",
      "4        A. Testa                     29\n",
      "5      G. Bigazzi                     29\n",
      "6     M. Fabrizio                     27\n",
      "7   L. Albertelli                     26\n",
      "8    F. Migliacci                     23\n",
      "9   G. C. Testoni                     19\n"
     ]
    }
   ],
   "source": [
    "import pandas as pd\n",
    "\n",
    "# Carica il file appena creato\n",
    "df_autori = pd.read_excel(r'C:\\Users\\bocci\\OneDrive\\Desktop\\ESAME FINALE LOOKER STUDIO\\Autori_Canzoni_Espansi.xlsx')\n",
    "\n",
    "# Conta le partecipazioni (numero di canzoni per autore)\n",
    "conteggio_autori = df_autori['Autore'].value_counts().reset_index()\n",
    "conteggio_autori.columns = ['Autore', 'Numero_partecipazioni']\n",
    "\n",
    "# Ordina in base al numero di partecipazioni\n",
    "conteggio_autori = conteggio_autori.sort_values(by='Numero_partecipazioni', ascending=False)\n",
    "\n",
    "# Mostra i primi risultati\n",
    "print(conteggio_autori.head(10))\n",
    "\n",
    "# Salva in un file Excel\n",
    "conteggio_autori.to_excel(r'C:\\Users\\bocci\\OneDrive\\Desktop\\ESAME FINALE LOOKER STUDIO\\Partecipazioni_per_autore.xlsx', index=False)\n"
   ]
  },
  {
   "cell_type": "markdown",
   "id": "d508614f-4c66-4f52-876c-da1f763ce00c",
   "metadata": {},
   "source": [
    "OTTIMIZZO ULTERIORMENTE I DELIMITATORI IN QUANTO MI SONO ACCORTO CHE ANCHE \"ED\" E' USATO COME DELIMITATORE"
   ]
  },
  {
   "cell_type": "markdown",
   "id": "7bb8bf7d-82d2-4319-8f7f-d42688c202c1",
   "metadata": {},
   "source": [
    "Ecco il codice completo unificato che:\n",
    "\n",
    "Legge il file Excel \"File Unico Sanremo.xlsx\" dal percorso indicato.\n",
    "\n",
    "Espande correttamente la colonna \"Autori\" in base a vari delimitatori (-, ,, e, ed).\n",
    "\n",
    "Crea un file con una riga per ogni autore e canzone.\n",
    "\n",
    "Conta quante volte ogni autore ha partecipato.\n",
    "\n",
    "Salva entrambi i file (espansi e conteggi) nella stessa cartella.\n",
    "\n",
    "Mostra messaggi finali di conferma."
   ]
  },
  {
   "cell_type": "code",
   "execution_count": 22,
   "id": "d61455ea-bd4b-4358-9ab3-18d4f8c7f685",
   "metadata": {},
   "outputs": [
    {
     "name": "stdout",
     "output_type": "stream",
     "text": [
      "✅ File 'Autori_Canzoni_Espansi.xlsx' generato correttamente.\n",
      "✅ File 'Partecipazioni_per_autore.xlsx' generato con successo.\n"
     ]
    }
   ],
   "source": [
    "import pandas as pd\n",
    "import re\n",
    "\n",
    "# Percorso del file Excel\n",
    "file_path = r\"C:\\Users\\bocci\\OneDrive\\Desktop\\ESAME FINALE LOOKER STUDIO\\File Unico Sanremo.xlsx\"\n",
    "\n",
    "# Leggi il foglio \"Dati-classifica con genere\"\n",
    "df = pd.read_excel(file_path, sheet_name=\"Dati-classifica con genere\")\n",
    "\n",
    "# Funzione per dividere stringhe complesse di autori\n",
    "def dividi_autori(testo):\n",
    "    if pd.isna(testo):\n",
    "        return []\n",
    "    # Divide per \"-\", \",\", \" e \", \" ed \", anche con spazi multipli\n",
    "    return [autore.strip() for autore in re.split(r'\\s*-\\s*|\\s*,\\s*|\\s+e\\s+|\\s+ed\\s+', str(testo)) if autore.strip()]\n",
    "\n",
    "# Lista per costruire il nuovo dataframe\n",
    "righe_espanse = []\n",
    "\n",
    "for _, row in df.iterrows():\n",
    "    canzone = row['Canzone']\n",
    "    autori = dividi_autori(row['Autori'])\n",
    "    for autore in autori:\n",
    "        righe_espanse.append({'Canzone': canzone, 'Autore': autore})\n",
    "\n",
    "# Crea dataframe espanso\n",
    "df_espanso = pd.DataFrame(righe_espanse)\n",
    "\n",
    "# Salva il file con autori espansi\n",
    "output_espansi = r\"C:\\Users\\bocci\\OneDrive\\Desktop\\ESAME FINALE LOOKER STUDIO\\Autori_Canzoni_Espansi.xlsx\"\n",
    "df_espanso.to_excel(output_espansi, index=False)\n",
    "\n",
    "# Calcola numero di partecipazioni per autore\n",
    "conteggi = df_espanso['Autore'].value_counts().reset_index()\n",
    "conteggi.columns = ['Autore', 'Numero_partecipazioni']\n",
    "conteggi = conteggi.sort_values(by='Numero_partecipazioni', ascending=False)\n",
    "\n",
    "# Salva il file dei conteggi\n",
    "output_conteggi = r\"C:\\Users\\bocci\\OneDrive\\Desktop\\ESAME FINALE LOOKER STUDIO\\Partecipazioni_per_autore.xlsx\"\n",
    "conteggi.to_excel(output_conteggi, index=False)\n",
    "\n",
    "# Messaggi finali\n",
    "print(\"✅ File 'Autori_Canzoni_Espansi.xlsx' generato correttamente.\")\n",
    "print(\"✅ File 'Partecipazioni_per_autore.xlsx' generato con successo.\")\n"
   ]
  },
  {
   "cell_type": "markdown",
   "id": "b17be982-6185-4a3f-ba94-c0aad5342851",
   "metadata": {},
   "source": [
    "AGGIUNGO ANCHE LE VARIE CANZONI CHE OGNI AUTORE HA PARTECIPATO A SCRIVERE"
   ]
  },
  {
   "cell_type": "code",
   "execution_count": 24,
   "id": "cc2bd9be-d8fb-47e7-8add-3fd1751c8f83",
   "metadata": {},
   "outputs": [
    {
     "name": "stdout",
     "output_type": "stream",
     "text": [
      "✅ File 'Autori_Canzoni_Espansi2.xlsx' aggiornato.\n",
      "✅ File 'Partecipazioni_per_autore2.xlsx' generato con elenco canzoni.\n"
     ]
    }
   ],
   "source": [
    "import pandas as pd\n",
    "import re\n",
    "\n",
    "# Percorso del file Excel\n",
    "file_path = r\"C:\\Users\\bocci\\OneDrive\\Desktop\\ESAME FINALE LOOKER STUDIO\\File Unico Sanremo.xlsx\"\n",
    "\n",
    "# Leggi il foglio \"Dati-classifica con genere\"\n",
    "df = pd.read_excel(file_path, sheet_name=\"Dati-classifica con genere\")\n",
    "\n",
    "# Funzione per dividere autori complessi\n",
    "def dividi_autori(testo):\n",
    "    if pd.isna(testo):\n",
    "        return []\n",
    "    return [autore.strip() for autore in re.split(r'\\s*-\\s*|\\s*,\\s*|\\s+e\\s+|\\s+ed\\s+', str(testo)) if autore.strip()]\n",
    "\n",
    "# Lista per costruire il nuovo dataframe espanso\n",
    "righe_espanse = []\n",
    "\n",
    "for _, row in df.iterrows():\n",
    "    canzone = row['Canzone']\n",
    "    autori = dividi_autori(row['Autori'])\n",
    "    for autore in autori:\n",
    "        righe_espanse.append({'Autore': autore, 'Canzone': canzone})\n",
    "\n",
    "# DataFrame espanso autore-canzone\n",
    "df_espanso = pd.DataFrame(righe_espanse)\n",
    "\n",
    "# Salva file espanso\n",
    "output_espansi = r\"C:\\Users\\bocci\\OneDrive\\Desktop\\ESAME FINALE LOOKER STUDIO\\Autori_Canzoni_Espansi2.xlsx\"\n",
    "df_espanso.to_excel(output_espansi, index=False)\n",
    "\n",
    "# Raggruppa per autore: conta e aggrega le canzoni\n",
    "conteggi = df_espanso.groupby('Autore').agg(\n",
    "    Numero_partecipazioni=('Canzone', 'count'),\n",
    "    Canzoni=('Canzone', lambda x: ', '.join(sorted(set(x))))\n",
    ").reset_index().sort_values(by='Numero_partecipazioni', ascending=False)\n",
    "\n",
    "# Salva file con conteggi e canzoni\n",
    "output_conteggi = r\"C:\\Users\\bocci\\OneDrive\\Desktop\\ESAME FINALE LOOKER STUDIO\\Partecipazioni_per_autore2.xlsx\"\n",
    "conteggi.to_excel(output_conteggi, index=False)\n",
    "\n",
    "# Messaggi finali\n",
    "print(\"✅ File 'Autori_Canzoni_Espansi2.xlsx' aggiornato.\")\n",
    "print(\"✅ File 'Partecipazioni_per_autore2.xlsx' generato con elenco canzoni.\")\n"
   ]
  },
  {
   "cell_type": "code",
   "execution_count": null,
   "id": "3c9126f4-be7d-417a-954f-6340ec612a1d",
   "metadata": {},
   "outputs": [],
   "source": []
  }
 ],
 "metadata": {
  "kernelspec": {
   "display_name": "Python [conda env:base] *",
   "language": "python",
   "name": "conda-base-py"
  },
  "language_info": {
   "codemirror_mode": {
    "name": "ipython",
    "version": 3
   },
   "file_extension": ".py",
   "mimetype": "text/x-python",
   "name": "python",
   "nbconvert_exporter": "python",
   "pygments_lexer": "ipython3",
   "version": "3.12.7"
  }
 },
 "nbformat": 4,
 "nbformat_minor": 5
}

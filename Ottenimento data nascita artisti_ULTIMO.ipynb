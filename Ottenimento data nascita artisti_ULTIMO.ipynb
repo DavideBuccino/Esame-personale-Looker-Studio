{
 "cells": [
  {
   "cell_type": "markdown",
   "id": "522b9f1e-4c63-4c58-a409-3048d53296fa",
   "metadata": {},
   "source": [
    "Prova più varianti del titolo Wikipedia, incluse quelle con:\n",
    "\n",
    "(cantante)\n",
    "\n",
    "(cantante XXXX)\n",
    "\n",
    "(rapper)\n",
    "\n",
    "(nome artista cantante italiano/italiana)\n",
    "\n",
    "(nome artista + range anni)\n",
    "(es. Elisa (cantante 1977), Giorgia (cantante 1971))\n",
    "\n",
    "✅ Riconosce pseudonimi e cerca la data anche nel nome reale.\n",
    "\n",
    "✅ Gestisce casi come:\n",
    "\n",
    "nata/o a [luogo] nel [anno]\n",
    "\n",
    "(luogo, giorno mese anno)\n",
    "\n",
    "nato/a il giorno mese anno\n",
    "\n",
    "✅ Restituisce 01/01/anno se trova almeno l’anno."
   ]
  },
  {
   "cell_type": "code",
   "execution_count": 3,
   "id": "e4b7bd53-5cbb-489f-9d3e-6439e2f0284e",
   "metadata": {},
   "outputs": [
    {
     "name": "stdout",
     "output_type": "stream",
     "text": [
      "🟨 Elaborazione: Achille Togliani\n",
      "🟨 Elaborazione: Oscar Carboni\n",
      "🟨 Elaborazione: Gino Latilla\n",
      "🟨 Elaborazione: Zucchero\n",
      "🟨 Elaborazione: Will\n",
      "🟨 Elaborazione: Virginio\n",
      "🟨 Elaborazione: Ultimo\n",
      "🟨 Elaborazione: Tricarico\n",
      "🟨 Elaborazione: Tiziano Orecchio\n",
      "🟨 Elaborazione: Stefano Tosi\n"
     ]
    },
    {
     "name": "stderr",
     "output_type": "stream",
     "text": [
      "Estrazione data individuale:   0%|          | 0/470 [00:00<?, ?it/s]D:\\bocci\\anaconda3\\Lib\\site-packages\\wikipedia\\wikipedia.py:389: GuessedAtParserWarning: No parser was explicitly specified, so I'm using the best available HTML parser for this system (\"lxml\"). This usually isn't a problem, but if you run this code on another system, or in a different virtual environment, it may use a different parser and behave differently.\n",
      "\n",
      "The code that caused this warning is on line 389 of the file D:\\bocci\\anaconda3\\Lib\\site-packages\\wikipedia\\wikipedia.py. To get rid of this warning, pass the additional argument 'features=\"lxml\"' to the BeautifulSoup constructor.\n",
      "\n",
      "  lis = BeautifulSoup(html).find_all('li')\n",
      "Estrazione data individuale:   1%|          | 4/470 [00:01<02:39,  2.92it/s]"
     ]
    },
    {
     "name": "stdout",
     "output_type": "stream",
     "text": [
      "⚠️ Nessuna data trovata per: Oscar Carboni\n",
      "🟨 Elaborazione: Ugo Molinari\n",
      "⚠️ Nessuna data trovata per: Virginio\n",
      "🟨 Elaborazione: Gianni Marzocchi\n",
      "⚠️ Nessuna data trovata per: Achille Togliani\n",
      "🟨 Elaborazione: Stefano Rosso\n",
      "⚠️ Nessuna data trovata per: Gino Latilla\n",
      "🟨 Elaborazione: Silvano Vittorio\n",
      "⚠️ Nessuna data trovata per: Tricarico\n",
      "🟨 Elaborazione: Sangiovanni\n"
     ]
    },
    {
     "name": "stderr",
     "output_type": "stream",
     "text": [
      "Estrazione data individuale:   1%|▏         | 6/470 [00:02<02:29,  3.09it/s]"
     ]
    },
    {
     "name": "stdout",
     "output_type": "stream",
     "text": [
      "⚠️ Nessuna data trovata per: Zucchero\n",
      "🟨 Elaborazione: Samuel\n",
      "🟨 Elaborazione: Roberto Carlos\n",
      "🔍 Pseudonimo rilevato, provo con vero nome: william busetti\n"
     ]
    },
    {
     "name": "stderr",
     "output_type": "stream",
     "text": [
      "Estrazione data individuale:   2%|▏         | 8/470 [00:03<02:45,  2.80it/s]"
     ]
    },
    {
     "name": "stdout",
     "output_type": "stream",
     "text": [
      "⚠️ Nessuna data trovata per: Ugo Molinari\n",
      "🟨 Elaborazione: Random\n",
      "⚠️ Nessuna data trovata per: Gianni Marzocchi\n",
      "🟨 Elaborazione: Rancore\n",
      "🔍 Pseudonimo rilevato, provo con vero nome: niccolò moriconi\n",
      "🔍 Pseudonimo rilevato, provo con vero nome: giovanni pietro damian\n"
     ]
    },
    {
     "name": "stderr",
     "output_type": "stream",
     "text": [
      "Estrazione data individuale:   2%|▏         | 10/470 [00:05<04:44,  1.62it/s]"
     ]
    },
    {
     "name": "stdout",
     "output_type": "stream",
     "text": [
      "🔍 Pseudonimo rilevato, provo con vero nome: samuel umberto romano\n",
      "⚠️ Nessuna data trovata per: Random\n",
      "🟨 Elaborazione: Pacifico\n"
     ]
    },
    {
     "name": "stderr",
     "output_type": "stream",
     "text": [
      "Estrazione data individuale:   2%|▏         | 11/470 [00:05<03:56,  1.94it/s]"
     ]
    },
    {
     "name": "stdout",
     "output_type": "stream",
     "text": [
      "⚠️ Nessuna data trovata per: Rancore\n",
      "🟨 Elaborazione: Orlando Johnson\n"
     ]
    },
    {
     "name": "stderr",
     "output_type": "stream",
     "text": [
      "Estrazione data individuale:   3%|▎         | 12/470 [00:06<04:07,  1.85it/s]"
     ]
    },
    {
     "name": "stdout",
     "output_type": "stream",
     "text": [
      "🟨 Elaborazione: Nicola Di Bari\n"
     ]
    },
    {
     "name": "stderr",
     "output_type": "stream",
     "text": [
      "Estrazione data individuale:   3%|▎         | 13/470 [00:06<04:44,  1.61it/s]"
     ]
    },
    {
     "name": "stdout",
     "output_type": "stream",
     "text": [
      "🟨 Elaborazione: Motta\n"
     ]
    },
    {
     "name": "stderr",
     "output_type": "stream",
     "text": [
      "Estrazione data individuale:   3%|▎         | 14/470 [00:07<04:38,  1.64it/s]"
     ]
    },
    {
     "name": "stdout",
     "output_type": "stream",
     "text": [
      "⚠️ Nessuna data trovata per: Pacifico\n",
      "🟨 Elaborazione: Moreno\n",
      "🔍 Pseudonimo rilevato, provo con vero nome: michele scommegna\n",
      "🔍 Pseudonimo rilevato, provo con vero nome: francesco motta\n",
      "🔍 Pseudonimo rilevato, provo con vero nome: moreno donadoni\n"
     ]
    },
    {
     "name": "stderr",
     "output_type": "stream",
     "text": [
      "Estrazione data individuale:   3%|▎         | 15/470 [00:47<1:24:17, 11.12s/it]"
     ]
    },
    {
     "name": "stdout",
     "output_type": "stream",
     "text": [
      "❌ Nessuna pagina trovata per: Tiziano Orecchio\n",
      "🟨 Elaborazione: Miko\n"
     ]
    },
    {
     "name": "stderr",
     "output_type": "stream",
     "text": [
      "Estrazione data individuale:   3%|▎         | 16/470 [00:48<1:04:05,  8.47s/it]"
     ]
    },
    {
     "name": "stdout",
     "output_type": "stream",
     "text": [
      "⚠️ Nessuna data trovata per: Miko\n",
      "🟨 Elaborazione: Michele\n"
     ]
    },
    {
     "name": "stderr",
     "output_type": "stream",
     "text": [
      "Estrazione data individuale:   4%|▎         | 17/470 [00:49<46:59,  6.22s/it]  "
     ]
    },
    {
     "name": "stdout",
     "output_type": "stream",
     "text": [
      "❌ Nessuna pagina trovata per: Silvano Vittorio\n",
      "🟨 Elaborazione: Massimo Abbate\n"
     ]
    },
    {
     "name": "stderr",
     "output_type": "stream",
     "text": [
      "Estrazione data individuale:   4%|▍         | 18/470 [00:49<33:52,  4.50s/it]"
     ]
    },
    {
     "name": "stdout",
     "output_type": "stream",
     "text": [
      "❌ Nessuna pagina trovata per: Stefano Rosso\n",
      "🟨 Elaborazione: Luca Cola\n",
      "🔍 Pseudonimo rilevato, provo con vero nome: michaela pa\n"
     ]
    },
    {
     "name": "stderr",
     "output_type": "stream",
     "text": [
      "Estrazione data individuale:   4%|▍         | 19/470 [00:51<27:40,  3.68s/it]"
     ]
    },
    {
     "name": "stdout",
     "output_type": "stream",
     "text": [
      "🟨 Elaborazione: Peppino Gagliardi\n"
     ]
    },
    {
     "name": "stderr",
     "output_type": "stream",
     "text": [
      "Estrazione data individuale:   4%|▍         | 20/470 [00:52<22:31,  3.00s/it]"
     ]
    },
    {
     "name": "stdout",
     "output_type": "stream",
     "text": [
      "🟨 Elaborazione: Gianni Morandi\n"
     ]
    },
    {
     "name": "stderr",
     "output_type": "stream",
     "text": [
      "Estrazione data individuale:   4%|▍         | 21/470 [00:53<16:27,  2.20s/it]"
     ]
    },
    {
     "name": "stdout",
     "output_type": "stream",
     "text": [
      "⚠️ Nessuna data trovata per: Peppino Gagliardi\n",
      "🟨 Elaborazione: Gianni Nazzaro\n"
     ]
    },
    {
     "name": "stderr",
     "output_type": "stream",
     "text": [
      "Estrazione data individuale:   5%|▍         | 22/470 [00:53<12:12,  1.64s/it]"
     ]
    },
    {
     "name": "stdout",
     "output_type": "stream",
     "text": [
      "🟨 Elaborazione: Lucio Dalla\n",
      "🔍 Pseudonimo rilevato, provo con vero nome: camucia\n",
      "🔍 Pseudonimo rilevato, provo con vero nome: buddy\n",
      "🔍 Pseudonimo rilevato, provo con vero nome: norisso\n"
     ]
    },
    {
     "name": "stderr",
     "output_type": "stream",
     "text": [
      "Estrazione data individuale:   5%|▍         | 23/470 [00:55<13:17,  1.78s/it]"
     ]
    },
    {
     "name": "stdout",
     "output_type": "stream",
     "text": [
      "🟨 Elaborazione: Domenico Modugno\n"
     ]
    },
    {
     "name": "stderr",
     "output_type": "stream",
     "text": [
      "Estrazione data individuale:   6%|▌         | 26/470 [00:56<06:41,  1.11it/s]"
     ]
    },
    {
     "name": "stdout",
     "output_type": "stream",
     "text": [
      "🟨 Elaborazione: Pino Donaggio\n",
      "⚠️ Nessuna data trovata per: Lucio Dalla\n",
      "🟨 Elaborazione: Fausto Leali\n",
      "🟨 Elaborazione: Tony Cucchiara\n"
     ]
    },
    {
     "name": "stderr",
     "output_type": "stream",
     "text": [
      "Estrazione data individuale:   6%|▌         | 28/470 [00:57<04:33,  1.62it/s]"
     ]
    },
    {
     "name": "stdout",
     "output_type": "stream",
     "text": [
      "🟨 Elaborazione: Bobby Solo\n",
      "🟨 Elaborazione: Peppino Di Capri\n"
     ]
    },
    {
     "name": "stderr",
     "output_type": "stream",
     "text": [
      "Estrazione data individuale:   6%|▌         | 29/470 [00:57<03:46,  1.94it/s]"
     ]
    },
    {
     "name": "stdout",
     "output_type": "stream",
     "text": [
      "🟨 Elaborazione: Roberto Vecchioni\n"
     ]
    },
    {
     "name": "stderr",
     "output_type": "stream",
     "text": [
      "Estrazione data individuale:   6%|▋         | 30/470 [00:58<04:40,  1.57it/s]"
     ]
    },
    {
     "name": "stdout",
     "output_type": "stream",
     "text": [
      "⚠️ Nessuna data trovata per: Tony Cucchiara\n",
      "🟨 Elaborazione: Umberto Balsamo\n",
      "🟨 Elaborazione: Memo Remigi\n"
     ]
    },
    {
     "name": "stderr",
     "output_type": "stream",
     "text": [
      "Estrazione data individuale:   7%|▋         | 32/470 [00:59<03:48,  1.92it/s]"
     ]
    },
    {
     "name": "stdout",
     "output_type": "stream",
     "text": [
      "🔍 Pseudonimo rilevato, provo con vero nome: roberto satti\n",
      "🟨 Elaborazione: Lionello\n",
      "🔍 Pseudonimo rilevato, provo con vero nome: sergente york e partecipando anche ai raduni enigmistici che vengono organizzati anno per anno\n",
      "🔍 Pseudonimo rilevato, provo con vero nome: giuseppe faiella\n"
     ]
    },
    {
     "name": "stderr",
     "output_type": "stream",
     "text": [
      "Estrazione data individuale:   7%|▋         | 33/470 [01:00<04:30,  1.62it/s]"
     ]
    },
    {
     "name": "stdout",
     "output_type": "stream",
     "text": [
      "🔍 Pseudonimo rilevato, provo con vero nome: bob nero\n",
      "🟨 Elaborazione: Sergio Endrigo\n"
     ]
    },
    {
     "name": "stderr",
     "output_type": "stream",
     "text": [
      "Estrazione data individuale:   7%|▋         | 34/470 [01:00<04:40,  1.56it/s]"
     ]
    },
    {
     "name": "stdout",
     "output_type": "stream",
     "text": [
      "⚠️ Nessuna data trovata per: Lionello\n",
      "🟨 Elaborazione: Christian De Sica\n"
     ]
    },
    {
     "name": "stderr",
     "output_type": "stream",
     "text": [
      "Estrazione data individuale:   7%|▋         | 35/470 [01:02<05:47,  1.25it/s]"
     ]
    },
    {
     "name": "stdout",
     "output_type": "stream",
     "text": [
      "🟨 Elaborazione: Alberto Feri\n"
     ]
    },
    {
     "name": "stderr",
     "output_type": "stream",
     "text": [
      "Estrazione data individuale:   8%|▊         | 36/470 [01:02<05:19,  1.36it/s]"
     ]
    },
    {
     "name": "stdout",
     "output_type": "stream",
     "text": [
      "🟨 Elaborazione: Junior Magli\n"
     ]
    },
    {
     "name": "stderr",
     "output_type": "stream",
     "text": [
      "Estrazione data individuale:   8%|▊         | 37/470 [01:03<05:59,  1.20it/s]"
     ]
    },
    {
     "name": "stdout",
     "output_type": "stream",
     "text": [
      "⚠️ Nessuna data trovata per: Alberto Feri\n",
      "🟨 Elaborazione: Drupi\n",
      "🔍 Pseudonimo rilevato, provo con vero nome: luigi pazzaglini\n",
      "🔍 Pseudonimo rilevato, provo con vero nome: giampiero anelli\n"
     ]
    },
    {
     "name": "stderr",
     "output_type": "stream",
     "text": [
      "Estrazione data individuale:   8%|▊         | 38/470 [01:37<1:13:39, 10.23s/it]"
     ]
    },
    {
     "name": "stdout",
     "output_type": "stream",
     "text": [
      "❌ Nessuna pagina trovata per: Massimo Abbate\n",
      "🟨 Elaborazione: Toni Santagata\n"
     ]
    },
    {
     "name": "stderr",
     "output_type": "stream",
     "text": [
      "Estrazione data individuale:   8%|▊         | 39/470 [01:37<52:47,  7.35s/it]  "
     ]
    },
    {
     "name": "stdout",
     "output_type": "stream",
     "text": [
      "❌ Nessuna pagina trovata per: Luca Cola\n",
      "🟨 Elaborazione: Al Bano\n"
     ]
    },
    {
     "name": "stderr",
     "output_type": "stream",
     "text": [
      "Estrazione data individuale:   9%|▊         | 40/470 [01:38<38:36,  5.39s/it]"
     ]
    },
    {
     "name": "stdout",
     "output_type": "stream",
     "text": [
      "⚠️ Nessuna data trovata per: Michele\n",
      "🟨 Elaborazione: Mino Reitano\n",
      "🔍 Pseudonimo rilevato, provo con vero nome: antonio morese\n",
      "🔍 Pseudonimo rilevato, provo con vero nome: albano carrisi\n"
     ]
    },
    {
     "name": "stderr",
     "output_type": "stream",
     "text": [
      "Estrazione data individuale:   9%|▊         | 41/470 [01:40<30:51,  4.32s/it]"
     ]
    },
    {
     "name": "stdout",
     "output_type": "stream",
     "text": [
      "⚠️ Nessuna data trovata per: Mino Reitano\n",
      "🟨 Elaborazione: Little Tony\n",
      "🔍 Pseudonimo rilevato, provo con vero nome: antonio ciacci\n"
     ]
    },
    {
     "name": "stderr",
     "output_type": "stream",
     "text": [
      "Estrazione data individuale:   9%|▉         | 42/470 [01:44<31:19,  4.39s/it]"
     ]
    },
    {
     "name": "stdout",
     "output_type": "stream",
     "text": [
      "⚠️ Nessuna data trovata per: Gianni Nazzaro\n",
      "🟨 Elaborazione: Kambiz\n"
     ]
    },
    {
     "name": "stderr",
     "output_type": "stream",
     "text": [
      "Estrazione data individuale:   9%|▉         | 43/470 [01:47<27:34,  3.88s/it]"
     ]
    },
    {
     "name": "stdout",
     "output_type": "stream",
     "text": [
      "🟨 Elaborazione: Riccardo Fogli\n"
     ]
    },
    {
     "name": "stderr",
     "output_type": "stream",
     "text": [
      "Estrazione data individuale:   9%|▉         | 44/470 [01:47<20:08,  2.84s/it]"
     ]
    },
    {
     "name": "stdout",
     "output_type": "stream",
     "text": [
      "🟨 Elaborazione: Franco Simone🟨 Elaborazione: Piero Focaccia\n",
      "\n"
     ]
    },
    {
     "name": "stderr",
     "output_type": "stream",
     "text": [
      "Estrazione data individuale:  10%|▉         | 46/470 [01:48<11:38,  1.65s/it]"
     ]
    },
    {
     "name": "stdout",
     "output_type": "stream",
     "text": [
      "🟨 Elaborazione: Eugenio Alberti\n"
     ]
    },
    {
     "name": "stderr",
     "output_type": "stream",
     "text": [
      "Estrazione data individuale:  10%|█         | 47/470 [01:48<10:00,  1.42s/it]"
     ]
    },
    {
     "name": "stdout",
     "output_type": "stream",
     "text": [
      "🟨 Elaborazione: Piero Cotto\n"
     ]
    },
    {
     "name": "stderr",
     "output_type": "stream",
     "text": [
      "Estrazione data individuale:  10%|█         | 48/470 [01:49<08:14,  1.17s/it]"
     ]
    },
    {
     "name": "stdout",
     "output_type": "stream",
     "text": [
      "🟨 Elaborazione: Henry Freis\n",
      "🟨 Elaborazione: Jean-François Michael\n"
     ]
    },
    {
     "name": "stderr",
     "output_type": "stream",
     "text": [
      "Estrazione data individuale:  11%|█         | 50/470 [01:49<05:25,  1.29it/s]"
     ]
    },
    {
     "name": "stdout",
     "output_type": "stream",
     "text": [
      "🟨 Elaborazione: Lorenzo Pilat\n"
     ]
    },
    {
     "name": "stderr",
     "output_type": "stream",
     "text": [
      "Estrazione data individuale:  11%|█         | 51/470 [01:50<05:24,  1.29it/s]"
     ]
    },
    {
     "name": "stdout",
     "output_type": "stream",
     "text": [
      "🟨 Elaborazione: Paola Folzini\n",
      "🔍 Pseudonimo rilevato, provo con vero nome: yves roze\n",
      "🔍 Pseudonimo rilevato, provo con vero nome: pilade\n"
     ]
    },
    {
     "name": "stderr",
     "output_type": "stream",
     "text": [
      "Estrazione data individuale:  11%|█▏        | 53/470 [01:52<05:33,  1.25it/s]"
     ]
    },
    {
     "name": "stdout",
     "output_type": "stream",
     "text": [
      "🟨 Elaborazione: Goffredo Canarini\n",
      "🟨 Elaborazione: Sandro Giacobbe\n",
      "⚠️ Nessuna data trovata per: Junior Magli\n",
      "🟨 Elaborazione: Paolo Frescura\n"
     ]
    },
    {
     "name": "stderr",
     "output_type": "stream",
     "text": [
      "Estrazione data individuale:  12%|█▏        | 56/470 [01:54<04:16,  1.62it/s]"
     ]
    },
    {
     "name": "stdout",
     "output_type": "stream",
     "text": [
      "⚠️ Nessuna data trovata per: Goffredo Canarini\n",
      "🟨 Elaborazione: Carlo Gigli\n",
      "🟨 Elaborazione: Daniel Sentacruz Ensemble\n"
     ]
    },
    {
     "name": "stderr",
     "output_type": "stream",
     "text": [
      "Estrazione data individuale:  12%|█▏        | 57/470 [01:54<03:26,  2.00it/s]"
     ]
    },
    {
     "name": "stdout",
     "output_type": "stream",
     "text": [
      "🟨 Elaborazione: Patrizio Sandrelli\n"
     ]
    },
    {
     "name": "stderr",
     "output_type": "stream",
     "text": [
      "Estrazione data individuale:  12%|█▏        | 58/470 [01:54<02:55,  2.34it/s]"
     ]
    },
    {
     "name": "stdout",
     "output_type": "stream",
     "text": [
      "🟨 Elaborazione: Santino Rocchetti\n"
     ]
    },
    {
     "name": "stderr",
     "output_type": "stream",
     "text": [
      "Estrazione data individuale:  13%|█▎        | 60/470 [01:55<03:14,  2.11it/s]"
     ]
    },
    {
     "name": "stdout",
     "output_type": "stream",
     "text": [
      "🟨 Elaborazione: Antonio Buonomo\n",
      "⚠️ Nessuna data trovata per: Daniel Sentacruz Ensemble\n",
      "🟨 Elaborazione: Leano Morelli\n"
     ]
    },
    {
     "name": "stderr",
     "output_type": "stream",
     "text": [
      "Estrazione data individuale:  13%|█▎        | 61/470 [01:55<02:39,  2.57it/s]"
     ]
    },
    {
     "name": "stdout",
     "output_type": "stream",
     "text": [
      "🟨 Elaborazione: Umberto Lupi\n"
     ]
    },
    {
     "name": "stderr",
     "output_type": "stream",
     "text": [
      "Estrazione data individuale:  13%|█▎        | 62/470 [01:56<02:28,  2.75it/s]"
     ]
    },
    {
     "name": "stdout",
     "output_type": "stream",
     "text": [
      "🟨 Elaborazione: Ezio Maria Picciotta\n"
     ]
    },
    {
     "name": "stderr",
     "output_type": "stream",
     "text": [
      "Estrazione data individuale:  14%|█▎        | 64/470 [01:57<02:46,  2.44it/s]"
     ]
    },
    {
     "name": "stdout",
     "output_type": "stream",
     "text": [
      "🟨 Elaborazione: Umberto Napolitano\n",
      "⚠️ Nessuna data trovata per: Leano Morelli\n",
      "🟨 Elaborazione: Daniela Davoli\n"
     ]
    },
    {
     "name": "stderr",
     "output_type": "stream",
     "text": [
      "Estrazione data individuale:  14%|█▍        | 65/470 [01:57<02:14,  3.01it/s]"
     ]
    },
    {
     "name": "stdout",
     "output_type": "stream",
     "text": [
      "🟨 Elaborazione: Rino Gaetano\n"
     ]
    },
    {
     "name": "stderr",
     "output_type": "stream",
     "text": [
      "Estrazione data individuale:  14%|█▍        | 66/470 [01:57<02:15,  2.99it/s]"
     ]
    },
    {
     "name": "stdout",
     "output_type": "stream",
     "text": [
      "🟨 Elaborazione: Ciro Sebastianelli\n"
     ]
    },
    {
     "name": "stderr",
     "output_type": "stream",
     "text": [
      "Estrazione data individuale:  14%|█▍        | 68/470 [01:58<02:41,  2.49it/s]"
     ]
    },
    {
     "name": "stdout",
     "output_type": "stream",
     "text": [
      "🟨 Elaborazione: Anselmo Genovese\n",
      "🟨 Elaborazione: Donato Ciletti\n",
      "🔍 Pseudonimo rilevato, provo con vero nome: kammamuri's\n",
      "🔍 Pseudonimo rilevato, provo con vero nome: gilberto sebastianelli\n"
     ]
    },
    {
     "name": "stderr",
     "output_type": "stream",
     "text": [
      "Estrazione data individuale:  15%|█▍        | 70/470 [02:00<03:38,  1.83it/s]"
     ]
    },
    {
     "name": "stdout",
     "output_type": "stream",
     "text": [
      "🟨 Elaborazione: Roberto Carrino\n",
      "⚠️ Nessuna data trovata per: Donato Ciletti\n",
      "🟨 Elaborazione: Marco Ferradini\n"
     ]
    },
    {
     "name": "stderr",
     "output_type": "stream",
     "text": [
      "Estrazione data individuale:  15%|█▌        | 72/470 [02:02<04:05,  1.62it/s]"
     ]
    },
    {
     "name": "stdout",
     "output_type": "stream",
     "text": [
      "🟨 Elaborazione: Mino Vergnaghi\n",
      "🟨 Elaborazione: Enzo Carella\n"
     ]
    },
    {
     "name": "stderr",
     "output_type": "stream",
     "text": [
      "Estrazione data individuale:  16%|█▌        | 74/470 [02:03<04:14,  1.55it/s]"
     ]
    },
    {
     "name": "stdout",
     "output_type": "stream",
     "text": [
      "🟨 Elaborazione: Enrico Beruschi\n",
      "⚠️ Nessuna data trovata per: Enzo Carella\n",
      "🟨 Elaborazione: Franco Fanigliulo\n"
     ]
    },
    {
     "name": "stderr",
     "output_type": "stream",
     "text": [
      "Estrazione data individuale:  16%|█▌        | 75/470 [02:04<05:45,  1.14it/s]"
     ]
    },
    {
     "name": "stdout",
     "output_type": "stream",
     "text": [
      "🟨 Elaborazione: Gianni Migliardi\n"
     ]
    },
    {
     "name": "stderr",
     "output_type": "stream",
     "text": [
      "Estrazione data individuale:  16%|█▌        | 76/470 [02:05<04:29,  1.46it/s]"
     ]
    },
    {
     "name": "stdout",
     "output_type": "stream",
     "text": [
      "⚠️ Nessuna data trovata per: Franco Fanigliulo\n",
      "🟨 Elaborazione: Michele Vicino\n"
     ]
    },
    {
     "name": "stderr",
     "output_type": "stream",
     "text": [
      "Estrazione data individuale:  16%|█▋        | 77/470 [02:06<06:22,  1.03it/s]"
     ]
    },
    {
     "name": "stdout",
     "output_type": "stream",
     "text": [
      "🟨 Elaborazione: Gianni Mocchetti\n"
     ]
    },
    {
     "name": "stderr",
     "output_type": "stream",
     "text": [
      "Estrazione data individuale:  17%|█▋        | 78/470 [02:08<07:32,  1.16s/it]"
     ]
    },
    {
     "name": "stdout",
     "output_type": "stream",
     "text": [
      "⚠️ Nessuna data trovata per: Gianni Mocchetti\n",
      "🟨 Elaborazione: Toto Cutugno\n"
     ]
    },
    {
     "name": "stderr",
     "output_type": "stream",
     "text": [
      "Estrazione data individuale:  17%|█▋        | 79/470 [02:10<08:24,  1.29s/it]"
     ]
    },
    {
     "name": "stdout",
     "output_type": "stream",
     "text": [
      "⚠️ Nessuna data trovata per: Toto Cutugno\n",
      "🟨 Elaborazione: Enzo Malepasso\n"
     ]
    },
    {
     "name": "stderr",
     "output_type": "stream",
     "text": [
      "Estrazione data individuale:  17%|█▋        | 80/470 [02:11<09:09,  1.41s/it]"
     ]
    },
    {
     "name": "stdout",
     "output_type": "stream",
     "text": [
      "⚠️ Nessuna data trovata per: Enzo Malepasso\n",
      "🟨 Elaborazione: Pupo\n",
      "🔍 Pseudonimo rilevato, provo con vero nome: enzo ghinazzi\n"
     ]
    },
    {
     "name": "stderr",
     "output_type": "stream",
     "text": [
      "Estrazione data individuale:  17%|█▋        | 81/470 [02:27<36:49,  5.68s/it]"
     ]
    },
    {
     "name": "stdout",
     "output_type": "stream",
     "text": [
      "⚠️ Nessuna data trovata per: Toni Santagata\n",
      "🟨 Elaborazione: Leroy Gomez\n"
     ]
    },
    {
     "name": "stderr",
     "output_type": "stream",
     "text": [
      "Estrazione data individuale:  17%|█▋        | 82/470 [02:29<29:06,  4.50s/it]"
     ]
    },
    {
     "name": "stdout",
     "output_type": "stream",
     "text": [
      "🟨 Elaborazione: Paolo Riviera\n",
      "🔍 Pseudonimo rilevato, provo con vero nome: riccardo aglietti\n"
     ]
    },
    {
     "name": "stderr",
     "output_type": "stream",
     "text": [
      "Estrazione data individuale:  18%|█▊        | 83/470 [02:32<27:25,  4.25s/it]"
     ]
    },
    {
     "name": "stdout",
     "output_type": "stream",
     "text": [
      "❌ Nessuna pagina trovata per: Kambiz\n",
      "🟨 Elaborazione: Francesco Magni\n"
     ]
    },
    {
     "name": "stderr",
     "output_type": "stream",
     "text": [
      "Estrazione data individuale:  18%|█▊        | 84/470 [02:34<22:06,  3.44s/it]"
     ]
    },
    {
     "name": "stdout",
     "output_type": "stream",
     "text": [
      "⚠️ Nessuna data trovata per: Francesco Magni\n",
      "🟨 Elaborazione: Aldo Donati\n"
     ]
    },
    {
     "name": "stderr",
     "output_type": "stream",
     "text": [
      "Estrazione data individuale:  18%|█▊        | 85/470 [02:34<16:08,  2.52s/it]"
     ]
    },
    {
     "name": "stdout",
     "output_type": "stream",
     "text": [
      "🟨 Elaborazione: Bruno D'Andrea\n",
      "🔍 Pseudonimo rilevato, provo con vero nome: bruno noli\n"
     ]
    },
    {
     "name": "stderr",
     "output_type": "stream",
     "text": [
      "Estrazione data individuale:  18%|█▊        | 86/470 [02:37<15:55,  2.49s/it]"
     ]
    },
    {
     "name": "stdout",
     "output_type": "stream",
     "text": [
      "⚠️ Nessuna data trovata per: Aldo Donati\n",
      "🟨 Elaborazione: Alberto Cheli\n"
     ]
    },
    {
     "name": "stderr",
     "output_type": "stream",
     "text": [
      "Estrazione data individuale:  19%|█▊        | 87/470 [02:38<14:11,  2.22s/it]"
     ]
    },
    {
     "name": "stdout",
     "output_type": "stream",
     "text": [
      "🟨 Elaborazione: Rimmel\n"
     ]
    },
    {
     "name": "stderr",
     "output_type": "stream",
     "text": [
      "Estrazione data individuale:  19%|█▉        | 89/470 [02:39<09:04,  1.43s/it]"
     ]
    },
    {
     "name": "stdout",
     "output_type": "stream",
     "text": [
      "🟨 Elaborazione: Gianfranco De Angelis\n"
     ]
    },
    {
     "name": "stderr",
     "output_type": "stream",
     "text": [
      "Estrazione data individuale:  19%|█▉        | 90/470 [02:41<09:13,  1.46s/it]"
     ]
    },
    {
     "name": "stdout",
     "output_type": "stream",
     "text": [
      "🟨 Elaborazione: Dario Baldan Bembo\n"
     ]
    },
    {
     "name": "stderr",
     "output_type": "stream",
     "text": [
      "Estrazione data individuale:  19%|█▉        | 91/470 [02:42<09:24,  1.49s/it]"
     ]
    },
    {
     "name": "stdout",
     "output_type": "stream",
     "text": [
      "🟨 Elaborazione: Luca Barbarossa\n"
     ]
    },
    {
     "name": "stderr",
     "output_type": "stream",
     "text": [
      "Estrazione data individuale:  20%|█▉        | 92/470 [02:44<09:36,  1.53s/it]"
     ]
    },
    {
     "name": "stdout",
     "output_type": "stream",
     "text": [
      "🟨 Elaborazione: Paolo Barabani\n"
     ]
    },
    {
     "name": "stderr",
     "output_type": "stream",
     "text": [
      "Estrazione data individuale:  20%|█▉        | 93/470 [02:46<09:42,  1.55s/it]"
     ]
    },
    {
     "name": "stdout",
     "output_type": "stream",
     "text": [
      "🟨 Elaborazione: Michele Zarrillo\n"
     ]
    },
    {
     "name": "stderr",
     "output_type": "stream",
     "text": [
      "Estrazione data individuale:  20%|██        | 94/470 [02:46<08:31,  1.36s/it]"
     ]
    },
    {
     "name": "stdout",
     "output_type": "stream",
     "text": [
      "⚠️ Nessuna data trovata per: Rino Gaetano\n",
      "🟨 Elaborazione: Eduardo De Crescenzo\n"
     ]
    },
    {
     "name": "stderr",
     "output_type": "stream",
     "text": [
      "Estrazione data individuale:  20%|██        | 95/470 [02:48<09:00,  1.44s/it]"
     ]
    },
    {
     "name": "stdout",
     "output_type": "stream",
     "text": [
      "🟨 Elaborazione: Sterling Saint-Jacques\n"
     ]
    },
    {
     "name": "stderr",
     "output_type": "stream",
     "text": [
      "Estrazione data individuale:  20%|██        | 96/470 [02:50<09:01,  1.45s/it]"
     ]
    },
    {
     "name": "stdout",
     "output_type": "stream",
     "text": [
      "⚠️ Nessuna data trovata per: Little Tony\n",
      "🟨 Elaborazione: Gianni Bella\n"
     ]
    },
    {
     "name": "stderr",
     "output_type": "stream",
     "text": [
      "Estrazione data individuale:  21%|██        | 97/470 [02:51<09:17,  1.50s/it]"
     ]
    },
    {
     "name": "stdout",
     "output_type": "stream",
     "text": [
      "🟨 Elaborazione: Sebastiano Occhino\n"
     ]
    },
    {
     "name": "stderr",
     "output_type": "stream",
     "text": [
      "Estrazione data individuale:  21%|██        | 98/470 [02:53<09:15,  1.49s/it]"
     ]
    },
    {
     "name": "stdout",
     "output_type": "stream",
     "text": [
      "⚠️ Nessuna data trovata per: Sebastiano Occhino\n",
      "🟨 Elaborazione: Tom Hooker\n"
     ]
    },
    {
     "name": "stderr",
     "output_type": "stream",
     "text": [
      "Estrazione data individuale:  21%|██        | 99/470 [02:53<07:30,  1.22s/it]"
     ]
    },
    {
     "name": "stdout",
     "output_type": "stream",
     "text": [
      "⚠️ Nessuna data trovata per: Sterling Saint-Jacques\n",
      "🟨 Elaborazione: Domenico Mattia\n"
     ]
    },
    {
     "name": "stderr",
     "output_type": "stream",
     "text": [
      "Estrazione data individuale:  21%|██▏       | 100/470 [02:54<06:57,  1.13s/it]"
     ]
    },
    {
     "name": "stdout",
     "output_type": "stream",
     "text": [
      "🟨 Elaborazione: Franco Fasano\n",
      "🔍 Pseudonimo rilevato, provo con vero nome: thomas beecher hooker\n"
     ]
    },
    {
     "name": "stderr",
     "output_type": "stream",
     "text": [
      "Estrazione data individuale:  21%|██▏       | 101/470 [02:55<05:58,  1.03it/s]"
     ]
    },
    {
     "name": "stdout",
     "output_type": "stream",
     "text": [
      "⚠️ Nessuna data trovata per: Domenico Mattia\n",
      "🟨 Elaborazione: Giuseppe Cionfoli\n",
      "🔍 Pseudonimo rilevato, provo con vero nome: gianfranco fasano\n"
     ]
    },
    {
     "name": "stderr",
     "output_type": "stream",
     "text": [
      "Estrazione data individuale:  22%|██▏       | 102/470 [02:56<06:54,  1.13s/it]"
     ]
    },
    {
     "name": "stdout",
     "output_type": "stream",
     "text": [
      "🟨 Elaborazione: Jimmy Fontana\n"
     ]
    },
    {
     "name": "stderr",
     "output_type": "stream",
     "text": [
      "Estrazione data individuale:  22%|██▏       | 103/470 [02:58<07:43,  1.26s/it]"
     ]
    },
    {
     "name": "stdout",
     "output_type": "stream",
     "text": [
      "❌ Nessuna pagina trovata per: Henry Freis\n",
      "🟨 Elaborazione: Stefano Sani\n"
     ]
    },
    {
     "name": "stderr",
     "output_type": "stream",
     "text": [
      "Estrazione data individuale:  22%|██▏       | 104/470 [02:59<08:14,  1.35s/it]"
     ]
    },
    {
     "name": "stdout",
     "output_type": "stream",
     "text": [
      "🟨 Elaborazione: Riccardo Del Turco\n"
     ]
    },
    {
     "name": "stderr",
     "output_type": "stream",
     "text": [
      "Estrazione data individuale:  22%|██▏       | 105/470 [03:01<08:34,  1.41s/it]"
     ]
    },
    {
     "name": "stdout",
     "output_type": "stream",
     "text": [
      "🔍 Pseudonimo rilevato, provo con vero nome: enrico sbriccoli\n",
      "🟨 Elaborazione: Plastic Bertrand\n",
      "🔍 Pseudonimo rilevato, provo con vero nome: roger allen fran\n"
     ]
    },
    {
     "name": "stderr",
     "output_type": "stream",
     "text": [
      "Estrazione data individuale:  23%|██▎       | 106/470 [03:13<28:08,  4.64s/it]"
     ]
    },
    {
     "name": "stdout",
     "output_type": "stream",
     "text": [
      "❌ Nessuna pagina trovata per: Gianni Migliardi\n",
      "🟨 Elaborazione: Mal\n",
      "🔍 Pseudonimo rilevato, provo con vero nome: paul bradley couling\n"
     ]
    },
    {
     "name": "stderr",
     "output_type": "stream",
     "text": [
      "Estrazione data individuale:  23%|██▎       | 107/470 [03:17<26:20,  4.35s/it]"
     ]
    },
    {
     "name": "stdout",
     "output_type": "stream",
     "text": [
      "⚠️ Nessuna data trovata per: Ciro Sebastianelli\n",
      "🟨 Elaborazione: Mario Castelnuovo\n"
     ]
    },
    {
     "name": "stderr",
     "output_type": "stream",
     "text": [
      "Estrazione data individuale:  23%|██▎       | 108/470 [03:19<22:56,  3.80s/it]"
     ]
    },
    {
     "name": "stdout",
     "output_type": "stream",
     "text": [
      "🟨 Elaborazione: Roberto Soffici\n"
     ]
    },
    {
     "name": "stderr",
     "output_type": "stream",
     "text": [
      "Estrazione data individuale:  23%|██▎       | 109/470 [03:21<18:50,  3.13s/it]"
     ]
    },
    {
     "name": "stdout",
     "output_type": "stream",
     "text": [
      "🟨 Elaborazione: Vasco Rossi\n"
     ]
    },
    {
     "name": "stderr",
     "output_type": "stream",
     "text": [
      "Estrazione data individuale:  23%|██▎       | 110/470 [03:24<18:11,  3.03s/it]"
     ]
    },
    {
     "name": "stdout",
     "output_type": "stream",
     "text": [
      "🟨 Elaborazione: Rino Martinez\n"
     ]
    },
    {
     "name": "stderr",
     "output_type": "stream",
     "text": [
      "Estrazione data individuale:  24%|██▎       | 111/470 [03:25<15:24,  2.57s/it]"
     ]
    },
    {
     "name": "stdout",
     "output_type": "stream",
     "text": [
      "🟨 Elaborazione: Claudio Villa\n",
      "🔍 Pseudonimo rilevato, provo con vero nome: claudio pica\n"
     ]
    },
    {
     "name": "stderr",
     "output_type": "stream",
     "text": [
      "Estrazione data individuale:  24%|██▍       | 112/470 [03:40<37:34,  6.30s/it]"
     ]
    },
    {
     "name": "stdout",
     "output_type": "stream",
     "text": [
      "🟨 Elaborazione: Piero Cassano\n"
     ]
    },
    {
     "name": "stderr",
     "output_type": "stream",
     "text": [
      "Estrazione data individuale:  24%|██▍       | 113/470 [03:52<47:23,  7.97s/it]"
     ]
    },
    {
     "name": "stdout",
     "output_type": "stream",
     "text": [
      "⚠️ Nessuna data trovata per: Bruno D'Andrea\n",
      "🟨 Elaborazione: Marco Armani\n",
      "🔍 Pseudonimo rilevato, provo con vero nome: marco antonio armenise\n"
     ]
    },
    {
     "name": "stderr",
     "output_type": "stream",
     "text": [
      "Estrazione data individuale:  24%|██▍       | 114/470 [04:19<1:20:44, 13.61s/it]"
     ]
    },
    {
     "name": "stdout",
     "output_type": "stream",
     "text": [
      "⚠️ Nessuna data trovata per: Jimmy Fontana\n",
      "🟨 Elaborazione: Giorgia Fiorio\n"
     ]
    },
    {
     "name": "stderr",
     "output_type": "stream",
     "text": [
      "Estrazione data individuale:  24%|██▍       | 115/470 [04:38<1:30:47, 15.35s/it]"
     ]
    },
    {
     "name": "stdout",
     "output_type": "stream",
     "text": [
      "❌ Nessuna pagina trovata per: Rimmel\n",
      "🟨 Elaborazione: Bertín Osborne\n"
     ]
    },
    {
     "name": "stderr",
     "output_type": "stream",
     "text": [
      "Estrazione data individuale:  25%|██▍       | 116/470 [04:41<1:07:54, 11.51s/it]"
     ]
    },
    {
     "name": "stdout",
     "output_type": "stream",
     "text": [
      "🟨 Elaborazione: Riccardo Azzurri\n"
     ]
    },
    {
     "name": "stderr",
     "output_type": "stream",
     "text": [
      "Estrazione data individuale:  25%|██▍       | 117/470 [04:42<50:14,  8.54s/it]  "
     ]
    },
    {
     "name": "stdout",
     "output_type": "stream",
     "text": [
      "🟨 Elaborazione: Richard Sanderson\n"
     ]
    },
    {
     "name": "stderr",
     "output_type": "stream",
     "text": [
      "Estrazione data individuale:  25%|██▌       | 118/470 [04:44<37:54,  6.46s/it]"
     ]
    },
    {
     "name": "stdout",
     "output_type": "stream",
     "text": [
      "🟨 Elaborazione: Donatello\n"
     ]
    },
    {
     "name": "stderr",
     "output_type": "stream",
     "text": [
      "Estrazione data individuale:  25%|██▌       | 119/470 [04:46<29:30,  5.04s/it]"
     ]
    },
    {
     "name": "stdout",
     "output_type": "stream",
     "text": [
      "🟨 Elaborazione: Nino Buonocore\n"
     ]
    },
    {
     "name": "stderr",
     "output_type": "stream",
     "text": [
      "Estrazione data individuale:  26%|██▌       | 120/470 [04:47<22:18,  3.82s/it]"
     ]
    },
    {
     "name": "stdout",
     "output_type": "stream",
     "text": [
      "🟨 Elaborazione: Alessio Colombini\n"
     ]
    },
    {
     "name": "stderr",
     "output_type": "stream",
     "text": [
      "Estrazione data individuale:  26%|██▌       | 121/470 [04:48<18:20,  3.15s/it]"
     ]
    },
    {
     "name": "stdout",
     "output_type": "stream",
     "text": [
      "⚠️ Nessuna data trovata per: Alessio Colombini\n",
      "🟨 Elaborazione: Manuele Pepe\n",
      "🔍 Pseudonimo rilevato, provo con vero nome: marco ceramicola\n"
     ]
    },
    {
     "name": "stderr",
     "output_type": "stream",
     "text": [
      "Estrazione data individuale:  26%|██▌       | 122/470 [04:52<18:51,  3.25s/it]"
     ]
    },
    {
     "name": "stdout",
     "output_type": "stream",
     "text": [
      "🟨 Elaborazione: Amedeo Minghi\n"
     ]
    },
    {
     "name": "stderr",
     "output_type": "stream",
     "text": [
      "Estrazione data individuale:  26%|██▌       | 123/470 [04:53<15:57,  2.76s/it]"
     ]
    },
    {
     "name": "stdout",
     "output_type": "stream",
     "text": [
      "🟨 Elaborazione: Alberto Camerini\n"
     ]
    },
    {
     "name": "stderr",
     "output_type": "stream",
     "text": [
      "Estrazione data individuale:  26%|██▋       | 124/470 [04:55<13:55,  2.42s/it]"
     ]
    },
    {
     "name": "stdout",
     "output_type": "stream",
     "text": [
      "🟨 Elaborazione: Garbo\n",
      "🔍 Pseudonimo rilevato, provo con vero nome: renato abate\n"
     ]
    },
    {
     "name": "stderr",
     "output_type": "stream",
     "text": [
      "Estrazione data individuale:  27%|██▋       | 125/470 [05:08<32:04,  5.58s/it]"
     ]
    },
    {
     "name": "stdout",
     "output_type": "stream",
     "text": [
      "🟨 Elaborazione: Enrico Ruggeri\n",
      "❌ Errore durante Estrazione data individuale su: Nino Buonocore — HTTPSConnectionPool(host='it.wikipedia.org', port=443): Max retries exceeded with url: /w/api.php?prop=extracts%7Crevisions&explaintext=&rvprop=ids&titles=Nino+Buonocore&format=json&action=query (Caused by ConnectTimeoutError(<urllib3.connection.HTTPSConnection object at 0x0000015F9ADFF770>, 'Connection to it.wikipedia.org timed out. (connect timeout=None)'))\n"
     ]
    },
    {
     "name": "stderr",
     "output_type": "stream",
     "text": [
      "Estrazione data individuale:  27%|██▋       | 126/470 [05:30<1:00:24, 10.54s/it]"
     ]
    },
    {
     "name": "stdout",
     "output_type": "stream",
     "text": [
      "🟨 Elaborazione: Luis Miguel❌ Errore durante Estrazione data individuale su: Enrico Ruggeri — HTTPSConnectionPool(host='it.wikipedia.org', port=443): Max retries exceeded with url: /w/api.php?prop=extracts%7Crevisions&explaintext=&rvprop=ids&titles=Enrico+Ruggeri&format=json&action=query (Caused by ConnectTimeoutError(<urllib3.connection.HTTPSConnection object at 0x0000015F9B0A3A70>, 'Connection to it.wikipedia.org timed out. (connect timeout=None)'))\n",
      "\n"
     ]
    },
    {
     "name": "stderr",
     "output_type": "stream",
     "text": [
      "Estrazione data individuale:  27%|██▋       | 127/470 [05:33<47:05,  8.24s/it]  "
     ]
    },
    {
     "name": "stdout",
     "output_type": "stream",
     "text": [
      "🟨 Elaborazione: Eros Ramazzotti\n"
     ]
    },
    {
     "name": "stderr",
     "output_type": "stream",
     "text": [
      "Estrazione data individuale:  27%|██▋       | 128/470 [05:36<37:28,  6.58s/it]"
     ]
    },
    {
     "name": "stdout",
     "output_type": "stream",
     "text": [
      "🟨 Elaborazione: Ivan Graziani\n"
     ]
    },
    {
     "name": "stderr",
     "output_type": "stream",
     "text": [
      "Estrazione data individuale:  27%|██▋       | 129/470 [05:37<29:00,  5.10s/it]"
     ]
    },
    {
     "name": "stdout",
     "output_type": "stream",
     "text": [
      "⚠️ Nessuna data trovata per: Ivan Graziani\n",
      "🟨 Elaborazione: Eugenio Finardi\n"
     ]
    },
    {
     "name": "stderr",
     "output_type": "stream",
     "text": [
      "Estrazione data individuale:  28%|██▊       | 130/470 [05:40<24:43,  4.36s/it]"
     ]
    },
    {
     "name": "stdout",
     "output_type": "stream",
     "text": [
      "🟨 Elaborazione: Mimmo Locasciulli\n"
     ]
    },
    {
     "name": "stderr",
     "output_type": "stream",
     "text": [
      "Estrazione data individuale:  28%|██▊       | 131/470 [05:42<21:31,  3.81s/it]"
     ]
    },
    {
     "name": "stdout",
     "output_type": "stream",
     "text": [
      "🟨 Elaborazione: Renzo Arbore\n"
     ]
    },
    {
     "name": "stderr",
     "output_type": "stream",
     "text": [
      "Estrazione data individuale:  28%|██▊       | 132/470 [05:44<17:40,  3.14s/it]"
     ]
    },
    {
     "name": "stdout",
     "output_type": "stream",
     "text": [
      "🟨 Elaborazione: Nino D'Angelo\n"
     ]
    },
    {
     "name": "stderr",
     "output_type": "stream",
     "text": [
      "Estrazione data individuale:  28%|██▊       | 133/470 [05:46<15:08,  2.69s/it]"
     ]
    },
    {
     "name": "stdout",
     "output_type": "stream",
     "text": [
      "🟨 Elaborazione: Fred Bongusto\n"
     ]
    },
    {
     "name": "stderr",
     "output_type": "stream",
     "text": [
      "Estrazione data individuale:  29%|██▊       | 134/470 [05:53<22:30,  4.02s/it]"
     ]
    },
    {
     "name": "stdout",
     "output_type": "stream",
     "text": [
      "🟨 Elaborazione: Mango\n",
      "❌ Errore durante Estrazione data individuale su: Luis Miguel — HTTPSConnectionPool(host='it.wikipedia.org', port=443): Max retries exceeded with url: /w/api.php?prop=extracts&explaintext=&exintro=&titles=Luis+Miguel&format=json&action=query (Caused by ConnectTimeoutError(<urllib3.connection.HTTPSConnection object at 0x0000015F9B0637A0>, 'Connection to it.wikipedia.org timed out. (connect timeout=None)'))\n"
     ]
    },
    {
     "name": "stderr",
     "output_type": "stream",
     "text": [
      "Estrazione data individuale:  29%|██▊       | 135/470 [05:55<19:20,  3.47s/it]"
     ]
    },
    {
     "name": "stdout",
     "output_type": "stream",
     "text": [
      "⚠️ Nessuna data trovata per: Mango\n",
      "🟨 Elaborazione: Scialpi\n",
      "🔍 Pseudonimo rilevato, provo con vero nome: giovanni scialpi\n"
     ]
    },
    {
     "name": "stderr",
     "output_type": "stream",
     "text": [
      "Estrazione data individuale:  29%|██▉       | 136/470 [06:07<34:17,  6.16s/it]"
     ]
    },
    {
     "name": "stdout",
     "output_type": "stream",
     "text": [
      "🟨 Elaborazione: Tony Esposito\n",
      "❌ Errore durante Estrazione data individuale su: Fred Bongusto — HTTPSConnectionPool(host='it.wikipedia.org', port=443): Max retries exceeded with url: /w/api.php?prop=extracts&explaintext=&exintro=&titles=Fred+Bongusto&format=json&action=query (Caused by ConnectTimeoutError(<urllib3.connection.HTTPSConnection object at 0x0000015F9AE5A8A0>, 'Connection to it.wikipedia.org timed out. (connect timeout=None)'))\n"
     ]
    },
    {
     "name": "stderr",
     "output_type": "stream",
     "text": [
      "Estrazione data individuale:  29%|██▉       | 137/470 [06:09<26:33,  4.79s/it]"
     ]
    },
    {
     "name": "stdout",
     "output_type": "stream",
     "text": [
      "🟨 Elaborazione: Sergio Caputo\n"
     ]
    },
    {
     "name": "stderr",
     "output_type": "stream",
     "text": [
      "Estrazione data individuale:  29%|██▉       | 138/470 [06:11<21:34,  3.90s/it]"
     ]
    },
    {
     "name": "stdout",
     "output_type": "stream",
     "text": [
      "🟨 Elaborazione: Massimo Ranieri\n",
      "🔍 Pseudonimo rilevato, provo con vero nome: giovanni calone\n"
     ]
    },
    {
     "name": "stderr",
     "output_type": "stream",
     "text": [
      "Estrazione data individuale:  30%|██▉       | 139/470 [06:16<24:00,  4.35s/it]"
     ]
    },
    {
     "name": "stdout",
     "output_type": "stream",
     "text": [
      "🟨 Elaborazione: Raf\n",
      "🔍 Pseudonimo rilevato, provo con vero nome: raffaele riefoli\n"
     ]
    },
    {
     "name": "stderr",
     "output_type": "stream",
     "text": [
      "Estrazione data individuale:  30%|██▉       | 140/470 [06:28<35:33,  6.46s/it]"
     ]
    },
    {
     "name": "stdout",
     "output_type": "stream",
     "text": [
      "🟨 Elaborazione: Francesco Nuti\n"
     ]
    },
    {
     "name": "stderr",
     "output_type": "stream",
     "text": [
      "Estrazione data individuale:  30%|███       | 141/470 [06:50<1:01:22, 11.19s/it]"
     ]
    },
    {
     "name": "stdout",
     "output_type": "stream",
     "text": [
      "🟨 Elaborazione: Franco Califano❌ Errore durante Estrazione data individuale su: Francesco Nuti — HTTPSConnectionPool(host='it.wikipedia.org', port=443): Max retries exceeded with url: /w/api.php?prop=extracts%7Crevisions&explaintext=&rvprop=ids&titles=Francesco+Nuti&format=json&action=query (Caused by ConnectTimeoutError(<urllib3.connection.HTTPSConnection object at 0x0000015F9AD4C230>, 'Connection to it.wikipedia.org timed out. (connect timeout=None)'))\n",
      "\n"
     ]
    },
    {
     "name": "stderr",
     "output_type": "stream",
     "text": [
      "Estrazione data individuale:  30%|███       | 142/470 [06:57<54:10,  9.91s/it]  "
     ]
    },
    {
     "name": "stdout",
     "output_type": "stream",
     "text": [
      "❌ Nessuna pagina trovata per: Giorgia Fiorio\n",
      "🟨 Elaborazione: Tullio De Piscopo\n"
     ]
    },
    {
     "name": "stderr",
     "output_type": "stream",
     "text": [
      "Estrazione data individuale:  30%|███       | 143/470 [06:59<40:39,  7.46s/it]"
     ]
    },
    {
     "name": "stdout",
     "output_type": "stream",
     "text": [
      "🟨 Elaborazione: Ron\n"
     ]
    },
    {
     "name": "stderr",
     "output_type": "stream",
     "text": [
      "Estrazione data individuale:  31%|███       | 144/470 [06:59<28:54,  5.32s/it]"
     ]
    },
    {
     "name": "stdout",
     "output_type": "stream",
     "text": [
      "🟨 Elaborazione: Alan Sorrenti\n",
      "🔍 Pseudonimo rilevato, provo con vero nome: rosalino cellamare\n"
     ]
    },
    {
     "name": "stderr",
     "output_type": "stream",
     "text": [
      "Estrazione data individuale:  31%|███       | 145/470 [07:00<22:40,  4.19s/it]"
     ]
    },
    {
     "name": "stdout",
     "output_type": "stream",
     "text": [
      "🟨 Elaborazione: Jovanotti\n",
      "🔍 Pseudonimo rilevato, provo con vero nome: jovanotti\n"
     ]
    },
    {
     "name": "stderr",
     "output_type": "stream",
     "text": [
      "Estrazione data individuale:  31%|███       | 146/470 [07:03<20:17,  3.76s/it]"
     ]
    },
    {
     "name": "stdout",
     "output_type": "stream",
     "text": [
      "🟨 Elaborazione: Francesco Salvi\n"
     ]
    },
    {
     "name": "stderr",
     "output_type": "stream",
     "text": [
      "Estrazione data individuale:  31%|███▏      | 147/470 [07:05<16:57,  3.15s/it]"
     ]
    },
    {
     "name": "stdout",
     "output_type": "stream",
     "text": [
      "🟨 Elaborazione: Gino Paoli\n"
     ]
    },
    {
     "name": "stderr",
     "output_type": "stream",
     "text": [
      "Estrazione data individuale:  31%|███▏      | 148/470 [07:12<22:52,  4.26s/it]"
     ]
    },
    {
     "name": "stdout",
     "output_type": "stream",
     "text": [
      "🟨 Elaborazione: Renato Carosone\n"
     ]
    },
    {
     "name": "stderr",
     "output_type": "stream",
     "text": [
      "Estrazione data individuale:  32%|███▏      | 149/470 [07:12<16:32,  3.09s/it]"
     ]
    },
    {
     "name": "stdout",
     "output_type": "stream",
     "text": [
      "🟨 Elaborazione: Enzo Jannacci\n",
      "❌ Errore durante Estrazione data individuale su: Franco Califano — HTTPSConnectionPool(host='it.wikipedia.org', port=443): Max retries exceeded with url: /w/api.php?prop=extracts%7Crevisions&explaintext=&rvprop=ids&titles=Franco+Califano&format=json&action=query (Caused by ConnectTimeoutError(<urllib3.connection.HTTPSConnection object at 0x0000015F9B060D10>, 'Connection to it.wikipedia.org timed out. (connect timeout=None)'))\n"
     ]
    },
    {
     "name": "stderr",
     "output_type": "stream",
     "text": [
      "Estrazione data individuale:  32%|███▏      | 150/470 [07:14<14:19,  2.69s/it]"
     ]
    },
    {
     "name": "stdout",
     "output_type": "stream",
     "text": [
      "⚠️ Nessuna data trovata per: Enzo Jannacci\n",
      "🟨 Elaborazione: Gigi Sabani\n"
     ]
    },
    {
     "name": "stderr",
     "output_type": "stream",
     "text": [
      "Estrazione data individuale:  32%|███▏      | 151/470 [07:15<12:23,  2.33s/it]"
     ]
    },
    {
     "name": "stdout",
     "output_type": "stream",
     "text": [
      "⚠️ Nessuna data trovata per: Gigi Sabani\n",
      "🟨 Elaborazione: Riccardo Cocciante\n"
     ]
    },
    {
     "name": "stderr",
     "output_type": "stream",
     "text": [
      "Estrazione data individuale:  32%|███▏      | 152/470 [07:20<16:48,  3.17s/it]"
     ]
    },
    {
     "name": "stdout",
     "output_type": "stream",
     "text": [
      "⚠️ Nessuna data trovata per: Renato Carosone\n",
      "🟨 Elaborazione: Renato Zero\n",
      "🔍 Pseudonimo rilevato, provo con vero nome: renato fiacchini\n"
     ]
    },
    {
     "name": "stderr",
     "output_type": "stream",
     "text": [
      "Estrazione data individuale:  33%|███▎      | 153/470 [07:27<22:14,  4.21s/it]"
     ]
    },
    {
     "name": "stdout",
     "output_type": "stream",
     "text": [
      "🟨 Elaborazione: Marco Masini\n",
      "❌ Errore durante Estrazione data individuale su: Gino Paoli — HTTPSConnectionPool(host='it.wikipedia.org', port=443): Max retries exceeded with url: /w/api.php?prop=extracts%7Crevisions&explaintext=&rvprop=ids&titles=Gino+Paoli&format=json&action=query (Caused by ConnectTimeoutError(<urllib3.connection.HTTPSConnection object at 0x0000015F9B0A1EE0>, 'Connection to it.wikipedia.org timed out. (connect timeout=None)'))\n"
     ]
    },
    {
     "name": "stderr",
     "output_type": "stream",
     "text": [
      "Estrazione data individuale:  33%|███▎      | 154/470 [07:29<18:07,  3.44s/it]"
     ]
    },
    {
     "name": "stdout",
     "output_type": "stream",
     "text": [
      "🟨 Elaborazione: Umberto Tozzi\n"
     ]
    },
    {
     "name": "stderr",
     "output_type": "stream",
     "text": [
      "Estrazione data individuale:  33%|███▎      | 155/470 [07:29<13:35,  2.59s/it]"
     ]
    },
    {
     "name": "stdout",
     "output_type": "stream",
     "text": [
      "❌ Nessuna pagina trovata per: Piero Cassano\n",
      "🟨 Elaborazione: Paolo Vallesi\n"
     ]
    },
    {
     "name": "stderr",
     "output_type": "stream",
     "text": [
      "Estrazione data individuale:  33%|███▎      | 156/470 [07:31<11:49,  2.26s/it]"
     ]
    },
    {
     "name": "stdout",
     "output_type": "stream",
     "text": [
      "🟨 Elaborazione: Pierangelo Bertoli\n"
     ]
    },
    {
     "name": "stderr",
     "output_type": "stream",
     "text": [
      "Estrazione data individuale:  33%|███▎      | 157/470 [07:31<09:08,  1.75s/it]"
     ]
    },
    {
     "name": "stdout",
     "output_type": "stream",
     "text": [
      "🟨 Elaborazione: Paolo Mengoli\n"
     ]
    },
    {
     "name": "stderr",
     "output_type": "stream",
     "text": [
      "Estrazione data individuale:  34%|███▎      | 158/470 [07:33<09:35,  1.84s/it]"
     ]
    },
    {
     "name": "stdout",
     "output_type": "stream",
     "text": [
      "⚠️ Nessuna data trovata per: Pierangelo Bertoli\n",
      "🟨 Elaborazione: Enzo Ghinazzi\n",
      "🔍 Pseudonimo rilevato, provo con vero nome: enzo ghinazzi\n"
     ]
    },
    {
     "name": "stderr",
     "output_type": "stream",
     "text": [
      "Estrazione data individuale:  34%|███▍      | 159/470 [07:39<14:38,  2.83s/it]"
     ]
    },
    {
     "name": "stdout",
     "output_type": "stream",
     "text": [
      "🟨 Elaborazione: Cristiano De André❌ Errore durante Estrazione data individuale su: Riccardo Cocciante — HTTPSConnectionPool(host='it.wikipedia.org', port=443): Max retries exceeded with url: /w/api.php?prop=extracts%7Crevisions&explaintext=&rvprop=ids&titles=Riccardo+Cocciante&format=json&action=query (Caused by ConnectTimeoutError(<urllib3.connection.HTTPSConnection object at 0x0000015F9ADFC680>, 'Connection to it.wikipedia.org timed out. (connect timeout=None)'))\n",
      "\n"
     ]
    },
    {
     "name": "stderr",
     "output_type": "stream",
     "text": [
      "Estrazione data individuale:  34%|███▍      | 160/470 [07:40<12:37,  2.44s/it]"
     ]
    },
    {
     "name": "stdout",
     "output_type": "stream",
     "text": [
      "🟨 Elaborazione: Biagio Antonacci\n"
     ]
    },
    {
     "name": "stderr",
     "output_type": "stream",
     "text": [
      "Estrazione data individuale:  34%|███▍      | 161/470 [07:42<11:20,  2.20s/it]"
     ]
    },
    {
     "name": "stdout",
     "output_type": "stream",
     "text": [
      "🟨 Elaborazione: Andrea Mingardi\n"
     ]
    },
    {
     "name": "stderr",
     "output_type": "stream",
     "text": [
      "Estrazione data individuale:  34%|███▍      | 162/470 [07:43<10:12,  1.99s/it]"
     ]
    },
    {
     "name": "stdout",
     "output_type": "stream",
     "text": [
      "⚠️ Nessuna data trovata per: Andrea Mingardi\n",
      "🟨 Elaborazione: Roberto Murolo\n"
     ]
    },
    {
     "name": "stderr",
     "output_type": "stream",
     "text": [
      "Estrazione data individuale:  35%|███▍      | 163/470 [07:48<14:11,  2.77s/it]"
     ]
    },
    {
     "name": "stdout",
     "output_type": "stream",
     "text": [
      "⚠️ Nessuna data trovata per: Roberto Murolo\n",
      "🟨 Elaborazione: Alessandro Canino\n"
     ]
    },
    {
     "name": "stderr",
     "output_type": "stream",
     "text": [
      "Estrazione data individuale:  35%|███▍      | 164/470 [07:49<12:15,  2.40s/it]"
     ]
    },
    {
     "name": "stdout",
     "output_type": "stream",
     "text": [
      "🟨 Elaborazione: Aleandro Baldi\n"
     ]
    },
    {
     "name": "stderr",
     "output_type": "stream",
     "text": [
      "Estrazione data individuale:  35%|███▌      | 165/470 [07:51<10:48,  2.13s/it]"
     ]
    },
    {
     "name": "stdout",
     "output_type": "stream",
     "text": [
      "🟨 Elaborazione: Giorgio Faletti\n"
     ]
    },
    {
     "name": "stderr",
     "output_type": "stream",
     "text": [
      "Estrazione data individuale:  35%|███▌      | 166/470 [07:53<10:01,  1.98s/it]"
     ]
    },
    {
     "name": "stdout",
     "output_type": "stream",
     "text": [
      "⚠️ Nessuna data trovata per: Giorgio Faletti\n",
      "🟨 Elaborazione: Alessandro Bono\n"
     ]
    },
    {
     "name": "stderr",
     "output_type": "stream",
     "text": [
      "Estrazione data individuale:  36%|███▌      | 167/470 [07:54<08:39,  1.71s/it]"
     ]
    },
    {
     "name": "stdout",
     "output_type": "stream",
     "text": [
      "🟨 Elaborazione: Carlo Marrale\n",
      "❌ Errore durante Estrazione data individuale su: Paolo Mengoli — HTTPSConnectionPool(host='it.wikipedia.org', port=443): Max retries exceeded with url: /w/api.php?prop=extracts%7Crevisions&explaintext=&rvprop=ids&titles=Paolo+Mengoli&format=json&action=query (Caused by ConnectTimeoutError(<urllib3.connection.HTTPSConnection object at 0x0000015F9B0A22D0>, 'Connection to it.wikipedia.org timed out. (connect timeout=None)'))\n",
      "🔍 Pseudonimo rilevato, provo con vero nome: alessandro pizzamiglio\n"
     ]
    },
    {
     "name": "stderr",
     "output_type": "stream",
     "text": [
      "Estrazione data individuale:  36%|███▌      | 168/470 [07:55<08:15,  1.64s/it]"
     ]
    },
    {
     "name": "stdout",
     "output_type": "stream",
     "text": [
      "🟨 Elaborazione: Andrea Bocelli\n"
     ]
    },
    {
     "name": "stderr",
     "output_type": "stream",
     "text": [
      "Estrazione data individuale:  36%|███▌      | 169/470 [07:57<08:17,  1.65s/it]"
     ]
    },
    {
     "name": "stdout",
     "output_type": "stream",
     "text": [
      "🟨 Elaborazione: Fiorello\n"
     ]
    },
    {
     "name": "stderr",
     "output_type": "stream",
     "text": [
      "Estrazione data individuale:  36%|███▌      | 170/470 [07:57<06:50,  1.37s/it]"
     ]
    },
    {
     "name": "stdout",
     "output_type": "stream",
     "text": [
      "🟨 Elaborazione: Danilo Amerio\n"
     ]
    },
    {
     "name": "stderr",
     "output_type": "stream",
     "text": [
      "Estrazione data individuale:  36%|███▋      | 171/470 [07:59<06:19,  1.27s/it]"
     ]
    },
    {
     "name": "stdout",
     "output_type": "stream",
     "text": [
      "🟨 Elaborazione: Giò Di Tonno\n"
     ]
    },
    {
     "name": "stderr",
     "output_type": "stream",
     "text": [
      "Estrazione data individuale:  37%|███▋      | 172/470 [07:59<05:06,  1.03s/it]"
     ]
    },
    {
     "name": "stdout",
     "output_type": "stream",
     "text": [
      "🟨 Elaborazione: Massimo Di Cataldo\n"
     ]
    },
    {
     "name": "stderr",
     "output_type": "stream",
     "text": [
      "Estrazione data individuale:  37%|███▋      | 173/470 [08:00<05:08,  1.04s/it]"
     ]
    },
    {
     "name": "stdout",
     "output_type": "stream",
     "text": [
      "🟨 Elaborazione: Federico Salvatore\n"
     ]
    },
    {
     "name": "stderr",
     "output_type": "stream",
     "text": [
      "Estrazione data individuale:  37%|███▋      | 175/470 [08:02<04:15,  1.16it/s]"
     ]
    },
    {
     "name": "stdout",
     "output_type": "stream",
     "text": [
      "🟨 Elaborazione: Gigi Finizio\n",
      "⚠️ Nessuna data trovata per: Federico Salvatore\n",
      "🟨 Elaborazione: Fedele Boccassini\n"
     ]
    },
    {
     "name": "stderr",
     "output_type": "stream",
     "text": [
      "Estrazione data individuale:  37%|███▋      | 176/470 [08:03<05:13,  1.07s/it]"
     ]
    },
    {
     "name": "stdout",
     "output_type": "stream",
     "text": [
      "🟨 Elaborazione: Nek\n",
      "🔍 Pseudonimo rilevato, provo con vero nome: filippo neviani\n"
     ]
    },
    {
     "name": "stderr",
     "output_type": "stream",
     "text": [
      "Estrazione data individuale:  38%|███▊      | 177/470 [08:07<09:08,  1.87s/it]"
     ]
    },
    {
     "name": "stdout",
     "output_type": "stream",
     "text": [
      "🟨 Elaborazione: Francesco Baccini\n"
     ]
    },
    {
     "name": "stderr",
     "output_type": "stream",
     "text": [
      "Estrazione data individuale:  38%|███▊      | 178/470 [08:13<15:23,  3.16s/it]"
     ]
    },
    {
     "name": "stdout",
     "output_type": "stream",
     "text": [
      "🟨 Elaborazione: Alessandro Mara\n",
      "🔍 Pseudonimo rilevato, provo con vero nome: alessandro maraniello\n"
     ]
    },
    {
     "name": "stderr",
     "output_type": "stream",
     "text": [
      "Estrazione data individuale:  38%|███▊      | 179/470 [08:16<14:16,  2.94s/it]"
     ]
    },
    {
     "name": "stdout",
     "output_type": "stream",
     "text": [
      "🟨 Elaborazione: Alessandro Errico\n"
     ]
    },
    {
     "name": "stderr",
     "output_type": "stream",
     "text": [
      "Estrazione data individuale:  38%|███▊      | 180/470 [08:17<12:07,  2.51s/it]"
     ]
    },
    {
     "name": "stdout",
     "output_type": "stream",
     "text": [
      "🟨 Elaborazione: Leandro Barsotti\n"
     ]
    },
    {
     "name": "stderr",
     "output_type": "stream",
     "text": [
      "Estrazione data individuale:  39%|███▊      | 181/470 [08:19<10:41,  2.22s/it]"
     ]
    },
    {
     "name": "stdout",
     "output_type": "stream",
     "text": [
      "🟨 Elaborazione: Maurizio Lauzi\n"
     ]
    },
    {
     "name": "stderr",
     "output_type": "stream",
     "text": [
      "Estrazione data individuale:  39%|███▊      | 182/470 [08:20<08:45,  1.82s/it]"
     ]
    },
    {
     "name": "stdout",
     "output_type": "stream",
     "text": [
      "🟨 Elaborazione: Luca Sepe\n"
     ]
    },
    {
     "name": "stderr",
     "output_type": "stream",
     "text": [
      "Estrazione data individuale:  39%|███▉      | 183/470 [08:20<06:58,  1.46s/it]"
     ]
    },
    {
     "name": "stdout",
     "output_type": "stream",
     "text": [
      "🟨 Elaborazione: Niccolò Fabi\n"
     ]
    },
    {
     "name": "stderr",
     "output_type": "stream",
     "text": [
      "Estrazione data individuale:  39%|███▉      | 184/470 [08:22<06:59,  1.47s/it]"
     ]
    },
    {
     "name": "stdout",
     "output_type": "stream",
     "text": [
      "🟨 Elaborazione: Alex Baroni\n"
     ]
    },
    {
     "name": "stderr",
     "output_type": "stream",
     "text": [
      "Estrazione data individuale:  39%|███▉      | 185/470 [08:22<05:28,  1.15s/it]"
     ]
    },
    {
     "name": "stdout",
     "output_type": "stream",
     "text": [
      "🟨 Elaborazione: Daniele Silvestri\n"
     ]
    },
    {
     "name": "stderr",
     "output_type": "stream",
     "text": [
      "Estrazione data individuale:  40%|███▉      | 186/470 [08:23<05:40,  1.20s/it]"
     ]
    },
    {
     "name": "stdout",
     "output_type": "stream",
     "text": [
      "⚠️ Nessuna data trovata per: Alex Baroni\n",
      "🟨 Elaborazione: Gatto Panceri\n"
     ]
    },
    {
     "name": "stderr",
     "output_type": "stream",
     "text": [
      "Estrazione data individuale:  40%|███▉      | 187/470 [08:24<04:21,  1.08it/s]"
     ]
    },
    {
     "name": "stdout",
     "output_type": "stream",
     "text": [
      "🟨 Elaborazione: Gianluca Grignani\n",
      "🔍 Pseudonimo rilevato, provo con vero nome: luigi giovanni maria panceri\n"
     ]
    },
    {
     "name": "stderr",
     "output_type": "stream",
     "text": [
      "Estrazione data individuale:  40%|████      | 188/470 [08:25<05:17,  1.13s/it]"
     ]
    },
    {
     "name": "stdout",
     "output_type": "stream",
     "text": [
      "🟨 Elaborazione: Max Gazzè\n"
     ]
    },
    {
     "name": "stderr",
     "output_type": "stream",
     "text": [
      "Estrazione data individuale:  40%|████      | 189/470 [08:27<06:02,  1.29s/it]"
     ]
    },
    {
     "name": "stdout",
     "output_type": "stream",
     "text": [
      "🟨 Elaborazione: Samuele Bersani\n"
     ]
    },
    {
     "name": "stderr",
     "output_type": "stream",
     "text": [
      "Estrazione data individuale:  40%|████      | 190/470 [08:28<06:22,  1.37s/it]"
     ]
    },
    {
     "name": "stdout",
     "output_type": "stream",
     "text": [
      "⚠️ Nessuna data trovata per: Samuele Bersani\n",
      "🟨 Elaborazione: Gigi D'Alessio\n"
     ]
    },
    {
     "name": "stderr",
     "output_type": "stream",
     "text": [
      "Estrazione data individuale:  41%|████      | 191/470 [08:34<12:43,  2.74s/it]"
     ]
    },
    {
     "name": "stdout",
     "output_type": "stream",
     "text": [
      "🟨 Elaborazione: Alex Britti\n"
     ]
    },
    {
     "name": "stderr",
     "output_type": "stream",
     "text": [
      "Estrazione data individuale:  41%|████      | 192/470 [08:37<12:18,  2.66s/it]"
     ]
    },
    {
     "name": "stdout",
     "output_type": "stream",
     "text": [
      "🟨 Elaborazione: Fabio Concato\n",
      "🔍 Pseudonimo rilevato, provo con vero nome: fabio bruno ernani piccaluga\n"
     ]
    },
    {
     "name": "stderr",
     "output_type": "stream",
     "text": [
      "Estrazione data individuale:  41%|████      | 193/470 [08:50<27:02,  5.86s/it]"
     ]
    },
    {
     "name": "stdout",
     "output_type": "stream",
     "text": [
      "🟨 Elaborazione: Francesco Renga\n",
      "❌ Errore durante Estrazione data individuale su: Gigi D'Alessio — HTTPSConnectionPool(host='it.wikipedia.org', port=443): Max retries exceeded with url: /w/api.php?prop=extracts&explaintext=&exintro=&titles=Gigi+D%27Alessio&format=json&action=query (Caused by ConnectTimeoutError(<urllib3.connection.HTTPSConnection object at 0x0000015F9AC74590>, 'Connection to it.wikipedia.org timed out. (connect timeout=None)'))\n"
     ]
    },
    {
     "name": "stderr",
     "output_type": "stream",
     "text": [
      "Estrazione data individuale:  41%|████▏     | 194/470 [08:52<21:05,  4.58s/it]"
     ]
    },
    {
     "name": "stdout",
     "output_type": "stream",
     "text": [
      "🟨 Elaborazione: Alessandro Safina\n"
     ]
    },
    {
     "name": "stderr",
     "output_type": "stream",
     "text": [
      "Estrazione data individuale:  41%|████▏     | 195/470 [08:53<16:51,  3.68s/it]"
     ]
    },
    {
     "name": "stdout",
     "output_type": "stream",
     "text": [
      "🟨 Elaborazione: Sergio Cammariere\n"
     ]
    },
    {
     "name": "stderr",
     "output_type": "stream",
     "text": [
      "Estrazione data individuale:  42%|████▏     | 196/470 [08:55<13:52,  3.04s/it]"
     ]
    },
    {
     "name": "stdout",
     "output_type": "stream",
     "text": [
      "🟨 Elaborazione: Mario Rosini\n"
     ]
    },
    {
     "name": "stderr",
     "output_type": "stream",
     "text": [
      "Estrazione data individuale:  42%|████▏     | 197/470 [08:56<11:43,  2.58s/it]"
     ]
    },
    {
     "name": "stdout",
     "output_type": "stream",
     "text": [
      "🟨 Elaborazione: Paolo Meneguzzi\n",
      "🔍 Pseudonimo rilevato, provo con vero nome: pablo meneguzzo\n"
     ]
    },
    {
     "name": "stderr",
     "output_type": "stream",
     "text": [
      "Estrazione data individuale:  42%|████▏     | 198/470 [09:19<38:40,  8.53s/it]"
     ]
    },
    {
     "name": "stdout",
     "output_type": "stream",
     "text": [
      "🟨 Elaborazione: Bungaro\n"
     ]
    },
    {
     "name": "stderr",
     "output_type": "stream",
     "text": [
      "Estrazione data individuale:  42%|████▏     | 199/470 [09:26<36:10,  8.01s/it]"
     ]
    },
    {
     "name": "stdout",
     "output_type": "stream",
     "text": [
      "🟨 Elaborazione: Stefano Picchi\n"
     ]
    },
    {
     "name": "stderr",
     "output_type": "stream",
     "text": [
      "Estrazione data individuale:  43%|████▎     | 200/470 [09:26<26:15,  5.84s/it]"
     ]
    },
    {
     "name": "stdout",
     "output_type": "stream",
     "text": [
      "🟨 Elaborazione: Neffa\n"
     ]
    },
    {
     "name": "stderr",
     "output_type": "stream",
     "text": [
      "Estrazione data individuale:  43%|████▎     | 201/470 [09:27<19:19,  4.31s/it]"
     ]
    },
    {
     "name": "stdout",
     "output_type": "stream",
     "text": [
      "🟨 Elaborazione: Mario Venuti\n",
      "🔍 Pseudonimo rilevato, provo con vero nome: giovanni pellino\n"
     ]
    },
    {
     "name": "stderr",
     "output_type": "stream",
     "text": [
      "Estrazione data individuale:  43%|████▎     | 202/470 [09:29<16:07,  3.61s/it]"
     ]
    },
    {
     "name": "stdout",
     "output_type": "stream",
     "text": [
      "🟨 Elaborazione: DJ Francesco\n"
     ]
    },
    {
     "name": "stderr",
     "output_type": "stream",
     "text": [
      "Estrazione data individuale:  43%|████▎     | 203/470 [09:32<14:50,  3.34s/it]"
     ]
    },
    {
     "name": "stdout",
     "output_type": "stream",
     "text": [
      "🟨 Elaborazione: Simone Tomassini\n"
     ]
    },
    {
     "name": "stderr",
     "output_type": "stream",
     "text": [
      "Estrazione data individuale:  43%|████▎     | 204/470 [09:34<12:39,  2.86s/it]"
     ]
    },
    {
     "name": "stdout",
     "output_type": "stream",
     "text": [
      "🟨 Elaborazione: Omar Pedrini\n",
      "🟨 Elaborazione: Daniele Groff\n"
     ]
    },
    {
     "name": "stderr",
     "output_type": "stream",
     "text": [
      "Estrazione data individuale:  44%|████▍     | 206/470 [09:37<09:55,  2.26s/it]"
     ]
    },
    {
     "name": "stdout",
     "output_type": "stream",
     "text": [
      "🟨 Elaborazione: Adriano Pappalardo\n"
     ]
    },
    {
     "name": "stderr",
     "output_type": "stream",
     "text": [
      "Estrazione data individuale:  44%|████▍     | 207/470 [09:39<09:56,  2.27s/it]"
     ]
    },
    {
     "name": "stdout",
     "output_type": "stream",
     "text": [
      "🟨 Elaborazione: Andrè\n"
     ]
    },
    {
     "name": "stderr",
     "output_type": "stream",
     "text": [
      "Estrazione data individuale:  44%|████▍     | 208/470 [09:41<09:38,  2.21s/it]"
     ]
    },
    {
     "name": "stdout",
     "output_type": "stream",
     "text": [
      "🟨 Elaborazione: Christian Lo Zito❌ Errore durante Estrazione data individuale su: Bungaro — HTTPSConnectionPool(host='it.wikipedia.org', port=443): Max retries exceeded with url: /w/api.php?prop=extracts%7Crevisions&explaintext=&rvprop=ids&titles=Bungaro&format=json&action=query (Caused by ConnectTimeoutError(<urllib3.connection.HTTPSConnection object at 0x0000015F9B0623C0>, 'Connection to it.wikipedia.org timed out. (connect timeout=None)'))\n",
      "\n"
     ]
    },
    {
     "name": "stderr",
     "output_type": "stream",
     "text": [
      "Estrazione data individuale:  44%|████▍     | 209/470 [09:42<08:28,  1.95s/it]"
     ]
    },
    {
     "name": "stdout",
     "output_type": "stream",
     "text": [
      "🟨 Elaborazione: Piotta\n"
     ]
    },
    {
     "name": "stderr",
     "output_type": "stream",
     "text": [
      "Estrazione data individuale:  45%|████▍     | 210/470 [09:57<23:24,  5.40s/it]"
     ]
    },
    {
     "name": "stdout",
     "output_type": "stream",
     "text": [
      "🟨 Elaborazione: Christian\n",
      "🔍 Pseudonimo rilevato, provo con vero nome: gaetano cristiano vincenzo rossi\n",
      "🔍 Pseudonimo rilevato, provo con vero nome: tommaso zanello\n"
     ]
    },
    {
     "name": "stderr",
     "output_type": "stream",
     "text": [
      "Estrazione data individuale:  45%|████▍     | 211/470 [10:11<34:58,  8.10s/it]"
     ]
    },
    {
     "name": "stdout",
     "output_type": "stream",
     "text": [
      "🟨 Elaborazione: Nicola Arigliano\n"
     ]
    },
    {
     "name": "stderr",
     "output_type": "stream",
     "text": [
      "Estrazione data individuale:  45%|████▌     | 212/470 [10:13<26:52,  6.25s/it]"
     ]
    },
    {
     "name": "stdout",
     "output_type": "stream",
     "text": [
      "⚠️ Nessuna data trovata per: Nicola Arigliano\n",
      "🟨 Elaborazione: Max De Angelis\n"
     ]
    },
    {
     "name": "stderr",
     "output_type": "stream",
     "text": [
      "Estrazione data individuale:  45%|████▌     | 213/470 [10:13<19:16,  4.50s/it]"
     ]
    },
    {
     "name": "stdout",
     "output_type": "stream",
     "text": [
      "⚠️ Nessuna data trovata per: Alessandro Bono\n",
      "🟨 Elaborazione: Enrico Boccadoro\n"
     ]
    },
    {
     "name": "stderr",
     "output_type": "stream",
     "text": [
      "Estrazione data individuale:  46%|████▌     | 214/470 [10:15<15:27,  3.62s/it]"
     ]
    },
    {
     "name": "stdout",
     "output_type": "stream",
     "text": [
      "🟨 Elaborazione: Povia\n",
      "⚠️ Nessuna data trovata per: Enrico Boccadoro\n",
      "🟨 Elaborazione: Riccardo Maffoni\n"
     ]
    },
    {
     "name": "stderr",
     "output_type": "stream",
     "text": [
      "Estrazione data individuale:  46%|████▌     | 216/470 [10:17<09:55,  2.34s/it]"
     ]
    },
    {
     "name": "stdout",
     "output_type": "stream",
     "text": [
      "🟨 Elaborazione: Simone Cristicchi\n",
      "🟨 Elaborazione: I Ragazzi di Scampia con Gigi Finizio\n"
     ]
    },
    {
     "name": "stderr",
     "output_type": "stream",
     "text": [
      "Estrazione data individuale:  46%|████▋     | 218/470 [10:18<07:25,  1.77s/it]"
     ]
    },
    {
     "name": "stdout",
     "output_type": "stream",
     "text": [
      "🟨 Elaborazione: Bassano\n",
      "🔍 Pseudonimo rilevato, provo con vero nome: antonio bassano sarri\n"
     ]
    },
    {
     "name": "stderr",
     "output_type": "stream",
     "text": [
      "Estrazione data individuale:  47%|████▋     | 219/470 [10:37<22:51,  5.46s/it]"
     ]
    },
    {
     "name": "stdout",
     "output_type": "stream",
     "text": [
      "🟨 Elaborazione: Luca Dirisio\n"
     ]
    },
    {
     "name": "stderr",
     "output_type": "stream",
     "text": [
      "Estrazione data individuale:  47%|████▋     | 220/470 [10:38<18:51,  4.52s/it]"
     ]
    },
    {
     "name": "stdout",
     "output_type": "stream",
     "text": [
      "🟨 Elaborazione: Ivan Segreto\n"
     ]
    },
    {
     "name": "stderr",
     "output_type": "stream",
     "text": [
      "Estrazione data individuale:  47%|████▋     | 221/470 [10:40<15:35,  3.76s/it]"
     ]
    },
    {
     "name": "stdout",
     "output_type": "stream",
     "text": [
      "⚠️ Nomi multipli rilevati, salto: Mario Venuti e Arancia Sonora\n",
      "🟨 Elaborazione: Antonello\n"
     ]
    },
    {
     "name": "stderr",
     "output_type": "stream",
     "text": [
      "Estrazione data individuale:  47%|████▋     | 223/470 [10:42<10:20,  2.51s/it]"
     ]
    },
    {
     "name": "stdout",
     "output_type": "stream",
     "text": [
      "⚠️ Nessuna data trovata per: Antonello\n",
      "🟨 Elaborazione: Piero Mazzocchetti\n"
     ]
    },
    {
     "name": "stderr",
     "output_type": "stream",
     "text": [
      "Estrazione data individuale:  48%|████▊     | 224/470 [10:46<12:14,  2.99s/it]"
     ]
    },
    {
     "name": "stdout",
     "output_type": "stream",
     "text": [
      "🟨 Elaborazione: Francesco con Roby Facchinetti\n"
     ]
    },
    {
     "name": "stderr",
     "output_type": "stream",
     "text": [
      "Estrazione data individuale:  48%|████▊     | 225/470 [11:12<34:58,  8.56s/it]"
     ]
    },
    {
     "name": "stdout",
     "output_type": "stream",
     "text": [
      "🟨 Elaborazione: Paolo Rossi\n"
     ]
    },
    {
     "name": "stderr",
     "output_type": "stream",
     "text": [
      "Estrazione data individuale:  48%|████▊     | 226/470 [11:13<27:21,  6.73s/it]"
     ]
    },
    {
     "name": "stdout",
     "output_type": "stream",
     "text": [
      "❌ Nessuna pagina trovata per: Christian Lo Zito\n",
      "🟨 Elaborazione: Johnny Dorelli\n",
      "🔍 Pseudonimo rilevato, provo con vero nome: giorgio domenico guidi\n"
     ]
    },
    {
     "name": "stderr",
     "output_type": "stream",
     "text": [
      "Estrazione data individuale:  48%|████▊     | 227/470 [11:22<29:21,  7.25s/it]"
     ]
    },
    {
     "name": "stdout",
     "output_type": "stream",
     "text": [
      "🟨 Elaborazione: Fabrizio Moro\n",
      "🔍 Pseudonimo rilevato, provo con vero nome: fabrizio mobrici\n"
     ]
    },
    {
     "name": "stderr",
     "output_type": "stream",
     "text": [
      "Estrazione data individuale:  49%|████▊     | 228/470 [11:30<30:16,  7.50s/it]"
     ]
    },
    {
     "name": "stdout",
     "output_type": "stream",
     "text": [
      "❌ Nessuna pagina trovata per: Andrè\n",
      "🟨 Elaborazione: Eugenio Bennato\n"
     ]
    },
    {
     "name": "stderr",
     "output_type": "stream",
     "text": [
      "Estrazione data individuale:  49%|████▊     | 229/470 [11:31<23:15,  5.79s/it]"
     ]
    },
    {
     "name": "stdout",
     "output_type": "stream",
     "text": [
      "🟨 Elaborazione: Frankie hi-nrg mc\n",
      "🔍 Pseudonimo rilevato, provo con vero nome: francesco di gesù\n"
     ]
    },
    {
     "name": "stderr",
     "output_type": "stream",
     "text": [
      "Estrazione data individuale:  49%|████▉     | 230/470 [11:42<29:18,  7.33s/it]"
     ]
    },
    {
     "name": "stdout",
     "output_type": "stream",
     "text": [
      "🟨 Elaborazione: Marco Carta\n"
     ]
    },
    {
     "name": "stderr",
     "output_type": "stream",
     "text": [
      "Estrazione data individuale:  49%|████▉     | 231/470 [11:44<22:32,  5.66s/it]"
     ]
    },
    {
     "name": "stdout",
     "output_type": "stream",
     "text": [
      "🟨 Elaborazione: Sal Da Vinci\n",
      "🔍 Pseudonimo rilevato, provo con vero nome: salvatore michael sorrentino\n"
     ]
    },
    {
     "name": "stderr",
     "output_type": "stream",
     "text": [
      "Estrazione data individuale:  49%|████▉     | 232/470 [12:02<36:36,  9.23s/it]"
     ]
    },
    {
     "name": "stdout",
     "output_type": "stream",
     "text": [
      "❌ Nessuna pagina trovata per: I Ragazzi di Scampia con Gigi Finizio\n",
      "🟨 Elaborazione: Gemelli DiVersi\n"
     ]
    },
    {
     "name": "stderr",
     "output_type": "stream",
     "text": [
      "Estrazione data individuale:  50%|████▉     | 233/470 [12:03<27:26,  6.95s/it]"
     ]
    },
    {
     "name": "stdout",
     "output_type": "stream",
     "text": [
      "⚠️ Nessuna data trovata per: Gemelli DiVersi\n",
      "🟨 Elaborazione: Valerio Scanu\n"
     ]
    },
    {
     "name": "stderr",
     "output_type": "stream",
     "text": [
      "Estrazione data individuale:  50%|████▉     | 234/470 [12:06<22:15,  5.66s/it]"
     ]
    },
    {
     "name": "stdout",
     "output_type": "stream",
     "text": [
      "🟨 Elaborazione: Marco Mengoni\n"
     ]
    },
    {
     "name": "stderr",
     "output_type": "stream",
     "text": [
      "Estrazione data individuale:  50%|█████     | 235/470 [12:24<36:31,  9.33s/it]"
     ]
    },
    {
     "name": "stdout",
     "output_type": "stream",
     "text": [
      "🟨 Elaborazione: Davide Van De Sfroos\n",
      "🔍 Pseudonimo rilevato, provo con vero nome: davide enrico bernasconi\n"
     ]
    },
    {
     "name": "stderr",
     "output_type": "stream",
     "text": [
      "Estrazione data individuale:  50%|█████     | 236/470 [12:57<1:03:35, 16.30s/it]"
     ]
    },
    {
     "name": "stdout",
     "output_type": "stream",
     "text": [
      "🟨 Elaborazione: Max Pezzali\n"
     ]
    },
    {
     "name": "stderr",
     "output_type": "stream",
     "text": [
      "Estrazione data individuale:  50%|█████     | 237/470 [12:59<47:34, 12.25s/it]  "
     ]
    },
    {
     "name": "stdout",
     "output_type": "stream",
     "text": [
      "🟨 Elaborazione: Raphael Gualazzi\n"
     ]
    },
    {
     "name": "stderr",
     "output_type": "stream",
     "text": [
      "Estrazione data individuale:  51%|█████     | 238/470 [13:01<35:02,  9.06s/it]"
     ]
    },
    {
     "name": "stdout",
     "output_type": "stream",
     "text": [
      "🟨 Elaborazione: Antoine\n"
     ]
    },
    {
     "name": "stderr",
     "output_type": "stream",
     "text": [
      "Estrazione data individuale:  51%|█████     | 239/470 [13:06<30:11,  7.84s/it]"
     ]
    },
    {
     "name": "stdout",
     "output_type": "stream",
     "text": [
      "⚠️ Nessuna data trovata per: Bassano\n",
      "🟨 Elaborazione: Renzo Rubino\n"
     ]
    },
    {
     "name": "stderr",
     "output_type": "stream",
     "text": [
      "Estrazione data individuale:  51%|█████▏    | 241/470 [13:08<16:10,  4.24s/it]"
     ]
    },
    {
     "name": "stdout",
     "output_type": "stream",
     "text": [
      "🟨 Elaborazione: Francesco Sarcina\n",
      "❌ Nessuna pagina trovata per: Paolo Rossi\n",
      "🟨 Elaborazione: Giuliano Palma\n"
     ]
    },
    {
     "name": "stderr",
     "output_type": "stream",
     "text": [
      "Estrazione data individuale:  52%|█████▏    | 243/470 [13:09<09:06,  2.41s/it]"
     ]
    },
    {
     "name": "stdout",
     "output_type": "stream",
     "text": [
      "🟨 Elaborazione: Riccardo Sinigallia\n",
      "🟨 Elaborazione: Lorenzo Fragola\n"
     ]
    },
    {
     "name": "stderr",
     "output_type": "stream",
     "text": [
      "Estrazione data individuale:  52%|█████▏    | 244/470 [13:11<08:05,  2.15s/it]"
     ]
    },
    {
     "name": "stdout",
     "output_type": "stream",
     "text": [
      "🟨 Elaborazione: Nesli\n",
      "🔍 Pseudonimo rilevato, provo con vero nome: francesco tarducci\n"
     ]
    },
    {
     "name": "stderr",
     "output_type": "stream",
     "text": [
      "Estrazione data individuale:  52%|█████▏    | 245/470 [13:24<20:06,  5.36s/it]"
     ]
    },
    {
     "name": "stdout",
     "output_type": "stream",
     "text": [
      "🟨 Elaborazione: Andrea Ori\n"
     ]
    },
    {
     "name": "stderr",
     "output_type": "stream",
     "text": [
      "Estrazione data individuale:  52%|█████▏    | 246/470 [13:31<22:39,  6.07s/it]"
     ]
    },
    {
     "name": "stdout",
     "output_type": "stream",
     "text": [
      "🟨 Elaborazione: Clementino❌ Errore durante Estrazione data individuale su: Riccardo Sinigallia — HTTPSConnectionPool(host='it.wikipedia.org', port=443): Max retries exceeded with url: /w/api.php?prop=extracts%7Crevisions&explaintext=&rvprop=ids&titles=Riccardo+Sinigallia&format=json&action=query (Caused by ConnectTimeoutError(<urllib3.connection.HTTPSConnection object at 0x0000015F9ABFB590>, 'Connection to it.wikipedia.org timed out. (connect timeout=None)'))\n",
      "\n"
     ]
    },
    {
     "name": "stderr",
     "output_type": "stream",
     "text": [
      "Estrazione data individuale:  53%|█████▎    | 247/470 [13:35<20:07,  5.42s/it]"
     ]
    },
    {
     "name": "stdout",
     "output_type": "stream",
     "text": [
      "❌ Nessuna pagina trovata per: Francesco con Roby Facchinetti\n",
      "🟨 Elaborazione: Rocco Hunt\n",
      "🔍 Pseudonimo rilevato, provo con vero nome: clemente maccaro\n"
     ]
    },
    {
     "name": "stderr",
     "output_type": "stream",
     "text": [
      "Estrazione data individuale:  53%|█████▎    | 248/470 [13:42<21:21,  5.77s/it]"
     ]
    },
    {
     "name": "stdout",
     "output_type": "stream",
     "text": [
      "🟨 Elaborazione: Alessio Bernabei\n"
     ]
    },
    {
     "name": "stderr",
     "output_type": "stream",
     "text": [
      "Estrazione data individuale:  53%|█████▎    | 249/470 [13:44<16:40,  4.53s/it]"
     ]
    },
    {
     "name": "stdout",
     "output_type": "stream",
     "text": [
      "🟨 Elaborazione: Francesco Gabbani\n"
     ]
    },
    {
     "name": "stderr",
     "output_type": "stream",
     "text": [
      "Estrazione data individuale:  53%|█████▎    | 250/470 [13:45<13:30,  3.68s/it]"
     ]
    },
    {
     "name": "stdout",
     "output_type": "stream",
     "text": [
      "🟨 Elaborazione: Ermal Meta\n"
     ]
    },
    {
     "name": "stderr",
     "output_type": "stream",
     "text": [
      "Estrazione data individuale:  53%|█████▎    | 251/470 [13:51<15:57,  4.37s/it]"
     ]
    },
    {
     "name": "stdout",
     "output_type": "stream",
     "text": [
      "🟨 Elaborazione: Michele Bravi\n"
     ]
    },
    {
     "name": "stderr",
     "output_type": "stream",
     "text": [
      "Estrazione data individuale:  54%|█████▎    | 252/470 [13:53<13:01,  3.59s/it]"
     ]
    },
    {
     "name": "stdout",
     "output_type": "stream",
     "text": [
      "🟨 Elaborazione: Sergio Sylvestre\n"
     ]
    },
    {
     "name": "stderr",
     "output_type": "stream",
     "text": [
      "Estrazione data individuale:  54%|█████▍    | 253/470 [13:54<10:26,  2.89s/it]"
     ]
    },
    {
     "name": "stdout",
     "output_type": "stream",
     "text": [
      "🟨 Elaborazione: Anastasio\n"
     ]
    },
    {
     "name": "stderr",
     "output_type": "stream",
     "text": [
      "Estrazione data individuale:  54%|█████▍    | 254/470 [13:55<07:34,  2.10s/it]"
     ]
    },
    {
     "name": "stdout",
     "output_type": "stream",
     "text": [
      "🟨 Elaborazione: Giovanni Caccamo\n"
     ]
    },
    {
     "name": "stderr",
     "output_type": "stream",
     "text": [
      "Estrazione data individuale:  54%|█████▍    | 255/470 [13:57<08:13,  2.29s/it]"
     ]
    },
    {
     "name": "stdout",
     "output_type": "stream",
     "text": [
      "🟨 Elaborazione: Red Canzian\n",
      "🔍 Pseudonimo rilevato, provo con vero nome: bruno canzian\n"
     ]
    },
    {
     "name": "stderr",
     "output_type": "stream",
     "text": [
      "Estrazione data individuale:  54%|█████▍    | 256/470 [14:04<13:23,  3.76s/it]"
     ]
    },
    {
     "name": "stdout",
     "output_type": "stream",
     "text": [
      "🟨 Elaborazione: Mario Biondi\n"
     ]
    },
    {
     "name": "stderr",
     "output_type": "stream",
     "text": [
      "Estrazione data individuale:  55%|█████▍    | 257/470 [14:07<12:07,  3.41s/it]"
     ]
    },
    {
     "name": "stdout",
     "output_type": "stream",
     "text": [
      "🟨 Elaborazione: Mahmood❌ Errore durante Estrazione data individuale su: Ermal Meta — HTTPSConnectionPool(host='it.wikipedia.org', port=443): Max retries exceeded with url: /w/api.php?prop=extracts&explaintext=&exintro=&titles=Ermal+Meta&format=json&action=query (Caused by ConnectTimeoutError(<urllib3.connection.HTTPSConnection object at 0x0000015F9AE5A0C0>, 'Connection to it.wikipedia.org timed out. (connect timeout=None)'))\n",
      "\n",
      "🔍 Pseudonimo rilevato, provo con vero nome: mario ranno\n",
      "🔍 Pseudonimo rilevato, provo con vero nome: alessandro mahmoud\n"
     ]
    },
    {
     "name": "stderr",
     "output_type": "stream",
     "text": [
      "Estrazione data individuale:  55%|█████▍    | 258/470 [14:16<18:14,  5.16s/it]"
     ]
    },
    {
     "name": "stdout",
     "output_type": "stream",
     "text": [
      "❌ Nessuna pagina trovata per: Marco Mengoni\n",
      "🟨 Elaborazione: Irama\n",
      "🔍 Pseudonimo rilevato, provo con vero nome: filippo maria fanti\n"
     ]
    },
    {
     "name": "stderr",
     "output_type": "stream",
     "text": [
      "Estrazione data individuale:  55%|█████▌    | 259/470 [14:58<56:33, 16.08s/it]"
     ]
    },
    {
     "name": "stdout",
     "output_type": "stream",
     "text": [
      "❌ Nessuna pagina trovata per: Andrea Ori\n",
      "🟨 Elaborazione: Achille Lauro\n"
     ]
    },
    {
     "name": "stderr",
     "output_type": "stream",
     "text": [
      "Estrazione data individuale:  55%|█████▌    | 260/470 [14:59<40:21, 11.53s/it]"
     ]
    },
    {
     "name": "stdout",
     "output_type": "stream",
     "text": [
      "🟨 Elaborazione: Enrico Nigiotti\n"
     ]
    },
    {
     "name": "stderr",
     "output_type": "stream",
     "text": [
      "Estrazione data individuale:  56%|█████▌    | 261/470 [15:00<29:47,  8.55s/it]"
     ]
    },
    {
     "name": "stdout",
     "output_type": "stream",
     "text": [
      "🟨 Elaborazione: Ghemon\n"
     ]
    },
    {
     "name": "stderr",
     "output_type": "stream",
     "text": [
      "Estrazione data individuale:  56%|█████▌    | 262/470 [15:21<41:58, 12.11s/it]"
     ]
    },
    {
     "name": "stdout",
     "output_type": "stream",
     "text": [
      "🟨 Elaborazione: Alessandro\n",
      "❌ Errore durante Estrazione data individuale su: Achille Lauro — HTTPSConnectionPool(host='it.wikipedia.org', port=443): Max retries exceeded with url: /w/api.php?prop=extracts&explaintext=&exintro=&titles=Achille+Lauro+%28cantante%29&format=json&action=query (Caused by ConnectTimeoutError(<urllib3.connection.HTTPSConnection object at 0x0000015F9B0A1C70>, 'Connection to it.wikipedia.org timed out. (connect timeout=None)'))\n"
     ]
    },
    {
     "name": "stderr",
     "output_type": "stream",
     "text": [
      "Estrazione data individuale:  56%|█████▌    | 263/470 [15:25<33:15,  9.64s/it]"
     ]
    },
    {
     "name": "stdout",
     "output_type": "stream",
     "text": [
      "🟨 Elaborazione: Einar\n"
     ]
    },
    {
     "name": "stderr",
     "output_type": "stream",
     "text": [
      "Estrazione data individuale:  56%|█████▌    | 264/470 [15:28<26:37,  7.76s/it]"
     ]
    },
    {
     "name": "stdout",
     "output_type": "stream",
     "text": [
      "🟨 Elaborazione: Diodato\n"
     ]
    },
    {
     "name": "stderr",
     "output_type": "stream",
     "text": [
      "Estrazione data individuale:  56%|█████▋    | 265/470 [15:31<21:46,  6.37s/it]"
     ]
    },
    {
     "name": "stdout",
     "output_type": "stream",
     "text": [
      "🟨 Elaborazione: Piero Pelù\n",
      "🔍 Pseudonimo rilevato, provo con vero nome: pietro pelù\n"
     ]
    },
    {
     "name": "stderr",
     "output_type": "stream",
     "text": [
      "Estrazione data individuale:  57%|█████▋    | 266/470 [15:39<23:18,  6.86s/it]"
     ]
    },
    {
     "name": "stdout",
     "output_type": "stream",
     "text": [
      "🟨 Elaborazione: Alberto Beltrami\n"
     ]
    },
    {
     "name": "stderr",
     "output_type": "stream",
     "text": [
      "Estrazione data individuale:  57%|█████▋    | 267/470 [15:57<34:12, 10.11s/it]"
     ]
    },
    {
     "name": "stdout",
     "output_type": "stream",
     "text": [
      "🟨 Elaborazione: Alberto Urso\n"
     ]
    },
    {
     "name": "stderr",
     "output_type": "stream",
     "text": [
      "Estrazione data individuale:  57%|█████▋    | 268/470 [15:58<24:32,  7.29s/it]"
     ]
    },
    {
     "name": "stdout",
     "output_type": "stream",
     "text": [
      "❌ Nessuna pagina trovata per: Rocco Hunt\n",
      "🟨 Elaborazione: Paolo Jannacci\n"
     ]
    },
    {
     "name": "stderr",
     "output_type": "stream",
     "text": [
      "Estrazione data individuale:  57%|█████▋    | 269/470 [15:59<18:06,  5.40s/it]"
     ]
    },
    {
     "name": "stdout",
     "output_type": "stream",
     "text": [
      "🟨 Elaborazione: Junior Cally\n"
     ]
    },
    {
     "name": "stderr",
     "output_type": "stream",
     "text": [
      "Estrazione data individuale:  57%|█████▋    | 270/470 [16:00<13:32,  4.06s/it]"
     ]
    },
    {
     "name": "stdout",
     "output_type": "stream",
     "text": [
      "🟨 Elaborazione: Riki\n",
      "🔍 Pseudonimo rilevato, provo con vero nome: antonio signore\n",
      "🔍 Pseudonimo rilevato, provo con vero nome: riccardo marcuzzo\n"
     ]
    },
    {
     "name": "stderr",
     "output_type": "stream",
     "text": [
      "Estrazione data individuale:  58%|█████▊    | 271/470 [16:06<15:51,  4.78s/it]"
     ]
    },
    {
     "name": "stdout",
     "output_type": "stream",
     "text": [
      "🟨 Elaborazione: Willie Peyote\n"
     ]
    },
    {
     "name": "stderr",
     "output_type": "stream",
     "text": [
      "Estrazione data individuale:  58%|█████▊    | 272/470 [16:07<12:01,  3.65s/it]"
     ]
    },
    {
     "name": "stdout",
     "output_type": "stream",
     "text": [
      "🟨 Elaborazione: Fulminacci\n",
      "🔍 Pseudonimo rilevato, provo con vero nome: guglielmo bruno\n",
      "🔍 Pseudonimo rilevato, provo con vero nome: filippo uttinacci\n"
     ]
    },
    {
     "name": "stderr",
     "output_type": "stream",
     "text": [
      "Estrazione data individuale:  58%|█████▊    | 273/470 [16:29<29:34,  9.01s/it]"
     ]
    },
    {
     "name": "stdout",
     "output_type": "stream",
     "text": [
      "🟨 Elaborazione: Fasma\n",
      "🔍 Pseudonimo rilevato, provo con vero nome: tiberio fazioli\n"
     ]
    },
    {
     "name": "stderr",
     "output_type": "stream",
     "text": [
      "Estrazione data individuale:  58%|█████▊    | 274/470 [16:54<46:02, 14.09s/it]"
     ]
    },
    {
     "name": "stdout",
     "output_type": "stream",
     "text": [
      "🟨 Elaborazione: Gio Evan\n",
      "🔍 Pseudonimo rilevato, provo con vero nome: giovanni giancaspro\n"
     ]
    },
    {
     "name": "stderr",
     "output_type": "stream",
     "text": [
      "Estrazione data individuale:  59%|█████▊    | 275/470 [17:04<41:47, 12.86s/it]"
     ]
    },
    {
     "name": "stdout",
     "output_type": "stream",
     "text": [
      "❌ Nessuna pagina trovata per: Ghemon\n",
      "🟨 Elaborazione: Bugo\n",
      "🔍 Pseudonimo rilevato, provo con vero nome: cristian bugatti\n"
     ]
    },
    {
     "name": "stderr",
     "output_type": "stream",
     "text": [
      "Estrazione data individuale:  59%|█████▊    | 276/470 [17:28<51:56, 16.06s/it]"
     ]
    },
    {
     "name": "stdout",
     "output_type": "stream",
     "text": [
      "🟨 Elaborazione: Aiello\n"
     ]
    },
    {
     "name": "stderr",
     "output_type": "stream",
     "text": [
      "Estrazione data individuale:  59%|█████▉    | 277/470 [17:46<53:47, 16.72s/it]"
     ]
    },
    {
     "name": "stdout",
     "output_type": "stream",
     "text": [
      "🟨 Elaborazione: Dargen D'Amico\n",
      "🔍 Pseudonimo rilevato, provo con vero nome: jacopo matteo luca d'amico\n",
      "🔍 Pseudonimo rilevato, provo con vero nome: antonio aiello\n"
     ]
    },
    {
     "name": "stderr",
     "output_type": "stream",
     "text": [
      "Estrazione data individuale:  59%|█████▉    | 278/470 [17:59<49:17, 15.41s/it]"
     ]
    },
    {
     "name": "stdout",
     "output_type": "stream",
     "text": [
      "🟨 Elaborazione: Matteo Romano\n"
     ]
    },
    {
     "name": "stderr",
     "output_type": "stream",
     "text": [
      "Estrazione data individuale:  59%|█████▉    | 279/470 [18:00<35:32, 11.16s/it]"
     ]
    },
    {
     "name": "stdout",
     "output_type": "stream",
     "text": [
      "🟨 Elaborazione: AKA 7even\n"
     ]
    },
    {
     "name": "stderr",
     "output_type": "stream",
     "text": [
      "Estrazione data individuale:  60%|█████▉    | 280/470 [18:01<25:31,  8.06s/it]"
     ]
    },
    {
     "name": "stdout",
     "output_type": "stream",
     "text": [
      "🟨 Elaborazione: Rkomi\n",
      "🔍 Pseudonimo rilevato, provo con vero nome: luca marzano\n",
      "🔍 Pseudonimo rilevato, provo con vero nome: mirko manuele martorana\n"
     ]
    },
    {
     "name": "stderr",
     "output_type": "stream",
     "text": [
      "Estrazione data individuale:  60%|█████▉    | 281/470 [18:12<28:56,  9.19s/it]"
     ]
    },
    {
     "name": "stdout",
     "output_type": "stream",
     "text": [
      "🟨 Elaborazione: Giovanni Truppi\n"
     ]
    },
    {
     "name": "stderr",
     "output_type": "stream",
     "text": [
      "Estrazione data individuale:  60%|██████    | 282/470 [18:16<23:13,  7.41s/it]"
     ]
    },
    {
     "name": "stdout",
     "output_type": "stream",
     "text": [
      "🟨 Elaborazione: Yuman\n",
      "🔍 Pseudonimo rilevato, provo con vero nome: yuri santos tavares carloia\n"
     ]
    },
    {
     "name": "stderr",
     "output_type": "stream",
     "text": [
      "Estrazione data individuale:  60%|██████    | 283/470 [18:28<27:40,  8.88s/it]"
     ]
    },
    {
     "name": "stdout",
     "output_type": "stream",
     "text": [
      "❌ Nessuna pagina trovata per: Alberto Beltrami\n",
      "🟨 Elaborazione: Tananai\n",
      "🔍 Pseudonimo rilevato, provo con vero nome: alberto cotta ramusino\n"
     ]
    },
    {
     "name": "stderr",
     "output_type": "stream",
     "text": [
      "Estrazione data individuale:  60%|██████    | 284/470 [18:35<25:25,  8.20s/it]"
     ]
    },
    {
     "name": "stdout",
     "output_type": "stream",
     "text": [
      "🟨 Elaborazione: Lazza❌ Errore durante Estrazione data individuale su: Giovanni Truppi — HTTPSConnectionPool(host='it.wikipedia.org', port=443): Max retries exceeded with url: /w/api.php?prop=extracts%7Crevisions&explaintext=&rvprop=ids&titles=Giovanni+Truppi&format=json&action=query (Caused by ConnectTimeoutError(<urllib3.connection.HTTPSConnection object at 0x0000015F9B07AC90>, 'Connection to it.wikipedia.org timed out. (connect timeout=None)'))\n",
      "\n",
      "🔍 Pseudonimo rilevato, provo con vero nome: jacopo lazzarini\n"
     ]
    },
    {
     "name": "stderr",
     "output_type": "stream",
     "text": [
      "Estrazione data individuale:  61%|██████    | 285/470 [18:50<31:44, 10.30s/it]"
     ]
    },
    {
     "name": "stdout",
     "output_type": "stream",
     "text": [
      "🟨 Elaborazione: Mr. Rain\n",
      "🔍 Pseudonimo rilevato, provo con vero nome: mattia balardi\n"
     ]
    },
    {
     "name": "stderr",
     "output_type": "stream",
     "text": [
      "Estrazione data individuale:  61%|██████    | 286/470 [18:57<29:06,  9.49s/it]"
     ]
    },
    {
     "name": "stdout",
     "output_type": "stream",
     "text": [
      "🟨 Elaborazione: Rosa Chemical\n",
      "🔍 Pseudonimo rilevato, provo con vero nome: manuel franco rocati\n"
     ]
    },
    {
     "name": "stderr",
     "output_type": "stream",
     "text": [
      "Estrazione data individuale:  61%|██████    | 287/470 [19:31<50:30, 16.56s/it]"
     ]
    },
    {
     "name": "stdout",
     "output_type": "stream",
     "text": [
      "🟨 Elaborazione: LDA\n",
      "🔍 Pseudonimo rilevato, provo con vero nome: luca d'alessio\n"
     ]
    },
    {
     "name": "stderr",
     "output_type": "stream",
     "text": [
      "Estrazione data individuale:  61%|██████▏   | 288/470 [20:02<1:03:59, 21.10s/it]"
     ]
    },
    {
     "name": "stdout",
     "output_type": "stream",
     "text": [
      "🟨 Elaborazione: Leo Gassmann\n"
     ]
    },
    {
     "name": "stderr",
     "output_type": "stream",
     "text": [
      "Estrazione data individuale:  61%|██████▏   | 289/470 [20:04<45:59, 15.25s/it]  "
     ]
    },
    {
     "name": "stdout",
     "output_type": "stream",
     "text": [
      "🟨 Elaborazione: Gianmaria\n"
     ]
    },
    {
     "name": "stderr",
     "output_type": "stream",
     "text": [
      "Estrazione data individuale:  62%|██████▏   | 290/470 [20:18<44:27, 14.82s/it]"
     ]
    },
    {
     "name": "stdout",
     "output_type": "stream",
     "text": [
      "🟨 Elaborazione: Olly\n"
     ]
    },
    {
     "name": "stderr",
     "output_type": "stream",
     "text": [
      "Estrazione data individuale:  62%|██████▏   | 291/470 [20:21<33:40, 11.29s/it]"
     ]
    },
    {
     "name": "stdout",
     "output_type": "stream",
     "text": [
      "🟨 Elaborazione: Sethu\n",
      "🔍 Pseudonimo rilevato, provo con vero nome: marco de lauri\n",
      "🔍 Pseudonimo rilevato, provo con vero nome: federico olivieri\n"
     ]
    },
    {
     "name": "stderr",
     "output_type": "stream",
     "text": [
      "Estrazione data individuale:  62%|██████▏   | 292/470 [20:27<28:43,  9.68s/it]"
     ]
    },
    {
     "name": "stdout",
     "output_type": "stream",
     "text": [
      "🟨 Elaborazione: Nilla Pizzi\n"
     ]
    },
    {
     "name": "stderr",
     "output_type": "stream",
     "text": [
      "Estrazione data individuale:  62%|██████▏   | 293/470 [20:27<20:43,  7.02s/it]"
     ]
    },
    {
     "name": "stdout",
     "output_type": "stream",
     "text": [
      "⚠️ Nomi multipli rilevati, salto: Achille Togliani - Katyna Ranieri\n",
      "🟨 Elaborazione: Veronica Ventavoli\n"
     ]
    },
    {
     "name": "stderr",
     "output_type": "stream",
     "text": [
      "Estrazione data individuale:  63%|██████▎   | 295/470 [20:28<11:40,  4.00s/it]"
     ]
    },
    {
     "name": "stdout",
     "output_type": "stream",
     "text": [
      "⚠️ Nessuna data trovata per: Nilla Pizzi\n",
      "🟨 Elaborazione: Vanna Leali\n"
     ]
    },
    {
     "name": "stderr",
     "output_type": "stream",
     "text": [
      "Estrazione data individuale:  63%|██████▎   | 296/470 [20:30<09:38,  3.32s/it]"
     ]
    },
    {
     "name": "stdout",
     "output_type": "stream",
     "text": [
      "🟨 Elaborazione: Tosca\n"
     ]
    },
    {
     "name": "stderr",
     "output_type": "stream",
     "text": [
      "Estrazione data individuale:  63%|██████▎   | 297/470 [20:33<09:19,  3.23s/it]"
     ]
    },
    {
     "name": "stdout",
     "output_type": "stream",
     "text": [
      "🟨 Elaborazione: Franca Raimondi\n"
     ]
    },
    {
     "name": "stderr",
     "output_type": "stream",
     "text": [
      "Estrazione data individuale:  63%|██████▎   | 298/470 [20:34<07:56,  2.77s/it]"
     ]
    },
    {
     "name": "stdout",
     "output_type": "stream",
     "text": [
      "⚠️ Nessuna data trovata per: Franca Raimondi\n",
      "🟨 Elaborazione: Tonina Torrielli\n",
      "🔍 Pseudonimo rilevato, provo con vero nome: antonietta torrielli\n"
     ]
    },
    {
     "name": "stderr",
     "output_type": "stream",
     "text": [
      "Estrazione data individuale:  64%|██████▎   | 299/470 [21:15<38:25, 13.48s/it]"
     ]
    },
    {
     "name": "stdout",
     "output_type": "stream",
     "text": [
      "🟨 Elaborazione: Luciana Gonzales\n",
      "🔍 Pseudonimo rilevato, provo con vero nome: lucia benedetta gonzales\n"
     ]
    },
    {
     "name": "stderr",
     "output_type": "stream",
     "text": [
      "Estrazione data individuale:  64%|██████▍   | 300/470 [21:20<30:58, 10.93s/it]"
     ]
    },
    {
     "name": "stdout",
     "output_type": "stream",
     "text": [
      "🟨 Elaborazione: Clara Vincenzi\n"
     ]
    },
    {
     "name": "stderr",
     "output_type": "stream",
     "text": [
      "Estrazione data individuale:  64%|██████▍   | 301/470 [21:21<23:08,  8.22s/it]"
     ]
    },
    {
     "name": "stdout",
     "output_type": "stream",
     "text": [
      "🟨 Elaborazione: Stefania\n"
     ]
    },
    {
     "name": "stderr",
     "output_type": "stream",
     "text": [
      "Estrazione data individuale:  64%|██████▍   | 302/470 [21:23<17:28,  6.24s/it]"
     ]
    },
    {
     "name": "stdout",
     "output_type": "stream",
     "text": [
      "⚠️ Nessuna data trovata per: Stefania\n",
      "🟨 Elaborazione: Spagna\n"
     ]
    },
    {
     "name": "stderr",
     "output_type": "stream",
     "text": [
      "Estrazione data individuale:  64%|██████▍   | 303/470 [21:25<13:39,  4.91s/it]"
     ]
    },
    {
     "name": "stdout",
     "output_type": "stream",
     "text": [
      "⚠️ Nessuna data trovata per: Spagna\n",
      "🟨 Elaborazione: Sibilla\n"
     ]
    },
    {
     "name": "stderr",
     "output_type": "stream",
     "text": [
      "Estrazione data individuale:  65%|██████▍   | 304/470 [21:26<10:55,  3.95s/it]"
     ]
    },
    {
     "name": "stdout",
     "output_type": "stream",
     "text": [
      "⚠️ Nessuna data trovata per: Sibilla\n",
      "🟨 Elaborazione: Sabrina Guida\n"
     ]
    },
    {
     "name": "stderr",
     "output_type": "stream",
     "text": [
      "Estrazione data individuale:  65%|██████▍   | 305/470 [21:30<10:46,  3.92s/it]"
     ]
    },
    {
     "name": "stdout",
     "output_type": "stream",
     "text": [
      "🟨 Elaborazione: Roberta\n"
     ]
    },
    {
     "name": "stderr",
     "output_type": "stream",
     "text": [
      "Estrazione data individuale:  65%|██████▌   | 306/470 [21:57<29:07, 10.65s/it]"
     ]
    },
    {
     "name": "stdout",
     "output_type": "stream",
     "text": [
      "🟨 Elaborazione: Pinot\n"
     ]
    },
    {
     "name": "stderr",
     "output_type": "stream",
     "text": [
      "Estrazione data individuale:  65%|██████▌   | 307/470 [22:23<41:57, 15.44s/it]"
     ]
    },
    {
     "name": "stdout",
     "output_type": "stream",
     "text": [
      "🟨 Elaborazione: Patrizia Danzi\n"
     ]
    },
    {
     "name": "stderr",
     "output_type": "stream",
     "text": [
      "Estrazione data individuale:  66%|██████▌   | 308/470 [22:28<33:23, 12.37s/it]"
     ]
    },
    {
     "name": "stdout",
     "output_type": "stream",
     "text": [
      "❌ Nessuna pagina trovata per: Veronica Ventavoli\n",
      "🟨 Elaborazione: Nathalie\n",
      "🔍 Pseudonimo rilevato, provo con vero nome: natalia beatrice giannitrapani\n"
     ]
    },
    {
     "name": "stderr",
     "output_type": "stream",
     "text": [
      "Estrazione data individuale:  66%|██████▌   | 309/470 [22:45<36:46, 13.70s/it]"
     ]
    },
    {
     "name": "stdout",
     "output_type": "stream",
     "text": [
      "❌ Nessuna pagina trovata per: Vanna Leali\n",
      "🟨 Elaborazione: Monia Russo\n"
     ]
    },
    {
     "name": "stderr",
     "output_type": "stream",
     "text": [
      "Estrazione data individuale:  66%|██████▌   | 310/470 [22:46<25:59,  9.75s/it]"
     ]
    },
    {
     "name": "stdout",
     "output_type": "stream",
     "text": [
      "🟨 Elaborazione: Mela Lo Cicero\n"
     ]
    },
    {
     "name": "stderr",
     "output_type": "stream",
     "text": [
      "Estrazione data individuale:  66%|██████▌   | 311/470 [22:54<25:02,  9.45s/it]"
     ]
    },
    {
     "name": "stdout",
     "output_type": "stream",
     "text": [
      "🟨 Elaborazione: Marinella\n"
     ]
    },
    {
     "name": "stderr",
     "output_type": "stream",
     "text": [
      "Estrazione data individuale:  66%|██████▋   | 312/470 [23:06<26:14,  9.97s/it]"
     ]
    },
    {
     "name": "stdout",
     "output_type": "stream",
     "text": [
      "⚠️ Nessuna data trovata per: Luciana Gonzales\n",
      "🟨 Elaborazione: Marcella\n"
     ]
    },
    {
     "name": "stderr",
     "output_type": "stream",
     "text": [
      "Estrazione data individuale:  67%|██████▋   | 313/470 [23:06<18:43,  7.16s/it]"
     ]
    },
    {
     "name": "stdout",
     "output_type": "stream",
     "text": [
      "❌ Nessuna pagina trovata per: Sabrina Guida\n",
      "🟨 Elaborazione: Mara\n"
     ]
    },
    {
     "name": "stderr",
     "output_type": "stream",
     "text": [
      "Estrazione data individuale:  67%|██████▋   | 314/470 [23:07<13:50,  5.33s/it]"
     ]
    },
    {
     "name": "stdout",
     "output_type": "stream",
     "text": [
      "⚠️ Nessuna data trovata per: Marcella\n",
      "🟨 Elaborazione: Madame\n"
     ]
    },
    {
     "name": "stderr",
     "output_type": "stream",
     "text": [
      "Estrazione data individuale:  67%|██████▋   | 315/470 [23:12<13:18,  5.15s/it]"
     ]
    },
    {
     "name": "stdout",
     "output_type": "stream",
     "text": [
      "❌ Nessuna pagina trovata per: Roberta\n",
      "🟨 Elaborazione: Lolita\n",
      "🔍 Pseudonimo rilevato, provo con vero nome: francesca calearo\n"
     ]
    },
    {
     "name": "stderr",
     "output_type": "stream",
     "text": [
      "Estrazione data individuale:  67%|██████▋   | 316/470 [23:52<39:44, 15.49s/it]"
     ]
    },
    {
     "name": "stdout",
     "output_type": "stream",
     "text": [
      "🟨 Elaborazione: Levante\n",
      "🔍 Pseudonimo rilevato, provo con vero nome: claudia lagona\n"
     ]
    },
    {
     "name": "stderr",
     "output_type": "stream",
     "text": [
      "Estrazione data individuale:  67%|██████▋   | 317/470 [24:40<1:04:53, 25.45s/it]"
     ]
    },
    {
     "name": "stdout",
     "output_type": "stream",
     "text": [
      "❌ Nessuna pagina trovata per: Monia Russo\n",
      "🟨 Elaborazione: Laura\n"
     ]
    },
    {
     "name": "stderr",
     "output_type": "stream",
     "text": [
      "Estrazione data individuale:  68%|██████▊   | 318/470 [24:41<45:53, 18.12s/it]  "
     ]
    },
    {
     "name": "stdout",
     "output_type": "stream",
     "text": [
      "❌ Nessuna pagina trovata per: Patrizia Danzi\n",
      "🟨 Elaborazione: Nada\n",
      "🔍 Pseudonimo rilevato, provo con vero nome: giuseppina pipitone\n"
     ]
    },
    {
     "name": "stderr",
     "output_type": "stream",
     "text": [
      "Estrazione data individuale:  68%|██████▊   | 319/470 [24:45<34:42, 13.79s/it]"
     ]
    },
    {
     "name": "stdout",
     "output_type": "stream",
     "text": [
      "🟨 Elaborazione: Marcella Bella\n"
     ]
    },
    {
     "name": "stderr",
     "output_type": "stream",
     "text": [
      "Estrazione data individuale:  68%|██████▊   | 320/470 [24:53<30:11, 12.08s/it]"
     ]
    },
    {
     "name": "stdout",
     "output_type": "stream",
     "text": [
      "🟨 Elaborazione: Gigliola Cinquetti\n"
     ]
    },
    {
     "name": "stderr",
     "output_type": "stream",
     "text": [
      "Estrazione data individuale:  68%|██████▊   | 321/470 [24:54<21:20,  8.59s/it]"
     ]
    },
    {
     "name": "stdout",
     "output_type": "stream",
     "text": [
      "❌ Nessuna pagina trovata per: Pinot\n",
      "🟨 Elaborazione: Milva\n"
     ]
    },
    {
     "name": "stderr",
     "output_type": "stream",
     "text": [
      "Estrazione data individuale:  69%|██████▊   | 322/470 [24:55<15:43,  6.38s/it]"
     ]
    },
    {
     "name": "stdout",
     "output_type": "stream",
     "text": [
      "🟨 Elaborazione: Lara Saint Paul\n",
      "🔍 Pseudonimo rilevato, provo con vero nome: maria ilva biolcati\n"
     ]
    },
    {
     "name": "stderr",
     "output_type": "stream",
     "text": [
      "Estrazione data individuale:  69%|██████▊   | 323/470 [25:07<20:06,  8.20s/it]"
     ]
    },
    {
     "name": "stdout",
     "output_type": "stream",
     "text": [
      "🟨 Elaborazione: Rita Pavone❌ Errore durante Estrazione data individuale su: Marcella Bella — HTTPSConnectionPool(host='it.wikipedia.org', port=443): Max retries exceeded with url: /w/api.php?prop=extracts%7Crevisions&explaintext=&rvprop=ids&titles=Marcella+Bella&format=json&action=query (Caused by ConnectTimeoutError(<urllib3.connection.HTTPSConnection object at 0x0000015F9B0828D0>, 'Connection to it.wikipedia.org timed out. (connect timeout=None)'))\n",
      "\n"
     ]
    },
    {
     "name": "stderr",
     "output_type": "stream",
     "text": [
      "Estrazione data individuale:  69%|██████▉   | 324/470 [25:09<15:12,  6.25s/it]"
     ]
    },
    {
     "name": "stdout",
     "output_type": "stream",
     "text": [
      "🟨 Elaborazione: Anna Identici\n"
     ]
    },
    {
     "name": "stderr",
     "output_type": "stream",
     "text": [
      "Estrazione data individuale:  69%|██████▉   | 325/470 [25:10<11:38,  4.82s/it]"
     ]
    },
    {
     "name": "stdout",
     "output_type": "stream",
     "text": [
      "🟨 Elaborazione: Carla Bissi\n"
     ]
    },
    {
     "name": "stderr",
     "output_type": "stream",
     "text": [
      "Estrazione data individuale:  69%|██████▉   | 326/470 [25:12<09:19,  3.89s/it]"
     ]
    },
    {
     "name": "stdout",
     "output_type": "stream",
     "text": [
      "🟨 Elaborazione: Marisa Sacchetto\n"
     ]
    },
    {
     "name": "stderr",
     "output_type": "stream",
     "text": [
      "Estrazione data individuale:  70%|██████▉   | 327/470 [25:14<07:32,  3.16s/it]"
     ]
    },
    {
     "name": "stdout",
     "output_type": "stream",
     "text": [
      "🟨 Elaborazione: Delia\n",
      "🔍 Pseudonimo rilevato, provo con vero nome: carla bissi\n"
     ]
    },
    {
     "name": "stderr",
     "output_type": "stream",
     "text": [
      "Estrazione data individuale:  70%|██████▉   | 328/470 [25:17<07:39,  3.24s/it]"
     ]
    },
    {
     "name": "stdout",
     "output_type": "stream",
     "text": [
      "🟨 Elaborazione: Julie❌ Errore durante Estrazione data individuale su: Lara Saint Paul — HTTPSConnectionPool(host='it.wikipedia.org', port=443): Max retries exceeded with url: /w/api.php?prop=extracts%7Crevisions&explaintext=&rvprop=ids&titles=Lara+Saint+Paul&format=json&action=query (Caused by ConnectTimeoutError(<urllib3.connection.HTTPSConnection object at 0x0000015F9ADF6630>, 'Connection to it.wikipedia.org timed out. (connect timeout=None)'))\n",
      "\n"
     ]
    },
    {
     "name": "stderr",
     "output_type": "stream",
     "text": [
      "Estrazione data individuale:  70%|███████   | 329/470 [25:18<06:18,  2.68s/it]"
     ]
    },
    {
     "name": "stdout",
     "output_type": "stream",
     "text": [
      "🟨 Elaborazione: Gilda Giuliani\n",
      "🔍 Pseudonimo rilevato, provo con vero nome: adele regina gualtiero\n"
     ]
    },
    {
     "name": "stderr",
     "output_type": "stream",
     "text": [
      "Estrazione data individuale:  70%|███████   | 330/470 [25:20<05:31,  2.37s/it]"
     ]
    },
    {
     "name": "stdout",
     "output_type": "stream",
     "text": [
      "🟨 Elaborazione: Carmen Amato\n"
     ]
    },
    {
     "name": "stderr",
     "output_type": "stream",
     "text": [
      "Estrazione data individuale:  70%|███████   | 331/470 [25:22<04:54,  2.12s/it]"
     ]
    },
    {
     "name": "stdout",
     "output_type": "stream",
     "text": [
      "🟨 Elaborazione: Iva Zanicchi\n"
     ]
    },
    {
     "name": "stderr",
     "output_type": "stream",
     "text": [
      "Estrazione data individuale:  71%|███████   | 332/470 [25:23<04:35,  2.00s/it]"
     ]
    },
    {
     "name": "stdout",
     "output_type": "stream",
     "text": [
      "🟨 Elaborazione: Orietta Berti\n",
      "🔍 Pseudonimo rilevato, provo con vero nome: orietta galimberti\n"
     ]
    },
    {
     "name": "stderr",
     "output_type": "stream",
     "text": [
      "Estrazione data individuale:  71%|███████   | 333/470 [25:29<07:13,  3.16s/it]"
     ]
    },
    {
     "name": "stdout",
     "output_type": "stream",
     "text": [
      "❌ Nessuna pagina trovata per: Mela Lo Cicero\n",
      "🟨 Elaborazione: Anna Melato\n"
     ]
    },
    {
     "name": "stderr",
     "output_type": "stream",
     "text": [
      "Estrazione data individuale:  71%|███████   | 334/470 [25:38<10:51,  4.79s/it]"
     ]
    },
    {
     "name": "stdout",
     "output_type": "stream",
     "text": [
      "🟨 Elaborazione: Emanuela Cortesi\n"
     ]
    },
    {
     "name": "stderr",
     "output_type": "stream",
     "text": [
      "Estrazione data individuale:  71%|███████▏  | 335/470 [25:39<08:34,  3.81s/it]"
     ]
    },
    {
     "name": "stdout",
     "output_type": "stream",
     "text": [
      "🟨 Elaborazione: Valentina Greco\n",
      "🔍 Pseudonimo rilevato, provo con vero nome: rosa gibertini\n"
     ]
    },
    {
     "name": "stderr",
     "output_type": "stream",
     "text": [
      "Estrazione data individuale:  71%|███████▏  | 336/470 [25:51<13:54,  6.23s/it]"
     ]
    },
    {
     "name": "stdout",
     "output_type": "stream",
     "text": [
      "❌ Nessuna pagina trovata per: Lolita\n",
      "🟨 Elaborazione: Rosanna Fratello\n"
     ]
    },
    {
     "name": "stderr",
     "output_type": "stream",
     "text": [
      "Estrazione data individuale:  72%|███████▏  | 337/470 [25:53<10:47,  4.87s/it]"
     ]
    },
    {
     "name": "stdout",
     "output_type": "stream",
     "text": [
      "🟨 Elaborazione: Donatella Rettore\n",
      "🔍 Pseudonimo rilevato, provo con vero nome: angela cracchiolo\n",
      "🔍 Pseudonimo rilevato, provo con vero nome: xto\n"
     ]
    },
    {
     "name": "stderr",
     "output_type": "stream",
     "text": [
      "Estrazione data individuale:  72%|███████▏  | 338/470 [26:36<36:09, 16.43s/it]"
     ]
    },
    {
     "name": "stdout",
     "output_type": "stream",
     "text": [
      "🟨 Elaborazione: Paola Musiani\n"
     ]
    },
    {
     "name": "stderr",
     "output_type": "stream",
     "text": [
      "Estrazione data individuale:  72%|███████▏  | 339/470 [26:38<26:07, 11.97s/it]"
     ]
    },
    {
     "name": "stdout",
     "output_type": "stream",
     "text": [
      "⚠️ Nessuna data trovata per: Paola Musiani\n",
      "🟨 Elaborazione: Antonella Bottazzi\n"
     ]
    },
    {
     "name": "stderr",
     "output_type": "stream",
     "text": [
      "Estrazione data individuale:  72%|███████▏  | 340/470 [26:40<19:48,  9.14s/it]"
     ]
    },
    {
     "name": "stdout",
     "output_type": "stream",
     "text": [
      "⚠️ Nessuna data trovata per: Antonella Bottazzi\n",
      "🟨 Elaborazione: Rossella\n",
      "🔍 Pseudonimo rilevato, provo con vero nome: rossella valenti e con il solo prenome rossella\n"
     ]
    },
    {
     "name": "stderr",
     "output_type": "stream",
     "text": [
      "Estrazione data individuale:  73%|███████▎  | 341/470 [26:51<20:26,  9.51s/it]"
     ]
    },
    {
     "name": "stdout",
     "output_type": "stream",
     "text": [
      "⚠️ Nessuna data trovata per: Milva\n",
      "🟨 Elaborazione: Sonia Gigliola Conti\n"
     ]
    },
    {
     "name": "stderr",
     "output_type": "stream",
     "text": [
      "Estrazione data individuale:  73%|███████▎  | 342/470 [26:52<15:16,  7.16s/it]"
     ]
    },
    {
     "name": "stdout",
     "output_type": "stream",
     "text": [
      "🟨 Elaborazione: Angela Luce\n",
      "🔍 Pseudonimo rilevato, provo con vero nome: angela savino\n"
     ]
    },
    {
     "name": "stderr",
     "output_type": "stream",
     "text": [
      "Estrazione data individuale:  73%|███████▎  | 343/470 [27:04<18:05,  8.54s/it]"
     ]
    },
    {
     "name": "stdout",
     "output_type": "stream",
     "text": [
      "🟨 Elaborazione: Emy Cesaroni\n",
      "🔍 Pseudonimo rilevato, provo con vero nome: emi cesaroni\n"
     ]
    },
    {
     "name": "stderr",
     "output_type": "stream",
     "text": [
      "Estrazione data individuale:  73%|███████▎  | 344/470 [27:06<13:46,  6.56s/it]"
     ]
    },
    {
     "name": "stdout",
     "output_type": "stream",
     "text": [
      "🟨 Elaborazione: Helena Hellwig\n"
     ]
    },
    {
     "name": "stderr",
     "output_type": "stream",
     "text": [
      "Estrazione data individuale:  73%|███████▎  | 345/470 [27:20<17:59,  8.64s/it]"
     ]
    },
    {
     "name": "stdout",
     "output_type": "stream",
     "text": [
      "🟨 Elaborazione: Eva 2000\n"
     ]
    },
    {
     "name": "stderr",
     "output_type": "stream",
     "text": [
      "Estrazione data individuale:  74%|███████▎  | 346/470 [27:41<25:38, 12.41s/it]"
     ]
    },
    {
     "name": "stdout",
     "output_type": "stream",
     "text": [
      "🟨 Elaborazione: Annagloria\n",
      "🔍 Pseudonimo rilevato, provo con vero nome: anna gloria nieri\n"
     ]
    },
    {
     "name": "stderr",
     "output_type": "stream",
     "text": [
      "Estrazione data individuale:  74%|███████▍  | 347/470 [27:46<21:02, 10.26s/it]"
     ]
    },
    {
     "name": "stdout",
     "output_type": "stream",
     "text": [
      "🟨 Elaborazione: Giovanna D'Angi\n"
     ]
    },
    {
     "name": "stderr",
     "output_type": "stream",
     "text": [
      "Estrazione data individuale:  74%|███████▍  | 348/470 [27:51<17:49,  8.77s/it]"
     ]
    },
    {
     "name": "stdout",
     "output_type": "stream",
     "text": [
      "🟨 Elaborazione: Leila Selli\n",
      "🔍 Pseudonimo rilevato, provo con vero nome: lella spadaro\n"
     ]
    },
    {
     "name": "stderr",
     "output_type": "stream",
     "text": [
      "Estrazione data individuale:  74%|███████▍  | 349/470 [28:40<41:58, 20.82s/it]"
     ]
    },
    {
     "name": "stdout",
     "output_type": "stream",
     "text": [
      "🟨 Elaborazione: Nannarella\n"
     ]
    },
    {
     "name": "stderr",
     "output_type": "stream",
     "text": [
      "Estrazione data individuale:  74%|███████▍  | 350/470 [28:43<30:32, 15.27s/it]"
     ]
    },
    {
     "name": "stdout",
     "output_type": "stream",
     "text": [
      "🟨 Elaborazione: Gloriana\n"
     ]
    },
    {
     "name": "stderr",
     "output_type": "stream",
     "text": [
      "Estrazione data individuale:  75%|███████▍  | 351/470 [28:44<21:47, 10.99s/it]"
     ]
    },
    {
     "name": "stdout",
     "output_type": "stream",
     "text": [
      "🟨 Elaborazione: Romina Power\n"
     ]
    },
    {
     "name": "stderr",
     "output_type": "stream",
     "text": [
      "Estrazione data individuale:  75%|███████▍  | 352/470 [28:45<16:08,  8.21s/it]"
     ]
    },
    {
     "name": "stdout",
     "output_type": "stream",
     "text": [
      "🟨 Elaborazione: Maggie Mae\n",
      "🔍 Pseudonimo rilevato, provo con vero nome: giovanna russo\n",
      "🔍 Pseudonimo rilevato, provo con vero nome: andrea cosima carle\n"
     ]
    },
    {
     "name": "stderr",
     "output_type": "stream",
     "text": [
      "Estrazione data individuale:  75%|███████▌  | 353/470 [28:53<15:54,  8.16s/it]"
     ]
    },
    {
     "name": "stdout",
     "output_type": "stream",
     "text": [
      "🟨 Elaborazione: Gilda\n",
      "🔍 Pseudonimo rilevato, provo con vero nome: rosangela scalabrino\n"
     ]
    },
    {
     "name": "stderr",
     "output_type": "stream",
     "text": [
      "Estrazione data individuale:  75%|███████▌  | 354/470 [29:18<25:31, 13.20s/it]"
     ]
    },
    {
     "name": "stdout",
     "output_type": "stream",
     "text": [
      "❌ Nessuna pagina trovata per: Eva 2000\n",
      "🟨 Elaborazione: Anna Oxa\n"
     ]
    },
    {
     "name": "stderr",
     "output_type": "stream",
     "text": [
      "Estrazione data individuale:  76%|███████▌  | 355/470 [29:20<18:30,  9.66s/it]"
     ]
    },
    {
     "name": "stdout",
     "output_type": "stream",
     "text": [
      "🟨 Elaborazione: Laura Luca\n"
     ]
    },
    {
     "name": "stderr",
     "output_type": "stream",
     "text": [
      "Estrazione data individuale:  76%|███████▌  | 356/470 [29:20<13:00,  6.85s/it]"
     ]
    },
    {
     "name": "stdout",
     "output_type": "stream",
     "text": [
      "🟨 Elaborazione: Dora Moroni\n"
     ]
    },
    {
     "name": "stderr",
     "output_type": "stream",
     "text": [
      "Estrazione data individuale:  76%|███████▌  | 357/470 [29:22<09:53,  5.25s/it]"
     ]
    },
    {
     "name": "stdout",
     "output_type": "stream",
     "text": [
      "🟨 Elaborazione: Lorella Pescerelli\n"
     ]
    },
    {
     "name": "stderr",
     "output_type": "stream",
     "text": [
      "Estrazione data individuale:  76%|███████▌  | 358/470 [29:24<08:17,  4.44s/it]"
     ]
    },
    {
     "name": "stdout",
     "output_type": "stream",
     "text": [
      "🟨 Elaborazione: Nicoletta Bauce\n"
     ]
    },
    {
     "name": "stderr",
     "output_type": "stream",
     "text": [
      "Estrazione data individuale:  76%|███████▋  | 359/470 [29:26<06:36,  3.57s/it]"
     ]
    },
    {
     "name": "stdout",
     "output_type": "stream",
     "text": [
      "🟨 Elaborazione: Gabriella Sanna\n"
     ]
    },
    {
     "name": "stderr",
     "output_type": "stream",
     "text": [
      "Estrazione data individuale:  77%|███████▋  | 360/470 [29:27<05:28,  2.98s/it]"
     ]
    },
    {
     "name": "stdout",
     "output_type": "stream",
     "text": [
      "⚠️ Nessuna data trovata per: Leila Selli\n",
      "🟨 Elaborazione: Sally Oldfield\n"
     ]
    },
    {
     "name": "stderr",
     "output_type": "stream",
     "text": [
      "Estrazione data individuale:  77%|███████▋  | 361/470 [29:29<04:38,  2.55s/it]"
     ]
    },
    {
     "name": "stdout",
     "output_type": "stream",
     "text": [
      "🟨 Elaborazione: Linda Lee\n",
      "🔍 Pseudonimo rilevato, provo con vero nome: rossana marialinda barbieri\n"
     ]
    },
    {
     "name": "stderr",
     "output_type": "stream",
     "text": [
      "Estrazione data individuale:  77%|███████▋  | 362/470 [29:57<18:28, 10.26s/it]"
     ]
    },
    {
     "name": "stdout",
     "output_type": "stream",
     "text": [
      "❌ Nessuna pagina trovata per: Helena Hellwig\n",
      "🟨 Elaborazione: Loretta Goggi\n"
     ]
    },
    {
     "name": "stderr",
     "output_type": "stream",
     "text": [
      "Estrazione data individuale:  77%|███████▋  | 363/470 [30:10<19:53, 11.15s/it]"
     ]
    },
    {
     "name": "stdout",
     "output_type": "stream",
     "text": [
      "🟨 Elaborazione: Fiorella Mannoia\n"
     ]
    },
    {
     "name": "stderr",
     "output_type": "stream",
     "text": [
      "Estrazione data individuale:  77%|███████▋  | 364/470 [30:12<14:40,  8.31s/it]"
     ]
    },
    {
     "name": "stdout",
     "output_type": "stream",
     "text": [
      "🟨 Elaborazione: Jò Chiarello\n"
     ]
    },
    {
     "name": "stderr",
     "output_type": "stream",
     "text": [
      "Estrazione data individuale:  78%|███████▊  | 365/470 [30:14<11:27,  6.55s/it]"
     ]
    },
    {
     "name": "stdout",
     "output_type": "stream",
     "text": [
      "❌ Nessuna pagina trovata per: Giovanna D'Angi\n",
      "🟨 Elaborazione: Lene Lovich\n"
     ]
    },
    {
     "name": "stderr",
     "output_type": "stream",
     "text": [
      "Estrazione data individuale:  78%|███████▊  | 366/470 [30:17<09:16,  5.35s/it]"
     ]
    },
    {
     "name": "stdout",
     "output_type": "stream",
     "text": [
      "🟨 Elaborazione: Elisabetta Viviani\n"
     ]
    },
    {
     "name": "stderr",
     "output_type": "stream",
     "text": [
      "Estrazione data individuale:  78%|███████▊  | 367/470 [30:19<07:43,  4.50s/it]"
     ]
    },
    {
     "name": "stdout",
     "output_type": "stream",
     "text": [
      "🟨 Elaborazione: Mia Martini❌ Errore durante Estrazione data individuale su: Loretta Goggi — HTTPSConnectionPool(host='it.wikipedia.org', port=443): Max retries exceeded with url: /w/api.php?prop=extracts%7Crevisions&explaintext=&rvprop=ids&titles=Loretta+Goggi&format=json&action=query (Caused by ConnectTimeoutError(<urllib3.connection.HTTPSConnection object at 0x0000015F9B0BD8E0>, 'Connection to it.wikipedia.org timed out. (connect timeout=None)'))\n",
      "\n",
      "🔍 Pseudonimo rilevato, provo con vero nome: domenica rita adriana bertè\n"
     ]
    },
    {
     "name": "stderr",
     "output_type": "stream",
     "text": [
      "Estrazione data individuale:  78%|███████▊  | 368/470 [30:26<08:27,  4.98s/it]"
     ]
    },
    {
     "name": "stdout",
     "output_type": "stream",
     "text": [
      "🟨 Elaborazione: Viola Valentino\n",
      "🔍 Pseudonimo rilevato, provo con vero nome: virginia maria minnetti\n"
     ]
    },
    {
     "name": "stderr",
     "output_type": "stream",
     "text": [
      "Estrazione data individuale:  79%|███████▊  | 369/470 [30:34<10:17,  6.11s/it]"
     ]
    },
    {
     "name": "stdout",
     "output_type": "stream",
     "text": [
      "🟨 Elaborazione: Marina Lai\n",
      "❌ Errore durante Estrazione data individuale su: Jò Chiarello — HTTPSConnectionPool(host='it.wikipedia.org', port=443): Max retries exceeded with url: /w/api.php?prop=extracts&explaintext=&exintro=&titles=Jo+Chiarello&format=json&action=query (Caused by ConnectTimeoutError(<urllib3.connection.HTTPSConnection object at 0x0000015F9B109D60>, 'Connection to it.wikipedia.org timed out. (connect timeout=None)'))\n",
      "🔍 Pseudonimo rilevato, provo con vero nome: emanuela gubinelli\n"
     ]
    },
    {
     "name": "stderr",
     "output_type": "stream",
     "text": [
      "Estrazione data individuale:  79%|███████▊  | 370/470 [30:55<17:39, 10.60s/it]"
     ]
    },
    {
     "name": "stdout",
     "output_type": "stream",
     "text": [
      "🟨 Elaborazione: Fiordaliso\n",
      "🔍 Pseudonimo rilevato, provo con vero nome: marina fiordaliso\n"
     ]
    },
    {
     "name": "stderr",
     "output_type": "stream",
     "text": [
      "Estrazione data individuale:  79%|███████▉  | 371/470 [31:35<31:46, 19.26s/it]"
     ]
    },
    {
     "name": "stdout",
     "output_type": "stream",
     "text": [
      "❌ Nessuna pagina trovata per: Gabriella Sanna\n",
      "🟨 Elaborazione: Tiziana Rivale\n",
      "🔍 Pseudonimo rilevato, provo con vero nome: letizia oliva\n"
     ]
    },
    {
     "name": "stderr",
     "output_type": "stream",
     "text": [
      "Estrazione data individuale:  79%|███████▉  | 372/470 [31:37<23:00, 14.09s/it]"
     ]
    },
    {
     "name": "stdout",
     "output_type": "stream",
     "text": [
      "🟨 Elaborazione: Donatella Milani\n"
     ]
    },
    {
     "name": "stderr",
     "output_type": "stream",
     "text": [
      "Estrazione data individuale:  79%|███████▉  | 373/470 [31:44<19:14, 11.90s/it]"
     ]
    },
    {
     "name": "stdout",
     "output_type": "stream",
     "text": [
      "⚠️ Nessuna data trovata per: Maggie Mae\n",
      "🟨 Elaborazione: Dori Ghezzi\n"
     ]
    },
    {
     "name": "stderr",
     "output_type": "stream",
     "text": [
      "Estrazione data individuale:  80%|███████▉  | 374/470 [31:48<15:31,  9.71s/it]"
     ]
    },
    {
     "name": "stdout",
     "output_type": "stream",
     "text": [
      "🟨 Elaborazione: Amii Stewart\n"
     ]
    },
    {
     "name": "stderr",
     "output_type": "stream",
     "text": [
      "Estrazione data individuale:  80%|███████▉  | 375/470 [31:50<11:32,  7.29s/it]"
     ]
    },
    {
     "name": "stdout",
     "output_type": "stream",
     "text": [
      "🟨 Elaborazione: Flavia Fortunato\n"
     ]
    },
    {
     "name": "stderr",
     "output_type": "stream",
     "text": [
      "Estrazione data individuale:  80%|████████  | 376/470 [31:52<08:44,  5.58s/it]"
     ]
    },
    {
     "name": "stdout",
     "output_type": "stream",
     "text": [
      "🟨 Elaborazione: Barbara Boncompagni\n"
     ]
    },
    {
     "name": "stderr",
     "output_type": "stream",
     "text": [
      "Estrazione data individuale:  80%|████████  | 377/470 [31:53<06:45,  4.37s/it]"
     ]
    },
    {
     "name": "stdout",
     "output_type": "stream",
     "text": [
      "🟨 Elaborazione: Daniela Goggi\n",
      "🔍 Pseudonimo rilevato, provo con vero nome: daniela modigliani\n"
     ]
    },
    {
     "name": "stderr",
     "output_type": "stream",
     "text": [
      "Estrazione data individuale:  80%|████████  | 378/470 [31:59<07:28,  4.87s/it]"
     ]
    },
    {
     "name": "stdout",
     "output_type": "stream",
     "text": [
      "🟨 Elaborazione: Brunella Borciani❌ Errore durante Estrazione data individuale su: Donatella Milani — HTTPSConnectionPool(host='it.wikipedia.org', port=443): Max retries exceeded with url: /w/api.php?prop=extracts%7Crevisions&explaintext=&rvprop=ids&titles=Donatella+Milani&format=json&action=query (Caused by ConnectTimeoutError(<urllib3.connection.HTTPSConnection object at 0x0000015F9B0BE270>, 'Connection to it.wikipedia.org timed out. (connect timeout=None)'))\n",
      "\n"
     ]
    },
    {
     "name": "stderr",
     "output_type": "stream",
     "text": [
      "Estrazione data individuale:  81%|████████  | 379/470 [32:01<05:51,  3.86s/it]"
     ]
    },
    {
     "name": "stdout",
     "output_type": "stream",
     "text": [
      "🟨 Elaborazione: Patty Pravo\n"
     ]
    },
    {
     "name": "stderr",
     "output_type": "stream",
     "text": [
      "Estrazione data individuale:  81%|████████  | 380/470 [32:20<12:48,  8.54s/it]"
     ]
    },
    {
     "name": "stdout",
     "output_type": "stream",
     "text": [
      "❌ Nessuna pagina trovata per: Laura Luca\n",
      "🟨 Elaborazione: Marisa Sannia\n"
     ]
    },
    {
     "name": "stderr",
     "output_type": "stream",
     "text": [
      "Estrazione data individuale:  81%|████████  | 381/470 [32:22<09:36,  6.48s/it]"
     ]
    },
    {
     "name": "stdout",
     "output_type": "stream",
     "text": [
      "🟨 Elaborazione: Loredana Bertè\n"
     ]
    },
    {
     "name": "stderr",
     "output_type": "stream",
     "text": [
      "Estrazione data individuale:  81%|████████▏ | 382/470 [32:23<07:07,  4.86s/it]"
     ]
    },
    {
     "name": "stdout",
     "output_type": "stream",
     "text": [
      "🟨 Elaborazione: Rossana Casale❌ Errore durante Estrazione data individuale su: Patty Pravo — HTTPSConnectionPool(host='it.wikipedia.org', port=443): Max retries exceeded with url: /w/api.php?prop=extracts%7Crevisions&explaintext=&rvprop=ids&titles=Patty+Pravo&format=json&action=query (Caused by ConnectTimeoutError(<urllib3.connection.HTTPSConnection object at 0x0000015F9B10B4A0>, 'Connection to it.wikipedia.org timed out. (connect timeout=None)'))\n",
      "\n",
      "🔍 Pseudonimo rilevato, provo con vero nome: renato zero\n"
     ]
    },
    {
     "name": "stderr",
     "output_type": "stream",
     "text": [
      "Estrazione data individuale:  81%|████████▏ | 383/470 [32:24<05:35,  3.86s/it]"
     ]
    },
    {
     "name": "stdout",
     "output_type": "stream",
     "text": [
      "🟨 Elaborazione: Lena Biolcati\n"
     ]
    },
    {
     "name": "stderr",
     "output_type": "stream",
     "text": [
      "Estrazione data individuale:  82%|████████▏ | 385/470 [32:26<03:08,  2.22s/it]"
     ]
    },
    {
     "name": "stdout",
     "output_type": "stream",
     "text": [
      "🟨 Elaborazione: Ornella Vanoni\n",
      "🟨 Elaborazione: Marisa Laurito\n"
     ]
    },
    {
     "name": "stderr",
     "output_type": "stream",
     "text": [
      "Estrazione data individuale:  82%|████████▏ | 386/470 [32:27<02:49,  2.02s/it]"
     ]
    },
    {
     "name": "stdout",
     "output_type": "stream",
     "text": [
      "⚠️ Nomi multipli rilevati, salto: Marcella e Gianni Bella\n",
      "🟨 Elaborazione: Caterina Caselli\n"
     ]
    },
    {
     "name": "stderr",
     "output_type": "stream",
     "text": [
      "Estrazione data individuale:  83%|████████▎ | 388/470 [32:28<01:48,  1.32s/it]"
     ]
    },
    {
     "name": "stdout",
     "output_type": "stream",
     "text": [
      "🟨 Elaborazione: Paola Turci\n"
     ]
    },
    {
     "name": "stderr",
     "output_type": "stream",
     "text": [
      "Estrazione data individuale:  83%|████████▎ | 389/470 [32:29<01:31,  1.13s/it]"
     ]
    },
    {
     "name": "stdout",
     "output_type": "stream",
     "text": [
      "🟨 Elaborazione: Grazia Di Michele\n"
     ]
    },
    {
     "name": "stderr",
     "output_type": "stream",
     "text": [
      "Estrazione data individuale:  83%|████████▎ | 390/470 [32:30<01:28,  1.11s/it]"
     ]
    },
    {
     "name": "stdout",
     "output_type": "stream",
     "text": [
      "🟨 Elaborazione: Mietta\n"
     ]
    },
    {
     "name": "stderr",
     "output_type": "stream",
     "text": [
      "Estrazione data individuale:  83%|████████▎ | 391/470 [32:31<01:15,  1.05it/s]"
     ]
    },
    {
     "name": "stdout",
     "output_type": "stream",
     "text": [
      "🟨 Elaborazione: Daniela\n",
      "🔍 Pseudonimo rilevato, provo con vero nome: daniela miglietta\n"
     ]
    },
    {
     "name": "stderr",
     "output_type": "stream",
     "text": [
      "Estrazione data individuale:  83%|████████▎ | 392/470 [32:32<01:31,  1.17s/it]"
     ]
    },
    {
     "name": "stdout",
     "output_type": "stream",
     "text": [
      "⚠️ Nessuna data trovata per: Daniela\n",
      "🟨 Elaborazione: Mariella Nava\n"
     ]
    },
    {
     "name": "stderr",
     "output_type": "stream",
     "text": [
      "Estrazione data individuale:  84%|████████▎ | 393/470 [32:34<01:40,  1.31s/it]"
     ]
    },
    {
     "name": "stdout",
     "output_type": "stream",
     "text": [
      "🟨 Elaborazione: Lina Sastri\n"
     ]
    },
    {
     "name": "stderr",
     "output_type": "stream",
     "text": [
      "Estrazione data individuale:  84%|████████▍ | 394/470 [32:35<01:44,  1.37s/it]"
     ]
    },
    {
     "name": "stdout",
     "output_type": "stream",
     "text": [
      "🟨 Elaborazione: Francesca Alotta\n"
     ]
    },
    {
     "name": "stderr",
     "output_type": "stream",
     "text": [
      "Estrazione data individuale:  84%|████████▍ | 395/470 [32:37<01:46,  1.42s/it]"
     ]
    },
    {
     "name": "stdout",
     "output_type": "stream",
     "text": [
      "⚠️ Nessuna data trovata per: Francesca Alotta\n",
      "🟨 Elaborazione: Jo Squillo\n",
      "🔍 Pseudonimo rilevato, provo con vero nome: giovanna maria coletti\n"
     ]
    },
    {
     "name": "stderr",
     "output_type": "stream",
     "text": [
      "Estrazione data individuale:  84%|████████▍ | 396/470 [32:51<06:19,  5.13s/it]"
     ]
    },
    {
     "name": "stdout",
     "output_type": "stream",
     "text": [
      "⚠️ Nessuna data trovata per: Viola Valentino\n",
      "🟨 Elaborazione: Laura Pausini\n"
     ]
    },
    {
     "name": "stderr",
     "output_type": "stream",
     "text": [
      "Estrazione data individuale:  84%|████████▍ | 397/470 [32:51<04:32,  3.73s/it]"
     ]
    },
    {
     "name": "stdout",
     "output_type": "stream",
     "text": [
      "🟨 Elaborazione: Gerardina Trovato\n"
     ]
    },
    {
     "name": "stderr",
     "output_type": "stream",
     "text": [
      "Estrazione data individuale:  85%|████████▍ | 399/470 [32:53<02:33,  2.16s/it]"
     ]
    },
    {
     "name": "stdout",
     "output_type": "stream",
     "text": [
      "🟨 Elaborazione: Claudia Mori\n",
      "🟨 Elaborazione: Giorgia\n",
      "🔍 Pseudonimo rilevato, provo con vero nome: claudia moroni\n"
     ]
    },
    {
     "name": "stderr",
     "output_type": "stream",
     "text": [
      "Estrazione data individuale:  85%|████████▌ | 400/470 [32:56<02:49,  2.42s/it]"
     ]
    },
    {
     "name": "stdout",
     "output_type": "stream",
     "text": [
      "🟨 Elaborazione: Ivana Spagna\n"
     ]
    },
    {
     "name": "stderr",
     "output_type": "stream",
     "text": [
      "Estrazione data individuale:  85%|████████▌ | 401/470 [33:27<12:41, 11.04s/it]"
     ]
    },
    {
     "name": "stdout",
     "output_type": "stream",
     "text": [
      "⚠️ Nessuna data trovata per: Giorgia\n",
      "🟨 Elaborazione: Lighea\n",
      "🔍 Pseudonimo rilevato, provo con vero nome: tania montelpare\n"
     ]
    },
    {
     "name": "stderr",
     "output_type": "stream",
     "text": [
      "Estrazione data individuale:  86%|████████▌ | 402/470 [33:47<15:23, 13.58s/it]"
     ]
    },
    {
     "name": "stdout",
     "output_type": "stream",
     "text": [
      "🟨 Elaborazione: Antonella Arancio\n"
     ]
    },
    {
     "name": "stderr",
     "output_type": "stream",
     "text": [
      "Estrazione data individuale:  86%|████████▌ | 403/470 [34:15<20:09, 18.04s/it]"
     ]
    },
    {
     "name": "stdout",
     "output_type": "stream",
     "text": [
      "🟨 Elaborazione: Lorella Cuccarini\n",
      "🔍 Pseudonimo rilevato, provo con vero nome: silvio testi\n"
     ]
    },
    {
     "name": "stderr",
     "output_type": "stream",
     "text": [
      "Estrazione data individuale:  86%|████████▌ | 404/470 [34:18<14:48, 13.46s/it]"
     ]
    },
    {
     "name": "stdout",
     "output_type": "stream",
     "text": [
      "🟨 Elaborazione: Francesca Schiavo\n"
     ]
    },
    {
     "name": "stderr",
     "output_type": "stream",
     "text": [
      "Estrazione data individuale:  86%|████████▌ | 405/470 [34:19<10:42,  9.88s/it]"
     ]
    },
    {
     "name": "stdout",
     "output_type": "stream",
     "text": [
      "🟨 Elaborazione: Valeria Visconti\n"
     ]
    },
    {
     "name": "stderr",
     "output_type": "stream",
     "text": [
      "Estrazione data individuale:  86%|████████▋ | 406/470 [34:21<07:52,  7.38s/it]"
     ]
    },
    {
     "name": "stdout",
     "output_type": "stream",
     "text": [
      "🟨 Elaborazione: Rossella Marcone\n"
     ]
    },
    {
     "name": "stderr",
     "output_type": "stream",
     "text": [
      "Estrazione data individuale:  87%|████████▋ | 407/470 [34:22<05:47,  5.51s/it]"
     ]
    },
    {
     "name": "stdout",
     "output_type": "stream",
     "text": [
      "🟨 Elaborazione: Raffaella Cavalli\n"
     ]
    },
    {
     "name": "stderr",
     "output_type": "stream",
     "text": [
      "Estrazione data individuale:  87%|████████▋ | 408/470 [34:24<04:27,  4.31s/it]"
     ]
    },
    {
     "name": "stdout",
     "output_type": "stream",
     "text": [
      "🟨 Elaborazione: Syria\n",
      "🔍 Pseudonimo rilevato, provo con vero nome: cecilia syria cipressi\n"
     ]
    },
    {
     "name": "stderr",
     "output_type": "stream",
     "text": [
      "Estrazione data individuale:  87%|████████▋ | 409/470 [34:40<08:11,  8.06s/it]"
     ]
    },
    {
     "name": "stdout",
     "output_type": "stream",
     "text": [
      "🟨 Elaborazione: Silvia Salemi\n"
     ]
    },
    {
     "name": "stderr",
     "output_type": "stream",
     "text": [
      "Estrazione data individuale:  87%|████████▋ | 410/470 [34:43<06:18,  6.32s/it]"
     ]
    },
    {
     "name": "stdout",
     "output_type": "stream",
     "text": [
      "🟨 Elaborazione: Marina Rei❌ Errore durante Estrazione data individuale su: Rossella Marcone — HTTPSConnectionPool(host='it.wikipedia.org', port=443): Max retries exceeded with url: /w/api.php?prop=extracts&explaintext=&exintro=&titles=Rossella+Marcone&format=json&action=query (Caused by ConnectTimeoutError(<urllib3.connection.HTTPSConnection object at 0x0000015F9B1082F0>, 'Connection to it.wikipedia.org timed out. (connect timeout=None)'))\n",
      "\n"
     ]
    },
    {
     "name": "stderr",
     "output_type": "stream",
     "text": [
      "Estrazione data individuale:  87%|████████▋ | 411/470 [34:43<04:30,  4.58s/it]"
     ]
    },
    {
     "name": "stdout",
     "output_type": "stream",
     "text": [
      "❌ Nessuna pagina trovata per: Ivana Spagna\n",
      "🟨 Elaborazione: Carmen Consoli\n",
      "🔍 Pseudonimo rilevato, provo con vero nome: marina restuccia\n"
     ]
    },
    {
     "name": "stderr",
     "output_type": "stream",
     "text": [
      "Estrazione data individuale:  88%|████████▊ | 412/470 [34:45<03:34,  3.70s/it]"
     ]
    },
    {
     "name": "stdout",
     "output_type": "stream",
     "text": [
      "🟨 Elaborazione: Olivia\n"
     ]
    },
    {
     "name": "stderr",
     "output_type": "stream",
     "text": [
      "Estrazione data individuale:  88%|████████▊ | 413/470 [34:49<03:44,  3.93s/it]"
     ]
    },
    {
     "name": "stdout",
     "output_type": "stream",
     "text": [
      "🟨 Elaborazione: Adriana Ruocco\n"
     ]
    },
    {
     "name": "stderr",
     "output_type": "stream",
     "text": [
      "Estrazione data individuale:  88%|████████▊ | 414/470 [34:51<03:01,  3.24s/it]"
     ]
    },
    {
     "name": "stdout",
     "output_type": "stream",
     "text": [
      "🟨 Elaborazione: Petra Magoni\n"
     ]
    },
    {
     "name": "stderr",
     "output_type": "stream",
     "text": [
      "Estrazione data individuale:  88%|████████▊ | 415/470 [35:13<08:16,  9.04s/it]"
     ]
    },
    {
     "name": "stdout",
     "output_type": "stream",
     "text": [
      "🟨 Elaborazione: Annalisa Minetti❌ Errore durante Estrazione data individuale su: Petra Magoni — HTTPSConnectionPool(host='it.wikipedia.org', port=443): Max retries exceeded with url: /w/api.php?prop=extracts%7Crevisions&explaintext=&rvprop=ids&titles=Petra+Magoni&format=json&action=query (Caused by ConnectTimeoutError(<urllib3.connection.HTTPSConnection object at 0x0000015F9B1434D0>, 'Connection to it.wikipedia.org timed out. (connect timeout=None)'))\n",
      "\n"
     ]
    },
    {
     "name": "stderr",
     "output_type": "stream",
     "text": [
      "Estrazione data individuale:  89%|████████▊ | 416/470 [35:16<06:25,  7.15s/it]"
     ]
    },
    {
     "name": "stdout",
     "output_type": "stream",
     "text": [
      "🟨 Elaborazione: Antonella Ruggiero\n"
     ]
    },
    {
     "name": "stderr",
     "output_type": "stream",
     "text": [
      "Estrazione data individuale:  89%|████████▊ | 417/470 [35:18<04:51,  5.50s/it]"
     ]
    },
    {
     "name": "stdout",
     "output_type": "stream",
     "text": [
      "🟨 Elaborazione: Lisa\n",
      "🔍 Pseudonimo rilevato, provo con vero nome: lalisa manobal\n"
     ]
    },
    {
     "name": "stderr",
     "output_type": "stream",
     "text": [
      "Estrazione data individuale:  89%|████████▉ | 418/470 [35:30<06:32,  7.54s/it]"
     ]
    },
    {
     "name": "stdout",
     "output_type": "stream",
     "text": [
      "🟨 Elaborazione: Irene Grandi\n"
     ]
    },
    {
     "name": "stderr",
     "output_type": "stream",
     "text": [
      "Estrazione data individuale:  89%|████████▉ | 419/470 [35:31<04:36,  5.41s/it]"
     ]
    },
    {
     "name": "stdout",
     "output_type": "stream",
     "text": [
      "🟨 Elaborazione: Elisa\n",
      "🔍 Pseudonimo rilevato, provo con vero nome: lisa kant già sua corista\n"
     ]
    },
    {
     "name": "stderr",
     "output_type": "stream",
     "text": [
      "Estrazione data individuale:  89%|████████▉ | 420/470 [35:51<08:17,  9.95s/it]"
     ]
    },
    {
     "name": "stdout",
     "output_type": "stream",
     "text": [
      "🟨 Elaborazione: Jenny B\n",
      "🔍 Pseudonimo rilevato, provo con vero nome: giovanna bersola\n"
     ]
    },
    {
     "name": "stderr",
     "output_type": "stream",
     "text": [
      "Estrazione data individuale:  90%|████████▉ | 421/470 [35:57<07:10,  8.79s/it]"
     ]
    },
    {
     "name": "stdout",
     "output_type": "stream",
     "text": [
      "🟨 Elaborazione: Alexia\n",
      "🔍 Pseudonimo rilevato, provo con vero nome: alessia aquilani\n",
      "🔍 Pseudonimo rilevato, provo con vero nome: elisa toffoli\n"
     ]
    },
    {
     "name": "stderr",
     "output_type": "stream",
     "text": [
      "Estrazione data individuale:  90%|████████▉ | 422/470 [36:10<07:54,  9.88s/it]"
     ]
    },
    {
     "name": "stdout",
     "output_type": "stream",
     "text": [
      "❌ Nessuna pagina trovata per: Antonella Arancio\n",
      "🟨 Elaborazione: Filippa Giordano\n"
     ]
    },
    {
     "name": "stderr",
     "output_type": "stream",
     "text": [
      "Estrazione data individuale:  90%|█████████ | 423/470 [36:11<05:47,  7.40s/it]"
     ]
    },
    {
     "name": "stdout",
     "output_type": "stream",
     "text": [
      "🟨 Elaborazione: Giuni Russo\n",
      "🔍 Pseudonimo rilevato, provo con vero nome: giuseppa romeo\n"
     ]
    },
    {
     "name": "stderr",
     "output_type": "stream",
     "text": [
      "Estrazione data individuale:  90%|█████████ | 424/470 [37:05<16:23, 21.39s/it]"
     ]
    },
    {
     "name": "stdout",
     "output_type": "stream",
     "text": [
      "🟨 Elaborazione: Linda\n"
     ]
    },
    {
     "name": "stderr",
     "output_type": "stream",
     "text": [
      "Estrazione data individuale:  90%|█████████ | 425/470 [37:12<12:41, 16.92s/it]"
     ]
    },
    {
     "name": "stdout",
     "output_type": "stream",
     "text": [
      "🟨 Elaborazione: Veruska\n"
     ]
    },
    {
     "name": "stderr",
     "output_type": "stream",
     "text": [
      "Estrazione data individuale:  91%|█████████ | 426/470 [37:13<09:00, 12.28s/it]"
     ]
    },
    {
     "name": "stdout",
     "output_type": "stream",
     "text": [
      "🟨 Elaborazione: Laura Bono\n",
      "🔍 Pseudonimo rilevato, provo con vero nome: laura bonometti\n"
     ]
    },
    {
     "name": "stderr",
     "output_type": "stream",
     "text": [
      "Estrazione data individuale:  91%|█████████ | 427/470 [37:19<07:20, 10.24s/it]"
     ]
    },
    {
     "name": "stdout",
     "output_type": "stream",
     "text": [
      "🟨 Elaborazione: Chiara\n"
     ]
    },
    {
     "name": "stderr",
     "output_type": "stream",
     "text": [
      "Estrazione data individuale:  91%|█████████ | 428/470 [37:21<05:32,  7.91s/it]"
     ]
    },
    {
     "name": "stdout",
     "output_type": "stream",
     "text": [
      "⚠️ Nessuna data trovata per: Chiara\n",
      "🟨 Elaborazione: Anna Tatangelo\n"
     ]
    },
    {
     "name": "stderr",
     "output_type": "stream",
     "text": [
      "Estrazione data individuale:  91%|█████████▏| 429/470 [37:23<04:06,  6.02s/it]"
     ]
    },
    {
     "name": "stdout",
     "output_type": "stream",
     "text": [
      "🟨 Elaborazione: Camilla\n"
     ]
    },
    {
     "name": "stderr",
     "output_type": "stream",
     "text": [
      "Estrazione data individuale:  91%|█████████▏| 430/470 [37:24<03:06,  4.66s/it]"
     ]
    },
    {
     "name": "stdout",
     "output_type": "stream",
     "text": [
      "⚠️ Nessuna data trovata per: Camilla\n",
      "🟨 Elaborazione: Dolcenera\n"
     ]
    },
    {
     "name": "stderr",
     "output_type": "stream",
     "text": [
      "Estrazione data individuale:  92%|█████████▏| 431/470 [37:25<02:19,  3.57s/it]"
     ]
    },
    {
     "name": "stdout",
     "output_type": "stream",
     "text": [
      "🟨 Elaborazione: Simona Bencini\n",
      "🔍 Pseudonimo rilevato, provo con vero nome: emanuela trane\n"
     ]
    },
    {
     "name": "stderr",
     "output_type": "stream",
     "text": [
      "Estrazione data individuale:  92%|█████████▏| 432/470 [37:27<01:52,  2.96s/it]"
     ]
    },
    {
     "name": "stdout",
     "output_type": "stream",
     "text": [
      "🟨 Elaborazione: Nicky Nicolai\n"
     ]
    },
    {
     "name": "stderr",
     "output_type": "stream",
     "text": [
      "Estrazione data individuale:  92%|█████████▏| 433/470 [37:30<01:46,  2.87s/it]"
     ]
    },
    {
     "name": "stdout",
     "output_type": "stream",
     "text": [
      "⚠️ Nessuna data trovata per: Giuni Russo\n",
      "🟨 Elaborazione: L'Aura\n",
      "🔍 Pseudonimo rilevato, provo con vero nome: laura abela\n"
     ]
    },
    {
     "name": "stderr",
     "output_type": "stream",
     "text": [
      "Estrazione data individuale:  92%|█████████▏| 434/470 [37:42<03:23,  5.65s/it]"
     ]
    },
    {
     "name": "stdout",
     "output_type": "stream",
     "text": [
      "🟨 Elaborazione: Amalia Gré\n"
     ]
    },
    {
     "name": "stderr",
     "output_type": "stream",
     "text": [
      "Estrazione data individuale:  93%|█████████▎| 435/470 [37:48<03:26,  5.91s/it]"
     ]
    },
    {
     "name": "stdout",
     "output_type": "stream",
     "text": [
      "🟨 Elaborazione: Leda Battisti\n"
     ]
    },
    {
     "name": "stderr",
     "output_type": "stream",
     "text": [
      "Estrazione data individuale:  93%|█████████▎| 436/470 [37:50<02:36,  4.59s/it]"
     ]
    },
    {
     "name": "stdout",
     "output_type": "stream",
     "text": [
      "🟨 Elaborazione: Ariete\n",
      "🔍 Pseudonimo rilevato, provo con vero nome: arianna del giaccio\n"
     ]
    },
    {
     "name": "stderr",
     "output_type": "stream",
     "text": [
      "Estrazione data individuale:  93%|█████████▎| 437/470 [38:03<04:01,  7.31s/it]"
     ]
    },
    {
     "name": "stdout",
     "output_type": "stream",
     "text": [
      "🟨 Elaborazione: Noemi❌ Errore durante Estrazione data individuale su: Amalia Gré — HTTPSConnectionPool(host='it.wikipedia.org', port=443): Max retries exceeded with url: /w/api.php?prop=extracts&explaintext=&exintro=&titles=Amalia+Gr%C3%A9&format=json&action=query (Caused by ConnectTimeoutError(<urllib3.connection.HTTPSConnection object at 0x0000015F9C1725A0>, 'Connection to it.wikipedia.org timed out. (connect timeout=None)'))\n",
      "\n",
      "🔍 Pseudonimo rilevato, provo con vero nome: veronica scopelliti\n"
     ]
    },
    {
     "name": "stderr",
     "output_type": "stream",
     "text": [
      "Estrazione data individuale:  93%|█████████▎| 438/470 [38:18<05:08,  9.63s/it]"
     ]
    },
    {
     "name": "stdout",
     "output_type": "stream",
     "text": [
      "🟨 Elaborazione: Malika Ayane\n"
     ]
    },
    {
     "name": "stderr",
     "output_type": "stream",
     "text": [
      "Estrazione data individuale:  93%|█████████▎| 439/470 [38:20<03:45,  7.28s/it]"
     ]
    },
    {
     "name": "stdout",
     "output_type": "stream",
     "text": [
      "🟨 Elaborazione: Arisa\n",
      "🔍 Pseudonimo rilevato, provo con vero nome: rosalba pippa\n",
      "🔍 Pseudonimo rilevato, provo con vero nome: svetlana l'vovna gejman\n"
     ]
    },
    {
     "name": "stderr",
     "output_type": "stream",
     "text": [
      "Estrazione data individuale:  94%|█████████▎| 440/470 [39:28<12:39, 25.33s/it]"
     ]
    },
    {
     "name": "stdout",
     "output_type": "stream",
     "text": [
      "🟨 Elaborazione: Antonella Bellan\n"
     ]
    },
    {
     "name": "stderr",
     "output_type": "stream",
     "text": [
      "Estrazione data individuale:  94%|█████████▍| 441/470 [39:31<09:07, 18.87s/it]"
     ]
    },
    {
     "name": "stdout",
     "output_type": "stream",
     "text": [
      "❌ Nessuna pagina trovata per: Nicky Nicolai\n",
      "🟨 Elaborazione: Giusy Ferreri\n"
     ]
    },
    {
     "name": "stderr",
     "output_type": "stream",
     "text": [
      "Estrazione data individuale:  94%|█████████▍| 442/470 [39:36<06:48, 14.59s/it]"
     ]
    },
    {
     "name": "stdout",
     "output_type": "stream",
     "text": [
      "🟨 Elaborazione: Emma\n"
     ]
    },
    {
     "name": "stderr",
     "output_type": "stream",
     "text": [
      "Estrazione data individuale:  94%|█████████▍| 443/470 [39:39<04:56, 10.97s/it]"
     ]
    },
    {
     "name": "stdout",
     "output_type": "stream",
     "text": [
      "⚠️ Nessuna data trovata per: Emma\n",
      "🟨 Elaborazione: Nina Zilli\n",
      "🔍 Pseudonimo rilevato, provo con vero nome: maria chiara fraschetta\n"
     ]
    },
    {
     "name": "stderr",
     "output_type": "stream",
     "text": [
      "Estrazione data individuale:  94%|█████████▍| 444/470 [39:44<03:59,  9.21s/it]"
     ]
    },
    {
     "name": "stdout",
     "output_type": "stream",
     "text": [
      "🟨 Elaborazione: Chiara Civello\n"
     ]
    },
    {
     "name": "stderr",
     "output_type": "stream",
     "text": [
      "Estrazione data individuale:  95%|█████████▍| 445/470 [39:46<02:58,  7.15s/it]"
     ]
    },
    {
     "name": "stdout",
     "output_type": "stream",
     "text": [
      "🟨 Elaborazione: Irene Fornaciari\n"
     ]
    },
    {
     "name": "stderr",
     "output_type": "stream",
     "text": [
      "Estrazione data individuale:  95%|█████████▍| 446/470 [39:48<02:11,  5.49s/it]"
     ]
    },
    {
     "name": "stdout",
     "output_type": "stream",
     "text": [
      "🟨 Elaborazione: Annalisa\n"
     ]
    },
    {
     "name": "stderr",
     "output_type": "stream",
     "text": [
      "Estrazione data individuale:  95%|█████████▌| 447/470 [39:49<01:38,  4.30s/it]"
     ]
    },
    {
     "name": "stdout",
     "output_type": "stream",
     "text": [
      "⚠️ Nessuna data trovata per: Annalisa\n",
      "🟨 Elaborazione: Maria Nazionale\n"
     ]
    },
    {
     "name": "stderr",
     "output_type": "stream",
     "text": [
      "Estrazione data individuale:  95%|█████████▌| 448/470 [39:51<01:16,  3.46s/it]"
     ]
    },
    {
     "name": "stdout",
     "output_type": "stream",
     "text": [
      "🟨 Elaborazione: Bianca Atzei\n",
      "🔍 Pseudonimo rilevato, provo con vero nome: veronica atzei\n"
     ]
    },
    {
     "name": "stderr",
     "output_type": "stream",
     "text": [
      "Estrazione data individuale:  96%|█████████▌| 449/470 [39:55<01:17,  3.67s/it]"
     ]
    },
    {
     "name": "stdout",
     "output_type": "stream",
     "text": [
      "🟨 Elaborazione: Angelica\n"
     ]
    },
    {
     "name": "stderr",
     "output_type": "stream",
     "text": [
      "Estrazione data individuale:  96%|█████████▌| 450/470 [39:58<01:09,  3.46s/it]"
     ]
    },
    {
     "name": "stdout",
     "output_type": "stream",
     "text": [
      "🟨 Elaborazione: Lara Fabian\n",
      "🔍 Pseudonimo rilevato, provo con vero nome: lara sophie katy crokaert\n"
     ]
    },
    {
     "name": "stderr",
     "output_type": "stream",
     "text": [
      "Estrazione data individuale:  96%|█████████▌| 451/470 [40:18<02:40,  8.47s/it]"
     ]
    },
    {
     "name": "stdout",
     "output_type": "stream",
     "text": [
      "🟨 Elaborazione: Francesca Michielin\n"
     ]
    },
    {
     "name": "stderr",
     "output_type": "stream",
     "text": [
      "Estrazione data individuale:  96%|█████████▌| 452/470 [40:23<02:14,  7.46s/it]"
     ]
    },
    {
     "name": "stdout",
     "output_type": "stream",
     "text": [
      "❌ Nessuna pagina trovata per: Antonella Bellan\n",
      "🟨 Elaborazione: Elodie\n",
      "🔍 Pseudonimo rilevato, provo con vero nome: elodie di patrizi\n"
     ]
    },
    {
     "name": "stderr",
     "output_type": "stream",
     "text": [
      "Estrazione data individuale:  96%|█████████▋| 453/470 [40:27<01:46,  6.27s/it]"
     ]
    },
    {
     "name": "stdout",
     "output_type": "stream",
     "text": [
      "🟨 Elaborazione: Lodovica Comello\n"
     ]
    },
    {
     "name": "stderr",
     "output_type": "stream",
     "text": [
      "Estrazione data individuale:  97%|█████████▋| 454/470 [40:28<01:17,  4.86s/it]"
     ]
    },
    {
     "name": "stdout",
     "output_type": "stream",
     "text": [
      "🟨 Elaborazione: Alice\n",
      "🔍 Pseudonimo rilevato, provo con vero nome: carla bissi\n"
     ]
    },
    {
     "name": "stderr",
     "output_type": "stream",
     "text": [
      "Estrazione data individuale:  97%|█████████▋| 455/470 [40:52<02:37, 10.50s/it]"
     ]
    },
    {
     "name": "stdout",
     "output_type": "stream",
     "text": [
      "🟨 Elaborazione: Giordana Angi\n"
     ]
    },
    {
     "name": "stderr",
     "output_type": "stream",
     "text": [
      "Estrazione data individuale:  97%|█████████▋| 456/470 [40:56<02:02,  8.72s/it]"
     ]
    },
    {
     "name": "stdout",
     "output_type": "stream",
     "text": [
      "🟨 Elaborazione: Elettra Lamborghini\n"
     ]
    },
    {
     "name": "stderr",
     "output_type": "stream",
     "text": [
      "Estrazione data individuale:  97%|█████████▋| 457/470 [41:18<02:43, 12.61s/it]"
     ]
    },
    {
     "name": "stdout",
     "output_type": "stream",
     "text": [
      "🟨 Elaborazione: Gaia❌ Errore durante Estrazione data individuale su: Elettra Lamborghini — HTTPSConnectionPool(host='it.wikipedia.org', port=443): Max retries exceeded with url: /w/api.php?prop=extracts&explaintext=&exintro=&titles=Elettra+Lamborghini&format=json&action=query (Caused by ConnectTimeoutError(<urllib3.connection.HTTPSConnection object at 0x0000015F9AE28CE0>, 'Connection to it.wikipedia.org timed out. (connect timeout=None)'))\n",
      "\n",
      "🔍 Pseudonimo rilevato, provo con vero nome: gaia gozzi\n"
     ]
    },
    {
     "name": "stderr",
     "output_type": "stream",
     "text": [
      "Estrazione data individuale:  97%|█████████▋| 458/470 [41:29<02:26, 12.22s/it]"
     ]
    },
    {
     "name": "stdout",
     "output_type": "stream",
     "text": [
      "🟨 Elaborazione: Ana Mena\n"
     ]
    },
    {
     "name": "stderr",
     "output_type": "stream",
     "text": [
      "Estrazione data individuale:  98%|█████████▊| 459/470 [41:31<01:39,  9.05s/it]"
     ]
    },
    {
     "name": "stdout",
     "output_type": "stream",
     "text": [
      "🟨 Elaborazione: Mara Sattei\n",
      "🔍 Pseudonimo rilevato, provo con vero nome: sara mattei\n"
     ]
    },
    {
     "name": "stderr",
     "output_type": "stream",
     "text": [
      "Estrazione data individuale:  98%|█████████▊| 460/470 [41:58<02:25, 14.58s/it]"
     ]
    },
    {
     "name": "stdout",
     "output_type": "stream",
     "text": [
      "🟨 Elaborazione: Shari\n"
     ]
    },
    {
     "name": "stderr",
     "output_type": "stream",
     "text": [
      "Estrazione data individuale:  98%|█████████▊| 462/470 [42:06<01:12,  9.04s/it]"
     ]
    },
    {
     "name": "stdout",
     "output_type": "stream",
     "text": [
      "❌ Nessuna pagina trovata per: Chiara Civello\n"
     ]
    },
    {
     "name": "stderr",
     "output_type": "stream",
     "text": [
      "Estrazione data individuale: 100%|██████████| 470/470 [1:26:57<00:00, 11.10s/it] "
     ]
    },
    {
     "name": "stdout",
     "output_type": "stream",
     "text": [
      "⚠️ Nessuna data trovata per: Claudio Villa\n",
      "\n",
      "✅ File salvato con successo: Artisti_con_data_nascita_ottimizzata.xlsx\n"
     ]
    },
    {
     "name": "stderr",
     "output_type": "stream",
     "text": [
      "\n"
     ]
    }
   ],
   "source": [
    "import pandas as pd\n",
    "import wikipedia\n",
    "import re\n",
    "import concurrent.futures\n",
    "from tqdm import tqdm\n",
    "\n",
    "wikipedia.set_lang(\"it\")\n",
    "wikipedia.set_rate_limiting(True)\n",
    "\n",
    "file_path = \"File Unico Sanremo.xlsx\"\n",
    "df = pd.read_excel(file_path, sheet_name=\"Artisti Unici con genere\")\n",
    "\n",
    "df_individuali = df[df[\"Genere\"].isin([\"Maschio\", \"Femmina\"])].copy()\n",
    "df_gruppi = df[~df[\"Genere\"].isin([\"Maschio\", \"Femmina\"])].copy()\n",
    "df_gruppi[\"Data di nascita\"] = \"Da verificare\"\n",
    "\n",
    "dob_cache = {}\n",
    "mesi_ita = {\n",
    "    \"gennaio\": \"01\", \"febbraio\": \"02\", \"marzo\": \"03\", \"aprile\": \"04\",\n",
    "    \"maggio\": \"05\", \"giugno\": \"06\", \"luglio\": \"07\", \"agosto\": \"08\",\n",
    "    \"settembre\": \"09\", \"ottobre\": \"10\", \"novembre\": \"11\", \"dicembre\": \"12\"\n",
    "}\n",
    "\n",
    "def cerca_pagina(artista):\n",
    "    varianti = [\n",
    "        artista,\n",
    "        f\"{artista} (cantante)\",\n",
    "        f\"{artista} (rapper)\",\n",
    "        f\"{artista} cantante italiano\",\n",
    "        f\"{artista} cantante italiana\",\n",
    "        f\"{artista} musicista\",\n",
    "        f\"{artista} cantautore\",\n",
    "        f\"{artista} cantautrice\",\n",
    "        f\"{artista} sanremo\"\n",
    "    ]\n",
    "\n",
    "    # Aggiunge varianti con anno probabile di nascita\n",
    "    for anno in range(1930, 2010):\n",
    "        varianti.append(f\"{artista} (cantante {anno})\")\n",
    "\n",
    "    for nome in varianti:\n",
    "        try:\n",
    "            return wikipedia.page(nome, auto_suggest=False, preload=False)\n",
    "        except (wikipedia.exceptions.DisambiguationError, wikipedia.exceptions.PageError):\n",
    "            continue\n",
    "        except Exception:\n",
    "            continue\n",
    "    return None\n",
    "\n",
    "def estrai_data_da_testo(testo):\n",
    "    testo = testo.lower()\n",
    "\n",
    "    match = re.search(r'\\(([^,]+),\\s*(\\d{1,2})\\s+([a-z]+)\\s+(\\d{4})\\)', testo)\n",
    "    if match:\n",
    "        giorno = match.group(2).zfill(2)\n",
    "        mese = mesi_ita.get(match.group(3))\n",
    "        anno = match.group(4)\n",
    "        if mese:\n",
    "            return f\"{giorno}/{mese}/{anno}\"\n",
    "\n",
    "    match = re.search(r'(nato|nata) il (\\d{1,2})\\s+([a-z]+)\\s+(\\d{4})', testo)\n",
    "    if match:\n",
    "        giorno = match.group(2).zfill(2)\n",
    "        mese = mesi_ita.get(match.group(3))\n",
    "        anno = match.group(4)\n",
    "        if mese:\n",
    "            return f\"{giorno}/{mese}/{anno}\"\n",
    "\n",
    "    match = re.search(r'(nato|nata) a [a-zàèéòùì\\s]+ nel (\\d{4})', testo)\n",
    "    if match:\n",
    "        anno = match.group(2)\n",
    "        return f\"01/01/{anno}\"\n",
    "\n",
    "    return None\n",
    "\n",
    "def estrai_data_nascita(artista):\n",
    "    if artista in dob_cache:\n",
    "        return dob_cache[artista]\n",
    "\n",
    "    if any(sep in artista.lower() for sep in [\",\", \" e \", \" - \"]):\n",
    "        print(f\"⚠️ Nomi multipli rilevati, salto: {artista}\")\n",
    "        return \"Da verificare\"\n",
    "\n",
    "    print(f\"🟨 Elaborazione: {artista}\")\n",
    "    pagina = cerca_pagina(artista)\n",
    "    if pagina is None:\n",
    "        print(f\"❌ Nessuna pagina trovata per: {artista}\")\n",
    "        return \"Da verificare\"\n",
    "\n",
    "    contenuto = (pagina.summary + \" \" + pagina.content).lower()\n",
    "\n",
    "    # Cerca nome reale se pseudonimo\n",
    "    if \"pseudonimo di\" in contenuto:\n",
    "        match_nome = re.search(r\"pseudonimo di ([a-zàèéòùì'\\s]+)\", contenuto)\n",
    "        if match_nome:\n",
    "            vero_nome = match_nome.group(1).strip()\n",
    "            print(f\"🔍 Pseudonimo rilevato, provo con vero nome: {vero_nome}\")\n",
    "            pagina_vero_nome = cerca_pagina(vero_nome)\n",
    "            if pagina_vero_nome:\n",
    "                contenuto += \" \" + pagina_vero_nome.summary.lower()\n",
    "\n",
    "    data = estrai_data_da_testo(contenuto)\n",
    "    if data:\n",
    "        dob_cache[artista] = data\n",
    "        return data\n",
    "\n",
    "    print(f\"⚠️ Nessuna data trovata per: {artista}\")\n",
    "    return \"Da verificare\"\n",
    "\n",
    "def apply_parallel(df, func, descrizione):\n",
    "    results = []\n",
    "    with concurrent.futures.ThreadPoolExecutor(max_workers=10) as executor:\n",
    "        futures = {executor.submit(func, artista): artista for artista in df[\"Artista\"]}\n",
    "        for future in tqdm(concurrent.futures.as_completed(futures), total=len(futures), desc=descrizione):\n",
    "            artista = futures[future]\n",
    "            try:\n",
    "                result = future.result()\n",
    "                results.append(result)\n",
    "            except Exception as e:\n",
    "                print(f\"❌ Errore durante {descrizione} su: {artista} — {e}\")\n",
    "                results.append(\"Errore\")\n",
    "    return results\n",
    "\n",
    "df_individuali[\"Data di nascita\"] = apply_parallel(df_individuali, estrai_data_nascita, \"Estrazione data individuale\")\n",
    "df_finale = pd.concat([df_individuali, df_gruppi]).sort_index()\n",
    "output_file = \"Artisti_con_data_nascita_ottimizzata.xlsx\"\n",
    "df_finale.to_excel(output_file, index=False)\n",
    "print(f\"\\n✅ File salvato con successo: {output_file}\")\n"
   ]
  },
  {
   "cell_type": "code",
   "execution_count": null,
   "id": "171b16e5-f564-4473-9ca4-4221fd662d17",
   "metadata": {},
   "outputs": [],
   "source": []
  }
 ],
 "metadata": {
  "kernelspec": {
   "display_name": "Python [conda env:base] *",
   "language": "python",
   "name": "conda-base-py"
  },
  "language_info": {
   "codemirror_mode": {
    "name": "ipython",
    "version": 3
   },
   "file_extension": ".py",
   "mimetype": "text/x-python",
   "name": "python",
   "nbconvert_exporter": "python",
   "pygments_lexer": "ipython3",
   "version": "3.12.7"
  }
 },
 "nbformat": 4,
 "nbformat_minor": 5
}

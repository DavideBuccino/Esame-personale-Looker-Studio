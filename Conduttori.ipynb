{
 "cells": [
  {
   "cell_type": "markdown",
   "id": "08447015-fb9e-4287-9057-5ecf7b37e68c",
   "metadata": {},
   "source": [
    "QUI CERCO DI OTTENERE IL SESSO E LA DATA DI NASCITA DEL CONDUTTORE DI SANREMO"
   ]
  },
  {
   "cell_type": "code",
   "execution_count": 2,
   "id": "1d327536-fb54-4a4c-a251-a95419ec7da2",
   "metadata": {},
   "outputs": [
    {
     "name": "stdout",
     "output_type": "stream",
     "text": [
      "🟦 Estrazione genere per: Enzo Tortora\n",
      "🟦 Estrazione genere per: Antonella Clerici\n",
      "🟦 Estrazione genere per: Gianni Morandi\n",
      "🟦 Estrazione genere per: Giorgio Panariello\n",
      "🟦 Estrazione genere per: Simona Ventura\n",
      "🟦 Estrazione genere per: Mike Bongiorno\n",
      "🟦 Estrazione genere per: Pippo Baudo\n",
      "🟦 Estrazione genere per: Raffaella Carrà\n",
      "🟦 Estrazione genere per: Miguel Bosé\n",
      "🟦 Estrazione genere per: Andrea Occhipinti\n"
     ]
    },
    {
     "name": "stderr",
     "output_type": "stream",
     "text": [
      "Estrazione genere:  21%|██        | 7/34 [00:01<00:05,  5.20it/s]"
     ]
    },
    {
     "name": "stdout",
     "output_type": "stream",
     "text": [
      "🟦 Estrazione genere per: Corrado (conduttore televisivo)\n",
      "🟦 Estrazione genere per: Nuccio Costa\n",
      "🟦 Estrazione genere per: Roberto Benigni\n",
      "🟦 Estrazione genere per: Carlo Giuffré\n",
      "🟦 Estrazione genere per: Gianni Agus\n",
      "🟦 Estrazione genere per: Lilli Lembo\n",
      "🟦 Estrazione genere per: Renato Tagliani\n",
      "🟦 Estrazione genere per: Loretta Goggi\n",
      "🟦 Estrazione genere per: Claudio Cecchetto\n",
      "🟦 Estrazione genere per: Rosita Celentano\n"
     ]
    },
    {
     "name": "stderr",
     "output_type": "stream",
     "text": [
      "Estrazione genere:  47%|████▋     | 16/34 [00:03<00:02,  6.28it/s]"
     ]
    },
    {
     "name": "stdout",
     "output_type": "stream",
     "text": [
      "🟦 Estrazione genere per: Paolo Bonolis\n",
      "🟦 Estrazione genere per: Raimondo Vianello\n",
      "🟦 Estrazione genere per: Fausto Tommei\n",
      "🟦 Estrazione genere per: Paolo Ferrari (attore)\n",
      "🟦 Estrazione genere per: Fabio Fazio\n",
      "🟦 Estrazione genere per: Armando Pizzo\n",
      "🟦 Estrazione genere per: Amadeus (conduttore televisivo)\n",
      "🟦 Estrazione genere per: Andrea Giordana\n",
      "🟦 Estrazione genere per: Carlo Conti (conduttore televisivo)\n",
      "🟦 Estrazione genere per: Claudio Baglioni\n"
     ]
    },
    {
     "name": "stderr",
     "output_type": "stream",
     "text": [
      "Estrazione genere:  71%|███████   | 24/34 [00:04<00:01,  5.82it/s]"
     ]
    },
    {
     "name": "stdout",
     "output_type": "stream",
     "text": [
      "🟦 Estrazione genere per: Nunzio Filogamo\n",
      "🟦 Estrazione genere per: Giancarlo Guardabassi\n",
      "🟦 Estrazione genere per: Gabriella Carlucci\n",
      "🟦 Estrazione genere per: Maria Giovanna Elmi\n"
     ]
    },
    {
     "name": "stderr",
     "output_type": "stream",
     "text": [
      "Estrazione genere: 100%|██████████| 34/34 [00:06<00:00,  5.18it/s]\n"
     ]
    },
    {
     "name": "stdout",
     "output_type": "stream",
     "text": [
      "🟨 Estrazione data di nascita per: Enzo Tortora\n",
      "🟨 Estrazione data di nascita per: Antonella Clerici\n",
      "🟨 Estrazione data di nascita per: Gianni Morandi\n",
      "🟨 Estrazione data di nascita per: Giorgio Panariello\n",
      "🟨 Estrazione data di nascita per: Simona Ventura\n",
      "🟨 Estrazione data di nascita per: Mike Bongiorno\n",
      "🟨 Estrazione data di nascita per: Pippo Baudo\n",
      "🟨 Estrazione data di nascita per: Raffaella Carrà\n",
      "🟨 Estrazione data di nascita per: Miguel Bosé\n",
      "🟨 Estrazione data di nascita per: Andrea Occhipinti\n"
     ]
    },
    {
     "name": "stderr",
     "output_type": "stream",
     "text": [
      "Estrazione date:  18%|█▊        | 6/34 [00:01<00:03,  7.11it/s]"
     ]
    },
    {
     "name": "stdout",
     "output_type": "stream",
     "text": [
      "⚠️ Nessuna data trovata per: Andrea Occhipinti\n",
      "🟨 Estrazione data di nascita per: Corrado (conduttore televisivo)\n",
      "⚠️ Nessuna data trovata per: Giorgio Panariello\n",
      "🟨 Estrazione data di nascita per: Nuccio Costa\n",
      "⚠️ Nessuna data trovata per: Gianni Morandi\n",
      "🟨 Estrazione data di nascita per: Roberto Benigni\n",
      "⚠️ Nessuna data trovata per: Antonella Clerici\n",
      "🟨 Estrazione data di nascita per: Carlo Giuffré\n",
      "⚠️ Nessuna data trovata per: Simona Ventura\n",
      "🟨 Estrazione data di nascita per: Gianni Agus\n",
      "🟨 Estrazione data di nascita per: Lilli Lembo\n",
      "⚠️ Nessuna data trovata per: Pippo Baudo\n",
      "🟨 Estrazione data di nascita per: Renato Tagliani\n",
      "⚠️ Nessuna data trovata per: Enzo Tortora\n",
      "🟨 Estrazione data di nascita per: Loretta Goggi\n",
      "⚠️ Nessuna data trovata per: Mike Bongiorno\n",
      "🟨 Estrazione data di nascita per: Claudio Cecchetto\n"
     ]
    },
    {
     "name": "stderr",
     "output_type": "stream",
     "text": [
      "Estrazione date:  29%|██▉       | 10/34 [00:01<00:02, 11.66it/s]"
     ]
    },
    {
     "name": "stdout",
     "output_type": "stream",
     "text": [
      "⚠️ Nessuna data trovata per: Raffaella Carrà\n",
      "🟨 Estrazione data di nascita per: Rosita Celentano\n"
     ]
    },
    {
     "name": "stderr",
     "output_type": "stream",
     "text": [
      "Estrazione date:  41%|████      | 14/34 [00:02<00:02,  7.29it/s]"
     ]
    },
    {
     "name": "stdout",
     "output_type": "stream",
     "text": [
      "⚠️ Nessuna data trovata per: Nuccio Costa\n",
      "🟨 Estrazione data di nascita per: Paolo Bonolis\n",
      "⚠️ Nessuna data trovata per: Carlo Giuffré\n",
      "🟨 Estrazione data di nascita per: Raimondo Vianello\n",
      "⚠️ Nessuna data trovata per: Gianni Agus\n",
      "🟨 Estrazione data di nascita per: Fausto Tommei\n",
      "⚠️ Nessuna data trovata per: Corrado (conduttore televisivo)\n",
      "🟨 Estrazione data di nascita per: Paolo Ferrari (attore)\n",
      "⚠️ Nessuna data trovata per: Renato Tagliani\n",
      "🟨 Estrazione data di nascita per: Fabio Fazio\n",
      "⚠️ Nessuna data trovata per: Lilli Lembo\n",
      "🟨 Estrazione data di nascita per: Armando Pizzo\n",
      "🟨 Estrazione data di nascita per: Amadeus (conduttore televisivo)\n",
      "⚠️ Nessuna data trovata per: Roberto Benigni\n",
      "🟨 Estrazione data di nascita per: Andrea Giordana\n"
     ]
    },
    {
     "name": "stderr",
     "output_type": "stream",
     "text": [
      "Estrazione date:  53%|█████▎    | 18/34 [00:02<00:01, 10.28it/s]"
     ]
    },
    {
     "name": "stdout",
     "output_type": "stream",
     "text": [
      "⚠️ Nessuna data trovata per: Rosita Celentano\n",
      "🟨 Estrazione data di nascita per: Carlo Conti (conduttore televisivo)\n",
      "⚠️ Nessuna data trovata per: Loretta Goggi\n",
      "🟨 Estrazione data di nascita per: Claudio Baglioni\n"
     ]
    },
    {
     "name": "stderr",
     "output_type": "stream",
     "text": [
      "Estrazione date:  74%|███████▎  | 25/34 [00:03<00:00,  9.24it/s]"
     ]
    },
    {
     "name": "stdout",
     "output_type": "stream",
     "text": [
      "⚠️ Nessuna data trovata per: Fausto Tommei\n",
      "🟨 Estrazione data di nascita per: Nunzio Filogamo\n",
      "⚠️ Nessuna data trovata per: Paolo Bonolis\n",
      "🟨 Estrazione data di nascita per: Giancarlo Guardabassi\n",
      "⚠️ Nessuna data trovata per: Raimondo Vianello\n",
      "🟨 Estrazione data di nascita per: Gabriella Carlucci\n",
      "⚠️ Nessuna data trovata per: Armando Pizzo\n",
      "🟨 Estrazione data di nascita per: Maria Giovanna Elmi\n",
      "⚠️ Nessuna data trovata per: Andrea Giordana\n",
      "⚠️ Nessuna data trovata per: Paolo Ferrari (attore)\n",
      "⚠️ Nessuna data trovata per: Fabio Fazio\n"
     ]
    },
    {
     "name": "stderr",
     "output_type": "stream",
     "text": [
      "Estrazione date:  85%|████████▌ | 29/34 [00:03<00:00, 10.86it/s]"
     ]
    },
    {
     "name": "stdout",
     "output_type": "stream",
     "text": [
      "⚠️ Nessuna data trovata per: Carlo Conti (conduttore televisivo)\n",
      "⚠️ Nessuna data trovata per: Claudio Baglioni\n"
     ]
    },
    {
     "name": "stderr",
     "output_type": "stream",
     "text": [
      "Estrazione date: 100%|██████████| 34/34 [00:04<00:00,  8.23it/s]"
     ]
    },
    {
     "name": "stdout",
     "output_type": "stream",
     "text": [
      "⚠️ Nessuna data trovata per: Nunzio Filogamo\n",
      "⚠️ Nessuna data trovata per: Gabriella Carlucci\n",
      "⚠️ Nessuna data trovata per: Maria Giovanna Elmi\n",
      "⚠️ Nessuna data trovata per: Giancarlo Guardabassi\n",
      "✅ File generato: Presentatori_con_genere_e_datanascita.xlsx\n"
     ]
    },
    {
     "name": "stderr",
     "output_type": "stream",
     "text": [
      "\n"
     ]
    }
   ],
   "source": [
    "import pandas as pd\n",
    "import wikipedia\n",
    "import re\n",
    "import concurrent.futures\n",
    "from tqdm import tqdm\n",
    "\n",
    "# Imposta la lingua italiana\n",
    "wikipedia.set_lang(\"it\")\n",
    "\n",
    "# Carica il file Excel\n",
    "file_path = \"File Unico Sanremo.xlsx\"\n",
    "df = pd.read_excel(file_path, sheet_name=\"dati-festival-sanremo-1951-2023\")\n",
    "\n",
    "# Pulisce i dati dalla colonna Presentatore\n",
    "df = df.dropna(subset=[\"Presentatore\"])\n",
    "df[\"Presentatore\"] = df[\"Presentatore\"].astype(str).str.strip()\n",
    "\n",
    "# Estrae nomi singoli da stringhe con più conduttori\n",
    "presentatori_unici = set()\n",
    "for entry in df[\"Presentatore\"]:\n",
    "    for nome in re.split(r\",\\s*|\\s+e\\s+\", entry):\n",
    "        presentatori_unici.add(nome.strip())\n",
    "\n",
    "# Crea DataFrame unico\n",
    "df_presentatori = pd.DataFrame(presentatori_unici, columns=[\"Nome\"])\n",
    "\n",
    "# Cache\n",
    "summary_cache = {}\n",
    "dob_cache = {}\n",
    "\n",
    "# Genere\n",
    "def determina_genere(nome):\n",
    "    if nome in summary_cache:\n",
    "        return summary_cache[nome]\n",
    "    try:\n",
    "        print(f\"🟦 Estrazione genere per: {nome}\")\n",
    "        summary = wikipedia.summary(nome, sentences=2).lower()\n",
    "        summary_cache[nome] = summary\n",
    "    except Exception as e:\n",
    "        print(f\"❌ Errore Wikipedia (genere) su: {nome} — {e}\")\n",
    "        return \"Da verificare\"\n",
    "\n",
    "    if any(x in summary for x in [\"una conduttrice\", \"una presentatrice\", \"una giornalista\", \"voce femminile\"]):\n",
    "        return \"Femmina\"\n",
    "    elif any(x in summary for x in [\"un conduttore\", \"un presentatore\", \"un giornalista\", \"voce maschile\"]):\n",
    "        return \"Maschio\"\n",
    "    elif \"gruppo\" in summary or \"duo\" in summary:\n",
    "        return \"Gruppo\"\n",
    "    else:\n",
    "        return \"Da verificare\"\n",
    "\n",
    "# Data di nascita\n",
    "def estrai_data_nascita(nome):\n",
    "    if nome in dob_cache:\n",
    "        return dob_cache[nome]\n",
    "    try:\n",
    "        print(f\"🟨 Estrazione data di nascita per: {nome}\")\n",
    "        content = wikipedia.page(nome).content.lower()\n",
    "    except Exception as e:\n",
    "        print(f\"❌ Errore Wikipedia (nascita) su: {nome} — {e}\")\n",
    "        return \"Da verificare\"\n",
    "\n",
    "    match = re.search(r\"(nato|nata) il (\\d{1,2}) ([a-z]+) (\\d{4})\", content)\n",
    "    if match:\n",
    "        giorno = match.group(2).zfill(2)\n",
    "        mese = match.group(3)\n",
    "        anno = match.group(4)\n",
    "        data = f\"{giorno} {mese} {anno}\"\n",
    "        dob_cache[nome] = data\n",
    "        return data\n",
    "    else:\n",
    "        print(f\"⚠️ Nessuna data trovata per: {nome}\")\n",
    "        return \"Da verificare\"\n",
    "\n",
    "# Funzione con tracciamento\n",
    "def apply_parallel(lista, func, descrizione):\n",
    "    results = []\n",
    "    with concurrent.futures.ThreadPoolExecutor(max_workers=10) as executor:\n",
    "        futures = {executor.submit(func, nome): nome for nome in lista}\n",
    "        for future in tqdm(concurrent.futures.as_completed(futures), total=len(futures), desc=descrizione):\n",
    "            nome = futures[future]\n",
    "            try:\n",
    "                result = future.result()\n",
    "                results.append(result)\n",
    "            except Exception as e:\n",
    "                print(f\"❌ Errore durante {descrizione} su: {nome} — {e}\")\n",
    "                results.append(\"Errore\")\n",
    "    return results\n",
    "\n",
    "# Applica le funzioni\n",
    "df_presentatori[\"Genere\"] = apply_parallel(df_presentatori[\"Nome\"], determina_genere, \"Estrazione genere\")\n",
    "df_presentatori[\"Data di nascita\"] = apply_parallel(df_presentatori[\"Nome\"], estrai_data_nascita, \"Estrazione date\")\n",
    "\n",
    "# Salva\n",
    "output_file = \"Presentatori_con_genere_e_datanascita.xlsx\"\n",
    "df_presentatori.to_excel(output_file, index=False)\n",
    "\n",
    "print(f\"✅ File generato: {output_file}\")\n"
   ]
  },
  {
   "cell_type": "code",
   "execution_count": null,
   "id": "49ae693b-b80b-40b9-aecf-14388230205c",
   "metadata": {},
   "outputs": [],
   "source": []
  }
 ],
 "metadata": {
  "kernelspec": {
   "display_name": "Python [conda env:base] *",
   "language": "python",
   "name": "conda-base-py"
  },
  "language_info": {
   "codemirror_mode": {
    "name": "ipython",
    "version": 3
   },
   "file_extension": ".py",
   "mimetype": "text/x-python",
   "name": "python",
   "nbconvert_exporter": "python",
   "pygments_lexer": "ipython3",
   "version": "3.12.7"
  }
 },
 "nbformat": 4,
 "nbformat_minor": 5
}

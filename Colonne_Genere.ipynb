{
 "cells": [
  {
   "cell_type": "code",
   "execution_count": 1,
   "id": "387800f6-4840-4e4e-89ac-e2cad4625898",
   "metadata": {},
   "outputs": [
    {
     "name": "stdout",
     "output_type": "stream",
     "text": [
      "            Artista   Genere  Anno  Duo Femminile  Duo Maschile  Duo Misto  \\\n",
      "0  Achille Togliani  Maschio  1951          False         False      False   \n",
      "1  Achille Togliani  Maschio  1951          False         False      False   \n",
      "2     Oscar Carboni  Maschio  1952          False         False      False   \n",
      "3  Achille Togliani  Maschio  1952          False         False      False   \n",
      "4      Gino Latilla  Maschio  1952          False         False      False   \n",
      "\n",
      "   Femmina  Gruppo  Maschio  Quartetto Misto  Quintetto Misto  Trio Femminile  \\\n",
      "0    False   False     True            False            False           False   \n",
      "1    False   False     True            False            False           False   \n",
      "2    False   False     True            False            False           False   \n",
      "3    False   False     True            False            False           False   \n",
      "4    False   False     True            False            False           False   \n",
      "\n",
      "   Trio Maschile  Trio Misto    nan  \n",
      "0          False       False  False  \n",
      "1          False       False  False  \n",
      "2          False       False  False  \n",
      "3          False       False  False  \n",
      "4          False       False  False  \n"
     ]
    }
   ],
   "source": [
    "import pandas as pd\n",
    "\n",
    "# Percorso del file\n",
    "file_path = r'F:\\EPICODE\\DESKTOP PUGLIA\\ESAME FINALE LOOKER STUDIO\\Genere.xlsx'\n",
    "\n",
    "# Carica il file Excel\n",
    "df = pd.read_excel(file_path, engine='openpyxl')\n",
    "\n",
    "# Filtra solo le colonne desiderate\n",
    "df = df[['Artista', 'Genere', 'Anno']]\n",
    "\n",
    "# Rimuove eventuali spazi o caratteri strani nei nomi di genere\n",
    "df['Genere'] = df['Genere'].astype(str).str.strip()\n",
    "\n",
    "# Crea colonne binarie per ogni categoria presente nella colonna 'Genere'\n",
    "genere_dummies = pd.get_dummies(df['Genere'])\n",
    "\n",
    "# Unisce i nuovi dummies con il DataFrame originale\n",
    "df_finale = pd.concat([df, genere_dummies], axis=1)\n",
    "\n",
    "# Visualizza le prime righe per verifica\n",
    "print(df_finale.head())\n",
    "\n",
    "# (Opzionale) Salva il file finale\n",
    "output_path = r'F:\\EPICODE\\DESKTOP PUGLIA\\ESAME FINALE LOOKER STUDIO\\Genere_modificato.xlsx'\n",
    "df_finale.to_excel(output_path, index=False)\n"
   ]
  },
  {
   "cell_type": "code",
   "execution_count": null,
   "id": "a14b98a5-3c92-45ab-85ff-1197a85307d9",
   "metadata": {},
   "outputs": [],
   "source": []
  }
 ],
 "metadata": {
  "kernelspec": {
   "display_name": "Python [conda env:base] *",
   "language": "python",
   "name": "conda-base-py"
  },
  "language_info": {
   "codemirror_mode": {
    "name": "ipython",
    "version": 3
   },
   "file_extension": ".py",
   "mimetype": "text/x-python",
   "name": "python",
   "nbconvert_exporter": "python",
   "pygments_lexer": "ipython3",
   "version": "3.12.7"
  }
 },
 "nbformat": 4,
 "nbformat_minor": 5
}

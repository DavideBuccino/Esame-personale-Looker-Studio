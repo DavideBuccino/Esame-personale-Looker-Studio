{
 "cells": [
  {
   "cell_type": "code",
   "execution_count": 7,
   "id": "49a93e60-ce49-4e9f-aaec-d6e4c2d4483e",
   "metadata": {},
   "outputs": [
    {
     "name": "stdout",
     "output_type": "stream",
     "text": [
      "✅ File salvato correttamente in:\n",
      "C:\\Users\\bocci\\OneDrive\\Desktop\\ESAME FINALE LOOKER STUDIO\\conduttori_sanremo_completo.csv\n"
     ]
    }
   ],
   "source": [
    "import pandas as pd\n",
    "\n",
    "# Tutti i dati raccolti (inclusa la parte precedente)\n",
    "data_completa = [\n",
    "    [\"Enzo Tortora\", \"30 novembre 1928\", \"Genova, Liguria\"],\n",
    "    [\"Gianni Morandi\", \"11 dicembre 1944\", \"Monghidoro, Emilia-Romagna\"],\n",
    "    [\"Giorgio Panariello\", \"30 settembre 1960\", \"Firenze, Toscana\"],\n",
    "    [\"Mike Bongiorno\", \"26 maggio 1924\", \"New York, Stati Uniti\"],\n",
    "    [\"Pippo Baudo\", \"7 giugno 1936\", \"Militello in Val di Catania, Sicilia\"],\n",
    "    [\"Miguel Bosé\", \"3 aprile 1956\", \"Panama City, Panama\"],\n",
    "    [\"Andrea Occhipinti\", \"12 settembre 1957\", \"Roma, Lazio\"],\n",
    "    [\"Corrado (conduttore televisivo)\", \"2 agosto 1924\", \"Roma, Lazio\"],\n",
    "    [\"Nuccio Costa\", \"25 febbraio 1925\", \"Palermo, Sicilia\"],\n",
    "    [\"Roberto Benigni\", \"27 ottobre 1952\", \"Castiglion Fiorentino, Toscana\"],\n",
    "    [\"Carlo Giuffré\", \"3 dicembre 1928\", \"Napoli, Campania\"],\n",
    "    [\"Gianni Agus\", \"17 agosto 1917\", \"Cagliari, Sardegna\"],\n",
    "    [\"Renato Tagliani\", \"19 dicembre 1927\", \"Milano, Lombardia\"],\n",
    "    [\"Loretta Goggi\", \"29 settembre 1950\", \"Roma, Lazio\"],\n",
    "    [\"Claudio Cecchetto\", \"19 aprile 1952\", \"Ceggia, Veneto\"],\n",
    "    [\"Paolo Bonolis\", \"14 giugno 1961\", \"Roma, Lazio\"],\n",
    "    [\"Raimondo Vianello\", \"7 maggio 1922\", \"Roma, Lazio\"],\n",
    "    [\"Fausto Tommei\", \"29 luglio 1909\", \"Milano, Lombardia\"],\n",
    "    [\"Paolo Ferrari (attore)\", \"26 febbraio 1929\", \"Bruxelles, Belgio\"],\n",
    "    [\"Fabio Fazio\", \"30 novembre 1964\", \"Savona, Liguria\"],\n",
    "    [\"Armando Pizzo\", \"Informazione non disponibile\", \"Informazione non disponibile\"],\n",
    "    [\"Amadeus (conduttore televisivo)\", \"4 settembre 1962\", \"Ravenna, Emilia-Romagna\"],\n",
    "    [\"Andrea Giordana\", \"27 marzo 1946\", \"Roma, Lazio\"],\n",
    "    [\"Carlo Conti (conduttore televisivo)\", \"13 marzo 1961\", \"Firenze, Toscana\"],\n",
    "    [\"Claudio Baglioni\", \"16 maggio 1951\", \"Roma, Lazio\"],\n",
    "    [\"Nunzio Filogamo\", \"20 settembre 1902\", \"Palermo, Sicilia\"],\n",
    "    [\"Giancarlo Guardabassi\", \"25 luglio 1938\", \"Perugia, Umbria\"],\n",
    "    [\"Antonella Clerici\", \"6 dicembre 1963\", \"Legnano, Lombardia\"],\n",
    "    [\"Simona Ventura\", \"1 aprile 1965\", \"Bologna, Emilia-Romagna\"],\n",
    "    [\"Raffaella Carrà\", \"18 giugno 1943\", \"Bologna, Emilia-Romagna\"],\n",
    "    [\"Lilli Lembo\", \"Informazione non disponibile\", \"Informazione non disponibile\"],\n",
    "    [\"Rosita Celentano\", \"17 febbraio 1965\", \"Milano, Lombardia\"],\n",
    "    [\"Gabriella Carlucci\", \"28 febbraio 1959\", \"Alghero, Sardegna\"],\n",
    "    [\"Maria Giovanna Elmi\", \"25 agosto 1940\", \"Roma, Lazio\"]\n",
    "]\n",
    "\n",
    "# Creazione DataFrame\n",
    "df_completo = pd.DataFrame(data_completa, columns=[\"Nome\", \"Data di nascita\", \"Luogo di nascita\"])\n",
    "\n",
    "# Salvataggio CSV (con stringa raw per evitare problemi con backslash)\n",
    "output_csv_path = r\"C:\\Users\\bocci\\OneDrive\\Desktop\\ESAME FINALE LOOKER STUDIO\\conduttori_sanremo_completo.csv\"\n",
    "df_completo.to_csv(output_csv_path, index=False)\n",
    "\n",
    "print(f\"✅ File salvato correttamente in:\\n{output_csv_path}\")\n"
   ]
  },
  {
   "cell_type": "code",
   "execution_count": null,
   "id": "0f6f2b8c-967a-4d52-ba91-4291095deda0",
   "metadata": {},
   "outputs": [],
   "source": []
  }
 ],
 "metadata": {
  "kernelspec": {
   "display_name": "Python [conda env:sanremo-nlp]",
   "language": "python",
   "name": "conda-env-sanremo-nlp-py"
  },
  "language_info": {
   "codemirror_mode": {
    "name": "ipython",
    "version": 3
   },
   "file_extension": ".py",
   "mimetype": "text/x-python",
   "name": "python",
   "nbconvert_exporter": "python",
   "pygments_lexer": "ipython3",
   "version": "3.10.16"
  }
 },
 "nbformat": 4,
 "nbformat_minor": 5
}

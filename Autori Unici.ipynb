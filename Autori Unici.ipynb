{
 "cells": [
  {
   "cell_type": "markdown",
   "id": "a95d161f-1fca-4183-93cb-c043683d60d3",
   "metadata": {},
   "source": [
    "GENERO UNA COLONNA CON ARTISTI UNICI, APPLICANDO LA SEGUENTE REGEX: r'\\s+(?:e|ed)\\s+|,' OVVERO: \\s+ = spazi attorno\n",
    "\n",
    "(?:e|ed) = trova \"e\" o \"ed\"\n",
    "\n",
    "|, = oppure una virgola\n",
    "\n",
    "funziona correttamente, perché:\n",
    "\n",
    "\\s+ richiede almeno uno spazio prima e dopo di e o ed.\n",
    "\n",
    "(?:e|ed) intercetta solo la parola intera \"e\" o \"ed\" con spazi attorno.\n",
    "\n",
    "Il |, gestisce le virgole\n"
   ]
  },
  {
   "cell_type": "code",
   "execution_count": 4,
   "id": "44e3a0d1-93b6-4643-a98a-9e5a309cb7b6",
   "metadata": {},
   "outputs": [],
   "source": [
    "import pandas as pd\n",
    "import re\n",
    "\n",
    "# Leggi il file\n",
    "df = pd.read_excel('Autori.xlsx')\n",
    "\n",
    "# Funzione per splittare su \" e \", \" ed \" o \",\"\n",
    "def split_authors(cell):\n",
    "    if pd.isna(cell):\n",
    "        return []\n",
    "    return re.split(r'\\s+(?:e|ed)\\s+|,', cell)\n",
    "\n",
    "# Applichiamo la funzione e appiattiamo i risultati\n",
    "all_authors = df['Autori'].dropna().apply(split_authors).explode()\n",
    "\n",
    "# Rimuoviamo spazi indesiderati e righe vuote\n",
    "all_authors = all_authors.str.strip()\n",
    "all_authors = all_authors[all_authors != '']\n",
    "\n",
    "# Salviamo il risultato\n",
    "all_authors.to_frame(name='Autore').to_excel('autori_espansi.xlsx', index=False)\n"
   ]
  },
  {
   "cell_type": "code",
   "execution_count": null,
   "id": "1f9d8288-39d9-43a0-852b-99e1c875376b",
   "metadata": {},
   "outputs": [],
   "source": []
  }
 ],
 "metadata": {
  "kernelspec": {
   "display_name": "Python [conda env:base] *",
   "language": "python",
   "name": "conda-base-py"
  },
  "language_info": {
   "codemirror_mode": {
    "name": "ipython",
    "version": 3
   },
   "file_extension": ".py",
   "mimetype": "text/x-python",
   "name": "python",
   "nbconvert_exporter": "python",
   "pygments_lexer": "ipython3",
   "version": "3.12.7"
  }
 },
 "nbformat": 4,
 "nbformat_minor": 5
}

{
 "cells": [
  {
   "cell_type": "markdown",
   "id": "e8aa0d34-16df-420f-9cfa-4ec876d48e9e",
   "metadata": {},
   "source": [
    "codice ottimizzato e definitivo, con:\n",
    "\n",
    "Timeout globale per richieste a Wikipedia\n",
    "\n",
    "Riduzione delle varianti per pagina Wikipedia\n",
    "\n",
    "Salvataggio intermedio ogni 20 risultati\n",
    "\n",
    "Cache in memoria (con opzione per persistente su file)\n",
    "\n",
    "Log chiari e dettagliati\n",
    "\n",
    "Gestione sicura degli errori per evitare blocchi"
   ]
  },
  {
   "cell_type": "code",
   "execution_count": 1,
   "id": "eae1c211-db81-406d-8409-4bed2a065ce8",
   "metadata": {},
   "outputs": [
    {
     "name": "stdout",
     "output_type": "stream",
     "text": [
      "🟨 Elaborazione: Achille Togliani\n",
      "🟨 Elaborazione: Oscar Carboni\n",
      "🟨 Elaborazione: Gino Latilla\n",
      "🟨 Elaborazione: Zucchero\n",
      "🟨 Elaborazione: Will\n",
      "🟨 Elaborazione: Virginio\n",
      "🟨 Elaborazione: Ultimo\n",
      "🟨 Elaborazione: Tricarico\n",
      "🟨 Elaborazione: Tiziano Orecchio\n",
      "🟨 Elaborazione: Stefano Tosi\n"
     ]
    },
    {
     "name": "stderr",
     "output_type": "stream",
     "text": [
      "Estrazione data nascita:   0%|          | 0/470 [00:00<?, ?it/s]D:\\bocci\\anaconda3\\Lib\\site-packages\\wikipedia\\wikipedia.py:389: GuessedAtParserWarning: No parser was explicitly specified, so I'm using the best available HTML parser for this system (\"lxml\"). This usually isn't a problem, but if you run this code on another system, or in a different virtual environment, it may use a different parser and behave differently.\n",
      "\n",
      "The code that caused this warning is on line 389 of the file D:\\bocci\\anaconda3\\Lib\\site-packages\\wikipedia\\wikipedia.py. To get rid of this warning, pass the additional argument 'features=\"lxml\"' to the BeautifulSoup constructor.\n",
      "\n",
      "  lis = BeautifulSoup(html).find_all('li')\n",
      "Estrazione data nascita:   0%|          | 1/470 [00:01<13:30,  1.73s/it]"
     ]
    },
    {
     "name": "stdout",
     "output_type": "stream",
     "text": [
      "⚠️ Nessuna data trovata per: Virginio\n",
      "🟨 Elaborazione: Ugo Molinari\n",
      "⚠️ Nessuna data trovata per: Gino Latilla\n",
      "🟨 Elaborazione: Gianni Marzocchi\n",
      "⚠️ Nessuna data trovata per: Oscar Carboni\n",
      "🟨 Elaborazione: Stefano Rosso\n",
      "⚠️ Nessuna data trovata per: Achille Togliani\n",
      "🟨 Elaborazione: Silvano Vittorio\n"
     ]
    },
    {
     "name": "stderr",
     "output_type": "stream",
     "text": [
      "Estrazione data nascita:   1%|          | 5/470 [00:02<02:28,  3.12it/s]"
     ]
    },
    {
     "name": "stdout",
     "output_type": "stream",
     "text": [
      "⚠️ Nessuna data trovata per: Tricarico\n",
      "🟨 Elaborazione: Sangiovanni\n"
     ]
    },
    {
     "name": "stderr",
     "output_type": "stream",
     "text": [
      "Estrazione data nascita:   1%|▏         | 6/470 [00:02<02:29,  3.10it/s]"
     ]
    },
    {
     "name": "stdout",
     "output_type": "stream",
     "text": [
      "⚠️ Nessuna data trovata per: Zucchero\n",
      "🟨 Elaborazione: Samuel\n"
     ]
    },
    {
     "name": "stderr",
     "output_type": "stream",
     "text": [
      "Estrazione data nascita:   1%|▏         | 7/470 [00:02<02:38,  2.92it/s]"
     ]
    },
    {
     "name": "stdout",
     "output_type": "stream",
     "text": [
      "🔍 Pseudonimo rilevato, provo con vero nome: william busetti\n",
      "❌ Nessuna pagina trovata per: Tiziano Orecchio\n",
      "🟨 Elaborazione: Roberto Carlos\n"
     ]
    },
    {
     "name": "stderr",
     "output_type": "stream",
     "text": [
      "Estrazione data nascita:   2%|▏         | 8/470 [00:02<02:14,  3.43it/s]"
     ]
    },
    {
     "name": "stdout",
     "output_type": "stream",
     "text": [
      "🟨 Elaborazione: Random\n"
     ]
    },
    {
     "name": "stderr",
     "output_type": "stream",
     "text": [
      "Estrazione data nascita:   2%|▏         | 9/470 [00:03<02:25,  3.16it/s]"
     ]
    },
    {
     "name": "stdout",
     "output_type": "stream",
     "text": [
      "⚠️ Nessuna data trovata per: Ugo Molinari\n",
      "🟨 Elaborazione: Rancore\n",
      "⚠️ Nessuna data trovata per: Gianni Marzocchi\n",
      "🟨 Elaborazione: Pacifico\n",
      "🔍 Pseudonimo rilevato, provo con vero nome: niccolò moriconi\n"
     ]
    },
    {
     "name": "stderr",
     "output_type": "stream",
     "text": [
      "Estrazione data nascita:   2%|▏         | 11/470 [00:04<03:09,  2.43it/s]"
     ]
    },
    {
     "name": "stdout",
     "output_type": "stream",
     "text": [
      "❌ Nessuna pagina trovata per: Silvano Vittorio\n",
      "🟨 Elaborazione: Orlando Johnson\n",
      "🔍 Pseudonimo rilevato, provo con vero nome: giovanni pietro damian\n"
     ]
    },
    {
     "name": "stderr",
     "output_type": "stream",
     "text": [
      "Estrazione data nascita:   3%|▎         | 12/470 [00:04<03:31,  2.17it/s]"
     ]
    },
    {
     "name": "stdout",
     "output_type": "stream",
     "text": [
      "❌ Nessuna pagina trovata per: Stefano Rosso\n",
      "🟨 Elaborazione: Nicola Di Bari\n"
     ]
    },
    {
     "name": "stderr",
     "output_type": "stream",
     "text": [
      "Estrazione data nascita:   3%|▎         | 13/470 [00:05<03:09,  2.41it/s]"
     ]
    },
    {
     "name": "stdout",
     "output_type": "stream",
     "text": [
      "🟨 Elaborazione: Motta\n",
      "🔍 Pseudonimo rilevato, provo con vero nome: samuel umberto romano\n"
     ]
    },
    {
     "name": "stderr",
     "output_type": "stream",
     "text": [
      "Estrazione data nascita:   3%|▎         | 14/470 [00:05<02:50,  2.67it/s]"
     ]
    },
    {
     "name": "stdout",
     "output_type": "stream",
     "text": [
      "⚠️ Nessuna data trovata per: Pacifico\n",
      "🟨 Elaborazione: Moreno\n",
      "⚠️ Nessuna data trovata per: Rancore\n",
      "🟨 Elaborazione: Miko\n"
     ]
    },
    {
     "name": "stderr",
     "output_type": "stream",
     "text": [
      "Estrazione data nascita:   4%|▍         | 18/470 [00:06<01:38,  4.61it/s]"
     ]
    },
    {
     "name": "stdout",
     "output_type": "stream",
     "text": [
      "🟨 Elaborazione: Michele\n",
      "🟨 Elaborazione: Massimo Abbate\n",
      "🟨 Elaborazione: Luca Cola\n"
     ]
    },
    {
     "name": "stderr",
     "output_type": "stream",
     "text": [
      "Estrazione data nascita:   4%|▍         | 19/470 [00:07<02:57,  2.54it/s]"
     ]
    },
    {
     "name": "stdout",
     "output_type": "stream",
     "text": [
      "⚠️ Nessuna data trovata per: Miko\n",
      "🟨 Elaborazione: Peppino Gagliardi\n",
      "🟨 Elaborazione: Gianni Morandi\n"
     ]
    },
    {
     "name": "stderr",
     "output_type": "stream",
     "text": [
      "Estrazione data nascita:   4%|▍         | 20/470 [00:07<03:15,  2.31it/s]"
     ]
    },
    {
     "name": "stdout",
     "output_type": "stream",
     "text": [
      "🟨 Elaborazione: Gianni Nazzaro\n",
      "🔍 Pseudonimo rilevato, provo con vero nome: michaela pa\n",
      "💾 Salvataggio temporaneo completato (20/470)\n",
      "❌ Errore durante Estrazione data nascita su: Random — Expecting value: line 1 column 1 (char 0)\n"
     ]
    },
    {
     "name": "stderr",
     "output_type": "stream",
     "text": [
      "Estrazione data nascita:   5%|▍         | 22/470 [00:08<02:31,  2.96it/s]"
     ]
    },
    {
     "name": "stdout",
     "output_type": "stream",
     "text": [
      "🟨 Elaborazione: Lucio Dalla\n",
      "🔍 Pseudonimo rilevato, provo con vero nome: francesco motta\n",
      "🔍 Pseudonimo rilevato, provo con vero nome: michele scommegna\n"
     ]
    },
    {
     "name": "stderr",
     "output_type": "stream",
     "text": [
      "Estrazione data nascita:   5%|▍         | 23/470 [00:08<03:15,  2.29it/s]"
     ]
    },
    {
     "name": "stdout",
     "output_type": "stream",
     "text": [
      "❌ Nessuna pagina trovata per: Massimo Abbate\n",
      "🟨 Elaborazione: Domenico Modugno\n",
      "❌ Nessuna pagina trovata per: Luca Cola\n",
      "🟨 Elaborazione: Pino Donaggio\n"
     ]
    },
    {
     "name": "stderr",
     "output_type": "stream",
     "text": [
      "Estrazione data nascita:   5%|▌         | 24/470 [00:09<02:51,  2.61it/s]"
     ]
    },
    {
     "name": "stdout",
     "output_type": "stream",
     "text": [
      "🔍 Pseudonimo rilevato, provo con vero nome: moreno donadoni\n",
      "🔍 Pseudonimo rilevato, provo con vero nome: camucia\n"
     ]
    },
    {
     "name": "stderr",
     "output_type": "stream",
     "text": [
      "Estrazione data nascita:   5%|▌         | 25/470 [00:09<02:33,  2.90it/s]"
     ]
    },
    {
     "name": "stdout",
     "output_type": "stream",
     "text": [
      "⚠️ Nessuna data trovata per: Peppino Gagliardi\n",
      "🟨 Elaborazione: Fausto Leali\n",
      "🔍 Pseudonimo rilevato, provo con vero nome: buddy\n",
      "🔍 Pseudonimo rilevato, provo con vero nome: norisso\n",
      "🟨 Elaborazione: Tony Cucchiara\n"
     ]
    },
    {
     "name": "stderr",
     "output_type": "stream",
     "text": [
      "Estrazione data nascita:   6%|▌         | 27/470 [00:10<03:18,  2.23it/s]D:\\bocci\\anaconda3\\Lib\\site-packages\\wikipedia\\wikipedia.py:389: GuessedAtParserWarning: No parser was explicitly specified, so I'm using the best available HTML parser for this system (\"lxml\"). This usually isn't a problem, but if you run this code on another system, or in a different virtual environment, it may use a different parser and behave differently.\n",
      "\n",
      "The code that caused this warning is on line 389 of the file D:\\bocci\\anaconda3\\Lib\\site-packages\\wikipedia\\wikipedia.py. To get rid of this warning, pass the additional argument 'features=\"lxml\"' to the BeautifulSoup constructor.\n",
      "\n",
      "  lis = BeautifulSoup(html).find_all('li')\n",
      "Estrazione data nascita:   6%|▌         | 28/470 [00:10<02:46,  2.66it/s]"
     ]
    },
    {
     "name": "stdout",
     "output_type": "stream",
     "text": [
      "⚠️ Nessuna data trovata per: Michele\n",
      "🟨 Elaborazione: Bobby Solo\n",
      "🟨 Elaborazione: Peppino Di Capri\n"
     ]
    },
    {
     "name": "stderr",
     "output_type": "stream",
     "text": [
      "Estrazione data nascita:   6%|▋         | 30/470 [00:11<01:55,  3.79it/s]"
     ]
    },
    {
     "name": "stdout",
     "output_type": "stream",
     "text": [
      "🟨 Elaborazione: Roberto Vecchioni\n",
      "🟨 Elaborazione: Umberto Balsamo\n"
     ]
    },
    {
     "name": "stderr",
     "output_type": "stream",
     "text": [
      "Estrazione data nascita:   7%|▋         | 32/470 [00:11<01:51,  3.93it/s]"
     ]
    },
    {
     "name": "stdout",
     "output_type": "stream",
     "text": [
      "🟨 Elaborazione: Memo Remigi\n",
      "🟨 Elaborazione: Lionello\n"
     ]
    },
    {
     "name": "stderr",
     "output_type": "stream",
     "text": [
      "Estrazione data nascita:   7%|▋         | 34/470 [00:12<01:36,  4.50it/s]"
     ]
    },
    {
     "name": "stdout",
     "output_type": "stream",
     "text": [
      "⚠️ Nessuna data trovata per: Lucio Dalla\n",
      "🟨 Elaborazione: Sergio Endrigo\n",
      "⚠️ Nessuna data trovata per: Tony Cucchiara\n",
      "🟨 Elaborazione: Christian De Sica\n"
     ]
    },
    {
     "name": "stderr",
     "output_type": "stream",
     "text": [
      "Estrazione data nascita:   7%|▋         | 35/470 [00:12<01:26,  5.02it/s]"
     ]
    },
    {
     "name": "stdout",
     "output_type": "stream",
     "text": [
      "🟨 Elaborazione: Alberto Feri\n",
      "🔍 Pseudonimo rilevato, provo con vero nome: roberto satti\n",
      "🔍 Pseudonimo rilevato, provo con vero nome: bob nero\n",
      "🔍 Pseudonimo rilevato, provo con vero nome: sergente york e partecipando anche ai raduni enigmistici che vengono organizzati anno per anno\n"
     ]
    },
    {
     "name": "stderr",
     "output_type": "stream",
     "text": [
      "Estrazione data nascita:   8%|▊         | 36/470 [00:13<03:04,  2.35it/s]"
     ]
    },
    {
     "name": "stdout",
     "output_type": "stream",
     "text": [
      "⚠️ Nessuna data trovata per: Gianni Nazzaro\n",
      "🟨 Elaborazione: Junior Magli\n",
      "🟨 Elaborazione: Drupi\n",
      "⚠️ Nessuna data trovata per: Lionello\n",
      "🟨 Elaborazione: Toni Santagata\n",
      "🔍 Pseudonimo rilevato, provo con vero nome: giuseppe faiella\n"
     ]
    },
    {
     "name": "stderr",
     "output_type": "stream",
     "text": [
      "Estrazione data nascita:   8%|▊         | 39/470 [00:13<02:01,  3.55it/s]"
     ]
    },
    {
     "name": "stdout",
     "output_type": "stream",
     "text": [
      "🟨 Elaborazione: Al Bano\n",
      "🟨 Elaborazione: Mino Reitano\n",
      "⚠️ Nessuna data trovata per: Alberto Feri\n",
      "🟨 Elaborazione: Little Tony\n"
     ]
    },
    {
     "name": "stderr",
     "output_type": "stream",
     "text": [
      "Estrazione data nascita:   9%|▊         | 40/470 [00:14<02:19,  3.08it/s]"
     ]
    },
    {
     "name": "stdout",
     "output_type": "stream",
     "text": [
      "💾 Salvataggio temporaneo completato (40/470)\n",
      "🔍 Pseudonimo rilevato, provo con vero nome: luigi pazzaglini\n",
      "🔍 Pseudonimo rilevato, provo con vero nome: giampiero anelli\n",
      "🔍 Pseudonimo rilevato, provo con vero nome: antonio morese\n"
     ]
    },
    {
     "name": "stderr",
     "output_type": "stream",
     "text": [
      "Estrazione data nascita:   9%|▉         | 42/470 [00:15<02:52,  2.48it/s]"
     ]
    },
    {
     "name": "stdout",
     "output_type": "stream",
     "text": [
      "🟨 Elaborazione: Kambiz\n"
     ]
    },
    {
     "name": "stderr",
     "output_type": "stream",
     "text": [
      "Estrazione data nascita:   9%|▉         | 44/470 [00:15<02:15,  3.14it/s]"
     ]
    },
    {
     "name": "stdout",
     "output_type": "stream",
     "text": [
      "🔍 Pseudonimo rilevato, provo con vero nome: albano carrisi\n",
      "⚠️ Nessuna data trovata per: Mino Reitano\n",
      "🟨 Elaborazione: Riccardo Fogli\n",
      "🟨 Elaborazione: Franco Simone\n",
      "🔍 Pseudonimo rilevato, provo con vero nome: antonio ciacci\n"
     ]
    },
    {
     "name": "stderr",
     "output_type": "stream",
     "text": [
      "Estrazione data nascita:  10%|▉         | 45/470 [00:15<01:54,  3.71it/s]"
     ]
    },
    {
     "name": "stdout",
     "output_type": "stream",
     "text": [
      "🟨 Elaborazione: Piero Focaccia\n"
     ]
    },
    {
     "name": "stderr",
     "output_type": "stream",
     "text": [
      "Estrazione data nascita:  10%|▉         | 46/470 [00:15<01:57,  3.62it/s]"
     ]
    },
    {
     "name": "stdout",
     "output_type": "stream",
     "text": [
      "🟨 Elaborazione: Eugenio Alberti\n"
     ]
    },
    {
     "name": "stderr",
     "output_type": "stream",
     "text": [
      "Estrazione data nascita:  10%|█         | 48/470 [00:17<02:49,  2.49it/s]"
     ]
    },
    {
     "name": "stdout",
     "output_type": "stream",
     "text": [
      "🟨 Elaborazione: Piero Cotto\n",
      "🟨 Elaborazione: Henry Freis\n",
      "🟨 Elaborazione: Jean-François Michael\n"
     ]
    },
    {
     "name": "stderr",
     "output_type": "stream",
     "text": [
      "Estrazione data nascita:  11%|█         | 52/470 [00:17<01:18,  5.34it/s]"
     ]
    },
    {
     "name": "stdout",
     "output_type": "stream",
     "text": [
      "🟨 Elaborazione: Lorenzo Pilat\n",
      "⚠️ Nessuna data trovata per: Junior Magli\n",
      "🟨 Elaborazione: Paola Folzini\n",
      "🟨 Elaborazione: Goffredo Canarini\n",
      "⚠️ Nessuna data trovata per: Toni Santagata\n",
      "🟨 Elaborazione: Sandro Giacobbe\n"
     ]
    },
    {
     "name": "stderr",
     "output_type": "stream",
     "text": [
      "Estrazione data nascita:  11%|█▏        | 54/470 [00:17<01:02,  6.71it/s]"
     ]
    },
    {
     "name": "stdout",
     "output_type": "stream",
     "text": [
      "❌ Nessuna pagina trovata per: Kambiz\n",
      "🟨 Elaborazione: Paolo Frescura\n"
     ]
    },
    {
     "name": "stderr",
     "output_type": "stream",
     "text": [
      "Estrazione data nascita:  12%|█▏        | 56/470 [00:18<01:15,  5.49it/s]"
     ]
    },
    {
     "name": "stdout",
     "output_type": "stream",
     "text": [
      "🟨 Elaborazione: Carlo Gigli\n",
      "⚠️ Nessuna data trovata per: Little Tony\n",
      "🟨 Elaborazione: Daniel Sentacruz Ensemble\n"
     ]
    },
    {
     "name": "stderr",
     "output_type": "stream",
     "text": [
      "Estrazione data nascita:  12%|█▏        | 57/470 [00:18<01:38,  4.18it/s]"
     ]
    },
    {
     "name": "stdout",
     "output_type": "stream",
     "text": [
      "🟨 Elaborazione: Patrizio Sandrelli\n"
     ]
    },
    {
     "name": "stderr",
     "output_type": "stream",
     "text": [
      "Estrazione data nascita:  12%|█▏        | 58/470 [00:19<01:49,  3.77it/s]"
     ]
    },
    {
     "name": "stdout",
     "output_type": "stream",
     "text": [
      "🔍 Pseudonimo rilevato, provo con vero nome: yves roze\n",
      "🔍 Pseudonimo rilevato, provo con vero nome: pilade\n",
      "🟨 Elaborazione: Santino Rocchetti\n",
      "⚠️ Nessuna data trovata per: Goffredo Canarini\n",
      "🟨 Elaborazione: Antonio Buonomo\n",
      "🟨 Elaborazione: Leano Morelli\n"
     ]
    },
    {
     "name": "stderr",
     "output_type": "stream",
     "text": [
      "Estrazione data nascita:  13%|█▎        | 60/470 [00:19<01:40,  4.06it/s]"
     ]
    },
    {
     "name": "stdout",
     "output_type": "stream",
     "text": [
      "🟨 Elaborazione: Umberto Lupi\n",
      "💾 Salvataggio temporaneo completato (60/470)\n"
     ]
    },
    {
     "name": "stderr",
     "output_type": "stream",
     "text": [
      "Estrazione data nascita:  13%|█▎        | 63/470 [00:19<01:16,  5.32it/s]"
     ]
    },
    {
     "name": "stdout",
     "output_type": "stream",
     "text": [
      "🟨 Elaborazione: Ezio Maria Picciotta\n",
      "⚠️ Nessuna data trovata per: Daniel Sentacruz Ensemble\n",
      "🟨 Elaborazione: Umberto Napolitano\n"
     ]
    },
    {
     "name": "stderr",
     "output_type": "stream",
     "text": [
      "Estrazione data nascita:  14%|█▎        | 64/470 [00:19<01:09,  5.86it/s]"
     ]
    },
    {
     "name": "stdout",
     "output_type": "stream",
     "text": [
      "❌ Nessuna pagina trovata per: Henry Freis\n",
      "🟨 Elaborazione: Daniela Davoli\n",
      "🟨 Elaborazione: Rino Gaetano\n"
     ]
    },
    {
     "name": "stderr",
     "output_type": "stream",
     "text": [
      "Estrazione data nascita:  14%|█▍        | 66/470 [00:20<01:13,  5.52it/s]"
     ]
    },
    {
     "name": "stdout",
     "output_type": "stream",
     "text": [
      "🟨 Elaborazione: Ciro Sebastianelli\n"
     ]
    },
    {
     "name": "stderr",
     "output_type": "stream",
     "text": [
      "Estrazione data nascita:  15%|█▍        | 70/470 [00:21<01:02,  6.38it/s]"
     ]
    },
    {
     "name": "stdout",
     "output_type": "stream",
     "text": [
      "🟨 Elaborazione: Anselmo Genovese\n",
      "🟨 Elaborazione: Donato Ciletti\n",
      "⚠️ Nessuna data trovata per: Leano Morelli\n",
      "🟨 Elaborazione: Roberto Carrino\n",
      "🟨 Elaborazione: Marco Ferradini\n"
     ]
    },
    {
     "name": "stderr",
     "output_type": "stream",
     "text": [
      "Estrazione data nascita:  15%|█▌        | 72/470 [00:21<01:08,  5.81it/s]"
     ]
    },
    {
     "name": "stdout",
     "output_type": "stream",
     "text": [
      "🟨 Elaborazione: Mino Vergnaghi\n",
      "🟨 Elaborazione: Enzo Carella\n"
     ]
    },
    {
     "name": "stderr",
     "output_type": "stream",
     "text": [
      "Estrazione data nascita:  16%|█▌        | 74/470 [00:21<00:57,  6.91it/s]"
     ]
    },
    {
     "name": "stdout",
     "output_type": "stream",
     "text": [
      "🟨 Elaborazione: Enrico Beruschi\n",
      "🟨 Elaborazione: Franco Fanigliulo\n",
      "🔍 Pseudonimo rilevato, provo con vero nome: kammamuri's\n",
      "🔍 Pseudonimo rilevato, provo con vero nome: gilberto sebastianelli\n"
     ]
    },
    {
     "name": "stderr",
     "output_type": "stream",
     "text": [
      "Estrazione data nascita:  16%|█▋        | 77/470 [00:22<01:14,  5.25it/s]"
     ]
    },
    {
     "name": "stdout",
     "output_type": "stream",
     "text": [
      "⚠️ Nessuna data trovata per: Donato Ciletti🟨 Elaborazione: Gianni Migliardi\n",
      "\n",
      "🟨 Elaborazione: Michele Vicino\n",
      "🟨 Elaborazione: Gianni Mocchetti\n"
     ]
    },
    {
     "name": "stderr",
     "output_type": "stream",
     "text": [
      "Estrazione data nascita:  17%|█▋        | 78/470 [00:22<01:11,  5.48it/s]"
     ]
    },
    {
     "name": "stdout",
     "output_type": "stream",
     "text": [
      "🟨 Elaborazione: Toto Cutugno\n"
     ]
    },
    {
     "name": "stderr",
     "output_type": "stream",
     "text": [
      "Estrazione data nascita:  17%|█▋        | 79/470 [00:22<01:24,  4.61it/s]"
     ]
    },
    {
     "name": "stdout",
     "output_type": "stream",
     "text": [
      "🟨 Elaborazione: Enzo Malepasso\n",
      "⚠️ Nessuna data trovata per: Enzo Carella\n",
      "🟨 Elaborazione: Pupo\n",
      "🟨 Elaborazione: Leroy Gomez\n"
     ]
    },
    {
     "name": "stderr",
     "output_type": "stream",
     "text": [
      "Estrazione data nascita:  17%|█▋        | 80/470 [00:23<01:34,  4.12it/s]"
     ]
    },
    {
     "name": "stdout",
     "output_type": "stream",
     "text": [
      "⚠️ Nessuna data trovata per: Franco Fanigliulo\n",
      "🟨 Elaborazione: Paolo Riviera\n",
      "💾 Salvataggio temporaneo completato (80/470)\n"
     ]
    },
    {
     "name": "stderr",
     "output_type": "stream",
     "text": [
      "Estrazione data nascita:  18%|█▊        | 83/470 [00:24<01:41,  3.80it/s]"
     ]
    },
    {
     "name": "stdout",
     "output_type": "stream",
     "text": [
      "🟨 Elaborazione: Francesco Magni\n"
     ]
    },
    {
     "name": "stderr",
     "output_type": "stream",
     "text": [
      "Estrazione data nascita:  18%|█▊        | 85/470 [00:24<01:28,  4.36it/s]"
     ]
    },
    {
     "name": "stdout",
     "output_type": "stream",
     "text": [
      "⚠️ Nessuna data trovata per: Gianni Mocchetti\n",
      "🟨 Elaborazione: Aldo Donati\n",
      "⚠️ Nessuna data trovata per: Toto Cutugno\n",
      "🟨 Elaborazione: Bruno D'Andrea\n"
     ]
    },
    {
     "name": "stderr",
     "output_type": "stream",
     "text": [
      "Estrazione data nascita:  19%|█▉        | 89/470 [00:24<00:51,  7.37it/s]"
     ]
    },
    {
     "name": "stdout",
     "output_type": "stream",
     "text": [
      "⚠️ Nessuna data trovata per: Rino Gaetano\n",
      "🟨 Elaborazione: Alberto Cheli\n",
      "⚠️ Nessuna data trovata per: Enzo Malepasso\n",
      "🟨 Elaborazione: Rimmel\n",
      "⚠️ Nessuna data trovata per: Ciro Sebastianelli\n",
      "🟨 Elaborazione: Gianfranco De Angelis\n",
      "🟨 Elaborazione: Dario Baldan Bembo\n",
      "🔍 Pseudonimo rilevato, provo con vero nome: riccardo aglietti\n"
     ]
    },
    {
     "name": "stderr",
     "output_type": "stream",
     "text": [
      "Estrazione data nascita:  19%|█▉        | 91/470 [00:25<00:58,  6.52it/s]"
     ]
    },
    {
     "name": "stdout",
     "output_type": "stream",
     "text": [
      "❌ Nessuna pagina trovata per: Gianni Migliardi\n",
      "🟨 Elaborazione: Luca Barbarossa\n"
     ]
    },
    {
     "name": "stderr",
     "output_type": "stream",
     "text": [
      "Estrazione data nascita:  20%|█▉        | 92/470 [00:25<01:31,  4.14it/s]"
     ]
    },
    {
     "name": "stdout",
     "output_type": "stream",
     "text": [
      "⚠️ Nessuna data trovata per: Francesco Magni\n",
      "🟨 Elaborazione: Paolo Barabani\n",
      "🔍 Pseudonimo rilevato, provo con vero nome: bruno noli\n",
      "🔍 Pseudonimo rilevato, provo con vero nome: enzo ghinazzi\n"
     ]
    },
    {
     "name": "stderr",
     "output_type": "stream",
     "text": [
      "Estrazione data nascita:  20%|██        | 94/470 [00:26<01:39,  3.80it/s]"
     ]
    },
    {
     "name": "stdout",
     "output_type": "stream",
     "text": [
      "🟨 Elaborazione: Michele Zarrillo\n",
      "🟨 Elaborazione: Eduardo De Crescenzo\n",
      "🟨 Elaborazione: Sterling Saint-Jacques\n"
     ]
    },
    {
     "name": "stderr",
     "output_type": "stream",
     "text": [
      "Estrazione data nascita:  20%|██        | 96/470 [00:26<01:31,  4.09it/s]"
     ]
    },
    {
     "name": "stdout",
     "output_type": "stream",
     "text": [
      "🟨 Elaborazione: Gianni Bella\n"
     ]
    },
    {
     "name": "stderr",
     "output_type": "stream",
     "text": [
      "Estrazione data nascita:  21%|██        | 97/470 [00:27<01:31,  4.10it/s]"
     ]
    },
    {
     "name": "stdout",
     "output_type": "stream",
     "text": [
      "⚠️ Nessuna data trovata per: Aldo Donati\n",
      "🟨 Elaborazione: Sebastiano Occhino\n"
     ]
    },
    {
     "name": "stderr",
     "output_type": "stream",
     "text": [
      "Estrazione data nascita:  21%|██        | 99/470 [00:27<01:23,  4.45it/s]"
     ]
    },
    {
     "name": "stdout",
     "output_type": "stream",
     "text": [
      "🟨 Elaborazione: Tom Hooker\n",
      "🟨 Elaborazione: Domenico Mattia\n",
      "❌ Nessuna pagina trovata per: Rimmel\n",
      "🟨 Elaborazione: Franco Fasano\n",
      "🟨 Elaborazione: Giuseppe Cionfoli🟨 Elaborazione: Jimmy Fontana\n",
      "\n"
     ]
    },
    {
     "name": "stderr",
     "output_type": "stream",
     "text": [
      "Estrazione data nascita:  21%|██▏       | 100/470 [00:28<02:25,  2.54it/s]"
     ]
    },
    {
     "name": "stdout",
     "output_type": "stream",
     "text": [
      "💾 Salvataggio temporaneo completato (100/470)\n"
     ]
    },
    {
     "name": "stderr",
     "output_type": "stream",
     "text": [
      "Estrazione data nascita:  22%|██▏       | 104/470 [00:28<01:14,  4.92it/s]"
     ]
    },
    {
     "name": "stdout",
     "output_type": "stream",
     "text": [
      "🟨 Elaborazione: Stefano Sani\n",
      "⚠️ Nessuna data trovata per: Sterling Saint-Jacques\n",
      "🟨 Elaborazione: Riccardo Del Turco\n"
     ]
    },
    {
     "name": "stderr",
     "output_type": "stream",
     "text": [
      "Estrazione data nascita:  22%|██▏       | 105/470 [00:28<01:08,  5.32it/s]"
     ]
    },
    {
     "name": "stdout",
     "output_type": "stream",
     "text": [
      "🟨 Elaborazione: Plastic Bertrand\n",
      "⚠️ Nessuna data trovata per: Bruno D'Andrea\n",
      "🟨 Elaborazione: Mal\n",
      "🔍 Pseudonimo rilevato, provo con vero nome: thomas beecher hooker\n"
     ]
    },
    {
     "name": "stderr",
     "output_type": "stream",
     "text": [
      "Estrazione data nascita:  23%|██▎       | 107/470 [00:29<01:00,  5.99it/s]"
     ]
    },
    {
     "name": "stdout",
     "output_type": "stream",
     "text": [
      "⚠️ Nessuna data trovata per: Sebastiano Occhino\n",
      "🟨 Elaborazione: Mario Castelnuovo\n"
     ]
    },
    {
     "name": "stderr",
     "output_type": "stream",
     "text": [
      "Estrazione data nascita:  23%|██▎       | 108/470 [00:29<01:04,  5.62it/s]"
     ]
    },
    {
     "name": "stdout",
     "output_type": "stream",
     "text": [
      "⚠️ Nessuna data trovata per: Domenico Mattia\n",
      "🟨 Elaborazione: Roberto Soffici\n",
      "🔍 Pseudonimo rilevato, provo con vero nome: gianfranco fasano\n"
     ]
    },
    {
     "name": "stderr",
     "output_type": "stream",
     "text": [
      "Estrazione data nascita:  23%|██▎       | 109/470 [00:29<01:36,  3.74it/s]"
     ]
    },
    {
     "name": "stdout",
     "output_type": "stream",
     "text": [
      "🔍 Pseudonimo rilevato, provo con vero nome: enrico sbriccoli\n",
      "🟨 Elaborazione: Vasco Rossi\n"
     ]
    },
    {
     "name": "stderr",
     "output_type": "stream",
     "text": [
      "Estrazione data nascita:  23%|██▎       | 110/470 [00:30<01:44,  3.45it/s]"
     ]
    },
    {
     "name": "stdout",
     "output_type": "stream",
     "text": [
      "🟨 Elaborazione: Rino Martinez\n"
     ]
    },
    {
     "name": "stderr",
     "output_type": "stream",
     "text": [
      "Estrazione data nascita:  24%|██▎       | 111/470 [00:30<01:59,  3.00it/s]"
     ]
    },
    {
     "name": "stdout",
     "output_type": "stream",
     "text": [
      "🔍 Pseudonimo rilevato, provo con vero nome: roger allen fran\n",
      "🟨 Elaborazione: Claudio Villa\n",
      "🔍 Pseudonimo rilevato, provo con vero nome: paul bradley couling\n"
     ]
    },
    {
     "name": "stderr",
     "output_type": "stream",
     "text": [
      "Estrazione data nascita:  24%|██▍       | 113/470 [00:31<01:40,  3.54it/s]"
     ]
    },
    {
     "name": "stdout",
     "output_type": "stream",
     "text": [
      "🟨 Elaborazione: Piero Cassano\n",
      "🟨 Elaborazione: Marco Armani\n"
     ]
    },
    {
     "name": "stderr",
     "output_type": "stream",
     "text": [
      "Estrazione data nascita:  24%|██▍       | 115/470 [00:32<02:04,  2.85it/s]"
     ]
    },
    {
     "name": "stdout",
     "output_type": "stream",
     "text": [
      "🟨 Elaborazione: Giorgia Fiorio\n",
      "🟨 Elaborazione: Bertín Osborne\n"
     ]
    },
    {
     "name": "stderr",
     "output_type": "stream",
     "text": [
      "Estrazione data nascita:  25%|██▌       | 118/470 [00:32<01:22,  4.27it/s]"
     ]
    },
    {
     "name": "stdout",
     "output_type": "stream",
     "text": [
      "🟨 Elaborazione: Riccardo Azzurri\n",
      "🟨 Elaborazione: Richard Sanderson\n",
      "🔍 Pseudonimo rilevato, provo con vero nome: claudio pica\n",
      "🟨 Elaborazione: Donatello\n"
     ]
    },
    {
     "name": "stderr",
     "output_type": "stream",
     "text": [
      "Estrazione data nascita:  25%|██▌       | 119/470 [00:32<01:16,  4.61it/s]"
     ]
    },
    {
     "name": "stdout",
     "output_type": "stream",
     "text": [
      "⚠️ Nessuna data trovata per: Jimmy Fontana\n",
      "🟨 Elaborazione: Nino Buonocore\n",
      "🔍 Pseudonimo rilevato, provo con vero nome: marco antonio armenise\n",
      "🟨 Elaborazione: Alessio Colombini\n",
      "🟨 Elaborazione: Manuele Pepe\n",
      "🟨 Elaborazione: Amedeo Minghi\n"
     ]
    },
    {
     "name": "stderr",
     "output_type": "stream",
     "text": [
      "Estrazione data nascita:  26%|██▌       | 120/470 [00:34<02:47,  2.09it/s]"
     ]
    },
    {
     "name": "stdout",
     "output_type": "stream",
     "text": [
      "🟨 Elaborazione: Alberto Camerini\n",
      "💾 Salvataggio temporaneo completato (120/470)\n"
     ]
    },
    {
     "name": "stderr",
     "output_type": "stream",
     "text": [
      "Estrazione data nascita:  26%|██▋       | 124/470 [00:34<01:17,  4.45it/s]"
     ]
    },
    {
     "name": "stdout",
     "output_type": "stream",
     "text": [
      "🟨 Elaborazione: Garbo🟨 Elaborazione: Enrico Ruggeri\n",
      "\n"
     ]
    },
    {
     "name": "stderr",
     "output_type": "stream",
     "text": [
      "Estrazione data nascita:  27%|██▋       | 126/470 [00:34<01:11,  4.80it/s]"
     ]
    },
    {
     "name": "stdout",
     "output_type": "stream",
     "text": [
      "🔍 Pseudonimo rilevato, provo con vero nome: davy jones e poi altri due\n",
      "🟨 Elaborazione: Luis Miguel\n"
     ]
    },
    {
     "name": "stderr",
     "output_type": "stream",
     "text": [
      "Estrazione data nascita:  27%|██▋       | 128/470 [00:35<01:27,  3.91it/s]"
     ]
    },
    {
     "name": "stdout",
     "output_type": "stream",
     "text": [
      "⚠️ Nessuna data trovata per: Alessio Colombini\n",
      "🟨 Elaborazione: Eros Ramazzotti\n",
      "⚠️ Nessuna data trovata per: Claudio Villa\n",
      "🟨 Elaborazione: Ivan Graziani\n",
      "🔍 Pseudonimo rilevato, provo con vero nome: marco ceramicola\n"
     ]
    },
    {
     "name": "stderr",
     "output_type": "stream",
     "text": [
      "Estrazione data nascita:  27%|██▋       | 129/470 [00:35<01:21,  4.19it/s]"
     ]
    },
    {
     "name": "stdout",
     "output_type": "stream",
     "text": [
      "🟨 Elaborazione: Eugenio Finardi\n",
      "🟨 Elaborazione: Mimmo Locasciulli\n",
      "🟨 Elaborazione: Renzo Arbore\n"
     ]
    },
    {
     "name": "stderr",
     "output_type": "stream",
     "text": [
      "Estrazione data nascita:  28%|██▊       | 133/470 [00:36<01:02,  5.39it/s]"
     ]
    },
    {
     "name": "stdout",
     "output_type": "stream",
     "text": [
      "🟨 Elaborazione: Nino D'Angelo\n",
      "🟨 Elaborazione: Fred Bongusto\n"
     ]
    },
    {
     "name": "stderr",
     "output_type": "stream",
     "text": [
      "Estrazione data nascita:  29%|██▊       | 134/470 [00:37<01:46,  3.14it/s]"
     ]
    },
    {
     "name": "stdout",
     "output_type": "stream",
     "text": [
      "🟨 Elaborazione: Mango\n",
      "⚠️ Nessuna data trovata per: Ivan Graziani\n",
      "🟨 Elaborazione: Scialpi\n",
      "🟨 Elaborazione: Tony Esposito\n"
     ]
    },
    {
     "name": "stderr",
     "output_type": "stream",
     "text": [
      "Estrazione data nascita:  30%|██▉       | 139/470 [00:37<00:52,  6.36it/s]"
     ]
    },
    {
     "name": "stdout",
     "output_type": "stream",
     "text": [
      "🟨 Elaborazione: Sergio Caputo\n",
      "🟨 Elaborazione: Massimo Ranieri\n",
      "🟨 Elaborazione: Raf\n",
      "🔍 Pseudonimo rilevato, provo con vero nome: renato abate\n",
      "🟨 Elaborazione: Francesco Nuti\n",
      "🔍 Pseudonimo rilevato, provo con vero nome: alfredo antonio carlo buongusto\n"
     ]
    },
    {
     "name": "stderr",
     "output_type": "stream",
     "text": [
      "Estrazione data nascita:  30%|███       | 141/470 [00:38<01:24,  3.88it/s]"
     ]
    },
    {
     "name": "stdout",
     "output_type": "stream",
     "text": [
      "💾 Salvataggio temporaneo completato (140/470)\n",
      "🟨 Elaborazione: Franco Califano\n"
     ]
    },
    {
     "name": "stderr",
     "output_type": "stream",
     "text": [
      "Estrazione data nascita:  30%|███       | 143/470 [00:39<01:37,  3.37it/s]"
     ]
    },
    {
     "name": "stdout",
     "output_type": "stream",
     "text": [
      "🔍 Pseudonimo rilevato, provo con vero nome: giovanni scialpi\n",
      "🟨 Elaborazione: Tullio De Piscopo\n",
      "🟨 Elaborazione: Ron\n",
      "🔍 Pseudonimo rilevato, provo con vero nome: raffaele riefoli\n",
      "🔍 Pseudonimo rilevato, provo con vero nome: giovanni calone\n"
     ]
    },
    {
     "name": "stderr",
     "output_type": "stream",
     "text": [
      "Estrazione data nascita:  31%|███       | 145/470 [00:39<01:28,  3.65it/s]"
     ]
    },
    {
     "name": "stdout",
     "output_type": "stream",
     "text": [
      "⚠️ Nessuna data trovata per: Mango\n",
      "🟨 Elaborazione: Alan Sorrenti\n",
      "⚠️ Nessuna data trovata per: Francesco Nuti\n",
      "🟨 Elaborazione: Jovanotti\n"
     ]
    },
    {
     "name": "stderr",
     "output_type": "stream",
     "text": [
      "Estrazione data nascita:  31%|███       | 146/470 [00:40<01:55,  2.81it/s]"
     ]
    },
    {
     "name": "stdout",
     "output_type": "stream",
     "text": [
      "⚠️ Nessuna data trovata per: Franco Califano\n",
      "🟨 Elaborazione: Francesco Salvi\n"
     ]
    },
    {
     "name": "stderr",
     "output_type": "stream",
     "text": [
      "Estrazione data nascita:  31%|███▏      | 147/470 [00:40<01:57,  2.76it/s]"
     ]
    },
    {
     "name": "stdout",
     "output_type": "stream",
     "text": [
      "🟨 Elaborazione: Gino Paoli\n",
      "⚠️ Nessuna data trovata per: Fred Bongusto\n",
      "🟨 Elaborazione: Renato Carosone\n",
      "🟨 Elaborazione: Enzo Jannacci\n"
     ]
    },
    {
     "name": "stderr",
     "output_type": "stream",
     "text": [
      "Estrazione data nascita:  32%|███▏      | 150/470 [00:41<01:16,  4.16it/s]"
     ]
    },
    {
     "name": "stdout",
     "output_type": "stream",
     "text": [
      "🔍 Pseudonimo rilevato, provo con vero nome: rosalino cellamare\n",
      "🟨 Elaborazione: Gigi Sabani\n",
      "🔍 Pseudonimo rilevato, provo con vero nome: jovanotti\n"
     ]
    },
    {
     "name": "stderr",
     "output_type": "stream",
     "text": [
      "Estrazione data nascita:  32%|███▏      | 152/470 [00:41<01:30,  3.50it/s]"
     ]
    },
    {
     "name": "stdout",
     "output_type": "stream",
     "text": [
      "🟨 Elaborazione: Riccardo Cocciante\n",
      "🟨 Elaborazione: Renato Zero\n",
      "🟨 Elaborazione: Marco Masini\n",
      "🟨 Elaborazione: Umberto Tozzi\n"
     ]
    },
    {
     "name": "stderr",
     "output_type": "stream",
     "text": [
      "Estrazione data nascita:  33%|███▎      | 155/470 [00:42<01:22,  3.83it/s]"
     ]
    },
    {
     "name": "stdout",
     "output_type": "stream",
     "text": [
      "🔍 Pseudonimo rilevato, provo con vero nome: toang\n",
      "⚠️ Nessuna data trovata per: Enzo Jannacci\n",
      "🟨 Elaborazione: Paolo Vallesi\n",
      "⚠️ Nessuna data trovata per: Renato Carosone\n",
      "🟨 Elaborazione: Pierangelo Bertoli\n",
      "🟨 Elaborazione: Paolo Mengoli\n"
     ]
    },
    {
     "name": "stderr",
     "output_type": "stream",
     "text": [
      "Estrazione data nascita:  34%|███▎      | 158/470 [00:42<00:51,  6.09it/s]"
     ]
    },
    {
     "name": "stdout",
     "output_type": "stream",
     "text": [
      "⚠️ Nessuna data trovata per: Gigi Sabani\n",
      "🟨 Elaborazione: Enzo Ghinazzi\n"
     ]
    },
    {
     "name": "stderr",
     "output_type": "stream",
     "text": [
      "Estrazione data nascita:  34%|███▍      | 159/470 [00:43<01:21,  3.84it/s]"
     ]
    },
    {
     "name": "stdout",
     "output_type": "stream",
     "text": [
      "🟨 Elaborazione: Cristiano De André\n",
      "🔍 Pseudonimo rilevato, provo con vero nome: renato fiacchini\n",
      "🟨 Elaborazione: Biagio Antonacci\n",
      "🟨 Elaborazione: Andrea Mingardi\n",
      "🟨 Elaborazione: Roberto Murolo\n"
     ]
    },
    {
     "name": "stderr",
     "output_type": "stream",
     "text": [
      "Estrazione data nascita:  35%|███▍      | 163/470 [00:44<01:01,  4.97it/s]"
     ]
    },
    {
     "name": "stdout",
     "output_type": "stream",
     "text": [
      "💾 Salvataggio temporaneo completato (160/470)\n",
      "🟨 Elaborazione: Alessandro Canino\n"
     ]
    },
    {
     "name": "stderr",
     "output_type": "stream",
     "text": [
      "Estrazione data nascita:  35%|███▌      | 165/470 [00:44<00:51,  5.88it/s]"
     ]
    },
    {
     "name": "stdout",
     "output_type": "stream",
     "text": [
      "🟨 Elaborazione: Aleandro Baldi\n",
      "⚠️ Nessuna data trovata per: Pierangelo Bertoli\n",
      "🟨 Elaborazione: Giorgio Faletti\n",
      "🟨 Elaborazione: Alessandro Bono\n"
     ]
    },
    {
     "name": "stderr",
     "output_type": "stream",
     "text": [
      "Estrazione data nascita:  36%|███▌      | 168/470 [00:45<01:05,  4.59it/s]"
     ]
    },
    {
     "name": "stdout",
     "output_type": "stream",
     "text": [
      "🔍 Pseudonimo rilevato, provo con vero nome: enzo ghinazzi\n",
      "🟨 Elaborazione: Carlo Marrale\n",
      "🟨 Elaborazione: Andrea Bocelli\n"
     ]
    },
    {
     "name": "stderr",
     "output_type": "stream",
     "text": [
      "Estrazione data nascita:  36%|███▌      | 169/470 [00:45<01:00,  5.00it/s]"
     ]
    },
    {
     "name": "stdout",
     "output_type": "stream",
     "text": [
      "⚠️ Nessuna data trovata per: Andrea Mingardi\n",
      "🟨 Elaborazione: Fiorello\n"
     ]
    },
    {
     "name": "stderr",
     "output_type": "stream",
     "text": [
      "Estrazione data nascita:  36%|███▋      | 171/470 [00:45<00:59,  5.03it/s]"
     ]
    },
    {
     "name": "stdout",
     "output_type": "stream",
     "text": [
      "⚠️ Nessuna data trovata per: Roberto Murolo\n",
      "🟨 Elaborazione: Danilo Amerio\n",
      "🟨 Elaborazione: Giò Di Tonno\n",
      "🟨 Elaborazione: Massimo Di Cataldo\n"
     ]
    },
    {
     "name": "stderr",
     "output_type": "stream",
     "text": [
      "Estrazione data nascita:  37%|███▋      | 173/470 [00:46<00:55,  5.33it/s]"
     ]
    },
    {
     "name": "stdout",
     "output_type": "stream",
     "text": [
      "🔍 Pseudonimo rilevato, provo con vero nome: alessandro pizzamiglio\n",
      "⚠️ Nessuna data trovata per: Giorgio Faletti\n",
      "🟨 Elaborazione: Federico Salvatore\n"
     ]
    },
    {
     "name": "stderr",
     "output_type": "stream",
     "text": [
      "Estrazione data nascita:  37%|███▋      | 174/470 [00:46<00:57,  5.14it/s]"
     ]
    },
    {
     "name": "stdout",
     "output_type": "stream",
     "text": [
      "🟨 Elaborazione: Gigi Finizio\n"
     ]
    },
    {
     "name": "stderr",
     "output_type": "stream",
     "text": [
      "Estrazione data nascita:  37%|███▋      | 175/470 [00:46<01:06,  4.42it/s]"
     ]
    },
    {
     "name": "stdout",
     "output_type": "stream",
     "text": [
      "🟨 Elaborazione: Fedele Boccassini\n"
     ]
    },
    {
     "name": "stderr",
     "output_type": "stream",
     "text": [
      "Estrazione data nascita:  38%|███▊      | 177/470 [00:47<01:09,  4.22it/s]"
     ]
    },
    {
     "name": "stdout",
     "output_type": "stream",
     "text": [
      "🟨 Elaborazione: Nek\n",
      "🟨 Elaborazione: Francesco Baccini\n"
     ]
    },
    {
     "name": "stderr",
     "output_type": "stream",
     "text": [
      "Estrazione data nascita:  38%|███▊      | 178/470 [00:47<00:58,  5.00it/s]"
     ]
    },
    {
     "name": "stdout",
     "output_type": "stream",
     "text": [
      "🟨 Elaborazione: Alessandro Mara\n",
      "🟨 Elaborazione: Alessandro Errico\n",
      "🟨 Elaborazione: Leandro Barsotti\n",
      "🟨 Elaborazione: Maurizio Lauzi\n",
      "⚠️ Nessuna data trovata per: Federico Salvatore\n",
      "🟨 Elaborazione: Luca Sepe\n"
     ]
    },
    {
     "name": "stderr",
     "output_type": "stream",
     "text": [
      "Estrazione data nascita:  39%|███▉      | 183/470 [00:48<00:47,  6.05it/s]"
     ]
    },
    {
     "name": "stdout",
     "output_type": "stream",
     "text": [
      "💾 Salvataggio temporaneo completato (180/470)\n",
      "🟨 Elaborazione: Niccolò Fabi\n"
     ]
    },
    {
     "name": "stderr",
     "output_type": "stream",
     "text": [
      "Estrazione data nascita:  39%|███▉      | 184/470 [00:48<00:54,  5.23it/s]"
     ]
    },
    {
     "name": "stdout",
     "output_type": "stream",
     "text": [
      "🟨 Elaborazione: Alex Baroni\n"
     ]
    },
    {
     "name": "stderr",
     "output_type": "stream",
     "text": [
      "Estrazione data nascita:  40%|███▉      | 186/470 [00:48<00:57,  4.95it/s]"
     ]
    },
    {
     "name": "stdout",
     "output_type": "stream",
     "text": [
      "🔍 Pseudonimo rilevato, provo con vero nome: filippo neviani\n",
      "⚠️ Nessuna data trovata per: Alessandro Bono\n",
      "🟨 Elaborazione: Daniele Silvestri\n",
      "🟨 Elaborazione: Gatto Panceri\n"
     ]
    },
    {
     "name": "stderr",
     "output_type": "stream",
     "text": [
      "Estrazione data nascita:  40%|████      | 188/470 [00:49<00:49,  5.75it/s]"
     ]
    },
    {
     "name": "stdout",
     "output_type": "stream",
     "text": [
      "🔍 Pseudonimo rilevato, provo con vero nome: alessandro maraniello🟨 Elaborazione: Gianluca Grignani\n",
      "\n",
      "🟨 Elaborazione: Max Gazzè\n"
     ]
    },
    {
     "name": "stderr",
     "output_type": "stream",
     "text": [
      "Estrazione data nascita:  40%|████      | 190/470 [00:49<00:47,  5.85it/s]"
     ]
    },
    {
     "name": "stdout",
     "output_type": "stream",
     "text": [
      "🟨 Elaborazione: Samuele Bersani\n",
      "🟨 Elaborazione: Gigi D'Alessio\n"
     ]
    },
    {
     "name": "stderr",
     "output_type": "stream",
     "text": [
      "Estrazione data nascita:  41%|████      | 191/470 [00:49<00:44,  6.23it/s]"
     ]
    },
    {
     "name": "stdout",
     "output_type": "stream",
     "text": [
      "🟨 Elaborazione: Alex Britti\n"
     ]
    },
    {
     "name": "stderr",
     "output_type": "stream",
     "text": [
      "Estrazione data nascita:  41%|████      | 192/470 [00:50<01:11,  3.87it/s]"
     ]
    },
    {
     "name": "stdout",
     "output_type": "stream",
     "text": [
      "⚠️ Nessuna data trovata per: Alex Baroni\n",
      "🟨 Elaborazione: Fabio Concato\n"
     ]
    },
    {
     "name": "stderr",
     "output_type": "stream",
     "text": [
      "Estrazione data nascita:  41%|████      | 193/470 [00:50<01:15,  3.66it/s]"
     ]
    },
    {
     "name": "stdout",
     "output_type": "stream",
     "text": [
      "🟨 Elaborazione: Francesco Renga\n",
      "🔍 Pseudonimo rilevato, provo con vero nome: luigi giovanni maria panceri\n"
     ]
    },
    {
     "name": "stderr",
     "output_type": "stream",
     "text": [
      "Estrazione data nascita:  41%|████▏     | 194/470 [00:50<01:19,  3.45it/s]"
     ]
    },
    {
     "name": "stdout",
     "output_type": "stream",
     "text": [
      "🟨 Elaborazione: Alessandro Safina\n",
      "🟨 Elaborazione: Sergio Cammariere\n"
     ]
    },
    {
     "name": "stderr",
     "output_type": "stream",
     "text": [
      "Estrazione data nascita:  42%|████▏     | 197/470 [00:51<00:59,  4.55it/s]"
     ]
    },
    {
     "name": "stdout",
     "output_type": "stream",
     "text": [
      "🟨 Elaborazione: Mario Rosini\n",
      "🟨 Elaborazione: Paolo Meneguzzi\n"
     ]
    },
    {
     "name": "stderr",
     "output_type": "stream",
     "text": [
      "Estrazione data nascita:  42%|████▏     | 198/470 [00:51<00:52,  5.19it/s]"
     ]
    },
    {
     "name": "stdout",
     "output_type": "stream",
     "text": [
      "🟨 Elaborazione: Bungaro\n"
     ]
    },
    {
     "name": "stderr",
     "output_type": "stream",
     "text": [
      "Estrazione data nascita:  42%|████▏     | 199/470 [00:51<01:01,  4.42it/s]"
     ]
    },
    {
     "name": "stdout",
     "output_type": "stream",
     "text": [
      "🟨 Elaborazione: Stefano Picchi\n",
      "🔍 Pseudonimo rilevato, provo con vero nome: fabio bruno ernani piccaluga\n",
      "⚠️ Nessuna data trovata per: Samuele Bersani\n",
      "🟨 Elaborazione: Neffa\n"
     ]
    },
    {
     "name": "stderr",
     "output_type": "stream",
     "text": [
      "Estrazione data nascita:  43%|████▎     | 200/470 [00:52<01:29,  3.01it/s]"
     ]
    },
    {
     "name": "stdout",
     "output_type": "stream",
     "text": [
      "🟨 Elaborazione: Mario Venuti\n",
      "💾 Salvataggio temporaneo completato (200/470)\n",
      "🟨 Elaborazione: DJ Francesco\n"
     ]
    },
    {
     "name": "stderr",
     "output_type": "stream",
     "text": [
      "Estrazione data nascita:  43%|████▎     | 203/470 [00:52<00:52,  5.08it/s]"
     ]
    },
    {
     "name": "stdout",
     "output_type": "stream",
     "text": [
      "🟨 Elaborazione: Simone Tomassini\n"
     ]
    },
    {
     "name": "stderr",
     "output_type": "stream",
     "text": [
      "Estrazione data nascita:  43%|████▎     | 204/470 [00:52<00:56,  4.74it/s]"
     ]
    },
    {
     "name": "stdout",
     "output_type": "stream",
     "text": [
      "🟨 Elaborazione: Omar Pedrini\n",
      "🔍 Pseudonimo rilevato, provo con vero nome: pablo meneguzzo\n"
     ]
    },
    {
     "name": "stderr",
     "output_type": "stream",
     "text": [
      "Estrazione data nascita:  44%|████▎     | 205/470 [00:53<01:03,  4.18it/s]"
     ]
    },
    {
     "name": "stdout",
     "output_type": "stream",
     "text": [
      "🔍 Pseudonimo rilevato, provo con vero nome: antonio calò\n",
      "🟨 Elaborazione: Daniele Groff\n"
     ]
    },
    {
     "name": "stderr",
     "output_type": "stream",
     "text": [
      "Estrazione data nascita:  44%|████▍     | 206/470 [00:53<00:59,  4.46it/s]"
     ]
    },
    {
     "name": "stdout",
     "output_type": "stream",
     "text": [
      "🟨 Elaborazione: Adriano Pappalardo\n",
      "🔍 Pseudonimo rilevato, provo con vero nome: giovanni pellino\n"
     ]
    },
    {
     "name": "stderr",
     "output_type": "stream",
     "text": [
      "Estrazione data nascita:  44%|████▍     | 208/470 [00:54<01:11,  3.66it/s]"
     ]
    },
    {
     "name": "stdout",
     "output_type": "stream",
     "text": [
      "🟨 Elaborazione: Andrè\n",
      "🟨 Elaborazione: Christian Lo Zito\n"
     ]
    },
    {
     "name": "stderr",
     "output_type": "stream",
     "text": [
      "Estrazione data nascita:  45%|████▍     | 210/470 [00:54<01:02,  4.19it/s]"
     ]
    },
    {
     "name": "stdout",
     "output_type": "stream",
     "text": [
      "🟨 Elaborazione: Piotta\n",
      "🟨 Elaborazione: Christian\n",
      "🟨 Elaborazione: Nicola Arigliano\n"
     ]
    },
    {
     "name": "stderr",
     "output_type": "stream",
     "text": [
      "Estrazione data nascita:  45%|████▌     | 213/470 [00:54<00:43,  5.92it/s]"
     ]
    },
    {
     "name": "stdout",
     "output_type": "stream",
     "text": [
      "🟨 Elaborazione: Max De Angelis\n",
      "🟨 Elaborazione: Enrico Boccadoro\n"
     ]
    },
    {
     "name": "stderr",
     "output_type": "stream",
     "text": [
      "Estrazione data nascita:  46%|████▌     | 214/470 [00:56<01:39,  2.56it/s]"
     ]
    },
    {
     "name": "stdout",
     "output_type": "stream",
     "text": [
      "🟨 Elaborazione: Povia\n",
      "🟨 Elaborazione: Riccardo Maffoni\n"
     ]
    },
    {
     "name": "stderr",
     "output_type": "stream",
     "text": [
      "Estrazione data nascita:  46%|████▌     | 217/470 [00:56<01:14,  3.41it/s]"
     ]
    },
    {
     "name": "stdout",
     "output_type": "stream",
     "text": [
      "🟨 Elaborazione: Simone Cristicchi\n",
      "🟨 Elaborazione: I Ragazzi di Scampia con Gigi Finizio\n"
     ]
    },
    {
     "name": "stderr",
     "output_type": "stream",
     "text": [
      "Estrazione data nascita:  46%|████▋     | 218/470 [00:56<01:06,  3.78it/s]"
     ]
    },
    {
     "name": "stdout",
     "output_type": "stream",
     "text": [
      "⚠️ Nessuna data trovata per: Nicola Arigliano\n",
      "🟨 Elaborazione: Bassano\n",
      "⚠️ Nessuna data trovata per: Enrico Boccadoro\n",
      "🟨 Elaborazione: Luca Dirisio\n",
      "❌ Nessuna pagina trovata per: Christian Lo Zito\n",
      "🟨 Elaborazione: Ivan Segreto\n"
     ]
    },
    {
     "name": "stderr",
     "output_type": "stream",
     "text": [
      "Estrazione data nascita:  47%|████▋     | 220/470 [00:57<01:14,  3.37it/s]"
     ]
    },
    {
     "name": "stdout",
     "output_type": "stream",
     "text": [
      "💾 Salvataggio temporaneo completato (220/470)\n"
     ]
    },
    {
     "name": "stderr",
     "output_type": "stream",
     "text": [
      "Estrazione data nascita:  47%|████▋     | 221/470 [00:57<01:10,  3.52it/s]"
     ]
    },
    {
     "name": "stdout",
     "output_type": "stream",
     "text": [
      "⚠️ Nomi multipli rilevati, salto: Mario Venuti e Arancia Sonora\n",
      "🟨 Elaborazione: Antonello\n",
      "🟨 Elaborazione: Piero Mazzocchetti\n",
      "🔍 Pseudonimo rilevato, provo con vero nome: gaetano cristiano vincenzo rossi\n"
     ]
    },
    {
     "name": "stderr",
     "output_type": "stream",
     "text": [
      "Estrazione data nascita:  48%|████▊     | 225/470 [00:58<00:52,  4.71it/s]"
     ]
    },
    {
     "name": "stdout",
     "output_type": "stream",
     "text": [
      "🟨 Elaborazione: Francesco con Roby Facchinetti\n",
      "❌ Nessuna pagina trovata per: Andrè\n",
      "🟨 Elaborazione: Paolo Rossi\n",
      "🟨 Elaborazione: Johnny Dorelli\n"
     ]
    },
    {
     "name": "stderr",
     "output_type": "stream",
     "text": [
      "Estrazione data nascita:  48%|████▊     | 227/470 [00:58<00:49,  4.95it/s]"
     ]
    },
    {
     "name": "stdout",
     "output_type": "stream",
     "text": [
      "🔍 Pseudonimo rilevato, provo con vero nome: tommaso zanello\n",
      "🟨 Elaborazione: Fabrizio Moro\n"
     ]
    },
    {
     "name": "stderr",
     "output_type": "stream",
     "text": [
      "Estrazione data nascita:  49%|████▊     | 228/470 [00:59<01:19,  3.05it/s]"
     ]
    },
    {
     "name": "stdout",
     "output_type": "stream",
     "text": [
      "🟨 Elaborazione: Eugenio Bennato\n",
      "❌ Nessuna pagina trovata per: I Ragazzi di Scampia con Gigi Finizio\n",
      "🟨 Elaborazione: Frankie hi-nrg mc\n",
      "⚠️ Nessuna data trovata per: Antonello\n",
      "🟨 Elaborazione: Marco Carta\n",
      "🔍 Pseudonimo rilevato, provo con vero nome: antonio bassano sarri\n",
      "🔍 Pseudonimo rilevato, provo con vero nome: giorgio domenico guidi\n"
     ]
    },
    {
     "name": "stderr",
     "output_type": "stream",
     "text": [
      "Estrazione data nascita:  49%|████▉     | 231/470 [01:00<01:21,  2.92it/s]"
     ]
    },
    {
     "name": "stdout",
     "output_type": "stream",
     "text": [
      "🔍 Pseudonimo rilevato, provo con vero nome: fabrizio mobrici\n",
      "🟨 Elaborazione: Sal Da Vinci\n"
     ]
    },
    {
     "name": "stderr",
     "output_type": "stream",
     "text": [
      "Estrazione data nascita:  50%|████▉     | 234/470 [01:01<01:05,  3.61it/s]"
     ]
    },
    {
     "name": "stdout",
     "output_type": "stream",
     "text": [
      "🟨 Elaborazione: Gemelli DiVersi\n",
      "🔍 Pseudonimo rilevato, provo con vero nome: francesco di gesù\n",
      "❌ Nessuna pagina trovata per: Francesco con Roby Facchinetti\n",
      "🟨 Elaborazione: Valerio Scanu\n",
      "🟨 Elaborazione: Marco Mengoni\n",
      "🟨 Elaborazione: Davide Van De Sfroos\n"
     ]
    },
    {
     "name": "stderr",
     "output_type": "stream",
     "text": [
      "Estrazione data nascita:  50%|█████     | 236/470 [01:01<01:03,  3.68it/s]"
     ]
    },
    {
     "name": "stdout",
     "output_type": "stream",
     "text": [
      "❌ Nessuna pagina trovata per: Paolo Rossi\n",
      "🟨 Elaborazione: Max Pezzali\n",
      "🔍 Pseudonimo rilevato, provo con vero nome: salvatore michael sorrentino\n"
     ]
    },
    {
     "name": "stderr",
     "output_type": "stream",
     "text": [
      "Estrazione data nascita:  50%|█████     | 237/470 [01:02<01:21,  2.86it/s]"
     ]
    },
    {
     "name": "stdout",
     "output_type": "stream",
     "text": [
      "⚠️ Nessuna data trovata per: Bassano\n",
      "🟨 Elaborazione: Raphael Gualazzi\n"
     ]
    },
    {
     "name": "stderr",
     "output_type": "stream",
     "text": [
      "Estrazione data nascita:  51%|█████     | 239/470 [01:03<01:08,  3.36it/s]"
     ]
    },
    {
     "name": "stdout",
     "output_type": "stream",
     "text": [
      "⚠️ Nessuna data trovata per: Gemelli DiVersi\n",
      "🟨 Elaborazione: Antoine\n",
      "🟨 Elaborazione: Renzo Rubino\n",
      "🟨 Elaborazione: Francesco Sarcina\n",
      "🟨 Elaborazione: Giuliano Palma\n",
      "🔍 Pseudonimo rilevato, provo con vero nome: davide enrico bernasconi\n",
      "🟨 Elaborazione: Riccardo Sinigallia\n"
     ]
    },
    {
     "name": "stderr",
     "output_type": "stream",
     "text": [
      "Estrazione data nascita:  51%|█████     | 240/470 [01:03<01:18,  2.92it/s]"
     ]
    },
    {
     "name": "stdout",
     "output_type": "stream",
     "text": [
      "💾 Salvataggio temporaneo completato (240/470)\n"
     ]
    },
    {
     "name": "stderr",
     "output_type": "stream",
     "text": [
      "Estrazione data nascita:  52%|█████▏    | 243/470 [01:03<00:48,  4.63it/s]"
     ]
    },
    {
     "name": "stdout",
     "output_type": "stream",
     "text": [
      "🟨 Elaborazione: Lorenzo Fragola\n",
      "🟨 Elaborazione: Nesli\n"
     ]
    },
    {
     "name": "stderr",
     "output_type": "stream",
     "text": [
      "Estrazione data nascita:  52%|█████▏    | 245/470 [01:04<00:56,  4.01it/s]"
     ]
    },
    {
     "name": "stdout",
     "output_type": "stream",
     "text": [
      "🟨 Elaborazione: Andrea Ori\n"
     ]
    },
    {
     "name": "stderr",
     "output_type": "stream",
     "text": [
      "Estrazione data nascita:  52%|█████▏    | 246/470 [01:04<01:04,  3.46it/s]"
     ]
    },
    {
     "name": "stdout",
     "output_type": "stream",
     "text": [
      "🟨 Elaborazione: Clementino🟨 Elaborazione: Rocco Hunt\n",
      "\n",
      "🟨 Elaborazione: Alessio Bernabei\n"
     ]
    },
    {
     "name": "stderr",
     "output_type": "stream",
     "text": [
      "Estrazione data nascita:  53%|█████▎    | 250/470 [01:05<00:39,  5.50it/s]"
     ]
    },
    {
     "name": "stdout",
     "output_type": "stream",
     "text": [
      "🟨 Elaborazione: Francesco Gabbani\n",
      "🟨 Elaborazione: Ermal Meta\n"
     ]
    },
    {
     "name": "stderr",
     "output_type": "stream",
     "text": [
      "Estrazione data nascita:  53%|█████▎    | 251/470 [01:05<01:02,  3.53it/s]"
     ]
    },
    {
     "name": "stdout",
     "output_type": "stream",
     "text": [
      "🔍 Pseudonimo rilevato, provo con vero nome: francesco tarducci\n",
      "🟨 Elaborazione: Michele Bravi\n",
      "🟨 Elaborazione: Sergio Sylvestre\n"
     ]
    },
    {
     "name": "stderr",
     "output_type": "stream",
     "text": [
      "Estrazione data nascita:  54%|█████▍    | 253/470 [01:06<00:55,  3.89it/s]"
     ]
    },
    {
     "name": "stdout",
     "output_type": "stream",
     "text": [
      "🟨 Elaborazione: Anastasio\n"
     ]
    },
    {
     "name": "stderr",
     "output_type": "stream",
     "text": [
      "Estrazione data nascita:  54%|█████▍    | 254/470 [01:06<01:03,  3.40it/s]"
     ]
    },
    {
     "name": "stdout",
     "output_type": "stream",
     "text": [
      "🟨 Elaborazione: Giovanni Caccamo\n",
      "🔍 Pseudonimo rilevato, provo con vero nome: rocco pagliarulo\n"
     ]
    },
    {
     "name": "stderr",
     "output_type": "stream",
     "text": [
      "Estrazione data nascita:  54%|█████▍    | 255/470 [01:07<01:05,  3.30it/s]"
     ]
    },
    {
     "name": "stdout",
     "output_type": "stream",
     "text": [
      "🟨 Elaborazione: Red Canzian\n",
      "🟨 Elaborazione: Mario Biondi\n"
     ]
    },
    {
     "name": "stderr",
     "output_type": "stream",
     "text": [
      "Estrazione data nascita:  55%|█████▍    | 258/470 [01:07<00:54,  3.87it/s]"
     ]
    },
    {
     "name": "stdout",
     "output_type": "stream",
     "text": [
      "❌ Nessuna pagina trovata per: Andrea Ori\n",
      "🟨 Elaborazione: Mahmood\n",
      "🟨 Elaborazione: Irama\n",
      "🟨 Elaborazione: Achille Lauro\n",
      "🟨 Elaborazione: Enrico Nigiotti\n",
      "🔍 Pseudonimo rilevato, provo con vero nome: bruno canzian\n",
      "🔍 Pseudonimo rilevato, provo con vero nome: clemente maccaro\n"
     ]
    },
    {
     "name": "stderr",
     "output_type": "stream",
     "text": [
      "Estrazione data nascita:  55%|█████▌    | 260/470 [01:09<01:33,  2.25it/s]"
     ]
    },
    {
     "name": "stdout",
     "output_type": "stream",
     "text": [
      "💾 Salvataggio temporaneo completato (260/470)\n",
      "🔍 Pseudonimo rilevato, provo con vero nome: alessandro mahmoud\n",
      "🔍 Pseudonimo rilevato, provo con vero nome: filippo maria fanti\n"
     ]
    },
    {
     "name": "stderr",
     "output_type": "stream",
     "text": [
      "Estrazione data nascita:  56%|█████▌    | 262/470 [01:10<01:30,  2.29it/s]"
     ]
    },
    {
     "name": "stdout",
     "output_type": "stream",
     "text": [
      "🟨 Elaborazione: Ghemon\n",
      "🟨 Elaborazione: Alessandro\n"
     ]
    },
    {
     "name": "stderr",
     "output_type": "stream",
     "text": [
      "Estrazione data nascita:  56%|█████▌    | 263/470 [01:10<01:15,  2.75it/s]"
     ]
    },
    {
     "name": "stdout",
     "output_type": "stream",
     "text": [
      "🟨 Elaborazione: Einar\n",
      "🔍 Pseudonimo rilevato, provo con vero nome: mario ranno\n"
     ]
    },
    {
     "name": "stderr",
     "output_type": "stream",
     "text": [
      "Estrazione data nascita:  56%|█████▌    | 264/470 [01:10<01:16,  2.69it/s]"
     ]
    },
    {
     "name": "stdout",
     "output_type": "stream",
     "text": [
      "🟨 Elaborazione: Diodato\n",
      "🔍 Pseudonimo rilevato, provo con vero nome: lauro de marinis\n",
      "🔍 Pseudonimo rilevato, provo con vero nome: giovanni luca picariello\n"
     ]
    },
    {
     "name": "stderr",
     "output_type": "stream",
     "text": [
      "Estrazione data nascita:  56%|█████▋    | 265/470 [01:11<01:59,  1.72it/s]"
     ]
    },
    {
     "name": "stdout",
     "output_type": "stream",
     "text": [
      "🟨 Elaborazione: Piero Pelù\n",
      "🟨 Elaborazione: Alberto Beltrami\n"
     ]
    },
    {
     "name": "stderr",
     "output_type": "stream",
     "text": [
      "Estrazione data nascita:  57%|█████▋    | 267/470 [01:12<01:29,  2.27it/s]"
     ]
    },
    {
     "name": "stdout",
     "output_type": "stream",
     "text": [
      "🟨 Elaborazione: Alberto Urso\n",
      "🟨 Elaborazione: Paolo Jannacci\n"
     ]
    },
    {
     "name": "stderr",
     "output_type": "stream",
     "text": [
      "Estrazione data nascita:  57%|█████▋    | 270/470 [01:13<01:07,  2.96it/s]"
     ]
    },
    {
     "name": "stdout",
     "output_type": "stream",
     "text": [
      "🟨 Elaborazione: Junior Cally\n",
      "🟨 Elaborazione: Riki\n",
      "🟨 Elaborazione: Willie Peyote\n"
     ]
    },
    {
     "name": "stderr",
     "output_type": "stream",
     "text": [
      "Estrazione data nascita:  58%|█████▊    | 272/470 [01:13<00:54,  3.62it/s]"
     ]
    },
    {
     "name": "stdout",
     "output_type": "stream",
     "text": [
      "🟨 Elaborazione: Fulminacci\n",
      "🔍 Pseudonimo rilevato, provo con vero nome: pietro pelù\n"
     ]
    },
    {
     "name": "stderr",
     "output_type": "stream",
     "text": [
      "Estrazione data nascita:  59%|█████▊    | 275/470 [01:14<00:44,  4.34it/s]"
     ]
    },
    {
     "name": "stdout",
     "output_type": "stream",
     "text": [
      "🟨 Elaborazione: Fasma\n",
      "🟨 Elaborazione: Gio Evan\n",
      "🟨 Elaborazione: Bugo\n",
      "⚠️ Nessuna data trovata per: Ghemon\n",
      "🟨 Elaborazione: Aiello\n"
     ]
    },
    {
     "name": "stderr",
     "output_type": "stream",
     "text": [
      "Estrazione data nascita:  59%|█████▉    | 277/470 [01:14<00:47,  4.05it/s]"
     ]
    },
    {
     "name": "stdout",
     "output_type": "stream",
     "text": [
      "❌ Nessuna pagina trovata per: Alberto Beltrami\n",
      "🟨 Elaborazione: Dargen D'Amico\n",
      "🔍 Pseudonimo rilevato, provo con vero nome: antonio signore\n",
      "🔍 Pseudonimo rilevato, provo con vero nome: guglielmo bruno\n",
      "🔍 Pseudonimo rilevato, provo con vero nome: filippo uttinacci\n",
      "🔍 Pseudonimo rilevato, provo con vero nome: tiberio fazioli\n",
      "🔍 Pseudonimo rilevato, provo con vero nome: giovanni giancaspro\n",
      "🔍 Pseudonimo rilevato, provo con vero nome: cristian bugatti\n",
      "🔍 Pseudonimo rilevato, provo con vero nome: riccardo marcuzzo\n"
     ]
    },
    {
     "name": "stderr",
     "output_type": "stream",
     "text": [
      "Estrazione data nascita:  59%|█████▉    | 278/470 [01:16<01:43,  1.85it/s]"
     ]
    },
    {
     "name": "stdout",
     "output_type": "stream",
     "text": [
      "🟨 Elaborazione: Matteo Romano\n",
      "🔍 Pseudonimo rilevato, provo con vero nome: jacopo matteo luca d'amico\n",
      "🔍 Pseudonimo rilevato, provo con vero nome: antonio aiello\n"
     ]
    },
    {
     "name": "stderr",
     "output_type": "stream",
     "text": [
      "Estrazione data nascita:  59%|█████▉    | 279/470 [01:17<02:08,  1.49it/s]"
     ]
    },
    {
     "name": "stdout",
     "output_type": "stream",
     "text": [
      "🟨 Elaborazione: AKA 7even\n",
      "🟨 Elaborazione: Rkomi\n",
      "🟨 Elaborazione: Giovanni Truppi\n"
     ]
    },
    {
     "name": "stderr",
     "output_type": "stream",
     "text": [
      "Estrazione data nascita:  60%|██████    | 282/470 [01:18<01:19,  2.36it/s]"
     ]
    },
    {
     "name": "stdout",
     "output_type": "stream",
     "text": [
      "💾 Salvataggio temporaneo completato (280/470)\n",
      "🟨 Elaborazione: Yuman\n"
     ]
    },
    {
     "name": "stderr",
     "output_type": "stream",
     "text": [
      "Estrazione data nascita:  60%|██████    | 284/470 [01:18<00:56,  3.28it/s]"
     ]
    },
    {
     "name": "stdout",
     "output_type": "stream",
     "text": [
      "🟨 Elaborazione: Tananai\n",
      "🟨 Elaborazione: Lazza\n"
     ]
    },
    {
     "name": "stderr",
     "output_type": "stream",
     "text": [
      "Estrazione data nascita:  61%|██████    | 285/470 [01:18<00:55,  3.35it/s]"
     ]
    },
    {
     "name": "stdout",
     "output_type": "stream",
     "text": [
      "🟨 Elaborazione: Mr. Rain\n",
      "🟨 Elaborazione: Rosa Chemical\n"
     ]
    },
    {
     "name": "stderr",
     "output_type": "stream",
     "text": [
      "Estrazione data nascita:  61%|██████    | 287/470 [01:19<00:56,  3.26it/s]"
     ]
    },
    {
     "name": "stdout",
     "output_type": "stream",
     "text": [
      "🔍 Pseudonimo rilevato, provo con vero nome: mirko manuele martorana\n",
      "🟨 Elaborazione: LDA\n",
      "🔍 Pseudonimo rilevato, provo con vero nome: luca marzano\n"
     ]
    },
    {
     "name": "stderr",
     "output_type": "stream",
     "text": [
      "Estrazione data nascita:  61%|██████▏   | 288/470 [01:19<00:48,  3.73it/s]"
     ]
    },
    {
     "name": "stdout",
     "output_type": "stream",
     "text": [
      "🟨 Elaborazione: Leo Gassmann\n"
     ]
    },
    {
     "name": "stderr",
     "output_type": "stream",
     "text": [
      "Estrazione data nascita:  61%|██████▏   | 289/470 [01:19<00:48,  3.71it/s]"
     ]
    },
    {
     "name": "stdout",
     "output_type": "stream",
     "text": [
      "🟨 Elaborazione: Gianmaria\n",
      "🔍 Pseudonimo rilevato, provo con vero nome: yuri santos tavares carloia\n",
      "🔍 Pseudonimo rilevato, provo con vero nome: alberto cotta ramusino\n",
      "🔍 Pseudonimo rilevato, provo con vero nome: jacopo lazzarini\n",
      "🔍 Pseudonimo rilevato, provo con vero nome: mattia balardi\n",
      "🔍 Pseudonimo rilevato, provo con vero nome: manuel franco rocati\n"
     ]
    },
    {
     "name": "stderr",
     "output_type": "stream",
     "text": [
      "Estrazione data nascita:  62%|██████▏   | 291/470 [01:21<01:21,  2.20it/s]"
     ]
    },
    {
     "name": "stdout",
     "output_type": "stream",
     "text": [
      "🟨 Elaborazione: Olly\n",
      "⚠️ Nessuna data trovata per: Gianmaria\n",
      "🟨 Elaborazione: Sethu\n"
     ]
    },
    {
     "name": "stderr",
     "output_type": "stream",
     "text": [
      "Estrazione data nascita:  62%|██████▏   | 292/470 [01:22<01:23,  2.12it/s]"
     ]
    },
    {
     "name": "stdout",
     "output_type": "stream",
     "text": [
      "🟨 Elaborazione: Nilla Pizzi\n"
     ]
    },
    {
     "name": "stderr",
     "output_type": "stream",
     "text": [
      "Estrazione data nascita:  62%|██████▏   | 293/470 [01:22<01:11,  2.47it/s]"
     ]
    },
    {
     "name": "stdout",
     "output_type": "stream",
     "text": [
      "⚠️ Nomi multipli rilevati, salto: Achille Togliani - Katyna Ranieri\n",
      "🟨 Elaborazione: Veronica Ventavoli\n"
     ]
    },
    {
     "name": "stderr",
     "output_type": "stream",
     "text": [
      "Estrazione data nascita:  63%|██████▎   | 296/470 [01:22<00:45,  3.80it/s]"
     ]
    },
    {
     "name": "stdout",
     "output_type": "stream",
     "text": [
      "🟨 Elaborazione: Vanna Leali\n",
      "🟨 Elaborazione: Tosca\n",
      "🟨 Elaborazione: Franca Raimondi\n"
     ]
    },
    {
     "name": "stderr",
     "output_type": "stream",
     "text": [
      "Estrazione data nascita:  63%|██████▎   | 298/470 [01:22<00:35,  4.83it/s]"
     ]
    },
    {
     "name": "stdout",
     "output_type": "stream",
     "text": [
      "🔍 Pseudonimo rilevato, provo con vero nome: luca d'alessio\n",
      "🟨 Elaborazione: Tonina Torrielli\n",
      "🟨 Elaborazione: Luciana Gonzales\n",
      "🔍 Pseudonimo rilevato, provo con vero nome: marco de lauri\n",
      "⚠️ Nessuna data trovata per: Nilla Pizzi\n",
      "🟨 Elaborazione: Clara Vincenzi\n"
     ]
    },
    {
     "name": "stderr",
     "output_type": "stream",
     "text": [
      "Estrazione data nascita:  64%|██████▍   | 300/470 [01:24<00:55,  3.05it/s]"
     ]
    },
    {
     "name": "stdout",
     "output_type": "stream",
     "text": [
      "💾 Salvataggio temporaneo completato (300/470)\n"
     ]
    },
    {
     "name": "stderr",
     "output_type": "stream",
     "text": [
      "Estrazione data nascita:  64%|██████▍   | 301/470 [01:24<00:56,  3.00it/s]"
     ]
    },
    {
     "name": "stdout",
     "output_type": "stream",
     "text": [
      "⚠️ Nessuna data trovata per: Franca Raimondi\n",
      "🟨 Elaborazione: Stefania\n",
      "🔍 Pseudonimo rilevato, provo con vero nome: antonietta torrielli\n"
     ]
    },
    {
     "name": "stderr",
     "output_type": "stream",
     "text": [
      "Estrazione data nascita:  64%|██████▍   | 302/470 [01:24<00:59,  2.82it/s]"
     ]
    },
    {
     "name": "stdout",
     "output_type": "stream",
     "text": [
      "🔍 Pseudonimo rilevato, provo con vero nome: lucia benedetta gonzales\n",
      "❌ Nessuna pagina trovata per: Veronica Ventavoli\n",
      "🟨 Elaborazione: Spagna\n"
     ]
    },
    {
     "name": "stderr",
     "output_type": "stream",
     "text": [
      "Estrazione data nascita:  65%|██████▍   | 304/470 [01:25<00:49,  3.33it/s]"
     ]
    },
    {
     "name": "stdout",
     "output_type": "stream",
     "text": [
      "❌ Nessuna pagina trovata per: Vanna Leali\n",
      "🟨 Elaborazione: Sibilla\n",
      "🟨 Elaborazione: Sabrina Guida\n"
     ]
    },
    {
     "name": "stderr",
     "output_type": "stream",
     "text": [
      "Estrazione data nascita:  65%|██████▌   | 306/470 [01:25<00:37,  4.32it/s]"
     ]
    },
    {
     "name": "stdout",
     "output_type": "stream",
     "text": [
      "🟨 Elaborazione: Roberta\n",
      "🟨 Elaborazione: Pinot\n",
      "🟨 Elaborazione: Patrizia Danzi\n"
     ]
    },
    {
     "name": "stderr",
     "output_type": "stream",
     "text": [
      "Estrazione data nascita:  66%|██████▌   | 308/470 [01:25<00:30,  5.31it/s]"
     ]
    },
    {
     "name": "stdout",
     "output_type": "stream",
     "text": [
      "⚠️ Nessuna data trovata per: Stefania\n",
      "🟨 Elaborazione: Nathalie\n",
      "🔍 Pseudonimo rilevato, provo con vero nome: federico olivieri\n"
     ]
    },
    {
     "name": "stderr",
     "output_type": "stream",
     "text": [
      "Estrazione data nascita:  66%|██████▌   | 309/470 [01:26<00:49,  3.28it/s]"
     ]
    },
    {
     "name": "stdout",
     "output_type": "stream",
     "text": [
      "⚠️ Nessuna data trovata per: Spagna\n",
      "🟨 Elaborazione: Monia Russo\n"
     ]
    },
    {
     "name": "stderr",
     "output_type": "stream",
     "text": [
      "Estrazione data nascita:  66%|██████▌   | 311/470 [01:27<00:41,  3.79it/s]"
     ]
    },
    {
     "name": "stdout",
     "output_type": "stream",
     "text": [
      "⚠️ Nessuna data trovata per: Sibilla\n",
      "🟨 Elaborazione: Mela Lo Cicero\n",
      "🟨 Elaborazione: Marinella\n"
     ]
    },
    {
     "name": "stderr",
     "output_type": "stream",
     "text": [
      "Estrazione data nascita:  66%|██████▋   | 312/470 [01:27<00:40,  3.91it/s]"
     ]
    },
    {
     "name": "stdout",
     "output_type": "stream",
     "text": [
      "⚠️ Nessuna data trovata per: Luciana Gonzales\n",
      "🟨 Elaborazione: Marcella\n",
      "🔍 Pseudonimo rilevato, provo con vero nome: natalia beatrice giannitrapani\n"
     ]
    },
    {
     "name": "stderr",
     "output_type": "stream",
     "text": [
      "Estrazione data nascita:  67%|██████▋   | 313/470 [01:27<00:59,  2.64it/s]"
     ]
    },
    {
     "name": "stdout",
     "output_type": "stream",
     "text": [
      "❌ Nessuna pagina trovata per: Sabrina Guida\n",
      "🟨 Elaborazione: Mara\n"
     ]
    },
    {
     "name": "stderr",
     "output_type": "stream",
     "text": [
      "Estrazione data nascita:  67%|██████▋   | 314/470 [01:28<00:56,  2.77it/s]"
     ]
    },
    {
     "name": "stdout",
     "output_type": "stream",
     "text": [
      "❌ Nessuna pagina trovata per: Patrizia Danzi\n",
      "🟨 Elaborazione: Madame\n"
     ]
    },
    {
     "name": "stderr",
     "output_type": "stream",
     "text": [
      "Estrazione data nascita:  67%|██████▋   | 316/470 [01:28<00:46,  3.30it/s]"
     ]
    },
    {
     "name": "stdout",
     "output_type": "stream",
     "text": [
      "🟨 Elaborazione: Lolita\n",
      "⚠️ Nessuna data trovata per: Marcella\n",
      "🟨 Elaborazione: Levante\n"
     ]
    },
    {
     "name": "stderr",
     "output_type": "stream",
     "text": [
      "Estrazione data nascita:  68%|██████▊   | 318/470 [01:28<00:29,  5.17it/s]"
     ]
    },
    {
     "name": "stdout",
     "output_type": "stream",
     "text": [
      "❌ Nessuna pagina trovata per: Pinot\n",
      "🟨 Elaborazione: Laura\n",
      "❌ Nessuna pagina trovata per: Roberta\n",
      "🟨 Elaborazione: Nada\n"
     ]
    },
    {
     "name": "stderr",
     "output_type": "stream",
     "text": [
      "Estrazione data nascita:  68%|██████▊   | 319/470 [01:29<00:28,  5.27it/s]"
     ]
    },
    {
     "name": "stdout",
     "output_type": "stream",
     "text": [
      "❌ Nessuna pagina trovata per: Monia Russo\n",
      "🟨 Elaborazione: Marcella Bella\n",
      "❌ Nessuna pagina trovata per: Mela Lo Cicero\n",
      "🟨 Elaborazione: Gigliola Cinquetti\n"
     ]
    },
    {
     "name": "stderr",
     "output_type": "stream",
     "text": [
      "Estrazione data nascita:  68%|██████▊   | 320/470 [01:29<00:49,  3.05it/s]"
     ]
    },
    {
     "name": "stdout",
     "output_type": "stream",
     "text": [
      "💾 Salvataggio temporaneo completato (320/470)\n"
     ]
    },
    {
     "name": "stderr",
     "output_type": "stream",
     "text": [
      "Estrazione data nascita:  68%|██████▊   | 321/470 [01:30<00:54,  2.74it/s]"
     ]
    },
    {
     "name": "stdout",
     "output_type": "stream",
     "text": [
      "🟨 Elaborazione: Milva\n"
     ]
    },
    {
     "name": "stderr",
     "output_type": "stream",
     "text": [
      "Estrazione data nascita:  69%|██████▊   | 322/470 [01:30<01:04,  2.28it/s]"
     ]
    },
    {
     "name": "stdout",
     "output_type": "stream",
     "text": [
      "🟨 Elaborazione: Lara Saint Paul\n"
     ]
    },
    {
     "name": "stderr",
     "output_type": "stream",
     "text": [
      "Estrazione data nascita:  69%|██████▊   | 323/470 [01:31<01:02,  2.34it/s]"
     ]
    },
    {
     "name": "stdout",
     "output_type": "stream",
     "text": [
      "🔍 Pseudonimo rilevato, provo con vero nome: francesca calearo\n",
      "🟨 Elaborazione: Rita Pavone\n"
     ]
    },
    {
     "name": "stderr",
     "output_type": "stream",
     "text": [
      "Estrazione data nascita:  69%|██████▉   | 324/470 [01:31<00:51,  2.83it/s]"
     ]
    },
    {
     "name": "stdout",
     "output_type": "stream",
     "text": [
      "❌ Nessuna pagina trovata per: Marinella\n",
      "🟨 Elaborazione: Anna Identici\n",
      "🔍 Pseudonimo rilevato, provo con vero nome: claudia lagona\n",
      "🔍 Pseudonimo rilevato, provo con vero nome: giuseppina pipitone\n",
      "🔍 Pseudonimo rilevato, provo con vero nome: maria ilva biolcati\n"
     ]
    },
    {
     "name": "stderr",
     "output_type": "stream",
     "text": [
      "Estrazione data nascita:  69%|██████▉   | 325/470 [01:32<01:08,  2.11it/s]"
     ]
    },
    {
     "name": "stdout",
     "output_type": "stream",
     "text": [
      "🟨 Elaborazione: Carla Bissi\n"
     ]
    },
    {
     "name": "stderr",
     "output_type": "stream",
     "text": [
      "Estrazione data nascita:  69%|██████▉   | 326/470 [01:32<01:09,  2.07it/s]"
     ]
    },
    {
     "name": "stdout",
     "output_type": "stream",
     "text": [
      "🔍 Pseudonimo rilevato, provo con vero nome: silvana areggasc savorelli\n",
      "❌ Nessuna pagina trovata per: Mara\n",
      "🟨 Elaborazione: Marisa Sacchetto\n"
     ]
    },
    {
     "name": "stderr",
     "output_type": "stream",
     "text": [
      "Estrazione data nascita:  70%|██████▉   | 327/470 [01:33<01:03,  2.27it/s]"
     ]
    },
    {
     "name": "stdout",
     "output_type": "stream",
     "text": [
      "🟨 Elaborazione: Delia\n",
      "🟨 Elaborazione: Julie\n"
     ]
    },
    {
     "name": "stderr",
     "output_type": "stream",
     "text": [
      "Estrazione data nascita:  70%|███████   | 329/470 [01:33<00:50,  2.80it/s]"
     ]
    },
    {
     "name": "stdout",
     "output_type": "stream",
     "text": [
      "❌ Nessuna pagina trovata per: Lolita\n",
      "🟨 Elaborazione: Gilda Giuliani\n"
     ]
    },
    {
     "name": "stderr",
     "output_type": "stream",
     "text": [
      "Estrazione data nascita:  70%|███████   | 330/470 [01:34<00:50,  2.75it/s]"
     ]
    },
    {
     "name": "stdout",
     "output_type": "stream",
     "text": [
      "🟨 Elaborazione: Carmen Amato\n"
     ]
    },
    {
     "name": "stderr",
     "output_type": "stream",
     "text": [
      "Estrazione data nascita:  71%|███████   | 332/470 [01:34<00:47,  2.91it/s]"
     ]
    },
    {
     "name": "stdout",
     "output_type": "stream",
     "text": [
      "🟨 Elaborazione: Iva Zanicchi🔍 Pseudonimo rilevato, provo con vero nome: carla bissi\n",
      "\n",
      "🟨 Elaborazione: Orietta Berti\n"
     ]
    },
    {
     "name": "stderr",
     "output_type": "stream",
     "text": [
      "Estrazione data nascita:  71%|███████   | 333/470 [01:34<00:41,  3.34it/s]"
     ]
    },
    {
     "name": "stdout",
     "output_type": "stream",
     "text": [
      "🟨 Elaborazione: Anna Melato\n",
      "⚠️ Nessuna data trovata per: Milva\n",
      "🟨 Elaborazione: Emanuela Cortesi\n"
     ]
    },
    {
     "name": "stderr",
     "output_type": "stream",
     "text": [
      "Estrazione data nascita:  72%|███████▏  | 337/470 [01:35<00:29,  4.56it/s]"
     ]
    },
    {
     "name": "stdout",
     "output_type": "stream",
     "text": [
      "🟨 Elaborazione: Valentina Greco\n",
      "⚠️ Nessuna data trovata per: Lara Saint Paul\n",
      "🟨 Elaborazione: Rosanna Fratello\n",
      "🟨 Elaborazione: Donatella Rettore\n"
     ]
    },
    {
     "name": "stderr",
     "output_type": "stream",
     "text": [
      "Estrazione data nascita:  72%|███████▏  | 339/470 [01:36<00:36,  3.61it/s]"
     ]
    },
    {
     "name": "stdout",
     "output_type": "stream",
     "text": [
      "🟨 Elaborazione: Paola Musiani\n",
      "🔍 Pseudonimo rilevato, provo con vero nome: orietta galimberti\n",
      "🟨 Elaborazione: Antonella Bottazzi\n",
      "🔍 Pseudonimo rilevato, provo con vero nome: adele regina gualtiero\n",
      "🟨 Elaborazione: Rossella\n"
     ]
    },
    {
     "name": "stderr",
     "output_type": "stream",
     "text": [
      "Estrazione data nascita:  72%|███████▏  | 340/470 [01:36<00:37,  3.45it/s]"
     ]
    },
    {
     "name": "stdout",
     "output_type": "stream",
     "text": [
      "💾 Salvataggio temporaneo completato (340/470)\n"
     ]
    },
    {
     "name": "stderr",
     "output_type": "stream",
     "text": [
      "Estrazione data nascita:  73%|███████▎  | 341/470 [01:37<00:38,  3.32it/s]"
     ]
    },
    {
     "name": "stdout",
     "output_type": "stream",
     "text": [
      "🔍 Pseudonimo rilevato, provo con vero nome: rosa gibertini\n",
      "🟨 Elaborazione: Sonia Gigliola Conti\n",
      "🟨 Elaborazione: Angela Luce\n",
      "🔍 Pseudonimo rilevato, provo con vero nome: xto\n"
     ]
    },
    {
     "name": "stderr",
     "output_type": "stream",
     "text": [
      "Estrazione data nascita:  73%|███████▎  | 343/470 [01:37<00:39,  3.22it/s]"
     ]
    },
    {
     "name": "stdout",
     "output_type": "stream",
     "text": [
      "❌ Nessuna pagina trovata per: Julie\n",
      "🟨 Elaborazione: Emy Cesaroni\n"
     ]
    },
    {
     "name": "stderr",
     "output_type": "stream",
     "text": [
      "Estrazione data nascita:  73%|███████▎  | 344/470 [01:38<00:40,  3.07it/s]"
     ]
    },
    {
     "name": "stdout",
     "output_type": "stream",
     "text": [
      "⚠️ Nessuna data trovata per: Paola Musiani\n",
      "🟨 Elaborazione: Helena Hellwig\n",
      "⚠️ Nessuna data trovata per: Antonella Bottazzi\n",
      "🟨 Elaborazione: Eva 2000\n"
     ]
    },
    {
     "name": "stderr",
     "output_type": "stream",
     "text": [
      "Estrazione data nascita:  74%|███████▎  | 346/470 [01:38<00:40,  3.08it/s]"
     ]
    },
    {
     "name": "stdout",
     "output_type": "stream",
     "text": [
      "🟨 Elaborazione: Annagloria\n",
      "🔍 Pseudonimo rilevato, provo con vero nome: angela savino\n"
     ]
    },
    {
     "name": "stderr",
     "output_type": "stream",
     "text": [
      "Estrazione data nascita:  74%|███████▍  | 347/470 [01:39<00:41,  2.98it/s]"
     ]
    },
    {
     "name": "stdout",
     "output_type": "stream",
     "text": [
      "🟨 Elaborazione: Giovanna D'Angi\n",
      "🔍 Pseudonimo rilevato, provo con vero nome: emi cesaroni\n",
      "🔍 Pseudonimo rilevato, provo con vero nome: rossella valenti e con il solo prenome rossella\n"
     ]
    },
    {
     "name": "stderr",
     "output_type": "stream",
     "text": [
      "Estrazione data nascita:  74%|███████▍  | 348/470 [01:39<00:38,  3.18it/s]"
     ]
    },
    {
     "name": "stdout",
     "output_type": "stream",
     "text": [
      "🟨 Elaborazione: Leila Selli\n"
     ]
    },
    {
     "name": "stderr",
     "output_type": "stream",
     "text": [
      "Estrazione data nascita:  74%|███████▍  | 349/470 [01:39<00:36,  3.34it/s]"
     ]
    },
    {
     "name": "stdout",
     "output_type": "stream",
     "text": [
      "🟨 Elaborazione: Nannarella\n"
     ]
    },
    {
     "name": "stderr",
     "output_type": "stream",
     "text": [
      "Estrazione data nascita:  74%|███████▍  | 350/470 [01:40<00:55,  2.15it/s]"
     ]
    },
    {
     "name": "stdout",
     "output_type": "stream",
     "text": [
      "🔍 Pseudonimo rilevato, provo con vero nome: anna gloria nieri\n",
      "🟨 Elaborazione: Gloriana\n"
     ]
    },
    {
     "name": "stderr",
     "output_type": "stream",
     "text": [
      "Estrazione data nascita:  75%|███████▍  | 352/470 [01:41<00:39,  2.98it/s]"
     ]
    },
    {
     "name": "stdout",
     "output_type": "stream",
     "text": [
      "❌ Nessuna pagina trovata per: Helena Hellwig\n",
      "🟨 Elaborazione: Romina Power\n",
      "❌ Nessuna pagina trovata per: Eva 2000\n",
      "🟨 Elaborazione: Maggie Mae\n",
      "🔍 Pseudonimo rilevato, provo con vero nome: lella spadaro\n"
     ]
    },
    {
     "name": "stderr",
     "output_type": "stream",
     "text": [
      "Estrazione data nascita:  75%|███████▌  | 353/470 [01:41<00:41,  2.79it/s]"
     ]
    },
    {
     "name": "stdout",
     "output_type": "stream",
     "text": [
      "🟨 Elaborazione: Gilda\n"
     ]
    },
    {
     "name": "stderr",
     "output_type": "stream",
     "text": [
      "Estrazione data nascita:  76%|███████▌  | 357/470 [01:42<00:22,  4.96it/s]"
     ]
    },
    {
     "name": "stdout",
     "output_type": "stream",
     "text": [
      "❌ Nessuna pagina trovata per: Giovanna D'Angi\n",
      "🟨 Elaborazione: Anna Oxa\n",
      "🟨 Elaborazione: Laura Luca\n",
      "🟨 Elaborazione: Dora Moroni\n",
      "🟨 Elaborazione: Lorella Pescerelli\n"
     ]
    },
    {
     "name": "stderr",
     "output_type": "stream",
     "text": [
      "Estrazione data nascita:  76%|███████▌  | 358/470 [01:42<00:29,  3.80it/s]"
     ]
    },
    {
     "name": "stdout",
     "output_type": "stream",
     "text": [
      "🟨 Elaborazione: Nicoletta Bauce\n",
      "🔍 Pseudonimo rilevato, provo con vero nome: andrea cosima carle\n"
     ]
    },
    {
     "name": "stderr",
     "output_type": "stream",
     "text": [
      "Estrazione data nascita:  76%|███████▋  | 359/470 [01:43<00:36,  3.06it/s]"
     ]
    },
    {
     "name": "stdout",
     "output_type": "stream",
     "text": [
      "🟨 Elaborazione: Gabriella Sanna\n",
      "🔍 Pseudonimo rilevato, provo con vero nome: giovanna russo\n",
      "⚠️ Nessuna data trovata per: Leila Selli\n",
      "🟨 Elaborazione: Sally Oldfield\n",
      "🟨 Elaborazione: Linda Lee\n",
      "🟨 Elaborazione: Loretta Goggi\n",
      "🟨 Elaborazione: Fiorella Mannoia\n",
      "🟨 Elaborazione: Jò Chiarello\n"
     ]
    },
    {
     "name": "stderr",
     "output_type": "stream",
     "text": [
      "Estrazione data nascita:  77%|███████▋  | 360/470 [01:44<00:53,  2.05it/s]"
     ]
    },
    {
     "name": "stdout",
     "output_type": "stream",
     "text": [
      "💾 Salvataggio temporaneo completato (360/470)\n"
     ]
    },
    {
     "name": "stderr",
     "output_type": "stream",
     "text": [
      "Estrazione data nascita:  78%|███████▊  | 365/470 [01:44<00:22,  4.65it/s]"
     ]
    },
    {
     "name": "stdout",
     "output_type": "stream",
     "text": [
      "🟨 Elaborazione: Lene Lovich\n",
      "🔍 Pseudonimo rilevato, provo con vero nome: rosangela scalabrino\n"
     ]
    },
    {
     "name": "stderr",
     "output_type": "stream",
     "text": [
      "Estrazione data nascita:  78%|███████▊  | 366/470 [01:45<00:35,  2.89it/s]"
     ]
    },
    {
     "name": "stdout",
     "output_type": "stream",
     "text": [
      "🔍 Pseudonimo rilevato, provo con vero nome: rossana marialinda barbieri\n",
      "🟨 Elaborazione: Elisabetta Viviani\n"
     ]
    },
    {
     "name": "stderr",
     "output_type": "stream",
     "text": [
      "Estrazione data nascita:  78%|███████▊  | 367/470 [01:45<00:31,  3.23it/s]"
     ]
    },
    {
     "name": "stdout",
     "output_type": "stream",
     "text": [
      "🟨 Elaborazione: Mia Martini\n",
      "⚠️ Nessuna data trovata per: Maggie Mae\n",
      "🟨 Elaborazione: Viola Valentino\n",
      "🟨 Elaborazione: Marina Lai\n"
     ]
    },
    {
     "name": "stderr",
     "output_type": "stream",
     "text": [
      "Estrazione data nascita:  79%|███████▊  | 370/470 [01:45<00:23,  4.33it/s]"
     ]
    },
    {
     "name": "stdout",
     "output_type": "stream",
     "text": [
      "❌ Nessuna pagina trovata per: Gabriella Sanna\n",
      "🟨 Elaborazione: Fiordaliso\n",
      "🟨 Elaborazione: Tiziana Rivale\n",
      "🔍 Pseudonimo rilevato, provo con vero nome: maria concetta chiarello\n"
     ]
    },
    {
     "name": "stderr",
     "output_type": "stream",
     "text": [
      "Estrazione data nascita:  79%|███████▉  | 372/470 [01:46<00:19,  4.99it/s]"
     ]
    },
    {
     "name": "stdout",
     "output_type": "stream",
     "text": [
      "🟨 Elaborazione: Donatella Milani\n"
     ]
    },
    {
     "name": "stderr",
     "output_type": "stream",
     "text": [
      "Estrazione data nascita:  80%|███████▉  | 374/470 [01:47<00:28,  3.36it/s]"
     ]
    },
    {
     "name": "stdout",
     "output_type": "stream",
     "text": [
      "🟨 Elaborazione: Dori Ghezzi\n",
      "🟨 Elaborazione: Amii Stewart\n",
      "🔍 Pseudonimo rilevato, provo con vero nome: virginia maria minnetti\n",
      "🔍 Pseudonimo rilevato, provo con vero nome: domenica rita adriana bertè\n",
      "🔍 Pseudonimo rilevato, provo con vero nome: letizia oliva\n",
      "🔍 Pseudonimo rilevato, provo con vero nome: emanuela gubinelli\n"
     ]
    },
    {
     "name": "stderr",
     "output_type": "stream",
     "text": [
      "Estrazione data nascita:  80%|███████▉  | 375/470 [01:47<00:34,  2.77it/s]"
     ]
    },
    {
     "name": "stdout",
     "output_type": "stream",
     "text": [
      "🟨 Elaborazione: Flavia Fortunato\n",
      "🟨 Elaborazione: Barbara Boncompagni\n"
     ]
    },
    {
     "name": "stderr",
     "output_type": "stream",
     "text": [
      "Estrazione data nascita:  81%|████████  | 379/470 [01:48<00:25,  3.59it/s]"
     ]
    },
    {
     "name": "stdout",
     "output_type": "stream",
     "text": [
      "🟨 Elaborazione: Daniela Goggi\n",
      "🟨 Elaborazione: Brunella Borciani\n",
      "🔍 Pseudonimo rilevato, provo con vero nome: marina fiordaliso\n",
      "🟨 Elaborazione: Patty Pravo\n",
      "🟨 Elaborazione: Marisa Sannia\n",
      "🟨 Elaborazione: Loredana Bertè\n"
     ]
    },
    {
     "name": "stderr",
     "output_type": "stream",
     "text": [
      "Estrazione data nascita:  81%|████████  | 380/470 [01:49<00:37,  2.41it/s]"
     ]
    },
    {
     "name": "stdout",
     "output_type": "stream",
     "text": [
      "💾 Salvataggio temporaneo completato (380/470)\n",
      "⚠️ Nessuna data trovata per: Viola Valentino\n",
      "🟨 Elaborazione: Rossana Casale\n"
     ]
    },
    {
     "name": "stderr",
     "output_type": "stream",
     "text": [
      "Estrazione data nascita:  82%|████████▏ | 384/470 [01:50<00:20,  4.17it/s]"
     ]
    },
    {
     "name": "stdout",
     "output_type": "stream",
     "text": [
      "🟨 Elaborazione: Lena Biolcati\n",
      "🟨 Elaborazione: Ornella Vanoni\n",
      "🔍 Pseudonimo rilevato, provo con vero nome: daniela modigliani\n"
     ]
    },
    {
     "name": "stderr",
     "output_type": "stream",
     "text": [
      "Estrazione data nascita:  82%|████████▏ | 386/470 [01:50<00:16,  5.15it/s]"
     ]
    },
    {
     "name": "stdout",
     "output_type": "stream",
     "text": [
      "🟨 Elaborazione: Marisa Laurito\n",
      "⚠️ Nomi multipli rilevati, salto: Marcella e Gianni Bella\n",
      "🟨 Elaborazione: Caterina Caselli\n",
      "🔍 Pseudonimo rilevato, provo con vero nome: nicoletta strambelli\n"
     ]
    },
    {
     "name": "stderr",
     "output_type": "stream",
     "text": [
      "Estrazione data nascita:  83%|████████▎ | 388/470 [01:51<00:19,  4.24it/s]"
     ]
    },
    {
     "name": "stdout",
     "output_type": "stream",
     "text": [
      "🟨 Elaborazione: Paola Turci\n"
     ]
    },
    {
     "name": "stderr",
     "output_type": "stream",
     "text": [
      "Estrazione data nascita:  83%|████████▎ | 389/470 [01:51<00:22,  3.57it/s]"
     ]
    },
    {
     "name": "stdout",
     "output_type": "stream",
     "text": [
      "🔍 Pseudonimo rilevato, provo con vero nome: renato zero\n",
      "🟨 Elaborazione: Grazia Di Michele\n",
      "🟨 Elaborazione: Mietta\n"
     ]
    },
    {
     "name": "stderr",
     "output_type": "stream",
     "text": [
      "Estrazione data nascita:  83%|████████▎ | 391/470 [01:51<00:16,  4.79it/s]"
     ]
    },
    {
     "name": "stdout",
     "output_type": "stream",
     "text": [
      "🟨 Elaborazione: Daniela\n"
     ]
    },
    {
     "name": "stderr",
     "output_type": "stream",
     "text": [
      "Estrazione data nascita:  84%|████████▍ | 394/470 [01:52<00:12,  5.88it/s]"
     ]
    },
    {
     "name": "stdout",
     "output_type": "stream",
     "text": [
      "🟨 Elaborazione: Mariella Nava\n",
      "🟨 Elaborazione: Lina Sastri\n",
      "🟨 Elaborazione: Francesca Alotta\n"
     ]
    },
    {
     "name": "stderr",
     "output_type": "stream",
     "text": [
      "Estrazione data nascita:  84%|████████▍ | 395/470 [01:52<00:19,  3.79it/s]"
     ]
    },
    {
     "name": "stdout",
     "output_type": "stream",
     "text": [
      "🟨 Elaborazione: Jo Squillo\n",
      "🟨 Elaborazione: Laura Pausini\n"
     ]
    },
    {
     "name": "stderr",
     "output_type": "stream",
     "text": [
      "Estrazione data nascita:  84%|████████▍ | 397/470 [01:53<00:19,  3.77it/s]"
     ]
    },
    {
     "name": "stdout",
     "output_type": "stream",
     "text": [
      "🔍 Pseudonimo rilevato, provo con vero nome: daniela miglietta\n",
      "⚠️ Nessuna data trovata per: Daniela\n",
      "🟨 Elaborazione: Gerardina Trovato\n",
      "🟨 Elaborazione: Claudia Mori\n"
     ]
    },
    {
     "name": "stderr",
     "output_type": "stream",
     "text": [
      "Estrazione data nascita:  85%|████████▍ | 399/470 [01:53<00:14,  4.90it/s]"
     ]
    },
    {
     "name": "stdout",
     "output_type": "stream",
     "text": [
      "🟨 Elaborazione: Giorgia\n",
      "🟨 Elaborazione: Ivana Spagna\n"
     ]
    },
    {
     "name": "stderr",
     "output_type": "stream",
     "text": [
      "Estrazione data nascita:  85%|████████▌ | 400/470 [01:54<00:18,  3.89it/s]"
     ]
    },
    {
     "name": "stdout",
     "output_type": "stream",
     "text": [
      "🟨 Elaborazione: Lighea\n",
      "⚠️ Nessuna data trovata per: Francesca Alotta\n",
      "🟨 Elaborazione: Antonella Arancio\n",
      "💾 Salvataggio temporaneo completato (400/470)\n"
     ]
    },
    {
     "name": "stderr",
     "output_type": "stream",
     "text": [
      "Estrazione data nascita:  86%|████████▌ | 403/470 [01:54<00:11,  5.91it/s]"
     ]
    },
    {
     "name": "stdout",
     "output_type": "stream",
     "text": [
      "🟨 Elaborazione: Lorella Cuccarini\n"
     ]
    },
    {
     "name": "stderr",
     "output_type": "stream",
     "text": [
      "Estrazione data nascita:  86%|████████▌ | 404/470 [01:54<00:15,  4.33it/s]"
     ]
    },
    {
     "name": "stdout",
     "output_type": "stream",
     "text": [
      "🔍 Pseudonimo rilevato, provo con vero nome: giovanna maria coletti\n",
      "🟨 Elaborazione: Francesca Schiavo\n"
     ]
    },
    {
     "name": "stderr",
     "output_type": "stream",
     "text": [
      "Estrazione data nascita:  86%|████████▌ | 405/470 [01:55<00:16,  4.02it/s]"
     ]
    },
    {
     "name": "stdout",
     "output_type": "stream",
     "text": [
      "🔍 Pseudonimo rilevato, provo con vero nome: claudia moroni\n",
      "🟨 Elaborazione: Valeria Visconti\n",
      "🔍 Pseudonimo rilevato, provo con vero nome: tania montelpare\n",
      "🔍 Pseudonimo rilevato, provo con vero nome: ursula arancio\n",
      "🔍 Pseudonimo rilevato, provo con vero nome: yvonne kay\n"
     ]
    },
    {
     "name": "stderr",
     "output_type": "stream",
     "text": [
      "Estrazione data nascita:  86%|████████▋ | 406/470 [01:56<00:25,  2.51it/s]"
     ]
    },
    {
     "name": "stdout",
     "output_type": "stream",
     "text": [
      "🟨 Elaborazione: Rossella Marcone\n",
      "🔍 Pseudonimo rilevato, provo con vero nome: silvio testi\n"
     ]
    },
    {
     "name": "stderr",
     "output_type": "stream",
     "text": [
      "Estrazione data nascita:  87%|████████▋ | 407/470 [01:56<00:24,  2.59it/s]"
     ]
    },
    {
     "name": "stdout",
     "output_type": "stream",
     "text": [
      "🟨 Elaborazione: Raffaella Cavalli\n"
     ]
    },
    {
     "name": "stderr",
     "output_type": "stream",
     "text": [
      "Estrazione data nascita:  87%|████████▋ | 408/470 [01:56<00:26,  2.34it/s]"
     ]
    },
    {
     "name": "stdout",
     "output_type": "stream",
     "text": [
      "🟨 Elaborazione: Syria\n"
     ]
    },
    {
     "name": "stderr",
     "output_type": "stream",
     "text": [
      "Estrazione data nascita:  87%|████████▋ | 409/470 [01:57<00:27,  2.26it/s]"
     ]
    },
    {
     "name": "stdout",
     "output_type": "stream",
     "text": [
      "🟨 Elaborazione: Silvia Salemi\n",
      "🔍 Pseudonimo rilevato, provo con vero nome: ross\n"
     ]
    },
    {
     "name": "stderr",
     "output_type": "stream",
     "text": [
      "Estrazione data nascita:  87%|████████▋ | 410/470 [01:57<00:27,  2.16it/s]"
     ]
    },
    {
     "name": "stdout",
     "output_type": "stream",
     "text": [
      "🟨 Elaborazione: Marina Rei\n"
     ]
    },
    {
     "name": "stderr",
     "output_type": "stream",
     "text": [
      "Estrazione data nascita:  88%|████████▊ | 413/470 [01:58<00:14,  4.03it/s]"
     ]
    },
    {
     "name": "stdout",
     "output_type": "stream",
     "text": [
      "🟨 Elaborazione: Carmen Consoli\n",
      "🟨 Elaborazione: Olivia\n",
      "❌ Nessuna pagina trovata per: Giorgia\n",
      "🟨 Elaborazione: Adriana Ruocco\n",
      "🟨 Elaborazione: Petra Magoni\n"
     ]
    },
    {
     "name": "stderr",
     "output_type": "stream",
     "text": [
      "Estrazione data nascita:  88%|████████▊ | 415/470 [01:58<00:09,  5.70it/s]"
     ]
    },
    {
     "name": "stdout",
     "output_type": "stream",
     "text": [
      "🟨 Elaborazione: Annalisa Minetti\n",
      "🔍 Pseudonimo rilevato, provo con vero nome: cecilia syria cipressi\n"
     ]
    },
    {
     "name": "stderr",
     "output_type": "stream",
     "text": [
      "Estrazione data nascita:  89%|████████▊ | 417/470 [01:59<00:11,  4.63it/s]"
     ]
    },
    {
     "name": "stdout",
     "output_type": "stream",
     "text": [
      "🟨 Elaborazione: Antonella Ruggiero\n",
      "🟨 Elaborazione: Lisa\n",
      "🔍 Pseudonimo rilevato, provo con vero nome: marina restuccia\n"
     ]
    },
    {
     "name": "stderr",
     "output_type": "stream",
     "text": [
      "Estrazione data nascita:  89%|████████▉ | 418/470 [01:59<00:20,  2.57it/s]"
     ]
    },
    {
     "name": "stdout",
     "output_type": "stream",
     "text": [
      "🟨 Elaborazione: Irene Grandi\n",
      "🟨 Elaborazione: Elisa\n",
      "🟨 Elaborazione: Jenny B\n"
     ]
    },
    {
     "name": "stderr",
     "output_type": "stream",
     "text": [
      "Estrazione data nascita:  89%|████████▉ | 420/470 [02:00<00:16,  3.06it/s]"
     ]
    },
    {
     "name": "stdout",
     "output_type": "stream",
     "text": [
      "🟨 Elaborazione: Alexia\n",
      "💾 Salvataggio temporaneo completato (420/470)\n"
     ]
    },
    {
     "name": "stderr",
     "output_type": "stream",
     "text": [
      "Estrazione data nascita:  90%|████████▉ | 422/470 [02:00<00:12,  3.86it/s]"
     ]
    },
    {
     "name": "stdout",
     "output_type": "stream",
     "text": [
      "🟨 Elaborazione: Filippa Giordano\n"
     ]
    },
    {
     "name": "stderr",
     "output_type": "stream",
     "text": [
      "Estrazione data nascita:  90%|█████████ | 423/470 [02:01<00:14,  3.14it/s]"
     ]
    },
    {
     "name": "stdout",
     "output_type": "stream",
     "text": [
      "🟨 Elaborazione: Giuni Russo\n",
      "🟨 Elaborazione: Linda\n",
      "🔍 Pseudonimo rilevato, provo con vero nome: giovanna bersola\n",
      "🔍 Pseudonimo rilevato, provo con vero nome: alessia aquilani\n"
     ]
    },
    {
     "name": "stderr",
     "output_type": "stream",
     "text": [
      "Estrazione data nascita:  90%|█████████ | 425/470 [02:02<00:18,  2.40it/s]"
     ]
    },
    {
     "name": "stdout",
     "output_type": "stream",
     "text": [
      "🔍 Pseudonimo rilevato, provo con vero nome: lisa kant già sua corista\n",
      "🟨 Elaborazione: Veruska\n",
      "🟨 Elaborazione: Laura Bono\n",
      "🔍 Pseudonimo rilevato, provo con vero nome: giuseppa romeo\n"
     ]
    },
    {
     "name": "stderr",
     "output_type": "stream",
     "text": [
      "Estrazione data nascita:  91%|█████████ | 427/470 [02:03<00:20,  2.14it/s]"
     ]
    },
    {
     "name": "stdout",
     "output_type": "stream",
     "text": [
      "❌ Nessuna pagina trovata per: Olivia\n",
      "🟨 Elaborazione: Chiara\n"
     ]
    },
    {
     "name": "stderr",
     "output_type": "stream",
     "text": [
      "Estrazione data nascita:  91%|█████████ | 428/470 [02:04<00:20,  2.08it/s]"
     ]
    },
    {
     "name": "stdout",
     "output_type": "stream",
     "text": [
      "🔍 Pseudonimo rilevato, provo con vero nome: laura bonometti\n",
      "🔍 Pseudonimo rilevato, provo con vero nome: lalisa manobal\n",
      "🟨 Elaborazione: Anna Tatangelo\n"
     ]
    },
    {
     "name": "stderr",
     "output_type": "stream",
     "text": [
      "Estrazione data nascita:  91%|█████████▏| 429/470 [02:04<00:17,  2.41it/s]"
     ]
    },
    {
     "name": "stdout",
     "output_type": "stream",
     "text": [
      "🟨 Elaborazione: Camilla\n"
     ]
    },
    {
     "name": "stderr",
     "output_type": "stream",
     "text": [
      "Estrazione data nascita:  91%|█████████▏| 430/470 [02:04<00:16,  2.43it/s]"
     ]
    },
    {
     "name": "stdout",
     "output_type": "stream",
     "text": [
      "🟨 Elaborazione: Dolcenera\n",
      "❌ Nessuna pagina trovata per: Elisa\n",
      "🟨 Elaborazione: Simona Bencini\n"
     ]
    },
    {
     "name": "stderr",
     "output_type": "stream",
     "text": [
      "Estrazione data nascita:  92%|█████████▏| 432/470 [02:04<00:11,  3.44it/s]"
     ]
    },
    {
     "name": "stdout",
     "output_type": "stream",
     "text": [
      "🟨 Elaborazione: Nicky Nicolai\n"
     ]
    },
    {
     "name": "stderr",
     "output_type": "stream",
     "text": [
      "Estrazione data nascita:  92%|█████████▏| 433/470 [02:05<00:11,  3.25it/s]"
     ]
    },
    {
     "name": "stdout",
     "output_type": "stream",
     "text": [
      "⚠️ Nessuna data trovata per: Chiara\n",
      "🟨 Elaborazione: L'Aura\n"
     ]
    },
    {
     "name": "stderr",
     "output_type": "stream",
     "text": [
      "Estrazione data nascita:  93%|█████████▎| 435/470 [02:05<00:10,  3.23it/s]"
     ]
    },
    {
     "name": "stdout",
     "output_type": "stream",
     "text": [
      "⚠️ Nessuna data trovata per: Giuni Russo\n",
      "🟨 Elaborazione: Amalia Gré\n",
      "❌ Nessuna pagina trovata per: Linda\n",
      "🟨 Elaborazione: Leda Battisti\n",
      "⚠️ Nessuna data trovata per: Camilla🟨 Elaborazione: Ariete\n",
      "\n",
      "🟨 Elaborazione: Noemi\n"
     ]
    },
    {
     "name": "stderr",
     "output_type": "stream",
     "text": [
      "Estrazione data nascita:  93%|█████████▎| 438/470 [02:06<00:07,  4.18it/s]"
     ]
    },
    {
     "name": "stdout",
     "output_type": "stream",
     "text": [
      "🟨 Elaborazione: Malika Ayane\n",
      "🔍 Pseudonimo rilevato, provo con vero nome: emanuela trane\n",
      "🟨 Elaborazione: Arisa\n",
      "🟨 Elaborazione: Antonella Bellan\n",
      "🟨 Elaborazione: Giusy Ferreri\n",
      "🔍 Pseudonimo rilevato, provo con vero nome: laura abela\n"
     ]
    },
    {
     "name": "stderr",
     "output_type": "stream",
     "text": [
      "Estrazione data nascita:  94%|█████████▎| 440/470 [02:07<00:10,  2.89it/s]"
     ]
    },
    {
     "name": "stdout",
     "output_type": "stream",
     "text": [
      "💾 Salvataggio temporaneo completato (440/470)\n",
      "🔍 Pseudonimo rilevato, provo con vero nome: amalia grezio\n"
     ]
    },
    {
     "name": "stderr",
     "output_type": "stream",
     "text": [
      "Estrazione data nascita:  94%|█████████▍| 442/470 [02:07<00:07,  3.58it/s]"
     ]
    },
    {
     "name": "stdout",
     "output_type": "stream",
     "text": [
      "🟨 Elaborazione: Emma\n"
     ]
    },
    {
     "name": "stderr",
     "output_type": "stream",
     "text": [
      "Estrazione data nascita:  94%|█████████▍| 443/470 [02:08<00:08,  3.11it/s]"
     ]
    },
    {
     "name": "stdout",
     "output_type": "stream",
     "text": [
      "🟨 Elaborazione: Nina Zilli\n",
      "🔍 Pseudonimo rilevato, provo con vero nome: rosalba pippa\n",
      "🟨 Elaborazione: Chiara Civello\n"
     ]
    },
    {
     "name": "stderr",
     "output_type": "stream",
     "text": [
      "Estrazione data nascita:  94%|█████████▍| 444/470 [02:08<00:08,  3.07it/s]"
     ]
    },
    {
     "name": "stdout",
     "output_type": "stream",
     "text": [
      "🔍 Pseudonimo rilevato, provo con vero nome: veronica scopelliti\n",
      "🔍 Pseudonimo rilevato, provo con vero nome: arianna del giaccio\n"
     ]
    },
    {
     "name": "stderr",
     "output_type": "stream",
     "text": [
      "Estrazione data nascita:  95%|█████████▌| 447/470 [02:09<00:07,  3.08it/s]"
     ]
    },
    {
     "name": "stdout",
     "output_type": "stream",
     "text": [
      "🟨 Elaborazione: Irene Fornaciari\n",
      "❌ Nessuna pagina trovata per: Antonella Bellan\n",
      "🟨 Elaborazione: Annalisa\n",
      "⚠️ Nessuna data trovata per: Emma\n",
      "🟨 Elaborazione: Maria Nazionale\n",
      "🔍 Pseudonimo rilevato, provo con vero nome: maria chiara fraschetta\n"
     ]
    },
    {
     "name": "stderr",
     "output_type": "stream",
     "text": [
      "Estrazione data nascita:  96%|█████████▌| 449/470 [02:10<00:06,  3.29it/s]"
     ]
    },
    {
     "name": "stdout",
     "output_type": "stream",
     "text": [
      "🟨 Elaborazione: Bianca Atzei\n",
      "🟨 Elaborazione: Angelica\n",
      "🟨 Elaborazione: Lara Fabian\n"
     ]
    },
    {
     "name": "stderr",
     "output_type": "stream",
     "text": [
      "Estrazione data nascita:  96%|█████████▌| 452/470 [02:11<00:05,  3.53it/s]"
     ]
    },
    {
     "name": "stdout",
     "output_type": "stream",
     "text": [
      "🟨 Elaborazione: Francesca Michielin\n",
      "⚠️ Nessuna data trovata per: Annalisa\n",
      "🟨 Elaborazione: Elodie\n",
      "🟨 Elaborazione: Lodovica Comello\n"
     ]
    },
    {
     "name": "stderr",
     "output_type": "stream",
     "text": [
      "Estrazione data nascita:  97%|█████████▋| 454/470 [02:11<00:03,  5.16it/s]"
     ]
    },
    {
     "name": "stdout",
     "output_type": "stream",
     "text": [
      "🟨 Elaborazione: Alice\n"
     ]
    },
    {
     "name": "stderr",
     "output_type": "stream",
     "text": [
      "Estrazione data nascita:  97%|█████████▋| 455/470 [02:12<00:04,  3.63it/s]"
     ]
    },
    {
     "name": "stdout",
     "output_type": "stream",
     "text": [
      "🔍 Pseudonimo rilevato, provo con vero nome: veronica atzei\n",
      "🟨 Elaborazione: Giordana Angi\n",
      "🟨 Elaborazione: Elettra Lamborghini\n",
      "🔍 Pseudonimo rilevato, provo con vero nome: lara sophie katy crokaert\n"
     ]
    },
    {
     "name": "stderr",
     "output_type": "stream",
     "text": [
      "Estrazione data nascita:  97%|█████████▋| 457/470 [02:12<00:03,  3.61it/s]"
     ]
    },
    {
     "name": "stdout",
     "output_type": "stream",
     "text": [
      "🟨 Elaborazione: Gaia\n"
     ]
    },
    {
     "name": "stderr",
     "output_type": "stream",
     "text": [
      "Estrazione data nascita:  97%|█████████▋| 458/470 [02:12<00:03,  3.62it/s]"
     ]
    },
    {
     "name": "stdout",
     "output_type": "stream",
     "text": [
      "🟨 Elaborazione: Ana Mena\n",
      "🟨 Elaborazione: Mara Sattei\n",
      "🔍 Pseudonimo rilevato, provo con vero nome: elodie di patrizi\n",
      "🟨 Elaborazione: Shari\n"
     ]
    },
    {
     "name": "stderr",
     "output_type": "stream",
     "text": [
      "Estrazione data nascita:  98%|█████████▊| 460/470 [02:13<00:03,  2.99it/s]"
     ]
    },
    {
     "name": "stdout",
     "output_type": "stream",
     "text": [
      "💾 Salvataggio temporaneo completato (460/470)\n"
     ]
    },
    {
     "name": "stderr",
     "output_type": "stream",
     "text": [
      "Estrazione data nascita:  99%|█████████▊| 463/470 [02:14<00:02,  3.02it/s]"
     ]
    },
    {
     "name": "stdout",
     "output_type": "stream",
     "text": [
      "🔍 Pseudonimo rilevato, provo con vero nome: carla bissi\n",
      "🔍 Pseudonimo rilevato, provo con vero nome: sara mattei\n",
      "🔍 Pseudonimo rilevato, provo con vero nome: gaia gozzi\n"
     ]
    },
    {
     "name": "stderr",
     "output_type": "stream",
     "text": [
      "Estrazione data nascita: 100%|██████████| 470/470 [02:18<00:00,  3.39it/s]"
     ]
    },
    {
     "name": "stdout",
     "output_type": "stream",
     "text": [
      "💾 Salvataggio temporaneo completato (470/470)\n"
     ]
    },
    {
     "name": "stderr",
     "output_type": "stream",
     "text": [
      "\n"
     ]
    },
    {
     "name": "stdout",
     "output_type": "stream",
     "text": [
      "\n",
      "✅ File finale salvato con successo: Artisti_con_data_nascita_ottimizzata.xlsx\n"
     ]
    }
   ],
   "source": [
    "import pandas as pd\n",
    "import wikipedia\n",
    "import re\n",
    "import concurrent.futures\n",
    "from tqdm import tqdm\n",
    "import socket\n",
    "import time\n",
    "import os\n",
    "\n",
    "# Timeout globale per tutte le richieste socket (Wikipedia compresa)\n",
    "socket.setdefaulttimeout(10)\n",
    "\n",
    "# Impostazioni iniziali\n",
    "wikipedia.set_lang(\"it\")\n",
    "wikipedia.set_rate_limiting(True)\n",
    "\n",
    "file_path = \"File Unico Sanremo.xlsx\"\n",
    "output_file = \"Artisti_con_data_nascita_ottimizzata.xlsx\"\n",
    "temp_file = \"TEMP_output.xlsx\"\n",
    "cache_file = \"dob_cache.pkl\"\n",
    "\n",
    "# Carica dati\n",
    "df = pd.read_excel(file_path, sheet_name=\"Artisti Unici con genere\")\n",
    "df_individuali = df[df[\"Genere\"].isin([\"Maschio\", \"Femmina\"])].copy()\n",
    "df_gruppi = df[~df[\"Genere\"].isin([\"Maschio\", \"Femmina\"])].copy()\n",
    "df_gruppi[\"Data di nascita\"] = \"Da verificare\"\n",
    "\n",
    "# Dizionario mesi\n",
    "mesi_ita = {\n",
    "    \"gennaio\": \"01\", \"febbraio\": \"02\", \"marzo\": \"03\", \"aprile\": \"04\",\n",
    "    \"maggio\": \"05\", \"giugno\": \"06\", \"luglio\": \"07\", \"agosto\": \"08\",\n",
    "    \"settembre\": \"09\", \"ottobre\": \"10\", \"novembre\": \"11\", \"dicembre\": \"12\"\n",
    "}\n",
    "\n",
    "# Cache su file\n",
    "try:\n",
    "    dob_cache = pd.read_pickle(cache_file)\n",
    "except:\n",
    "    dob_cache = {}\n",
    "\n",
    "# Funzione per cercare pagina Wikipedia con meno varianti\n",
    "def cerca_pagina(artista):\n",
    "    varianti = [\n",
    "        artista,\n",
    "        f\"{artista} (cantante)\",\n",
    "        f\"{artista} (rapper)\",\n",
    "        f\"{artista} (musicista)\",\n",
    "        f\"{artista} cantante\"\n",
    "    ]\n",
    "    for nome in varianti:\n",
    "        try:\n",
    "            return wikipedia.page(nome, auto_suggest=False, preload=False)\n",
    "        except (wikipedia.exceptions.DisambiguationError, wikipedia.exceptions.PageError):\n",
    "            continue\n",
    "        except Exception:\n",
    "            continue\n",
    "    return None\n",
    "\n",
    "# Estrai data da testo\n",
    "def estrai_data_da_testo(testo):\n",
    "    testo = testo.lower()\n",
    "\n",
    "    match = re.search(r'\\(([^,]+),\\s*(\\d{1,2})\\s+([a-z]+)\\s+(\\d{4})\\)', testo)\n",
    "    if match:\n",
    "        giorno = match.group(2).zfill(2)\n",
    "        mese = mesi_ita.get(match.group(3))\n",
    "        anno = match.group(4)\n",
    "        if mese:\n",
    "            return f\"{giorno}/{mese}/{anno}\"\n",
    "\n",
    "    match = re.search(r'(nato|nata) il (\\d{1,2})\\s+([a-z]+)\\s+(\\d{4})', testo)\n",
    "    if match:\n",
    "        giorno = match.group(2).zfill(2)\n",
    "        mese = mesi_ita.get(match.group(3))\n",
    "        anno = match.group(4)\n",
    "        if mese:\n",
    "            return f\"{giorno}/{mese}/{anno}\"\n",
    "\n",
    "    match = re.search(r'(nato|nata) a [a-zàèéòùì\\s]+ nel (\\d{4})', testo)\n",
    "    if match:\n",
    "        anno = match.group(2)\n",
    "        return f\"01/01/{anno}\"\n",
    "\n",
    "    return None\n",
    "\n",
    "# Funzione principale\n",
    "def estrai_data_nascita(artista):\n",
    "    if artista in dob_cache:\n",
    "        return dob_cache[artista]\n",
    "\n",
    "    if any(sep in artista.lower() for sep in [\",\", \" e \", \" - \"]):\n",
    "        print(f\"⚠️ Nomi multipli rilevati, salto: {artista}\")\n",
    "        return \"Da verificare\"\n",
    "\n",
    "    print(f\"🟨 Elaborazione: {artista}\")\n",
    "    pagina = cerca_pagina(artista)\n",
    "    if pagina is None:\n",
    "        print(f\"❌ Nessuna pagina trovata per: {artista}\")\n",
    "        return \"Da verificare\"\n",
    "\n",
    "    contenuto = (pagina.summary + \" \" + pagina.content).lower()\n",
    "\n",
    "    # Pseudonimo\n",
    "    if \"pseudonimo di\" in contenuto:\n",
    "        match_nome = re.search(r\"pseudonimo di ([a-zàèéòùì'\\s]+)\", contenuto)\n",
    "        if match_nome:\n",
    "            vero_nome = match_nome.group(1).strip()\n",
    "            print(f\"🔍 Pseudonimo rilevato, provo con vero nome: {vero_nome}\")\n",
    "            pagina_vero_nome = cerca_pagina(vero_nome)\n",
    "            if pagina_vero_nome:\n",
    "                contenuto += \" \" + pagina_vero_nome.summary.lower()\n",
    "\n",
    "    data = estrai_data_da_testo(contenuto)\n",
    "    if data:\n",
    "        dob_cache[artista] = data\n",
    "        return data\n",
    "\n",
    "    print(f\"⚠️ Nessuna data trovata per: {artista}\")\n",
    "    return \"Da verificare\"\n",
    "\n",
    "# Esecuzione parallela con salvataggio intermedio\n",
    "def apply_parallel(df, func, descrizione):\n",
    "    results = []\n",
    "    processed = 0\n",
    "\n",
    "    with concurrent.futures.ThreadPoolExecutor(max_workers=10) as executor:\n",
    "        futures = {executor.submit(func, artista): artista for artista in df[\"Artista\"]}\n",
    "        for future in tqdm(concurrent.futures.as_completed(futures), total=len(futures), desc=descrizione):\n",
    "            artista = futures[future]\n",
    "            try:\n",
    "                result = future.result()\n",
    "                results.append(result)\n",
    "            except Exception as e:\n",
    "                print(f\"❌ Errore durante {descrizione} su: {artista} — {e}\")\n",
    "                results.append(\"Errore\")\n",
    "\n",
    "            processed += 1\n",
    "\n",
    "            # Salvataggio intermedio ogni 20 artisti\n",
    "            if processed % 20 == 0 or processed == len(futures):\n",
    "                df[\"Data di nascita\"] = results + [\"\"] * (len(df) - len(results))\n",
    "                df_finale_temp = pd.concat([df, df_gruppi])\n",
    "                df_finale_temp.to_excel(temp_file, index=False)\n",
    "                pd.to_pickle(dob_cache, cache_file)\n",
    "                print(f\"💾 Salvataggio temporaneo completato ({processed}/{len(futures)})\")\n",
    "\n",
    "    return results\n",
    "\n",
    "# Applica estrazione e salva file finale\n",
    "df_individuali[\"Data di nascita\"] = apply_parallel(df_individuali, estrai_data_nascita, \"Estrazione data nascita\")\n",
    "df_finale = pd.concat([df_individuali, df_gruppi]).sort_index()\n",
    "df_finale.to_excel(output_file, index=False)\n",
    "pd.to_pickle(dob_cache, cache_file)\n",
    "\n",
    "print(f\"\\n✅ File finale salvato con successo: {output_file}\")\n"
   ]
  },
  {
   "cell_type": "code",
   "execution_count": null,
   "id": "bb214c8c-9996-4fb4-85cb-f59288aa9120",
   "metadata": {},
   "outputs": [],
   "source": []
  }
 ],
 "metadata": {
  "kernelspec": {
   "display_name": "Python [conda env:base] *",
   "language": "python",
   "name": "conda-base-py"
  },
  "language_info": {
   "codemirror_mode": {
    "name": "ipython",
    "version": 3
   },
   "file_extension": ".py",
   "mimetype": "text/x-python",
   "name": "python",
   "nbconvert_exporter": "python",
   "pygments_lexer": "ipython3",
   "version": "3.12.7"
  }
 },
 "nbformat": 4,
 "nbformat_minor": 5
}

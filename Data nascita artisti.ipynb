{
 "cells": [
  {
   "cell_type": "markdown",
   "id": "6970cd7b-2770-4d06-a8bc-020aabbeaacd",
   "metadata": {},
   "source": [
    "CERCO DI OTTENERE LA DATA DI NASCITA DEGLI ARTISTI"
   ]
  },
  {
   "cell_type": "code",
   "execution_count": 3,
   "id": "7d48e8cf-0ab7-4892-852b-2d4ef8b571a5",
   "metadata": {},
   "outputs": [
    {
     "name": "stdout",
     "output_type": "stream",
     "text": [
      "🟨 Estrazione data di nascita per: Achille Togliani\n",
      "🟨 Estrazione data di nascita per: Oscar Carboni\n",
      "🟨 Estrazione data di nascita per: Gino Latilla\n",
      "🟨 Estrazione data di nascita per: Zucchero\n",
      "🟨 Estrazione data di nascita per: Will\n",
      "🟨 Estrazione data di nascita per: Virginio\n",
      "🟨 Estrazione data di nascita per: Ultimo\n",
      "🟨 Estrazione data di nascita per: Tricarico\n",
      "🟨 Estrazione data di nascita per: Tiziano Orecchio\n",
      "🟨 Estrazione data di nascita per: Stefano Tosi\n"
     ]
    },
    {
     "name": "stderr",
     "output_type": "stream",
     "text": [
      "Estrazione date:   0%|          | 1/1060 [00:00<09:39,  1.83it/s]"
     ]
    },
    {
     "name": "stdout",
     "output_type": "stream",
     "text": [
      "❌ Errore Wikipedia su: Tiziano Orecchio — Page id \"Tiziano Orecchio\" does not match any pages. Try another id!\n",
      "🟨 Estrazione data di nascita per: Ugo Molinari\n"
     ]
    },
    {
     "name": "stderr",
     "output_type": "stream",
     "text": [
      "Estrazione date:   0%|          | 4/1060 [00:01<03:36,  4.88it/s]"
     ]
    },
    {
     "name": "stdout",
     "output_type": "stream",
     "text": [
      "⚠️ Nessuna data trovata per: Achille Togliani\n",
      "🟨 Estrazione data di nascita per: Gianni Marzocchi\n",
      "⚠️ Nessuna data trovata per: Virginio\n",
      "🟨 Estrazione data di nascita per: Stefano Rosso\n",
      "⚠️ Nessuna data trovata per: Gino Latilla\n",
      "🟨 Estrazione data di nascita per: Silvano Vittorio\n",
      "⚠️ Nessuna data trovata per: Tricarico\n",
      "🟨 Estrazione data di nascita per: Sangiovanni\n",
      "⚠️ Nessuna data trovata per: Oscar Carboni\n",
      "🟨 Estrazione data di nascita per: Samuel\n",
      "❌ Errore Wikipedia su: Stefano Tosi — \"Stefano Tosi\" may refer to: \n",
      "Stefano Tosi\n",
      "Stefano Tosi\n",
      "🟨 Estrazione data di nascita per: Roberto Carlos\n",
      "❌ Errore Wikipedia su: Will — \"Will\" may refer to: \n",
      "Will\n",
      "Will\n",
      "Will\n",
      "Will\n",
      "Will\n",
      "Will\n",
      "Brad Will\n",
      "Will\n",
      "WiLL\n",
      "🟨 Estrazione data di nascita per: Random\n"
     ]
    },
    {
     "name": "stderr",
     "output_type": "stream",
     "text": [
      "D:\\bocci\\anaconda3\\Lib\\site-packages\\wikipedia\\wikipedia.py:389: GuessedAtParserWarning: No parser was explicitly specified, so I'm using the best available HTML parser for this system (\"lxml\"). This usually isn't a problem, but if you run this code on another system, or in a different virtual environment, it may use a different parser and behave differently.\n",
      "\n",
      "The code that caused this warning is on line 389 of the file D:\\bocci\\anaconda3\\Lib\\site-packages\\wikipedia\\wikipedia.py. To get rid of this warning, pass the additional argument 'features=\"lxml\"' to the BeautifulSoup constructor.\n",
      "\n",
      "  lis = BeautifulSoup(html).find_all('li')\n",
      "Estrazione date:   1%|          | 9/1060 [00:01<01:33, 11.26it/s]"
     ]
    },
    {
     "name": "stdout",
     "output_type": "stream",
     "text": [
      "❌ Errore Wikipedia su: Ultimo — \"Ultimo\" may refer to: \n",
      "Ultimo\n",
      "Ultimo\n",
      "Ultimo\n",
      "Ultimo\n",
      "Ultimo\n",
      "Ultimo - Il capitano che arrestò Totò Riina\n",
      "Ultimo\n",
      "Ultimo\n",
      "Ultimo\n",
      "Ultimo\n",
      "Ultimo - La sfida\n",
      "Ultimo - L'infiltrato\n",
      "Ultimo - L'occhio del falco\n",
      "Wikizionario\n",
      "\n",
      "🟨 Estrazione data di nascita per: Rancore\n"
     ]
    },
    {
     "name": "stderr",
     "output_type": "stream",
     "text": [
      "Estrazione date:   1%|          | 11/1060 [00:01<01:58,  8.83it/s]"
     ]
    },
    {
     "name": "stdout",
     "output_type": "stream",
     "text": [
      "❌ Errore Wikipedia su: Silvano Vittorio — Page id \"Silvano Vittorio\" does not match any pages. Try another id!\n",
      "🟨 Estrazione data di nascita per: Pacifico\n",
      "⚠️ Nessuna data trovata per: Ugo Molinari\n",
      "🟨 Estrazione data di nascita per: Orlando Johnson\n",
      "⚠️ Nessuna data trovata per: Zucchero\n",
      "🟨 Estrazione data di nascita per: Nicola Di Bari\n"
     ]
    },
    {
     "name": "stderr",
     "output_type": "stream",
     "text": [
      "Estrazione date:   1%|          | 13/1060 [00:01<02:19,  7.50it/s]"
     ]
    },
    {
     "name": "stdout",
     "output_type": "stream",
     "text": [
      "⚠️ Nessuna data trovata per: Gianni Marzocchi\n",
      "🟨 Estrazione data di nascita per: Motta\n",
      "❌ Errore Wikipedia su: Stefano Rosso — \"Stefano Rosso\" may refer to: \n",
      "Stefano Rosso\n",
      "Stefano Rosso\n",
      "Stefano Rosso\n",
      "🟨 Estrazione data di nascita per: Moreno\n"
     ]
    },
    {
     "name": "stderr",
     "output_type": "stream",
     "text": [
      "Estrazione date:   1%|▏         | 15/1060 [00:02<02:14,  7.74it/s]"
     ]
    },
    {
     "name": "stdout",
     "output_type": "stream",
     "text": [
      "❌ Errore Wikipedia su: Sangiovanni — \"Sangiovanni\" may refer to: \n",
      "Sangiovanni\n",
      "Antonio Sangiovanni\n",
      "Giosuè Sangiovanni\n",
      "Sangiovanni\n",
      "Sangiovanni\n",
      "Sangiovanni\n",
      "Sangiovanni Toffetti\n",
      "San Giovanni\n",
      "🟨 Estrazione data di nascita per: Miko\n",
      "❌ Errore Wikipedia su: Samuel — \"Samuel\" may refer to: \n",
      "Samuel di Spira\n",
      "Samuel di Évreux\n",
      "Samuel\n",
      "A. G. Samuel\n",
      "Adolphe Samuel\n",
      "Adriana Samuel\n",
      "Asante Samuel\n",
      "Bright Osayi-Samuel\n",
      "Collin Samuel\n",
      "Cynthia Samuel\n",
      "Daphnée Duplaix Samuel\n",
      "Dominic Samuel\n",
      "Dominic Samuel\n",
      "Jlloyd Samuel\n",
      "Joanne Samuel\n",
      "Monday Samuel\n",
      "Myron Samuel\n",
      "Randy Samuel\n",
      "Shandel Samuel\n",
      "Walter Samuel\n",
      "Xavier Samuel\n",
      "nome proprio di persona\n",
      "Samuele (disambigua)\n",
      "Samuil\n",
      "🟨 Estrazione data di nascita per: Michele\n",
      "❌ Errore Wikipedia su: Roberto Carlos — \"Roberto Carlos\" may refer to: \n",
      "Roberto Carlos Braga\n",
      "Roberto Carlos Cortés\n",
      "Roberto Carlos da Silva\n",
      "🟨 Estrazione data di nascita per: Massimo Abbate\n"
     ]
    },
    {
     "name": "stderr",
     "output_type": "stream",
     "text": [
      "Estrazione date:   2%|▏         | 20/1060 [00:02<02:01,  8.56it/s]"
     ]
    },
    {
     "name": "stdout",
     "output_type": "stream",
     "text": [
      "⚠️ Nessuna data trovata per: Orlando Johnson\n",
      "🟨 Estrazione data di nascita per: Luca Cola\n",
      "⚠️ Nessuna data trovata per: Random\n",
      "🟨 Estrazione data di nascita per: Peppino Gagliardi\n",
      "❌ Errore Wikipedia su: Massimo Abbate — Page id \"Massimo Abbate\" does not match any pages. Try another id!\n",
      "🟨 Estrazione data di nascita per: Gianni Morandi\n",
      "⚠️ Nessuna data trovata per: Rancore\n",
      "🟨 Estrazione data di nascita per: Gianni Nazzaro\n"
     ]
    },
    {
     "name": "stderr",
     "output_type": "stream",
     "text": [
      "Estrazione date:   2%|▏         | 23/1060 [00:03<02:09,  7.98it/s]"
     ]
    },
    {
     "name": "stdout",
     "output_type": "stream",
     "text": [
      "❌ Errore Wikipedia su: Luca Cola — Page id \"Luca Cola\" does not match any pages. Try another id!\n",
      "🟨 Estrazione data di nascita per: Lucio Dalla\n",
      "⚠️ Nessuna data trovata per: Pacifico\n",
      "🟨 Estrazione data di nascita per: Domenico Modugno\n",
      "⚠️ Nessuna data trovata per: Miko\n",
      "🟨 Estrazione data di nascita per: Pino Donaggio\n",
      "❌ Errore Wikipedia su: Motta — \"Motta\" may refer to: \n",
      "Motta\n",
      "Caffè Motta\n",
      "Federico Motta Editore\n",
      "Opificio Motta\n",
      "Monte Motta\n",
      "Motta\n",
      "Motta\n",
      "Motta\n",
      "Motta\n",
      "Motta Baluffi\n",
      "Motta Camastra\n",
      "Motta d'Affermo\n",
      "Motta de' Conti\n",
      "Motta dei Cunici\n",
      "Motta di Costigliole\n",
      "Motta di Livenza\n",
      "Motta di Pleté\n",
      "Motta di San Lorenzo\n",
      "Motta Montecorvino\n",
      "Motta San Damiano\n",
      "Motta San Fermo\n",
      "Motta San Giovanni\n",
      "Motta Santa Lucia\n",
      "Motta Sant'Anastasia\n",
      "Motta Vigana\n",
      "Motta Visconti\n",
      "Alberico Motta\n",
      "Bess Motta\n",
      "Ed Motta\n",
      "Francesco Motta\n",
      "Giovanni Motta\n",
      "Graziano Motta\n",
      "Luigi Motta\n",
      "Mario Motta\n",
      "Nelson Motta\n",
      "Raffaellino da Reggio\n",
      "Angelo Motta\n",
      "Giuseppe Motta\n",
      "Carmen Motta\n",
      "Giuseppe Motta\n",
      "Giuseppe Motta\n",
      "Riccardo Motta\n",
      "Emilio Motta\n",
      "Giacinto Motta\n",
      "Cássio Motta\n",
      "Dick Motta\n",
      "Enrico Motta\n",
      "Ezio Motta\n",
      "Gianfranco Motta\n",
      "Gianni Motta\n",
      "Giorgia Motta\n",
      "Iride Motta\n",
      "Marco Motta\n",
      "Mario Motta\n",
      "Michele Motta\n",
      "Paulo César Motta\n",
      "Paulo César Motta Donis\n",
      "Rogério Motta\n",
      "Silvano Motta\n",
      "Silvia Motta\n",
      "Simone Motta\n",
      "Thiago Motta\n",
      "Zeke Motta\n",
      "Motta\n",
      "Motta\n",
      "🟨 Estrazione data di nascita per: Fausto Leali\n"
     ]
    },
    {
     "name": "stderr",
     "output_type": "stream",
     "text": [
      "Estrazione date:   2%|▏         | 26/1060 [00:03<01:40, 10.30it/s]"
     ]
    },
    {
     "name": "stdout",
     "output_type": "stream",
     "text": [
      "❌ Errore Wikipedia su: Moreno — \"Moreno\" may refer to: \n",
      "Partido di Moreno\n",
      "Moreno\n",
      "Perito Moreno\n",
      "Ghiacciaio Perito Moreno\n",
      "Dipartimento di Moreno\n",
      "Moreno\n",
      "Moreno\n",
      "Moreno\n",
      "Moreno Valley\n",
      "João Miguel da Cunha Teixeira\n",
      "Moreno\n",
      "Moreno\n",
      "Moreno\n",
      "🟨 Estrazione data di nascita per: Tony Cucchiara\n",
      "⚠️ Nessuna data trovata per: Michele\n",
      "🟨 Estrazione data di nascita per: Bobby Solo\n",
      "❌ Errore Wikipedia su: Nicola Di Bari — \"Nicola di Bari\" may refer to: \n",
      "San Nicola di Bari\n",
      "Nicola da Bari\n",
      "Nicola Di Bari\n",
      "Nicola Di Bari\n",
      "Nicola Di Bari\n",
      "Nicola Di Bari\n",
      "Nicola Di Bari\n",
      "🟨 Estrazione data di nascita per: Peppino Di Capri\n"
     ]
    },
    {
     "name": "stderr",
     "output_type": "stream",
     "text": [
      "Estrazione date:   3%|▎         | 31/1060 [00:03<01:41, 10.16it/s]"
     ]
    },
    {
     "name": "stdout",
     "output_type": "stream",
     "text": [
      "⚠️ Nessuna data trovata per: Peppino Gagliardi\n",
      "🟨 Estrazione data di nascita per: Roberto Vecchioni\n",
      "⚠️ Nessuna data trovata per: Gianni Nazzaro\n",
      "🟨 Estrazione data di nascita per: Umberto Balsamo\n",
      "⚠️ Nessuna data trovata per: Gianni Morandi\n",
      "🟨 Estrazione data di nascita per: Memo Remigi\n"
     ]
    },
    {
     "name": "stderr",
     "output_type": "stream",
     "text": [
      "Estrazione date:   3%|▎         | 33/1060 [00:04<02:19,  7.38it/s]"
     ]
    },
    {
     "name": "stdout",
     "output_type": "stream",
     "text": [
      "⚠️ Nessuna data trovata per: Pino Donaggio\n",
      "🟨 Estrazione data di nascita per: Lionello\n",
      "⚠️ Nessuna data trovata per: Lucio Dalla\n",
      "🟨 Estrazione data di nascita per: Sergio Endrigo\n",
      "🟨 Estrazione data di nascita per: Christian De Sica\n",
      "⚠️ Nessuna data trovata per: Fausto Leali\n",
      "🟨 Estrazione data di nascita per: Alberto Feri\n",
      "🟨 Estrazione data di nascita per: Junior Magli\n",
      "⚠️ Nessuna data trovata per: Tony Cucchiara\n",
      "🟨 Estrazione data di nascita per: Drupi\n"
     ]
    },
    {
     "name": "stderr",
     "output_type": "stream",
     "text": [
      "Estrazione date:   4%|▍         | 41/1060 [00:05<01:44,  9.77it/s]"
     ]
    },
    {
     "name": "stdout",
     "output_type": "stream",
     "text": [
      "⚠️ Nessuna data trovata per: Roberto Vecchioni\n",
      "🟨 Estrazione data di nascita per: Toni Santagata\n",
      "⚠️ Nessuna data trovata per: Memo Remigi\n",
      "🟨 Estrazione data di nascita per: Al Bano\n",
      "⚠️ Nessuna data trovata per: Umberto Balsamo\n",
      "🟨 Estrazione data di nascita per: Mino Reitano\n",
      "⚠️ Nessuna data trovata per: Peppino Di Capri\n",
      "🟨 Estrazione data di nascita per: Little Tony\n"
     ]
    },
    {
     "name": "stderr",
     "output_type": "stream",
     "text": [
      "Estrazione date:   4%|▍         | 43/1060 [00:05<02:04,  8.16it/s]"
     ]
    },
    {
     "name": "stdout",
     "output_type": "stream",
     "text": [
      "⚠️ Nessuna data trovata per: Lionello\n",
      "🟨 Estrazione data di nascita per: Kambiz\n",
      "⚠️ Nessuna data trovata per: Drupi\n",
      "🟨 Estrazione data di nascita per: Riccardo Fogli\n",
      "⚠️ Nessuna data trovata per: Sergio Endrigo\n",
      "🟨 Estrazione data di nascita per: Franco Simone\n",
      "⚠️ Nessuna data trovata per: Junior Magli\n",
      "🟨 Estrazione data di nascita per: Piero Focaccia\n",
      "⚠️ Nessuna data trovata per: Alberto Feri\n",
      "🟨 Estrazione data di nascita per: Eugenio Alberti\n",
      "⚠️ Nessuna data trovata per: Christian De Sica\n",
      "🟨 Estrazione data di nascita per: Piero Cotto\n"
     ]
    },
    {
     "name": "stderr",
     "output_type": "stream",
     "text": [
      "Estrazione date:   5%|▍         | 48/1060 [00:05<01:49,  9.22it/s]"
     ]
    },
    {
     "name": "stdout",
     "output_type": "stream",
     "text": [
      "❌ Errore Wikipedia su: Kambiz — Page id \"Kambiz\" does not match any pages. Try another id!\n",
      "🟨 Estrazione data di nascita per: Henry Freis\n",
      "⚠️ Nessuna data trovata per: Toni Santagata\n",
      "🟨 Estrazione data di nascita per: Jean-François Michael\n",
      "⚠️ Nessuna data trovata per: Mino Reitano\n",
      "🟨 Estrazione data di nascita per: Lorenzo Pilat\n"
     ]
    },
    {
     "name": "stderr",
     "output_type": "stream",
     "text": [
      "Estrazione date:   5%|▍         | 51/1060 [00:06<01:40, 10.07it/s]"
     ]
    },
    {
     "name": "stdout",
     "output_type": "stream",
     "text": [
      "🟨 Estrazione data di nascita per: Paola Folzini\n",
      "⚠️ Nessuna data trovata per: Little Tony\n",
      "🟨 Estrazione data di nascita per: Goffredo Canarini\n"
     ]
    },
    {
     "name": "stderr",
     "output_type": "stream",
     "text": [
      "Estrazione date:   5%|▌         | 56/1060 [00:06<01:28, 11.41it/s]"
     ]
    },
    {
     "name": "stdout",
     "output_type": "stream",
     "text": [
      "❌ Errore Wikipedia su: Henry Freis — Page id \"Henry Freis\" does not match any pages. Try another id!\n",
      "🟨 Estrazione data di nascita per: Sandro Giacobbe\n",
      "⚠️ Nessuna data trovata per: Riccardo Fogli\n",
      "🟨 Estrazione data di nascita per: Paolo Frescura\n",
      "⚠️ Nessuna data trovata per: Piero Focaccia\n",
      "🟨 Estrazione data di nascita per: Carlo Gigli\n",
      "⚠️ Nessuna data trovata per: Piero Cotto\n",
      "🟨 Estrazione data di nascita per: Daniel Sentacruz Ensemble\n",
      "⚠️ Nessuna data trovata per: Eugenio Alberti\n",
      "🟨 Estrazione data di nascita per: Patrizio Sandrelli\n",
      "⚠️ Nessuna data trovata per: Franco Simone\n",
      "🟨 Estrazione data di nascita per: Santino Rocchetti\n"
     ]
    },
    {
     "name": "stderr",
     "output_type": "stream",
     "text": [
      "Estrazione date:   6%|▌         | 59/1060 [00:06<01:39, 10.03it/s]"
     ]
    },
    {
     "name": "stdout",
     "output_type": "stream",
     "text": [
      "⚠️ Nessuna data trovata per: Jean-François Michael\n",
      "🟨 Estrazione data di nascita per: Antonio Buonomo\n",
      "⚠️ Nessuna data trovata per: Lorenzo Pilat\n",
      "🟨 Estrazione data di nascita per: Leano Morelli\n"
     ]
    },
    {
     "name": "stderr",
     "output_type": "stream",
     "text": [
      "Estrazione date:   6%|▌         | 61/1060 [00:07<01:49,  9.14it/s]"
     ]
    },
    {
     "name": "stdout",
     "output_type": "stream",
     "text": [
      "⚠️ Nessuna data trovata per: Goffredo Canarini\n",
      "🟨 Estrazione data di nascita per: Umberto Lupi\n",
      "⚠️ Nessuna data trovata per: Paola Folzini\n",
      "🟨 Estrazione data di nascita per: Ezio Maria Picciotta\n"
     ]
    },
    {
     "name": "stderr",
     "output_type": "stream",
     "text": [
      "Estrazione date:   6%|▋         | 68/1060 [00:07<01:15, 13.12it/s]"
     ]
    },
    {
     "name": "stdout",
     "output_type": "stream",
     "text": [
      "⚠️ Nessuna data trovata per: Carlo Gigli\n",
      "🟨 Estrazione data di nascita per: Umberto Napolitano\n",
      "⚠️ Nessuna data trovata per: Sandro Giacobbe\n",
      "🟨 Estrazione data di nascita per: Daniela Davoli\n",
      "⚠️ Nessuna data trovata per: Paolo Frescura\n",
      "🟨 Estrazione data di nascita per: Rino Gaetano\n",
      "⚠️ Nessuna data trovata per: Daniel Sentacruz Ensemble\n",
      "🟨 Estrazione data di nascita per: Ciro Sebastianelli\n",
      "⚠️ Nessuna data trovata per: Patrizio Sandrelli\n",
      "🟨 Estrazione data di nascita per: Anselmo Genovese\n",
      "⚠️ Nessuna data trovata per: Santino Rocchetti\n",
      "🟨 Estrazione data di nascita per: Donato Ciletti\n"
     ]
    },
    {
     "name": "stderr",
     "output_type": "stream",
     "text": [
      "Estrazione date:   7%|▋         | 70/1060 [00:07<01:31, 10.83it/s]"
     ]
    },
    {
     "name": "stdout",
     "output_type": "stream",
     "text": [
      "⚠️ Nessuna data trovata per: Leano Morelli\n",
      "🟨 Estrazione data di nascita per: Roberto Carrino\n",
      "⚠️ Nessuna data trovata per: Antonio Buonomo\n",
      "🟨 Estrazione data di nascita per: Marco Ferradini\n"
     ]
    },
    {
     "name": "stderr",
     "output_type": "stream",
     "text": [
      "Estrazione date:   7%|▋         | 72/1060 [00:08<01:49,  9.02it/s]"
     ]
    },
    {
     "name": "stdout",
     "output_type": "stream",
     "text": [
      "⚠️ Nessuna data trovata per: Umberto Lupi\n",
      "🟨 Estrazione data di nascita per: Mino Vergnaghi\n",
      "⚠️ Nessuna data trovata per: Ezio Maria Picciotta\n",
      "🟨 Estrazione data di nascita per: Enzo Carella\n"
     ]
    },
    {
     "name": "stderr",
     "output_type": "stream",
     "text": [
      "Estrazione date:   7%|▋         | 74/1060 [00:08<01:51,  8.84it/s]"
     ]
    },
    {
     "name": "stdout",
     "output_type": "stream",
     "text": [
      "⚠️ Nessuna data trovata per: Daniela Davoli⚠️ Nessuna data trovata per: Umberto Napolitano\n",
      "🟨 Estrazione data di nascita per: Enrico Beruschi\n",
      "\n",
      "🟨 Estrazione data di nascita per: Franco Fanigliulo\n",
      "⚠️ Nessuna data trovata per: Ciro Sebastianelli\n",
      "🟨 Estrazione data di nascita per: Gianni Migliardi\n",
      "⚠️ Nessuna data trovata per: Anselmo Genovese\n",
      "🟨 Estrazione data di nascita per: Michele Vicino\n",
      "⚠️ Nessuna data trovata per: Donato Ciletti\n",
      "🟨 Estrazione data di nascita per: Gianni Mocchetti\n"
     ]
    },
    {
     "name": "stderr",
     "output_type": "stream",
     "text": [
      "Estrazione date:   7%|▋         | 78/1060 [00:08<01:29, 10.93it/s]"
     ]
    },
    {
     "name": "stdout",
     "output_type": "stream",
     "text": [
      "⚠️ Nessuna data trovata per: Rino Gaetano\n",
      "🟨 Estrazione data di nascita per: Toto Cutugno\n",
      "⚠️ Nessuna data trovata per: Marco Ferradini\n",
      "🟨 Estrazione data di nascita per: Enzo Malepasso\n"
     ]
    },
    {
     "name": "stderr",
     "output_type": "stream",
     "text": [
      "Estrazione date:   8%|▊         | 82/1060 [00:09<01:35, 10.21it/s]"
     ]
    },
    {
     "name": "stdout",
     "output_type": "stream",
     "text": [
      "❌ Errore Wikipedia su: Gianni Migliardi — Page id \"Gianni Migliardi\" does not match any pages. Try another id!\n",
      "🟨 Estrazione data di nascita per: Pupo\n",
      "⚠️ Nessuna data trovata per: Roberto Carrino\n",
      "🟨 Estrazione data di nascita per: Leroy Gomez\n",
      "⚠️ Nessuna data trovata per: Mino Vergnaghi\n",
      "🟨 Estrazione data di nascita per: Paolo Riviera\n",
      "⚠️ Nessuna data trovata per: Enzo Carella\n",
      "🟨 Estrazione data di nascita per: Francesco Magni\n"
     ]
    },
    {
     "name": "stderr",
     "output_type": "stream",
     "text": [
      "Estrazione date:   8%|▊         | 84/1060 [00:09<01:50,  8.84it/s]"
     ]
    },
    {
     "name": "stdout",
     "output_type": "stream",
     "text": [
      "⚠️ Nessuna data trovata per: Enrico Beruschi\n",
      "🟨 Estrazione data di nascita per: Aldo Donati\n",
      "⚠️ Nessuna data trovata per: Franco Fanigliulo\n",
      "🟨 Estrazione data di nascita per: Bruno D'Andrea\n",
      "⚠️ Nessuna data trovata per: Gianni Mocchetti\n",
      "🟨 Estrazione data di nascita per: Alberto Cheli\n",
      "⚠️ Nessuna data trovata per: Michele Vicino\n",
      "🟨 Estrazione data di nascita per: Peppino Di Capri\n"
     ]
    },
    {
     "name": "stderr",
     "output_type": "stream",
     "text": [
      "Estrazione date:   8%|▊         | 90/1060 [00:10<01:34, 10.26it/s]"
     ]
    },
    {
     "name": "stdout",
     "output_type": "stream",
     "text": [
      "⚠️ Nessuna data trovata per: Toto Cutugno\n",
      "🟨 Estrazione data di nascita per: Rimmel\n",
      "⚠️ Nessuna data trovata per: Enzo Malepasso\n",
      "🟨 Estrazione data di nascita per: Gianfranco De Angelis\n",
      "⚠️ Nessuna data trovata per: Leroy Gomez\n",
      "🟨 Estrazione data di nascita per: Dario Baldan Bembo\n"
     ]
    },
    {
     "name": "stderr",
     "output_type": "stream",
     "text": [
      "Estrazione date:   9%|▊         | 92/1060 [00:10<01:31, 10.61it/s]"
     ]
    },
    {
     "name": "stdout",
     "output_type": "stream",
     "text": [
      "❌ Errore Wikipedia su: Pupo — \"Pupo\" may refer to: \n",
      "Pupo\n",
      "Diego Pupo\n",
      "Leuris Pupo\n",
      "Raoul Pupo\n",
      "Pupo\n",
      "Pupo siciliano\n",
      "Pupi\n",
      "🟨 Estrazione data di nascita per: Luca Barbarossa\n",
      "⚠️ Nessuna data trovata per: Paolo Riviera\n",
      "🟨 Estrazione data di nascita per: Paolo Barabani\n",
      "⚠️ Nessuna data trovata per: Francesco Magni\n",
      "🟨 Estrazione data di nascita per: Michele Zarrillo\n"
     ]
    },
    {
     "name": "stderr",
     "output_type": "stream",
     "text": [
      "Estrazione date:   9%|▉         | 96/1060 [00:10<01:38,  9.80it/s]"
     ]
    },
    {
     "name": "stdout",
     "output_type": "stream",
     "text": [
      "⚠️ Nessuna data trovata per: Bruno D'Andrea\n",
      "🟨 Estrazione data di nascita per: Eduardo De Crescenzo\n",
      "⚠️ Nessuna data trovata per: Alberto Cheli\n",
      "🟨 Estrazione data di nascita per: Sterling Saint-Jacques\n",
      "❌ Errore Wikipedia su: Aldo Donati — \"Aldo Donati\" may refer to: \n",
      "Aldo Donati\n",
      "Aldo Donati\n",
      "Aldo Donati\n",
      "🟨 Estrazione data di nascita per: Gianni Bella\n"
     ]
    },
    {
     "name": "stderr",
     "output_type": "stream",
     "text": [
      "Estrazione date:   9%|▉         | 98/1060 [00:11<01:58,  8.14it/s]"
     ]
    },
    {
     "name": "stdout",
     "output_type": "stream",
     "text": [
      "⚠️ Nessuna data trovata per: Gianfranco De Angelis\n",
      "🟨 Estrazione data di nascita per: Sebastiano Occhino\n",
      "❌ Errore Wikipedia su: Rimmel — \"Rimmel\" may refer to: \n",
      "mascara\n",
      "Rimmel\n",
      "Rimmel\n",
      "Rimmel\n",
      "Rimmel\n",
      "Rimmel/Piccola mela\n",
      "🟨 Estrazione data di nascita per: Tom Hooker\n",
      "⚠️ Nessuna data trovata per: Dario Baldan Bembo\n",
      "🟨 Estrazione data di nascita per: Domenico Mattia\n"
     ]
    },
    {
     "name": "stderr",
     "output_type": "stream",
     "text": [
      "Estrazione date:   9%|▉         | 100/1060 [00:11<01:50,  8.67it/s]"
     ]
    },
    {
     "name": "stdout",
     "output_type": "stream",
     "text": [
      "⚠️ Nessuna data trovata per: Peppino Di Capri\n",
      "🟨 Estrazione data di nascita per: Franco Fasano\n",
      "⚠️ Nessuna data trovata per: Luca Barbarossa\n",
      "🟨 Estrazione data di nascita per: Giuseppe Cionfoli\n",
      "⚠️ Nessuna data trovata per: Michele Zarrillo\n",
      "🟨 Estrazione data di nascita per: Jimmy Fontana\n"
     ]
    },
    {
     "name": "stderr",
     "output_type": "stream",
     "text": [
      "Estrazione date:  10%|▉         | 103/1060 [00:11<01:35, 10.01it/s]"
     ]
    },
    {
     "name": "stdout",
     "output_type": "stream",
     "text": [
      "⚠️ Nessuna data trovata per: Paolo Barabani\n",
      "🟨 Estrazione data di nascita per: Stefano Sani\n",
      "⚠️ Nessuna data trovata per: Eduardo De Crescenzo\n",
      "🟨 Estrazione data di nascita per: Riccardo Del Turco\n"
     ]
    },
    {
     "name": "stderr",
     "output_type": "stream",
     "text": [
      "Estrazione date:  10%|▉         | 105/1060 [00:11<01:50,  8.65it/s]"
     ]
    },
    {
     "name": "stdout",
     "output_type": "stream",
     "text": [
      "⚠️ Nessuna data trovata per: Gianni Bella\n",
      "🟨 Estrazione data di nascita per: Plastic Bertrand\n"
     ]
    },
    {
     "name": "stderr",
     "output_type": "stream",
     "text": [
      "Estrazione date:  10%|█         | 108/1060 [00:12<01:49,  8.73it/s]"
     ]
    },
    {
     "name": "stdout",
     "output_type": "stream",
     "text": [
      "⚠️ Nessuna data trovata per: Sebastiano Occhino\n",
      "🟨 Estrazione data di nascita per: Mal\n",
      "⚠️ Nessuna data trovata per: Tom Hooker\n",
      "🟨 Estrazione data di nascita per: Mario Castelnuovo\n",
      "⚠️ Nessuna data trovata per: Domenico Mattia\n",
      "🟨 Estrazione data di nascita per: Roberto Soffici\n",
      "⚠️ Nessuna data trovata per: Sterling Saint-Jacques\n",
      "🟨 Estrazione data di nascita per: Vasco Rossi\n"
     ]
    },
    {
     "name": "stderr",
     "output_type": "stream",
     "text": [
      "Estrazione date:  10%|█         | 111/1060 [00:12<01:17, 12.20it/s]"
     ]
    },
    {
     "name": "stdout",
     "output_type": "stream",
     "text": [
      "🟨 Estrazione data di nascita per: Rino Martinez\n",
      "⚠️ Nessuna data trovata per: Giuseppe Cionfoli\n",
      "🟨 Estrazione data di nascita per: Claudio Villa\n",
      "⚠️ Nessuna data trovata per: Jimmy Fontana\n",
      "🟨 Estrazione data di nascita per: Piero Cassano\n"
     ]
    },
    {
     "name": "stderr",
     "output_type": "stream",
     "text": [
      "Estrazione date:  11%|█         | 113/1060 [00:12<01:25, 11.03it/s]"
     ]
    },
    {
     "name": "stdout",
     "output_type": "stream",
     "text": [
      "⚠️ Nessuna data trovata per: Stefano Sani\n",
      "🟨 Estrazione data di nascita per: Marco Armani\n",
      "⚠️ Nessuna data trovata per: Riccardo Del Turco\n",
      "🟨 Estrazione data di nascita per: Giorgia Fiorio\n"
     ]
    },
    {
     "name": "stderr",
     "output_type": "stream",
     "text": [
      "Estrazione date:  11%|█         | 115/1060 [00:12<01:40,  9.45it/s]"
     ]
    },
    {
     "name": "stdout",
     "output_type": "stream",
     "text": [
      "⚠️ Nessuna data trovata per: Plastic Bertrand\n",
      "🟨 Estrazione data di nascita per: Bertín Osborne\n"
     ]
    },
    {
     "name": "stderr",
     "output_type": "stream",
     "text": [
      "Estrazione date:  11%|█         | 119/1060 [00:13<01:44,  8.98it/s]"
     ]
    },
    {
     "name": "stdout",
     "output_type": "stream",
     "text": [
      "⚠️ Nessuna data trovata per: Mario Castelnuovo\n",
      "🟨 Estrazione data di nascita per: Riccardo Azzurri\n",
      "⚠️ Nessuna data trovata per: Roberto Soffici\n",
      "🟨 Estrazione data di nascita per: Richard Sanderson\n",
      "🟨 Estrazione data di nascita per: Donatello\n",
      "⚠️ Nessuna data trovata per: Rino Martinez\n",
      "🟨 Estrazione data di nascita per: Nino Buonocore\n"
     ]
    },
    {
     "name": "stderr",
     "output_type": "stream",
     "text": [
      "Estrazione date:  11%|█▏        | 121/1060 [00:13<01:38,  9.51it/s]"
     ]
    },
    {
     "name": "stdout",
     "output_type": "stream",
     "text": [
      "⚠️ Nessuna data trovata per: Claudio Villa\n",
      "🟨 Estrazione data di nascita per: Alessio Colombini\n",
      "⚠️ Nessuna data trovata per: Piero Cassano\n",
      "🟨 Estrazione data di nascita per: Manuele Pepe\n",
      "⚠️ Nessuna data trovata per: Marco Armani\n",
      "🟨 Estrazione data di nascita per: Amedeo Minghi\n"
     ]
    },
    {
     "name": "stderr",
     "output_type": "stream",
     "text": [
      "Estrazione date:  12%|█▏        | 123/1060 [00:13<01:31, 10.24it/s]"
     ]
    },
    {
     "name": "stdout",
     "output_type": "stream",
     "text": [
      "⚠️ Nessuna data trovata per: Giorgia Fiorio\n",
      "🟨 Estrazione data di nascita per: Alberto Camerini\n",
      "🟨 Estrazione data di nascita per: Garbo\n"
     ]
    },
    {
     "name": "stderr",
     "output_type": "stream",
     "text": [
      "Estrazione date:  12%|█▏        | 125/1060 [00:13<01:36,  9.69it/s]"
     ]
    },
    {
     "name": "stdout",
     "output_type": "stream",
     "text": [
      "⚠️ Nessuna data trovata per: Bertín Osborne\n",
      "🟨 Estrazione data di nascita per: Enrico Ruggeri\n"
     ]
    },
    {
     "name": "stderr",
     "output_type": "stream",
     "text": [
      "Estrazione date:  12%|█▏        | 128/1060 [00:14<01:54,  8.17it/s]"
     ]
    },
    {
     "name": "stdout",
     "output_type": "stream",
     "text": [
      "⚠️ Nessuna data trovata per: Riccardo Azzurri\n",
      "🟨 Estrazione data di nascita per: Luis Miguel\n",
      "⚠️ Nessuna data trovata per: Richard Sanderson\n",
      "🟨 Estrazione data di nascita per: Eros Ramazzotti\n",
      "⚠️ Nessuna data trovata per: Nino Buonocore\n",
      "🟨 Estrazione data di nascita per: Ivan Graziani\n",
      "⚠️ Nessuna data trovata per: Alessio Colombini\n",
      "🟨 Estrazione data di nascita per: Eugenio Finardi\n"
     ]
    },
    {
     "name": "stderr",
     "output_type": "stream",
     "text": [
      "Estrazione date:  12%|█▏        | 132/1060 [00:14<01:30, 10.27it/s]"
     ]
    },
    {
     "name": "stdout",
     "output_type": "stream",
     "text": [
      "⚠️ Nessuna data trovata per: Donatello\n",
      "🟨 Estrazione data di nascita per: Mimmo Locasciulli\n",
      "⚠️ Nessuna data trovata per: Manuele Pepe\n",
      "🟨 Estrazione data di nascita per: Renzo Arbore\n",
      "⚠️ Nessuna data trovata per: Amedeo Minghi\n",
      "🟨 Estrazione data di nascita per: Nino D'Angelo\n"
     ]
    },
    {
     "name": "stderr",
     "output_type": "stream",
     "text": [
      "Estrazione date:  13%|█▎        | 134/1060 [00:14<01:33,  9.92it/s]"
     ]
    },
    {
     "name": "stdout",
     "output_type": "stream",
     "text": [
      "⚠️ Nessuna data trovata per: Alberto Camerini\n",
      "🟨 Estrazione data di nascita per: Fred Bongusto\n",
      "❌ Errore Wikipedia su: Garbo — \"Garbo\" may refer to: \n",
      "Garbo\n",
      "Għarb\n",
      "Garbo\n",
      "Garbo\n",
      "Greta Garbo\n",
      "Raffaellino del Garbo\n",
      "Garbo\n",
      "Garbo\n",
      "Garbo\n",
      "Del Garbo\n",
      "Wikizionario\n",
      "\n",
      "🟨 Estrazione data di nascita per: Mango\n"
     ]
    },
    {
     "name": "stderr",
     "output_type": "stream",
     "text": [
      "Estrazione date:  13%|█▎        | 136/1060 [00:15<01:57,  7.88it/s]"
     ]
    },
    {
     "name": "stdout",
     "output_type": "stream",
     "text": [
      "⚠️ Nessuna data trovata per: Enrico Ruggeri\n",
      "🟨 Estrazione data di nascita per: Scialpi\n",
      "⚠️ Nessuna data trovata per: Luis Miguel\n",
      "🟨 Estrazione data di nascita per: Tony Esposito\n"
     ]
    },
    {
     "name": "stderr",
     "output_type": "stream",
     "text": [
      "Estrazione date:  13%|█▎        | 138/1060 [00:15<01:41,  9.12it/s]"
     ]
    },
    {
     "name": "stdout",
     "output_type": "stream",
     "text": [
      "🟨 Estrazione data di nascita per: Sergio Caputo\n",
      "⚠️ Nessuna data trovata per: Ivan Graziani\n",
      "🟨 Estrazione data di nascita per: Massimo Ranieri\n",
      "⚠️ Nessuna data trovata per: Mimmo Locasciulli\n",
      "🟨 Estrazione data di nascita per: Raf\n"
     ]
    },
    {
     "name": "stderr",
     "output_type": "stream",
     "text": [
      "Estrazione date:  13%|█▎        | 140/1060 [00:15<01:29, 10.27it/s]"
     ]
    },
    {
     "name": "stdout",
     "output_type": "stream",
     "text": [
      "⚠️ Nessuna data trovata per: Eugenio Finardi\n",
      "🟨 Estrazione data di nascita per: Francesco Nuti\n",
      "⚠️ Nessuna data trovata per: Renzo Arbore\n",
      "🟨 Estrazione data di nascita per: Franco Califano\n"
     ]
    },
    {
     "name": "stderr",
     "output_type": "stream",
     "text": [
      "Estrazione date:  13%|█▎        | 142/1060 [00:15<01:42,  8.99it/s]"
     ]
    },
    {
     "name": "stdout",
     "output_type": "stream",
     "text": [
      "⚠️ Nessuna data trovata per: Nino D'Angelo\n",
      "🟨 Estrazione data di nascita per: Tullio De Piscopo\n",
      "⚠️ Nessuna data trovata per: Fred Bongusto\n",
      "🟨 Estrazione data di nascita per: Ron\n"
     ]
    },
    {
     "name": "stderr",
     "output_type": "stream",
     "text": [
      "Estrazione date:  14%|█▎        | 145/1060 [00:16<01:54,  7.96it/s]"
     ]
    },
    {
     "name": "stdout",
     "output_type": "stream",
     "text": [
      "⚠️ Nessuna data trovata per: Scialpi\n",
      "🟨 Estrazione data di nascita per: Alan Sorrenti\n",
      "⚠️ Nessuna data trovata per: Tony Esposito\n",
      "🟨 Estrazione data di nascita per: Jovanotti\n"
     ]
    },
    {
     "name": "stderr",
     "output_type": "stream",
     "text": [
      "Estrazione date:  14%|█▍        | 147/1060 [00:16<01:49,  8.32it/s]"
     ]
    },
    {
     "name": "stdout",
     "output_type": "stream",
     "text": [
      "⚠️ Nessuna data trovata per: Sergio Caputo\n",
      "🟨 Estrazione data di nascita per: Francesco Salvi\n",
      "⚠️ Nessuna data trovata per: Massimo Ranieri\n",
      "🟨 Estrazione data di nascita per: Gino Paoli\n",
      "⚠️ Nessuna data trovata per: Raf\n",
      "🟨 Estrazione data di nascita per: Renato Carosone\n",
      "⚠️ Nessuna data trovata per: Mango\n",
      "🟨 Estrazione data di nascita per: Enzo Jannacci\n"
     ]
    },
    {
     "name": "stderr",
     "output_type": "stream",
     "text": [
      "Estrazione date:  14%|█▍        | 150/1060 [00:16<01:21, 11.23it/s]"
     ]
    },
    {
     "name": "stdout",
     "output_type": "stream",
     "text": [
      "⚠️ Nessuna data trovata per: Francesco Nuti\n",
      "🟨 Estrazione data di nascita per: Gigi Sabani\n",
      "⚠️ Nessuna data trovata per: Franco Califano\n",
      "🟨 Estrazione data di nascita per: Riccardo Cocciante\n"
     ]
    },
    {
     "name": "stderr",
     "output_type": "stream",
     "text": [
      "Estrazione date:  14%|█▍        | 152/1060 [00:16<01:27, 10.36it/s]"
     ]
    },
    {
     "name": "stdout",
     "output_type": "stream",
     "text": [
      "⚠️ Nessuna data trovata per: Ron\n",
      "🟨 Estrazione data di nascita per: Renato Zero\n",
      "⚠️ Nessuna data trovata per: Tullio De Piscopo\n",
      "🟨 Estrazione data di nascita per: Marco Masini\n"
     ]
    },
    {
     "name": "stderr",
     "output_type": "stream",
     "text": [
      "Estrazione date:  15%|█▍        | 154/1060 [00:17<01:40,  9.01it/s]"
     ]
    },
    {
     "name": "stdout",
     "output_type": "stream",
     "text": [
      "⚠️ Nessuna data trovata per: Alan Sorrenti\n",
      "🟨 Estrazione data di nascita per: Umberto Tozzi\n"
     ]
    },
    {
     "name": "stderr",
     "output_type": "stream",
     "text": [
      "Estrazione date:  15%|█▍        | 157/1060 [00:17<01:55,  7.84it/s]"
     ]
    },
    {
     "name": "stdout",
     "output_type": "stream",
     "text": [
      "⚠️ Nessuna data trovata per: Francesco Salvi\n",
      "🟨 Estrazione data di nascita per: Paolo Vallesi\n",
      "🟨 Estrazione data di nascita per: Pierangelo Bertoli\n",
      "🟨 Estrazione data di nascita per: Paolo Mengoli\n",
      "⚠️ Nessuna data trovata per: Gigi Sabani\n",
      "🟨 Estrazione data di nascita per: Enzo Ghinazzi\n"
     ]
    },
    {
     "name": "stderr",
     "output_type": "stream",
     "text": [
      "Estrazione date:  15%|█▌        | 160/1060 [00:17<01:19, 11.39it/s]"
     ]
    },
    {
     "name": "stdout",
     "output_type": "stream",
     "text": [
      "⚠️ Nessuna data trovata per: Renato Carosone\n",
      "🟨 Estrazione data di nascita per: Cristiano De André\n",
      "⚠️ Nessuna data trovata per: Enzo Jannacci\n",
      "🟨 Estrazione data di nascita per: Biagio Antonacci\n",
      "⚠️ Nessuna data trovata per: Riccardo Cocciante\n",
      "🟨 Estrazione data di nascita per: Andrea Mingardi\n"
     ]
    },
    {
     "name": "stderr",
     "output_type": "stream",
     "text": [
      "Estrazione date:  15%|█▌        | 162/1060 [00:17<01:36,  9.33it/s]"
     ]
    },
    {
     "name": "stdout",
     "output_type": "stream",
     "text": [
      "⚠️ Nessuna data trovata per: Marco Masini\n",
      "🟨 Estrazione data di nascita per: Roberto Murolo\n",
      "⚠️ Nessuna data trovata per: Renato Zero\n",
      "🟨 Estrazione data di nascita per: Alessandro Canino\n"
     ]
    },
    {
     "name": "stderr",
     "output_type": "stream",
     "text": [
      "Estrazione date:  15%|█▌        | 164/1060 [00:18<01:41,  8.84it/s]"
     ]
    },
    {
     "name": "stdout",
     "output_type": "stream",
     "text": [
      "⚠️ Nessuna data trovata per: Umberto Tozzi\n",
      "🟨 Estrazione data di nascita per: Aleandro Baldi\n",
      "⚠️ Nessuna data trovata per: Paolo Vallesi\n",
      "🟨 Estrazione data di nascita per: Giorgio Faletti\n"
     ]
    },
    {
     "name": "stderr",
     "output_type": "stream",
     "text": [
      "Estrazione date:  16%|█▌        | 168/1060 [00:18<01:37,  9.14it/s]"
     ]
    },
    {
     "name": "stdout",
     "output_type": "stream",
     "text": [
      "⚠️ Nessuna data trovata per: Pierangelo Bertoli\n",
      "🟨 Estrazione data di nascita per: Alessandro Bono\n",
      "⚠️ Nessuna data trovata per: Paolo Mengoli\n",
      "🟨 Estrazione data di nascita per: Carlo Marrale\n",
      "🟨 Estrazione data di nascita per: Andrea Bocelli\n",
      "⚠️ Nessuna data trovata per: Andrea Mingardi\n",
      "🟨 Estrazione data di nascita per: Fiorello\n",
      "⚠️ Nessuna data trovata per: Biagio Antonacci\n",
      "🟨 Estrazione data di nascita per: Danilo Amerio\n"
     ]
    },
    {
     "name": "stderr",
     "output_type": "stream",
     "text": [
      "Estrazione date:  16%|█▌        | 172/1060 [00:19<01:43,  8.59it/s]"
     ]
    },
    {
     "name": "stdout",
     "output_type": "stream",
     "text": [
      "⚠️ Nessuna data trovata per: Roberto Murolo\n",
      "🟨 Estrazione data di nascita per: Giò Di Tonno\n",
      "⚠️ Nessuna data trovata per: Enzo Ghinazzi\n",
      "🟨 Estrazione data di nascita per: Massimo Di Cataldo\n",
      "⚠️ Nessuna data trovata per: Alessandro Canino\n",
      "🟨 Estrazione data di nascita per: Federico Salvatore\n",
      "⚠️ Nessuna data trovata per: Aleandro Baldi\n",
      "🟨 Estrazione data di nascita per: Gigi Finizio\n"
     ]
    },
    {
     "name": "stderr",
     "output_type": "stream",
     "text": [
      "Estrazione date:  17%|█▋        | 177/1060 [00:19<01:27, 10.09it/s]"
     ]
    },
    {
     "name": "stdout",
     "output_type": "stream",
     "text": [
      "⚠️ Nessuna data trovata per: Giorgio Faletti\n",
      "🟨 Estrazione data di nascita per: Fedele Boccassini\n",
      "⚠️ Nessuna data trovata per: Alessandro Bono\n",
      "🟨 Estrazione data di nascita per: Nek\n",
      "⚠️ Nessuna data trovata per: Carlo Marrale\n",
      "🟨 Estrazione data di nascita per: Francesco Baccini\n",
      "⚠️ Nessuna data trovata per: Andrea Bocelli\n",
      "🟨 Estrazione data di nascita per: Alessandro Mara\n"
     ]
    },
    {
     "name": "stderr",
     "output_type": "stream",
     "text": [
      "Estrazione date:  17%|█▋        | 179/1060 [00:19<01:24, 10.42it/s]"
     ]
    },
    {
     "name": "stdout",
     "output_type": "stream",
     "text": [
      "⚠️ Nessuna data trovata per: Danilo Amerio\n",
      "🟨 Estrazione data di nascita per: Alessandro Errico\n"
     ]
    },
    {
     "name": "stderr",
     "output_type": "stream",
     "text": [
      "Estrazione date:  17%|█▋        | 181/1060 [00:19<01:30,  9.67it/s]"
     ]
    },
    {
     "name": "stdout",
     "output_type": "stream",
     "text": [
      "⚠️ Nessuna data trovata per: Fiorello\n",
      "🟨 Estrazione data di nascita per: Leandro Barsotti\n",
      "⚠️ Nessuna data trovata per: Giò Di Tonno\n",
      "🟨 Estrazione data di nascita per: Maurizio Lauzi\n",
      "⚠️ Nessuna data trovata per: Massimo Di Cataldo\n",
      "🟨 Estrazione data di nascita per: Luca Sepe\n"
     ]
    },
    {
     "name": "stderr",
     "output_type": "stream",
     "text": [
      "Estrazione date:  17%|█▋        | 183/1060 [00:20<01:30,  9.69it/s]"
     ]
    },
    {
     "name": "stdout",
     "output_type": "stream",
     "text": [
      "⚠️ Nessuna data trovata per: Federico Salvatore\n",
      "🟨 Estrazione data di nascita per: Niccolò Fabi\n",
      "⚠️ Nessuna data trovata per: Gigi Finizio\n",
      "🟨 Estrazione data di nascita per: Alex Baroni\n"
     ]
    },
    {
     "name": "stderr",
     "output_type": "stream",
     "text": [
      "Estrazione date:  18%|█▊        | 186/1060 [00:20<01:40,  8.71it/s]"
     ]
    },
    {
     "name": "stdout",
     "output_type": "stream",
     "text": [
      "⚠️ Nessuna data trovata per: Fedele Boccassini\n",
      "🟨 Estrazione data di nascita per: Daniele Silvestri\n",
      "⚠️ Nessuna data trovata per: Nek\n",
      "🟨 Estrazione data di nascita per: Gatto Panceri\n",
      "⚠️ Nessuna data trovata per: Alessandro Mara\n",
      "🟨 Estrazione data di nascita per: Gianluca Grignani\n"
     ]
    },
    {
     "name": "stderr",
     "output_type": "stream",
     "text": [
      "Estrazione date:  18%|█▊        | 189/1060 [00:20<01:15, 11.55it/s]"
     ]
    },
    {
     "name": "stdout",
     "output_type": "stream",
     "text": [
      "⚠️ Nessuna data trovata per: Francesco Baccini\n",
      "🟨 Estrazione data di nascita per: Max Gazzè\n",
      "⚠️ Nessuna data trovata per: Alessandro Errico\n",
      "🟨 Estrazione data di nascita per: Samuele Bersani\n"
     ]
    },
    {
     "name": "stderr",
     "output_type": "stream",
     "text": [
      "Estrazione date:  18%|█▊        | 193/1060 [00:21<01:23, 10.39it/s]"
     ]
    },
    {
     "name": "stdout",
     "output_type": "stream",
     "text": [
      "⚠️ Nessuna data trovata per: Maurizio Lauzi⚠️ Nessuna data trovata per: Leandro Barsotti\n",
      "🟨 Estrazione data di nascita per: Gigi D'Alessio\n",
      "\n",
      "🟨 Estrazione data di nascita per: Alex Britti\n",
      "⚠️ Nessuna data trovata per: Luca Sepe\n",
      "🟨 Estrazione data di nascita per: Fabio Concato\n",
      "⚠️ Nessuna data trovata per: Niccolò Fabi\n",
      "🟨 Estrazione data di nascita per: Francesco Renga\n",
      "⚠️ Nessuna data trovata per: Alex Baroni\n",
      "🟨 Estrazione data di nascita per: Alessandro Safina\n"
     ]
    },
    {
     "name": "stderr",
     "output_type": "stream",
     "text": [
      "Estrazione date:  19%|█▊        | 197/1060 [00:21<01:31,  9.39it/s]"
     ]
    },
    {
     "name": "stdout",
     "output_type": "stream",
     "text": [
      "⚠️ Nessuna data trovata per: Daniele Silvestri\n",
      "🟨 Estrazione data di nascita per: Sergio Cammariere\n",
      "⚠️ Nessuna data trovata per: Gatto Panceri\n",
      "🟨 Estrazione data di nascita per: Mario Rosini\n",
      "⚠️ Nessuna data trovata per: Gianluca Grignani\n",
      "🟨 Estrazione data di nascita per: Paolo Meneguzzi\n",
      "⚠️ Nessuna data trovata per: Max Gazzè\n",
      "🟨 Estrazione data di nascita per: Bungaro\n"
     ]
    },
    {
     "name": "stderr",
     "output_type": "stream",
     "text": [
      "Estrazione date:  19%|█▉        | 199/1060 [00:21<01:22, 10.40it/s]"
     ]
    },
    {
     "name": "stdout",
     "output_type": "stream",
     "text": [
      "⚠️ Nessuna data trovata per: Samuele Bersani\n",
      "🟨 Estrazione data di nascita per: Stefano Picchi\n"
     ]
    },
    {
     "name": "stderr",
     "output_type": "stream",
     "text": [
      "Estrazione date:  19%|█▉        | 203/1060 [00:22<01:20, 10.65it/s]"
     ]
    },
    {
     "name": "stdout",
     "output_type": "stream",
     "text": [
      "⚠️ Nessuna data trovata per: Alex Britti\n",
      "🟨 Estrazione data di nascita per: Neffa\n",
      "🟨 Estrazione data di nascita per: Mario Venuti\n",
      "⚠️ Nessuna data trovata per: Francesco Renga\n",
      "🟨 Estrazione data di nascita per: DJ Francesco\n",
      "⚠️ Nessuna data trovata per: Fabio Concato\n",
      "🟨 Estrazione data di nascita per: Simone Tomassini\n",
      "⚠️ Nessuna data trovata per: Alessandro Safina\n",
      "🟨 Estrazione data di nascita per: Omar Pedrini\n"
     ]
    },
    {
     "name": "stderr",
     "output_type": "stream",
     "text": [
      "Estrazione date:  20%|█▉        | 207/1060 [00:22<01:36,  8.83it/s]"
     ]
    },
    {
     "name": "stdout",
     "output_type": "stream",
     "text": [
      "⚠️ Nessuna data trovata per: Mario Rosini\n",
      "🟨 Estrazione data di nascita per: Daniele Groff\n",
      "⚠️ Nessuna data trovata per: Sergio Cammariere\n",
      "🟨 Estrazione data di nascita per: Adriano Pappalardo\n",
      "⚠️ Nessuna data trovata per: Bungaro\n",
      "🟨 Estrazione data di nascita per: Andrè\n",
      "⚠️ Nessuna data trovata per: Paolo Meneguzzi\n",
      "🟨 Estrazione data di nascita per: Christian Lo Zito\n",
      "⚠️ Nessuna data trovata per: Stefano Picchi\n",
      "🟨 Estrazione data di nascita per: Piotta\n"
     ]
    },
    {
     "name": "stderr",
     "output_type": "stream",
     "text": [
      "Estrazione date:  20%|██        | 212/1060 [00:23<01:27,  9.67it/s]"
     ]
    },
    {
     "name": "stdout",
     "output_type": "stream",
     "text": [
      "⚠️ Nessuna data trovata per: Mario Venuti\n",
      "🟨 Estrazione data di nascita per: Christian\n",
      "⚠️ Nessuna data trovata per: Neffa\n",
      "🟨 Estrazione data di nascita per: Nicola Arigliano\n",
      "⚠️ Nessuna data trovata per: Simone Tomassini\n",
      "🟨 Estrazione data di nascita per: Max De Angelis\n",
      "❌ Errore Wikipedia su: Christian Lo Zito — Page id \"Christian Lo Zito\" does not match any pages. Try another id!\n",
      "🟨 Estrazione data di nascita per: Enrico Boccadoro\n",
      "🟨 Estrazione data di nascita per: Povia\n"
     ]
    },
    {
     "name": "stderr",
     "output_type": "stream",
     "text": [
      "Estrazione date:  20%|██        | 217/1060 [00:23<01:24, 10.03it/s]"
     ]
    },
    {
     "name": "stdout",
     "output_type": "stream",
     "text": [
      "⚠️ Nessuna data trovata per: Daniele Groff\n",
      "🟨 Estrazione data di nascita per: Riccardo Maffoni\n",
      "⚠️ Nessuna data trovata per: Adriano Pappalardo\n",
      "🟨 Estrazione data di nascita per: Simone Cristicchi\n",
      "⚠️ Nessuna data trovata per: DJ Francesco\n",
      "🟨 Estrazione data di nascita per: I Ragazzi di Scampia con Gigi Finizio\n",
      "❌ Errore Wikipedia su: Piotta — \"Piotta\" may refer to: \n",
      "Piotta\n",
      "Piotta\n",
      "Piotta\n",
      "🟨 Estrazione data di nascita per: Bassano\n"
     ]
    },
    {
     "name": "stderr",
     "output_type": "stream",
     "text": [
      "Estrazione date:  21%|██        | 224/1060 [00:24<01:07, 12.47it/s]"
     ]
    },
    {
     "name": "stdout",
     "output_type": "stream",
     "text": [
      "⚠️ Nessuna data trovata per: Nicola Arigliano\n",
      "🟨 Estrazione data di nascita per: Luca Dirisio\n",
      "❌ Errore Wikipedia su: I Ragazzi di Scampia con Gigi Finizio — Page id \"I Ragazzi di Scampia con Gigi Finizio\" does not match any pages. Try another id!\n",
      "🟨 Estrazione data di nascita per: Ivan Segreto\n",
      "⚠️ Nessuna data trovata per: Max De Angelis\n",
      "⚠️ Nomi multipli rilevati, salto: Mario Venuti e Arancia Sonora\n",
      "🟨 Estrazione data di nascita per: Antonello\n",
      "❌ Errore Wikipedia su: Christian — \"Christian\" may refer to: \n",
      "Christian XXX\n",
      "Christian Corrêa Dionísio\n",
      "Christian\n",
      "Christian\n",
      "Adolf Christian\n",
      "Alex Christian\n",
      "Bob Christian\n",
      "Brendan Christian\n",
      "Charlie Christian\n",
      "Claudia Christian\n",
      "Cody Christian\n",
      "Dave Christian\n",
      "Eckhard Christian\n",
      "Edward Christian\n",
      "Fletcher Christian\n",
      "Frederick Christian\n",
      "Gerda Christian\n",
      "Gloria Christian\n",
      "Gordy Christian\n",
      "Greg Christian\n",
      "James Christian\n",
      "Jarell Christian\n",
      "Kaitlyn Christian\n",
      "Linda Christian\n",
      "Marc Christian\n",
      "Mark Christian\n",
      "Ranjae Christian\n",
      "Roger Christian\n",
      "Shawn Christian\n",
      "Stephen Christian\n",
      "Thursday October Christian\n",
      "Thursday October Christian II\n",
      "Cristiano\n",
      "Christian\n",
      "Christian\n",
      "Christian\n",
      "Cristian\n",
      "Wikizionario\n",
      "\n",
      "🟨 Estrazione data di nascita per: Piero Mazzocchetti\n",
      "⚠️ Nessuna data trovata per: Enrico Boccadoro\n",
      "🟨 Estrazione data di nascita per: Francesco con Roby Facchinetti\n",
      "❌ Errore Wikipedia su: Andrè — \"Andre\" may refer to: \n",
      "Andre\n",
      "André\n",
      "André\n",
      "Andrè\n",
      "André\n",
      "André\n",
      "André\n",
      "André\n",
      "Andrè\n",
      "Albert André\n",
      "Carl Andre\n",
      "Carole André\n",
      "Édouard-François André\n",
      "John André\n",
      "Lona Andre\n",
      "Maurice André\n",
      "Nilson Andrè\n",
      "Olbis Futo Andrè\n",
      "Paolo Emilio Andrè\n",
      "Peter Andre\n",
      "Vittorio André\n",
      "William Andre\n",
      "Yves-Marie André\n",
      "Andrea\n",
      "Andrè\n",
      "André\n",
      "André\n",
      "André\n",
      "André\n",
      "Andre - Un amico con le pinne\n",
      "🟨 Estrazione data di nascita per: Paolo Rossi\n",
      "⚠️ Nessuna data trovata per: Povia\n",
      "🟨 Estrazione data di nascita per: Johnny Dorelli\n"
     ]
    },
    {
     "name": "stderr",
     "output_type": "stream",
     "text": [
      "Estrazione date:  22%|██▏       | 229/1060 [00:24<01:11, 11.69it/s]"
     ]
    },
    {
     "name": "stdout",
     "output_type": "stream",
     "text": [
      "⚠️ Nessuna data trovata per: Riccardo Maffoni\n",
      "🟨 Estrazione data di nascita per: Fabrizio Moro\n",
      "⚠️ Nessuna data trovata per: Simone Cristicchi\n",
      "🟨 Estrazione data di nascita per: Eugenio Bennato\n",
      "❌ Errore Wikipedia su: Francesco con Roby Facchinetti — Page id \"Francesco con Roby Facchinetti\" does not match any pages. Try another id!\n",
      "🟨 Estrazione data di nascita per: Frankie hi-nrg mc\n"
     ]
    },
    {
     "name": "stderr",
     "output_type": "stream",
     "text": [
      "Estrazione date:  22%|██▏       | 231/1060 [00:25<01:35,  8.71it/s]"
     ]
    },
    {
     "name": "stdout",
     "output_type": "stream",
     "text": [
      "❌ Errore Wikipedia su: Bassano — \"Bassano\" may refer to: \n",
      "Bassano Bresciano\n",
      "Bassano del Grappa\n",
      "Bassano in Teverina\n",
      "Bassano Romano\n",
      "Laghetto di Bassano\n",
      "Bassano\n",
      "Nova Bassano\n",
      "Bassiano\n",
      "Bassano\n",
      "Bassano\n",
      "Bassano\n",
      "Bassano\n",
      "Francesco Bassano il Vecchio\n",
      "Francesco Bassano il Giovane\n",
      "Gerolamo Bassano\n",
      "Jacopo Bassano\n",
      "Leandro Bassano (1557-1622) – pittore italiano, figlio di Jacopo\n",
      "Antonio Bassano\n",
      "Carlo Bassano\n",
      "Cesare Bassano\n",
      "Enrico Bassano\n",
      "Giovanni Bassano\n",
      "Giuseppa Bassano\n",
      "Jeronimo Bassano\n",
      "Ugo Bassano\n",
      "Bassano\n",
      "Bassano\n",
      "Battaglia di Bassano\n",
      "Battaglione alpini Bassano\n",
      "Bassano\n",
      "6460 Bassano\n",
      "Bassani\n",
      "Basso\n",
      "Bassus\n",
      "Bassiano\n",
      "🟨 Estrazione data di nascita per: Marco Carta\n",
      "⚠️ Nessuna data trovata per: Luca Dirisio\n",
      "🟨 Estrazione data di nascita per: Sal Da Vinci\n",
      "⚠️ Nessuna data trovata per: Piero Mazzocchetti\n",
      "🟨 Estrazione data di nascita per: Gemelli DiVersi\n",
      "⚠️ Nessuna data trovata per: Ivan Segreto\n",
      "🟨 Estrazione data di nascita per: Valerio Scanu\n"
     ]
    },
    {
     "name": "stderr",
     "output_type": "stream",
     "text": [
      "Estrazione date:  22%|██▏       | 236/1060 [00:25<01:16, 10.72it/s]"
     ]
    },
    {
     "name": "stdout",
     "output_type": "stream",
     "text": [
      "⚠️ Nessuna data trovata per: Antonello\n",
      "🟨 Estrazione data di nascita per: Marco Mengoni\n",
      "❌ Errore Wikipedia su: Paolo Rossi — \"Paolo Rossi\" may refer to: \n",
      "Paolo Rossi\n",
      "Paolo Rossi\n",
      "Paolo Rossi\n",
      "Paolo Rossi\n",
      "Paolo Rossi\n",
      "Paolo Rossi\n",
      "Paolo Alberto Rossi\n",
      "Paolo Mario Rossi\n",
      "Paolo Rossi Monti\n",
      "Omicidio di Paolo Rossi\n",
      "🟨 Estrazione data di nascita per: Davide Van De Sfroos\n",
      "⚠️ Nessuna data trovata per: Johnny Dorelli\n",
      "🟨 Estrazione data di nascita per: Max Pezzali\n"
     ]
    },
    {
     "name": "stderr",
     "output_type": "stream",
     "text": [
      "Estrazione date:  22%|██▏       | 238/1060 [00:25<01:14, 10.97it/s]"
     ]
    },
    {
     "name": "stdout",
     "output_type": "stream",
     "text": [
      "⚠️ Nessuna data trovata per: Eugenio Bennato\n",
      "🟨 Estrazione data di nascita per: Raphael Gualazzi\n",
      "⚠️ Nessuna data trovata per: Fabrizio Moro\n",
      "🟨 Estrazione data di nascita per: Antoine\n",
      "⚠️ Nessuna data trovata per: Frankie hi-nrg mc\n",
      "🟨 Estrazione data di nascita per: Renzo Rubino\n"
     ]
    },
    {
     "name": "stderr",
     "output_type": "stream",
     "text": [
      "Estrazione date:  23%|██▎       | 243/1060 [00:26<01:30,  9.00it/s]"
     ]
    },
    {
     "name": "stdout",
     "output_type": "stream",
     "text": [
      "⚠️ Nessuna data trovata per: Marco Carta\n",
      "🟨 Estrazione data di nascita per: Francesco Sarcina\n",
      "⚠️ Nessuna data trovata per: Sal Da Vinci\n",
      "🟨 Estrazione data di nascita per: Giuliano Palma\n",
      "⚠️ Nessuna data trovata per: Gemelli DiVersi\n",
      "🟨 Estrazione data di nascita per: Riccardo Sinigallia\n",
      "⚠️ Nessuna data trovata per: Valerio Scanu\n",
      "🟨 Estrazione data di nascita per: Lorenzo Fragola\n"
     ]
    },
    {
     "name": "stderr",
     "output_type": "stream",
     "text": [
      "Estrazione date:  23%|██▎       | 245/1060 [00:26<01:19, 10.22it/s]"
     ]
    },
    {
     "name": "stdout",
     "output_type": "stream",
     "text": [
      "⚠️ Nessuna data trovata per: Marco Mengoni\n",
      "🟨 Estrazione data di nascita per: Nesli\n",
      "⚠️ Nessuna data trovata per: Davide Van De Sfroos\n",
      "🟨 Estrazione data di nascita per: Andrea Ori\n",
      "⚠️ Nessuna data trovata per: Raphael Gualazzi\n",
      "🟨 Estrazione data di nascita per: Clementino\n"
     ]
    },
    {
     "name": "stderr",
     "output_type": "stream",
     "text": [
      "Estrazione date:  23%|██▎       | 247/1060 [00:26<01:20, 10.16it/s]"
     ]
    },
    {
     "name": "stdout",
     "output_type": "stream",
     "text": [
      "🟨 Estrazione data di nascita per: Rocco Hunt\n",
      "❌ Errore Wikipedia su: Antoine — \"Antoine\" may refer to: \n",
      "Antoine\n",
      "Antonio\n",
      "Antoine\n",
      "DJ Antoine\n",
      "Alphonse Antoine\n",
      "André Antoine\n",
      "André Antoine\n",
      "Carnejy Antoine\n",
      "Eduard Antoine\n",
      "Franz Antoine\n",
      "antoinismo\n",
      "Lyndon Antoine\n",
      "Matthew Antoine\n",
      "Paul Gabriel Antoine\n",
      "Roger Antoine\n",
      "Antoine\n",
      "🟨 Estrazione data di nascita per: Alessio Bernabei\n",
      "⚠️ Nessuna data trovata per: Renzo Rubino\n",
      "🟨 Estrazione data di nascita per: Francesco Gabbani\n"
     ]
    },
    {
     "name": "stderr",
     "output_type": "stream",
     "text": [
      "Estrazione date:  24%|██▍       | 252/1060 [00:27<01:21,  9.97it/s]"
     ]
    },
    {
     "name": "stdout",
     "output_type": "stream",
     "text": [
      "❌ Errore Wikipedia su: Andrea Ori — Page id \"Andrea Ori\" does not match any pages. Try another id!\n",
      "🟨 Estrazione data di nascita per: Ermal Meta\n",
      "⚠️ Nessuna data trovata per: Francesco Sarcina\n",
      "🟨 Estrazione data di nascita per: Michele Bravi\n",
      "⚠️ Nessuna data trovata per: Giuliano Palma\n",
      "🟨 Estrazione data di nascita per: Sergio Sylvestre\n"
     ]
    },
    {
     "name": "stderr",
     "output_type": "stream",
     "text": [
      "Estrazione date:  24%|██▍       | 254/1060 [00:27<01:17, 10.46it/s]"
     ]
    },
    {
     "name": "stdout",
     "output_type": "stream",
     "text": [
      "⚠️ Nessuna data trovata per: Riccardo Sinigallia\n",
      "🟨 Estrazione data di nascita per: Anastasio\n",
      "⚠️ Nessuna data trovata per: Lorenzo Fragola\n",
      "🟨 Estrazione data di nascita per: Giovanni Caccamo\n",
      "⚠️ Nessuna data trovata per: Nesli\n",
      "🟨 Estrazione data di nascita per: Red Canzian\n"
     ]
    },
    {
     "name": "stderr",
     "output_type": "stream",
     "text": [
      "Estrazione date:  24%|██▍       | 256/1060 [00:27<01:29,  9.01it/s]"
     ]
    },
    {
     "name": "stdout",
     "output_type": "stream",
     "text": [
      "❌ Errore Wikipedia su: Clementino — \"Clementino\" may refer to: \n",
      "Clementino\n",
      "Clementino\n",
      "Collegio Clementino\n",
      "Clementino\n",
      "Danilo Clementino\n",
      "San Clementino\n",
      "Tauro Clementino Armonio Clementino\n",
      "🟨 Estrazione data di nascita per: Mario Biondi\n",
      "⚠️ Nessuna data trovata per: Rocco Hunt\n",
      "🟨 Estrazione data di nascita per: Mahmood\n",
      "⚠️ Nessuna data trovata per: Alessio Bernabei\n",
      "🟨 Estrazione data di nascita per: Irama\n",
      "⚠️ Nessuna data trovata per: Francesco Gabbani\n",
      "🟨 Estrazione data di nascita per: Achille Lauro\n"
     ]
    },
    {
     "name": "stderr",
     "output_type": "stream",
     "text": [
      "Estrazione date:  25%|██▍       | 261/1060 [00:28<01:25,  9.38it/s]"
     ]
    },
    {
     "name": "stdout",
     "output_type": "stream",
     "text": [
      "🟨 Estrazione data di nascita per: Enrico Nigiotti\n",
      "⚠️ Nessuna data trovata per: Michele Bravi\n",
      "🟨 Estrazione data di nascita per: Ghemon\n",
      "⚠️ Nessuna data trovata per: Sergio Sylvestre\n",
      "🟨 Estrazione data di nascita per: Alessandro\n"
     ]
    },
    {
     "name": "stderr",
     "output_type": "stream",
     "text": [
      "Estrazione date:  25%|██▍       | 263/1060 [00:28<01:27,  9.13it/s]"
     ]
    },
    {
     "name": "stdout",
     "output_type": "stream",
     "text": [
      "❌ Errore Wikipedia su: Anastasio — \"Anastasio\" may refer to: \n",
      "Anastasio\n",
      "Anastasio\n",
      "Anastasio\n",
      "Anastasio\n",
      "Anastasio\n",
      "Anastasio\n",
      "Anastasio\n",
      "Papa Anastasio I\n",
      "Papa Anastasio II\n",
      "Papa Anastasio III\n",
      "Papa Anastasio IV\n",
      "Antipapa Anastasio III\n",
      "Anastasio I Dicoro\n",
      "Anastasio II\n",
      "Anastasio bibliotecario\n",
      "Anastasio\n",
      "Armando Anastasio\n",
      "Sant'Anastasio\n",
      "🟨 Estrazione data di nascita per: Einar\n",
      "⚠️ Nessuna data trovata per: Red Canzian\n",
      "🟨 Estrazione data di nascita per: Diodato\n",
      "❌ Errore Wikipedia su: Giovanni Caccamo — \"Giovanni Caccamo\" may refer to: \n",
      "Giovanni Caccamo\n",
      "Giovanni Caccamo\n",
      "🟨 Estrazione data di nascita per: Piero Pelù\n"
     ]
    },
    {
     "name": "stderr",
     "output_type": "stream",
     "text": [
      "Estrazione date:  25%|██▌       | 268/1060 [00:28<01:18, 10.04it/s]"
     ]
    },
    {
     "name": "stdout",
     "output_type": "stream",
     "text": [
      "⚠️ Nessuna data trovata per: Mahmood\n",
      "🟨 Estrazione data di nascita per: Alberto Beltrami\n",
      "❌ Errore Wikipedia su: Mario Biondi — \"Mario Biondi\" may refer to: \n",
      "Mario Biondi\n",
      "Mario Biondi\n",
      "Mario Biondi\n",
      "🟨 Estrazione data di nascita per: Alberto Urso\n",
      "⚠️ Nessuna data trovata per: Irama\n",
      "🟨 Estrazione data di nascita per: Paolo Jannacci\n",
      "❌ Errore Wikipedia su: Achille Lauro — \"Achille Lauro\" may refer to: \n",
      "Achille Lauro\n",
      "Achille Lauro\n",
      "Achille Lauro\n",
      "Achille Lauro\n",
      "🟨 Estrazione data di nascita per: Junior Cally\n"
     ]
    },
    {
     "name": "stderr",
     "output_type": "stream",
     "text": [
      "Estrazione date:  25%|██▌       | 270/1060 [00:29<01:14, 10.66it/s]"
     ]
    },
    {
     "name": "stdout",
     "output_type": "stream",
     "text": [
      "⚠️ Nessuna data trovata per: Enrico Nigiotti\n",
      "🟨 Estrazione data di nascita per: Riki\n",
      "⚠️ Nessuna data trovata per: Ghemon\n",
      "🟨 Estrazione data di nascita per: Willie Peyote\n"
     ]
    },
    {
     "name": "stderr",
     "output_type": "stream",
     "text": [
      "Estrazione date:  26%|██▌       | 272/1060 [00:29<01:16, 10.30it/s]"
     ]
    },
    {
     "name": "stdout",
     "output_type": "stream",
     "text": [
      "❌ Errore Wikipedia su: Alberto Beltrami — Page id \"Alberto Beltrami\" does not match any pages. Try another id!\n",
      "🟨 Estrazione data di nascita per: Fulminacci\n",
      "❌ Errore Wikipedia su: Alessandro — \"Alessandro\" may refer to: \n",
      "Alessandro Magno\n",
      "Alessandro di Fere\n",
      "Alessandro\n",
      "Alessandro\n",
      "Alessandro\n",
      "Alessandro\n",
      "Alessandro\n",
      "Alessandro\n",
      "Alessandro\n",
      "Lucio Domizio Alessandro\n",
      "Marco Giulio Alessandro\n",
      "Sulpicio Alessandro\n",
      "Tiberio Giulio Alessandro\n",
      "Alessandro\n",
      "Papa Alessandro I\n",
      "Alessandro di Alessandria\n",
      "Alessandro d'Alessandro\n",
      "Alessandro Poerio\n",
      "Alessandro\n",
      "Antonella Alessandro\n",
      "Bruno Alessandro\n",
      "Alessandro\n",
      "Alessandro\n",
      "Alessandro\n",
      "Alessandro\n",
      "Alessandro\n",
      "Alessandro I\n",
      "Alessandro II\n",
      "Alessandro III\n",
      "Alessandro IV\n",
      "Alessandro V\n",
      "Papa Alessandro\n",
      "Sant'Alessandro\n",
      "Alex\n",
      "Alexander\n",
      "Alessandra (disambigua)\n",
      "Alessandria (disambigua)\n",
      "Wikizionario\n",
      "\n",
      "🟨 Estrazione data di nascita per: Fasma\n"
     ]
    },
    {
     "name": "stderr",
     "output_type": "stream",
     "text": [
      "Estrazione date:  26%|██▌       | 275/1060 [00:29<01:27,  8.95it/s]"
     ]
    },
    {
     "name": "stdout",
     "output_type": "stream",
     "text": [
      "❌ Errore Wikipedia su: Einar — \"Einar\" may refer to: \n",
      "Einar\n",
      "Einar\n",
      "Einar\n",
      "Einár\n",
      "🟨 Estrazione data di nascita per: Gio Evan\n",
      "❌ Errore Wikipedia su: Diodato — \"Diodato\" may refer to: \n",
      "Adeodato\n",
      "Diodato\n",
      "Diodato\n",
      "Diodato\n",
      "Roberta Diodato\n",
      "Diodati (disambigua)\n",
      "Deodato\n",
      "🟨 Estrazione data di nascita per: Bugo\n",
      "⚠️ Nessuna data trovata per: Piero Pelù\n",
      "🟨 Estrazione data di nascita per: Aiello\n"
     ]
    },
    {
     "name": "stderr",
     "output_type": "stream",
     "text": [
      "Estrazione date:  26%|██▋       | 279/1060 [00:29<01:05, 11.84it/s]"
     ]
    },
    {
     "name": "stdout",
     "output_type": "stream",
     "text": [
      "⚠️ Nessuna data trovata per: Alberto Urso\n",
      "🟨 Estrazione data di nascita per: Dargen D'Amico\n",
      "⚠️ Nessuna data trovata per: Paolo Jannacci\n",
      "🟨 Estrazione data di nascita per: Matteo Romano\n",
      "⚠️ Nessuna data trovata per: Junior Cally\n",
      "🟨 Estrazione data di nascita per: AKA 7even\n"
     ]
    },
    {
     "name": "stderr",
     "output_type": "stream",
     "text": [
      "Estrazione date:  27%|██▋       | 281/1060 [00:30<01:30,  8.60it/s]"
     ]
    },
    {
     "name": "stdout",
     "output_type": "stream",
     "text": [
      "❌ Errore Wikipedia su: Riki — \"Riki\" may refer to: \n",
      "Riki\n",
      "Iván Sánchez-Rico Soto\n",
      "Rickey\n",
      "Ricky\n",
      "🟨 Estrazione data di nascita per: Rkomi\n",
      "⚠️ Nessuna data trovata per: Willie Peyote\n",
      "🟨 Estrazione data di nascita per: Giovanni Truppi\n",
      "⚠️ Nessuna data trovata per: Fulminacci\n",
      "🟨 Estrazione data di nascita per: Yuman\n",
      "⚠️ Nessuna data trovata per: Fasma\n",
      "🟨 Estrazione data di nascita per: Tananai\n"
     ]
    },
    {
     "name": "stderr",
     "output_type": "stream",
     "text": [
      "Estrazione date:  27%|██▋       | 286/1060 [00:30<01:20,  9.61it/s]"
     ]
    },
    {
     "name": "stdout",
     "output_type": "stream",
     "text": [
      "⚠️ Nessuna data trovata per: Gio Evan\n",
      "🟨 Estrazione data di nascita per: Lazza\n",
      "⚠️ Nessuna data trovata per: Bugo\n",
      "🟨 Estrazione data di nascita per: Mr. Rain\n",
      "⚠️ Nessuna data trovata per: Dargen D'Amico\n",
      "🟨 Estrazione data di nascita per: Rosa Chemical\n"
     ]
    },
    {
     "name": "stderr",
     "output_type": "stream",
     "text": [
      "Estrazione date:  27%|██▋       | 288/1060 [00:30<01:17, 10.00it/s]"
     ]
    },
    {
     "name": "stdout",
     "output_type": "stream",
     "text": [
      "❌ Errore Wikipedia su: Aiello — \"Aiello\" may refer to: \n",
      "Aiello Calabro\n",
      "Aiello del Friuli\n",
      "Aiello del Sabato\n",
      "Aiello\n",
      "Aiello\n",
      "Aiello\n",
      "Andrea Aiello\n",
      "Arturo Aiello\n",
      "Barbara Aiello\n",
      "Danny Aiello\n",
      "Davide Aiello\n",
      "Elena Aiello\n",
      "Ferdinando Aiello\n",
      "Giambattista Aiello\n",
      "Giovanni Aiello\n",
      "Joe Aiello\n",
      "Laurent Aiello\n",
      "Maurizio Aiello\n",
      "Michele Aiello\n",
      "Pier Francesco Aiello\n",
      "Piera Aiello\n",
      "Piero Aiello\n",
      "Rosaria Aiello\n",
      "Stevie Aiello\n",
      "Aiello\n",
      "Giovanni d'Aiello\n",
      "Renato D'Aiello\n",
      "D'Aiello\n",
      "🟨 Estrazione data di nascita per: LDA\n",
      "⚠️ Nessuna data trovata per: Matteo Romano\n",
      "🟨 Estrazione data di nascita per: Leo Gassmann\n",
      "⚠️ Nessuna data trovata per: AKA 7even\n",
      "🟨 Estrazione data di nascita per: Gianmaria\n"
     ]
    },
    {
     "name": "stderr",
     "output_type": "stream",
     "text": [
      "Estrazione date:  29%|██▉       | 309/1060 [00:31<00:21, 34.65it/s]"
     ]
    },
    {
     "name": "stdout",
     "output_type": "stream",
     "text": [
      "⚠️ Nessuna data trovata per: Rkomi\n",
      "🟨 Estrazione data di nascita per: Olly\n",
      "⚠️ Nessuna data trovata per: Yuman\n",
      "🟨 Estrazione data di nascita per: Sethu\n",
      "⚠️ Nessuna data trovata per: Giovanni Truppi\n",
      "⚠️ Nomi multipli rilevati, salto: Nilla Pizzi e Achille Togliani\n",
      "⚠️ Nomi multipli rilevati, salto: Achille Togliani e Duo Fasano\n",
      "⚠️ Nomi multipli rilevati, salto: Wilma Goich - Dino\n",
      "⚠️ Nomi multipli rilevati, salto: Carla Boni - Quartetto Stars\n",
      "⚠️ Nomi multipli rilevati, salto: Nilla Pizzi - Teddy Reno\n",
      "⚠️ Nomi multipli rilevati, salto: Katyna Ranieri - Achille Togliani\n",
      "⚠️ Nomi multipli rilevati, salto: Umberto Bindi - Miranda Martino\n",
      "⚠️ Nomi multipli rilevati, salto: Jula de Palma - Antonio Basurto\n",
      "⚠️ Nomi multipli rilevati, salto: Bruno Pallesi - Jula de Palma\n",
      "⚠️ Nomi multipli rilevati, salto: Gianni Marzocchi e Clara Vincenzi\n",
      "⚠️ Nomi multipli rilevati, salto: Gianni Marzocchi e Franca Raimondi\n",
      "⚠️ Nomi multipli rilevati, salto: Gino Latilla - Tonina Torrielli\n",
      "⚠️ Nomi multipli rilevati, salto: Gino Latilla - Nilla Pizzi\n",
      "⚠️ Nomi multipli rilevati, salto: Claudio Villa - Nilla Pizzi\n",
      "⚠️ Nomi multipli rilevati, salto: Carla Boni - Giorgio Consolini\n",
      "⚠️ Nomi multipli rilevati, salto: Marisa Del Frate - Giorgio Consolini\n",
      "🟨 Estrazione data di nascita per: Ron (con Tosca non accreditata)\n",
      "⚠️ Nessuna data trovata per: Tananai\n",
      "⚠️ Nomi multipli rilevati, salto: Fausto Cigliano - Nilla Pizzi\n",
      "⚠️ Nomi multipli rilevati, salto: Claudio Villa - Betty Curtis\n",
      "⚠️ Nomi multipli rilevati, salto: Ricky Gianco - Jody Miller\n",
      "⚠️ Nomi multipli rilevati, salto: Wilma De Angelis - Joe Sentieri\n",
      "⚠️ Nomi multipli rilevati, salto: Teddy Reno - Mina\n",
      "⚠️ Nomi multipli rilevati, salto: Johnny Dorelli - Jula de Palma\n",
      "⚠️ Nomi multipli rilevati, salto: Johnny Dorelli - Betty Curtis\n",
      "⚠️ Nomi multipli rilevati, salto: Tonina Torrielli - Arturo Testa\n",
      "⚠️ Nomi multipli rilevati, salto: Achille Togliani - Nilla Pizzi\n",
      "⚠️ Nomi multipli rilevati, salto: Betty Curtis - Luciano Tajoli\n",
      "⚠️ Nomi multipli rilevati, salto: Milva - Gino Latilla\n",
      "⚠️ Nomi multipli rilevati, salto: Arturo Testa - Tonina Torrielli\n",
      "⚠️ Nomi multipli rilevati, salto: Pierfilippi - Cocky Mazzetti\n",
      "⚠️ Nomi multipli rilevati, salto: Bruno Martino - Jula de Palma\n",
      "⚠️ Nomi multipli rilevati, salto: Giorgio Gaber - Maria Monti\n",
      "⚠️ Nomi multipli rilevati, salto: Miranda Martino - Jimmy Fontana\n",
      "⚠️ Nomi multipli rilevati, salto: Gianni Meccia - Wilma De Angelis\n",
      "⚠️ Nomi multipli rilevati, salto: Tony Renis - Niki Davis\n",
      "⚠️ Nomi multipli rilevati, salto: Peppino Di Capri - Dionne Warwick\n",
      "⚠️ Nomi multipli rilevati, salto: Carla Boni - Aurelio Fierro\n",
      "⚠️ Nomi multipli rilevati, salto: Sergio Bruni - Milva\n",
      "⚠️ Nomi multipli rilevati, salto: Rossana - Gian Costello\n",
      "⚠️ Nomi multipli rilevati, salto: Luciano Tajoli - Betty Curtis\n",
      "⚠️ Nomi multipli rilevati, salto: Gesy Sebena - Giacomo Rondinella\n",
      "⚠️ Nomi multipli rilevati, salto: Gene Colonnello - Gloria Christian\n",
      "⚠️ Nomi multipli rilevati, salto: Johnny Dorelli - Gloria Christian\n",
      "⚠️ Nomi multipli rilevati, salto: Nunzio Gallo - Bruna Lelli\n",
      "⚠️ Nomi multipli rilevati, salto: Orietta Berti - Les Compagnons de la Chanson\n",
      "⚠️ Nomi multipli rilevati, salto: Aura D'Angelo - Claudio Villa\n",
      "⚠️ Nomi multipli rilevati, salto: Pino Donaggio - Cocky Mazzetti\n",
      "⚠️ Nomi multipli rilevati, salto: Wilma De Angelis - Johnny Dorelli\n",
      "⚠️ Nomi multipli rilevati, salto: Milva - Luciano Tajoli\n",
      "⚠️ Nomi multipli rilevati, salto: Aura D'Angelo - Arturo Testa\n",
      "⚠️ Nomi multipli rilevati, salto: Tony Renis - Cocky Mazzetti\n",
      "⚠️ Nomi multipli rilevati, salto: Natalino Otto - Vittoria Mongardi\n",
      "⚠️ Nomi multipli rilevati, salto: Giorgio Gaber - Patricia Carli\n",
      "⚠️ Nomi multipli rilevati, salto: Cocky Mazzetti - Los Hermanos Rigual\n",
      "⚠️ Nomi multipli rilevati, salto: Claudio Villa - Peggy March\n",
      "⚠️ Nomi multipli rilevati, salto: Aurelio Fierro - Marina Moran\n",
      "⚠️ Nomi multipli rilevati, salto: Lilly Bonato - Richard Moser jr.\n",
      "⚠️ Nomi multipli rilevati, salto: Bobby Solo - The New Christy Minstrels\n",
      "⚠️ Nomi multipli rilevati, salto: Ornella Vanoni - Udo Jürgens\n",
      "⚠️ Nomi multipli rilevati, salto: Fred Bongusto - Kiki Dee\n",
      "⚠️ Nomi multipli rilevati, salto: Pino Donaggio - Jody Miller\n",
      "⚠️ Nomi multipli rilevati, salto: Bruno Filippini - Yukari Ito\n",
      "⚠️ Nomi multipli rilevati, salto: Wilma Goich - The New Christy Minstrels\n",
      "⚠️ Nomi multipli rilevati, salto: Vittorio Inzaina - Les Surfs\n",
      "⚠️ Nomi multipli rilevati, salto: Milva - Bernd Spier\n",
      "⚠️ Nomi multipli rilevati, salto: Milva - Richard Anthony\n",
      "⚠️ Nomi multipli rilevati, salto: Gianni Mascolo - Dusty Springfield\n",
      "⚠️ Nomi multipli rilevati, salto: Milva - Gianni Lacommare\n",
      "⚠️ Nomi multipli rilevati, salto: Iva Zanicchi - Gene Pitney\n",
      "⚠️ Nomi multipli rilevati, salto: Beppe Cardile - Anita Harris\n",
      "⚠️ Nomi multipli rilevati, salto: Peppino Gagliardi - Timi Yuro\n",
      "⚠️ Nomi multipli rilevati, salto: Fabrizio Ferretti - Dusty Springfield\n",
      "⚠️ Nomi multipli rilevati, salto: Domenico Modugno - Gigliola Cinquetti\n",
      "⚠️ Nomi multipli rilevati, salto: Caterina Caselli - Gene Pitney\n",
      "⚠️ Nomi multipli rilevati, salto: Wilma Goich - Les Surfs\n",
      "⚠️ Nomi multipli rilevati, salto: Anna Identici - The New Christy Minstrels\n",
      "⚠️ Nomi multipli rilevati, salto: Edoardo Vianello - Françoise Hardy\n",
      "⚠️ Nomi multipli rilevati, salto: Iva Zanicchi - Vic Dana\n",
      "⚠️ Nomi multipli rilevati, salto: Luciana Turina - Gino\n",
      "⚠️ Nomi multipli rilevati, salto: Michele - Lucia Rizzi\n",
      "⚠️ Nomi multipli rilevati, salto: Anna Marchetti - Plinio Maggi\n",
      "⚠️ Nomi multipli rilevati, salto: Maurizio & Fabrizio - Protagonisti\n",
      "⚠️ Nomi multipli rilevati, salto: Claudio Villa - Iva Zanicchi\n",
      "⚠️ Nomi multipli rilevati, salto: Annarita Spinaci - Les Surfs\n",
      "⚠️ Nomi multipli rilevati, salto: Ornella Vanoni - Mario Guarnera\n",
      "⚠️ Nomi multipli rilevati, salto: Pino Donaggio - Carmen Villani\n",
      "⚠️ Nomi multipli rilevati, salto: Wilma Goich - The Bachelors\n",
      "⚠️ Nomi multipli rilevati, salto: Bobby Solo - Connie Francis\n",
      "⚠️ Nomi multipli rilevati, salto: Riki Maiocchi - Marianne Faithfull\n",
      "⚠️ Nomi multipli rilevati, salto: Luigi Tenco - Dalida\n",
      "⚠️ Nomi multipli rilevati, salto: Roberta Amadei - Carmelo Pagano\n",
      "⚠️ Nomi multipli rilevati, salto: Tony Del Monaco - Betty Curtis\n",
      "⚠️ Nomi multipli rilevati, salto: Fred Bongusto - Anna German\n",
      "⚠️ Nomi multipli rilevati, salto: Nico Fidenco - Cher\n",
      "⚠️ Nomi multipli rilevati, salto: Mario Abbate - Flo Sandon's\n",
      "⚠️ Nomi multipli rilevati, salto: Donatella Moretti - Bobby Goldsboro\n",
      "⚠️ Nomi multipli rilevati, salto: Adriano Celentano - Milva\n",
      "⚠️ Nomi multipli rilevati, salto: Al Bano - Bobbie Gentry\n",
      "⚠️ Nomi multipli rilevati, salto: Louis Armstrong - Lara Saint Paul\n",
      "⚠️ Nomi multipli rilevati, salto: Tony Del Monaco - Dionne Warwick\n",
      "⚠️ Nomi multipli rilevati, salto: Peppino Gagliardi - Eartha Kitt\n",
      "⚠️ Nomi multipli rilevati, salto: Mango e Zenîma\n",
      "⚠️ Nomi multipli rilevati, salto: Elio Gandolfi - Shirley Bassey\n",
      "⚠️ Nomi multipli rilevati, salto: Pino Donaggio - Timi Yuro\n",
      "⚠️ Nomi multipli rilevati, salto: Giusy Romeo - Sacha Distel\n",
      "⚠️ Nomi multipli rilevati, salto: Iva Zanicchi - Udo Jürgens\n",
      "⚠️ Nomi multipli rilevati, salto: Orietta Berti - Piergiorgio Farina\n",
      "⚠️ Nomi multipli rilevati, salto: Bobby Solo - Iva Zanicchi\n",
      "⚠️ Nomi multipli rilevati, salto: Sergio Endrigo - Mary Hopkin\n",
      "⚠️ Nomi multipli rilevati, salto: Don Backy - Milva\n",
      "⚠️ Nomi multipli rilevati, salto: Caterina Caselli - Johnny Dorelli\n",
      "⚠️ Nomi multipli rilevati, salto: Orietta Berti - Massimo Ranieri\n",
      "⚠️ Nomi multipli rilevati, salto: Rosanna Fratello - Brenton Wood\n",
      "⚠️ Nomi multipli rilevati, salto: Armando Savini - Sonia\n",
      "⚠️ Nomi multipli rilevati, salto: Gabriella Ferri - Stevie Wonder\n",
      "⚠️ Nomi multipli rilevati, salto: Memo Remigi - Isabella Iannetti\n",
      "⚠️ Nomi multipli rilevati, salto: Adriano Celentano - Claudia Mori\n",
      "⚠️ Nomi multipli rilevati, salto: Sergio Endrigo - Iva Zanicchi\n",
      "⚠️ Nomi multipli rilevati, salto: Ornella Vanoni - Camaleonti\n",
      "⚠️ Nomi multipli rilevati, salto: Patty Pravo - Little Tony\n",
      "⚠️ Nomi multipli rilevati, salto: Gigliola Cinquetti - Bobby Solo\n",
      "⚠️ Nomi multipli rilevati, salto: Rosalino Cellamare - Nada\n",
      "⚠️ Nomi multipli rilevati, salto: Antoine - Anna Identici\n",
      "⚠️ Nomi multipli rilevati, salto: Orietta Berti - Mario Tessuto\n",
      "⚠️ Nomi multipli rilevati, salto: Fausto Leali - Carmen Villani\n",
      "⚠️ Nomi multipli rilevati, salto: Nino Ferrer - Caterina Caselli\n",
      "⚠️ Nomi multipli rilevati, salto: Pino Donaggio - Sandie Shaw\n",
      "⚠️ Nomi multipli rilevati, salto: Rosanna Fratello - I Domodossola\n",
      "⚠️ Nomi multipli rilevati, salto: Emiliana Perina - Gens\n",
      "⚠️ Nomi multipli rilevati, salto: Nada - Nicola Di Bari\n",
      "⚠️ Nomi multipli rilevati, salto: Domenico Modugno - Carmen Villani\n",
      "⚠️ Nomi multipli rilevati, salto: Al Bano - Aguaviva\n",
      "⚠️ Nomi multipli rilevati, salto: Gigliola Cinquetti - Ray Conniff\n",
      "⚠️ Nomi multipli rilevati, salto: Caterina Caselli - Dik Dik\n",
      "⚠️ Nomi multipli rilevati, salto: Rosanna Fratello - Nino Ferrer\n",
      "⚠️ Nomi multipli rilevati, salto: Laura Villa - Los Hermanos Rigual\n",
      "⚠️ Nomi multipli rilevati, salto: Jula de Palma - Tony Dallara\n",
      "⚠️ Nomi multipli rilevati, salto: John Foster - Paola Bertoni\n",
      "⚠️ Nomi multipli rilevati, salto: Joe Sentieri - Betty Curtis\n",
      "⚠️ Nomi multipli rilevati, salto: Ricchi e Poveri con I Nostri Figli\n",
      "⚠️ Nomi multipli rilevati, salto: Gino Latilla - Natalino Otto\n",
      "⚠️ Nomi multipli rilevati, salto: Gino Latilla - Miranda Martino\n",
      "⚠️ Nomi multipli rilevati, salto: Gino Baldi - Jula de Palma\n",
      "⚠️ Nomi multipli rilevati, salto: Gianni Ravera - Natalino Otto\n",
      "⚠️ Nomi multipli rilevati, salto: Gianni Nazzaro - Marisa Sannia\n",
      "⚠️ Nomi multipli rilevati, salto: Gianni Lacommare - Tonina Torrielli\n",
      "⚠️ Nomi multipli rilevati, salto: Germana Caroli - Arturo Testa\n",
      "⚠️ Nomi multipli rilevati, salto: Franco e le Piccole Donne\n",
      "⚠️ Nomi multipli rilevati, salto: Flo Sandon's - Mario D'Alba\n",
      "🟨 Estrazione data di nascita per: Fiordaliso con Claudio Cabrini\n"
     ]
    },
    {
     "name": "stderr",
     "output_type": "stream",
     "text": [
      "Estrazione date:  42%|████▏     | 442/1060 [00:31<00:02, 229.57it/s]"
     ]
    },
    {
     "name": "stdout",
     "output_type": "stream",
     "text": [
      "⚠️ Nessuna data trovata per: Lazza\n",
      "⚠️ Nomi multipli rilevati, salto: Fausto Cigliano - Jenny Luna\n",
      "⚠️ Nomi multipli rilevati, salto: Fausto Cigliano - Irene D'Areni\n",
      "⚠️ Nomi multipli rilevati, salto: Donatello - Marisa Sannia\n",
      "⚠️ Nomi multipli rilevati, salto: Don Miko - Timi Yuro\n",
      "⚠️ Nomi multipli rilevati, salto: Anna Oxa e Fausto Leali\n",
      "⚠️ Nomi multipli rilevati, salto: Amedeo Minghi e Mietta\n",
      "⚠️ Nomi multipli rilevati, salto: Franco Fasano e Flavia Fortunato\n",
      "⚠️ Nomi multipli rilevati, salto: Peppino di Capri e Pietra Montecorvino\n",
      "⚠️ Nomi multipli rilevati, salto: Giorgio Faletti e Orietta Berti\n",
      "⚠️ Nomi multipli rilevati, salto: Mietta e Ragazzi di Via Meda\n",
      "⚠️ Nomi multipli rilevati, salto: Gianni Morandi e Barbara Cola\n",
      "⚠️ Nomi multipli rilevati, salto: Sabina Guzzanti e La Riserva Indiana\n",
      "⚠️ Nomi multipli rilevati, salto: Cocky Mazzetti - Joe Sentieri\n",
      "⚠️ Nomi multipli rilevati, salto: Cocky Mazzetti - Achille Togliani\n",
      "🟨 Estrazione data di nascita per: Enzo Gragnaniello con Ornella Vanoni\n"
     ]
    },
    {
     "name": "stderr",
     "output_type": "stream",
     "text": [
      "Estrazione date:  44%|████▍     | 470/1060 [00:31<00:03, 161.66it/s]"
     ]
    },
    {
     "name": "stdout",
     "output_type": "stream",
     "text": [
      "⚠️ Nessuna data trovata per: Rosa Chemical\n",
      "⚠️ Nomi multipli rilevati, salto: Mariella Nava e Amedeo Minghi\n",
      "⚠️ Nomi multipli rilevati, salto: Fausto Leali e Luisa Corna\n",
      "⚠️ Nomi multipli rilevati, salto: Enrico Ruggeri e Andrea Mirò\n",
      "⚠️ Nomi multipli rilevati, salto: Anna Tatangelo e Federico Stragà\n",
      "⚠️ Nomi multipli rilevati, salto: Morris Albert e Mietta\n",
      "⚠️ Nomi multipli rilevati, salto: Danny Losito e Las Ketchup\n",
      "🟨 Estrazione data di nascita per: Toto Cutugno con Annalisa Minetti\n",
      "⚠️ Nessuna data trovata per: Mr. Rain\n",
      "⚠️ Nomi multipli rilevati, salto: Arturo Testa - Jolanda Rossin\n",
      "⚠️ Nomi multipli rilevati, salto: Giò Di Tonno e Lola Ponce\n",
      "⚠️ Nomi multipli rilevati, salto: Nicky Nicolai e Stefano Di Battista\n",
      "🟨 Estrazione data di nascita per: Irene Fornaciari feat. Nomadi\n",
      "❌ Errore Wikipedia su: Ron (con Tosca non accreditata) — Page id \"Ron (con Tosca non accreditata)\" does not match any pages. Try another id!\n",
      "🟨 Estrazione data di nascita per: Nino D'Angelo con Maria Nazionale\n",
      "❌ Errore Wikipedia su: Fiordaliso con Claudio Cabrini — Page id \"Fiordaliso con Claudio Cabrini\" does not match any pages. Try another id!\n",
      "🟨 Estrazione data di nascita per: Modà con Emma\n",
      "⚠️ Nessuna data trovata per: Leo Gassmann\n",
      "⚠️ Nomi multipli rilevati, salto: Luca Barbarossa e Raquel del Rosario\n",
      "⚠️ Nomi multipli rilevati, salto: Gigi D'Alessio e Loredana Bertè\n",
      "🟨 Estrazione data di nascita per: Simona Molinari con Peter Cincotti\n",
      "⚠️ Nessuna data trovata per: Gianmaria\n",
      "⚠️ Nomi multipli rilevati, salto: Anna Identici - The Sandpipers\n",
      "⚠️ Nomi multipli rilevati, salto: Anna D'Amico - Natalino Otto\n",
      "⚠️ Nomi multipli rilevati, salto: Grazia Di Michele e Mauro Coruzzi\n",
      "⚠️ Nomi multipli rilevati, salto: Giovanni Caccamo e Deborah Iurato\n",
      "🟨 Estrazione data di nascita per: Nesli & Alice Paba\n",
      "❌ Errore Wikipedia su: Enzo Gragnaniello con Ornella Vanoni — Page id \"Enzo Gragnaniello con Ornella Vanoni\" does not match any pages. Try another id!\n",
      "⚠️ Nomi multipli rilevati, salto: Raige e Giulia Luzi\n",
      "🟨 Estrazione data di nascita per: Alexia feat. Mario Lavezzi\n",
      "❌ Errore Wikipedia su: Toto Cutugno con Annalisa Minetti — Page id \"Toto Cutugno con Annalisa Minetti\" does not match any pages. Try another id!\n",
      "⚠️ Nomi multipli rilevati, salto: Federica Carta e Shade\n",
      "🟨 Estrazione data di nascita per: Patty Pravo con Briga\n"
     ]
    },
    {
     "name": "stderr",
     "output_type": "stream",
     "text": [
      "Estrazione date:  46%|████▋     | 492/1060 [00:32<00:05, 106.92it/s]"
     ]
    },
    {
     "name": "stdout",
     "output_type": "stream",
     "text": [
      "❌ Errore Wikipedia su: Nino D'Angelo con Maria Nazionale — Page id \"Nino D'Angelo con Maria Nazionale\" does not match any pages. Try another id!\n",
      "⚠️ Nomi multipli rilevati, salto: Francesca Michielin e Fedez\n",
      "⚠️ Nomi multipli rilevati, salto: Achille Togliani - Teddy Reno\n",
      "🟨 Estrazione data di nascita per: Extraliscio feat. Davide Toffolo\n",
      "❌ Errore Wikipedia su: Irene Fornaciari feat. Nomadi — Page id \"Irene Fornaciari feat. Nomadi\" does not match any pages. Try another id!\n",
      "⚠️ Nomi multipli rilevati, salto: Achille Togliani - Natalino Otto\n",
      "⚠️ Nomi multipli rilevati, salto: Achille Togliani - Gianni Ravera\n",
      "⚠️ Nomi multipli rilevati, salto: Highsnob e Hu\n",
      "🟨 Estrazione data di nascita per: Achille Lauro con Harlem Gospel Choir\n",
      "❌ Errore Wikipedia su: Modà con Emma — Page id \"Modà con Emma\" does not match any pages. Try another id!\n",
      "🟨 Estrazione data di nascita per: Nilla Pizzi\n",
      "⚠️ Nessuna data trovata per: Sethu\n",
      "⚠️ Nomi multipli rilevati, salto: Achille Togliani - Katyna Ranieri\n",
      "🟨 Estrazione data di nascita per: Veronica Ventavoli\n",
      "❌ Errore Wikipedia su: Simona Molinari con Peter Cincotti — Page id \"Simona Molinari con Peter Cincotti\" does not match any pages. Try another id!\n",
      "🟨 Estrazione data di nascita per: Vanna Leali\n",
      "❌ Errore Wikipedia su: Nesli & Alice Paba — Page id \"Nesli & Alice Paba\" does not match any pages. Try another id!\n",
      "🟨 Estrazione data di nascita per: Tosca\n",
      "❌ Errore Wikipedia su: Olly — \"Olly\" may refer to: \n",
      "Oliver\n",
      "Olly\n",
      "Olly\n",
      "Olly\n",
      "Ollie (disambigua)\n",
      "Holly\n",
      "Olli\n",
      "🟨 Estrazione data di nascita per: Franca Raimondi\n",
      "❌ Errore Wikipedia su: LDA — \"Lda\" may refer to: \n",
      "Litio diisopropilammide\n",
      "Legge sul diritto d'autore\n",
      "FIBA Americas League\n",
      "Liga Deportiva Alajuelense\n",
      "Linear discriminant analysis\n",
      "Latent Dirichlet allocation\n",
      "LDA\n",
      "Approssimazione di densità locale\n",
      "Laser Doppler anemometry\n",
      "Landing distance available\n",
      "Localizer-type Directional Aid\n",
      "Local delivery agent\n",
      "London Democratic Association\n",
      "London Development Agency\n",
      "🟨 Estrazione data di nascita per: Tonina Torrielli\n",
      "❌ Errore Wikipedia su: Alexia feat. Mario Lavezzi — Page id \"Alexia feat. Mario Lavezzi\" does not match any pages. Try another id!\n",
      "🟨 Estrazione data di nascita per: Luciana Gonzales\n",
      "❌ Errore Wikipedia su: Patty Pravo con Briga — Page id \"Patty Pravo con Briga\" does not match any pages. Try another id!\n",
      "🟨 Estrazione data di nascita per: Clara Vincenzi\n",
      "❌ Errore Wikipedia su: Extraliscio feat. Davide Toffolo — Page id \"Extraliscio feat. Davide Toffolo\" does not match any pages. Try another id!\n",
      "🟨 Estrazione data di nascita per: Stefania\n",
      "❌ Errore Wikipedia su: Achille Lauro con Harlem Gospel Choir — Page id \"Achille Lauro con Harlem Gospel Choir\" does not match any pages. Try another id!\n",
      "🟨 Estrazione data di nascita per: Spagna\n",
      "❌ Errore Wikipedia su: Veronica Ventavoli — Page id \"Veronica Ventavoli\" does not match any pages. Try another id!\n",
      "🟨 Estrazione data di nascita per: Sibilla\n",
      "❌ Errore Wikipedia su: Vanna Leali — Page id \"Vanna Leali\" does not match any pages. Try another id!\n",
      "🟨 Estrazione data di nascita per: Sabrina Guida\n",
      "❌ Errore Wikipedia su: Sabrina Guida — Page id \"Sabrina Guida\" does not match any pages. Try another id!\n",
      "🟨 Estrazione data di nascita per: Roberta\n",
      "⚠️ Nessuna data trovata per: Franca Raimondi\n",
      "🟨 Estrazione data di nascita per: Pinot\n",
      "⚠️ Nessuna data trovata per: Luciana Gonzales\n",
      "🟨 Estrazione data di nascita per: Patrizia Danzi\n",
      "❌ Errore Wikipedia su: Tosca — \"Tosca\" may refer to: \n",
      "Tosca\n",
      "Tosca\n",
      "Tosca\n",
      "Tosca\n",
      "Tosca\n",
      "Tosca\n",
      "Tosca\n",
      "Tosca\n",
      "Tosca\n",
      "Tosca\n",
      "Tosca\n",
      "Tosca ovvero prima dell'alba\n",
      "Tosca - Amore disperato\n",
      "Tosca\n",
      "Tosca\n",
      "Tosca\n",
      "La Tosca (disambigua)\n",
      "🟨 Estrazione data di nascita per: Nathalie\n",
      "⚠️ Nessuna data trovata per: Tonina Torrielli\n",
      "🟨 Estrazione data di nascita per: Monia Russo\n",
      "⚠️ Nessuna data trovata per: Nilla Pizzi\n",
      "🟨 Estrazione data di nascita per: Mela Lo Cicero\n",
      "⚠️ Nessuna data trovata per: Stefania\n",
      "🟨 Estrazione data di nascita per: Marinella\n"
     ]
    },
    {
     "name": "stderr",
     "output_type": "stream",
     "text": [
      "Estrazione date:  48%|████▊     | 509/1060 [00:33<00:12, 43.34it/s] "
     ]
    },
    {
     "name": "stdout",
     "output_type": "stream",
     "text": [
      "⚠️ Nessuna data trovata per: Clara Vincenzi\n",
      "🟨 Estrazione data di nascita per: Marcella\n",
      "⚠️ Nessuna data trovata per: Sibilla\n",
      "🟨 Estrazione data di nascita per: Mara\n",
      "⚠️ Nessuna data trovata per: Spagna\n",
      "🟨 Estrazione data di nascita per: Madame\n",
      "❌ Errore Wikipedia su: Patrizia Danzi — Page id \"Patrizia Danzi\" does not match any pages. Try another id!\n",
      "🟨 Estrazione data di nascita per: Lolita\n",
      "❌ Errore Wikipedia su: Monia Russo — Page id \"Monia Russo\" does not match any pages. Try another id!\n",
      "🟨 Estrazione data di nascita per: Levante\n",
      "❌ Errore Wikipedia su: Mela Lo Cicero — Page id \"Mela Lo Cicero\" does not match any pages. Try another id!\n",
      "🟨 Estrazione data di nascita per: Laura\n",
      "❌ Errore Wikipedia su: Pinot — \"Pinot\" may refer to: \n",
      "Charles Pinot Duclos\n",
      "Margaux Pinot\n",
      "Noël Pinot\n",
      "Pinot Gallizio\n",
      "Thibaut Pinot\n",
      "Pinot bianco\n",
      "Pinot grigio\n",
      "Pinot meunier\n",
      "Pinot nero\n",
      "🟨 Estrazione data di nascita per: Nada\n",
      "❌ Errore Wikipedia su: Roberta — \"Roberta\" may refer to: \n",
      "335 Roberta\n",
      "Intimo Roberta\n",
      "Roberta\n",
      "Roberta\n",
      "Roberta\n",
      "Roberta\n",
      "Roberta\n",
      "Roberta\n",
      "Roberta\n",
      "Roberta\n",
      "Roberta\n",
      "Roberta/Nustalgia\n",
      "Roberta\n",
      "Roberta\n",
      "Roberta\n",
      "Roberta\n",
      "Roberta\n",
      "Roberta\n",
      "Roberta\n",
      "Roberta\n",
      "Wikizionario\n",
      "\n",
      "🟨 Estrazione data di nascita per: Marcella Bella\n",
      "⚠️ Nessuna data trovata per: Nathalie\n",
      "🟨 Estrazione data di nascita per: Gigliola Cinquetti\n",
      "❌ Errore Wikipedia su: Marinella — \"Marinella\" may refer to: \n",
      "Marinella\n",
      "Marinella\n",
      "Marinella\n",
      "Marinella\n",
      "Santa Marinella\n",
      "Marinella di Selinunte\n",
      "Marinella di Sarzana\n",
      "Golfo di Marinella\n",
      "Marinella\n",
      "Marinella\n",
      "Marinella\n",
      "Marina\n",
      "Marinella\n",
      "E. Marinella\n",
      "Hotel Marinella\n",
      "La canzone di Marinella\n",
      "Wikizionario\n",
      "\n",
      "🟨 Estrazione data di nascita per: Milva\n",
      "⚠️ Nessuna data trovata per: Marcella\n",
      "🟨 Estrazione data di nascita per: Lara Saint Paul\n",
      "❌ Errore Wikipedia su: Madame — \"Madame\" may refer to: \n",
      "Madame\n",
      "Madame\n",
      "Madame\n",
      "Madame\n",
      "Madame\n",
      "Madame Sans-Gêne\n",
      "🟨 Estrazione data di nascita per: Rita Pavone\n"
     ]
    },
    {
     "name": "stderr",
     "output_type": "stream",
     "text": [
      "Estrazione date:  49%|████▉     | 521/1060 [00:35<00:19, 27.83it/s]"
     ]
    },
    {
     "name": "stdout",
     "output_type": "stream",
     "text": [
      "❌ Errore Wikipedia su: Levante — \"Levante\" may refer to: \n",
      "Maserati Levante\n",
      "orizzonte\n",
      "Levante\n",
      "Levante ligure\n",
      "Levante spagnolo\n",
      "Llevant\n",
      "Levante\n",
      "Levante\n",
      "Levante Unión Deportiva\n",
      "Levante\n",
      "Levante-EMV\n",
      "Levante\n",
      "🟨 Estrazione data di nascita per: Anna Identici\n",
      "❌ Errore Wikipedia su: Lolita — \"Lolita\" may refer to: \n",
      "Lolita\n",
      "Lolita\n",
      "Lolita\n",
      "Lolita - I peccati di Hollywood\n",
      "Lolita\n",
      "Lolita\n",
      "Lolita\n",
      "Lolita\n",
      "Lolita\n",
      "Lolita\n",
      "Lolita\n",
      "Lolita\n",
      "Lolita\n",
      "Lolita\n",
      "Lolita\n",
      "Lolita\n",
      "Lolita\n",
      "Lolita\n",
      "ipocoristica\n",
      "Lolita\n",
      "Moda Lolita\n",
      "🟨 Estrazione data di nascita per: Carla Bissi\n",
      "❌ Errore Wikipedia su: Mara — \"Mara\" may refer to: \n",
      "Mara\n",
      "Mara\n",
      "Mara\n",
      "Mara\n",
      "Mara\n",
      "Ieri, oggi, domani\n",
      "Mara\n",
      "Mara\n",
      "Mara\n",
      "Mara\n",
      "Mara\n",
      "Mara\n",
      "Mara\n",
      "Mara\n",
      "Mara\n",
      "Regione del Mara\n",
      "Mara\n",
      "Māra\n",
      "Mara\n",
      "Mara\n",
      "Mara\n",
      "Mara\n",
      "Mara\n",
      "Mara\n",
      "Mara\n",
      "Alessandro Mara\n",
      "Mara\n",
      "Mara/Replay\n",
      "Mara\n",
      "Mara\n",
      "Mara\n",
      "Mara\n",
      "Mara\n",
      "Mara\n",
      "Wikizionario\n",
      "\n",
      "🟨 Estrazione data di nascita per: Marisa Sacchetto\n",
      "❌ Errore Wikipedia su: Laura — \"Laura\" may refer to: \n",
      "Vertigine\n",
      "Laura\n",
      "Laura\n",
      "Laura\n",
      "Laura\n",
      "Laura\n",
      "Laura\n",
      "Laura\n",
      "Laura\n",
      "Laura\n",
      "L'Aura\n",
      "Laura\n",
      "Laura\n",
      "Laura\n",
      "Laura\n",
      "Laura\n",
      "Laura\n",
      "Laura\n",
      "Laura\n",
      "Laura\n",
      "Laura\n",
      "Laura\n",
      "Laura\n",
      "Laura\n",
      "Laura\n",
      "Laura\n",
      "Laura\n",
      "Laura\n",
      "Laura\n",
      "Laura\n",
      "Wikizionario\n",
      "\n",
      "🟨 Estrazione data di nascita per: Delia\n",
      "❌ Errore Wikipedia su: Nada — \"Nada\" may refer to: \n",
      "4106 Nada\n",
      "N-arachidonoildopamina\n",
      "Nada\n",
      "Sterminate \"Gruppo Zero\"\n",
      "Nada\n",
      "Nada\n",
      "Nada\n",
      "Nada\n",
      "Nada\n",
      "Nada\n",
      "Nada\n",
      "Nada\n",
      "Nada\n",
      "Nada!\n",
      "Nadia\n",
      "Lee Yun-Yeol\n",
      "Nada\n",
      "🟨 Estrazione data di nascita per: Julie\n",
      "⚠️ Nessuna data trovata per: Gigliola Cinquetti\n",
      "🟨 Estrazione data di nascita per: Gilda Giuliani\n",
      "⚠️ Nessuna data trovata per: Marcella Bella\n",
      "🟨 Estrazione data di nascita per: Carmen Amato\n"
     ]
    },
    {
     "name": "stderr",
     "output_type": "stream",
     "text": [
      "Estrazione date:  50%|█████     | 530/1060 [00:36<00:24, 21.88it/s]"
     ]
    },
    {
     "name": "stdout",
     "output_type": "stream",
     "text": [
      "⚠️ Nessuna data trovata per: Milva\n",
      "🟨 Estrazione data di nascita per: Iva Zanicchi\n",
      "⚠️ Nessuna data trovata per: Rita Pavone\n",
      "🟨 Estrazione data di nascita per: Orietta Berti\n",
      "⚠️ Nessuna data trovata per: Lara Saint Paul\n",
      "🟨 Estrazione data di nascita per: Anna Melato\n",
      "⚠️ Nessuna data trovata per: Anna Identici\n",
      "🟨 Estrazione data di nascita per: Emanuela Cortesi\n",
      "⚠️ Nessuna data trovata per: Marisa Sacchetto\n",
      "🟨 Estrazione data di nascita per: Valentina Greco\n",
      "❌ Errore Wikipedia su: Delia — \"Delia\" may refer to: \n",
      "Delia\n",
      "Delia\n",
      "Delia\n",
      "Delia\n",
      "Adrian Delia\n",
      "Alfred Delia\n",
      "Joe Delia\n",
      "Marcos Delía\n",
      "395 Delia\n",
      "Delia\n",
      "Delia\n",
      "parco archeologico e naturalistico di Santa Maria D'Agnano\n",
      "Cratere Delia\n",
      "carattere\n",
      "🟨 Estrazione data di nascita per: Rosanna Fratello\n"
     ]
    },
    {
     "name": "stderr",
     "output_type": "stream",
     "text": [
      "Estrazione date:  51%|█████     | 537/1060 [00:36<00:27, 18.70it/s]"
     ]
    },
    {
     "name": "stdout",
     "output_type": "stream",
     "text": [
      "⚠️ Nessuna data trovata per: Carmen Amato\n",
      "🟨 Estrazione data di nascita per: Donatella Rettore\n",
      "⚠️ Nessuna data trovata per: Gilda Giuliani\n",
      "🟨 Estrazione data di nascita per: Paola Musiani\n",
      "⚠️ Nessuna data trovata per: Carla Bissi\n",
      "🟨 Estrazione data di nascita per: Antonella Bottazzi\n",
      "❌ Errore Wikipedia su: Julie — \"Julie\" may refer to: \n",
      "nome proprio\n",
      "Julie d'Aubigny\n",
      "Julie\n",
      "Julie\n",
      "Bruno Julie\n",
      "Julie\n",
      "Julie\n",
      "Julia\n",
      "Jules\n",
      "🟨 Estrazione data di nascita per: Rossella\n"
     ]
    },
    {
     "name": "stderr",
     "output_type": "stream",
     "text": [
      "Estrazione date:  51%|█████     | 542/1060 [00:37<00:29, 17.51it/s]"
     ]
    },
    {
     "name": "stdout",
     "output_type": "stream",
     "text": [
      "⚠️ Nessuna data trovata per: Anna Melato\n",
      "🟨 Estrazione data di nascita per: Sonia Gigliola Conti\n",
      "⚠️ Nessuna data trovata per: Iva Zanicchi\n",
      "🟨 Estrazione data di nascita per: Angela Luce\n",
      "⚠️ Nessuna data trovata per: Emanuela Cortesi\n",
      "🟨 Estrazione data di nascita per: Emy Cesaroni\n",
      "⚠️ Nessuna data trovata per: Orietta Berti\n",
      "🟨 Estrazione data di nascita per: Helena Hellwig\n",
      "⚠️ Nessuna data trovata per: Valentina Greco\n",
      "🟨 Estrazione data di nascita per: Eva 2000\n",
      "⚠️ Nessuna data trovata per: Rosanna Fratello\n",
      "🟨 Estrazione data di nascita per: Annagloria\n"
     ]
    },
    {
     "name": "stderr",
     "output_type": "stream",
     "text": [
      "Estrazione date:  52%|█████▏    | 546/1060 [00:37<00:34, 14.74it/s]"
     ]
    },
    {
     "name": "stdout",
     "output_type": "stream",
     "text": [
      "❌ Errore Wikipedia su: Helena Hellwig — Page id \"Helena Hellwig\" does not match any pages. Try another id!\n",
      "🟨 Estrazione data di nascita per: Giovanna D'Angi\n",
      "❌ Errore Wikipedia su: Eva 2000 — Page id \"Eva 2000\" does not match any pages. Try another id!\n",
      "🟨 Estrazione data di nascita per: Leila Selli\n",
      "⚠️ Nessuna data trovata per: Donatella Rettore\n",
      "🟨 Estrazione data di nascita per: Nannarella\n",
      "⚠️ Nessuna data trovata per: Antonella Bottazzi\n",
      "🟨 Estrazione data di nascita per: Gloriana\n",
      "⚠️ Nessuna data trovata per: Paola Musiani\n",
      "🟨 Estrazione data di nascita per: Romina Power\n",
      "❌ Errore Wikipedia su: Rossella — \"Rossella\" may refer to: \n",
      "Rossella\n",
      "Rossella\n",
      "Carlo Rossella\n",
      "Daniela Rossella\n",
      "Valeria Rossella\n",
      "Rossella\n",
      "Rossella\n",
      "Rossella\n",
      "🟨 Estrazione data di nascita per: Maggie Mae\n"
     ]
    },
    {
     "name": "stderr",
     "output_type": "stream",
     "text": [
      "Estrazione date:  52%|█████▏    | 553/1060 [00:38<00:33, 15.05it/s]"
     ]
    },
    {
     "name": "stdout",
     "output_type": "stream",
     "text": [
      "⚠️ Nessuna data trovata per: Emy Cesaroni\n",
      "🟨 Estrazione data di nascita per: Gilda\n",
      "❌ Errore Wikipedia su: Giovanna D'Angi — Page id \"Giovanna D'Angi\" does not match any pages. Try another id!\n",
      "🟨 Estrazione data di nascita per: Anna Oxa\n",
      "⚠️ Nessuna data trovata per: Angela Luce\n",
      "🟨 Estrazione data di nascita per: Laura Luca\n",
      "⚠️ Nessuna data trovata per: Sonia Gigliola Conti\n",
      "🟨 Estrazione data di nascita per: Dora Moroni\n",
      "⚠️ Nessuna data trovata per: Annagloria\n",
      "🟨 Estrazione data di nascita per: Lorella Pescerelli\n"
     ]
    },
    {
     "name": "stderr",
     "output_type": "stream",
     "text": [
      "Estrazione date:  52%|█████▏    | 556/1060 [00:39<00:43, 11.46it/s]"
     ]
    },
    {
     "name": "stdout",
     "output_type": "stream",
     "text": [
      "⚠️ Nessuna data trovata per: Leila Selli\n",
      "🟨 Estrazione data di nascita per: Nicoletta Bauce\n",
      "⚠️ Nessuna data trovata per: Maggie Mae\n",
      "🟨 Estrazione data di nascita per: Gabriella Sanna\n",
      "⚠️ Nessuna data trovata per: Romina Power\n",
      "🟨 Estrazione data di nascita per: Sally Oldfield\n"
     ]
    },
    {
     "name": "stderr",
     "output_type": "stream",
     "text": [
      "Estrazione date:  53%|█████▎    | 560/1060 [00:39<00:45, 11.01it/s]"
     ]
    },
    {
     "name": "stdout",
     "output_type": "stream",
     "text": [
      "❌ Errore Wikipedia su: Gloriana — \"Gloriana\" may refer to: \n",
      "Gloriana\n",
      "Gloriana\n",
      "Gloriana\n",
      "Gloria\n",
      "Gloriana\n",
      "Gloriana\n",
      "Gloriana\n",
      "Gloriana\n",
      "🟨 Estrazione data di nascita per: Linda Lee\n",
      "⚠️ Nessuna data trovata per: Dora Moroni\n",
      "🟨 Estrazione data di nascita per: Loretta Goggi\n",
      "⚠️ Nessuna data trovata per: Laura Luca\n",
      "🟨 Estrazione data di nascita per: Fiorella Mannoia\n"
     ]
    },
    {
     "name": "stderr",
     "output_type": "stream",
     "text": [
      "Estrazione date:  53%|█████▎    | 564/1060 [00:39<00:37, 13.22it/s]"
     ]
    },
    {
     "name": "stdout",
     "output_type": "stream",
     "text": [
      "⚠️ Nessuna data trovata per: Anna Oxa\n",
      "🟨 Estrazione data di nascita per: Jò Chiarello\n",
      "❌ Errore Wikipedia su: Gilda — \"Gilda\" may refer to: \n",
      "Gilda\n",
      "Gilda spaziale\n",
      "Gilda\n",
      "Gilda\n",
      "Gilda\n",
      "Rigoletto\n",
      "Gilda\n",
      "Monster High\n",
      "Gilda\n",
      "Gilda degli insegnanti\n",
      "🟨 Estrazione data di nascita per: Lene Lovich\n",
      "❌ Errore Wikipedia su: Gabriella Sanna — Page id \"Gabriella Sanna\" does not match any pages. Try another id!\n",
      "🟨 Estrazione data di nascita per: Elisabetta Viviani\n",
      "⚠️ Nessuna data trovata per: Nannarella\n",
      "🟨 Estrazione data di nascita per: Mia Martini\n",
      "⚠️ Nessuna data trovata per: Lorella Pescerelli\n",
      "🟨 Estrazione data di nascita per: Viola Valentino\n"
     ]
    },
    {
     "name": "stderr",
     "output_type": "stream",
     "text": [
      "Estrazione date:  53%|█████▎    | 566/1060 [00:39<00:46, 10.63it/s]"
     ]
    },
    {
     "name": "stdout",
     "output_type": "stream",
     "text": [
      "⚠️ Nessuna data trovata per: Nicoletta Bauce\n",
      "🟨 Estrazione data di nascita per: Marina Lai\n",
      "⚠️ Nessuna data trovata per: Sally Oldfield\n",
      "🟨 Estrazione data di nascita per: Fiordaliso\n"
     ]
    },
    {
     "name": "stderr",
     "output_type": "stream",
     "text": [
      "Estrazione date:  54%|█████▎    | 568/1060 [00:40<00:50,  9.66it/s]"
     ]
    },
    {
     "name": "stdout",
     "output_type": "stream",
     "text": [
      "⚠️ Nessuna data trovata per: Linda Lee\n",
      "🟨 Estrazione data di nascita per: Tiziana Rivale\n"
     ]
    },
    {
     "name": "stderr",
     "output_type": "stream",
     "text": [
      "Estrazione date:  54%|█████▍    | 572/1060 [00:40<00:51,  9.53it/s]"
     ]
    },
    {
     "name": "stdout",
     "output_type": "stream",
     "text": [
      "⚠️ Nessuna data trovata per: Lene Lovich\n",
      "🟨 Estrazione data di nascita per: Donatella Milani\n",
      "⚠️ Nessuna data trovata per: Elisabetta Viviani\n",
      "🟨 Estrazione data di nascita per: Dori Ghezzi\n",
      "⚠️ Nessuna data trovata per: Loretta Goggi\n",
      "🟨 Estrazione data di nascita per: Amii Stewart\n",
      "⚠️ Nessuna data trovata per: Fiorella Mannoia\n",
      "🟨 Estrazione data di nascita per: Flavia Fortunato\n"
     ]
    },
    {
     "name": "stderr",
     "output_type": "stream",
     "text": [
      "Estrazione date:  54%|█████▍    | 574/1060 [00:40<00:46, 10.53it/s]"
     ]
    },
    {
     "name": "stdout",
     "output_type": "stream",
     "text": [
      "⚠️ Nessuna data trovata per: Viola Valentino\n",
      "🟨 Estrazione data di nascita per: Barbara Boncompagni\n",
      "🟨 Estrazione data di nascita per: Daniela Goggi\n"
     ]
    },
    {
     "name": "stderr",
     "output_type": "stream",
     "text": [
      "Estrazione date:  54%|█████▍    | 576/1060 [00:41<00:58,  8.34it/s]"
     ]
    },
    {
     "name": "stdout",
     "output_type": "stream",
     "text": [
      "⚠️ Nessuna data trovata per: Jò Chiarello\n",
      "🟨 Estrazione data di nascita per: Brunella Borciani\n",
      "❌ Errore Wikipedia su: Fiordaliso — \"Fiordaliso\" may refer to: \n",
      "Fiordaliso\n",
      "Fiordaliso delle Eolie\n",
      "Fiordaliso\n",
      "Fiordaliso\n",
      "Fiordaliso\n",
      "Fiordaliso\n",
      "Fiordaliso\n",
      "Marisa Fiordaliso\n",
      "giglio araldico\n",
      "Fiordaliso\n",
      "Blu fiordaliso\n",
      "Fiordaliso\n",
      "Wikizionario\n",
      "\n",
      "🟨 Estrazione data di nascita per: Patty Pravo\n",
      "⚠️ Nessuna data trovata per: Tiziana Rivale\n",
      "🟨 Estrazione data di nascita per: Marisa Sannia\n"
     ]
    },
    {
     "name": "stderr",
     "output_type": "stream",
     "text": [
      "Estrazione date:  55%|█████▍    | 580/1060 [00:41<00:47, 10.16it/s]"
     ]
    },
    {
     "name": "stdout",
     "output_type": "stream",
     "text": [
      "⚠️ Nessuna data trovata per: Marina Lai\n",
      "🟨 Estrazione data di nascita per: Loredana Bertè\n",
      "⚠️ Nessuna data trovata per: Donatella Milani\n",
      "🟨 Estrazione data di nascita per: Rossana Casale\n",
      "⚠️ Nessuna data trovata per: Dori Ghezzi\n",
      "🟨 Estrazione data di nascita per: Lena Biolcati\n"
     ]
    },
    {
     "name": "stderr",
     "output_type": "stream",
     "text": [
      "Estrazione date:  55%|█████▍    | 582/1060 [00:41<00:51,  9.33it/s]"
     ]
    },
    {
     "name": "stdout",
     "output_type": "stream",
     "text": [
      "⚠️ Nessuna data trovata per: Flavia Fortunato\n",
      "🟨 Estrazione data di nascita per: Ornella Vanoni\n",
      "⚠️ Nessuna data trovata per: Amii Stewart\n",
      "🟨 Estrazione data di nascita per: Marisa Laurito\n",
      "⚠️ Nessuna data trovata per: Barbara Boncompagni\n",
      "⚠️ Nomi multipli rilevati, salto: Marcella e Gianni Bella\n",
      "🟨 Estrazione data di nascita per: Caterina Caselli\n",
      "⚠️ Nessuna data trovata per: Daniela Goggi\n",
      "🟨 Estrazione data di nascita per: Paola Turci\n"
     ]
    },
    {
     "name": "stderr",
     "output_type": "stream",
     "text": [
      "Estrazione date:  55%|█████▌    | 586/1060 [00:42<00:43, 11.00it/s]"
     ]
    },
    {
     "name": "stdout",
     "output_type": "stream",
     "text": [
      "⚠️ Nessuna data trovata per: Brunella Borciani\n",
      "🟨 Estrazione data di nascita per: Grazia Di Michele\n"
     ]
    },
    {
     "name": "stderr",
     "output_type": "stream",
     "text": [
      "Estrazione date:  55%|█████▌    | 588/1060 [00:42<00:55,  8.46it/s]"
     ]
    },
    {
     "name": "stdout",
     "output_type": "stream",
     "text": [
      "⚠️ Nessuna data trovata per: Marisa Sannia\n",
      "🟨 Estrazione data di nascita per: Mietta\n",
      "⚠️ Nessuna data trovata per: Patty Pravo\n",
      "🟨 Estrazione data di nascita per: Daniela\n",
      "⚠️ Nessuna data trovata per: Rossana Casale\n",
      "🟨 Estrazione data di nascita per: Mariella Nava\n",
      "⚠️ Nessuna data trovata per: Lena Biolcati\n",
      "🟨 Estrazione data di nascita per: Lina Sastri\n",
      "🟨 Estrazione data di nascita per: Francesca Alotta\n"
     ]
    },
    {
     "name": "stderr",
     "output_type": "stream",
     "text": [
      "Estrazione date:  56%|█████▌    | 594/1060 [00:42<00:43, 10.71it/s]"
     ]
    },
    {
     "name": "stdout",
     "output_type": "stream",
     "text": [
      "⚠️ Nessuna data trovata per: Ornella Vanoni\n",
      "🟨 Estrazione data di nascita per: Jo Squillo\n",
      "⚠️ Nessuna data trovata per: Marisa Laurito\n",
      "🟨 Estrazione data di nascita per: Laura Pausini\n",
      "⚠️ Nessuna data trovata per: Caterina Caselli\n",
      "🟨 Estrazione data di nascita per: Gerardina Trovato\n",
      "⚠️ Nessuna data trovata per: Paola Turci\n",
      "🟨 Estrazione data di nascita per: Claudia Mori\n"
     ]
    },
    {
     "name": "stderr",
     "output_type": "stream",
     "text": [
      "Estrazione date:  56%|█████▌    | 596/1060 [00:43<00:41, 11.24it/s]"
     ]
    },
    {
     "name": "stdout",
     "output_type": "stream",
     "text": [
      "⚠️ Nessuna data trovata per: Grazia Di Michele\n",
      "🟨 Estrazione data di nascita per: Giorgia\n"
     ]
    },
    {
     "name": "stderr",
     "output_type": "stream",
     "text": [
      "Estrazione date:  57%|█████▋    | 600/1060 [00:43<00:46,  9.89it/s]"
     ]
    },
    {
     "name": "stdout",
     "output_type": "stream",
     "text": [
      "⚠️ Nessuna data trovata per: Mietta\n",
      "🟨 Estrazione data di nascita per: Ivana Spagna\n",
      "⚠️ Nessuna data trovata per: Daniela\n",
      "🟨 Estrazione data di nascita per: Lighea\n",
      "⚠️ Nessuna data trovata per: Lina Sastri\n",
      "🟨 Estrazione data di nascita per: Antonella Arancio\n",
      "⚠️ Nessuna data trovata per: Francesca Alotta\n",
      "🟨 Estrazione data di nascita per: Lorella Cuccarini\n",
      "⚠️ Nessuna data trovata per: Mariella Nava\n",
      "🟨 Estrazione data di nascita per: Francesca Schiavo\n"
     ]
    },
    {
     "name": "stderr",
     "output_type": "stream",
     "text": [
      "Estrazione date:  57%|█████▋    | 605/1060 [00:44<00:41, 10.84it/s]"
     ]
    },
    {
     "name": "stdout",
     "output_type": "stream",
     "text": [
      "⚠️ Nessuna data trovata per: Gerardina Trovato\n",
      "🟨 Estrazione data di nascita per: Valeria Visconti\n",
      "⚠️ Nessuna data trovata per: Jo Squillo\n",
      "🟨 Estrazione data di nascita per: Rossella Marcone\n",
      "⚠️ Nessuna data trovata per: Claudia Mori\n",
      "🟨 Estrazione data di nascita per: Raffaella Cavalli\n",
      "🟨 Estrazione data di nascita per: Syria\n",
      "❌ Errore Wikipedia su: Giorgia — \"Giorgia\" may refer to: \n",
      "Giorgia\n",
      "Giorgia\n",
      "Giorgia\n",
      "Giorgia\n",
      "Giorgia\n",
      "🟨 Estrazione data di nascita per: Silvia Salemi\n"
     ]
    },
    {
     "name": "stderr",
     "output_type": "stream",
     "text": [
      "Estrazione date:  58%|█████▊    | 610/1060 [00:44<00:43, 10.25it/s]"
     ]
    },
    {
     "name": "stdout",
     "output_type": "stream",
     "text": [
      "⚠️ Nessuna data trovata per: Lighea\n",
      "🟨 Estrazione data di nascita per: Marina Rei\n",
      "⚠️ Nessuna data trovata per: Ivana Spagna\n",
      "🟨 Estrazione data di nascita per: Carmen Consoli\n",
      "⚠️ Nessuna data trovata per: Antonella Arancio\n",
      "🟨 Estrazione data di nascita per: Olivia\n",
      "⚠️ Nessuna data trovata per: Francesca Schiavo\n",
      "🟨 Estrazione data di nascita per: Adriana Ruocco\n"
     ]
    },
    {
     "name": "stderr",
     "output_type": "stream",
     "text": [
      "Estrazione date:  58%|█████▊    | 612/1060 [00:44<00:48,  9.15it/s]"
     ]
    },
    {
     "name": "stdout",
     "output_type": "stream",
     "text": [
      "⚠️ Nessuna data trovata per: Lorella Cuccarini\n",
      "🟨 Estrazione data di nascita per: Petra Magoni\n",
      "⚠️ Nessuna data trovata per: Rossella Marcone\n",
      "🟨 Estrazione data di nascita per: Annalisa Minetti\n",
      "⚠️ Nessuna data trovata per: Valeria Visconti\n",
      "🟨 Estrazione data di nascita per: Antonella Ruggiero\n",
      "⚠️ Nessuna data trovata per: Raffaella Cavalli\n",
      "🟨 Estrazione data di nascita per: Lisa\n"
     ]
    },
    {
     "name": "stderr",
     "output_type": "stream",
     "text": [
      "Estrazione date:  58%|█████▊    | 615/1060 [00:44<00:36, 12.12it/s]"
     ]
    },
    {
     "name": "stdout",
     "output_type": "stream",
     "text": [
      "⚠️ Nessuna data trovata per: Syria\n",
      "🟨 Estrazione data di nascita per: Irene Grandi\n",
      "⚠️ Nessuna data trovata per: Silvia Salemi\n",
      "🟨 Estrazione data di nascita per: Elisa\n"
     ]
    },
    {
     "name": "stderr",
     "output_type": "stream",
     "text": [
      "Estrazione date:  58%|█████▊    | 617/1060 [00:45<00:55,  7.93it/s]"
     ]
    },
    {
     "name": "stdout",
     "output_type": "stream",
     "text": [
      "⚠️ Nessuna data trovata per: Marina Rei\n",
      "🟨 Estrazione data di nascita per: Jenny B\n",
      "⚠️ Nessuna data trovata per: Adriana Ruocco\n",
      "🟨 Estrazione data di nascita per: Alexia\n",
      "🟨 Estrazione data di nascita per: Filippa Giordano\n"
     ]
    },
    {
     "name": "stderr",
     "output_type": "stream",
     "text": [
      "Estrazione date:  59%|█████▊    | 621/1060 [00:45<00:45,  9.57it/s]"
     ]
    },
    {
     "name": "stdout",
     "output_type": "stream",
     "text": [
      "❌ Errore Wikipedia su: Olivia — \"Olivia\" may refer to: \n",
      "Olivia\n",
      "835 Olivia\n",
      "Olivia\n",
      "Olivia\n",
      "Doppio rischio\n",
      "Olivia\n",
      "Olivia\n",
      "Olivia\n",
      "Olivia Records\n",
      "Olivia\n",
      "Olivia\n",
      "Olivia\n",
      "Olivia\n",
      "Olivia\n",
      "One Direction\n",
      "Olivia\n",
      "Olivia\n",
      "Olivia\n",
      "Wikizionario\n",
      "\n",
      "🟨 Estrazione data di nascita per: Giuni Russo\n",
      "⚠️ Nessuna data trovata per: Petra Magoni\n",
      "🟨 Estrazione data di nascita per: Linda\n"
     ]
    },
    {
     "name": "stderr",
     "output_type": "stream",
     "text": [
      "Estrazione date:  59%|█████▉    | 625/1060 [00:46<00:41, 10.55it/s]"
     ]
    },
    {
     "name": "stdout",
     "output_type": "stream",
     "text": [
      "⚠️ Nessuna data trovata per: Annalisa Minetti\n",
      "🟨 Estrazione data di nascita per: Veruska\n",
      "⚠️ Nessuna data trovata per: Antonella Ruggiero\n",
      "🟨 Estrazione data di nascita per: Laura Bono\n",
      "⚠️ Nessuna data trovata per: Irene Grandi\n",
      "🟨 Estrazione data di nascita per: Chiara\n",
      "❌ Errore Wikipedia su: Lisa — \"Lisa\" may refer to: \n",
      "LISA Pathfinder\n",
      "LISA\n",
      "Lisa\n",
      "Lisa\n",
      "Lisa\n",
      "Apple Lisa\n",
      "Lisa\n",
      "Lisa/Gente umanità\n",
      "Lisa/Un'altra atmosfera\n",
      "Lisa\n",
      "Lisa\n",
      "Lisa\n",
      "Lisa\n",
      "LiSA\n",
      "Lisa\n",
      "Lisa\n",
      "Lisa\n",
      "Lisa Simpson\n",
      "Lisa Turtle\n",
      "Lisa Loud\n",
      "Wikizionario\n",
      "\n",
      "🟨 Estrazione data di nascita per: Anna Tatangelo\n",
      "❌ Errore Wikipedia su: Elisa — \"Elisa\" may refer to: \n",
      "Elisa\n",
      "Elisa\n",
      "Elisa\n",
      "Elisa\n",
      "Elisa\n",
      "KuTso\n",
      "Elisa, ou Le voyage aux glaciers du Mont Saint Bernard\n",
      "Elisa, ossia Il monte San Bernardo (Il passaggio di Monte San Bernardo)\n",
      "ELISA\n",
      "ELISA\n",
      "eLISA\n",
      "956 Elisa\n",
      "Elisa Oyj\n",
      "Wikizionario\n",
      "\n",
      "Eliza\n",
      "Per Elisa (disambigua)\n",
      "🟨 Estrazione data di nascita per: Camilla\n"
     ]
    },
    {
     "name": "stderr",
     "output_type": "stream",
     "text": [
      "Estrazione date:  59%|█████▉    | 627/1060 [00:46<00:50,  8.53it/s]"
     ]
    },
    {
     "name": "stdout",
     "output_type": "stream",
     "text": [
      "⚠️ Nessuna data trovata per: Jenny B\n",
      "🟨 Estrazione data di nascita per: Dolcenera\n",
      "⚠️ Nessuna data trovata per: Filippa Giordano\n",
      "🟨 Estrazione data di nascita per: Simona Bencini\n"
     ]
    },
    {
     "name": "stderr",
     "output_type": "stream",
     "text": [
      "Estrazione date:  59%|█████▉    | 629/1060 [00:46<00:49,  8.75it/s]"
     ]
    },
    {
     "name": "stdout",
     "output_type": "stream",
     "text": [
      "⚠️ Nessuna data trovata per: Alexia\n",
      "🟨 Estrazione data di nascita per: Nicky Nicolai\n",
      "⚠️ Nessuna data trovata per: Giuni Russo\n",
      "🟨 Estrazione data di nascita per: L'Aura\n"
     ]
    },
    {
     "name": "stderr",
     "output_type": "stream",
     "text": [
      "Estrazione date:  60%|█████▉    | 634/1060 [00:47<00:37, 11.35it/s]"
     ]
    },
    {
     "name": "stdout",
     "output_type": "stream",
     "text": [
      "⚠️ Nessuna data trovata per: Veruska\n",
      "🟨 Estrazione data di nascita per: Amalia Gré\n",
      "⚠️ Nessuna data trovata per: Laura Bono\n",
      "🟨 Estrazione data di nascita per: Leda Battisti\n",
      "❌ Errore Wikipedia su: Linda — \"Linda\" may refer to: \n",
      "Linda\n",
      "Linda\n",
      "Linda\n",
      "Linda\n",
      "Linda\n",
      "Linda\n",
      "Linda\n",
      "Linda bei Weida\n",
      "Linda\n",
      "Linda/Donna davvero\n",
      "Linda\n",
      "Linda\n",
      "Linda\n",
      "Linda\n",
      "Linda\n",
      "Linda\n",
      "Bogusław Linda\n",
      "Solomon Linda\n",
      "7169 Linda\n",
      "Linda\n",
      "Linda\n",
      "Linda\n",
      "🟨 Estrazione data di nascita per: Ariete\n",
      "⚠️ Nessuna data trovata per: Chiara\n",
      "🟨 Estrazione data di nascita per: Noemi\n"
     ]
    },
    {
     "name": "stderr",
     "output_type": "stream",
     "text": [
      "Estrazione date:  60%|██████    | 636/1060 [00:47<00:38, 11.07it/s]"
     ]
    },
    {
     "name": "stdout",
     "output_type": "stream",
     "text": [
      "⚠️ Nessuna data trovata per: Camilla\n",
      "🟨 Estrazione data di nascita per: Malika Ayane\n",
      "🟨 Estrazione data di nascita per: Arisa\n"
     ]
    },
    {
     "name": "stderr",
     "output_type": "stream",
     "text": [
      "Estrazione date:  60%|██████    | 638/1060 [00:47<00:54,  7.71it/s]"
     ]
    },
    {
     "name": "stdout",
     "output_type": "stream",
     "text": [
      "⚠️ Nessuna data trovata per: Dolcenera\n",
      "🟨 Estrazione data di nascita per: Antonella Bellan\n",
      "⚠️ Nessuna data trovata per: Nicky Nicolai\n",
      "🟨 Estrazione data di nascita per: Giusy Ferreri\n",
      "⚠️ Nessuna data trovata per: Simona Bencini\n",
      "🟨 Estrazione data di nascita per: Emma\n"
     ]
    },
    {
     "name": "stderr",
     "output_type": "stream",
     "text": [
      "Estrazione date:  60%|██████    | 640/1060 [00:47<00:45,  9.15it/s]"
     ]
    },
    {
     "name": "stdout",
     "output_type": "stream",
     "text": [
      "⚠️ Nessuna data trovata per: L'Aura\n",
      "🟨 Estrazione data di nascita per: Nina Zilli\n",
      "⚠️ Nessuna data trovata per: Amalia Gré\n",
      "🟨 Estrazione data di nascita per: Chiara Civello\n",
      "⚠️ Nessuna data trovata per: Leda Battisti\n",
      "🟨 Estrazione data di nascita per: Irene Fornaciari\n"
     ]
    },
    {
     "name": "stderr",
     "output_type": "stream",
     "text": [
      "Estrazione date:  61%|██████    | 645/1060 [00:48<00:40, 10.24it/s]"
     ]
    },
    {
     "name": "stdout",
     "output_type": "stream",
     "text": [
      "❌ Errore Wikipedia su: Antonella Bellan — Page id \"Antonella Bellan\" does not match any pages. Try another id!\n",
      "🟨 Estrazione data di nascita per: Annalisa\n",
      "❌ Errore Wikipedia su: Noemi — \"Noemi\" may refer to: \n",
      "Noemi\n",
      "Noemi\n",
      "Noemi\n",
      "Noemi\n",
      "Calzificio NO.E.MI.\n",
      "🟨 Estrazione data di nascita per: Maria Nazionale\n",
      "❌ Errore Wikipedia su: Ariete — \"Ariete\" may refer to: \n",
      "Ariete\n",
      "Ariete\n",
      "Ariete\n",
      "132ª Divisione \"Ariete\"\n",
      "135ª Divisione \"Ariete II\"\n",
      "Brigata corazzata \"Ariete\"\n",
      "Ariete\n",
      "Ariete corazzato\n",
      "Ariete torpediniere\n",
      "Ariete\n",
      "Ariete\n",
      "Ariete\n",
      "Ariete\n",
      "Ariete\n",
      "Ariete\n",
      "elettrodomestici\n",
      "Ariete\n",
      "Ariete\n",
      "Ariete di bronzo\n",
      "Colpo d'ariete\n",
      "Coniglio ariete\n",
      "Wikizionario\n",
      "\n",
      "Wikizionario\n",
      "\n",
      "🟨 Estrazione data di nascita per: Bianca Atzei\n",
      "⚠️ Nessuna data trovata per: Malika Ayane\n",
      "🟨 Estrazione data di nascita per: Angelica\n",
      "⚠️ Nessuna data trovata per: Arisa\n",
      "🟨 Estrazione data di nascita per: Lara Fabian\n"
     ]
    },
    {
     "name": "stderr",
     "output_type": "stream",
     "text": [
      "Estrazione date:  61%|██████▏   | 651/1060 [00:48<00:39, 10.40it/s]"
     ]
    },
    {
     "name": "stdout",
     "output_type": "stream",
     "text": [
      "⚠️ Nessuna data trovata per: Emma\n",
      "🟨 Estrazione data di nascita per: Francesca Michielin\n",
      "⚠️ Nessuna data trovata per: Giusy Ferreri\n",
      "🟨 Estrazione data di nascita per: Elodie\n",
      "⚠️ Nessuna data trovata per: Nina Zilli\n",
      "🟨 Estrazione data di nascita per: Lodovica Comello\n",
      "⚠️ Nessuna data trovata per: Irene Fornaciari\n",
      "🟨 Estrazione data di nascita per: Alice\n"
     ]
    },
    {
     "name": "stderr",
     "output_type": "stream",
     "text": [
      "Estrazione date:  62%|██████▏   | 653/1060 [00:49<00:38, 10.54it/s]"
     ]
    },
    {
     "name": "stdout",
     "output_type": "stream",
     "text": [
      "⚠️ Nessuna data trovata per: Chiara Civello\n",
      "🟨 Estrazione data di nascita per: Giordana Angi\n",
      "⚠️ Nessuna data trovata per: Maria Nazionale\n",
      "🟨 Estrazione data di nascita per: Elettra Lamborghini\n",
      "⚠️ Nessuna data trovata per: Annalisa\n",
      "🟨 Estrazione data di nascita per: Gaia\n"
     ]
    },
    {
     "name": "stderr",
     "output_type": "stream",
     "text": [
      "Estrazione date:  62%|██████▏   | 655/1060 [00:49<00:36, 11.12it/s]"
     ]
    },
    {
     "name": "stdout",
     "output_type": "stream",
     "text": [
      "⚠️ Nessuna data trovata per: Bianca Atzei\n",
      "🟨 Estrazione data di nascita per: Ana Mena\n"
     ]
    },
    {
     "name": "stderr",
     "output_type": "stream",
     "text": [
      "Estrazione date:  62%|██████▏   | 657/1060 [00:49<00:42,  9.56it/s]"
     ]
    },
    {
     "name": "stdout",
     "output_type": "stream",
     "text": [
      "🟨 Estrazione data di nascita per: Mara Sattei\n",
      "❌ Errore Wikipedia su: Angelica — \"Angelica\" may refer to: \n",
      "965 Angelica\n",
      "Angélica\n",
      "Angelica\n",
      "Angelica\n",
      "Angelica\n",
      "Angelica\n",
      "Angélica\n",
      "Biblioteca Angelica\n",
      "Angelica\n",
      "Angelica\n",
      "Angelica\n",
      "Angelica\n",
      "AngelicA\n",
      "Suor Angelica\n",
      "Angelica\n",
      "Angelica\n",
      "Angelica\n",
      "Angelica\n",
      "Angelica\n",
      "congregazione\n",
      "Angelico (disambigua)\n",
      "🟨 Estrazione data di nascita per: Shari\n"
     ]
    },
    {
     "name": "stderr",
     "output_type": "stream",
     "text": [
      "Estrazione date:  76%|███████▌  | 807/1060 [00:50<00:01, 196.72it/s]"
     ]
    },
    {
     "name": "stdout",
     "output_type": "stream",
     "text": [
      "⚠️ Nessuna data trovata per: Francesca Michielin\n",
      "⚠️ Nomi multipli rilevati, salto: Gino Latilla - Giorgio Consolini\n",
      "⚠️ Nomi multipli rilevati, salto: Achille Togliani - Giorgio Consolini\n",
      "⚠️ Nomi multipli rilevati, salto: Giorgio Consolini - Gino Latilla\n",
      "⚠️ Nomi multipli rilevati, salto: Gino Latilla - Franco Ricci\n",
      "⚠️ Nomi multipli rilevati, salto: Claudio Villa - Narciso Parigi\n",
      "⚠️ Nomi multipli rilevati, salto: Antonio Basurto - Gianni Ravera\n",
      "⚠️ Nomi multipli rilevati, salto: Natalino Otto - Antonio Basurto\n",
      "⚠️ Nomi multipli rilevati, salto: Teddy Reno - Sergio Bruni\n",
      "⚠️ Nomi multipli rilevati, salto: Teddy Reno - Aurelio Fierro\n",
      "⚠️ Nomi multipli rilevati, salto: Teddy Reno - Achille Togliani\n",
      "⚠️ Nomi multipli rilevati, salto: Claudio Villa - Nunzio Gallo\n",
      "⚠️ Nomi multipli rilevati, salto: Claudio Villa - Giorgio Consolini\n",
      "⚠️ Nomi multipli rilevati, salto: Carla Boni - Nunzio Gallo\n",
      "⚠️ Nomi multipli rilevati, salto: Gino Latilla - Luciano Virgili\n",
      "⚠️ Nomi multipli rilevati, salto: Gino Baldi - Luciano Virgili\n",
      "⚠️ Nomi multipli rilevati, salto: Gino Latilla - Nunzio Gallo\n",
      "⚠️ Nomi multipli rilevati, salto: Sergio Bruni - Ernesto Bonino\n",
      "⚠️ Nomi multipli rilevati, salto: Domenico Modugno - Johnny Dorelli\n",
      "⚠️ Nomi multipli rilevati, salto: Johnny Dorelli - Natalino Otto\n",
      "⚠️ Nomi multipli rilevati, salto: Johnny Dorelli - Giorgio Consolini\n",
      "⚠️ Nomi multipli rilevati, salto: Arturo Testa - Gino Latilla\n",
      "⚠️ Nomi multipli rilevati, salto: Roby Facchinetti e Riccardo Fogli\n",
      "⚠️ Nomi multipli rilevati, salto: Robertino - Bobby Rydell\n",
      "⚠️ Nomi multipli rilevati, salto: Claudio Villa - Johnny Dorelli\n",
      "⚠️ Nomi multipli rilevati, salto: Tony Dallara - Renato Rascel\n",
      "⚠️ Nomi multipli rilevati, salto: Domenico Modugno - Teddy Reno\n",
      "⚠️ Nomi multipli rilevati, salto: Joe Sentieri - Sergio Bruni\n",
      "⚠️ Nomi multipli rilevati, salto: Giorgio Consolini - Sergio Bruni\n",
      "⚠️ Nomi multipli rilevati, salto: Adriano Celentano - Little Tony\n",
      "⚠️ Nomi multipli rilevati, salto: Pino Donaggio - Teddy Reno\n",
      "⚠️ Nomi multipli rilevati, salto: Piero Focaccia - Bobby Rydell\n",
      "⚠️ Nomi multipli rilevati, salto: Sergio Bruni - Rocco Granata\n",
      "⚠️ Nomi multipli rilevati, salto: Gino Paoli - Tony Dallara\n",
      "⚠️ Nomi multipli rilevati, salto: Joe Sentieri - Fausto Cigliano\n",
      "⚠️ Nomi multipli rilevati, salto: Luciano Rondinella - Edoardo Vianello\n",
      "⚠️ Nomi multipli rilevati, salto: Claudio Villa - Sergio Renda\n",
      "⚠️ Nomi multipli rilevati, salto: Domenico Modugno - Claudio Villa\n",
      "⚠️ Nomi multipli rilevati, salto: Tony Renis - Emilio Pericoli\n",
      "⚠️ Nomi multipli rilevati, salto: Gino Bramieri - Aurelio Fierro\n",
      "⚠️ Nomi multipli rilevati, salto: Nunzio Gallo - Rocco Montana\n",
      "⚠️ Nomi multipli rilevati, salto: Corrado Lojacono - Luciano Tajoli\n",
      "⚠️ Nomi multipli rilevati, salto: Nino Ferrer - Pilade\n",
      "⚠️ Nomi multipli rilevati, salto: Mario Abbate - Fausto Cigliano\n",
      "⚠️ Nomi multipli rilevati, salto: Narciso Parigi - Giorgio Consolini\n",
      "⚠️ Nomi multipli rilevati, salto: Aurelio Fierro - Claudio Villa\n",
      "⚠️ Nomi multipli rilevati, salto: Nicola Arigliano - Peter Kraus\n",
      "⚠️ Nomi multipli rilevati, salto: New Trolls - Leonardo\n",
      "⚠️ Nomi multipli rilevati, salto: Ennio Sangiusto - Quartetto Radar\n",
      "⚠️ Nomi multipli rilevati, salto: Ennio Sangiusto - Luciano Tajoli\n",
      "⚠️ Nomi multipli rilevati, salto: Aurelio Fierro - Sergio Bruni\n",
      "⚠️ Nomi multipli rilevati, salto: Domenico Modugno - Frankie Laine\n",
      "⚠️ Nomi multipli rilevati, salto: Tony Dallara - Ben E. King\n",
      "⚠️ Nomi multipli rilevati, salto: Gino Paoli - Antonio Prieto\n",
      "⚠️ Nomi multipli rilevati, salto: Fabrizio Ferretti - Gil Fields e The Fraternity Brothers\n",
      "⚠️ Nomi multipli rilevati, salto: Pino Donaggio - Frankie Avalon\n",
      "⚠️ Nomi multipli rilevati, salto: Roby Ferrante - Paul Anka\n",
      "⚠️ Nomi multipli rilevati, salto: Little Tony - Gene Pitney\n",
      "⚠️ Nomi multipli rilevati, salto: Natalino Otto - Gino Latilla\n",
      "⚠️ Nomi multipli rilevati, salto: Natalino Otto - Aurelio Fierro\n",
      "⚠️ Nomi multipli rilevati, salto: Bobby Solo - Frankie Laine\n",
      "⚠️ Nomi multipli rilevati, salto: Fausto Cigliano - Gene Pitney\n",
      "⚠️ Nomi multipli rilevati, salto: Tony Renis - Frankie Avalon\n",
      "⚠️ Nomi multipli rilevati, salto: Emilio Pericoli - Peter Kraus\n",
      "⚠️ Nomi multipli rilevati, salto: Nicola Di Bari - Gene Pitney\n",
      "⚠️ Nomi multipli rilevati, salto: Bruno Lauzi - Kenny Rankin\n",
      "⚠️ Nomi multipli rilevati, salto: Robertino - Danyel Gérard\n",
      "⚠️ Nomi multipli rilevati, salto: Franco Tozzi - Johnny Tillotson\n",
      "⚠️ Nomi multipli rilevati, salto: Pino Donaggio - Claudio Villa\n",
      "⚠️ Nomi multipli rilevati, salto: Giorgio Gaber - Pat Boone\n",
      "⚠️ Nomi multipli rilevati, salto: Sergio Endrigo - Chad & Jeremy\n",
      "⚠️ Nomi multipli rilevati, salto: Peppino Gagliardi - Pat Boone\n",
      "⚠️ Nomi multipli rilevati, salto: Adriano Celentano - Trio del Clan\n",
      "⚠️ Nomi multipli rilevati, salto: Gino Paoli - Ricardo\n",
      "⚠️ Nomi multipli rilevati, salto: Lucio Dalla - The Yardbirds\n",
      "⚠️ Nomi multipli rilevati, salto: Bobby Solo - The Yardbirds\n",
      "⚠️ Nomi multipli rilevati, salto: I Giganti - The Bachelors\n",
      "⚠️ Nomi multipli rilevati, salto: Lucio Dalla - The Rokes\n",
      "⚠️ Nomi multipli rilevati, salto: Sergio Endrigo - Memo Remigi\n",
      "⚠️ Nomi multipli rilevati, salto: Gian Pieretti - Antoine\n",
      "⚠️ Nomi multipli rilevati, salto: Johnny Dorelli - Don Backy\n",
      "⚠️ Nomi multipli rilevati, salto: Little Tony - Mario Zelinotti\n",
      "⚠️ Nomi multipli rilevati, salto: Giorgio Gaber - Remo Germani\n",
      "⚠️ Nomi multipli rilevati, salto: Gianni Pettenati - Gene Pitney\n",
      "⚠️ Nomi multipli rilevati, salto: Mario Abbate - Quartetto Radar\n",
      "⚠️ Nomi multipli rilevati, salto: Jimmy Fontana - Edoardo Vianello\n",
      "⚠️ Nomi multipli rilevati, salto: Mino Reitano - The Hollies\n",
      "⚠️ Nomi multipli rilevati, salto: Sergio Endrigo - Roberto Carlos\n",
      "⚠️ Nomi multipli rilevati, salto: Fausto Leali - Wilson Pickett\n",
      "⚠️ Nomi multipli rilevati, salto: Antoine - Gianni Pettenati\n",
      "⚠️ Nomi multipli rilevati, salto: Massimo Ranieri - I Giganti\n",
      "⚠️ Nomi multipli rilevati, salto: Little Tony - Mario Guarnera\n",
      "⚠️ Nomi multipli rilevati, salto: Tony Renis - Domenico Modugno\n",
      "⚠️ Nomi multipli rilevati, salto: Johnny Dorelli - Paul Anka\n",
      "⚠️ Nomi multipli rilevati, salto: Fausto Leali - Tony Del Monaco\n",
      "⚠️ Nomi multipli rilevati, salto: Lucio Battisti - Wilson Pickett\n",
      "⚠️ Nomi multipli rilevati, salto: Riccardo Del Turco - Antoine\n",
      "⚠️ Nomi multipli rilevati, salto: Junior Magli - The Casuals\n",
      "⚠️ Nomi multipli rilevati, salto: Checco - Elio Gandolfi\n",
      "⚠️ Nomi multipli rilevati, salto: Robertino - Rocky Roberts\n",
      "⚠️ Nomi multipli rilevati, salto: Mino Reitano - Claudio Villa\n",
      "⚠️ Nomi multipli rilevati, salto: Luciano Tajoli - Mal\n",
      "⚠️ Nomi multipli rilevati, salto: Lucio Dalla - Equipe 84\n",
      "⚠️ Nomi multipli rilevati, salto: Tony Renis - Sergio Leonardi\n",
      "⚠️ Nomi multipli rilevati, salto: Rocky Roberts - Il Supergruppo\n",
      "⚠️ Nomi multipli rilevati, salto: Los Marcellos Ferial - The Happenings\n",
      "⚠️ Nomi multipli rilevati, salto: Renato Rascel - Pio\n",
      "⚠️ Nomi multipli rilevati, salto: Rossano - Dori Ghezzi\n",
      "⚠️ Nomi multipli rilevati, salto: Francesco Banti - Dino Drusiani\n",
      "⚠️ Nomi multipli rilevati, salto: Claudio Villa - Tony Del Monaco\n",
      "⚠️ Nomi multipli rilevati, salto: Adriano Celentano - Coro Alpino Milanese\n",
      "⚠️ Nomi multipli rilevati, salto: Don Backy - Gianni Nazzaro\n",
      "⚠️ Nomi multipli rilevati, salto: Pino Donaggio - Peppino Di Capri\n",
      "⚠️ Nomi multipli rilevati, salto: Little Tony - Formula 3\n",
      "⚠️ Nomi multipli rilevati, salto: Sergio Endrigo - New Trolls\n",
      "⚠️ Nomi multipli rilevati, salto: Sergio Menegale - Wallace Collection\n",
      "⚠️ Nomi multipli rilevati, salto: I Giganti - Fabio Trioli\n",
      "⚠️ Nomi multipli rilevati, salto: Nomadi - Mal\n",
      "⚠️ Nomi multipli rilevati, salto: Pio - Mau Cristiani\n",
      "⚠️ Nomi multipli rilevati, salto: John Foster - Joe Damiano\n",
      "⚠️ Nomi multipli rilevati, salto: Joe Sentieri - Johnny Dorelli\n",
      "⚠️ Nomi multipli rilevati, salto: Joe Sentieri - Aurelio Fierro\n",
      "⚠️ Nomi multipli rilevati, salto: Giuseppe Di Stefano - P. J. Proby\n",
      "⚠️ Nomi multipli rilevati, salto: Giordano Colombo - Hoagy Lands\n",
      "⚠️ Nomi multipli rilevati, salto: Gino Latilla - Teddy Reno\n",
      "⚠️ Nomi multipli rilevati, salto: Gino Bramieri - Rocco Torrebruno\n",
      "⚠️ Nomi multipli rilevati, salto: Gianni Ravera - Tullio Pane\n",
      "⚠️ Nomi multipli rilevati, salto: Franco Tozzi - Bobby Vinton\n",
      "⚠️ Nomi multipli rilevati, salto: Giorgio Zito e i Diesel\n",
      "⚠️ Nomi multipli rilevati, salto: Equipe 84 - The Renegades\n",
      "⚠️ Nomi multipli rilevati, salto: Emilio Pericoli - Sergio Bruni\n",
      "⚠️ Nomi multipli rilevati, salto: Donatello - Dik Dik\n",
      "⚠️ Nomi multipli rilevati, salto: Domenico Modugno - Gidiuli\n",
      "🟨 Estrazione data di nascita per: Zucchero Fornaciari & Randy Jackson Band\n",
      "⚠️ Nessuna data trovata per: Elodie\n",
      "⚠️ Nomi multipli rilevati, salto: Eugenio Bennato e Tony Esposito\n",
      "⚠️ Nomi multipli rilevati, salto: Pierangelo Bertoli e Tazenda\n",
      "⚠️ Nomi multipli rilevati, salto: Ladri di Biciclette e Tony Esposito\n",
      "⚠️ Nomi multipli rilevati, salto: Enzo Jannacci e Paolo Rossi\n",
      "⚠️ Nomi multipli rilevati, salto: Aleandro Baldi e Marco Guerzoni\n",
      "⚠️ Nomi multipli rilevati, salto: Umberto Bindi e New Trolls\n",
      "⚠️ Nomi multipli rilevati, salto: Claudio Villa - Tullio Pane\n",
      "⚠️ Nomi multipli rilevati, salto: Bobby Solo e Little Tony\n",
      "⚠️ Nomi multipli rilevati, salto: Massimo Modugno e Gipsy Kings\n",
      "⚠️ Nomi multipli rilevati, salto: Andrea Mingardi e The Blues Brothers Band\n",
      "⚠️ Nomi multipli rilevati, salto: Bruno Filippini - Gil Fields e The Fraternity Brothers\n",
      "⚠️ Nomi multipli rilevati, salto: Arturo Testa - Joe Sentieri\n",
      "⚠️ Nomi multipli rilevati, salto: Arturo Testa - Fausto Cigliano\n",
      "🟨 Estrazione data di nascita per: Luca Madonia con Franco Battiato\n",
      "⚠️ Nessuna data trovata per: Lodovica Comello\n",
      "⚠️ Nomi multipli rilevati, salto: Pierdavide Carone e Lucio Dalla\n",
      "🟨 Estrazione data di nascita per: Raphael Gualazzi & The Bloody Beetroots\n",
      "⚠️ Nessuna data trovata per: Giordana Angi\n",
      "⚠️ Nomi multipli rilevati, salto: Ermal Meta e Fabrizio Moro\n",
      "⚠️ Nomi multipli rilevati, salto: Diodato e Roy Paci\n",
      "🟨 Estrazione data di nascita per: Enzo Avitabile con Peppe Servillo\n",
      "⚠️ Nessuna data trovata per: Elettra Lamborghini\n",
      "⚠️ Nomi multipli rilevati, salto: Nino D'Angelo e Livio Cori\n",
      "⚠️ Nomi multipli rilevati, salto: Bugo e Morgan\n",
      "⚠️ Nomi multipli rilevati, salto: Mahmood e Blanco\n",
      "⚠️ Nomi multipli rilevati, salto: Achille Togliani - Arturo Testa\n",
      "🟨 Estrazione data di nascita per: Duo Fasano\n",
      "❌ Errore Wikipedia su: Alice — \"Alice\" may refer to: \n",
      "Alice\n",
      "Alice\n",
      "Alice\n",
      "Alice\n",
      "Alice\n",
      "A.LI.CE\n",
      "Alice\n",
      "Alice\n",
      "Alice\n",
      "Alice\n",
      "Alice\n",
      "Alice Springs\n",
      "Alice\n",
      "Alice Bel Colle\n",
      "Alice Castello\n",
      "Alice Superiore\n",
      "Punta Alice\n",
      "Alice\n",
      "Alice\n",
      "Alice\n",
      "Alice\n",
      "Alice\n",
      "Alice Messenger\n",
      "A.L.I.C.E.\n",
      "Alice\n",
      "Alice\n",
      "Alice\n",
      "Alice\n",
      "Alice\n",
      "Alice\n",
      "Alice\n",
      "Alice\n",
      "Alice\n",
      "Alice\n",
      "Alice\n",
      "Alice\n",
      "Alice (Elis)\n",
      "Alice\n",
      "Alice\n",
      "Alice\n",
      "Alice\n",
      "Alice\n",
      "Alice\n",
      "Alice Cullen\n",
      "Alice Gehabich\n",
      "Alice\n",
      "Domenico Alice\n",
      "Giovanni Alice\n",
      "Pio Roberto Alice\n",
      "A Large Ion Collider Experiment\n",
      "All-purpose Lightweight Individual Carrying Equipment\n",
      "Archivio Libri Italiani su Calcolatore Elettronico\n",
      "Alice\n",
      "Alice\n",
      "Alice\n",
      "Alice\n",
      "Alice\n",
      "Alice\n",
      "Alice\n",
      "Alice\n",
      "American McGee's Alice\n",
      "Alice: Madness Returns\n",
      "Alice\n",
      "291 Alice\n",
      "ALICE\n",
      "Alice\n",
      "Alice\n",
      "Edizioni Alice\n",
      "Radio Alice\n",
      "Wikizionario\n",
      "\n",
      "Wikizionario\n",
      "\n",
      "🟨 Estrazione data di nascita per: Zero Assoluto\n",
      "⚠️ Nessuna data trovata per: Ana Mena\n",
      "🟨 Estrazione data di nascita per: Trio Melody\n",
      "❌ Errore Wikipedia su: Gaia — \"Gaia\" may refer to: \n",
      "Gaia\n",
      "Gaia\n",
      "Gaià\n",
      "Gaia\n",
      "Sofia\n",
      "Gaia\n",
      "Gaia\n",
      "Gaia\n",
      "Gaia\n",
      "Capitan Planet e i Planeteers\n",
      "Gaia\n",
      "Gaia\n",
      "Gaia\n",
      "Gaia\n",
      "Gaia\n",
      "Gaia\n",
      "Gaia\n",
      "Ipotesi Gaia\n",
      "Gaia\n",
      "Gaia - Il pianeta che vive\n",
      "Gaia\n",
      "Gaja\n",
      "Gaya\n",
      "Gaio (disambigua)\n",
      "Gaius\n",
      "Gea (disambigua)\n",
      "Wikizionario\n",
      "\n",
      "⚠️ Nomi multipli rilevati, salto: Carla Boni - Quartetto Cetra\n",
      "🟨 Estrazione data di nascita per: Stadio\n",
      "❌ Errore Wikipedia su: Zucchero Fornaciari & Randy Jackson Band — Page id \"Zucchero Fornaciari & Randy Jackson Band\" does not match any pages. Try another id!\n",
      "🟨 Estrazione data di nascita per: Schola Cantorum\n",
      "❌ Errore Wikipedia su: Luca Madonia con Franco Battiato — Page id \"Luca Madonia con Franco Battiato\" does not match any pages. Try another id!\n",
      "🟨 Estrazione data di nascita per: Profeti\n",
      "❌ Errore Wikipedia su: Raphael Gualazzi & The Bloody Beetroots — Page id \"Raphael Gualazzi & The Bloody Beetroots\" does not match any pages. Try another id!\n",
      "🟨 Estrazione data di nascita per: Perturbazione\n",
      "⚠️ Nessuna data trovata per: Mara Sattei\n",
      "🟨 Estrazione data di nascita per: Passengers\n",
      "❌ Errore Wikipedia su: Enzo Avitabile con Peppe Servillo — Page id \"Enzo Avitabile con Peppe Servillo\" does not match any pages. Try another id!\n",
      "🟨 Estrazione data di nascita per: Pandemonium\n",
      "❌ Errore Wikipedia su: Shari — \"Shari\" may refer to: \n",
      "Shari\n",
      "Shari\n",
      "Shari\n",
      "🟨 Estrazione data di nascita per: Orchestra Spettacolo Casadei\n"
     ]
    },
    {
     "name": "stderr",
     "output_type": "stream",
     "text": [
      "Estrazione date:  79%|███████▉  | 835/1060 [00:51<00:02, 75.84it/s] "
     ]
    },
    {
     "name": "stdout",
     "output_type": "stream",
     "text": [
      "⚠️ Nessuna data trovata per: Duo Fasano\n",
      "🟨 Estrazione data di nascita per: Middle of the Road\n",
      "⚠️ Nessuna data trovata per: Trio Melody\n",
      "⚠️ Nomi multipli rilevati, salto: Remo Germani - Les Surfs\n",
      "⚠️ Nomi multipli rilevati, salto: I Ribelli - The New Christy Minstrels\n",
      "⚠️ Nomi multipli rilevati, salto: Milva - Los Bravos\n",
      "⚠️ Nomi multipli rilevati, salto: The Rokes - The Cowsills\n",
      "⚠️ Nomi multipli rilevati, salto: Nada - The Rokes\n",
      "⚠️ Nomi multipli rilevati, salto: Mal - The Showmen\n",
      "⚠️ Nomi multipli rilevati, salto: Rita Pavone - Dik Dik\n",
      "⚠️ Nomi multipli rilevati, salto: Wilma Goich - The Sweet Inspirations\n",
      "⚠️ Nomi multipli rilevati, salto: Nicola Di Bari - Ricchi e Poveri\n",
      "⚠️ Nomi multipli rilevati, salto: Ragazzi della via Gluck - Paolo Mengoli\n",
      "⚠️ Nomi multipli rilevati, salto: Ricchi e Poveri - José Feliciano\n",
      "🟨 Estrazione data di nascita per: Lo Stato Sociale\n",
      "⚠️ Nessuna data trovata per: Stadio\n",
      "⚠️ Nomi multipli rilevati, salto: Paolo Mengoli - Mark e Martha\n",
      "⚠️ Nomi multipli rilevati, salto: Piero Focaccia - Mungo Jerry\n",
      "🟨 Estrazione data di nascita per: Ladri di Biciclette\n",
      "❌ Errore Wikipedia su: Perturbazione — \"Perturbazione\" may refer to: \n",
      "Perturbazione\n",
      "Perturbazione\n",
      "Perturbazione\n",
      "meccanica quantistica\n",
      "🟨 Estrazione data di nascita per: La Nuova Gente\n",
      "❌ Errore Wikipedia su: Passengers — \"Passengers\" may refer to: \n",
      "Passengers\n",
      "Passengers - Mistero ad alta quota\n",
      "Passengers\n",
      "Passengers\n",
      "Passengers\n",
      "Passengers\n",
      "Passengers\n",
      "Passengers\n",
      "Passenger\n",
      "⚠️ Nomi multipli rilevati, salto: Ricchi e Poveri\n",
      "🟨 Estrazione data di nascita per: La Differenza\n",
      "❌ Errore Wikipedia su: Pandemonium — \"Pandemonium\" may refer to: \n",
      "Pandemonium\n",
      "Pandemonium\n",
      "Pandemonium\n",
      "Pandemonium\n",
      "Pandemonium\n",
      "Pandemonium\n",
      "Pandemonium\n",
      "Pandemonium\n",
      "Pandemonium\n",
      "Pandemonium\n",
      "Pandemonium\n",
      "Pandemonium 2\n",
      "🟨 Estrazione data di nascita per: Kriss and Saratoga\n",
      "⚠️ Nessuna data trovata per: Zero Assoluto\n",
      "🟨 Estrazione data di nascita per: I Nuovi Angeli\n",
      "⚠️ Nessuna data trovata per: Profeti\n",
      "⚠️ Nomi multipli rilevati, salto: Wess e Dori Ghezzi\n",
      "🟨 Estrazione data di nascita per: Camaleonti\n",
      "⚠️ Nessuna data trovata per: Schola Cantorum\n",
      "🟨 Estrazione data di nascita per: Mocedades\n",
      "⚠️ Nessuna data trovata per: Orchestra Spettacolo Casadei\n",
      "🟨 Estrazione data di nascita per: Pop Tops\n",
      "❌ Errore Wikipedia su: Kriss and Saratoga — Page id \"Kriss and Saratoga\" does not match any pages. Try another id!\n",
      "🟨 Estrazione data di nascita per: Jet\n",
      "⚠️ Nessuna data trovata per: Lo Stato Sociale\n",
      "🟨 Estrazione data di nascita per: Le Figlie del Vento\n",
      "❌ Errore Wikipedia su: Middle of the Road — \"Middle of the road\" may refer to: \n",
      "Middle of the road\n",
      "Middle of the Road\n",
      "Middle of the Road\n",
      "Mor\n",
      "🟨 Estrazione data di nascita per: Les Charlots\n"
     ]
    },
    {
     "name": "stderr",
     "output_type": "stream",
     "text": [
      "Estrazione date:  81%|████████  | 856/1060 [00:53<00:05, 37.80it/s]"
     ]
    },
    {
     "name": "stdout",
     "output_type": "stream",
     "text": [
      "⚠️ Nessuna data trovata per: I Nuovi Angeli\n",
      "🟨 Estrazione data di nascita per: Mouth & MacNeal\n",
      "⚠️ Nessuna data trovata per: Ladri di Biciclette\n",
      "🟨 Estrazione data di nascita per: Il Volo\n",
      "⚠️ Nessuna data trovata per: Mocedades\n",
      "🟨 Estrazione data di nascita per: Il Était une Fois\n",
      "⚠️ Nessuna data trovata per: La Nuova Gente\n",
      "🟨 Estrazione data di nascita per: I Domodossola\n",
      "❌ Errore Wikipedia su: La Differenza — \"La differenza\" may refer to: \n",
      "La Differenza\n",
      "La differenza\n",
      "La differenza\n",
      "🟨 Estrazione data di nascita per: Le Nuove Erbe\n",
      "❌ Errore Wikipedia su: Jet — \"Jet\" may refer to: \n",
      "Japan Exchange and Teaching\n",
      "Joint European Torus\n",
      "ISO 639-3\n",
      "Jet\n",
      "Jet\n",
      "Jet\n",
      "Jet\n",
      "Jet\n",
      "Jet\n",
      "Jet\n",
      "Jet\n",
      "Jet the Hawk\n",
      "Jet McQuack\n",
      "Jet\n",
      "Jet\n",
      "Jet\n",
      "Jet\n",
      "Sym Jet\n",
      "Jet\n",
      "Jet\n",
      "Joanna Jet\n",
      "Wikizionario\n",
      "\n",
      "🟨 Estrazione data di nascita per: Nico dei Gabbiani\n",
      "❌ Errore Wikipedia su: Il Était une Fois — Page id \"Il Était une Fois\" does not match any pages. Try another id!\n",
      "🟨 Estrazione data di nascita per: Homo Sapiens\n",
      "⚠️ Nessuna data trovata per: Camaleonti\n",
      "🟨 Estrazione data di nascita per: Grimm\n",
      "⚠️ Nessuna data trovata per: Le Figlie del Vento\n",
      "🟨 Estrazione data di nascita per: G.Men\n",
      "⚠️ Nessuna data trovata per: Pop Tops\n",
      "🟨 Estrazione data di nascita per: La Quinta Faccia\n",
      "⚠️ Nessuna data trovata per: Les Charlots\n",
      "🟨 Estrazione data di nascita per: Le Volpi Blu\n",
      "⚠️ Nessuna data trovata per: Mouth & MacNeal\n",
      "🟨 Estrazione data di nascita per: Gli Opera\n",
      "⚠️ Nessuna data trovata per: I Domodossola\n",
      "🟨 Estrazione data di nascita per: La Strana Società\n",
      "⚠️ Nessuna data trovata per: Le Nuove Erbe\n",
      "🟨 Estrazione data di nascita per: I Santo California\n",
      "❌ Errore Wikipedia su: Il Volo — \"Il volo\" may refer to: \n",
      "Il volo\n",
      "Il volo\n",
      "Il Volo\n",
      "Il Volo\n",
      "Il Volo\n",
      "Il Volo\n",
      "Il volo\n",
      "Il volo\n",
      "Il volo\n",
      "🟨 Estrazione data di nascita per: Matia Bazar\n",
      "⚠️ Nessuna data trovata per: La Quinta Faccia\n",
      "🟨 Estrazione data di nascita per: Il Giardino dei Semplici\n",
      "⚠️ Nessuna data trovata per: G.Men\n",
      "🟨 Estrazione data di nascita per: Beans\n",
      "❌ Errore Wikipedia su: Grimm — \"Grimm\" may refer to: \n",
      "Fratelli Grimm\n",
      "Alexander Grimm\n",
      "Chiara Grimm\n",
      "Chris Grimm\n",
      "Friedrich Melchior von Grimm\n",
      "Hubertus Grimm\n",
      "MF Grimm\n",
      "Brother Grimm\n",
      "Grimm\n",
      "Grimm\n",
      "Grimm\n",
      "6912 Grimm\n",
      "🟨 Estrazione data di nascita per: I Camaleonti\n"
     ]
    },
    {
     "name": "stderr",
     "output_type": "stream",
     "text": [
      "Estrazione date:  82%|████████▏ | 871/1060 [00:54<00:07, 24.64it/s]"
     ]
    },
    {
     "name": "stdout",
     "output_type": "stream",
     "text": [
      "⚠️ Nessuna data trovata per: Le Volpi Blu\n",
      "🟨 Estrazione data di nascita per: Kim & The Cadillacs\n",
      "⚠️ Nessuna data trovata per: Gli Opera\n",
      "🟨 Estrazione data di nascita per: La Bottega dell'Arte\n",
      "⚠️ Nessuna data trovata per: Nico dei Gabbiani\n",
      "🟨 Estrazione data di nascita per: Formula 3\n",
      "⚠️ Nessuna data trovata per: La Strana Società\n",
      "🟨 Estrazione data di nascita per: Omelet\n",
      "⚠️ Nessuna data trovata per: Homo Sapiens\n",
      "⚠️ Nomi multipli rilevati, salto: Latte e Miele\n",
      "🟨 Estrazione data di nascita per: Carmen & Thompson\n",
      "⚠️ Nessuna data trovata per: I Santo California\n",
      "⚠️ Nomi multipli rilevati, salto: Ely Neri e la sua orchestra\n",
      "⚠️ Nomi multipli rilevati, salto: Al Bano e Romina Power\n",
      "🟨 Estrazione data di nascita per: Le Orme\n"
     ]
    },
    {
     "name": "stderr",
     "output_type": "stream",
     "text": [
      "Estrazione date:  83%|████████▎ | 882/1060 [00:55<00:08, 21.90it/s]"
     ]
    },
    {
     "name": "stdout",
     "output_type": "stream",
     "text": [
      "⚠️ Nessuna data trovata per: Matia Bazar\n",
      "🟨 Estrazione data di nascita per: Milk & Coffee\n",
      "❌ Errore Wikipedia su: Carmen & Thompson — Page id \"Carmen & Thompson\" does not match any pages. Try another id!\n",
      "🟨 Estrazione data di nascita per: Gruppo Italiano\n",
      "⚠️ Nessuna data trovata per: Beans\n",
      "🟨 Estrazione data di nascita per: Delirium\n",
      "⚠️ Nessuna data trovata per: Il Giardino dei Semplici\n",
      "🟨 Estrazione data di nascita per: Banco del Mutuo Soccorso\n",
      "⚠️ Nessuna data trovata per: Kim & The Cadillacs\n",
      "🟨 Estrazione data di nascita per: New Trolls\n",
      "⚠️ Nessuna data trovata per: I Camaleonti\n",
      "🟨 Estrazione data di nascita per: Righeira\n",
      "⚠️ Nessuna data trovata per: La Bottega dell'Arte\n",
      "🟨 Estrazione data di nascita per: Decibel\n",
      "⚠️ Nessuna data trovata per: Formula 3\n",
      "🟨 Estrazione data di nascita per: Figli di Bubba\n",
      "❌ Errore Wikipedia su: Milk & Coffee — Page id \"Milk & Coffee\" does not match any pages. Try another id!⚠️ Nessuna data trovata per: Omelet\n",
      "🟨 Estrazione data di nascita per: Denovo\n",
      "\n",
      "🟨 Estrazione data di nascita per: Pooh\n"
     ]
    },
    {
     "name": "stderr",
     "output_type": "stream",
     "text": [
      "Estrazione date:  84%|████████▍ | 890/1060 [00:56<00:09, 18.43it/s]"
     ]
    },
    {
     "name": "stdout",
     "output_type": "stream",
     "text": [
      "⚠️ Nessuna data trovata per: Le Orme\n",
      "🟨 Estrazione data di nascita per: Tazenda\n",
      "⚠️ Nessuna data trovata per: Gruppo Italiano\n",
      "🟨 Estrazione data di nascita per: Nuova Compagnia di Canto Popolare\n",
      "⚠️ Nessuna data trovata per: Delirium\n",
      "⚠️ Nomi multipli rilevati, salto: Coscarella e Polimeno\n",
      "🟨 Estrazione data di nascita per: Squadra Italia\n"
     ]
    },
    {
     "name": "stderr",
     "output_type": "stream",
     "text": [
      "Estrazione date:  85%|████████▍ | 896/1060 [00:56<00:08, 18.22it/s]"
     ]
    },
    {
     "name": "stdout",
     "output_type": "stream",
     "text": [
      "⚠️ Nessuna data trovata per: Righeira\n",
      "🟨 Estrazione data di nascita per: 883\n",
      "⚠️ Nessuna data trovata per: Figli di Bubba\n",
      "🟨 Estrazione data di nascita per: Collage\n",
      "⚠️ Nessuna data trovata per: Banco del Mutuo Soccorso\n",
      "⚠️ Nomi multipli rilevati, salto: Elio e le Storie Tese\n",
      "🟨 Estrazione data di nascita per: Neri per Caso\n",
      "⚠️ Nessuna data trovata per: Decibel\n",
      "🟨 Estrazione data di nascita per: Dhamm\n",
      "⚠️ Nessuna data trovata per: New Trolls\n",
      "🟨 Estrazione data di nascita per: Jalisse\n"
     ]
    },
    {
     "name": "stderr",
     "output_type": "stream",
     "text": [
      "Estrazione date:  85%|████████▌ | 901/1060 [00:57<00:09, 16.58it/s]"
     ]
    },
    {
     "name": "stdout",
     "output_type": "stream",
     "text": [
      "⚠️ Nessuna data trovata per: Denovo\n",
      "🟨 Estrazione data di nascita per: O.R.O.\n",
      "⚠️ Nessuna data trovata per: Pooh\n",
      "🟨 Estrazione data di nascita per: Dirotta su Cuba\n"
     ]
    },
    {
     "name": "stderr",
     "output_type": "stream",
     "text": [
      "Estrazione date:  85%|████████▌ | 905/1060 [00:57<00:10, 14.84it/s]"
     ]
    },
    {
     "name": "stdout",
     "output_type": "stream",
     "text": [
      "⚠️ Nessuna data trovata per: Tazenda\n",
      "🟨 Estrazione data di nascita per: Cattivi Pensieri\n",
      "⚠️ Nessuna data trovata per: Nuova Compagnia di Canto Popolare\n",
      "🟨 Estrazione data di nascita per: Pitura Freska\n",
      "⚠️ Nessuna data trovata per: Squadra Italia\n",
      "🟨 Estrazione data di nascita per: Ragazzi Italiani\n",
      "⚠️ Nessuna data trovata per: 883\n",
      "⚠️ Nomi multipli rilevati, salto: New Trolls e Greta\n",
      "🟨 Estrazione data di nascita per: Piccola Orchestra Avion Travel\n"
     ]
    },
    {
     "name": "stderr",
     "output_type": "stream",
     "text": [
      "Estrazione date:  86%|████████▌ | 909/1060 [00:58<00:09, 15.90it/s]"
     ]
    },
    {
     "name": "stdout",
     "output_type": "stream",
     "text": [
      "⚠️ Nessuna data trovata per: Neri per Caso\n",
      "🟨 Estrazione data di nascita per: Paola & Chiara\n",
      "⚠️ Nessuna data trovata per: Dhamm\n",
      "🟨 Estrazione data di nascita per: Subsonica\n",
      "⚠️ Nessuna data trovata per: Collage\n",
      "🟨 Estrazione data di nascita per: Sottotono\n",
      "⚠️ Nessuna data trovata per: Jalisse\n",
      "🟨 Estrazione data di nascita per: Quintorigo\n"
     ]
    },
    {
     "name": "stderr",
     "output_type": "stream",
     "text": [
      "Estrazione date:  86%|████████▌ | 912/1060 [00:58<00:10, 14.02it/s]"
     ]
    },
    {
     "name": "stdout",
     "output_type": "stream",
     "text": [
      "⚠️ Nessuna data trovata per: O.R.O.\n",
      "🟨 Estrazione data di nascita per: Bluvertigo\n",
      "⚠️ Nessuna data trovata per: Dirotta su Cuba\n",
      "🟨 Estrazione data di nascita per: Gazosa\n"
     ]
    },
    {
     "name": "stderr",
     "output_type": "stream",
     "text": [
      "Estrazione date:  86%|████████▋ | 915/1060 [00:58<00:12, 11.61it/s]"
     ]
    },
    {
     "name": "stdout",
     "output_type": "stream",
     "text": [
      "⚠️ Nessuna data trovata per: Pitura Freska\n",
      "🟨 Estrazione data di nascita per: Lollipop\n",
      "⚠️ Nessuna data trovata per: Ragazzi Italiani\n",
      "🟨 Estrazione data di nascita per: Timoria\n",
      "⚠️ Nessuna data trovata per: Piccola Orchestra Avion Travel\n",
      "🟨 Estrazione data di nascita per: Eiffel 65\n"
     ]
    },
    {
     "name": "stderr",
     "output_type": "stream",
     "text": [
      "Estrazione date:  87%|████████▋ | 919/1060 [00:59<00:10, 13.47it/s]"
     ]
    },
    {
     "name": "stdout",
     "output_type": "stream",
     "text": [
      "⚠️ Nessuna data trovata per: Subsonica\n",
      "🟨 Estrazione data di nascita per: Negrita\n",
      "⚠️ Nessuna data trovata per: Paola & Chiara\n",
      "⚠️ Nomi multipli rilevati, salto: DB Boulevard e Bill Wyman\n",
      "🟨 Estrazione data di nascita per: Le Vibrazioni\n",
      "⚠️ Nessuna data trovata per: Sottotono\n",
      "🟨 Estrazione data di nascita per: Equ\n",
      "⚠️ Nessuna data trovata per: Quintorigo\n",
      "🟨 Estrazione data di nascita per: Velvet\n"
     ]
    },
    {
     "name": "stderr",
     "output_type": "stream",
     "text": [
      "Estrazione date:  87%|████████▋ | 923/1060 [00:59<00:10, 12.84it/s]"
     ]
    },
    {
     "name": "stdout",
     "output_type": "stream",
     "text": [
      "❌ Errore Wikipedia su: Cattivi Pensieri — \"Cattivi pensieri\" may refer to: \n",
      "Cattivi pensieri\n",
      "Cattivi Pensieri\n",
      "Cattivi Pensieri\n",
      "Cattivi Pensieri\n",
      "Cattivi pensieri\n",
      "🟨 Estrazione data di nascita per: Modà\n",
      "⚠️ Nessuna data trovata per: Bluvertigo\n",
      "🟨 Estrazione data di nascita per: Concido\n",
      "⚠️ Nessuna data trovata per: Gazosa\n",
      "🟨 Estrazione data di nascita per: Negramaro\n"
     ]
    },
    {
     "name": "stderr",
     "output_type": "stream",
     "text": [
      "Estrazione date:  87%|████████▋ | 925/1060 [00:59<00:14,  9.49it/s]"
     ]
    },
    {
     "name": "stdout",
     "output_type": "stream",
     "text": [
      "⚠️ Nessuna data trovata per: Timoria\n",
      "🟨 Estrazione data di nascita per: Nomadi\n",
      "❌ Errore Wikipedia su: Lollipop — \"Lollipop\" may refer to: \n",
      "Lollipop\n",
      "Lollipop\n",
      "Lollipop\n",
      "Lollipop (Candyman)\n",
      "Lollipop\n",
      "Lollipop\n",
      "Lollipop (Param Pam Pam)\n",
      "Lollipop\n",
      "Lollipop\n",
      "Lollipop\n",
      "🟨 Estrazione data di nascita per: Sugarfree\n"
     ]
    },
    {
     "name": "stderr",
     "output_type": "stream",
     "text": [
      "Estrazione date:  88%|████████▊ | 931/1060 [01:00<00:09, 13.31it/s]"
     ]
    },
    {
     "name": "stdout",
     "output_type": "stream",
     "text": [
      "⚠️ Nessuna data trovata per: Eiffel 65\n",
      "⚠️ Nomi multipli rilevati, salto: Biggio e Mandelli\n",
      "🟨 Estrazione data di nascita per: Ayx\n",
      "⚠️ Nessuna data trovata per: Le Vibrazioni\n",
      "🟨 Estrazione data di nascita per: Deasonika\n",
      "⚠️ Nessuna data trovata per: Negrita\n",
      "🟨 Estrazione data di nascita per: Finley\n",
      "⚠️ Nessuna data trovata per: Equ\n",
      "🟨 Estrazione data di nascita per: Tiromancino\n",
      "❌ Errore Wikipedia su: Velvet — \"Velvet\" may refer to: \n",
      "Velvet\n",
      "Velvet - Il prezzo dell'amore\n",
      "Velvet\n",
      "Velvet\n",
      "Toadies\n",
      "Savoy\n",
      "The Dutchess\n",
      "Velvet\n",
      "Velvet\n",
      "Velvet Underground\n",
      "Velvet\n",
      "Velvet\n",
      "Velvet. Percorsi di altro rock, cinema e cultura\n",
      "Velvet Club\n",
      "🟨 Estrazione data di nascita per: Armonium\n"
     ]
    },
    {
     "name": "stderr",
     "output_type": "stream",
     "text": [
      "Estrazione date:  88%|████████▊ | 933/1060 [01:00<00:11, 11.40it/s]"
     ]
    },
    {
     "name": "stdout",
     "output_type": "stream",
     "text": [
      "⚠️ Nessuna data trovata per: Concido\n",
      "🟨 Estrazione data di nascita per: Afterhours\n",
      "⚠️ Nessuna data trovata per: Modà\n",
      "🟨 Estrazione data di nascita per: Sonohra\n",
      "⚠️ Nessuna data trovata per: Negramaro\n",
      "🟨 Estrazione data di nascita per: La Crus\n"
     ]
    },
    {
     "name": "stderr",
     "output_type": "stream",
     "text": [
      "Estrazione date:  88%|████████▊ | 937/1060 [01:01<00:13,  8.94it/s]"
     ]
    },
    {
     "name": "stdout",
     "output_type": "stream",
     "text": [
      "⚠️ Nessuna data trovata per: Sugarfree\n",
      "🟨 Estrazione data di nascita per: Marlene Kuntz\n",
      "⚠️ Nessuna data trovata per: Nomadi\n",
      "🟨 Estrazione data di nascita per: Marta sui Tubi\n",
      "⚠️ Nessuna data trovata per: Deasonika\n",
      "🟨 Estrazione data di nascita per: Almamegretta\n"
     ]
    },
    {
     "name": "stderr",
     "output_type": "stream",
     "text": [
      "Estrazione date:  89%|████████▊ | 940/1060 [01:01<00:10, 11.11it/s]"
     ]
    },
    {
     "name": "stdout",
     "output_type": "stream",
     "text": [
      "⚠️ Nessuna data trovata per: Tiromancino\n",
      "🟨 Estrazione data di nascita per: Dear Jack\n",
      "❌ Errore Wikipedia su: Ayx — \"Ayx\" may refer to: \n",
      "ISO 639-3\n",
      "Ayx\n",
      "🟨 Estrazione data di nascita per: Ameba 4\n",
      "❌ Errore Wikipedia su: Finley — \"Finley\" may refer to: \n",
      "Finley\n",
      "Finley\n",
      "Finley\n",
      "Finley\n",
      "Cameron Finley\n",
      "Greg Finley\n",
      "Jermichael Finley\n",
      "Michael Finley\n",
      "Morris Finley\n",
      "Moses Israel Finley\n",
      "Ned Finley\n",
      "William Finley\n",
      "Finley\n",
      "🟨 Estrazione data di nascita per: The Kolors\n",
      "⚠️ Nessuna data trovata per: Armonium\n",
      "🟨 Estrazione data di nascita per: Boomdabash\n"
     ]
    },
    {
     "name": "stderr",
     "output_type": "stream",
     "text": [
      "Estrazione date:  89%|████████▉ | 944/1060 [01:01<00:11, 10.53it/s]"
     ]
    },
    {
     "name": "stdout",
     "output_type": "stream",
     "text": [
      "⚠️ Nessuna data trovata per: Sonohra\n",
      "🟨 Estrazione data di nascita per: Ex-Otago\n",
      "⚠️ Nessuna data trovata per: Afterhours\n",
      "🟨 Estrazione data di nascita per: The Zen Circus\n",
      "⚠️ Nessuna data trovata per: La Crus\n",
      "🟨 Estrazione data di nascita per: Pinguini Tattici Nucleari\n",
      "❌ Errore Wikipedia su: Ameba 4 — Page id \"Ameba 4\" does not match any pages. Try another id!\n",
      "🟨 Estrazione data di nascita per: Albatros\n"
     ]
    },
    {
     "name": "stderr",
     "output_type": "stream",
     "text": [
      "Estrazione date:  89%|████████▉ | 946/1060 [01:02<00:13,  8.43it/s]"
     ]
    },
    {
     "name": "stdout",
     "output_type": "stream",
     "text": [
      "⚠️ Nessuna data trovata per: Marta sui Tubi\n",
      "🟨 Estrazione data di nascita per: Aguaviva\n",
      "⚠️ Nessuna data trovata per: Marlene Kuntz\n",
      "🟨 Estrazione data di nascita per: Måneskin\n"
     ]
    },
    {
     "name": "stderr",
     "output_type": "stream",
     "text": [
      "Estrazione date:  89%|████████▉ | 948/1060 [01:02<00:12,  8.73it/s]"
     ]
    },
    {
     "name": "stdout",
     "output_type": "stream",
     "text": [
      "⚠️ Nessuna data trovata per: The Kolors\n",
      "🟨 Estrazione data di nascita per: Colapesce Dimartino\n",
      "⚠️ Nessuna data trovata per: Almamegretta\n",
      "🟨 Estrazione data di nascita per: La Rappresentante di Lista\n",
      "⚠️ Nessuna data trovata per: Boomdabash\n",
      "🟨 Estrazione data di nascita per: Coma_Cose\n"
     ]
    },
    {
     "name": "stderr",
     "output_type": "stream",
     "text": [
      "Estrazione date:  90%|████████▉ | 953/1060 [01:02<00:10, 10.04it/s]"
     ]
    },
    {
     "name": "stdout",
     "output_type": "stream",
     "text": [
      "⚠️ Nessuna data trovata per: Ex-Otago\n",
      "🟨 Estrazione data di nascita per: Articolo 31\n",
      "⚠️ Nessuna data trovata per: The Zen Circus\n",
      "🟨 Estrazione data di nascita per: Colla Zio\n",
      "⚠️ Nessuna data trovata per: Dear Jack\n",
      "🟨 Estrazione data di nascita per: Cugini di Campagna\n",
      "⚠️ Nessuna data trovata per: Pinguini Tattici Nucleari\n",
      "⚠️ Nomi multipli rilevati, salto: Nilla Pizzi e Duo Fasano\n",
      "⚠️ Nomi multipli rilevati, salto: Carla Boni - Flo Sandon's\n",
      "⚠️ Nomi multipli rilevati, salto: Carla Boni - Katyna Ranieri\n",
      "⚠️ Nomi multipli rilevati, salto: Nilla Pizzi - Flo Sandon's\n",
      "⚠️ Nomi multipli rilevati, salto: Vittoria Mongardi - Flo Sandon's\n",
      "⚠️ Nomi multipli rilevati, salto: Flo Sandon's - Carla Boni\n",
      "⚠️ Nomi multipli rilevati, salto: Carla Boni, Gino Latilla e Duo Fasano - Quartetto Cetra\n",
      "⚠️ Nomi multipli rilevati, salto: Carla Boni e Duo Fasano - Giorgio Consolini\n",
      "⚠️ Nomi multipli rilevati, salto: Gino Latilla e Duo Fasano - Quartetto Cetra\n",
      "⚠️ Nomi multipli rilevati, salto: Carla Boni e Duo Fasano - Quartetto Cetra\n",
      "⚠️ Nomi multipli rilevati, salto: Duo Fasano e Gino Latilla - Quartetto Cetra\n",
      "⚠️ Nomi multipli rilevati, salto: Katyna Ranieri - Vittoria Mongardi\n",
      "⚠️ Nomi multipli rilevati, salto: Tonina Torrielli e Duo Fasano - Trio Joyce\n",
      "⚠️ Nomi multipli rilevati, salto: Jula de Palma - Marisa Colomber\n",
      "⚠️ Nomi multipli rilevati, salto: Tina Allori - Flo Sandon's\n",
      "⚠️ Nomi multipli rilevati, salto: Franca Raimondi e Clara Vincenzi\n",
      "⚠️ Nomi multipli rilevati, salto: Carla Boni, Gino Latilla e Duo Fasano - Gloria Christian e Poker di Voci\n",
      "⚠️ Nomi multipli rilevati, salto: Tina Allori - Tonina Torrielli\n",
      "⚠️ Nomi multipli rilevati, salto: Carla Boni e Duo Fasano - Gloria Christian, Natalino Otto e Poker di Voci\n",
      "⚠️ Nomi multipli rilevati, salto: Carla Boni - Jula de Palma\n",
      "⚠️ Nomi multipli rilevati, salto: Nilla Pizzi - Tonina Torrielli\n",
      "⚠️ Nomi multipli rilevati, salto: Carla Boni e Gino Latilla - Aurelio Fierro e Gloria Christian\n",
      "⚠️ Nomi multipli rilevati, salto: Natalino Otto - Carla Boni e Gino Latilla\n",
      "⚠️ Nomi multipli rilevati, salto: Tonina Torrielli - Cristina Jorio\n",
      "⚠️ Nomi multipli rilevati, salto: Claudio Villa e Gino Latilla - Gloria Christian\n",
      "⚠️ Nomi multipli rilevati, salto: Carla Boni - Cristina Jorio\n",
      "⚠️ Nomi multipli rilevati, salto: Nilla Pizzi e Aurelio Fierro - Claudio Villa e Duo Fasano\n",
      "⚠️ Nomi multipli rilevati, salto: Jula de Palma - Tonina Torrielli\n",
      "⚠️ Nomi multipli rilevati, salto: Betty Curtis - Wilma De Angelis\n",
      "⚠️ Nomi multipli rilevati, salto: Johnny Dorelli e Betty Curtis - Gino Latilla e Claudio Villa\n",
      "⚠️ Nomi multipli rilevati, salto: Tonina Torrielli - Nilla Pizzi\n",
      "⚠️ Nomi multipli rilevati, salto: Jula de Palma - Miranda Martino\n",
      "⚠️ Nomi multipli rilevati, salto: Wilma De Angelis - Jula de Palma\n",
      "⚠️ Nomi multipli rilevati, salto: Quartetto Cetra - Vittoria Mongardi e Duo Fasano\n",
      "🟨 Estrazione data di nascita per: Pupo ed Emanuele Filiberto con Luca Canonici\n"
     ]
    },
    {
     "name": "stderr",
     "output_type": "stream",
     "text": [
      "Estrazione date:  98%|█████████▊| 1043/1060 [01:03<00:00, 108.07it/s]"
     ]
    },
    {
     "name": "stdout",
     "output_type": "stream",
     "text": [
      "⚠️ Nessuna data trovata per: Aguaviva\n",
      "⚠️ Nomi multipli rilevati, salto: Mina - Betty Curtis\n",
      "⚠️ Nomi multipli rilevati, salto: Wilma De Angelis - Gloria Christian\n",
      "⚠️ Nomi multipli rilevati, salto: Mina - Nelly Fioramonti\n",
      "⚠️ Nomi multipli rilevati, salto: Mina - Jenny Luna\n",
      "⚠️ Nomi multipli rilevati, salto: Aura D'Angelo - Silvia Guidi\n",
      "⚠️ Nomi multipli rilevati, salto: Nadia Liani - Jolanda Rossin\n",
      "⚠️ Nomi multipli rilevati, salto: Milva - Miriam Del Mare\n",
      "⚠️ Nomi multipli rilevati, salto: Tonina Torrielli - Nelly Fioramonti\n",
      "⚠️ Nomi multipli rilevati, salto: Silvia Guidi - Jenny Luna\n",
      "⚠️ Nomi multipli rilevati, salto: Wanda Romanelli - Nelly Fioramonti\n",
      "⚠️ Nomi multipli rilevati, salto: Wilma De Angelis - Tanya\n",
      "⚠️ Nomi multipli rilevati, salto: Wilma De Angelis - Lucia Altieri\n",
      "⚠️ Nomi multipli rilevati, salto: Nilla Pizzi e Doppio Quintetto Vocale - Teddy Reno e Quartetto Stars\n",
      "⚠️ Nomi multipli rilevati, salto: Claudio Villa - Eugenia Foligatti\n",
      "⚠️ Nomi multipli rilevati, salto: Tonina Torrielli - Eugenia Foligatti\n",
      "⚠️ Nomi multipli rilevati, salto: Natalino Otto e Trio Aurora - Bruno Pallesi, Nuccia Bongiovanni e Radio Boys\n",
      "⚠️ Nomi multipli rilevati, salto: Wilma De Angelis - Flo Sandon's\n",
      "⚠️ Nomi multipli rilevati, salto: Natalino Otto - Nuccia Bongiovanni e Radio Boys\n",
      "⚠️ Nomi multipli rilevati, salto: Gigliola Cinquetti - Patricia Carli\n",
      "⚠️ Nomi multipli rilevati, salto: Remo Germani - Nino Tempo e April Stevens\n",
      "⚠️ Nomi multipli rilevati, salto: Narciso Parigi e Radio Boys - Natalino Otto e Trio Aurora\n",
      "⚠️ Nomi multipli rilevati, salto: Milva - Frida Boccara\n",
      "⚠️ Nomi multipli rilevati, salto: Gigliola Cinquetti - Connie Francis\n",
      "⚠️ Nomi multipli rilevati, salto: Betty Curtis - Petula Clark\n",
      "⚠️ Nomi multipli rilevati, salto: Remo Germani e Le Amiche - Audrey\n",
      "⚠️ Nomi multipli rilevati, salto: Orietta Berti - Ornella Vanoni\n",
      "⚠️ Nomi multipli rilevati, salto: Luciano Tomei - Luis Alberto del Paranà e Los Paraguayos\n",
      "⚠️ Nomi multipli rilevati, salto: Marisa Del Frate - Gloria Christian\n",
      "⚠️ Nomi multipli rilevati, salto: Ornella Vanoni - Marisa Sannia\n",
      "⚠️ Nomi multipli rilevati, salto: Gigliola Cinquetti - Giuliana Valci\n",
      "⚠️ Nomi multipli rilevati, salto: Annarita Spinaci - Yoko Kishi\n",
      "⚠️ Nomi multipli rilevati, salto: Gigliola Cinquetti - France Gall\n",
      "⚠️ Nomi multipli rilevati, salto: Carmen Villani - Alessandra Casaccia\n",
      "⚠️ Nomi multipli rilevati, salto: Rita Pavone - Valeria Mongardini\n",
      "⚠️ Nomi multipli rilevati, salto: Edda Ollari - Lorenza Visconti\n",
      "⚠️ Nomi multipli rilevati, salto: Jordan e i middle of the road - Gens\n",
      "⚠️ Nomi multipli rilevati, salto: Gino Latilla e Duo Fasano - Katyna Ranieri e Giorgio Consolini\n",
      "⚠️ Nomi multipli rilevati, salto: Gino Latilla e Doppio Quintetto Vocale - Giorgio Consolini\n",
      "⚠️ Nomi multipli rilevati, salto: Gino Baldi e Duo Fasano - Natalino Otto e Poker di Voci\n",
      "⚠️ Nomi multipli rilevati, salto: Flo Sandon's - Gloria Christian\n",
      "⚠️ Nomi multipli rilevati, salto: Flo Sandon's - Edda Montanari\n",
      "⚠️ Nomi multipli rilevati, salto: Fiorella Bini e Duo Fasano - Jula de Palma e Poker di Voci\n",
      "⚠️ Nomi multipli rilevati, salto: Fiorella Bini - Flo Sandon's\n",
      "⚠️ Nomi multipli rilevati, salto: Duo Fasano e Tonina Torrielli - Aurelio Fierro e Trio Joyce\n",
      "⚠️ Nomi multipli rilevati, salto: Gianni Morandi, Enrico Ruggeri e Umberto Tozzi\n",
      "⚠️ Nomi multipli rilevati, salto: Jo Squillo e Sabrina Salerno\n",
      "⚠️ Nomi multipli rilevati, salto: Rossana Casale e Grazia Di Michele\n",
      "⚠️ Nomi multipli rilevati, salto: Loredana Bertè e Mia Martini\n",
      "⚠️ Nomi multipli rilevati, salto: Maurizio Vandelli, Dik Dik e Camaleonti\n",
      "⚠️ Nomi multipli rilevati, salto: Claudio Villa e Gino Latilla - Natalino Otto e Poker di Voci\n",
      "⚠️ Nomi multipli rilevati, salto: Claudio Villa e Duo Fasano - Aurelio Fierro e Trio Joyce\n",
      "⚠️ Nomi multipli rilevati, salto: Clara Jaione e Radio Boys - Nella Colombo, Bruno Rosettani e Trio Aurora\n",
      "⚠️ Nomi multipli rilevati, salto: Nicky Nicolai e Stefano Di Battista Jazz Quartet\n",
      "🟨 Estrazione data di nascita per: DJ Francesco Band\n",
      "⚠️ Nessuna data trovata per: Måneskin\n",
      "⚠️ Nomi multipli rilevati, salto: Caterina Caselli - Sonny Bono e Cher\n",
      "⚠️ Nomi multipli rilevati, salto: Bruno Rosettani e Trio Aurora - Clara Jaione e Radio Boys\n",
      "⚠️ Nomi multipli rilevati, salto: Bruno Pallesi e Nuccia Bongiovanni - Bruno Rosettani, Nella Colombo e Trio Aurora\n",
      "⚠️ Nomi multipli rilevati, salto: Noa, Carlo Fava & Solis String Quartet\n",
      "⚠️ Nomi multipli rilevati, salto: Pupo, Paolo Belli e Youssou N'Dour\n",
      "⚠️ Nomi multipli rilevati, salto: Ornella Vanoni con Bungaro e Pacifico\n",
      "⚠️ Nomi multipli rilevati, salto: Achille Togliani - Flo Sandon's e Natalino Otto\n",
      "⚠️ Nomi multipli rilevati, salto: Ditonellapiaga e Donatella Rettore\n",
      "❌ Errore Wikipedia su: Pupo ed Emanuele Filiberto con Luca Canonici — Page id \"Pupo ed Emanuele Filiberto con Luca Canonici\" does not match any pages. Try another id!\n",
      "⚠️ Nessuna data trovata per: Albatros\n",
      "⚠️ Nessuna data trovata per: Colapesce Dimartino\n",
      "⚠️ Nessuna data trovata per: Coma_Cose\n",
      "⚠️ Nessuna data trovata per: La Rappresentante di Lista\n",
      "❌ Errore Wikipedia su: DJ Francesco Band — Page id \"DJ Francesco Band\" does not match any pages. Try another id!\n",
      "⚠️ Nessuna data trovata per: Colla Zio\n",
      "⚠️ Nessuna data trovata per: Articolo 31\n"
     ]
    },
    {
     "name": "stderr",
     "output_type": "stream",
     "text": [
      "Estrazione date: 100%|██████████| 1060/1060 [01:04<00:00, 16.50it/s] "
     ]
    },
    {
     "name": "stdout",
     "output_type": "stream",
     "text": [
      "⚠️ Nessuna data trovata per: Cugini di Campagna\n"
     ]
    },
    {
     "name": "stderr",
     "output_type": "stream",
     "text": [
      "\n"
     ]
    },
    {
     "name": "stdout",
     "output_type": "stream",
     "text": [
      "\n",
      "✅ File salvato con successo: Artisti_unici_con_data_nascita_timeout.xlsx\n"
     ]
    }
   ],
   "source": [
    "import pandas as pd\n",
    "import wikipedia\n",
    "import re\n",
    "import concurrent.futures\n",
    "from tqdm import tqdm\n",
    "\n",
    "# Imposta la lingua italiana e attiva il rate limiting\n",
    "wikipedia.set_lang(\"it\")\n",
    "wikipedia.set_rate_limiting(True)\n",
    "\n",
    "# Carica il file\n",
    "file_path = \"File Unico Sanremo.xlsx\"\n",
    "df = pd.read_excel(file_path, sheet_name=\"Artisti Unici con genere\")\n",
    "\n",
    "# Cache per evitare richieste duplicate\n",
    "dob_cache = {}\n",
    "\n",
    "# Funzione per determinare la data di nascita\n",
    "def estrai_data_nascita(artista):\n",
    "    if artista in dob_cache:\n",
    "        return dob_cache[artista]\n",
    "\n",
    "    # Se contiene multipli artisti, salta\n",
    "    if any(sep in artista.lower() for sep in [\",\", \" e \", \" - \"]):\n",
    "        print(f\"⚠️ Nomi multipli rilevati, salto: {artista}\")\n",
    "        return \"Da verificare\"\n",
    "\n",
    "    try:\n",
    "        print(f\"🟨 Estrazione data di nascita per: {artista}\")\n",
    "        # Timeout gestito internamente da wikipedia API wrapper\n",
    "        content = wikipedia.page(artista, auto_suggest=False, preload=False).content.lower()\n",
    "    except (wikipedia.exceptions.DisambiguationError, wikipedia.exceptions.PageError, wikipedia.exceptions.HTTPTimeoutError, Exception) as e:\n",
    "        print(f\"❌ Errore Wikipedia su: {artista} — {e}\")\n",
    "        return \"Da verificare\"\n",
    "\n",
    "    # Pattern per date tipo \"nato il 3 aprile 1980\" o \"nata il 25 dicembre 1975\"\n",
    "    match = re.search(r\"(nato|nata) il (\\d{1,2}) ([a-z]+) (\\d{4})\", content)\n",
    "    if match:\n",
    "        giorno = match.group(2).zfill(2)\n",
    "        mese = match.group(3)\n",
    "        anno = match.group(4)\n",
    "        data = f\"{giorno} {mese} {anno}\"\n",
    "        dob_cache[artista] = data\n",
    "        return data\n",
    "    else:\n",
    "        print(f\"⚠️ Nessuna data trovata per: {artista}\")\n",
    "        return \"Da verificare\"\n",
    "\n",
    "# Funzione per applicare in parallelo con barra di avanzamento\n",
    "def apply_parallel(df, func, descrizione):\n",
    "    results = []\n",
    "    with concurrent.futures.ThreadPoolExecutor(max_workers=10) as executor:\n",
    "        futures = {executor.submit(func, artista): artista for artista in df[\"Artista\"]}\n",
    "        for future in tqdm(concurrent.futures.as_completed(futures), total=len(futures), desc=descrizione):\n",
    "            artista = futures[future]\n",
    "            try:\n",
    "                result = future.result()\n",
    "                results.append(result)\n",
    "            except Exception as e:\n",
    "                print(f\"❌ Errore durante {descrizione} su: {artista} — {e}\")\n",
    "                results.append(\"Errore\")\n",
    "    return results\n",
    "\n",
    "# Applica la funzione\n",
    "df[\"Data di nascita\"] = apply_parallel(df, estrai_data_nascita, \"Estrazione date\")\n",
    "\n",
    "# Salva il nuovo file\n",
    "output_file = \"Artisti_unici_con_data_nascita_timeout.xlsx\"\n",
    "df.to_excel(output_file, index=False)\n",
    "\n",
    "print(f\"\\n✅ File salvato con successo: {output_file}\")\n"
   ]
  },
  {
   "cell_type": "code",
   "execution_count": null,
   "id": "5fe43e74-1690-4944-bfd0-a2f10e508263",
   "metadata": {},
   "outputs": [],
   "source": []
  }
 ],
 "metadata": {
  "kernelspec": {
   "display_name": "Python [conda env:base] *",
   "language": "python",
   "name": "conda-base-py"
  },
  "language_info": {
   "codemirror_mode": {
    "name": "ipython",
    "version": 3
   },
   "file_extension": ".py",
   "mimetype": "text/x-python",
   "name": "python",
   "nbconvert_exporter": "python",
   "pygments_lexer": "ipython3",
   "version": "3.12.7"
  }
 },
 "nbformat": 4,
 "nbformat_minor": 5
}

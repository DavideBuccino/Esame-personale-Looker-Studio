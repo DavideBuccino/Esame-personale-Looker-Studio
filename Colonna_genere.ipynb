{
 "cells": [
  {
   "cell_type": "markdown",
   "id": "5d768942-49d4-4861-9c77-f1d5702e9077",
   "metadata": {},
   "source": [
    "CREO UNA NUOVA COLONNA CON IL GENERE DEGLI ARTISTI"
   ]
  },
  {
   "cell_type": "code",
   "execution_count": 3,
   "id": "02b823fb-e405-4b75-bca3-f3d63f539e36",
   "metadata": {
    "scrolled": true
   },
   "outputs": [
    {
     "name": "stdout",
     "output_type": "stream",
     "text": [
      "Collecting wikipedia\n",
      "  Downloading wikipedia-1.4.0.tar.gz (27 kB)\n",
      "  Preparing metadata (setup.py): started\n",
      "  Preparing metadata (setup.py): finished with status 'done'\n",
      "Requirement already satisfied: beautifulsoup4 in d:\\bocci\\anaconda3\\lib\\site-packages (from wikipedia) (4.12.3)\n",
      "Requirement already satisfied: requests<3.0.0,>=2.0.0 in d:\\bocci\\anaconda3\\lib\\site-packages (from wikipedia) (2.32.3)\n",
      "Requirement already satisfied: charset-normalizer<4,>=2 in d:\\bocci\\anaconda3\\lib\\site-packages (from requests<3.0.0,>=2.0.0->wikipedia) (3.3.2)\n",
      "Requirement already satisfied: idna<4,>=2.5 in d:\\bocci\\anaconda3\\lib\\site-packages (from requests<3.0.0,>=2.0.0->wikipedia) (3.7)\n",
      "Requirement already satisfied: urllib3<3,>=1.21.1 in d:\\bocci\\anaconda3\\lib\\site-packages (from requests<3.0.0,>=2.0.0->wikipedia) (2.2.3)\n",
      "Requirement already satisfied: certifi>=2017.4.17 in d:\\bocci\\anaconda3\\lib\\site-packages (from requests<3.0.0,>=2.0.0->wikipedia) (2024.8.30)\n",
      "Requirement already satisfied: soupsieve>1.2 in d:\\bocci\\anaconda3\\lib\\site-packages (from beautifulsoup4->wikipedia) (2.5)\n",
      "Building wheels for collected packages: wikipedia\n",
      "  Building wheel for wikipedia (setup.py): started\n",
      "  Building wheel for wikipedia (setup.py): finished with status 'done'\n",
      "  Created wheel for wikipedia: filename=wikipedia-1.4.0-py3-none-any.whl size=11705 sha256=9e151e77c3386e2297fac5187bda376b894910514f92b1c4c93436aead9c8133\n",
      "  Stored in directory: c:\\users\\bocci\\appdata\\local\\pip\\cache\\wheels\\63\\47\\7c\\a9688349aa74d228ce0a9023229c6c0ac52ca2a40fe87679b8\n",
      "Successfully built wikipedia\n",
      "Installing collected packages: wikipedia\n",
      "Successfully installed wikipedia-1.4.0\n"
     ]
    }
   ],
   "source": [
    "!pip install wikipedia\n"
   ]
  },
  {
   "cell_type": "code",
   "execution_count": 5,
   "id": "b1ce1630-2b3c-4ac2-9bf5-381b31bd03b3",
   "metadata": {},
   "outputs": [
    {
     "name": "stderr",
     "output_type": "stream",
     "text": [
      "D:\\bocci\\anaconda3\\Lib\\site-packages\\wikipedia\\wikipedia.py:389: GuessedAtParserWarning: No parser was explicitly specified, so I'm using the best available HTML parser for this system (\"lxml\"). This usually isn't a problem, but if you run this code on another system, or in a different virtual environment, it may use a different parser and behave differently.\n",
      "\n",
      "The code that caused this warning is on line 389 of the file D:\\bocci\\anaconda3\\Lib\\site-packages\\wikipedia\\wikipedia.py. To get rid of this warning, pass the additional argument 'features=\"lxml\"' to the BeautifulSoup constructor.\n",
      "\n",
      "  lis = BeautifulSoup(html).find_all('li')\n"
     ]
    },
    {
     "name": "stdout",
     "output_type": "stream",
     "text": [
      "✅ Colonna 'Genere' aggiunta e file salvato come 'Artisti_unici_con_genere.xlsx'\n"
     ]
    }
   ],
   "source": [
    "import pandas as pd\n",
    "import wikipedia\n",
    "\n",
    "# Imposta la lingua italiana\n",
    "wikipedia.set_lang(\"it\")\n",
    "\n",
    "# Carica il file Excel e il foglio degli artisti\n",
    "file_path = \"File Unico Sanremo.xlsx\"  # Cambia il nome se necessario\n",
    "df = pd.read_excel(file_path, sheet_name=\"Artisti unici\")\n",
    "\n",
    "def determina_genere(artista):\n",
    "    try:\n",
    "        # Ottiene il riassunto di Wikipedia\n",
    "        summary = wikipedia.summary(artista, sentences=2).lower()\n",
    "        \n",
    "        # Logica di identificazione\n",
    "        if any(x in summary for x in [\"cantante\", \"cantautrice\", \"attrice\", \"voce femminile\"]):\n",
    "            return \"Femmina\"\n",
    "        elif any(x in summary for x in [\"cantautore\", \"attore\", \"rapper\", \"voce maschile\"]):\n",
    "            return \"Maschio\"\n",
    "        elif \"gruppo\" in summary or \"band\" in summary or \"duo\" in summary:\n",
    "            return \"Gruppo\"\n",
    "        else:\n",
    "            return \"Da verificare\"\n",
    "\n",
    "    except wikipedia.exceptions.DisambiguationError as e:\n",
    "        return \"Da verificare\"\n",
    "    except wikipedia.exceptions.PageError:\n",
    "        return \"Da verificare\"\n",
    "\n",
    "# Applica la funzione a ogni artista\n",
    "df[\"Genere\"] = df[\"Artista\"].apply(determina_genere)\n",
    "\n",
    "# Salva il nuovo file con la colonna aggiunta\n",
    "df.to_excel(\"Artisti_unici_con_genere.xlsx\", index=False)\n",
    "\n",
    "print(\"✅ Colonna 'Genere' aggiunta e file salvato come 'Artisti_unici_con_genere.xlsx'\")\n"
   ]
  },
  {
   "cell_type": "code",
   "execution_count": null,
   "id": "418a5c24-a8a9-4351-add4-73f9a3e675bf",
   "metadata": {},
   "outputs": [],
   "source": []
  }
 ],
 "metadata": {
  "kernelspec": {
   "display_name": "Python [conda env:base] *",
   "language": "python",
   "name": "conda-base-py"
  },
  "language_info": {
   "codemirror_mode": {
    "name": "ipython",
    "version": 3
   },
   "file_extension": ".py",
   "mimetype": "text/x-python",
   "name": "python",
   "nbconvert_exporter": "python",
   "pygments_lexer": "ipython3",
   "version": "3.12.7"
  }
 },
 "nbformat": 4,
 "nbformat_minor": 5
}

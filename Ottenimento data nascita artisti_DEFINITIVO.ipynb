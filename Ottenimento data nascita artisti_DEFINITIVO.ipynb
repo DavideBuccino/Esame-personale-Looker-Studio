{
 "cells": [
  {
   "cell_type": "markdown",
   "id": "16134593-07b2-47b9-ba9c-091cb5ed87fe",
   "metadata": {},
   "source": [
    "Ottenimento data nascita artisti_DEFINITIVO con ottimizzazioni: Varianti per trovare la pagina Wikipedia ((cantante), parole chiave, pseudonimi)\n",
    "\n",
    "Parsing avanzato della data di nascita con:\n",
    "\n",
    "(Luogo, data)\n",
    "\n",
    "nata/o a [luogo] nel [anno]\n",
    "\n",
    "nato/nata il [giorno mese anno]\n",
    "\n",
    "Gestione di nomi composti o pseudonimi\n",
    "\n",
    "Solo \"Maschio\" e \"Femmina\" vengono ricercati, tutti gli altri restano con \"Da verificare\" nel file finale"
   ]
  },
  {
   "cell_type": "code",
   "execution_count": 3,
   "id": "932096db-3f4e-4dd7-ab35-cc5d6092ac99",
   "metadata": {},
   "outputs": [
    {
     "name": "stdout",
     "output_type": "stream",
     "text": [
      "🟨 Elaborazione: Achille Togliani\n",
      "🟨 Elaborazione: Oscar Carboni\n",
      "🟨 Elaborazione: Gino Latilla\n",
      "🟨 Elaborazione: Zucchero\n",
      "🟨 Elaborazione: Will\n",
      "🟨 Elaborazione: Virginio\n",
      "🟨 Elaborazione: Ultimo\n",
      "🟨 Elaborazione: Tricarico\n",
      "🟨 Elaborazione: Tiziano Orecchio\n",
      "🟨 Elaborazione: Stefano Tosi\n"
     ]
    },
    {
     "name": "stderr",
     "output_type": "stream",
     "text": [
      "Estrazione data individuale:   0%|          | 0/470 [00:00<?, ?it/s]D:\\bocci\\anaconda3\\Lib\\site-packages\\wikipedia\\wikipedia.py:389: GuessedAtParserWarning: No parser was explicitly specified, so I'm using the best available HTML parser for this system (\"lxml\"). This usually isn't a problem, but if you run this code on another system, or in a different virtual environment, it may use a different parser and behave differently.\n",
      "\n",
      "The code that caused this warning is on line 389 of the file D:\\bocci\\anaconda3\\Lib\\site-packages\\wikipedia\\wikipedia.py. To get rid of this warning, pass the additional argument 'features=\"lxml\"' to the BeautifulSoup constructor.\n",
      "\n",
      "  lis = BeautifulSoup(html).find_all('li')\n",
      "Estrazione data individuale:   0%|          | 2/470 [00:01<05:28,  1.43it/s]"
     ]
    },
    {
     "name": "stdout",
     "output_type": "stream",
     "text": [
      "⚠️ Nessuna data trovata per: Gino Latilla\n",
      "🟨 Elaborazione: Ugo Molinari\n",
      "⚠️ Nessuna data trovata per: Virginio\n",
      "🟨 Elaborazione: Gianni Marzocchi\n",
      "⚠️ Nessuna data trovata per: Tricarico\n",
      "🟨 Elaborazione: Stefano Rosso\n",
      "⚠️ Nessuna data trovata per: Achille Togliani\n",
      "🟨 Elaborazione: Silvano Vittorio\n",
      "⚠️ Nessuna data trovata per: Oscar Carboni\n",
      "🟨 Elaborazione: Sangiovanni\n"
     ]
    },
    {
     "name": "stderr",
     "output_type": "stream",
     "text": [
      "Estrazione data individuale:   1%|▏         | 6/470 [00:02<02:08,  3.62it/s]"
     ]
    },
    {
     "name": "stdout",
     "output_type": "stream",
     "text": [
      "⚠️ Nessuna data trovata per: Zucchero\n",
      "🟨 Elaborazione: Samuel\n"
     ]
    },
    {
     "name": "stderr",
     "output_type": "stream",
     "text": [
      "Estrazione data individuale:   1%|▏         | 7/470 [00:02<02:12,  3.49it/s]"
     ]
    },
    {
     "name": "stdout",
     "output_type": "stream",
     "text": [
      "🟨 Elaborazione: Roberto Carlos\n",
      "🔍 Pseudonimo rilevato, provo con vero nome: william busetti\n"
     ]
    },
    {
     "name": "stderr",
     "output_type": "stream",
     "text": [
      "Estrazione data individuale:   2%|▏         | 9/470 [00:02<01:56,  3.96it/s]"
     ]
    },
    {
     "name": "stdout",
     "output_type": "stream",
     "text": [
      "⚠️ Nessuna data trovata per: Ugo Molinari\n",
      "🟨 Elaborazione: Random\n",
      "⚠️ Nessuna data trovata per: Gianni Marzocchi\n",
      "🟨 Elaborazione: Rancore\n"
     ]
    },
    {
     "name": "stderr",
     "output_type": "stream",
     "text": [
      "Estrazione data individuale:   2%|▏         | 10/470 [00:03<02:07,  3.61it/s]"
     ]
    },
    {
     "name": "stdout",
     "output_type": "stream",
     "text": [
      "🔍 Pseudonimo rilevato, provo con vero nome: niccol\n",
      "❌ Nessuna pagina trovata per: Tiziano Orecchio\n",
      "🟨 Elaborazione: Pacifico\n",
      "🔍 Pseudonimo rilevato, provo con vero nome: giovanni pietro damian\n"
     ]
    },
    {
     "name": "stderr",
     "output_type": "stream",
     "text": [
      "Estrazione data individuale:   3%|▎         | 12/470 [00:04<03:38,  2.10it/s]"
     ]
    },
    {
     "name": "stdout",
     "output_type": "stream",
     "text": [
      "⚠️ Nessuna data trovata per: Random\n",
      "🟨 Elaborazione: Orlando Johnson\n",
      "🔍 Pseudonimo rilevato, provo con vero nome: samuel umberto romano\n",
      "❌ Nessuna pagina trovata per: Silvano Vittorio\n",
      "🟨 Elaborazione: Nicola Di Bari\n",
      "⚠️ Nessuna data trovata per: Rancore\n",
      "🟨 Elaborazione: Motta\n"
     ]
    },
    {
     "name": "stderr",
     "output_type": "stream",
     "text": [
      "Estrazione data individuale:   3%|▎         | 15/470 [00:05<02:22,  3.19it/s]"
     ]
    },
    {
     "name": "stdout",
     "output_type": "stream",
     "text": [
      "⚠️ Nessuna data trovata per: Pacifico\n",
      "🟨 Elaborazione: Moreno\n",
      "❌ Nessuna pagina trovata per: Stefano Rosso\n",
      "🟨 Elaborazione: Miko\n",
      "🟨 Elaborazione: Michele\n"
     ]
    },
    {
     "name": "stderr",
     "output_type": "stream",
     "text": [
      "Estrazione data individuale:   4%|▎         | 17/470 [00:05<01:59,  3.81it/s]"
     ]
    },
    {
     "name": "stdout",
     "output_type": "stream",
     "text": [
      "🟨 Elaborazione: Massimo Abbate\n"
     ]
    },
    {
     "name": "stderr",
     "output_type": "stream",
     "text": [
      "Estrazione data individuale:   4%|▍         | 18/470 [00:06<01:59,  3.77it/s]"
     ]
    },
    {
     "name": "stdout",
     "output_type": "stream",
     "text": [
      "🟨 Elaborazione: Luca Cola\n"
     ]
    },
    {
     "name": "stderr",
     "output_type": "stream",
     "text": [
      "Estrazione data individuale:   4%|▍         | 19/470 [00:06<02:11,  3.43it/s]"
     ]
    },
    {
     "name": "stdout",
     "output_type": "stream",
     "text": [
      "🟨 Elaborazione: Peppino Gagliardi\n"
     ]
    },
    {
     "name": "stderr",
     "output_type": "stream",
     "text": [
      "Estrazione data individuale:   4%|▍         | 20/470 [00:06<02:18,  3.24it/s]"
     ]
    },
    {
     "name": "stdout",
     "output_type": "stream",
     "text": [
      "⚠️ Nessuna data trovata per: Miko\n",
      "🟨 Elaborazione: Gianni Morandi\n"
     ]
    },
    {
     "name": "stderr",
     "output_type": "stream",
     "text": [
      "Estrazione data individuale:   4%|▍         | 21/470 [00:07<02:21,  3.16it/s]"
     ]
    },
    {
     "name": "stdout",
     "output_type": "stream",
     "text": [
      "🔍 Pseudonimo rilevato, provo con vero nome: michaela pa\n",
      "🟨 Elaborazione: Gianni Nazzaro\n",
      "🔍 Pseudonimo rilevato, provo con vero nome: francesco motta\n"
     ]
    },
    {
     "name": "stderr",
     "output_type": "stream",
     "text": [
      "Estrazione data individuale:   5%|▍         | 23/470 [00:08<02:29,  3.00it/s]"
     ]
    },
    {
     "name": "stdout",
     "output_type": "stream",
     "text": [
      "🔍 Pseudonimo rilevato, provo con vero nome: michele scommegna\n",
      "🟨 Elaborazione: Lucio Dalla\n",
      "⚠️ Nessuna data trovata per: Peppino Gagliardi\n",
      "🟨 Elaborazione: Domenico Modugno\n",
      "🔍 Pseudonimo rilevato, provo con vero nome: camucia\n",
      "🔍 Pseudonimo rilevato, provo con vero nome: moreno donadoni\n",
      "🔍 Pseudonimo rilevato, provo con vero nome: buddy\n"
     ]
    },
    {
     "name": "stderr",
     "output_type": "stream",
     "text": [
      "Estrazione data individuale:   5%|▌         | 24/470 [00:09<04:25,  1.68it/s]"
     ]
    },
    {
     "name": "stdout",
     "output_type": "stream",
     "text": [
      "❌ Nessuna pagina trovata per: Massimo Abbate\n",
      "🟨 Elaborazione: Pino Donaggio\n",
      "🟨 Elaborazione: Fausto Leali\n",
      "❌ Nessuna pagina trovata per: Luca Cola\n",
      "🟨 Elaborazione: Tony Cucchiara\n"
     ]
    },
    {
     "name": "stderr",
     "output_type": "stream",
     "text": [
      "Estrazione data individuale:   6%|▌         | 27/470 [00:09<02:29,  2.96it/s]"
     ]
    },
    {
     "name": "stdout",
     "output_type": "stream",
     "text": [
      "🔍 Pseudonimo rilevato, provo con vero nome: norisso\n",
      "🟨 Elaborazione: Bobby Solo\n"
     ]
    },
    {
     "name": "stderr",
     "output_type": "stream",
     "text": [
      "Estrazione data individuale:   6%|▌         | 28/470 [00:10<02:56,  2.50it/s]"
     ]
    },
    {
     "name": "stdout",
     "output_type": "stream",
     "text": [
      "⚠️ Nessuna data trovata per: Michele\n",
      "🟨 Elaborazione: Peppino Di Capri\n"
     ]
    },
    {
     "name": "stderr",
     "output_type": "stream",
     "text": [
      "Estrazione data individuale:   6%|▌         | 29/470 [00:10<02:45,  2.67it/s]"
     ]
    },
    {
     "name": "stdout",
     "output_type": "stream",
     "text": [
      "🟨 Elaborazione: Roberto Vecchioni\n"
     ]
    },
    {
     "name": "stderr",
     "output_type": "stream",
     "text": [
      "Estrazione data individuale:   7%|▋         | 32/470 [00:10<01:36,  4.55it/s]"
     ]
    },
    {
     "name": "stdout",
     "output_type": "stream",
     "text": [
      "🟨 Elaborazione: Umberto Balsamo\n",
      "⚠️ Nessuna data trovata per: Tony Cucchiara\n",
      "🟨 Elaborazione: Memo Remigi\n",
      "🟨 Elaborazione: Lionello\n",
      "⚠️ Nessuna data trovata per: Lucio Dalla\n",
      "🟨 Elaborazione: Sergio Endrigo\n"
     ]
    },
    {
     "name": "stderr",
     "output_type": "stream",
     "text": [
      "Estrazione data individuale:   7%|▋         | 34/470 [00:11<01:22,  5.31it/s]"
     ]
    },
    {
     "name": "stdout",
     "output_type": "stream",
     "text": [
      "🟨 Elaborazione: Christian De Sica\n",
      "🔍 Pseudonimo rilevato, provo con vero nome: roberto satti\n"
     ]
    },
    {
     "name": "stderr",
     "output_type": "stream",
     "text": [
      "Estrazione data individuale:   7%|▋         | 35/470 [00:11<01:53,  3.83it/s]"
     ]
    },
    {
     "name": "stdout",
     "output_type": "stream",
     "text": [
      "🟨 Elaborazione: Alberto Feri\n",
      "🔍 Pseudonimo rilevato, provo con vero nome: sergente york e partecipando anche ai raduni enigmistici che vengono organizzati anno per anno\n",
      "🔍 Pseudonimo rilevato, provo con vero nome: bob nero\n"
     ]
    },
    {
     "name": "stderr",
     "output_type": "stream",
     "text": [
      "Estrazione data individuale:   8%|▊         | 36/470 [00:12<02:25,  2.97it/s]"
     ]
    },
    {
     "name": "stdout",
     "output_type": "stream",
     "text": [
      "🔍 Pseudonimo rilevato, provo con vero nome: giuseppe faiella\n",
      "🟨 Elaborazione: Junior Magli\n",
      "⚠️ Nessuna data trovata per: Lionello\n",
      "🟨 Elaborazione: Drupi\n"
     ]
    },
    {
     "name": "stderr",
     "output_type": "stream",
     "text": [
      "Estrazione data individuale:   8%|▊         | 38/470 [00:12<01:59,  3.62it/s]"
     ]
    },
    {
     "name": "stdout",
     "output_type": "stream",
     "text": [
      "🟨 Elaborazione: Toni Santagata\n",
      "🟨 Elaborazione: Al Bano\n",
      "⚠️ Nessuna data trovata per: Gianni Nazzaro\n",
      "🟨 Elaborazione: Mino Reitano\n"
     ]
    },
    {
     "name": "stderr",
     "output_type": "stream",
     "text": [
      "Estrazione data individuale:   9%|▊         | 41/470 [00:13<01:32,  4.62it/s]"
     ]
    },
    {
     "name": "stdout",
     "output_type": "stream",
     "text": [
      "⚠️ Nessuna data trovata per: Alberto Feri\n",
      "🟨 Elaborazione: Little Tony\n",
      "🔍 Pseudonimo rilevato, provo con vero nome: giampiero anelli\n",
      "🔍 Pseudonimo rilevato, provo con vero nome: luigi pazzaglini\n"
     ]
    },
    {
     "name": "stderr",
     "output_type": "stream",
     "text": [
      "Estrazione data individuale:   9%|▉         | 42/470 [00:14<02:45,  2.58it/s]"
     ]
    },
    {
     "name": "stdout",
     "output_type": "stream",
     "text": [
      "🔍 Pseudonimo rilevato, provo con vero nome: antonio morese\n",
      "🔍 Pseudonimo rilevato, provo con vero nome: albano carrisi\n",
      "⚠️ Nessuna data trovata per: Mino Reitano\n",
      "🟨 Elaborazione: Kambiz\n",
      "🟨 Elaborazione: Riccardo Fogli\n",
      "🔍 Pseudonimo rilevato, provo con vero nome: antonio ciacci\n"
     ]
    },
    {
     "name": "stderr",
     "output_type": "stream",
     "text": [
      "Estrazione data individuale:  10%|▉         | 45/470 [00:15<02:40,  2.64it/s]"
     ]
    },
    {
     "name": "stdout",
     "output_type": "stream",
     "text": [
      "🟨 Elaborazione: Franco Simone\n",
      "🟨 Elaborazione: Piero Focaccia\n"
     ]
    },
    {
     "name": "stderr",
     "output_type": "stream",
     "text": [
      "Estrazione data individuale:  10%|█         | 47/470 [00:15<02:05,  3.38it/s]"
     ]
    },
    {
     "name": "stdout",
     "output_type": "stream",
     "text": [
      "🟨 Elaborazione: Eugenio Alberti\n",
      "🟨 Elaborazione: Piero Cotto\n"
     ]
    },
    {
     "name": "stderr",
     "output_type": "stream",
     "text": [
      "Estrazione data individuale:  10%|█         | 48/470 [00:16<03:05,  2.28it/s]"
     ]
    },
    {
     "name": "stdout",
     "output_type": "stream",
     "text": [
      "🟨 Elaborazione: Henry Freis\n"
     ]
    },
    {
     "name": "stderr",
     "output_type": "stream",
     "text": [
      "Estrazione data individuale:  11%|█         | 51/470 [00:17<01:48,  3.87it/s]"
     ]
    },
    {
     "name": "stdout",
     "output_type": "stream",
     "text": [
      "🟨 Elaborazione: Jean-François Michael\n",
      "🟨 Elaborazione: Lorenzo Pilat\n",
      "⚠️ Nessuna data trovata per: Junior Magli\n",
      "🟨 Elaborazione: Paola Folzini\n"
     ]
    },
    {
     "name": "stderr",
     "output_type": "stream",
     "text": [
      "Estrazione data individuale:  11%|█▏        | 53/470 [00:17<01:18,  5.29it/s]"
     ]
    },
    {
     "name": "stdout",
     "output_type": "stream",
     "text": [
      "🟨 Elaborazione: Goffredo Canarini\n",
      "🟨 Elaborazione: Sandro Giacobbe\n"
     ]
    },
    {
     "name": "stderr",
     "output_type": "stream",
     "text": [
      "Estrazione data individuale:  12%|█▏        | 56/470 [00:17<00:57,  7.19it/s]"
     ]
    },
    {
     "name": "stdout",
     "output_type": "stream",
     "text": [
      "⚠️ Nessuna data trovata per: Toni Santagata\n",
      "🟨 Elaborazione: Paolo Frescura\n",
      "🟨 Elaborazione: Carlo Gigli\n",
      "❌ Nessuna pagina trovata per: Kambiz\n",
      "🟨 Elaborazione: Daniel Sentacruz Ensemble\n"
     ]
    },
    {
     "name": "stderr",
     "output_type": "stream",
     "text": [
      "Estrazione data individuale:  12%|█▏        | 57/470 [00:17<01:19,  5.19it/s]"
     ]
    },
    {
     "name": "stdout",
     "output_type": "stream",
     "text": [
      "⚠️ Nessuna data trovata per: Little Tony\n",
      "🟨 Elaborazione: Patrizio Sandrelli\n",
      "🔍 Pseudonimo rilevato, provo con vero nome: yves roze\n",
      "🔍 Pseudonimo rilevato, provo con vero nome: pilade\n"
     ]
    },
    {
     "name": "stderr",
     "output_type": "stream",
     "text": [
      "Estrazione data individuale:  12%|█▏        | 58/470 [00:18<02:02,  3.36it/s]"
     ]
    },
    {
     "name": "stdout",
     "output_type": "stream",
     "text": [
      "⚠️ Nessuna data trovata per: Goffredo Canarini\n",
      "🟨 Elaborazione: Santino Rocchetti\n",
      "🟨 Elaborazione: Antonio Buonomo\n",
      "🟨 Elaborazione: Leano Morelli\n"
     ]
    },
    {
     "name": "stderr",
     "output_type": "stream",
     "text": [
      "Estrazione data individuale:  13%|█▎        | 62/470 [00:18<01:11,  5.71it/s]"
     ]
    },
    {
     "name": "stdout",
     "output_type": "stream",
     "text": [
      "🟨 Elaborazione: Umberto Lupi\n",
      "🟨 Elaborazione: Ezio Maria Picciotta\n",
      "⚠️ Nessuna data trovata per: Daniel Sentacruz Ensemble\n",
      "🟨 Elaborazione: Umberto Napolitano\n"
     ]
    },
    {
     "name": "stderr",
     "output_type": "stream",
     "text": [
      "Estrazione data individuale:  14%|█▍        | 65/470 [00:19<01:19,  5.11it/s]"
     ]
    },
    {
     "name": "stdout",
     "output_type": "stream",
     "text": [
      "🟨 Elaborazione: Daniela Davoli\n",
      "🟨 Elaborazione: Rino Gaetano\n"
     ]
    },
    {
     "name": "stderr",
     "output_type": "stream",
     "text": [
      "Estrazione data individuale:  14%|█▍        | 66/470 [00:19<01:33,  4.33it/s]"
     ]
    },
    {
     "name": "stdout",
     "output_type": "stream",
     "text": [
      "🟨 Elaborazione: Ciro Sebastianelli\n",
      "🟨 Elaborazione: Anselmo Genovese\n",
      "❌ Nessuna pagina trovata per: Henry Freis\n",
      "🟨 Elaborazione: Donato Ciletti\n",
      "⚠️ Nessuna data trovata per: Leano Morelli\n",
      "🟨 Elaborazione: Roberto Carrino\n"
     ]
    },
    {
     "name": "stderr",
     "output_type": "stream",
     "text": [
      "Estrazione data individuale:  15%|█▍        | 70/470 [00:20<00:57,  6.93it/s]"
     ]
    },
    {
     "name": "stdout",
     "output_type": "stream",
     "text": [
      "🟨 Elaborazione: Marco Ferradini\n",
      "🟨 Elaborazione: Mino Vergnaghi\n",
      "🟨 Elaborazione: Enzo Carella\n"
     ]
    },
    {
     "name": "stderr",
     "output_type": "stream",
     "text": [
      "Estrazione data individuale:  16%|█▌        | 73/470 [00:20<01:03,  6.24it/s]"
     ]
    },
    {
     "name": "stdout",
     "output_type": "stream",
     "text": [
      "🟨 Elaborazione: Enrico Beruschi\n"
     ]
    },
    {
     "name": "stderr",
     "output_type": "stream",
     "text": [
      "Estrazione data individuale:  16%|█▌        | 74/470 [00:21<01:28,  4.47it/s]"
     ]
    },
    {
     "name": "stdout",
     "output_type": "stream",
     "text": [
      "🔍 Pseudonimo rilevato, provo con vero nome: kammamuri's\n",
      "🔍 Pseudonimo rilevato, provo con vero nome: gilberto sebastianelli\n",
      "🟨 Elaborazione: Franco Fanigliulo\n"
     ]
    },
    {
     "name": "stderr",
     "output_type": "stream",
     "text": [
      "Estrazione data individuale:  16%|█▋        | 77/470 [00:21<01:01,  6.41it/s]"
     ]
    },
    {
     "name": "stdout",
     "output_type": "stream",
     "text": [
      "⚠️ Nessuna data trovata per: Donato Ciletti🟨 Elaborazione: Gianni Migliardi\n",
      "\n",
      "🟨 Elaborazione: Michele Vicino\n",
      "🟨 Elaborazione: Gianni Mocchetti\n"
     ]
    },
    {
     "name": "stderr",
     "output_type": "stream",
     "text": [
      "Estrazione data individuale:  17%|█▋        | 78/470 [00:21<01:04,  6.12it/s]"
     ]
    },
    {
     "name": "stdout",
     "output_type": "stream",
     "text": [
      "🟨 Elaborazione: Toto Cutugno\n",
      "🟨 Elaborazione: Enzo Malepasso\n",
      "⚠️ Nessuna data trovata per: Enzo Carella\n",
      "🟨 Elaborazione: Pupo\n"
     ]
    },
    {
     "name": "stderr",
     "output_type": "stream",
     "text": [
      "Estrazione data individuale:  17%|█▋        | 81/470 [00:22<01:07,  5.77it/s]"
     ]
    },
    {
     "name": "stdout",
     "output_type": "stream",
     "text": [
      "🟨 Elaborazione: Leroy Gomez\n"
     ]
    },
    {
     "name": "stderr",
     "output_type": "stream",
     "text": [
      "Estrazione data individuale:  17%|█▋        | 82/470 [00:22<01:28,  4.37it/s]"
     ]
    },
    {
     "name": "stdout",
     "output_type": "stream",
     "text": [
      "⚠️ Nessuna data trovata per: Franco Fanigliulo\n",
      "🟨 Elaborazione: Paolo Riviera\n",
      "🟨 Elaborazione: Francesco Magni\n"
     ]
    },
    {
     "name": "stderr",
     "output_type": "stream",
     "text": [
      "Estrazione data individuale:  18%|█▊        | 85/470 [00:23<01:10,  5.43it/s]"
     ]
    },
    {
     "name": "stdout",
     "output_type": "stream",
     "text": [
      "⚠️ Nessuna data trovata per: Gianni Mocchetti\n",
      "🟨 Elaborazione: Aldo Donati\n",
      "⚠️ Nessuna data trovata per: Enzo Malepasso\n",
      "🟨 Elaborazione: Bruno D'Andrea\n"
     ]
    },
    {
     "name": "stderr",
     "output_type": "stream",
     "text": [
      "Estrazione data individuale:  18%|█▊        | 86/470 [00:23<01:04,  5.99it/s]"
     ]
    },
    {
     "name": "stdout",
     "output_type": "stream",
     "text": [
      "⚠️ Nessuna data trovata per: Toto Cutugno\n",
      "🟨 Elaborazione: Alberto Cheli\n"
     ]
    },
    {
     "name": "stderr",
     "output_type": "stream",
     "text": [
      "Estrazione data individuale:  19%|█▊        | 87/470 [00:23<01:25,  4.49it/s]"
     ]
    },
    {
     "name": "stdout",
     "output_type": "stream",
     "text": [
      "🟨 Elaborazione: Rimmel\n"
     ]
    },
    {
     "name": "stderr",
     "output_type": "stream",
     "text": [
      "Estrazione data individuale:  19%|█▉        | 89/470 [00:24<01:40,  3.78it/s]"
     ]
    },
    {
     "name": "stdout",
     "output_type": "stream",
     "text": [
      "🔍 Pseudonimo rilevato, provo con vero nome: riccardo aglietti\n",
      "⚠️ Nessuna data trovata per: Francesco Magni\n",
      "🟨 Elaborazione: Gianfranco De Angelis\n"
     ]
    },
    {
     "name": "stderr",
     "output_type": "stream",
     "text": [
      "Estrazione data individuale:  19%|█▉        | 91/470 [00:24<01:20,  4.72it/s]"
     ]
    },
    {
     "name": "stdout",
     "output_type": "stream",
     "text": [
      "🔍 Pseudonimo rilevato, provo con vero nome: enzo ghinazzi\n",
      "⚠️ Nessuna data trovata per: Rino Gaetano\n",
      "🟨 Elaborazione: Dario Baldan Bembo\n",
      "⚠️ Nessuna data trovata per: Ciro Sebastianelli\n",
      "🟨 Elaborazione: Luca Barbarossa\n",
      "🔍 Pseudonimo rilevato, provo con vero nome: bruno noli\n"
     ]
    },
    {
     "name": "stderr",
     "output_type": "stream",
     "text": [
      "Estrazione data individuale:  20%|█▉        | 93/470 [00:24<01:02,  6.03it/s]"
     ]
    },
    {
     "name": "stdout",
     "output_type": "stream",
     "text": [
      "❌ Nessuna pagina trovata per: Gianni Migliardi\n",
      "🟨 Elaborazione: Paolo Barabani\n",
      "🟨 Elaborazione: Michele Zarrillo\n"
     ]
    },
    {
     "name": "stderr",
     "output_type": "stream",
     "text": [
      "Estrazione data individuale:  20%|██        | 94/470 [00:25<01:37,  3.86it/s]"
     ]
    },
    {
     "name": "stdout",
     "output_type": "stream",
     "text": [
      "⚠️ Nessuna data trovata per: Aldo Donati\n",
      "🟨 Elaborazione: Eduardo De Crescenzo\n"
     ]
    },
    {
     "name": "stderr",
     "output_type": "stream",
     "text": [
      "Estrazione data individuale:  20%|██        | 95/470 [00:25<01:46,  3.51it/s]"
     ]
    },
    {
     "name": "stdout",
     "output_type": "stream",
     "text": [
      "🟨 Elaborazione: Sterling Saint-Jacques\n",
      "🟨 Elaborazione: Gianni Bella\n"
     ]
    },
    {
     "name": "stderr",
     "output_type": "stream",
     "text": [
      "Estrazione data individuale:  21%|██        | 98/470 [00:26<01:16,  4.88it/s]"
     ]
    },
    {
     "name": "stdout",
     "output_type": "stream",
     "text": [
      "🟨 Elaborazione: Sebastiano Occhino\n",
      "🟨 Elaborazione: Tom Hooker\n",
      "🟨 Elaborazione: Domenico Mattia\n"
     ]
    },
    {
     "name": "stderr",
     "output_type": "stream",
     "text": [
      "Estrazione data individuale:  21%|██▏       | 100/470 [00:26<01:42,  3.60it/s]"
     ]
    },
    {
     "name": "stdout",
     "output_type": "stream",
     "text": [
      "🟨 Elaborazione: Franco Fasano\n"
     ]
    },
    {
     "name": "stderr",
     "output_type": "stream",
     "text": [
      "Estrazione data individuale:  22%|██▏       | 103/470 [00:27<01:19,  4.61it/s]"
     ]
    },
    {
     "name": "stdout",
     "output_type": "stream",
     "text": [
      "🟨 Elaborazione: Giuseppe Cionfoli\n",
      "🟨 Elaborazione: Jimmy Fontana\n",
      "⚠️ Nessuna data trovata per: Sebastiano Occhino\n",
      "🟨 Elaborazione: Stefano Sani\n",
      "⚠️ Nessuna data trovata per: Domenico Mattia\n",
      "🟨 Elaborazione: Riccardo Del Turco\n",
      "🔍 Pseudonimo rilevato, provo con vero nome: thomas beecher hooker\n",
      "❌ Nessuna pagina trovata per: Rimmel\n",
      "🟨 Elaborazione: Plastic Bertrand\n"
     ]
    },
    {
     "name": "stderr",
     "output_type": "stream",
     "text": [
      "Estrazione data individuale:  23%|██▎       | 108/470 [00:27<00:42,  8.47it/s]"
     ]
    },
    {
     "name": "stdout",
     "output_type": "stream",
     "text": [
      "⚠️ Nessuna data trovata per: Sterling Saint-Jacques\n",
      "🟨 Elaborazione: Mal\n",
      "⚠️ Nessuna data trovata per: Bruno D'Andrea\n",
      "🟨 Elaborazione: Mario Castelnuovo\n",
      "🟨 Elaborazione: Roberto Soffici\n",
      "🔍 Pseudonimo rilevato, provo con vero nome: gianfranco fasano\n"
     ]
    },
    {
     "name": "stderr",
     "output_type": "stream",
     "text": [
      "Estrazione data individuale:  23%|██▎       | 110/470 [00:28<01:31,  3.93it/s]"
     ]
    },
    {
     "name": "stdout",
     "output_type": "stream",
     "text": [
      "🟨 Elaborazione: Vasco Rossi\n",
      "🟨 Elaborazione: Rino Martinez\n",
      "🔍 Pseudonimo rilevato, provo con vero nome: enrico sbriccoli\n",
      "🔍 Pseudonimo rilevato, provo con vero nome: roger allen fran\n",
      "🟨 Elaborazione: Claudio Villa\n"
     ]
    },
    {
     "name": "stderr",
     "output_type": "stream",
     "text": [
      "Estrazione data individuale:  24%|██▍       | 112/470 [00:29<01:15,  4.75it/s]"
     ]
    },
    {
     "name": "stdout",
     "output_type": "stream",
     "text": [
      "🔍 Pseudonimo rilevato, provo con vero nome: paul bradley couling\n",
      "🟨 Elaborazione: Piero Cassano\n",
      "🟨 Elaborazione: Marco Armani\n"
     ]
    },
    {
     "name": "stderr",
     "output_type": "stream",
     "text": [
      "Estrazione data individuale:  25%|██▍       | 116/470 [00:30<01:31,  3.85it/s]"
     ]
    },
    {
     "name": "stdout",
     "output_type": "stream",
     "text": [
      "🔍 Pseudonimo rilevato, provo con vero nome: claudio pica\n",
      "🟨 Elaborazione: Giorgia Fiorio\n",
      "🟨 Elaborazione: Bertín Osborne\n",
      "🟨 Elaborazione: Riccardo Azzurri\n",
      "🔍 Pseudonimo rilevato, provo con vero nome: marco antonio armenise\n",
      "🟨 Elaborazione: Richard Sanderson\n"
     ]
    },
    {
     "name": "stderr",
     "output_type": "stream",
     "text": [
      "Estrazione data individuale:  25%|██▌       | 118/470 [00:31<01:56,  3.01it/s]"
     ]
    },
    {
     "name": "stdout",
     "output_type": "stream",
     "text": [
      "🟨 Elaborazione: Donatello\n"
     ]
    },
    {
     "name": "stderr",
     "output_type": "stream",
     "text": [
      "Estrazione data individuale:  26%|██▌       | 121/470 [00:32<01:22,  4.22it/s]"
     ]
    },
    {
     "name": "stdout",
     "output_type": "stream",
     "text": [
      "🟨 Elaborazione: Nino Buonocore\n",
      "🟨 Elaborazione: Alessio Colombini\n",
      "🟨 Elaborazione: Manuele Pepe\n"
     ]
    },
    {
     "name": "stderr",
     "output_type": "stream",
     "text": [
      "Estrazione data individuale:  26%|██▌       | 123/470 [00:32<01:10,  4.89it/s]"
     ]
    },
    {
     "name": "stdout",
     "output_type": "stream",
     "text": [
      "⚠️ Nessuna data trovata per: Jimmy Fontana\n",
      "🟨 Elaborazione: Amedeo Minghi\n",
      "🟨 Elaborazione: Alberto Camerini\n"
     ]
    },
    {
     "name": "stderr",
     "output_type": "stream",
     "text": [
      "Estrazione data individuale:  26%|██▋       | 124/470 [00:32<01:14,  4.66it/s]"
     ]
    },
    {
     "name": "stdout",
     "output_type": "stream",
     "text": [
      "🟨 Elaborazione: Garbo\n",
      "🟨 Elaborazione: Enrico Ruggeri\n"
     ]
    },
    {
     "name": "stderr",
     "output_type": "stream",
     "text": [
      "Estrazione data individuale:  27%|██▋       | 127/470 [00:33<01:23,  4.10it/s]"
     ]
    },
    {
     "name": "stdout",
     "output_type": "stream",
     "text": [
      "🟨 Elaborazione: Luis Miguel\n",
      "🔍 Pseudonimo rilevato, provo con vero nome: davy jones e poi altri due\n",
      "⚠️ Nessuna data trovata per: Alessio Colombini\n",
      "🟨 Elaborazione: Eros Ramazzotti\n"
     ]
    },
    {
     "name": "stderr",
     "output_type": "stream",
     "text": [
      "Estrazione data individuale:  27%|██▋       | 128/470 [00:33<01:21,  4.19it/s]"
     ]
    },
    {
     "name": "stdout",
     "output_type": "stream",
     "text": [
      "🔍 Pseudonimo rilevato, provo con vero nome: marco ceramicola\n",
      "🟨 Elaborazione: Ivan Graziani\n"
     ]
    },
    {
     "name": "stderr",
     "output_type": "stream",
     "text": [
      "Estrazione data individuale:  28%|██▊       | 130/470 [00:33<01:00,  5.58it/s]"
     ]
    },
    {
     "name": "stdout",
     "output_type": "stream",
     "text": [
      "⚠️ Nessuna data trovata per: Claudio Villa\n",
      "🟨 Elaborazione: Eugenio Finardi\n",
      "🟨 Elaborazione: Mimmo Locasciulli\n"
     ]
    },
    {
     "name": "stderr",
     "output_type": "stream",
     "text": [
      "Estrazione data individuale:  28%|██▊       | 131/470 [00:34<01:00,  5.62it/s]"
     ]
    },
    {
     "name": "stdout",
     "output_type": "stream",
     "text": [
      "🟨 Elaborazione: Renzo Arbore\n",
      "🟨 Elaborazione: Nino D'Angelo\n"
     ]
    },
    {
     "name": "stderr",
     "output_type": "stream",
     "text": [
      "Estrazione data individuale:  28%|██▊       | 133/470 [00:34<01:20,  4.19it/s]"
     ]
    },
    {
     "name": "stdout",
     "output_type": "stream",
     "text": [
      "🟨 Elaborazione: Fred Bongusto\n"
     ]
    },
    {
     "name": "stderr",
     "output_type": "stream",
     "text": [
      "Estrazione data individuale:  29%|██▊       | 135/470 [00:35<01:19,  4.19it/s]"
     ]
    },
    {
     "name": "stdout",
     "output_type": "stream",
     "text": [
      "🟨 Elaborazione: Mango\n",
      "🟨 Elaborazione: Scialpi\n",
      "⚠️ Nessuna data trovata per: Ivan Graziani\n",
      "🟨 Elaborazione: Tony Esposito\n",
      "🟨 Elaborazione: Sergio Caputo\n"
     ]
    },
    {
     "name": "stderr",
     "output_type": "stream",
     "text": [
      "Estrazione data individuale:  30%|██▉       | 139/470 [00:35<00:53,  6.24it/s]"
     ]
    },
    {
     "name": "stdout",
     "output_type": "stream",
     "text": [
      "🟨 Elaborazione: Massimo Ranieri\n",
      "🔍 Pseudonimo rilevato, provo con vero nome: renato abate\n",
      "🟨 Elaborazione: Raf\n",
      "🔍 Pseudonimo rilevato, provo con vero nome: alfredo antonio carlo buongusto\n"
     ]
    },
    {
     "name": "stderr",
     "output_type": "stream",
     "text": [
      "Estrazione data individuale:  30%|██▉       | 140/470 [00:36<01:53,  2.90it/s]"
     ]
    },
    {
     "name": "stdout",
     "output_type": "stream",
     "text": [
      "🟨 Elaborazione: Francesco Nuti\n",
      "🟨 Elaborazione: Franco Califano\n",
      "🟨 Elaborazione: Tullio De Piscopo\n",
      "🔍 Pseudonimo rilevato, provo con vero nome: giovanni scialpi\n",
      "🟨 Elaborazione: Ron\n"
     ]
    },
    {
     "name": "stderr",
     "output_type": "stream",
     "text": [
      "Estrazione data individuale:  30%|███       | 143/470 [00:36<01:10,  4.66it/s]"
     ]
    },
    {
     "name": "stdout",
     "output_type": "stream",
     "text": [
      "⚠️ Nessuna data trovata per: Mango\n",
      "🟨 Elaborazione: Alan Sorrenti\n",
      "🔍 Pseudonimo rilevato, provo con vero nome: giovanni calone\n",
      "🔍 Pseudonimo rilevato, provo con vero nome: raffaele riefoli\n"
     ]
    },
    {
     "name": "stderr",
     "output_type": "stream",
     "text": [
      "Estrazione data individuale:  31%|███       | 145/470 [00:38<01:54,  2.85it/s]"
     ]
    },
    {
     "name": "stdout",
     "output_type": "stream",
     "text": [
      "⚠️ Nessuna data trovata per: Francesco Nuti\n",
      "🟨 Elaborazione: Jovanotti\n",
      "🟨 Elaborazione: Francesco Salvi\n",
      "⚠️ Nessuna data trovata per: Franco Califano\n",
      "🟨 Elaborazione: Gino Paoli\n"
     ]
    },
    {
     "name": "stderr",
     "output_type": "stream",
     "text": [
      "Estrazione data individuale:  31%|███▏      | 148/470 [00:38<01:24,  3.80it/s]"
     ]
    },
    {
     "name": "stdout",
     "output_type": "stream",
     "text": [
      "🔍 Pseudonimo rilevato, provo con vero nome: rosalino cellamare\n",
      "🟨 Elaborazione: Renato Carosone\n"
     ]
    },
    {
     "name": "stderr",
     "output_type": "stream",
     "text": [
      "Estrazione data individuale:  32%|███▏      | 149/470 [00:39<01:36,  3.32it/s]"
     ]
    },
    {
     "name": "stdout",
     "output_type": "stream",
     "text": [
      "🟨 Elaborazione: Enzo Jannacci\n"
     ]
    },
    {
     "name": "stderr",
     "output_type": "stream",
     "text": [
      "Estrazione data individuale:  32%|███▏      | 150/470 [00:39<01:44,  3.06it/s]"
     ]
    },
    {
     "name": "stdout",
     "output_type": "stream",
     "text": [
      "⚠️ Nessuna data trovata per: Fred Bongusto\n",
      "🟨 Elaborazione: Gigi Sabani\n"
     ]
    },
    {
     "name": "stderr",
     "output_type": "stream",
     "text": [
      "Estrazione data individuale:  32%|███▏      | 151/470 [00:39<01:47,  2.96it/s]"
     ]
    },
    {
     "name": "stdout",
     "output_type": "stream",
     "text": [
      "🔍 Pseudonimo rilevato, provo con vero nome: toang\n",
      "🔍 Pseudonimo rilevato, provo con vero nome: jovanotti\n",
      "🟨 Elaborazione: Riccardo Cocciante\n"
     ]
    },
    {
     "name": "stderr",
     "output_type": "stream",
     "text": [
      "Estrazione data individuale:  33%|███▎      | 153/470 [00:40<01:26,  3.65it/s]"
     ]
    },
    {
     "name": "stdout",
     "output_type": "stream",
     "text": [
      "🟨 Elaborazione: Renato Zero\n",
      "⚠️ Nessuna data trovata per: Renato Carosone\n",
      "🟨 Elaborazione: Marco Masini\n",
      "🟨 Elaborazione: Umberto Tozzi\n",
      "🟨 Elaborazione: Paolo Vallesi\n",
      "⚠️ Nessuna data trovata per: Enzo Jannacci\n",
      "🟨 Elaborazione: Pierangelo Bertoli\n"
     ]
    },
    {
     "name": "stderr",
     "output_type": "stream",
     "text": [
      "Estrazione data individuale:  33%|███▎      | 157/470 [00:40<00:54,  5.77it/s]"
     ]
    },
    {
     "name": "stdout",
     "output_type": "stream",
     "text": [
      "🟨 Elaborazione: Paolo Mengoli\n"
     ]
    },
    {
     "name": "stderr",
     "output_type": "stream",
     "text": [
      "Estrazione data individuale:  34%|███▍      | 159/470 [00:41<00:58,  5.31it/s]"
     ]
    },
    {
     "name": "stdout",
     "output_type": "stream",
     "text": [
      "⚠️ Nessuna data trovata per: Gigi Sabani\n",
      "🟨 Elaborazione: Enzo Ghinazzi\n",
      "🟨 Elaborazione: Cristiano De André\n"
     ]
    },
    {
     "name": "stderr",
     "output_type": "stream",
     "text": [
      "Estrazione data individuale:  34%|███▍      | 160/470 [00:41<00:57,  5.34it/s]"
     ]
    },
    {
     "name": "stdout",
     "output_type": "stream",
     "text": [
      "🟨 Elaborazione: Biagio Antonacci\n"
     ]
    },
    {
     "name": "stderr",
     "output_type": "stream",
     "text": [
      "Estrazione data individuale:  35%|███▍      | 163/470 [00:41<00:49,  6.21it/s]"
     ]
    },
    {
     "name": "stdout",
     "output_type": "stream",
     "text": [
      "🟨 Elaborazione: Andrea Mingardi\n",
      "🟨 Elaborazione: Roberto Murolo\n",
      "🟨 Elaborazione: Alessandro Canino\n",
      "🔍 Pseudonimo rilevato, provo con vero nome: renato fiacchini\n",
      "🟨 Elaborazione: Aleandro Baldi\n"
     ]
    },
    {
     "name": "stderr",
     "output_type": "stream",
     "text": [
      "Estrazione data individuale:  35%|███▌      | 165/470 [00:42<00:49,  6.22it/s]"
     ]
    },
    {
     "name": "stdout",
     "output_type": "stream",
     "text": [
      "🟨 Elaborazione: Giorgio Faletti\n",
      "⚠️ Nessuna data trovata per: Pierangelo Bertoli\n",
      "🟨 Elaborazione: Alessandro Bono\n"
     ]
    },
    {
     "name": "stderr",
     "output_type": "stream",
     "text": [
      "Estrazione data individuale:  36%|███▌      | 167/470 [00:42<00:50,  6.02it/s]"
     ]
    },
    {
     "name": "stdout",
     "output_type": "stream",
     "text": [
      "🟨 Elaborazione: Carlo Marrale\n"
     ]
    },
    {
     "name": "stderr",
     "output_type": "stream",
     "text": [
      "Estrazione data individuale:  36%|███▌      | 168/470 [00:42<01:00,  4.97it/s]"
     ]
    },
    {
     "name": "stdout",
     "output_type": "stream",
     "text": [
      "🟨 Elaborazione: Andrea Bocelli\n",
      "🔍 Pseudonimo rilevato, provo con vero nome: enzo ghinazzi\n"
     ]
    },
    {
     "name": "stderr",
     "output_type": "stream",
     "text": [
      "Estrazione data individuale:  36%|███▋      | 171/470 [00:43<00:48,  6.11it/s]"
     ]
    },
    {
     "name": "stdout",
     "output_type": "stream",
     "text": [
      "⚠️ Nessuna data trovata per: Roberto Murolo\n",
      "🟨 Elaborazione: Fiorello\n",
      "⚠️ Nessuna data trovata per: Andrea Mingardi\n",
      "🟨 Elaborazione: Danilo Amerio\n",
      "🟨 Elaborazione: Giò Di Tonno\n",
      "🟨 Elaborazione: Massimo Di Cataldo\n"
     ]
    },
    {
     "name": "stderr",
     "output_type": "stream",
     "text": [
      "Estrazione data individuale:  37%|███▋      | 174/470 [00:43<00:49,  5.98it/s]"
     ]
    },
    {
     "name": "stdout",
     "output_type": "stream",
     "text": [
      "🔍 Pseudonimo rilevato, provo con vero nome: alessandro pizzamiglio\n",
      "⚠️ Nessuna data trovata per: Giorgio Faletti\n",
      "🟨 Elaborazione: Federico Salvatore\n",
      "🟨 Elaborazione: Gigi Finizio\n"
     ]
    },
    {
     "name": "stderr",
     "output_type": "stream",
     "text": [
      "Estrazione data individuale:  37%|███▋      | 175/470 [00:44<01:14,  3.97it/s]"
     ]
    },
    {
     "name": "stdout",
     "output_type": "stream",
     "text": [
      "🟨 Elaborazione: Fedele Boccassini\n"
     ]
    },
    {
     "name": "stderr",
     "output_type": "stream",
     "text": [
      "Estrazione data individuale:  38%|███▊      | 179/470 [00:44<00:44,  6.54it/s]"
     ]
    },
    {
     "name": "stdout",
     "output_type": "stream",
     "text": [
      "🟨 Elaborazione: Nek\n",
      "🟨 Elaborazione: Francesco Baccini\n",
      "🟨 Elaborazione: Alessandro Mara\n",
      "🟨 Elaborazione: Alessandro Errico\n"
     ]
    },
    {
     "name": "stderr",
     "output_type": "stream",
     "text": [
      "Estrazione data individuale:  39%|███▊      | 182/470 [00:45<00:45,  6.29it/s]"
     ]
    },
    {
     "name": "stdout",
     "output_type": "stream",
     "text": [
      "⚠️ Nessuna data trovata per: Federico Salvatore\n",
      "🟨 Elaborazione: Leandro Barsotti\n",
      "🟨 Elaborazione: Maurizio Lauzi\n",
      "🟨 Elaborazione: Luca Sepe\n"
     ]
    },
    {
     "name": "stderr",
     "output_type": "stream",
     "text": [
      "Estrazione data individuale:  39%|███▉      | 183/470 [00:45<01:00,  4.74it/s]"
     ]
    },
    {
     "name": "stdout",
     "output_type": "stream",
     "text": [
      "🟨 Elaborazione: Niccolò Fabi\n"
     ]
    },
    {
     "name": "stderr",
     "output_type": "stream",
     "text": [
      "Estrazione data individuale:  39%|███▉      | 185/470 [00:46<01:04,  4.45it/s]"
     ]
    },
    {
     "name": "stdout",
     "output_type": "stream",
     "text": [
      "🟨 Elaborazione: Alex Baroni\n",
      "🔍 Pseudonimo rilevato, provo con vero nome: filippo neviani\n",
      "🔍 Pseudonimo rilevato, provo con vero nome: alessandro maraniello\n",
      "🟨 Elaborazione: Daniele Silvestri\n",
      "🟨 Elaborazione: Gatto Panceri\n"
     ]
    },
    {
     "name": "stderr",
     "output_type": "stream",
     "text": [
      "Estrazione data individuale:  40%|████      | 189/470 [00:46<00:42,  6.63it/s]"
     ]
    },
    {
     "name": "stdout",
     "output_type": "stream",
     "text": [
      "🟨 Elaborazione: Gianluca Grignani\n",
      "🟨 Elaborazione: Max Gazzè\n",
      "⚠️ Nessuna data trovata per: Alessandro Bono\n",
      "🟨 Elaborazione: Samuele Bersani\n",
      "🟨 Elaborazione: Gigi D'Alessio\n"
     ]
    },
    {
     "name": "stderr",
     "output_type": "stream",
     "text": [
      "Estrazione data individuale:  41%|████      | 191/470 [00:47<00:48,  5.74it/s]"
     ]
    },
    {
     "name": "stdout",
     "output_type": "stream",
     "text": [
      "🟨 Elaborazione: Alex Britti\n"
     ]
    },
    {
     "name": "stderr",
     "output_type": "stream",
     "text": [
      "Estrazione data individuale:  41%|████      | 193/470 [00:47<01:00,  4.59it/s]"
     ]
    },
    {
     "name": "stdout",
     "output_type": "stream",
     "text": [
      "⚠️ Nessuna data trovata per: Alex Baroni\n",
      "🟨 Elaborazione: Fabio Concato\n",
      "🔍 Pseudonimo rilevato, provo con vero nome: luigi giovanni maria panceri\n",
      "🟨 Elaborazione: Francesco Renga\n"
     ]
    },
    {
     "name": "stderr",
     "output_type": "stream",
     "text": [
      "Estrazione data individuale:  42%|████▏     | 196/470 [00:48<00:45,  6.03it/s]"
     ]
    },
    {
     "name": "stdout",
     "output_type": "stream",
     "text": [
      "🟨 Elaborazione: Alessandro Safina\n",
      "🟨 Elaborazione: Sergio Cammariere\n",
      "⚠️ Nessuna data trovata per: Samuele Bersani\n",
      "🟨 Elaborazione: Mario Rosini\n",
      "🟨 Elaborazione: Paolo Meneguzzi\n"
     ]
    },
    {
     "name": "stderr",
     "output_type": "stream",
     "text": [
      "Estrazione data individuale:  42%|████▏     | 198/470 [00:48<00:53,  5.13it/s]"
     ]
    },
    {
     "name": "stdout",
     "output_type": "stream",
     "text": [
      "🟨 Elaborazione: Bungaro\n",
      "🔍 Pseudonimo rilevato, provo con vero nome: fabio bruno ernani piccaluga\n"
     ]
    },
    {
     "name": "stderr",
     "output_type": "stream",
     "text": [
      "Estrazione data individuale:  43%|████▎     | 200/470 [00:49<01:08,  3.95it/s]"
     ]
    },
    {
     "name": "stdout",
     "output_type": "stream",
     "text": [
      "🟨 Elaborazione: Stefano Picchi\n",
      "🟨 Elaborazione: Neffa\n"
     ]
    },
    {
     "name": "stderr",
     "output_type": "stream",
     "text": [
      "Estrazione data individuale:  43%|████▎     | 203/470 [00:49<00:41,  6.42it/s]"
     ]
    },
    {
     "name": "stdout",
     "output_type": "stream",
     "text": [
      "🟨 Elaborazione: Mario Venuti\n",
      "🟨 Elaborazione: DJ Francesco\n",
      "🟨 Elaborazione: Simone Tomassini\n",
      "🟨 Elaborazione: Omar Pedrini\n",
      "🔍 Pseudonimo rilevato, provo con vero nome: pablo meneguzzo\n",
      "🔍 Pseudonimo rilevato, provo con vero nome: antonio cal\n"
     ]
    },
    {
     "name": "stderr",
     "output_type": "stream",
     "text": [
      "Estrazione data individuale:  44%|████▍     | 206/470 [00:50<01:05,  4.00it/s]"
     ]
    },
    {
     "name": "stdout",
     "output_type": "stream",
     "text": [
      "🟨 Elaborazione: Daniele Groff\n",
      "🟨 Elaborazione: Adriano Pappalardo\n"
     ]
    },
    {
     "name": "stderr",
     "output_type": "stream",
     "text": [
      "Estrazione data individuale:  44%|████▍     | 208/470 [00:51<00:54,  4.81it/s]"
     ]
    },
    {
     "name": "stdout",
     "output_type": "stream",
     "text": [
      "🟨 Elaborazione: Andrè\n",
      "🔍 Pseudonimo rilevato, provo con vero nome: giovanni pellino\n",
      "🟨 Elaborazione: Christian Lo Zito\n"
     ]
    },
    {
     "name": "stderr",
     "output_type": "stream",
     "text": [
      "Estrazione data individuale:  44%|████▍     | 209/470 [00:51<00:49,  5.27it/s]"
     ]
    },
    {
     "name": "stdout",
     "output_type": "stream",
     "text": [
      "🟨 Elaborazione: Piotta\n"
     ]
    },
    {
     "name": "stderr",
     "output_type": "stream",
     "text": [
      "Estrazione data individuale:  45%|████▍     | 210/470 [00:51<00:54,  4.77it/s]"
     ]
    },
    {
     "name": "stdout",
     "output_type": "stream",
     "text": [
      "🟨 Elaborazione: Christian\n"
     ]
    },
    {
     "name": "stderr",
     "output_type": "stream",
     "text": [
      "Estrazione data individuale:  45%|████▍     | 211/470 [00:52<01:18,  3.30it/s]"
     ]
    },
    {
     "name": "stdout",
     "output_type": "stream",
     "text": [
      "🟨 Elaborazione: Nicola Arigliano\n",
      "🟨 Elaborazione: Max De Angelis\n"
     ]
    },
    {
     "name": "stderr",
     "output_type": "stream",
     "text": [
      "Estrazione data individuale:  45%|████▌     | 213/470 [00:52<00:55,  4.61it/s]"
     ]
    },
    {
     "name": "stdout",
     "output_type": "stream",
     "text": [
      "🟨 Elaborazione: Enrico Boccadoro\n"
     ]
    },
    {
     "name": "stderr",
     "output_type": "stream",
     "text": [
      "Estrazione data individuale:  46%|████▌     | 214/470 [00:53<01:33,  2.75it/s]"
     ]
    },
    {
     "name": "stdout",
     "output_type": "stream",
     "text": [
      "🟨 Elaborazione: Povia\n"
     ]
    },
    {
     "name": "stderr",
     "output_type": "stream",
     "text": [
      "Estrazione data individuale:  46%|████▌     | 216/470 [00:53<01:13,  3.46it/s]"
     ]
    },
    {
     "name": "stdout",
     "output_type": "stream",
     "text": [
      "🟨 Elaborazione: Riccardo Maffoni\n",
      "⚠️ Nessuna data trovata per: Nicola Arigliano\n",
      "🟨 Elaborazione: Simone Cristicchi\n",
      "🟨 Elaborazione: I Ragazzi di Scampia con Gigi Finizio\n"
     ]
    },
    {
     "name": "stderr",
     "output_type": "stream",
     "text": [
      "Estrazione data individuale:  46%|████▋     | 218/470 [00:53<00:55,  4.56it/s]"
     ]
    },
    {
     "name": "stdout",
     "output_type": "stream",
     "text": [
      "⚠️ Nessuna data trovata per: Enrico Boccadoro\n",
      "🟨 Elaborazione: Bassano\n"
     ]
    },
    {
     "name": "stderr",
     "output_type": "stream",
     "text": [
      "Estrazione data individuale:  47%|████▋     | 220/470 [00:54<00:56,  4.41it/s]"
     ]
    },
    {
     "name": "stdout",
     "output_type": "stream",
     "text": [
      "🔍 Pseudonimo rilevato, provo con vero nome: gaetano cristiano vincenzo rossi\n",
      "🟨 Elaborazione: Luca Dirisio\n",
      "❌ Nessuna pagina trovata per: Christian Lo Zito\n",
      "🟨 Elaborazione: Ivan Segreto\n",
      "🔍 Pseudonimo rilevato, provo con vero nome: tommaso zanello\n"
     ]
    },
    {
     "name": "stderr",
     "output_type": "stream",
     "text": [
      "Estrazione data individuale:  47%|████▋     | 223/470 [00:54<00:42,  5.80it/s]"
     ]
    },
    {
     "name": "stdout",
     "output_type": "stream",
     "text": [
      "⚠️ Nomi multipli rilevati, salto: Mario Venuti e Arancia Sonora\n",
      "🟨 Elaborazione: Antonello\n",
      "🟨 Elaborazione: Piero Mazzocchetti\n"
     ]
    },
    {
     "name": "stderr",
     "output_type": "stream",
     "text": [
      "Estrazione data individuale:  48%|████▊     | 224/470 [00:54<00:47,  5.14it/s]"
     ]
    },
    {
     "name": "stdout",
     "output_type": "stream",
     "text": [
      "🟨 Elaborazione: Francesco con Roby Facchinetti\n"
     ]
    },
    {
     "name": "stderr",
     "output_type": "stream",
     "text": [
      "Estrazione data individuale:  48%|████▊     | 225/470 [00:55<00:47,  5.13it/s]"
     ]
    },
    {
     "name": "stdout",
     "output_type": "stream",
     "text": [
      "❌ Nessuna pagina trovata per: Andrè\n",
      "🟨 Elaborazione: Paolo Rossi\n"
     ]
    },
    {
     "name": "stderr",
     "output_type": "stream",
     "text": [
      "Estrazione data individuale:  48%|████▊     | 226/470 [00:55<00:59,  4.13it/s]"
     ]
    },
    {
     "name": "stdout",
     "output_type": "stream",
     "text": [
      "🟨 Elaborazione: Johnny Dorelli\n",
      "🟨 Elaborazione: Fabrizio Moro\n"
     ]
    },
    {
     "name": "stderr",
     "output_type": "stream",
     "text": [
      "Estrazione data individuale:  49%|████▊     | 229/470 [00:56<00:53,  4.53it/s]"
     ]
    },
    {
     "name": "stdout",
     "output_type": "stream",
     "text": [
      "⚠️ Nessuna data trovata per: Antonello\n",
      "🟨 Elaborazione: Eugenio Bennato\n",
      "🟨 Elaborazione: Frankie hi-nrg mc\n",
      "🔍 Pseudonimo rilevato, provo con vero nome: antonio bassano sarri\n"
     ]
    },
    {
     "name": "stderr",
     "output_type": "stream",
     "text": [
      "Estrazione data individuale:  49%|████▉     | 230/470 [00:56<01:17,  3.12it/s]"
     ]
    },
    {
     "name": "stdout",
     "output_type": "stream",
     "text": [
      "❌ Nessuna pagina trovata per: I Ragazzi di Scampia con Gigi Finizio\n",
      "🟨 Elaborazione: Marco Carta\n",
      "🔍 Pseudonimo rilevato, provo con vero nome: fabrizio mobrici\n",
      "🔍 Pseudonimo rilevato, provo con vero nome: giorgio domenico guidi\n"
     ]
    },
    {
     "name": "stderr",
     "output_type": "stream",
     "text": [
      "Estrazione data individuale:  49%|████▉     | 231/470 [00:57<01:40,  2.37it/s]"
     ]
    },
    {
     "name": "stdout",
     "output_type": "stream",
     "text": [
      "🟨 Elaborazione: Sal Da Vinci\n",
      "🟨 Elaborazione: Gemelli DiVersi\n",
      "🟨 Elaborazione: Valerio Scanu\n",
      "🔍 Pseudonimo rilevato, provo con vero nome: francesco di ges\n"
     ]
    },
    {
     "name": "stderr",
     "output_type": "stream",
     "text": [
      "Estrazione data individuale:  50%|████▉     | 234/470 [00:58<01:15,  3.13it/s]"
     ]
    },
    {
     "name": "stdout",
     "output_type": "stream",
     "text": [
      "❌ Nessuna pagina trovata per: Francesco con Roby Facchinetti\n",
      "🟨 Elaborazione: Marco Mengoni\n",
      "🟨 Elaborazione: Davide Van De Sfroos\n"
     ]
    },
    {
     "name": "stderr",
     "output_type": "stream",
     "text": [
      "Estrazione data individuale:  50%|█████     | 236/470 [00:58<01:19,  2.94it/s]"
     ]
    },
    {
     "name": "stdout",
     "output_type": "stream",
     "text": [
      "❌ Nessuna pagina trovata per: Paolo Rossi\n",
      "🟨 Elaborazione: Max Pezzali\n",
      "⚠️ Nessuna data trovata per: Gemelli DiVersi\n",
      "🟨 Elaborazione: Raphael Gualazzi\n",
      "🔍 Pseudonimo rilevato, provo con vero nome: salvatore michael sorrentino\n"
     ]
    },
    {
     "name": "stderr",
     "output_type": "stream",
     "text": [
      "Estrazione data individuale:  51%|█████     | 238/470 [00:59<01:01,  3.79it/s]"
     ]
    },
    {
     "name": "stdout",
     "output_type": "stream",
     "text": [
      "🟨 Elaborazione: Antoine\n"
     ]
    },
    {
     "name": "stderr",
     "output_type": "stream",
     "text": [
      "Estrazione data individuale:  51%|█████     | 239/470 [00:59<01:03,  3.62it/s]"
     ]
    },
    {
     "name": "stdout",
     "output_type": "stream",
     "text": [
      "⚠️ Nessuna data trovata per: Bassano\n",
      "🟨 Elaborazione: Renzo Rubino\n"
     ]
    },
    {
     "name": "stderr",
     "output_type": "stream",
     "text": [
      "Estrazione data individuale:  51%|█████     | 240/470 [00:59<01:01,  3.76it/s]"
     ]
    },
    {
     "name": "stdout",
     "output_type": "stream",
     "text": [
      "🟨 Elaborazione: Francesco Sarcina\n",
      "🔍 Pseudonimo rilevato, provo con vero nome: davide enrico bernasconi\n"
     ]
    },
    {
     "name": "stderr",
     "output_type": "stream",
     "text": [
      "Estrazione data individuale:  52%|█████▏    | 244/470 [01:00<00:48,  4.63it/s]"
     ]
    },
    {
     "name": "stdout",
     "output_type": "stream",
     "text": [
      "🟨 Elaborazione: Giuliano Palma🟨 Elaborazione: Riccardo Sinigallia\n",
      "\n",
      "🟨 Elaborazione: Lorenzo Fragola\n",
      "🟨 Elaborazione: Nesli\n"
     ]
    },
    {
     "name": "stderr",
     "output_type": "stream",
     "text": [
      "Estrazione data individuale:  52%|█████▏    | 245/470 [01:00<00:52,  4.27it/s]"
     ]
    },
    {
     "name": "stdout",
     "output_type": "stream",
     "text": [
      "🟨 Elaborazione: Andrea Ori\n"
     ]
    },
    {
     "name": "stderr",
     "output_type": "stream",
     "text": [
      "Estrazione data individuale:  53%|█████▎    | 247/470 [01:01<00:46,  4.78it/s]"
     ]
    },
    {
     "name": "stdout",
     "output_type": "stream",
     "text": [
      "🟨 Elaborazione: Clementino\n",
      "🟨 Elaborazione: Rocco Hunt\n"
     ]
    },
    {
     "name": "stderr",
     "output_type": "stream",
     "text": [
      "Estrazione data individuale:  53%|█████▎    | 248/470 [01:01<00:59,  3.73it/s]"
     ]
    },
    {
     "name": "stdout",
     "output_type": "stream",
     "text": [
      "🟨 Elaborazione: Alessio Bernabei\n",
      "🟨 Elaborazione: Francesco Gabbani\n"
     ]
    },
    {
     "name": "stderr",
     "output_type": "stream",
     "text": [
      "Estrazione data individuale:  53%|█████▎    | 250/470 [01:02<00:47,  4.62it/s]"
     ]
    },
    {
     "name": "stdout",
     "output_type": "stream",
     "text": [
      "🔍 Pseudonimo rilevato, provo con vero nome: francesco tarducci\n",
      "🟨 Elaborazione: Ermal Meta\n",
      "🟨 Elaborazione: Michele Bravi\n"
     ]
    },
    {
     "name": "stderr",
     "output_type": "stream",
     "text": [
      "Estrazione data individuale:  54%|█████▎    | 252/470 [01:02<00:46,  4.67it/s]"
     ]
    },
    {
     "name": "stdout",
     "output_type": "stream",
     "text": [
      "🟨 Elaborazione: Sergio Sylvestre\n",
      "🔍 Pseudonimo rilevato, provo con vero nome: rocco pagliarulo\n"
     ]
    },
    {
     "name": "stderr",
     "output_type": "stream",
     "text": [
      "Estrazione data individuale:  54%|█████▍    | 254/470 [01:03<00:56,  3.84it/s]"
     ]
    },
    {
     "name": "stdout",
     "output_type": "stream",
     "text": [
      "🟨 Elaborazione: Anastasio\n",
      "🟨 Elaborazione: Giovanni Caccamo\n",
      "🟨 Elaborazione: Red Canzian\n"
     ]
    },
    {
     "name": "stderr",
     "output_type": "stream",
     "text": [
      "Estrazione data individuale:  54%|█████▍    | 256/470 [01:03<00:47,  4.50it/s]"
     ]
    },
    {
     "name": "stdout",
     "output_type": "stream",
     "text": [
      "🟨 Elaborazione: Mario Biondi\n",
      "🟨 Elaborazione: Mahmood\n"
     ]
    },
    {
     "name": "stderr",
     "output_type": "stream",
     "text": [
      "Estrazione data individuale:  55%|█████▍    | 258/470 [01:03<00:45,  4.62it/s]"
     ]
    },
    {
     "name": "stdout",
     "output_type": "stream",
     "text": [
      "🟨 Elaborazione: Irama\n"
     ]
    },
    {
     "name": "stderr",
     "output_type": "stream",
     "text": [
      "Estrazione data individuale:  55%|█████▌    | 259/470 [01:04<00:50,  4.14it/s]"
     ]
    },
    {
     "name": "stdout",
     "output_type": "stream",
     "text": [
      "❌ Nessuna pagina trovata per: Andrea Ori\n",
      "🟨 Elaborazione: Achille Lauro\n",
      "🔍 Pseudonimo rilevato, provo con vero nome: bruno canzian\n"
     ]
    },
    {
     "name": "stderr",
     "output_type": "stream",
     "text": [
      "Estrazione data individuale:  56%|█████▌    | 261/470 [01:05<01:04,  3.25it/s]"
     ]
    },
    {
     "name": "stdout",
     "output_type": "stream",
     "text": [
      "🔍 Pseudonimo rilevato, provo con vero nome: alessandro mahmoud\n",
      "❌ Nessuna pagina trovata per: Clementino\n",
      "🟨 Elaborazione: Enrico Nigiotti\n",
      "🟨 Elaborazione: Ghemon\n",
      "🔍 Pseudonimo rilevato, provo con vero nome: filippo maria fanti\n"
     ]
    },
    {
     "name": "stderr",
     "output_type": "stream",
     "text": [
      "Estrazione data individuale:  56%|█████▌    | 262/470 [01:05<01:11,  2.90it/s]"
     ]
    },
    {
     "name": "stdout",
     "output_type": "stream",
     "text": [
      "🟨 Elaborazione: Alessandro\n"
     ]
    },
    {
     "name": "stderr",
     "output_type": "stream",
     "text": [
      "Estrazione data individuale:  56%|█████▌    | 263/470 [01:05<01:10,  2.94it/s]"
     ]
    },
    {
     "name": "stdout",
     "output_type": "stream",
     "text": [
      "🔍 Pseudonimo rilevato, provo con vero nome: mario ranno\n",
      "🟨 Elaborazione: Einar\n"
     ]
    },
    {
     "name": "stderr",
     "output_type": "stream",
     "text": [
      "Estrazione data individuale:  56%|█████▌    | 264/470 [01:06<01:18,  2.63it/s]"
     ]
    },
    {
     "name": "stdout",
     "output_type": "stream",
     "text": [
      "🟨 Elaborazione: Diodato\n"
     ]
    },
    {
     "name": "stderr",
     "output_type": "stream",
     "text": [
      "Estrazione data individuale:  56%|█████▋    | 265/470 [01:06<01:14,  2.76it/s]"
     ]
    },
    {
     "name": "stdout",
     "output_type": "stream",
     "text": [
      "🔍 Pseudonimo rilevato, provo con vero nome: giovanni luca picariello\n",
      "❌ Nessuna pagina trovata per: Anastasio\n",
      "🟨 Elaborazione: Piero Pelù\n",
      "🔍 Pseudonimo rilevato, provo con vero nome: lauro de marinis\n"
     ]
    },
    {
     "name": "stderr",
     "output_type": "stream",
     "text": [
      "Estrazione data individuale:  57%|█████▋    | 267/470 [01:08<01:41,  2.00it/s]"
     ]
    },
    {
     "name": "stdout",
     "output_type": "stream",
     "text": [
      "🟨 Elaborazione: Alberto Beltrami\n",
      "🟨 Elaborazione: Alberto Urso\n",
      "🟨 Elaborazione: Paolo Jannacci\n",
      "🔍 Pseudonimo rilevato, provo con vero nome: pietro pel\n"
     ]
    },
    {
     "name": "stderr",
     "output_type": "stream",
     "text": [
      "Estrazione data individuale:  57%|█████▋    | 270/470 [01:08<00:57,  3.46it/s]"
     ]
    },
    {
     "name": "stdout",
     "output_type": "stream",
     "text": [
      "🟨 Elaborazione: Junior Cally\n",
      "🟨 Elaborazione: Riki\n"
     ]
    },
    {
     "name": "stderr",
     "output_type": "stream",
     "text": [
      "Estrazione data individuale:  58%|█████▊    | 271/470 [01:09<01:01,  3.22it/s]"
     ]
    },
    {
     "name": "stdout",
     "output_type": "stream",
     "text": [
      "🟨 Elaborazione: Willie Peyote\n"
     ]
    },
    {
     "name": "stderr",
     "output_type": "stream",
     "text": [
      "Estrazione data individuale:  58%|█████▊    | 272/470 [01:09<01:00,  3.26it/s]"
     ]
    },
    {
     "name": "stdout",
     "output_type": "stream",
     "text": [
      "🟨 Elaborazione: Fulminacci\n"
     ]
    },
    {
     "name": "stderr",
     "output_type": "stream",
     "text": [
      "Estrazione data individuale:  58%|█████▊    | 274/470 [01:09<00:51,  3.80it/s]"
     ]
    },
    {
     "name": "stdout",
     "output_type": "stream",
     "text": [
      "🟨 Elaborazione: Fasma\n",
      "🟨 Elaborazione: Gio Evan\n"
     ]
    },
    {
     "name": "stderr",
     "output_type": "stream",
     "text": [
      "Estrazione data individuale:  59%|█████▊    | 276/470 [01:10<00:37,  5.14it/s]"
     ]
    },
    {
     "name": "stdout",
     "output_type": "stream",
     "text": [
      "⚠️ Nessuna data trovata per: Ghemon\n",
      "🟨 Elaborazione: Bugo\n",
      "🔍 Pseudonimo rilevato, provo con vero nome: antonio signore\n",
      "🟨 Elaborazione: Aiello\n",
      "🔍 Pseudonimo rilevato, provo con vero nome: guglielmo bruno\n",
      "🔍 Pseudonimo rilevato, provo con vero nome: filippo uttinacci\n",
      "🔍 Pseudonimo rilevato, provo con vero nome: tiberio fazioli\n",
      "🔍 Pseudonimo rilevato, provo con vero nome: riccardo marcuzzo\n"
     ]
    },
    {
     "name": "stderr",
     "output_type": "stream",
     "text": [
      "Estrazione data individuale:  59%|█████▉    | 277/470 [01:11<01:39,  1.95it/s]"
     ]
    },
    {
     "name": "stdout",
     "output_type": "stream",
     "text": [
      "🔍 Pseudonimo rilevato, provo con vero nome: giovanni giancaspro\n",
      "❌ Nessuna pagina trovata per: Alberto Beltrami\n",
      "🟨 Elaborazione: Dargen D'Amico\n",
      "🔍 Pseudonimo rilevato, provo con vero nome: cristian bugatti\n"
     ]
    },
    {
     "name": "stderr",
     "output_type": "stream",
     "text": [
      "Estrazione data individuale:  59%|█████▉    | 278/470 [01:11<01:29,  2.14it/s]"
     ]
    },
    {
     "name": "stdout",
     "output_type": "stream",
     "text": [
      "🟨 Elaborazione: Matteo Romano\n",
      "🔍 Pseudonimo rilevato, provo con vero nome: jacopo matteo luca d'amico\n"
     ]
    },
    {
     "name": "stderr",
     "output_type": "stream",
     "text": [
      "Estrazione data individuale:  59%|█████▉    | 279/470 [01:13<02:20,  1.36it/s]"
     ]
    },
    {
     "name": "stdout",
     "output_type": "stream",
     "text": [
      "🔍 Pseudonimo rilevato, provo con vero nome: antonio aiello\n",
      "🟨 Elaborazione: AKA 7even\n"
     ]
    },
    {
     "name": "stderr",
     "output_type": "stream",
     "text": [
      "Estrazione data individuale:  60%|█████▉    | 280/470 [01:13<01:49,  1.74it/s]"
     ]
    },
    {
     "name": "stdout",
     "output_type": "stream",
     "text": [
      "🟨 Elaborazione: Rkomi\n"
     ]
    },
    {
     "name": "stderr",
     "output_type": "stream",
     "text": [
      "Estrazione data individuale:  60%|█████▉    | 281/470 [01:13<01:42,  1.85it/s]"
     ]
    },
    {
     "name": "stdout",
     "output_type": "stream",
     "text": [
      "🟨 Elaborazione: Giovanni Truppi\n"
     ]
    },
    {
     "name": "stderr",
     "output_type": "stream",
     "text": [
      "Estrazione data individuale:  60%|██████    | 282/470 [01:14<01:48,  1.72it/s]"
     ]
    },
    {
     "name": "stdout",
     "output_type": "stream",
     "text": [
      "🟨 Elaborazione: Yuman\n",
      "🟨 Elaborazione: Tananai\n",
      "🟨 Elaborazione: Lazza\n"
     ]
    },
    {
     "name": "stderr",
     "output_type": "stream",
     "text": [
      "Estrazione data individuale:  61%|██████    | 286/470 [01:14<00:48,  3.78it/s]"
     ]
    },
    {
     "name": "stdout",
     "output_type": "stream",
     "text": [
      "🟨 Elaborazione: Mr. Rain🔍 Pseudonimo rilevato, provo con vero nome: mirko manuele martorana\n",
      "\n",
      "🔍 Pseudonimo rilevato, provo con vero nome: luca marzano\n",
      "🟨 Elaborazione: Rosa Chemical\n"
     ]
    },
    {
     "name": "stderr",
     "output_type": "stream",
     "text": [
      "Estrazione data individuale:  61%|██████    | 287/470 [01:15<00:54,  3.34it/s]"
     ]
    },
    {
     "name": "stdout",
     "output_type": "stream",
     "text": [
      "🟨 Elaborazione: LDA\n",
      "🔍 Pseudonimo rilevato, provo con vero nome: yuri santos tavares carloia\n",
      "🔍 Pseudonimo rilevato, provo con vero nome: alberto cotta ramusino\n",
      "🔍 Pseudonimo rilevato, provo con vero nome: jacopo lazzarini\n"
     ]
    },
    {
     "name": "stderr",
     "output_type": "stream",
     "text": [
      "Estrazione data individuale:  61%|██████▏   | 288/470 [01:16<01:20,  2.26it/s]"
     ]
    },
    {
     "name": "stdout",
     "output_type": "stream",
     "text": [
      "🟨 Elaborazione: Leo Gassmann\n",
      "🔍 Pseudonimo rilevato, provo con vero nome: mattia balardi\n",
      "🔍 Pseudonimo rilevato, provo con vero nome: manuel franco rocati\n"
     ]
    },
    {
     "name": "stderr",
     "output_type": "stream",
     "text": [
      "Estrazione data individuale:  61%|██████▏   | 289/470 [01:16<01:12,  2.48it/s]"
     ]
    },
    {
     "name": "stdout",
     "output_type": "stream",
     "text": [
      "🟨 Elaborazione: Gianmaria\n"
     ]
    },
    {
     "name": "stderr",
     "output_type": "stream",
     "text": [
      "Estrazione data individuale:  62%|██████▏   | 290/470 [01:17<01:50,  1.63it/s]"
     ]
    },
    {
     "name": "stdout",
     "output_type": "stream",
     "text": [
      "🟨 Elaborazione: Olly\n"
     ]
    },
    {
     "name": "stderr",
     "output_type": "stream",
     "text": [
      "Estrazione data individuale:  62%|██████▏   | 293/470 [01:18<00:59,  2.98it/s]"
     ]
    },
    {
     "name": "stdout",
     "output_type": "stream",
     "text": [
      "⚠️ Nessuna data trovata per: Gianmaria\n",
      "🟨 Elaborazione: Sethu\n",
      "🟨 Elaborazione: Nilla Pizzi\n",
      "⚠️ Nomi multipli rilevati, salto: Achille Togliani - Katyna Ranieri\n",
      "🟨 Elaborazione: Veronica Ventavoli\n",
      "🔍 Pseudonimo rilevato, provo con vero nome: luca d'alessio\n"
     ]
    },
    {
     "name": "stderr",
     "output_type": "stream",
     "text": [
      "Estrazione data individuale:  63%|██████▎   | 295/470 [01:19<01:11,  2.43it/s]"
     ]
    },
    {
     "name": "stdout",
     "output_type": "stream",
     "text": [
      "🟨 Elaborazione: Vanna Leali\n",
      "🟨 Elaborazione: Tosca\n",
      "🟨 Elaborazione: Franca Raimondi\n",
      "🔍 Pseudonimo rilevato, provo con vero nome: marco de lauri\n"
     ]
    },
    {
     "name": "stderr",
     "output_type": "stream",
     "text": [
      "Estrazione data individuale:  64%|██████▎   | 299/470 [01:19<00:41,  4.10it/s]"
     ]
    },
    {
     "name": "stdout",
     "output_type": "stream",
     "text": [
      "🟨 Elaborazione: Tonina Torrielli\n",
      "🟨 Elaborazione: Luciana Gonzales\n",
      "⚠️ Nessuna data trovata per: Nilla Pizzi\n",
      "🟨 Elaborazione: Clara Vincenzi\n"
     ]
    },
    {
     "name": "stderr",
     "output_type": "stream",
     "text": [
      "Estrazione data individuale:  64%|██████▍   | 301/470 [01:20<00:59,  2.86it/s]"
     ]
    },
    {
     "name": "stdout",
     "output_type": "stream",
     "text": [
      "⚠️ Nessuna data trovata per: Franca Raimondi\n",
      "🟨 Elaborazione: Stefania\n"
     ]
    },
    {
     "name": "stderr",
     "output_type": "stream",
     "text": [
      "Estrazione data individuale:  64%|██████▍   | 302/470 [01:20<00:54,  3.06it/s]"
     ]
    },
    {
     "name": "stdout",
     "output_type": "stream",
     "text": [
      "🟨 Elaborazione: Spagna\n",
      "🔍 Pseudonimo rilevato, provo con vero nome: antonietta torrielli\n",
      "🔍 Pseudonimo rilevato, provo con vero nome: lucia benedetta gonzales\n"
     ]
    },
    {
     "name": "stderr",
     "output_type": "stream",
     "text": [
      "Estrazione data individuale:  64%|██████▍   | 303/470 [01:21<00:57,  2.92it/s]"
     ]
    },
    {
     "name": "stdout",
     "output_type": "stream",
     "text": [
      "❌ Nessuna pagina trovata per: Veronica Ventavoli\n",
      "🟨 Elaborazione: Sibilla\n"
     ]
    },
    {
     "name": "stderr",
     "output_type": "stream",
     "text": [
      "Estrazione data individuale:  65%|██████▍   | 305/470 [01:21<00:48,  3.41it/s]"
     ]
    },
    {
     "name": "stdout",
     "output_type": "stream",
     "text": [
      "🟨 Elaborazione: Sabrina Guida\n",
      "🟨 Elaborazione: Roberta\n"
     ]
    },
    {
     "name": "stderr",
     "output_type": "stream",
     "text": [
      "Estrazione data individuale:  65%|██████▌   | 306/470 [01:22<00:47,  3.44it/s]"
     ]
    },
    {
     "name": "stdout",
     "output_type": "stream",
     "text": [
      "⚠️ Nessuna data trovata per: Stefania\n",
      "🟨 Elaborazione: Pinot\n"
     ]
    },
    {
     "name": "stderr",
     "output_type": "stream",
     "text": [
      "Estrazione data individuale:  65%|██████▌   | 307/470 [01:22<00:43,  3.71it/s]"
     ]
    },
    {
     "name": "stdout",
     "output_type": "stream",
     "text": [
      "❌ Nessuna pagina trovata per: Vanna Leali\n",
      "🟨 Elaborazione: Patrizia Danzi\n"
     ]
    },
    {
     "name": "stderr",
     "output_type": "stream",
     "text": [
      "Estrazione data individuale:  66%|██████▌   | 308/470 [01:22<00:42,  3.84it/s]"
     ]
    },
    {
     "name": "stdout",
     "output_type": "stream",
     "text": [
      "🟨 Elaborazione: Nathalie\n",
      "❌ Nessuna pagina trovata per: Olly\n",
      "🟨 Elaborazione: Monia Russo\n",
      "⚠️ Nessuna data trovata per: Spagna\n",
      "🟨 Elaborazione: Mela Lo Cicero\n"
     ]
    },
    {
     "name": "stderr",
     "output_type": "stream",
     "text": [
      "Estrazione data individuale:  66%|██████▌   | 311/470 [01:22<00:26,  6.11it/s]"
     ]
    },
    {
     "name": "stdout",
     "output_type": "stream",
     "text": [
      "⚠️ Nessuna data trovata per: Sibilla\n",
      "🟨 Elaborazione: Marinella\n"
     ]
    },
    {
     "name": "stderr",
     "output_type": "stream",
     "text": [
      "Estrazione data individuale:  66%|██████▋   | 312/470 [01:24<01:06,  2.37it/s]"
     ]
    },
    {
     "name": "stdout",
     "output_type": "stream",
     "text": [
      "🔍 Pseudonimo rilevato, provo con vero nome: natalia beatrice giannitrapani\n",
      "🟨 Elaborazione: Marcella\n"
     ]
    },
    {
     "name": "stderr",
     "output_type": "stream",
     "text": [
      "Estrazione data individuale:  67%|██████▋   | 313/470 [01:24<00:56,  2.77it/s]"
     ]
    },
    {
     "name": "stdout",
     "output_type": "stream",
     "text": [
      "⚠️ Nessuna data trovata per: Luciana Gonzales\n",
      "🟨 Elaborazione: Mara\n"
     ]
    },
    {
     "name": "stderr",
     "output_type": "stream",
     "text": [
      "Estrazione data individuale:  67%|██████▋   | 314/470 [01:24<00:59,  2.62it/s]"
     ]
    },
    {
     "name": "stdout",
     "output_type": "stream",
     "text": [
      "❌ Nessuna pagina trovata per: Sabrina Guida\n",
      "🟨 Elaborazione: Madame\n"
     ]
    },
    {
     "name": "stderr",
     "output_type": "stream",
     "text": [
      "Estrazione data individuale:  67%|██████▋   | 315/470 [01:25<01:13,  2.10it/s]"
     ]
    },
    {
     "name": "stdout",
     "output_type": "stream",
     "text": [
      "⚠️ Nessuna data trovata per: Marcella\n",
      "🟨 Elaborazione: Lolita\n",
      "❌ Nessuna pagina trovata per: Patrizia Danzi\n",
      "🟨 Elaborazione: Levante\n"
     ]
    },
    {
     "name": "stderr",
     "output_type": "stream",
     "text": [
      "Estrazione data individuale:  67%|██████▋   | 317/470 [01:25<00:49,  3.08it/s]"
     ]
    },
    {
     "name": "stdout",
     "output_type": "stream",
     "text": [
      "❌ Nessuna pagina trovata per: Roberta\n",
      "🟨 Elaborazione: Laura\n",
      "❌ Nessuna pagina trovata per: Monia Russo\n",
      "🟨 Elaborazione: Nada\n"
     ]
    },
    {
     "name": "stderr",
     "output_type": "stream",
     "text": [
      "Estrazione data individuale:  68%|██████▊   | 319/470 [01:25<00:36,  4.13it/s]"
     ]
    },
    {
     "name": "stdout",
     "output_type": "stream",
     "text": [
      "❌ Nessuna pagina trovata per: Mela Lo Cicero\n",
      "🟨 Elaborazione: Marcella Bella\n",
      "❌ Nessuna pagina trovata per: Pinot\n",
      "🟨 Elaborazione: Gigliola Cinquetti\n"
     ]
    },
    {
     "name": "stderr",
     "output_type": "stream",
     "text": [
      "Estrazione data individuale:  68%|██████▊   | 321/470 [01:27<00:54,  2.71it/s]"
     ]
    },
    {
     "name": "stdout",
     "output_type": "stream",
     "text": [
      "🟨 Elaborazione: Milva\n",
      "🔍 Pseudonimo rilevato, provo con vero nome: francesca calearo\n"
     ]
    },
    {
     "name": "stderr",
     "output_type": "stream",
     "text": [
      "Estrazione data individuale:  69%|██████▊   | 323/470 [01:27<00:46,  3.16it/s]"
     ]
    },
    {
     "name": "stdout",
     "output_type": "stream",
     "text": [
      "🟨 Elaborazione: Lara Saint Paul\n",
      "🟨 Elaborazione: Rita Pavone\n"
     ]
    },
    {
     "name": "stderr",
     "output_type": "stream",
     "text": [
      "Estrazione data individuale:  69%|██████▉   | 324/470 [01:27<00:39,  3.67it/s]"
     ]
    },
    {
     "name": "stdout",
     "output_type": "stream",
     "text": [
      "❌ Nessuna pagina trovata per: Marinella\n",
      "🟨 Elaborazione: Anna Identici\n"
     ]
    },
    {
     "name": "stderr",
     "output_type": "stream",
     "text": [
      "Estrazione data individuale:  69%|██████▉   | 325/470 [01:28<00:48,  2.96it/s]"
     ]
    },
    {
     "name": "stdout",
     "output_type": "stream",
     "text": [
      "🔍 Pseudonimo rilevato, provo con vero nome: giuseppina pipitone\n",
      "🔍 Pseudonimo rilevato, provo con vero nome: claudia lagona\n",
      "🟨 Elaborazione: Carla Bissi\n",
      "🔍 Pseudonimo rilevato, provo con vero nome: maria ilva biolcati\n"
     ]
    },
    {
     "name": "stderr",
     "output_type": "stream",
     "text": [
      "Estrazione data individuale:  69%|██████▉   | 326/470 [01:29<01:05,  2.20it/s]"
     ]
    },
    {
     "name": "stdout",
     "output_type": "stream",
     "text": [
      "🔍 Pseudonimo rilevato, provo con vero nome: silvana areggasc savorelli\n",
      "🟨 Elaborazione: Marisa Sacchetto\n"
     ]
    },
    {
     "name": "stderr",
     "output_type": "stream",
     "text": [
      "Estrazione data individuale:  70%|██████▉   | 327/470 [01:29<00:54,  2.61it/s]"
     ]
    },
    {
     "name": "stdout",
     "output_type": "stream",
     "text": [
      "🟨 Elaborazione: Delia\n"
     ]
    },
    {
     "name": "stderr",
     "output_type": "stream",
     "text": [
      "Estrazione data individuale:  70%|██████▉   | 328/470 [01:29<00:53,  2.66it/s]"
     ]
    },
    {
     "name": "stdout",
     "output_type": "stream",
     "text": [
      "❌ Nessuna pagina trovata per: Mara\n",
      "🟨 Elaborazione: Julie\n"
     ]
    },
    {
     "name": "stderr",
     "output_type": "stream",
     "text": [
      "Estrazione data individuale:  70%|███████   | 329/470 [01:30<01:10,  1.99it/s]"
     ]
    },
    {
     "name": "stdout",
     "output_type": "stream",
     "text": [
      "🔍 Pseudonimo rilevato, provo con vero nome: carla bissi\n",
      "🟨 Elaborazione: Gilda Giuliani\n",
      "🟨 Elaborazione: Carmen Amato\n"
     ]
    },
    {
     "name": "stderr",
     "output_type": "stream",
     "text": [
      "Estrazione data individuale:  70%|███████   | 331/470 [01:30<00:49,  2.80it/s]"
     ]
    },
    {
     "name": "stdout",
     "output_type": "stream",
     "text": [
      "❌ Nessuna pagina trovata per: Lolita\n",
      "🟨 Elaborazione: Iva Zanicchi\n"
     ]
    },
    {
     "name": "stderr",
     "output_type": "stream",
     "text": [
      "Estrazione data individuale:  71%|███████   | 333/470 [01:31<00:49,  2.79it/s]"
     ]
    },
    {
     "name": "stdout",
     "output_type": "stream",
     "text": [
      "🟨 Elaborazione: Orietta Berti\n",
      "🟨 Elaborazione: Anna Melato\n"
     ]
    },
    {
     "name": "stderr",
     "output_type": "stream",
     "text": [
      "Estrazione data individuale:  71%|███████   | 334/470 [01:31<00:45,  2.97it/s]"
     ]
    },
    {
     "name": "stdout",
     "output_type": "stream",
     "text": [
      "🟨 Elaborazione: Emanuela Cortesi\n",
      "⚠️ Nessuna data trovata per: Milva\n",
      "🟨 Elaborazione: Valentina Greco\n",
      "🟨 Elaborazione: Rosanna Fratello\n"
     ]
    },
    {
     "name": "stderr",
     "output_type": "stream",
     "text": [
      "Estrazione data individuale:  72%|███████▏  | 338/470 [01:32<00:27,  4.76it/s]"
     ]
    },
    {
     "name": "stdout",
     "output_type": "stream",
     "text": [
      "🔍 Pseudonimo rilevato, provo con vero nome: adele regina gualtiero\n",
      "⚠️ Nessuna data trovata per: Lara Saint Paul\n",
      "🟨 Elaborazione: Donatella Rettore\n",
      "🟨 Elaborazione: Paola Musiani\n"
     ]
    },
    {
     "name": "stderr",
     "output_type": "stream",
     "text": [
      "Estrazione data individuale:  72%|███████▏  | 339/470 [01:33<00:38,  3.39it/s]"
     ]
    },
    {
     "name": "stdout",
     "output_type": "stream",
     "text": [
      "🟨 Elaborazione: Antonella Bottazzi\n",
      "🔍 Pseudonimo rilevato, provo con vero nome: orietta galimberti\n"
     ]
    },
    {
     "name": "stderr",
     "output_type": "stream",
     "text": [
      "Estrazione data individuale:  72%|███████▏  | 340/470 [01:33<00:40,  3.19it/s]"
     ]
    },
    {
     "name": "stdout",
     "output_type": "stream",
     "text": [
      "🟨 Elaborazione: Rossella\n",
      "🟨 Elaborazione: Sonia Gigliola Conti\n",
      "🟨 Elaborazione: Angela Luce\n",
      "🔍 Pseudonimo rilevato, provo con vero nome: rosa gibertini\n"
     ]
    },
    {
     "name": "stderr",
     "output_type": "stream",
     "text": [
      "Estrazione data individuale:  73%|███████▎  | 343/470 [01:33<00:29,  4.25it/s]"
     ]
    },
    {
     "name": "stdout",
     "output_type": "stream",
     "text": [
      "🔍 Pseudonimo rilevato, provo con vero nome: xto\n",
      "⚠️ Nessuna data trovata per: Paola Musiani\n",
      "🟨 Elaborazione: Emy Cesaroni\n"
     ]
    },
    {
     "name": "stderr",
     "output_type": "stream",
     "text": [
      "Estrazione data individuale:  73%|███████▎  | 345/470 [01:34<00:33,  3.77it/s]"
     ]
    },
    {
     "name": "stdout",
     "output_type": "stream",
     "text": [
      "⚠️ Nessuna data trovata per: Antonella Bottazzi\n",
      "🟨 Elaborazione: Helena Hellwig\n",
      "❌ Nessuna pagina trovata per: Julie\n",
      "🟨 Elaborazione: Eva 2000\n"
     ]
    },
    {
     "name": "stderr",
     "output_type": "stream",
     "text": [
      "Estrazione data individuale:  74%|███████▎  | 346/470 [01:34<00:32,  3.86it/s]"
     ]
    },
    {
     "name": "stdout",
     "output_type": "stream",
     "text": [
      "🟨 Elaborazione: Annagloria\n",
      "🔍 Pseudonimo rilevato, provo con vero nome: angela savino\n",
      "🔍 Pseudonimo rilevato, provo con vero nome: emi cesaroni\n"
     ]
    },
    {
     "name": "stderr",
     "output_type": "stream",
     "text": [
      "Estrazione data individuale:  74%|███████▍  | 347/470 [01:35<00:42,  2.91it/s]"
     ]
    },
    {
     "name": "stdout",
     "output_type": "stream",
     "text": [
      "🟨 Elaborazione: Giovanna D'Angi\n",
      "🔍 Pseudonimo rilevato, provo con vero nome: rossella valenti e con il solo prenome rossella\n"
     ]
    },
    {
     "name": "stderr",
     "output_type": "stream",
     "text": [
      "Estrazione data individuale:  74%|███████▍  | 348/470 [01:36<01:01,  1.99it/s]"
     ]
    },
    {
     "name": "stdout",
     "output_type": "stream",
     "text": [
      "🔍 Pseudonimo rilevato, provo con vero nome: anna gloria nieri\n",
      "🟨 Elaborazione: Leila Selli\n"
     ]
    },
    {
     "name": "stderr",
     "output_type": "stream",
     "text": [
      "Estrazione data individuale:  74%|███████▍  | 349/470 [01:36<00:56,  2.16it/s]"
     ]
    },
    {
     "name": "stdout",
     "output_type": "stream",
     "text": [
      "🟨 Elaborazione: Nannarella\n"
     ]
    },
    {
     "name": "stderr",
     "output_type": "stream",
     "text": [
      "Estrazione data individuale:  75%|███████▍  | 352/470 [01:37<00:44,  2.67it/s]"
     ]
    },
    {
     "name": "stdout",
     "output_type": "stream",
     "text": [
      "❌ Nessuna pagina trovata per: Helena Hellwig\n",
      "🟨 Elaborazione: Gloriana\n",
      "🟨 Elaborazione: Romina Power\n",
      "🔍 Pseudonimo rilevato, provo con vero nome: lella spadaro\n",
      "❌ Nessuna pagina trovata per: Eva 2000\n",
      "🟨 Elaborazione: Maggie Mae\n"
     ]
    },
    {
     "name": "stderr",
     "output_type": "stream",
     "text": [
      "Estrazione data individuale:  76%|███████▌  | 355/470 [01:38<00:31,  3.60it/s]"
     ]
    },
    {
     "name": "stdout",
     "output_type": "stream",
     "text": [
      "🟨 Elaborazione: Gilda\n",
      "🟨 Elaborazione: Anna Oxa\n",
      "❌ Nessuna pagina trovata per: Giovanna D'Angi\n",
      "🟨 Elaborazione: Laura Luca\n"
     ]
    },
    {
     "name": "stderr",
     "output_type": "stream",
     "text": [
      "Estrazione data individuale:  76%|███████▌  | 356/470 [01:38<00:29,  3.84it/s]"
     ]
    },
    {
     "name": "stdout",
     "output_type": "stream",
     "text": [
      "🟨 Elaborazione: Dora Moroni\n"
     ]
    },
    {
     "name": "stderr",
     "output_type": "stream",
     "text": [
      "Estrazione data individuale:  76%|███████▌  | 357/470 [01:39<00:35,  3.18it/s]"
     ]
    },
    {
     "name": "stdout",
     "output_type": "stream",
     "text": [
      "🟨 Elaborazione: Lorella Pescerelli🔍 Pseudonimo rilevato, provo con vero nome: andrea cosima carle\n",
      "\n",
      "🟨 Elaborazione: Nicoletta Bauce\n"
     ]
    },
    {
     "name": "stderr",
     "output_type": "stream",
     "text": [
      "Estrazione data individuale:  77%|███████▋  | 360/470 [01:40<00:29,  3.71it/s]"
     ]
    },
    {
     "name": "stdout",
     "output_type": "stream",
     "text": [
      "🟨 Elaborazione: Gabriella Sanna\n",
      "🟨 Elaborazione: Sally Oldfield\n",
      "🟨 Elaborazione: Linda Lee\n"
     ]
    },
    {
     "name": "stderr",
     "output_type": "stream",
     "text": [
      "Estrazione data individuale:  77%|███████▋  | 362/470 [01:40<00:23,  4.65it/s]"
     ]
    },
    {
     "name": "stdout",
     "output_type": "stream",
     "text": [
      "🟨 Elaborazione: Loretta Goggi\n"
     ]
    },
    {
     "name": "stderr",
     "output_type": "stream",
     "text": [
      "Estrazione data individuale:  77%|███████▋  | 363/470 [01:40<00:28,  3.80it/s]"
     ]
    },
    {
     "name": "stdout",
     "output_type": "stream",
     "text": [
      "🔍 Pseudonimo rilevato, provo con vero nome: giovanna russo\n",
      "🟨 Elaborazione: Fiorella Mannoia\n",
      "🟨 Elaborazione: Jò Chiarello\n",
      "🔍 Pseudonimo rilevato, provo con vero nome: rosangela scalabrino\n"
     ]
    },
    {
     "name": "stderr",
     "output_type": "stream",
     "text": [
      "Estrazione data individuale:  78%|███████▊  | 366/470 [01:41<00:26,  3.90it/s]"
     ]
    },
    {
     "name": "stdout",
     "output_type": "stream",
     "text": [
      "⚠️ Nessuna data trovata per: Leila Selli\n",
      "🟨 Elaborazione: Lene Lovich\n",
      "🔍 Pseudonimo rilevato, provo con vero nome: rossana marialinda barbieri\n",
      "🟨 Elaborazione: Elisabetta Viviani\n"
     ]
    },
    {
     "name": "stderr",
     "output_type": "stream",
     "text": [
      "Estrazione data individuale:  78%|███████▊  | 367/470 [01:42<00:32,  3.20it/s]"
     ]
    },
    {
     "name": "stdout",
     "output_type": "stream",
     "text": [
      "🟨 Elaborazione: Mia Martini\n"
     ]
    },
    {
     "name": "stderr",
     "output_type": "stream",
     "text": [
      "Estrazione data individuale:  78%|███████▊  | 368/470 [01:42<00:31,  3.26it/s]"
     ]
    },
    {
     "name": "stdout",
     "output_type": "stream",
     "text": [
      "🟨 Elaborazione: Viola Valentino\n"
     ]
    },
    {
     "name": "stderr",
     "output_type": "stream",
     "text": [
      "Estrazione data individuale:  79%|███████▊  | 369/470 [01:42<00:29,  3.44it/s]"
     ]
    },
    {
     "name": "stdout",
     "output_type": "stream",
     "text": [
      "⚠️ Nessuna data trovata per: Maggie Mae\n",
      "🟨 Elaborazione: Marina Lai\n",
      "🔍 Pseudonimo rilevato, provo con vero nome: maria concetta chiarello\n"
     ]
    },
    {
     "name": "stderr",
     "output_type": "stream",
     "text": [
      "Estrazione data individuale:  79%|███████▊  | 370/470 [01:42<00:27,  3.67it/s]"
     ]
    },
    {
     "name": "stdout",
     "output_type": "stream",
     "text": [
      "🟨 Elaborazione: Fiordaliso\n",
      "🟨 Elaborazione: Tiziana Rivale\n"
     ]
    },
    {
     "name": "stderr",
     "output_type": "stream",
     "text": [
      "Estrazione data individuale:  79%|███████▉  | 372/470 [01:43<00:21,  4.46it/s]"
     ]
    },
    {
     "name": "stdout",
     "output_type": "stream",
     "text": [
      "❌ Nessuna pagina trovata per: Gabriella Sanna\n",
      "🟨 Elaborazione: Donatella Milani\n"
     ]
    },
    {
     "name": "stderr",
     "output_type": "stream",
     "text": [
      "Estrazione data individuale:  79%|███████▉  | 373/470 [01:43<00:33,  2.87it/s]"
     ]
    },
    {
     "name": "stdout",
     "output_type": "stream",
     "text": [
      "🔍 Pseudonimo rilevato, provo con vero nome: domenica rita adriana bert\n",
      "🔍 Pseudonimo rilevato, provo con vero nome: virginia maria minnetti\n",
      "🟨 Elaborazione: Dori Ghezzi\n"
     ]
    },
    {
     "name": "stderr",
     "output_type": "stream",
     "text": [
      "Estrazione data individuale:  80%|███████▉  | 374/470 [01:44<00:29,  3.25it/s]"
     ]
    },
    {
     "name": "stdout",
     "output_type": "stream",
     "text": [
      "🟨 Elaborazione: Amii Stewart\n",
      "🔍 Pseudonimo rilevato, provo con vero nome: letizia oliva\n"
     ]
    },
    {
     "name": "stderr",
     "output_type": "stream",
     "text": [
      "Estrazione data individuale:  80%|████████  | 376/470 [01:44<00:28,  3.35it/s]"
     ]
    },
    {
     "name": "stdout",
     "output_type": "stream",
     "text": [
      "🟨 Elaborazione: Flavia Fortunato\n",
      "🔍 Pseudonimo rilevato, provo con vero nome: emanuela gubinelli\n",
      "🟨 Elaborazione: Barbara Boncompagni\n"
     ]
    },
    {
     "name": "stderr",
     "output_type": "stream",
     "text": [
      "Estrazione data individuale:  80%|████████  | 377/470 [01:45<00:47,  1.98it/s]"
     ]
    },
    {
     "name": "stdout",
     "output_type": "stream",
     "text": [
      "🟨 Elaborazione: Daniela Goggi\n"
     ]
    },
    {
     "name": "stderr",
     "output_type": "stream",
     "text": [
      "Estrazione data individuale:  80%|████████  | 378/470 [01:45<00:40,  2.26it/s]"
     ]
    },
    {
     "name": "stdout",
     "output_type": "stream",
     "text": [
      "🟨 Elaborazione: Brunella Borciani\n"
     ]
    },
    {
     "name": "stderr",
     "output_type": "stream",
     "text": [
      "Estrazione data individuale:  81%|████████  | 379/470 [01:46<00:52,  1.74it/s]"
     ]
    },
    {
     "name": "stdout",
     "output_type": "stream",
     "text": [
      "🟨 Elaborazione: Patty Pravo\n",
      "🔍 Pseudonimo rilevato, provo con vero nome: daniela modigliani\n"
     ]
    },
    {
     "name": "stderr",
     "output_type": "stream",
     "text": [
      "Estrazione data individuale:  81%|████████  | 380/470 [01:47<00:44,  2.01it/s]"
     ]
    },
    {
     "name": "stdout",
     "output_type": "stream",
     "text": [
      "🟨 Elaborazione: Marisa Sannia\n",
      "🟨 Elaborazione: Loredana Bertè\n"
     ]
    },
    {
     "name": "stderr",
     "output_type": "stream",
     "text": [
      "Estrazione data individuale:  81%|████████▏ | 382/470 [01:47<00:34,  2.58it/s]"
     ]
    },
    {
     "name": "stdout",
     "output_type": "stream",
     "text": [
      "🟨 Elaborazione: Rossana Casale\n",
      "🔍 Pseudonimo rilevato, provo con vero nome: marina fiordaliso\n"
     ]
    },
    {
     "name": "stderr",
     "output_type": "stream",
     "text": [
      "Estrazione data individuale:  81%|████████▏ | 383/470 [01:47<00:30,  2.84it/s]"
     ]
    },
    {
     "name": "stdout",
     "output_type": "stream",
     "text": [
      "🟨 Elaborazione: Lena Biolcati\n"
     ]
    },
    {
     "name": "stderr",
     "output_type": "stream",
     "text": [
      "Estrazione data individuale:  82%|████████▏ | 384/470 [01:48<00:28,  2.99it/s]"
     ]
    },
    {
     "name": "stdout",
     "output_type": "stream",
     "text": [
      "🟨 Elaborazione: Ornella Vanoni\n"
     ]
    },
    {
     "name": "stderr",
     "output_type": "stream",
     "text": [
      "Estrazione data individuale:  82%|████████▏ | 385/470 [01:48<00:29,  2.91it/s]"
     ]
    },
    {
     "name": "stdout",
     "output_type": "stream",
     "text": [
      "🔍 Pseudonimo rilevato, provo con vero nome: nicoletta strambelli\n",
      "🟨 Elaborazione: Marisa Laurito\n"
     ]
    },
    {
     "name": "stderr",
     "output_type": "stream",
     "text": [
      "Estrazione data individuale:  82%|████████▏ | 386/470 [01:49<00:32,  2.62it/s]"
     ]
    },
    {
     "name": "stdout",
     "output_type": "stream",
     "text": [
      "🔍 Pseudonimo rilevato, provo con vero nome: renato zero\n",
      "⚠️ Nomi multipli rilevati, salto: Marcella e Gianni Bella\n",
      "🟨 Elaborazione: Caterina Caselli\n"
     ]
    },
    {
     "name": "stderr",
     "output_type": "stream",
     "text": [
      "Estrazione data individuale:  83%|████████▎ | 388/470 [01:49<00:22,  3.61it/s]"
     ]
    },
    {
     "name": "stdout",
     "output_type": "stream",
     "text": [
      "🟨 Elaborazione: Paola Turci\n"
     ]
    },
    {
     "name": "stderr",
     "output_type": "stream",
     "text": [
      "Estrazione data individuale:  83%|████████▎ | 390/470 [01:49<00:22,  3.53it/s]"
     ]
    },
    {
     "name": "stdout",
     "output_type": "stream",
     "text": [
      "⚠️ Nessuna data trovata per: Viola Valentino\n",
      "🟨 Elaborazione: Grazia Di Michele\n",
      "🟨 Elaborazione: Mietta\n"
     ]
    },
    {
     "name": "stderr",
     "output_type": "stream",
     "text": [
      "Estrazione data individuale:  84%|████████▎ | 393/470 [01:50<00:13,  5.65it/s]"
     ]
    },
    {
     "name": "stdout",
     "output_type": "stream",
     "text": [
      "🟨 Elaborazione: Daniela\n",
      "🟨 Elaborazione: Mariella Nava\n",
      "🟨 Elaborazione: Lina Sastri\n"
     ]
    },
    {
     "name": "stderr",
     "output_type": "stream",
     "text": [
      "Estrazione data individuale:  84%|████████▍ | 394/470 [01:50<00:15,  4.83it/s]"
     ]
    },
    {
     "name": "stdout",
     "output_type": "stream",
     "text": [
      "🟨 Elaborazione: Francesca Alotta\n"
     ]
    },
    {
     "name": "stderr",
     "output_type": "stream",
     "text": [
      "Estrazione data individuale:  84%|████████▍ | 396/470 [01:51<00:16,  4.62it/s]"
     ]
    },
    {
     "name": "stdout",
     "output_type": "stream",
     "text": [
      "🟨 Elaborazione: Jo Squillo\n",
      "🟨 Elaborazione: Laura Pausini\n"
     ]
    },
    {
     "name": "stderr",
     "output_type": "stream",
     "text": [
      "Estrazione data individuale:  84%|████████▍ | 397/470 [01:51<00:15,  4.72it/s]"
     ]
    },
    {
     "name": "stdout",
     "output_type": "stream",
     "text": [
      "🟨 Elaborazione: Gerardina Trovato\n"
     ]
    },
    {
     "name": "stderr",
     "output_type": "stream",
     "text": [
      "Estrazione data individuale:  85%|████████▌ | 401/470 [01:51<00:09,  6.94it/s]"
     ]
    },
    {
     "name": "stdout",
     "output_type": "stream",
     "text": [
      "⚠️ Nessuna data trovata per: Daniela\n",
      "🟨 Elaborazione: Claudia Mori\n",
      "🔍 Pseudonimo rilevato, provo con vero nome: daniela miglietta\n",
      "🟨 Elaborazione: Giorgia\n",
      "🟨 Elaborazione: Ivana Spagna\n",
      "🟨 Elaborazione: Lighea\n"
     ]
    },
    {
     "name": "stderr",
     "output_type": "stream",
     "text": [
      "Estrazione data individuale:  86%|████████▌ | 403/470 [01:52<00:11,  5.98it/s]"
     ]
    },
    {
     "name": "stdout",
     "output_type": "stream",
     "text": [
      "⚠️ Nessuna data trovata per: Francesca Alotta\n",
      "🟨 Elaborazione: Antonella Arancio\n",
      "🟨 Elaborazione: Lorella Cuccarini\n",
      "🔍 Pseudonimo rilevato, provo con vero nome: giovanna maria coletti\n"
     ]
    },
    {
     "name": "stderr",
     "output_type": "stream",
     "text": [
      "Estrazione data individuale:  86%|████████▌ | 405/470 [01:52<00:13,  4.95it/s]"
     ]
    },
    {
     "name": "stdout",
     "output_type": "stream",
     "text": [
      "🟨 Elaborazione: Francesca Schiavo\n",
      "🟨 Elaborazione: Valeria Visconti\n",
      "🔍 Pseudonimo rilevato, provo con vero nome: claudia moroni\n",
      "🔍 Pseudonimo rilevato, provo con vero nome: tania montelpare🔍 Pseudonimo rilevato, provo con vero nome: yvonne kay\n",
      "\n",
      "🔍 Pseudonimo rilevato, provo con vero nome: ursula arancio\n",
      "🔍 Pseudonimo rilevato, provo con vero nome: silvio testi\n"
     ]
    },
    {
     "name": "stderr",
     "output_type": "stream",
     "text": [
      "Estrazione data individuale:  87%|████████▋ | 407/470 [01:54<00:25,  2.49it/s]"
     ]
    },
    {
     "name": "stdout",
     "output_type": "stream",
     "text": [
      "🟨 Elaborazione: Rossella Marcone\n",
      "🟨 Elaborazione: Raffaella Cavalli\n"
     ]
    },
    {
     "name": "stderr",
     "output_type": "stream",
     "text": [
      "Estrazione data individuale:  87%|████████▋ | 408/470 [01:54<00:30,  2.04it/s]"
     ]
    },
    {
     "name": "stdout",
     "output_type": "stream",
     "text": [
      "🟨 Elaborazione: Syria\n"
     ]
    },
    {
     "name": "stderr",
     "output_type": "stream",
     "text": [
      "Estrazione data individuale:  87%|████████▋ | 409/470 [01:55<00:34,  1.76it/s]"
     ]
    },
    {
     "name": "stdout",
     "output_type": "stream",
     "text": [
      "🔍 Pseudonimo rilevato, provo con vero nome: ross\n",
      "🟨 Elaborazione: Silvia Salemi\n",
      "🟨 Elaborazione: Marina Rei\n"
     ]
    },
    {
     "name": "stderr",
     "output_type": "stream",
     "text": [
      "Estrazione data individuale:  87%|████████▋ | 411/470 [01:56<00:25,  2.29it/s]"
     ]
    },
    {
     "name": "stdout",
     "output_type": "stream",
     "text": [
      "🟨 Elaborazione: Carmen Consoli\n",
      "🔍 Pseudonimo rilevato, provo con vero nome: cecilia syria cipressi\n"
     ]
    },
    {
     "name": "stderr",
     "output_type": "stream",
     "text": [
      "Estrazione data individuale:  88%|████████▊ | 412/470 [01:56<00:22,  2.59it/s]"
     ]
    },
    {
     "name": "stdout",
     "output_type": "stream",
     "text": [
      "🟨 Elaborazione: Olivia\n",
      "❌ Nessuna pagina trovata per: Giorgia\n",
      "🟨 Elaborazione: Adriana Ruocco\n"
     ]
    },
    {
     "name": "stderr",
     "output_type": "stream",
     "text": [
      "Estrazione data individuale:  88%|████████▊ | 414/470 [01:56<00:16,  3.45it/s]"
     ]
    },
    {
     "name": "stdout",
     "output_type": "stream",
     "text": [
      "🟨 Elaborazione: Petra Magoni\n",
      "🟨 Elaborazione: Annalisa Minetti\n"
     ]
    },
    {
     "name": "stderr",
     "output_type": "stream",
     "text": [
      "Estrazione data individuale:  89%|████████▊ | 416/470 [01:57<00:14,  3.85it/s]"
     ]
    },
    {
     "name": "stdout",
     "output_type": "stream",
     "text": [
      "🟨 Elaborazione: Antonella Ruggiero\n",
      "🟨 Elaborazione: Lisa\n",
      "🔍 Pseudonimo rilevato, provo con vero nome: marina restuccia\n"
     ]
    },
    {
     "name": "stderr",
     "output_type": "stream",
     "text": [
      "Estrazione data individuale:  89%|████████▉ | 418/470 [01:57<00:14,  3.47it/s]"
     ]
    },
    {
     "name": "stdout",
     "output_type": "stream",
     "text": [
      "🟨 Elaborazione: Irene Grandi\n",
      "🟨 Elaborazione: Elisa\n"
     ]
    },
    {
     "name": "stderr",
     "output_type": "stream",
     "text": [
      "Estrazione data individuale:  90%|████████▉ | 421/470 [01:58<00:11,  4.32it/s]"
     ]
    },
    {
     "name": "stdout",
     "output_type": "stream",
     "text": [
      "🟨 Elaborazione: Jenny B\n",
      "🟨 Elaborazione: Alexia\n"
     ]
    },
    {
     "name": "stderr",
     "output_type": "stream",
     "text": [
      "Estrazione data individuale:  90%|████████▉ | 422/470 [01:58<00:11,  4.02it/s]"
     ]
    },
    {
     "name": "stdout",
     "output_type": "stream",
     "text": [
      "🟨 Elaborazione: Filippa Giordano\n",
      "🔍 Pseudonimo rilevato, provo con vero nome: lisa kant gi\n"
     ]
    },
    {
     "name": "stderr",
     "output_type": "stream",
     "text": [
      "Estrazione data individuale:  90%|█████████ | 423/470 [01:59<00:18,  2.56it/s]"
     ]
    },
    {
     "name": "stdout",
     "output_type": "stream",
     "text": [
      "🔍 Pseudonimo rilevato, provo con vero nome: giovanna bersola🟨 Elaborazione: Giuni Russo\n",
      "\n"
     ]
    },
    {
     "name": "stderr",
     "output_type": "stream",
     "text": [
      "Estrazione data individuale:  90%|█████████ | 424/470 [01:59<00:16,  2.76it/s]"
     ]
    },
    {
     "name": "stdout",
     "output_type": "stream",
     "text": [
      "🟨 Elaborazione: Linda\n",
      "🔍 Pseudonimo rilevato, provo con vero nome: alessia aquilani\n"
     ]
    },
    {
     "name": "stderr",
     "output_type": "stream",
     "text": [
      "Estrazione data individuale:  90%|█████████ | 425/470 [02:00<00:14,  3.05it/s]"
     ]
    },
    {
     "name": "stdout",
     "output_type": "stream",
     "text": [
      "🟨 Elaborazione: Veruska\n"
     ]
    },
    {
     "name": "stderr",
     "output_type": "stream",
     "text": [
      "Estrazione data individuale:  91%|█████████ | 426/470 [02:00<00:14,  2.99it/s]"
     ]
    },
    {
     "name": "stdout",
     "output_type": "stream",
     "text": [
      "🟨 Elaborazione: Laura Bono\n",
      "🔍 Pseudonimo rilevato, provo con vero nome: giuseppa romeo\n"
     ]
    },
    {
     "name": "stderr",
     "output_type": "stream",
     "text": [
      "Estrazione data individuale:  91%|█████████ | 428/470 [02:01<00:17,  2.42it/s]"
     ]
    },
    {
     "name": "stdout",
     "output_type": "stream",
     "text": [
      "🟨 Elaborazione: Chiara\n",
      "❌ Nessuna pagina trovata per: Olivia\n",
      "🟨 Elaborazione: Anna Tatangelo\n"
     ]
    },
    {
     "name": "stderr",
     "output_type": "stream",
     "text": [
      "Estrazione data individuale:  91%|█████████▏| 429/470 [02:02<00:20,  2.00it/s]"
     ]
    },
    {
     "name": "stdout",
     "output_type": "stream",
     "text": [
      "🔍 Pseudonimo rilevato, provo con vero nome: laura bonometti\n",
      "❌ Nessuna pagina trovata per: Lisa\n",
      "🟨 Elaborazione: Camilla\n"
     ]
    },
    {
     "name": "stderr",
     "output_type": "stream",
     "text": [
      "Estrazione data individuale:  92%|█████████▏| 431/470 [02:02<00:13,  2.81it/s]"
     ]
    },
    {
     "name": "stdout",
     "output_type": "stream",
     "text": [
      "🟨 Elaborazione: Dolcenera\n",
      "🟨 Elaborazione: Simona Bencini\n"
     ]
    },
    {
     "name": "stderr",
     "output_type": "stream",
     "text": [
      "Estrazione data individuale:  92%|█████████▏| 434/470 [02:02<00:06,  5.16it/s]"
     ]
    },
    {
     "name": "stdout",
     "output_type": "stream",
     "text": [
      "⚠️ Nessuna data trovata per: Chiara\n",
      "🟨 Elaborazione: Nicky Nicolai\n",
      "❌ Nessuna pagina trovata per: Elisa\n",
      "🟨 Elaborazione: L'Aura\n",
      "🟨 Elaborazione: Amalia Gré\n"
     ]
    },
    {
     "name": "stderr",
     "output_type": "stream",
     "text": [
      "Estrazione data individuale:  93%|█████████▎| 435/470 [02:03<00:07,  4.76it/s]"
     ]
    },
    {
     "name": "stdout",
     "output_type": "stream",
     "text": [
      "🟨 Elaborazione: Leda Battisti\n"
     ]
    },
    {
     "name": "stderr",
     "output_type": "stream",
     "text": [
      "Estrazione data individuale:  93%|█████████▎| 436/470 [02:03<00:09,  3.77it/s]"
     ]
    },
    {
     "name": "stdout",
     "output_type": "stream",
     "text": [
      "⚠️ Nessuna data trovata per: Camilla\n",
      "🟨 Elaborazione: Ariete\n"
     ]
    },
    {
     "name": "stderr",
     "output_type": "stream",
     "text": [
      "Estrazione data individuale:  93%|█████████▎| 437/470 [02:04<00:10,  3.06it/s]"
     ]
    },
    {
     "name": "stdout",
     "output_type": "stream",
     "text": [
      "🔍 Pseudonimo rilevato, provo con vero nome: emanuela trane\n",
      "🟨 Elaborazione: Noemi\n",
      "⚠️ Nessuna data trovata per: Giuni Russo\n",
      "🟨 Elaborazione: Malika Ayane\n",
      "🔍 Pseudonimo rilevato, provo con vero nome: laura abela\n",
      "🔍 Pseudonimo rilevato, provo con vero nome: amalia grezio\n"
     ]
    },
    {
     "name": "stderr",
     "output_type": "stream",
     "text": [
      "Estrazione data individuale:  94%|█████████▎| 440/470 [02:04<00:06,  4.40it/s]"
     ]
    },
    {
     "name": "stdout",
     "output_type": "stream",
     "text": [
      "🟨 Elaborazione: Arisa\n",
      "🟨 Elaborazione: Antonella Bellan\n"
     ]
    },
    {
     "name": "stderr",
     "output_type": "stream",
     "text": [
      "Estrazione data individuale:  94%|█████████▍| 441/470 [02:04<00:06,  4.33it/s]"
     ]
    },
    {
     "name": "stdout",
     "output_type": "stream",
     "text": [
      "❌ Nessuna pagina trovata per: Linda\n",
      "🟨 Elaborazione: Giusy Ferreri\n"
     ]
    },
    {
     "name": "stderr",
     "output_type": "stream",
     "text": [
      "Estrazione data individuale:  94%|█████████▍| 442/470 [02:05<00:06,  4.06it/s]"
     ]
    },
    {
     "name": "stdout",
     "output_type": "stream",
     "text": [
      "🟨 Elaborazione: Emma\n"
     ]
    },
    {
     "name": "stderr",
     "output_type": "stream",
     "text": [
      "Estrazione data individuale:  94%|█████████▍| 443/470 [02:05<00:09,  2.86it/s]"
     ]
    },
    {
     "name": "stdout",
     "output_type": "stream",
     "text": [
      "🟨 Elaborazione: Nina Zilli\n",
      "🔍 Pseudonimo rilevato, provo con vero nome: rosalba pippa\n"
     ]
    },
    {
     "name": "stderr",
     "output_type": "stream",
     "text": [
      "Estrazione data individuale:  94%|█████████▍| 444/470 [02:06<00:11,  2.27it/s]"
     ]
    },
    {
     "name": "stdout",
     "output_type": "stream",
     "text": [
      "🔍 Pseudonimo rilevato, provo con vero nome: arianna del giaccio\n",
      "🟨 Elaborazione: Chiara Civello\n",
      "⚠️ Nessuna data trovata per: Emma\n",
      "🟨 Elaborazione: Irene Fornaciari\n",
      "🔍 Pseudonimo rilevato, provo con vero nome: veronica scopelliti\n"
     ]
    },
    {
     "name": "stderr",
     "output_type": "stream",
     "text": [
      "Estrazione data individuale:  95%|█████████▍| 446/470 [02:07<00:10,  2.29it/s]"
     ]
    },
    {
     "name": "stdout",
     "output_type": "stream",
     "text": [
      "🔍 Pseudonimo rilevato, provo con vero nome: maria chiara fraschetta\n",
      "🟨 Elaborazione: Annalisa\n"
     ]
    },
    {
     "name": "stderr",
     "output_type": "stream",
     "text": [
      "Estrazione data individuale:  95%|█████████▌| 447/470 [02:07<00:08,  2.63it/s]"
     ]
    },
    {
     "name": "stdout",
     "output_type": "stream",
     "text": [
      "🟨 Elaborazione: Maria Nazionale\n",
      "🟨 Elaborazione: Bianca Atzei\n"
     ]
    },
    {
     "name": "stderr",
     "output_type": "stream",
     "text": [
      "Estrazione data individuale:  96%|█████████▌| 451/470 [02:08<00:04,  4.62it/s]"
     ]
    },
    {
     "name": "stdout",
     "output_type": "stream",
     "text": [
      "❌ Nessuna pagina trovata per: Antonella Bellan\n",
      "🟨 Elaborazione: Angelica\n",
      "🟨 Elaborazione: Lara Fabian\n",
      "🟨 Elaborazione: Francesca Michielin\n"
     ]
    },
    {
     "name": "stderr",
     "output_type": "stream",
     "text": [
      "Estrazione data individuale:  96%|█████████▋| 453/470 [02:09<00:05,  3.33it/s]"
     ]
    },
    {
     "name": "stdout",
     "output_type": "stream",
     "text": [
      "⚠️ Nessuna data trovata per: Annalisa\n",
      "🟨 Elaborazione: Elodie\n",
      "🟨 Elaborazione: Lodovica Comello\n",
      "🔍 Pseudonimo rilevato, provo con vero nome: veronica atzei\n"
     ]
    },
    {
     "name": "stderr",
     "output_type": "stream",
     "text": [
      "Estrazione data individuale:  97%|█████████▋| 454/470 [02:09<00:05,  2.89it/s]"
     ]
    },
    {
     "name": "stdout",
     "output_type": "stream",
     "text": [
      "🟨 Elaborazione: Alice🟨 Elaborazione: Giordana Angi\n",
      "\n",
      "🔍 Pseudonimo rilevato, provo con vero nome: lara sophie katy crokaert\n",
      "🟨 Elaborazione: Elettra Lamborghini\n"
     ]
    },
    {
     "name": "stderr",
     "output_type": "stream",
     "text": [
      "Estrazione data individuale:  97%|█████████▋| 457/470 [02:10<00:04,  3.11it/s]"
     ]
    },
    {
     "name": "stdout",
     "output_type": "stream",
     "text": [
      "🔍 Pseudonimo rilevato, provo con vero nome: elodie di patrizi\n",
      "🟨 Elaborazione: Gaia\n"
     ]
    },
    {
     "name": "stderr",
     "output_type": "stream",
     "text": [
      "Estrazione data individuale:  98%|█████████▊| 460/470 [02:10<00:01,  5.04it/s]"
     ]
    },
    {
     "name": "stdout",
     "output_type": "stream",
     "text": [
      "🟨 Elaborazione: Ana Mena\n",
      "🟨 Elaborazione: Mara Sattei\n",
      "🟨 Elaborazione: Shari\n"
     ]
    },
    {
     "name": "stderr",
     "output_type": "stream",
     "text": [
      "Estrazione data individuale:  99%|█████████▊| 463/470 [02:12<00:02,  2.93it/s]"
     ]
    },
    {
     "name": "stdout",
     "output_type": "stream",
     "text": [
      "🔍 Pseudonimo rilevato, provo con vero nome: sara mattei\n",
      "🔍 Pseudonimo rilevato, provo con vero nome: carla bissi\n"
     ]
    },
    {
     "name": "stderr",
     "output_type": "stream",
     "text": [
      "Estrazione data individuale:  99%|█████████▉| 466/470 [02:13<00:01,  2.75it/s]"
     ]
    },
    {
     "name": "stdout",
     "output_type": "stream",
     "text": [
      "🔍 Pseudonimo rilevato, provo con vero nome: gaia gozzi\n"
     ]
    },
    {
     "name": "stderr",
     "output_type": "stream",
     "text": [
      "Estrazione data individuale: 100%|██████████| 470/470 [02:16<00:00,  3.45it/s]"
     ]
    },
    {
     "name": "stdout",
     "output_type": "stream",
     "text": [
      "\n",
      "✅ File salvato con successo: Artisti_con_data_nascita_ottimizzata.xlsx\n"
     ]
    },
    {
     "name": "stderr",
     "output_type": "stream",
     "text": [
      "\n"
     ]
    }
   ],
   "source": [
    "import pandas as pd\n",
    "import wikipedia\n",
    "import re\n",
    "import concurrent.futures\n",
    "from tqdm import tqdm\n",
    "\n",
    "# Impostazioni Wikipedia\n",
    "wikipedia.set_lang(\"it\")\n",
    "wikipedia.set_rate_limiting(True)\n",
    "\n",
    "# Carica il file Excel\n",
    "file_path = \"File Unico Sanremo.xlsx\"\n",
    "df = pd.read_excel(file_path, sheet_name=\"Artisti Unici con genere\")\n",
    "\n",
    "# Divide artisti individuali e gruppi\n",
    "df_individuali = df[df[\"Genere\"].isin([\"Maschio\", \"Femmina\"])].copy()\n",
    "df_gruppi = df[~df[\"Genere\"].isin([\"Maschio\", \"Femmina\"])].copy()\n",
    "df_gruppi[\"Data di nascita\"] = \"Da verificare\"\n",
    "\n",
    "# Cache e dizionario mesi\n",
    "dob_cache = {}\n",
    "mesi_ita = {\n",
    "    \"gennaio\": \"01\", \"febbraio\": \"02\", \"marzo\": \"03\", \"aprile\": \"04\",\n",
    "    \"maggio\": \"05\", \"giugno\": \"06\", \"luglio\": \"07\", \"agosto\": \"08\",\n",
    "    \"settembre\": \"09\", \"ottobre\": \"10\", \"novembre\": \"11\", \"dicembre\": \"12\"\n",
    "}\n",
    "\n",
    "# Trova la pagina Wikipedia provando varie alternative\n",
    "def cerca_pagina(artista):\n",
    "    varianti = [\n",
    "        artista,\n",
    "        f\"{artista} (cantante)\",\n",
    "        f\"{artista} cantante\",\n",
    "        f\"{artista} musicista\",\n",
    "        f\"{artista} cantautore\",\n",
    "        f\"{artista} cantautrice\",\n",
    "        f\"{artista} sanremo\"\n",
    "    ]\n",
    "\n",
    "    for nome in varianti:\n",
    "        try:\n",
    "            return wikipedia.page(nome, auto_suggest=False, preload=False)\n",
    "        except (wikipedia.exceptions.DisambiguationError, wikipedia.exceptions.PageError):\n",
    "            continue\n",
    "        except Exception:\n",
    "            continue\n",
    "    return None\n",
    "\n",
    "# Estrae una data da una stringa (diversi formati supportati)\n",
    "def estrai_data_da_testo(testo):\n",
    "    testo = testo.lower()\n",
    "\n",
    "    # Caso: (luogo, 29 settembre 1997)\n",
    "    match = re.search(r'\\(([^,]+),\\s*(\\d{1,2})\\s+([a-z]+)\\s+(\\d{4})\\)', testo)\n",
    "    if match:\n",
    "        giorno = match.group(2).zfill(2)\n",
    "        mese = mesi_ita.get(match.group(3))\n",
    "        anno = match.group(4)\n",
    "        if mese:\n",
    "            return f\"{giorno}/{mese}/{anno}\"\n",
    "\n",
    "    # Caso: nato/nata il 3 aprile 1980\n",
    "    match = re.search(r'(nato|nata) il (\\d{1,2})\\s+([a-z]+)\\s+(\\d{4})', testo)\n",
    "    if match:\n",
    "        giorno = match.group(2).zfill(2)\n",
    "        mese = mesi_ita.get(match.group(3))\n",
    "        anno = match.group(4)\n",
    "        if mese:\n",
    "            return f\"{giorno}/{mese}/{anno}\"\n",
    "\n",
    "    # Caso: nata/o a X nel 2002\n",
    "    match = re.search(r'(nato|nata) a [a-zàèéòùì\\s]+ nel (\\d{4})', testo)\n",
    "    if match:\n",
    "        anno = match.group(2)\n",
    "        return f\"01/01/{anno}\"  # Data generica, ma utile\n",
    "\n",
    "    return None\n",
    "\n",
    "# Estrazione completa data di nascita\n",
    "def estrai_data_nascita(artista):\n",
    "    if artista in dob_cache:\n",
    "        return dob_cache[artista]\n",
    "\n",
    "    # Salta nomi multipli\n",
    "    if any(sep in artista.lower() for sep in [\",\", \" e \", \" - \"]):\n",
    "        print(f\"⚠️ Nomi multipli rilevati, salto: {artista}\")\n",
    "        return \"Da verificare\"\n",
    "\n",
    "    print(f\"🟨 Elaborazione: {artista}\")\n",
    "    pagina = cerca_pagina(artista)\n",
    "    if pagina is None:\n",
    "        print(f\"❌ Nessuna pagina trovata per: {artista}\")\n",
    "        return \"Da verificare\"\n",
    "\n",
    "    contenuto = (pagina.summary + \" \" + pagina.content).lower()\n",
    "\n",
    "    # Se c'è un \"pseudonimo di\", esamina anche il nome reale\n",
    "    if \"pseudonimo di\" in contenuto:\n",
    "        match_nome = re.search(r\"pseudonimo di ([a-z\\s']+)\", contenuto)\n",
    "        if match_nome:\n",
    "            vero_nome = match_nome.group(1).strip()\n",
    "            print(f\"🔍 Pseudonimo rilevato, provo con vero nome: {vero_nome}\")\n",
    "            pagina_vero_nome = cerca_pagina(vero_nome)\n",
    "            if pagina_vero_nome:\n",
    "                contenuto += \" \" + pagina_vero_nome.summary.lower()\n",
    "\n",
    "    data = estrai_data_da_testo(contenuto)\n",
    "    if data:\n",
    "        dob_cache[artista] = data\n",
    "        return data\n",
    "\n",
    "    print(f\"⚠️ Nessuna data trovata per: {artista}\")\n",
    "    return \"Da verificare\"\n",
    "\n",
    "# Applica la funzione in parallelo\n",
    "def apply_parallel(df, func, descrizione):\n",
    "    results = []\n",
    "    with concurrent.futures.ThreadPoolExecutor(max_workers=10) as executor:\n",
    "        futures = {executor.submit(func, artista): artista for artista in df[\"Artista\"]}\n",
    "        for future in tqdm(concurrent.futures.as_completed(futures), total=len(futures), desc=descrizione):\n",
    "            artista = futures[future]\n",
    "            try:\n",
    "                result = future.result()\n",
    "                results.append(result)\n",
    "            except Exception as e:\n",
    "                print(f\"❌ Errore durante {descrizione} su: {artista} — {e}\")\n",
    "                results.append(\"Errore\")\n",
    "    return results\n",
    "\n",
    "# Applica solo ai cantanti singoli\n",
    "df_individuali[\"Data di nascita\"] = apply_parallel(df_individuali, estrai_data_nascita, \"Estrazione data individuale\")\n",
    "\n",
    "# Ricombina il dataframe\n",
    "df_finale = pd.concat([df_individuali, df_gruppi]).sort_index()\n",
    "\n",
    "# Salvataggio finale\n",
    "output_file = \"Artisti_con_data_nascita_ottimizzata.xlsx\"\n",
    "df_finale.to_excel(output_file, index=False)\n",
    "\n",
    "print(f\"\\n✅ File salvato con successo: {output_file}\")\n"
   ]
  },
  {
   "cell_type": "code",
   "execution_count": null,
   "id": "776075ab-8f9c-4476-80f0-6522e25bf57b",
   "metadata": {},
   "outputs": [],
   "source": []
  }
 ],
 "metadata": {
  "kernelspec": {
   "display_name": "Python [conda env:base] *",
   "language": "python",
   "name": "conda-base-py"
  },
  "language_info": {
   "codemirror_mode": {
    "name": "ipython",
    "version": 3
   },
   "file_extension": ".py",
   "mimetype": "text/x-python",
   "name": "python",
   "nbconvert_exporter": "python",
   "pygments_lexer": "ipython3",
   "version": "3.12.7"
  }
 },
 "nbformat": 4,
 "nbformat_minor": 5
}

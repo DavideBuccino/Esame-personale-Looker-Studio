{
 "cells": [
  {
   "cell_type": "markdown",
   "id": "6e8a8509-a368-4e8c-a6a5-0427af497fea",
   "metadata": {},
   "source": [
    "CREO UNA NUOVA COLONNA CON IL GENERE DEGLI ARTISTI - OTTIMIZZATO"
   ]
  },
  {
   "cell_type": "code",
   "execution_count": 2,
   "id": "0ff2b3ef-eb0b-40a3-83a1-1895652b8d24",
   "metadata": {},
   "outputs": [
    {
     "name": "stderr",
     "output_type": "stream",
     "text": [
      "D:\\bocci\\anaconda3\\Lib\\site-packages\\wikipedia\\wikipedia.py:389: GuessedAtParserWarning: No parser was explicitly specified, so I'm using the best available HTML parser for this system (\"lxml\"). This usually isn't a problem, but if you run this code on another system, or in a different virtual environment, it may use a different parser and behave differently.\n",
      "\n",
      "The code that caused this warning is on line 389 of the file D:\\bocci\\anaconda3\\Lib\\site-packages\\wikipedia\\wikipedia.py. To get rid of this warning, pass the additional argument 'features=\"lxml\"' to the BeautifulSoup constructor.\n",
      "\n",
      "  lis = BeautifulSoup(html).find_all('li')\n"
     ]
    },
    {
     "name": "stdout",
     "output_type": "stream",
     "text": [
      "✅ Colonna 'Genere' aggiunta e file salvato come 'Artisti_unici_con_genere_ottimizzato.xlsx'\n"
     ]
    }
   ],
   "source": [
    "import pandas as pd\n",
    "import wikipedia\n",
    "import concurrent.futures\n",
    "\n",
    "# Imposta la lingua italiana\n",
    "wikipedia.set_lang(\"it\")\n",
    "\n",
    "# Carica il file Excel e il foglio degli artisti\n",
    "file_path = \"File Unico Sanremo.xlsx\"  # Cambia il nome se necessario\n",
    "df = pd.read_excel(file_path, sheet_name=\"Artisti unici\")\n",
    "\n",
    "# Cache dei riassunti\n",
    "summary_cache = {}\n",
    "\n",
    "def determina_genere(artista):\n",
    "    if artista in summary_cache:\n",
    "        return summary_cache[artista]\n",
    "    \n",
    "    try:\n",
    "        # Ottiene il riassunto di Wikipedia\n",
    "        summary = wikipedia.summary(artista, sentences=2).lower()\n",
    "        summary_cache[artista] = summary  # Memorizza nella cache\n",
    "        \n",
    "        # Logica di identificazione\n",
    "        if any(x in summary for x in [\"cantante\", \"cantautrice\", \"attrice\", \"voce femminile\"]):\n",
    "            return \"Femmina\"\n",
    "        elif any(x in summary for x in [\"cantautore\", \"attore\", \"rapper\", \"voce maschile\"]):\n",
    "            return \"Maschio\"\n",
    "        elif \"gruppo\" in summary or \"band\" in summary or \"duo\" in summary:\n",
    "            return \"Gruppo\"\n",
    "        else:\n",
    "            return \"Da verificare\"\n",
    "    except wikipedia.exceptions.DisambiguationError as e:\n",
    "        summary_cache[artista] = \"Da verificare\"\n",
    "        return \"Da verificare\"\n",
    "    except wikipedia.exceptions.PageError:\n",
    "        summary_cache[artista] = \"Da verificare\"\n",
    "        return \"Da verificare\"\n",
    "\n",
    "# Funzione per applicare parallelamente\n",
    "def apply_parallel(df, func):\n",
    "    with concurrent.futures.ThreadPoolExecutor() as executor:\n",
    "        return list(executor.map(func, df[\"Artista\"]))\n",
    "\n",
    "# Applica la funzione in parallelo\n",
    "df[\"Genere\"] = apply_parallel(df, determina_genere)\n",
    "\n",
    "# Salva il nuovo file con la colonna aggiunta\n",
    "df.to_excel(\"Artisti_unici_con_genere_ottimizzato.xlsx\", index=False)\n",
    "\n",
    "print(\"✅ Colonna 'Genere' aggiunta e file salvato come 'Artisti_unici_con_genere_ottimizzato.xlsx'\")\n"
   ]
  },
  {
   "cell_type": "code",
   "execution_count": 9,
   "id": "798e3f16-7436-43cd-aea5-1bcea3a82819",
   "metadata": {},
   "outputs": [
    {
     "name": "stdout",
     "output_type": "stream",
     "text": [
      "                          Artista   Genere\n",
      "0                     Nilla Pizzi  Femmina\n",
      "1  Nilla Pizzi e Achille Togliani  Femmina\n",
      "2                Achille Togliani  Femmina\n",
      "3   Achille Togliani e Duo Fasano  Femmina\n",
      "4                      Duo Fasano   Gruppo\n"
     ]
    }
   ],
   "source": [
    "import pandas as pd\n",
    "\n",
    "# Carica il file Excel\n",
    "file_path = \"Artisti_unici_con_genere_ottimizzato.xlsx\"\n",
    "df = pd.read_excel(file_path)\n",
    "\n",
    "# Mostra le prime righe del DataFrame per verificarlo\n",
    "print(df.head())  # Mostra le prime 5 righe\n"
   ]
  },
  {
   "cell_type": "code",
   "execution_count": 11,
   "id": "0e5b9840-c78f-4d29-be94-5fa61823fdf3",
   "metadata": {},
   "outputs": [
    {
     "name": "stdout",
     "output_type": "stream",
     "text": [
      "                             Artista         Genere\n",
      "0                        Nilla Pizzi        Femmina\n",
      "1     Nilla Pizzi e Achille Togliani        Femmina\n",
      "2                   Achille Togliani        Femmina\n",
      "3      Achille Togliani e Duo Fasano        Femmina\n",
      "4                         Duo Fasano         Gruppo\n",
      "...                              ...            ...\n",
      "1059                       Gianmaria        Maschio\n",
      "1060                            Olly        Maschio\n",
      "1061                            Will  Da verificare\n",
      "1062                           Shari        Femmina\n",
      "1063                           Sethu        Femmina\n",
      "\n",
      "[1064 rows x 2 columns]\n"
     ]
    }
   ],
   "source": [
    "print(df)  # Mostra l'intero DataFrame (attenzione se è molto grande!)\n"
   ]
  },
  {
   "cell_type": "code",
   "execution_count": 13,
   "id": "592fa57e-56c8-48ab-b194-1644c3da4a16",
   "metadata": {},
   "outputs": [
    {
     "name": "stdout",
     "output_type": "stream",
     "text": [
      "Genere\n",
      "Femmina          511\n",
      "Maschio          243\n",
      "Da verificare    199\n",
      "Gruppo           111\n",
      "Name: count, dtype: int64\n"
     ]
    }
   ],
   "source": [
    "print(df['Genere'].value_counts())  # Conta i valori unici nella colonna 'Genere'\n"
   ]
  },
  {
   "cell_type": "code",
   "execution_count": null,
   "id": "47586718-dce2-4c6e-a715-585ae80b5bf5",
   "metadata": {},
   "outputs": [],
   "source": []
  }
 ],
 "metadata": {
  "kernelspec": {
   "display_name": "Python [conda env:base] *",
   "language": "python",
   "name": "conda-base-py"
  },
  "language_info": {
   "codemirror_mode": {
    "name": "ipython",
    "version": 3
   },
   "file_extension": ".py",
   "mimetype": "text/x-python",
   "name": "python",
   "nbconvert_exporter": "python",
   "pygments_lexer": "ipython3",
   "version": "3.12.7"
  }
 },
 "nbformat": 4,
 "nbformat_minor": 5
}

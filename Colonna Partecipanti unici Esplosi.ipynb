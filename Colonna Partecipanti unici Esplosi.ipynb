{
 "cells": [
  {
   "cell_type": "markdown",
   "id": "255e3ed4-a09c-4f5f-ae53-d9a1aec0c1b3",
   "metadata": {},
   "source": [
    "QUI HO GENERATO UNA COLONNA CON OGNI ARTISTA UNICO, QUINDI OGNI ARTISTA CHE COMPARE IN DUO, TRIO, QUARTETTO, QUINTETTO VIENE ESPANSO"
   ]
  },
  {
   "cell_type": "code",
   "execution_count": 8,
   "id": "fb516ac7-5c75-4b19-84d6-47d0807982aa",
   "metadata": {},
   "outputs": [
    {
     "name": "stdout",
     "output_type": "stream",
     "text": [
      "✅ File aggiornato con delimitatore 'con': 'Artisti_unici_esplosi.xlsx'\n"
     ]
    }
   ],
   "source": [
    "import pandas as pd\n",
    "import re\n",
    "\n",
    "# Carica il file Excel\n",
    "file_path = \"File Unico Sanremo.xlsx\"\n",
    "df = pd.read_excel(file_path, sheet_name=\"Artisti unici\")\n",
    "\n",
    "# Funzione per separare i partecipanti\n",
    "def separa_partecipanti(testo):\n",
    "    if pd.isna(testo):\n",
    "        return []\n",
    "    \n",
    "    # Separazione su delimitatori: -, /, \\, ,, ;, ., \" e \", \" con \"\n",
    "    pattern = r\"\\s*(?:\\-|/|\\\\|,|;|\\.|\\s+e\\s+|\\s+con\\s+)\\s*\"\n",
    "    partecipanti = re.split(pattern, testo, flags=re.IGNORECASE)\n",
    "    partecipanti = [p.strip() for p in partecipanti if p.strip()]\n",
    "    return partecipanti\n",
    "\n",
    "# Applichiamo la funzione\n",
    "df[\"Partecipanti unici\"] = df[\"Artista\"].apply(separa_partecipanti)\n",
    "\n",
    "# Esplode in righe\n",
    "df_esploso = df.explode(\"Partecipanti unici\").reset_index(drop=True)\n",
    "\n",
    "# Rinomina\n",
    "df_esploso.rename(columns={\"Partecipanti unici\": \"Artista unico\"}, inplace=True)\n",
    "\n",
    "# Salva su Excel\n",
    "df_esploso.to_excel(\"Artisti_unici_esplosi.xlsx\", index=False)\n",
    "\n",
    "print(\"✅ File aggiornato con delimitatore 'con': 'Artisti_unici_esplosi.xlsx'\")\n"
   ]
  },
  {
   "cell_type": "code",
   "execution_count": null,
   "id": "d8ff2cfb-fd70-4d84-b0ac-d935bd945e5a",
   "metadata": {},
   "outputs": [],
   "source": []
  }
 ],
 "metadata": {
  "kernelspec": {
   "display_name": "Python [conda env:base] *",
   "language": "python",
   "name": "conda-base-py"
  },
  "language_info": {
   "codemirror_mode": {
    "name": "ipython",
    "version": 3
   },
   "file_extension": ".py",
   "mimetype": "text/x-python",
   "name": "python",
   "nbconvert_exporter": "python",
   "pygments_lexer": "ipython3",
   "version": "3.12.7"
  }
 },
 "nbformat": 4,
 "nbformat_minor": 5
}

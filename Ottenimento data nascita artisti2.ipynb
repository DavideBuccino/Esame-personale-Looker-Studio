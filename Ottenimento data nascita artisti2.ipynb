{
 "cells": [
  {
   "cell_type": "code",
   "execution_count": null,
   "id": "f2dff302-de7d-4c4d-a502-e4d0862c1d5d",
   "metadata": {},
   "outputs": [],
   "source": [
    "OTTENIMENTO DATA NASCITA ARTISTI OTTIMIZZATO"
   ]
  },
  {
   "cell_type": "code",
   "execution_count": 3,
   "id": "c4adc63c-9617-4f35-9b24-3199cd442acb",
   "metadata": {},
   "outputs": [
    {
     "name": "stdout",
     "output_type": "stream",
     "text": [
      "🟨 Estrazione data per: Achille Togliani\n",
      "🟨 Estrazione data per: Oscar Carboni\n",
      "🟨 Estrazione data per: Gino Latilla\n",
      "🟨 Estrazione data per: Zucchero\n",
      "🟨 Estrazione data per: Will\n",
      "🟨 Estrazione data per: Virginio\n",
      "🟨 Estrazione data per: Ultimo\n",
      "🟨 Estrazione data per: Tricarico\n",
      "🟨 Estrazione data per: Tiziano Orecchio\n",
      "🟨 Estrazione data per: Stefano Tosi\n"
     ]
    },
    {
     "name": "stderr",
     "output_type": "stream",
     "text": [
      "Estrazione ottimizzata:   0%|          | 0/470 [00:00<?, ?it/s]D:\\bocci\\anaconda3\\Lib\\site-packages\\wikipedia\\wikipedia.py:389: GuessedAtParserWarning: No parser was explicitly specified, so I'm using the best available HTML parser for this system (\"lxml\"). This usually isn't a problem, but if you run this code on another system, or in a different virtual environment, it may use a different parser and behave differently.\n",
      "\n",
      "The code that caused this warning is on line 389 of the file D:\\bocci\\anaconda3\\Lib\\site-packages\\wikipedia\\wikipedia.py. To get rid of this warning, pass the additional argument 'features=\"lxml\"' to the BeautifulSoup constructor.\n",
      "\n",
      "  lis = BeautifulSoup(html).find_all('li')\n",
      "Estrazione ottimizzata:   1%|          | 4/470 [00:01<02:28,  3.14it/s]"
     ]
    },
    {
     "name": "stdout",
     "output_type": "stream",
     "text": [
      "🟨 Estrazione data per: Ugo Molinari\n",
      "⚠️ Nessuna data trovata per: Virginio\n",
      "🟨 Estrazione data per: Gianni Marzocchi\n",
      "⚠️ Nessuna data trovata per: Tricarico\n",
      "🟨 Estrazione data per: Stefano Rosso\n",
      "🟨 Estrazione data per: Silvano Vittorio\n",
      "🟨 Estrazione data per: Sangiovanni\n"
     ]
    },
    {
     "name": "stderr",
     "output_type": "stream",
     "text": [
      "Estrazione ottimizzata:   1%|▏         | 6/470 [00:02<02:12,  3.50it/s]"
     ]
    },
    {
     "name": "stdout",
     "output_type": "stream",
     "text": [
      "⚠️ Nessuna data trovata per: Zucchero\n",
      "🟨 Estrazione data per: Samuel\n"
     ]
    },
    {
     "name": "stderr",
     "output_type": "stream",
     "text": [
      "Estrazione ottimizzata:   1%|▏         | 7/470 [00:02<03:04,  2.51it/s]"
     ]
    },
    {
     "name": "stdout",
     "output_type": "stream",
     "text": [
      "🟨 Estrazione data per: Roberto Carlos\n",
      "❌ Nessuna pagina trovata per: Tiziano Orecchio\n",
      "🟨 Estrazione data per: Random\n",
      "🟨 Estrazione data per: Rancore\n"
     ]
    },
    {
     "name": "stderr",
     "output_type": "stream",
     "text": [
      "Estrazione ottimizzata:   2%|▏         | 11/470 [00:03<01:53,  4.05it/s]"
     ]
    },
    {
     "name": "stdout",
     "output_type": "stream",
     "text": [
      "❌ Nessuna pagina trovata per: Will\n",
      "🟨 Estrazione data per: Pacifico\n",
      "❌ Nessuna pagina trovata per: Stefano Tosi\n",
      "🟨 Estrazione data per: Orlando Johnson\n"
     ]
    },
    {
     "name": "stderr",
     "output_type": "stream",
     "text": [
      "Estrazione ottimizzata:   3%|▎         | 12/470 [00:03<01:38,  4.64it/s]"
     ]
    },
    {
     "name": "stdout",
     "output_type": "stream",
     "text": [
      "❌ Nessuna pagina trovata per: Ultimo\n",
      "🟨 Estrazione data per: Nicola Di Bari\n"
     ]
    },
    {
     "name": "stderr",
     "output_type": "stream",
     "text": [
      "Estrazione ottimizzata:   3%|▎         | 13/470 [00:04<02:47,  2.72it/s]"
     ]
    },
    {
     "name": "stdout",
     "output_type": "stream",
     "text": [
      "❌ Nessuna pagina trovata per: Silvano Vittorio\n",
      "🟨 Estrazione data per: Motta\n"
     ]
    },
    {
     "name": "stderr",
     "output_type": "stream",
     "text": [
      "Estrazione ottimizzata:   4%|▎         | 17/470 [00:05<01:36,  4.67it/s]"
     ]
    },
    {
     "name": "stdout",
     "output_type": "stream",
     "text": [
      "⚠️ Nessuna data trovata per: Random\n",
      "🟨 Estrazione data per: Moreno\n",
      "🟨 Estrazione data per: Miko\n",
      "❌ Nessuna pagina trovata per: Stefano Rosso\n",
      "🟨 Estrazione data per: Michele\n",
      "⚠️ Nessuna data trovata per: Rancore\n",
      "🟨 Estrazione data per: Massimo Abbate\n",
      "❌ Nessuna pagina trovata per: Sangiovanni\n",
      "🟨 Estrazione data per: Luca Cola\n"
     ]
    },
    {
     "name": "stderr",
     "output_type": "stream",
     "text": [
      "Estrazione ottimizzata:   4%|▍         | 19/470 [00:05<01:27,  5.16it/s]"
     ]
    },
    {
     "name": "stdout",
     "output_type": "stream",
     "text": [
      "⚠️ Nessuna data trovata per: Pacifico\n",
      "🟨 Estrazione data per: Peppino Gagliardi\n"
     ]
    },
    {
     "name": "stderr",
     "output_type": "stream",
     "text": [
      "Estrazione ottimizzata:   4%|▍         | 20/470 [00:05<01:34,  4.77it/s]"
     ]
    },
    {
     "name": "stdout",
     "output_type": "stream",
     "text": [
      "❌ Nessuna pagina trovata per: Samuel\n",
      "🟨 Estrazione data per: Gianni Morandi\n"
     ]
    },
    {
     "name": "stderr",
     "output_type": "stream",
     "text": [
      "Estrazione ottimizzata:   5%|▍         | 23/470 [00:06<01:36,  4.64it/s]"
     ]
    },
    {
     "name": "stdout",
     "output_type": "stream",
     "text": [
      "⚠️ Nessuna data trovata per: Miko\n",
      "🟨 Estrazione data per: Gianni Nazzaro\n",
      "❌ Nessuna pagina trovata per: Roberto Carlos\n",
      "🟨 Estrazione data per: Lucio Dalla\n",
      "⚠️ Nessuna data trovata per: Michele\n",
      "🟨 Estrazione data per: Domenico Modugno\n"
     ]
    },
    {
     "name": "stderr",
     "output_type": "stream",
     "text": [
      "Estrazione ottimizzata:   5%|▌         | 24/470 [00:06<02:00,  3.69it/s]"
     ]
    },
    {
     "name": "stdout",
     "output_type": "stream",
     "text": [
      "🟨 Estrazione data per: Pino Donaggio\n"
     ]
    },
    {
     "name": "stderr",
     "output_type": "stream",
     "text": [
      "Estrazione ottimizzata:   5%|▌         | 25/470 [00:07<02:00,  3.69it/s]"
     ]
    },
    {
     "name": "stdout",
     "output_type": "stream",
     "text": [
      "🟨 Estrazione data per: Fausto Leali\n",
      "❌ Nessuna pagina trovata per: Nicola Di Bari\n",
      "🟨 Estrazione data per: Tony Cucchiara\n"
     ]
    },
    {
     "name": "stderr",
     "output_type": "stream",
     "text": [
      "Estrazione ottimizzata:   6%|▋         | 30/470 [00:07<01:20,  5.49it/s]"
     ]
    },
    {
     "name": "stdout",
     "output_type": "stream",
     "text": [
      "❌ Nessuna pagina trovata per: Luca Cola\n",
      "🟨 Estrazione data per: Bobby Solo\n",
      "❌ Nessuna pagina trovata per: Massimo Abbate\n",
      "🟨 Estrazione data per: Peppino Di Capri\n",
      "🟨 Estrazione data per: Roberto Vecchioni\n",
      "🟨 Estrazione data per: Umberto Balsamo\n",
      "🟨 Estrazione data per: Memo Remigi\n",
      "❌ Nessuna pagina trovata per: Motta\n",
      "🟨 Estrazione data per: Lionello\n"
     ]
    },
    {
     "name": "stderr",
     "output_type": "stream",
     "text": [
      "Estrazione ottimizzata:   7%|▋         | 33/470 [00:08<01:07,  6.50it/s]"
     ]
    },
    {
     "name": "stdout",
     "output_type": "stream",
     "text": [
      "🟨 Estrazione data per: Sergio Endrigo\n",
      "❌ Nessuna pagina trovata per: Moreno\n",
      "🟨 Estrazione data per: Christian De Sica\n"
     ]
    },
    {
     "name": "stderr",
     "output_type": "stream",
     "text": [
      "Estrazione ottimizzata:   7%|▋         | 35/470 [00:08<01:06,  6.50it/s]"
     ]
    },
    {
     "name": "stdout",
     "output_type": "stream",
     "text": [
      "🟨 Estrazione data per: Alberto Feri\n",
      "🟨 Estrazione data per: Junior Magli\n"
     ]
    },
    {
     "name": "stderr",
     "output_type": "stream",
     "text": [
      "Estrazione ottimizzata:   8%|▊         | 37/470 [00:09<01:30,  4.76it/s]"
     ]
    },
    {
     "name": "stdout",
     "output_type": "stream",
     "text": [
      "🟨 Estrazione data per: Drupi\n",
      "🟨 Estrazione data per: Toni Santagata\n",
      "🟨 Estrazione data per: Al Bano\n",
      "🟨 Estrazione data per: Mino Reitano\n"
     ]
    },
    {
     "name": "stderr",
     "output_type": "stream",
     "text": [
      "Estrazione ottimizzata:   9%|▉         | 43/470 [00:09<00:56,  7.58it/s]"
     ]
    },
    {
     "name": "stdout",
     "output_type": "stream",
     "text": [
      "⚠️ Nessuna data trovata per: Lionello\n",
      "🟨 Estrazione data per: Little Tony\n",
      "🟨 Estrazione data per: Kambiz\n",
      "🟨 Estrazione data per: Riccardo Fogli\n",
      "🟨 Estrazione data per: Franco Simone\n"
     ]
    },
    {
     "name": "stderr",
     "output_type": "stream",
     "text": [
      "Estrazione ottimizzata:  10%|▉         | 45/470 [00:10<00:57,  7.42it/s]"
     ]
    },
    {
     "name": "stdout",
     "output_type": "stream",
     "text": [
      "🟨 Estrazione data per: Piero Focaccia\n",
      "🟨 Estrazione data per: Eugenio Alberti\n"
     ]
    },
    {
     "name": "stderr",
     "output_type": "stream",
     "text": [
      "Estrazione ottimizzata:  10%|█         | 49/470 [00:10<01:06,  6.35it/s]"
     ]
    },
    {
     "name": "stdout",
     "output_type": "stream",
     "text": [
      "🟨 Estrazione data per: Piero Cotto\n",
      "🟨 Estrazione data per: Henry Freis\n",
      "🟨 Estrazione data per: Jean-François Michael\n",
      "🟨 Estrazione data per: Lorenzo Pilat\n"
     ]
    },
    {
     "name": "stderr",
     "output_type": "stream",
     "text": [
      "Estrazione ottimizzata:  11%|█         | 52/470 [00:11<01:06,  6.30it/s]"
     ]
    },
    {
     "name": "stdout",
     "output_type": "stream",
     "text": [
      "🟨 Estrazione data per: Paola Folzini\n",
      "🟨 Estrazione data per: Goffredo Canarini\n"
     ]
    },
    {
     "name": "stderr",
     "output_type": "stream",
     "text": [
      "Estrazione ottimizzata:  12%|█▏        | 55/470 [00:11<00:48,  8.48it/s]"
     ]
    },
    {
     "name": "stdout",
     "output_type": "stream",
     "text": [
      "🟨 Estrazione data per: Sandro Giacobbe\n",
      "🟨 Estrazione data per: Paolo Frescura\n",
      "🟨 Estrazione data per: Carlo Gigli\n"
     ]
    },
    {
     "name": "stderr",
     "output_type": "stream",
     "text": [
      "Estrazione ottimizzata:  12%|█▏        | 57/470 [00:12<01:18,  5.27it/s]"
     ]
    },
    {
     "name": "stdout",
     "output_type": "stream",
     "text": [
      "🟨 Estrazione data per: Daniel Sentacruz Ensemble\n",
      "🟨 Estrazione data per: Patrizio Sandrelli\n",
      "🟨 Estrazione data per: Santino Rocchetti\n"
     ]
    },
    {
     "name": "stderr",
     "output_type": "stream",
     "text": [
      "Estrazione ottimizzata:  13%|█▎        | 59/470 [00:12<01:10,  5.80it/s]"
     ]
    },
    {
     "name": "stdout",
     "output_type": "stream",
     "text": [
      "🟨 Estrazione data per: Antonio Buonomo\n",
      "❌ Nessuna pagina trovata per: Kambiz\n",
      "🟨 Estrazione data per: Leano Morelli\n"
     ]
    },
    {
     "name": "stderr",
     "output_type": "stream",
     "text": [
      "Estrazione ottimizzata:  14%|█▎        | 64/470 [00:12<00:47,  8.51it/s]"
     ]
    },
    {
     "name": "stdout",
     "output_type": "stream",
     "text": [
      "🟨 Estrazione data per: Umberto Lupi\n",
      "🟨 Estrazione data per: Ezio Maria Picciotta\n",
      "🟨 Estrazione data per: Umberto Napolitano\n",
      "🟨 Estrazione data per: Daniela Davoli\n"
     ]
    },
    {
     "name": "stderr",
     "output_type": "stream",
     "text": [
      "Estrazione ottimizzata:  14%|█▍        | 66/470 [00:13<01:14,  5.41it/s]"
     ]
    },
    {
     "name": "stdout",
     "output_type": "stream",
     "text": [
      "❌ Nessuna pagina trovata per: Henry Freis\n",
      "🟨 Estrazione data per: Rino Gaetano\n",
      "🟨 Estrazione data per: Ciro Sebastianelli\n",
      "🟨 Estrazione data per: Anselmo Genovese\n",
      "⚠️ Nessuna data trovata per: Daniel Sentacruz Ensemble\n",
      "🟨 Estrazione data per: Donato Ciletti\n"
     ]
    },
    {
     "name": "stderr",
     "output_type": "stream",
     "text": [
      "Estrazione ottimizzata:  15%|█▍        | 70/470 [00:14<00:58,  6.83it/s]"
     ]
    },
    {
     "name": "stdout",
     "output_type": "stream",
     "text": [
      "🟨 Estrazione data per: Roberto Carrino\n",
      "⚠️ Nessuna data trovata per: Leano Morelli\n",
      "🟨 Estrazione data per: Marco Ferradini\n",
      "🟨 Estrazione data per: Mino Vergnaghi\n"
     ]
    },
    {
     "name": "stderr",
     "output_type": "stream",
     "text": [
      "Estrazione ottimizzata:  16%|█▌        | 73/470 [00:14<00:45,  8.78it/s]"
     ]
    },
    {
     "name": "stdout",
     "output_type": "stream",
     "text": [
      "🟨 Estrazione data per: Enzo Carella\n",
      "🟨 Estrazione data per: Enrico Beruschi\n",
      "🟨 Estrazione data per: Franco Fanigliulo\n"
     ]
    },
    {
     "name": "stderr",
     "output_type": "stream",
     "text": [
      "Estrazione ottimizzata:  17%|█▋        | 78/470 [00:15<00:56,  6.89it/s]"
     ]
    },
    {
     "name": "stdout",
     "output_type": "stream",
     "text": [
      "🟨 Estrazione data per: Gianni Migliardi\n",
      "🟨 Estrazione data per: Michele Vicino\n",
      "⚠️ Nessuna data trovata per: Donato Ciletti\n",
      "🟨 Estrazione data per: Gianni Mocchetti\n",
      "🟨 Estrazione data per: Toto Cutugno\n"
     ]
    },
    {
     "name": "stderr",
     "output_type": "stream",
     "text": [
      "Estrazione ottimizzata:  17%|█▋        | 82/470 [00:15<00:47,  8.13it/s]"
     ]
    },
    {
     "name": "stdout",
     "output_type": "stream",
     "text": [
      "🟨 Estrazione data per: Enzo Malepasso\n",
      "🟨 Estrazione data per: Pupo\n",
      "🟨 Estrazione data per: Leroy Gomez\n",
      "🟨 Estrazione data per: Paolo Riviera\n",
      "🟨 Estrazione data per: Francesco Magni\n",
      "🟨 Estrazione data per: Aldo Donati\n"
     ]
    },
    {
     "name": "stderr",
     "output_type": "stream",
     "text": [
      "Estrazione ottimizzata:  19%|█▊        | 87/470 [00:16<00:59,  6.39it/s]"
     ]
    },
    {
     "name": "stdout",
     "output_type": "stream",
     "text": [
      "🟨 Estrazione data per: Bruno D'Andrea\n",
      "🟨 Estrazione data per: Alberto Cheli\n",
      "🟨 Estrazione data per: Rimmel\n"
     ]
    },
    {
     "name": "stderr",
     "output_type": "stream",
     "text": [
      "Estrazione ottimizzata:  20%|█▉        | 92/470 [00:17<00:43,  8.63it/s]"
     ]
    },
    {
     "name": "stdout",
     "output_type": "stream",
     "text": [
      "🟨 Estrazione data per: Gianfranco De Angelis\n",
      "🟨 Estrazione data per: Dario Baldan Bembo\n",
      "🟨 Estrazione data per: Luca Barbarossa\n",
      "🟨 Estrazione data per: Paolo Barabani\n"
     ]
    },
    {
     "name": "stderr",
     "output_type": "stream",
     "text": [
      "Estrazione ottimizzata:  20%|██        | 94/470 [00:17<01:13,  5.11it/s]"
     ]
    },
    {
     "name": "stdout",
     "output_type": "stream",
     "text": [
      "❌ Nessuna pagina trovata per: Gianni Migliardi\n",
      "🟨 Estrazione data per: Michele Zarrillo\n",
      "🟨 Estrazione data per: Eduardo De Crescenzo\n",
      "🟨 Estrazione data per: Sterling Saint-Jacques\n"
     ]
    },
    {
     "name": "stderr",
     "output_type": "stream",
     "text": [
      "Estrazione ottimizzata:  21%|██        | 97/470 [00:18<01:05,  5.65it/s]"
     ]
    },
    {
     "name": "stdout",
     "output_type": "stream",
     "text": [
      "🟨 Estrazione data per: Gianni Bella\n",
      "🟨 Estrazione data per: Sebastiano Occhino\n"
     ]
    },
    {
     "name": "stderr",
     "output_type": "stream",
     "text": [
      "Estrazione ottimizzata:  21%|██        | 98/470 [00:18<01:06,  5.63it/s]"
     ]
    },
    {
     "name": "stdout",
     "output_type": "stream",
     "text": [
      "🟨 Estrazione data per: Tom Hooker\n",
      "🟨 Estrazione data per: Domenico Mattia\n"
     ]
    },
    {
     "name": "stderr",
     "output_type": "stream",
     "text": [
      "Estrazione ottimizzata:  21%|██▏       | 100/470 [00:18<01:03,  5.81it/s]"
     ]
    },
    {
     "name": "stdout",
     "output_type": "stream",
     "text": [
      "❌ Nessuna pagina trovata per: Pupo\n",
      "🟨 Estrazione data per: Franco Fasano\n"
     ]
    },
    {
     "name": "stderr",
     "output_type": "stream",
     "text": [
      "Estrazione ottimizzata:  22%|██▏       | 102/470 [00:19<01:07,  5.44it/s]"
     ]
    },
    {
     "name": "stdout",
     "output_type": "stream",
     "text": [
      "❌ Nessuna pagina trovata per: Aldo Donati\n",
      "🟨 Estrazione data per: Giuseppe Cionfoli\n",
      "🟨 Estrazione data per: Jimmy Fontana\n"
     ]
    },
    {
     "name": "stderr",
     "output_type": "stream",
     "text": [
      "Estrazione ottimizzata:  22%|██▏       | 103/470 [00:19<00:59,  6.14it/s]"
     ]
    },
    {
     "name": "stdout",
     "output_type": "stream",
     "text": [
      "🟨 Estrazione data per: Stefano Sani\n"
     ]
    },
    {
     "name": "stderr",
     "output_type": "stream",
     "text": [
      "Estrazione ottimizzata:  22%|██▏       | 104/470 [00:19<01:15,  4.87it/s]"
     ]
    },
    {
     "name": "stdout",
     "output_type": "stream",
     "text": [
      "🟨 Estrazione data per: Riccardo Del Turco\n",
      "⚠️ Nessuna data trovata per: Sebastiano Occhino\n",
      "🟨 Estrazione data per: Plastic Bertrand\n"
     ]
    },
    {
     "name": "stderr",
     "output_type": "stream",
     "text": [
      "Estrazione ottimizzata:  23%|██▎       | 108/470 [00:20<00:44,  8.13it/s]"
     ]
    },
    {
     "name": "stdout",
     "output_type": "stream",
     "text": [
      "🟨 Estrazione data per: Mal\n",
      "🟨 Estrazione data per: Mario Castelnuovo\n",
      "🟨 Estrazione data per: Roberto Soffici\n",
      "❌ Nessuna pagina trovata per: Rimmel\n",
      "🟨 Estrazione data per: Vasco Rossi\n"
     ]
    },
    {
     "name": "stderr",
     "output_type": "stream",
     "text": [
      "Estrazione ottimizzata:  23%|██▎       | 110/470 [00:20<00:40,  8.79it/s]"
     ]
    },
    {
     "name": "stdout",
     "output_type": "stream",
     "text": [
      "🟨 Estrazione data per: Rino Martinez\n"
     ]
    },
    {
     "name": "stderr",
     "output_type": "stream",
     "text": [
      "Estrazione ottimizzata:  24%|██▍       | 112/470 [00:20<00:59,  6.03it/s]"
     ]
    },
    {
     "name": "stdout",
     "output_type": "stream",
     "text": [
      "🟨 Estrazione data per: Claudio Villa\n",
      "🟨 Estrazione data per: Piero Cassano\n",
      "🟨 Estrazione data per: Marco Armani\n"
     ]
    },
    {
     "name": "stderr",
     "output_type": "stream",
     "text": [
      "Estrazione ottimizzata:  24%|██▍       | 114/470 [00:21<01:06,  5.35it/s]"
     ]
    },
    {
     "name": "stdout",
     "output_type": "stream",
     "text": [
      "🟨 Estrazione data per: Giorgia Fiorio\n",
      "🟨 Estrazione data per: Bertín Osborne\n"
     ]
    },
    {
     "name": "stderr",
     "output_type": "stream",
     "text": [
      "Estrazione ottimizzata:  25%|██▌       | 118/470 [00:21<00:47,  7.41it/s]"
     ]
    },
    {
     "name": "stdout",
     "output_type": "stream",
     "text": [
      "🟨 Estrazione data per: Riccardo Azzurri\n",
      "🟨 Estrazione data per: Richard Sanderson\n",
      "🟨 Estrazione data per: Donatello\n",
      "🟨 Estrazione data per: Nino Buonocore\n",
      "🟨 Estrazione data per: Alessio Colombini\n"
     ]
    },
    {
     "name": "stderr",
     "output_type": "stream",
     "text": [
      "Estrazione ottimizzata:  26%|██▌       | 121/470 [00:22<00:55,  6.30it/s]"
     ]
    },
    {
     "name": "stdout",
     "output_type": "stream",
     "text": [
      "🟨 Estrazione data per: Manuele Pepe\n",
      "🟨 Estrazione data per: Amedeo Minghi\n",
      "🟨 Estrazione data per: Alberto Camerini\n"
     ]
    },
    {
     "name": "stderr",
     "output_type": "stream",
     "text": [
      "Estrazione ottimizzata:  26%|██▋       | 124/470 [00:22<00:53,  6.48it/s]"
     ]
    },
    {
     "name": "stdout",
     "output_type": "stream",
     "text": [
      "🟨 Estrazione data per: Garbo\n",
      "🟨 Estrazione data per: Enrico Ruggeri\n"
     ]
    },
    {
     "name": "stderr",
     "output_type": "stream",
     "text": [
      "Estrazione ottimizzata:  27%|██▋       | 128/470 [00:23<00:46,  7.30it/s]"
     ]
    },
    {
     "name": "stdout",
     "output_type": "stream",
     "text": [
      "🟨 Estrazione data per: Luis Miguel\n",
      "🟨 Estrazione data per: Eros Ramazzotti\n",
      "🟨 Estrazione data per: Ivan Graziani\n"
     ]
    },
    {
     "name": "stderr",
     "output_type": "stream",
     "text": [
      "Estrazione ottimizzata:  28%|██▊       | 130/470 [00:23<00:43,  7.88it/s]"
     ]
    },
    {
     "name": "stdout",
     "output_type": "stream",
     "text": [
      "⚠️ Nessuna data trovata per: Alessio Colombini\n",
      "🟨 Estrazione data per: Eugenio Finardi\n",
      "🟨 Estrazione data per: Mimmo Locasciulli\n"
     ]
    },
    {
     "name": "stderr",
     "output_type": "stream",
     "text": [
      "Estrazione ottimizzata:  28%|██▊       | 131/470 [00:23<00:54,  6.27it/s]"
     ]
    },
    {
     "name": "stdout",
     "output_type": "stream",
     "text": [
      "🟨 Estrazione data per: Renzo Arbore\n",
      "🟨 Estrazione data per: Nino D'Angelo\n",
      "🟨 Estrazione data per: Fred Bongusto\n"
     ]
    },
    {
     "name": "stderr",
     "output_type": "stream",
     "text": [
      "Estrazione ottimizzata:  29%|██▊       | 134/470 [00:24<00:57,  5.86it/s]"
     ]
    },
    {
     "name": "stdout",
     "output_type": "stream",
     "text": [
      "🟨 Estrazione data per: Mango\n"
     ]
    },
    {
     "name": "stderr",
     "output_type": "stream",
     "text": [
      "Estrazione ottimizzata:  29%|██▉       | 136/470 [00:24<00:56,  5.89it/s]"
     ]
    },
    {
     "name": "stdout",
     "output_type": "stream",
     "text": [
      "🟨 Estrazione data per: Scialpi\n",
      "🟨 Estrazione data per: Tony Esposito\n"
     ]
    },
    {
     "name": "stderr",
     "output_type": "stream",
     "text": [
      "Estrazione ottimizzata:  29%|██▉       | 137/470 [00:24<00:54,  6.12it/s]"
     ]
    },
    {
     "name": "stdout",
     "output_type": "stream",
     "text": [
      "🟨 Estrazione data per: Sergio Caputo\n",
      "🟨 Estrazione data per: Massimo Ranieri\n",
      "🟨 Estrazione data per: Raf\n"
     ]
    },
    {
     "name": "stderr",
     "output_type": "stream",
     "text": [
      "Estrazione ottimizzata:  30%|███       | 142/470 [00:25<00:41,  7.90it/s]"
     ]
    },
    {
     "name": "stdout",
     "output_type": "stream",
     "text": [
      "🟨 Estrazione data per: Francesco Nuti\n",
      "🟨 Estrazione data per: Franco Califano\n",
      "🟨 Estrazione data per: Tullio De Piscopo\n"
     ]
    },
    {
     "name": "stderr",
     "output_type": "stream",
     "text": [
      "Estrazione ottimizzata:  31%|███       | 144/470 [00:26<01:04,  5.09it/s]"
     ]
    },
    {
     "name": "stdout",
     "output_type": "stream",
     "text": [
      "🟨 Estrazione data per: Ron\n",
      "🟨 Estrazione data per: Alan Sorrenti\n",
      "🟨 Estrazione data per: Jovanotti\n"
     ]
    },
    {
     "name": "stderr",
     "output_type": "stream",
     "text": [
      "Estrazione ottimizzata:  32%|███▏      | 149/470 [00:26<00:34,  9.22it/s]"
     ]
    },
    {
     "name": "stdout",
     "output_type": "stream",
     "text": [
      "❌ Nessuna pagina trovata per: Garbo\n",
      "🟨 Estrazione data per: Francesco Salvi\n",
      "⚠️ Nessuna data trovata per: Mango\n",
      "🟨 Estrazione data per: Gino Paoli\n",
      "🟨 Estrazione data per: Renato Carosone\n",
      "🟨 Estrazione data per: Enzo Jannacci\n"
     ]
    },
    {
     "name": "stderr",
     "output_type": "stream",
     "text": [
      "Estrazione ottimizzata:  32%|███▏      | 151/470 [00:26<00:41,  7.72it/s]"
     ]
    },
    {
     "name": "stdout",
     "output_type": "stream",
     "text": [
      "🟨 Estrazione data per: Gigi Sabani\n",
      "🟨 Estrazione data per: Riccardo Cocciante\n",
      "🟨 Estrazione data per: Renato Zero\n"
     ]
    },
    {
     "name": "stderr",
     "output_type": "stream",
     "text": [
      "Estrazione ottimizzata:  33%|███▎      | 153/470 [00:27<00:59,  5.29it/s]"
     ]
    },
    {
     "name": "stdout",
     "output_type": "stream",
     "text": [
      "🟨 Estrazione data per: Marco Masini\n",
      "🟨 Estrazione data per: Umberto Tozzi\n"
     ]
    },
    {
     "name": "stderr",
     "output_type": "stream",
     "text": [
      "Estrazione ottimizzata:  33%|███▎      | 155/470 [00:27<00:58,  5.35it/s]"
     ]
    },
    {
     "name": "stdout",
     "output_type": "stream",
     "text": [
      "🟨 Estrazione data per: Paolo Vallesi\n",
      "🟨 Estrazione data per: Pierangelo Bertoli\n",
      "🟨 Estrazione data per: Paolo Mengoli\n",
      "🟨 Estrazione data per: Enzo Ghinazzi\n"
     ]
    },
    {
     "name": "stderr",
     "output_type": "stream",
     "text": [
      "Estrazione ottimizzata:  34%|███▍      | 159/470 [00:28<00:42,  7.31it/s]"
     ]
    },
    {
     "name": "stdout",
     "output_type": "stream",
     "text": [
      "🟨 Estrazione data per: Cristiano De André\n",
      "🟨 Estrazione data per: Biagio Antonacci\n"
     ]
    },
    {
     "name": "stderr",
     "output_type": "stream",
     "text": [
      "Estrazione ottimizzata:  34%|███▍      | 161/470 [00:28<00:40,  7.68it/s]"
     ]
    },
    {
     "name": "stdout",
     "output_type": "stream",
     "text": [
      "🟨 Estrazione data per: Andrea Mingardi\n"
     ]
    },
    {
     "name": "stderr",
     "output_type": "stream",
     "text": [
      "Estrazione ottimizzata:  34%|███▍      | 162/470 [00:28<00:44,  6.89it/s]"
     ]
    },
    {
     "name": "stdout",
     "output_type": "stream",
     "text": [
      "🟨 Estrazione data per: Roberto Murolo\n"
     ]
    },
    {
     "name": "stderr",
     "output_type": "stream",
     "text": [
      "Estrazione ottimizzata:  35%|███▍      | 164/470 [00:29<00:52,  5.83it/s]"
     ]
    },
    {
     "name": "stdout",
     "output_type": "stream",
     "text": [
      "🟨 Estrazione data per: Alessandro Canino\n",
      "🟨 Estrazione data per: Aleandro Baldi\n"
     ]
    },
    {
     "name": "stderr",
     "output_type": "stream",
     "text": [
      "Estrazione ottimizzata:  35%|███▌      | 165/470 [00:29<00:56,  5.37it/s]"
     ]
    },
    {
     "name": "stdout",
     "output_type": "stream",
     "text": [
      "🟨 Estrazione data per: Giorgio Faletti🟨 Estrazione data per: Alessandro Bono\n",
      "\n",
      "🟨 Estrazione data per: Carlo Marrale\n"
     ]
    },
    {
     "name": "stderr",
     "output_type": "stream",
     "text": [
      "Estrazione ottimizzata:  36%|███▌      | 168/470 [00:29<00:43,  6.99it/s]"
     ]
    },
    {
     "name": "stdout",
     "output_type": "stream",
     "text": [
      "🟨 Estrazione data per: Andrea Bocelli\n"
     ]
    },
    {
     "name": "stderr",
     "output_type": "stream",
     "text": [
      "Estrazione ottimizzata:  36%|███▌      | 169/470 [00:29<00:47,  6.30it/s]"
     ]
    },
    {
     "name": "stdout",
     "output_type": "stream",
     "text": [
      "🟨 Estrazione data per: Fiorello\n",
      "🟨 Estrazione data per: Danilo Amerio\n",
      "⚠️ Nessuna data trovata per: Andrea Mingardi\n",
      "🟨 Estrazione data per: Giò Di Tonno\n"
     ]
    },
    {
     "name": "stderr",
     "output_type": "stream",
     "text": [
      "Estrazione ottimizzata:  37%|███▋      | 172/470 [00:30<00:37,  8.02it/s]"
     ]
    },
    {
     "name": "stdout",
     "output_type": "stream",
     "text": [
      "🟨 Estrazione data per: Massimo Di Cataldo\n"
     ]
    },
    {
     "name": "stderr",
     "output_type": "stream",
     "text": [
      "Estrazione ottimizzata:  37%|███▋      | 173/470 [00:30<00:51,  5.82it/s]"
     ]
    },
    {
     "name": "stdout",
     "output_type": "stream",
     "text": [
      "🟨 Estrazione data per: Federico Salvatore\n",
      "🟨 Estrazione data per: Gigi Finizio\n"
     ]
    },
    {
     "name": "stderr",
     "output_type": "stream",
     "text": [
      "Estrazione ottimizzata:  38%|███▊      | 177/470 [00:30<00:36,  8.06it/s]"
     ]
    },
    {
     "name": "stdout",
     "output_type": "stream",
     "text": [
      "🟨 Estrazione data per: Fedele Boccassini\n",
      "🟨 Estrazione data per: Nek\n",
      "🟨 Estrazione data per: Francesco Baccini\n"
     ]
    },
    {
     "name": "stderr",
     "output_type": "stream",
     "text": [
      "Estrazione ottimizzata:  38%|███▊      | 179/470 [00:31<00:47,  6.10it/s]"
     ]
    },
    {
     "name": "stdout",
     "output_type": "stream",
     "text": [
      "🟨 Estrazione data per: Alessandro Mara\n",
      "🟨 Estrazione data per: Alessandro Errico\n",
      "🟨 Estrazione data per: Leandro Barsotti\n"
     ]
    },
    {
     "name": "stderr",
     "output_type": "stream",
     "text": [
      "Estrazione ottimizzata:  39%|███▊      | 182/470 [00:31<00:34,  8.38it/s]"
     ]
    },
    {
     "name": "stdout",
     "output_type": "stream",
     "text": [
      "🟨 Estrazione data per: Maurizio Lauzi\n",
      "🟨 Estrazione data per: Luca Sepe\n"
     ]
    },
    {
     "name": "stderr",
     "output_type": "stream",
     "text": [
      "Estrazione ottimizzata:  39%|███▉      | 184/470 [00:31<00:44,  6.43it/s]"
     ]
    },
    {
     "name": "stdout",
     "output_type": "stream",
     "text": [
      "🟨 Estrazione data per: Niccolò Fabi\n",
      "🟨 Estrazione data per: Alex Baroni\n"
     ]
    },
    {
     "name": "stderr",
     "output_type": "stream",
     "text": [
      "Estrazione ottimizzata:  40%|███▉      | 186/470 [00:32<00:44,  6.35it/s]"
     ]
    },
    {
     "name": "stdout",
     "output_type": "stream",
     "text": [
      "🟨 Estrazione data per: Daniele Silvestri\n",
      "🟨 Estrazione data per: Gatto Panceri\n"
     ]
    },
    {
     "name": "stderr",
     "output_type": "stream",
     "text": [
      "Estrazione ottimizzata:  40%|████      | 188/470 [00:32<00:39,  7.12it/s]"
     ]
    },
    {
     "name": "stdout",
     "output_type": "stream",
     "text": [
      "🟨 Estrazione data per: Gianluca Grignani\n",
      "🟨 Estrazione data per: Max Gazzè\n"
     ]
    },
    {
     "name": "stderr",
     "output_type": "stream",
     "text": [
      "Estrazione ottimizzata:  41%|████      | 192/470 [00:32<00:29,  9.54it/s]"
     ]
    },
    {
     "name": "stdout",
     "output_type": "stream",
     "text": [
      "🟨 Estrazione data per: Samuele Bersani\n",
      "🟨 Estrazione data per: Gigi D'Alessio\n",
      "🟨 Estrazione data per: Alex Britti\n",
      "🟨 Estrazione data per: Fabio Concato\n"
     ]
    },
    {
     "name": "stderr",
     "output_type": "stream",
     "text": [
      "Estrazione ottimizzata:  41%|████▏     | 194/470 [00:33<00:46,  5.96it/s]"
     ]
    },
    {
     "name": "stdout",
     "output_type": "stream",
     "text": [
      "🟨 Estrazione data per: Francesco Renga\n",
      "🟨 Estrazione data per: Alessandro Safina\n"
     ]
    },
    {
     "name": "stderr",
     "output_type": "stream",
     "text": [
      "Estrazione ottimizzata:  42%|████▏     | 197/470 [00:33<00:38,  7.06it/s]"
     ]
    },
    {
     "name": "stdout",
     "output_type": "stream",
     "text": [
      "🟨 Estrazione data per: Sergio Cammariere\n",
      "🟨 Estrazione data per: Mario Rosini\n",
      "🟨 Estrazione data per: Paolo Meneguzzi\n"
     ]
    },
    {
     "name": "stderr",
     "output_type": "stream",
     "text": [
      "Estrazione ottimizzata:  42%|████▏     | 198/470 [00:33<00:40,  6.76it/s]"
     ]
    },
    {
     "name": "stdout",
     "output_type": "stream",
     "text": [
      "🟨 Estrazione data per: Bungaro\n"
     ]
    },
    {
     "name": "stderr",
     "output_type": "stream",
     "text": [
      "Estrazione ottimizzata:  42%|████▏     | 199/470 [00:34<00:47,  5.76it/s]"
     ]
    },
    {
     "name": "stdout",
     "output_type": "stream",
     "text": [
      "🟨 Estrazione data per: Stefano Picchi\n",
      "⚠️ Nessuna data trovata per: Samuele Bersani\n",
      "🟨 Estrazione data per: Neffa\n",
      "🟨 Estrazione data per: Mario Venuti\n",
      "🟨 Estrazione data per: DJ Francesco\n"
     ]
    },
    {
     "name": "stderr",
     "output_type": "stream",
     "text": [
      "Estrazione ottimizzata:  43%|████▎     | 203/470 [00:34<00:40,  6.53it/s]"
     ]
    },
    {
     "name": "stdout",
     "output_type": "stream",
     "text": [
      "🟨 Estrazione data per: Simone Tomassini\n",
      "🟨 Estrazione data per: Omar Pedrini\n"
     ]
    },
    {
     "name": "stderr",
     "output_type": "stream",
     "text": [
      "Estrazione ottimizzata:  44%|████▎     | 205/470 [00:35<00:40,  6.47it/s]"
     ]
    },
    {
     "name": "stdout",
     "output_type": "stream",
     "text": [
      "🟨 Estrazione data per: Daniele Groff\n",
      "🟨 Estrazione data per: Adriano Pappalardo\n"
     ]
    },
    {
     "name": "stderr",
     "output_type": "stream",
     "text": [
      "Estrazione ottimizzata:  44%|████▍     | 208/470 [00:35<00:36,  7.25it/s]"
     ]
    },
    {
     "name": "stdout",
     "output_type": "stream",
     "text": [
      "🟨 Estrazione data per: Andrè\n",
      "🟨 Estrazione data per: Christian Lo Zito\n"
     ]
    },
    {
     "name": "stderr",
     "output_type": "stream",
     "text": [
      "Estrazione ottimizzata:  44%|████▍     | 209/470 [00:35<00:45,  5.75it/s]"
     ]
    },
    {
     "name": "stdout",
     "output_type": "stream",
     "text": [
      "🟨 Estrazione data per: Piotta\n",
      "🟨 Estrazione data per: Christian\n",
      "🟨 Estrazione data per: Nicola Arigliano\n"
     ]
    },
    {
     "name": "stderr",
     "output_type": "stream",
     "text": [
      "Estrazione ottimizzata:  45%|████▌     | 213/470 [00:36<00:42,  6.07it/s]"
     ]
    },
    {
     "name": "stdout",
     "output_type": "stream",
     "text": [
      "🟨 Estrazione data per: Max De Angelis\n",
      "🟨 Estrazione data per: Enrico Boccadoro\n"
     ]
    },
    {
     "name": "stderr",
     "output_type": "stream",
     "text": [
      "Estrazione ottimizzata:  46%|████▌     | 215/470 [00:36<00:32,  7.73it/s]"
     ]
    },
    {
     "name": "stdout",
     "output_type": "stream",
     "text": [
      "🟨 Estrazione data per: Povia\n",
      "🟨 Estrazione data per: Riccardo Maffoni\n"
     ]
    },
    {
     "name": "stderr",
     "output_type": "stream",
     "text": [
      "Estrazione ottimizzata:  46%|████▌     | 216/470 [00:36<00:32,  7.76it/s]"
     ]
    },
    {
     "name": "stdout",
     "output_type": "stream",
     "text": [
      "🟨 Estrazione data per: Simone Cristicchi\n"
     ]
    },
    {
     "name": "stderr",
     "output_type": "stream",
     "text": [
      "Estrazione ottimizzata:  46%|████▌     | 217/470 [00:37<01:07,  3.77it/s]"
     ]
    },
    {
     "name": "stdout",
     "output_type": "stream",
     "text": [
      "🟨 Estrazione data per: I Ragazzi di Scampia con Gigi Finizio\n"
     ]
    },
    {
     "name": "stderr",
     "output_type": "stream",
     "text": [
      "Estrazione ottimizzata:  47%|████▋     | 219/470 [00:37<01:00,  4.14it/s]"
     ]
    },
    {
     "name": "stdout",
     "output_type": "stream",
     "text": [
      "🟨 Estrazione data per: Bassano\n",
      "🟨 Estrazione data per: Luca Dirisio\n"
     ]
    },
    {
     "name": "stderr",
     "output_type": "stream",
     "text": [
      "Estrazione ottimizzata:  47%|████▋     | 223/470 [00:38<00:32,  7.59it/s]"
     ]
    },
    {
     "name": "stdout",
     "output_type": "stream",
     "text": [
      "🟨 Estrazione data per: Ivan Segreto\n",
      "⚠️ Nomi multipli rilevati, salto: Mario Venuti e Arancia Sonora\n",
      "🟨 Estrazione data per: Antonello\n",
      "🟨 Estrazione data per: Piero Mazzocchetti\n",
      "❌ Nessuna pagina trovata per: Christian Lo Zito\n",
      "🟨 Estrazione data per: Francesco con Roby Facchinetti\n"
     ]
    },
    {
     "name": "stderr",
     "output_type": "stream",
     "text": [
      "Estrazione ottimizzata:  49%|████▉     | 230/470 [00:39<00:34,  6.88it/s]"
     ]
    },
    {
     "name": "stdout",
     "output_type": "stream",
     "text": [
      "🟨 Estrazione data per: Paolo Rossi\n",
      "❌ Nessuna pagina trovata per: Andrè\n",
      "🟨 Estrazione data per: Johnny Dorelli\n",
      "❌ Nessuna pagina trovata per: Piotta\n",
      "🟨 Estrazione data per: Fabrizio Moro\n",
      "❌ Nessuna pagina trovata per: Christian\n",
      "🟨 Estrazione data per: Eugenio Bennato\n",
      "🟨 Estrazione data per: Frankie hi-nrg mc\n",
      "⚠️ Nessuna data trovata per: Antonello\n",
      "🟨 Estrazione data per: Marco Carta\n",
      "🟨 Estrazione data per: Sal Da Vinci\n"
     ]
    },
    {
     "name": "stderr",
     "output_type": "stream",
     "text": [
      "Estrazione ottimizzata:  49%|████▉     | 232/470 [00:40<00:48,  4.93it/s]"
     ]
    },
    {
     "name": "stdout",
     "output_type": "stream",
     "text": [
      "❌ Nessuna pagina trovata per: I Ragazzi di Scampia con Gigi Finizio\n",
      "🟨 Estrazione data per: Gemelli DiVersi\n"
     ]
    },
    {
     "name": "stderr",
     "output_type": "stream",
     "text": [
      "Estrazione ottimizzata:  50%|█████     | 236/470 [00:40<00:39,  5.87it/s]"
     ]
    },
    {
     "name": "stdout",
     "output_type": "stream",
     "text": [
      "🟨 Estrazione data per: Valerio Scanu\n",
      "🟨 Estrazione data per: Marco Mengoni\n",
      "🟨 Estrazione data per: Davide Van De Sfroos\n",
      "🟨 Estrazione data per: Max Pezzali\n"
     ]
    },
    {
     "name": "stderr",
     "output_type": "stream",
     "text": [
      "Estrazione ottimizzata:  51%|█████     | 240/470 [00:41<00:28,  7.97it/s]"
     ]
    },
    {
     "name": "stdout",
     "output_type": "stream",
     "text": [
      "❌ Nessuna pagina trovata per: Francesco con Roby Facchinetti\n",
      "🟨 Estrazione data per: Raphael Gualazzi\n",
      "🟨 Estrazione data per: Antoine\n",
      "❌ Nessuna pagina trovata per: Bassano\n",
      "🟨 Estrazione data per: Renzo Rubino\n",
      "🟨 Estrazione data per: Francesco Sarcina\n",
      "⚠️ Nessuna data trovata per: Gemelli DiVersi\n",
      "🟨 Estrazione data per: Giuliano Palma\n"
     ]
    },
    {
     "name": "stderr",
     "output_type": "stream",
     "text": [
      "Estrazione ottimizzata:  51%|█████▏    | 242/470 [00:42<00:54,  4.22it/s]"
     ]
    },
    {
     "name": "stdout",
     "output_type": "stream",
     "text": [
      "🟨 Estrazione data per: Riccardo Sinigallia\n",
      "🟨 Estrazione data per: Lorenzo Fragola\n",
      "🟨 Estrazione data per: Nesli\n"
     ]
    },
    {
     "name": "stderr",
     "output_type": "stream",
     "text": [
      "Estrazione ottimizzata:  53%|█████▎    | 247/470 [00:42<00:32,  6.93it/s]"
     ]
    },
    {
     "name": "stdout",
     "output_type": "stream",
     "text": [
      "🟨 Estrazione data per: Andrea Ori\n",
      "🟨 Estrazione data per: Clementino\n",
      "🟨 Estrazione data per: Rocco Hunt\n",
      "🟨 Estrazione data per: Alessio Bernabei\n"
     ]
    },
    {
     "name": "stderr",
     "output_type": "stream",
     "text": [
      "Estrazione ottimizzata:  53%|█████▎    | 249/470 [00:42<00:26,  8.31it/s]"
     ]
    },
    {
     "name": "stdout",
     "output_type": "stream",
     "text": [
      "❌ Nessuna pagina trovata per: Paolo Rossi\n",
      "🟨 Estrazione data per: Francesco Gabbani\n",
      "🟨 Estrazione data per: Ermal Meta\n"
     ]
    },
    {
     "name": "stderr",
     "output_type": "stream",
     "text": [
      "Estrazione ottimizzata:  53%|█████▎    | 251/470 [00:43<00:48,  4.52it/s]"
     ]
    },
    {
     "name": "stdout",
     "output_type": "stream",
     "text": [
      "🟨 Estrazione data per: Michele Bravi\n",
      "🟨 Estrazione data per: Sergio Sylvestre\n",
      "🟨 Estrazione data per: Anastasio\n"
     ]
    },
    {
     "name": "stderr",
     "output_type": "stream",
     "text": [
      "Estrazione ottimizzata:  54%|█████▍    | 256/470 [00:44<00:31,  6.73it/s]"
     ]
    },
    {
     "name": "stdout",
     "output_type": "stream",
     "text": [
      "🟨 Estrazione data per: Giovanni Caccamo\n",
      "🟨 Estrazione data per: Red Canzian\n",
      "🟨 Estrazione data per: Mario Biondi\n"
     ]
    },
    {
     "name": "stderr",
     "output_type": "stream",
     "text": [
      "Estrazione ottimizzata:  55%|█████▍    | 258/470 [00:44<00:37,  5.68it/s]"
     ]
    },
    {
     "name": "stdout",
     "output_type": "stream",
     "text": [
      "❌ Nessuna pagina trovata per: Antoine\n",
      "🟨 Estrazione data per: Mahmood\n",
      "🟨 Estrazione data per: Irama\n"
     ]
    },
    {
     "name": "stderr",
     "output_type": "stream",
     "text": [
      "Estrazione ottimizzata:  55%|█████▌    | 260/470 [00:45<00:43,  4.87it/s]"
     ]
    },
    {
     "name": "stdout",
     "output_type": "stream",
     "text": [
      "🟨 Estrazione data per: Achille Lauro\n",
      "❌ Nessuna pagina trovata per: Andrea Ori\n",
      "🟨 Estrazione data per: Enrico Nigiotti\n",
      "🟨 Estrazione data per: Ghemon\n"
     ]
    },
    {
     "name": "stderr",
     "output_type": "stream",
     "text": [
      "Estrazione ottimizzata:  56%|█████▌    | 263/470 [00:45<00:42,  4.82it/s]"
     ]
    },
    {
     "name": "stdout",
     "output_type": "stream",
     "text": [
      "🟨 Estrazione data per: Alessandro\n",
      "❌ Nessuna pagina trovata per: Clementino\n",
      "🟨 Estrazione data per: Einar\n",
      "🟨 Estrazione data per: Diodato\n"
     ]
    },
    {
     "name": "stderr",
     "output_type": "stream",
     "text": [
      "Estrazione ottimizzata:  56%|█████▋    | 265/470 [00:46<00:40,  5.06it/s]"
     ]
    },
    {
     "name": "stdout",
     "output_type": "stream",
     "text": [
      "🟨 Estrazione data per: Piero Pelù\n"
     ]
    },
    {
     "name": "stderr",
     "output_type": "stream",
     "text": [
      "Estrazione ottimizzata:  57%|█████▋    | 266/470 [00:46<00:49,  4.12it/s]"
     ]
    },
    {
     "name": "stdout",
     "output_type": "stream",
     "text": [
      "⚠️ Nessuna data trovata per: Ghemon\n",
      "🟨 Estrazione data per: Alberto Beltrami\n",
      "🟨 Estrazione data per: Alberto Urso\n"
     ]
    },
    {
     "name": "stderr",
     "output_type": "stream",
     "text": [
      "Estrazione ottimizzata:  57%|█████▋    | 268/470 [00:46<00:43,  4.63it/s]"
     ]
    },
    {
     "name": "stdout",
     "output_type": "stream",
     "text": [
      "❌ Nessuna pagina trovata per: Anastasio\n",
      "🟨 Estrazione data per: Paolo Jannacci\n"
     ]
    },
    {
     "name": "stderr",
     "output_type": "stream",
     "text": [
      "Estrazione ottimizzata:  57%|█████▋    | 269/470 [00:47<00:53,  3.74it/s]"
     ]
    },
    {
     "name": "stdout",
     "output_type": "stream",
     "text": [
      "❌ Nessuna pagina trovata per: Giovanni Caccamo\n",
      "🟨 Estrazione data per: Junior Cally\n",
      "❌ Nessuna pagina trovata per: Mario Biondi\n",
      "🟨 Estrazione data per: Riki\n"
     ]
    },
    {
     "name": "stderr",
     "output_type": "stream",
     "text": [
      "Estrazione ottimizzata:  58%|█████▊    | 271/470 [00:47<00:45,  4.41it/s]"
     ]
    },
    {
     "name": "stdout",
     "output_type": "stream",
     "text": [
      "🟨 Estrazione data per: Willie Peyote\n"
     ]
    },
    {
     "name": "stderr",
     "output_type": "stream",
     "text": [
      "Estrazione ottimizzata:  58%|█████▊    | 272/470 [00:48<00:49,  4.03it/s]"
     ]
    },
    {
     "name": "stdout",
     "output_type": "stream",
     "text": [
      "🟨 Estrazione data per: Fulminacci\n"
     ]
    },
    {
     "name": "stderr",
     "output_type": "stream",
     "text": [
      "Estrazione ottimizzata:  58%|█████▊    | 274/470 [00:48<00:48,  4.06it/s]"
     ]
    },
    {
     "name": "stdout",
     "output_type": "stream",
     "text": [
      "🟨 Estrazione data per: Fasma\n",
      "❌ Nessuna pagina trovata per: Achille Lauro\n",
      "🟨 Estrazione data per: Gio Evan\n"
     ]
    },
    {
     "name": "stderr",
     "output_type": "stream",
     "text": [
      "Estrazione ottimizzata:  59%|█████▊    | 275/470 [00:48<00:48,  4.01it/s]"
     ]
    },
    {
     "name": "stdout",
     "output_type": "stream",
     "text": [
      "🟨 Estrazione data per: Bugo\n"
     ]
    },
    {
     "name": "stderr",
     "output_type": "stream",
     "text": [
      "Estrazione ottimizzata:  59%|█████▊    | 276/470 [00:49<00:48,  3.97it/s]"
     ]
    },
    {
     "name": "stdout",
     "output_type": "stream",
     "text": [
      "❌ Nessuna pagina trovata per: Einar\n",
      "🟨 Estrazione data per: Aiello\n",
      "🟨 Estrazione data per: Dargen D'Amico\n",
      "❌ Nessuna pagina trovata per: Alessandro\n",
      "🟨 Estrazione data per: Matteo Romano\n"
     ]
    },
    {
     "name": "stderr",
     "output_type": "stream",
     "text": [
      "Estrazione ottimizzata:  60%|█████▉    | 280/470 [00:49<00:30,  6.28it/s]"
     ]
    },
    {
     "name": "stdout",
     "output_type": "stream",
     "text": [
      "❌ Nessuna pagina trovata per: Diodato\n",
      "🟨 Estrazione data per: AKA 7even\n",
      "❌ Nessuna pagina trovata per: Alberto Beltrami\n",
      "🟨 Estrazione data per: Rkomi\n",
      "🟨 Estrazione data per: Giovanni Truppi\n"
     ]
    },
    {
     "name": "stderr",
     "output_type": "stream",
     "text": [
      "Estrazione ottimizzata:  60%|██████    | 282/470 [00:49<00:26,  7.04it/s]"
     ]
    },
    {
     "name": "stdout",
     "output_type": "stream",
     "text": [
      "🟨 Estrazione data per: Yuman\n"
     ]
    },
    {
     "name": "stderr",
     "output_type": "stream",
     "text": [
      "Estrazione ottimizzata:  60%|██████    | 283/470 [00:49<00:32,  5.82it/s]"
     ]
    },
    {
     "name": "stdout",
     "output_type": "stream",
     "text": [
      "🟨 Estrazione data per: Tananai\n"
     ]
    },
    {
     "name": "stderr",
     "output_type": "stream",
     "text": [
      "Estrazione ottimizzata:  61%|██████    | 285/470 [00:50<00:38,  4.75it/s]"
     ]
    },
    {
     "name": "stdout",
     "output_type": "stream",
     "text": [
      "🟨 Estrazione data per: Lazza\n",
      "🟨 Estrazione data per: Mr. Rain\n",
      "🟨 Estrazione data per: Rosa Chemical\n"
     ]
    },
    {
     "name": "stderr",
     "output_type": "stream",
     "text": [
      "Estrazione ottimizzata:  61%|██████▏   | 289/470 [00:50<00:26,  6.93it/s]"
     ]
    },
    {
     "name": "stdout",
     "output_type": "stream",
     "text": [
      "🟨 Estrazione data per: LDA\n",
      "❌ Nessuna pagina trovata per: Riki\n",
      "🟨 Estrazione data per: Leo Gassmann\n",
      "🟨 Estrazione data per: Gianmaria\n"
     ]
    },
    {
     "name": "stderr",
     "output_type": "stream",
     "text": [
      "Estrazione ottimizzata:  62%|██████▏   | 291/470 [00:51<00:20,  8.92it/s]"
     ]
    },
    {
     "name": "stdout",
     "output_type": "stream",
     "text": [
      "🟨 Estrazione data per: Olly\n",
      "🟨 Estrazione data per: Sethu\n",
      "🟨 Estrazione data per: Nilla Pizzi\n"
     ]
    },
    {
     "name": "stderr",
     "output_type": "stream",
     "text": [
      "Estrazione ottimizzata:  62%|██████▏   | 293/470 [00:51<00:33,  5.22it/s]"
     ]
    },
    {
     "name": "stdout",
     "output_type": "stream",
     "text": [
      "⚠️ Nomi multipli rilevati, salto: Achille Togliani - Katyna Ranieri\n",
      "🟨 Estrazione data per: Veronica Ventavoli\n"
     ]
    },
    {
     "name": "stderr",
     "output_type": "stream",
     "text": [
      "Estrazione ottimizzata:  63%|██████▎   | 295/470 [00:51<00:28,  6.11it/s]"
     ]
    },
    {
     "name": "stdout",
     "output_type": "stream",
     "text": [
      "🟨 Estrazione data per: Vanna Leali\n",
      "🟨 Estrazione data per: Tosca\n"
     ]
    },
    {
     "name": "stderr",
     "output_type": "stream",
     "text": [
      "Estrazione ottimizzata:  63%|██████▎   | 297/470 [00:52<00:29,  5.92it/s]"
     ]
    },
    {
     "name": "stdout",
     "output_type": "stream",
     "text": [
      "🟨 Estrazione data per: Franca Raimondi\n",
      "⚠️ Nessuna data trovata per: Gianmaria\n",
      "🟨 Estrazione data per: Tonina Torrielli\n"
     ]
    },
    {
     "name": "stderr",
     "output_type": "stream",
     "text": [
      "Estrazione ottimizzata:  64%|██████▎   | 299/470 [00:52<00:26,  6.50it/s]"
     ]
    },
    {
     "name": "stdout",
     "output_type": "stream",
     "text": [
      "🟨 Estrazione data per: Luciana Gonzales\n",
      "❌ Nessuna pagina trovata per: Aiello\n",
      "🟨 Estrazione data per: Clara Vincenzi\n"
     ]
    },
    {
     "name": "stderr",
     "output_type": "stream",
     "text": [
      "Estrazione ottimizzata:  64%|██████▍   | 301/470 [00:53<00:31,  5.44it/s]"
     ]
    },
    {
     "name": "stdout",
     "output_type": "stream",
     "text": [
      "🟨 Estrazione data per: Stefania\n"
     ]
    },
    {
     "name": "stderr",
     "output_type": "stream",
     "text": [
      "Estrazione ottimizzata:  64%|██████▍   | 303/470 [00:53<00:41,  4.04it/s]"
     ]
    },
    {
     "name": "stdout",
     "output_type": "stream",
     "text": [
      "🟨 Estrazione data per: Spagna\n",
      "🟨 Estrazione data per: Sibilla\n",
      "🟨 Estrazione data per: Sabrina Guida\n"
     ]
    },
    {
     "name": "stderr",
     "output_type": "stream",
     "text": [
      "Estrazione ottimizzata:  65%|██████▍   | 305/470 [00:54<00:32,  5.15it/s]"
     ]
    },
    {
     "name": "stdout",
     "output_type": "stream",
     "text": [
      "🟨 Estrazione data per: Roberta\n"
     ]
    },
    {
     "name": "stderr",
     "output_type": "stream",
     "text": [
      "Estrazione ottimizzata:  65%|██████▌   | 307/470 [00:54<00:33,  4.91it/s]"
     ]
    },
    {
     "name": "stdout",
     "output_type": "stream",
     "text": [
      "⚠️ Nessuna data trovata per: Stefania\n",
      "🟨 Estrazione data per: Pinot\n",
      "❌ Nessuna pagina trovata per: Veronica Ventavoli\n",
      "🟨 Estrazione data per: Patrizia Danzi\n"
     ]
    },
    {
     "name": "stderr",
     "output_type": "stream",
     "text": [
      "Estrazione ottimizzata:  66%|██████▌   | 309/470 [00:54<00:22,  7.00it/s]"
     ]
    },
    {
     "name": "stdout",
     "output_type": "stream",
     "text": [
      "❌ Nessuna pagina trovata per: Olly\n",
      "🟨 Estrazione data per: Nathalie\n",
      "❌ Nessuna pagina trovata per: LDA\n",
      "🟨 Estrazione data per: Monia Russo\n",
      "❌ Nessuna pagina trovata per: Vanna Leali\n",
      "🟨 Estrazione data per: Mela Lo Cicero\n"
     ]
    },
    {
     "name": "stderr",
     "output_type": "stream",
     "text": [
      "Estrazione ottimizzata:  66%|██████▌   | 311/470 [00:55<00:37,  4.21it/s]"
     ]
    },
    {
     "name": "stdout",
     "output_type": "stream",
     "text": [
      "⚠️ Nessuna data trovata per: Sibilla⚠️ Nessuna data trovata per: Spagna\n",
      "🟨 Estrazione data per: Marinella\n",
      "\n",
      "🟨 Estrazione data per: Marcella\n",
      "❌ Nessuna pagina trovata per: Tosca\n",
      "🟨 Estrazione data per: Mara\n"
     ]
    },
    {
     "name": "stderr",
     "output_type": "stream",
     "text": [
      "Estrazione ottimizzata:  67%|██████▋   | 314/470 [00:56<00:35,  4.34it/s]"
     ]
    },
    {
     "name": "stdout",
     "output_type": "stream",
     "text": [
      "🟨 Estrazione data per: Madame\n"
     ]
    },
    {
     "name": "stderr",
     "output_type": "stream",
     "text": [
      "Estrazione ottimizzata:  67%|██████▋   | 316/470 [00:56<00:41,  3.75it/s]"
     ]
    },
    {
     "name": "stdout",
     "output_type": "stream",
     "text": [
      "❌ Nessuna pagina trovata per: Sabrina Guida\n",
      "🟨 Estrazione data per: Lolita\n",
      "⚠️ Nessuna data trovata per: Marcella\n",
      "🟨 Estrazione data per: Levante\n"
     ]
    },
    {
     "name": "stderr",
     "output_type": "stream",
     "text": [
      "Estrazione ottimizzata:  68%|██████▊   | 319/470 [00:57<00:32,  4.63it/s]"
     ]
    },
    {
     "name": "stdout",
     "output_type": "stream",
     "text": [
      "❌ Nessuna pagina trovata per: Monia Russo\n",
      "🟨 Estrazione data per: Laura\n",
      "❌ Nessuna pagina trovata per: Patrizia Danzi\n",
      "🟨 Estrazione data per: Nada\n",
      "❌ Nessuna pagina trovata per: Roberta\n",
      "🟨 Estrazione data per: Marcella Bella\n"
     ]
    },
    {
     "name": "stderr",
     "output_type": "stream",
     "text": [
      "Estrazione ottimizzata:  68%|██████▊   | 320/470 [00:57<00:32,  4.63it/s]"
     ]
    },
    {
     "name": "stdout",
     "output_type": "stream",
     "text": [
      "❌ Nessuna pagina trovata per: Mela Lo Cicero\n",
      "🟨 Estrazione data per: Gigliola Cinquetti\n",
      "❌ Nessuna pagina trovata per: Pinot\n",
      "🟨 Estrazione data per: Milva\n"
     ]
    },
    {
     "name": "stderr",
     "output_type": "stream",
     "text": [
      "Estrazione ottimizzata:  69%|██████▉   | 324/470 [00:59<00:39,  3.73it/s]"
     ]
    },
    {
     "name": "stdout",
     "output_type": "stream",
     "text": [
      "🟨 Estrazione data per: Lara Saint Paul\n",
      "❌ Nessuna pagina trovata per: Mara\n",
      "🟨 Estrazione data per: Rita Pavone\n",
      "❌ Nessuna pagina trovata per: Marinella\n",
      "🟨 Estrazione data per: Anna Identici\n"
     ]
    },
    {
     "name": "stderr",
     "output_type": "stream",
     "text": [
      "Estrazione ottimizzata:  69%|██████▉   | 326/470 [00:59<00:30,  4.75it/s]"
     ]
    },
    {
     "name": "stdout",
     "output_type": "stream",
     "text": [
      "🟨 Estrazione data per: Carla Bissi\n",
      "🟨 Estrazione data per: Marisa Sacchetto\n",
      "❌ Nessuna pagina trovata per: Madame\n",
      "🟨 Estrazione data per: Delia\n"
     ]
    },
    {
     "name": "stderr",
     "output_type": "stream",
     "text": [
      "Estrazione ottimizzata:  70%|███████   | 329/470 [01:00<00:39,  3.54it/s]"
     ]
    },
    {
     "name": "stdout",
     "output_type": "stream",
     "text": [
      "❌ Nessuna pagina trovata per: Levante\n",
      "🟨 Estrazione data per: Julie\n",
      "❌ Nessuna pagina trovata per: Lolita\n",
      "🟨 Estrazione data per: Gilda Giuliani\n"
     ]
    },
    {
     "name": "stderr",
     "output_type": "stream",
     "text": [
      "Estrazione ottimizzata:  70%|███████   | 331/470 [01:00<00:29,  4.76it/s]"
     ]
    },
    {
     "name": "stdout",
     "output_type": "stream",
     "text": [
      "🟨 Estrazione data per: Carmen Amato\n",
      "🟨 Estrazione data per: Iva Zanicchi\n",
      "🟨 Estrazione data per: Orietta Berti\n"
     ]
    },
    {
     "name": "stderr",
     "output_type": "stream",
     "text": [
      "Estrazione ottimizzata:  71%|███████   | 333/470 [01:00<00:22,  5.99it/s]"
     ]
    },
    {
     "name": "stdout",
     "output_type": "stream",
     "text": [
      "🟨 Estrazione data per: Anna Melato\n"
     ]
    },
    {
     "name": "stderr",
     "output_type": "stream",
     "text": [
      "Estrazione ottimizzata:  71%|███████▏  | 335/470 [01:01<00:22,  6.08it/s]"
     ]
    },
    {
     "name": "stdout",
     "output_type": "stream",
     "text": [
      "❌ Nessuna pagina trovata per: Laura\n",
      "🟨 Estrazione data per: Emanuela Cortesi\n",
      "❌ Nessuna pagina trovata per: Nada\n",
      "🟨 Estrazione data per: Valentina Greco\n"
     ]
    },
    {
     "name": "stderr",
     "output_type": "stream",
     "text": [
      "Estrazione ottimizzata:  71%|███████▏  | 336/470 [01:01<00:21,  6.11it/s]"
     ]
    },
    {
     "name": "stdout",
     "output_type": "stream",
     "text": [
      "🟨 Estrazione data per: Rosanna Fratello\n"
     ]
    },
    {
     "name": "stderr",
     "output_type": "stream",
     "text": [
      "Estrazione ottimizzata:  72%|███████▏  | 338/470 [01:02<00:32,  4.04it/s]"
     ]
    },
    {
     "name": "stdout",
     "output_type": "stream",
     "text": [
      "🟨 Estrazione data per: Donatella Rettore\n",
      "🟨 Estrazione data per: Paola Musiani\n"
     ]
    },
    {
     "name": "stderr",
     "output_type": "stream",
     "text": [
      "Estrazione ottimizzata:  72%|███████▏  | 340/470 [01:02<00:22,  5.86it/s]"
     ]
    },
    {
     "name": "stdout",
     "output_type": "stream",
     "text": [
      "🟨 Estrazione data per: Antonella Bottazzi\n",
      "⚠️ Nessuna data trovata per: Orietta Berti\n",
      "🟨 Estrazione data per: Rossella\n",
      "🟨 Estrazione data per: Sonia Gigliola Conti\n"
     ]
    },
    {
     "name": "stderr",
     "output_type": "stream",
     "text": [
      "Estrazione ottimizzata:  73%|███████▎  | 342/470 [01:02<00:19,  6.71it/s]"
     ]
    },
    {
     "name": "stdout",
     "output_type": "stream",
     "text": [
      "🟨 Estrazione data per: Angela Luce\n",
      "🟨 Estrazione data per: Emy Cesaroni\n"
     ]
    },
    {
     "name": "stderr",
     "output_type": "stream",
     "text": [
      "Estrazione ottimizzata:  73%|███████▎  | 344/470 [01:02<00:17,  7.33it/s]"
     ]
    },
    {
     "name": "stdout",
     "output_type": "stream",
     "text": [
      "🟨 Estrazione data per: Helena Hellwig\n"
     ]
    },
    {
     "name": "stderr",
     "output_type": "stream",
     "text": [
      "Estrazione ottimizzata:  73%|███████▎  | 345/470 [01:03<00:23,  5.32it/s]"
     ]
    },
    {
     "name": "stdout",
     "output_type": "stream",
     "text": [
      "❌ Nessuna pagina trovata per: Delia\n",
      "🟨 Estrazione data per: Eva 2000\n"
     ]
    },
    {
     "name": "stderr",
     "output_type": "stream",
     "text": [
      "Estrazione ottimizzata:  74%|███████▎  | 346/470 [01:03<00:28,  4.36it/s]"
     ]
    },
    {
     "name": "stdout",
     "output_type": "stream",
     "text": [
      "🟨 Estrazione data per: Annagloria\n",
      "🟨 Estrazione data per: Giovanna D'Angi\n"
     ]
    },
    {
     "name": "stderr",
     "output_type": "stream",
     "text": [
      "Estrazione ottimizzata:  74%|███████▍  | 348/470 [01:03<00:22,  5.47it/s]"
     ]
    },
    {
     "name": "stdout",
     "output_type": "stream",
     "text": [
      "🟨 Estrazione data per: Leila Selli\n",
      "🟨 Estrazione data per: Nannarella\n",
      "❌ Nessuna pagina trovata per: Julie\n",
      "🟨 Estrazione data per: Gloriana\n"
     ]
    },
    {
     "name": "stderr",
     "output_type": "stream",
     "text": [
      "Estrazione ottimizzata:  75%|███████▍  | 351/470 [01:03<00:15,  7.54it/s]"
     ]
    },
    {
     "name": "stdout",
     "output_type": "stream",
     "text": [
      "🟨 Estrazione data per: Romina Power\n",
      "🟨 Estrazione data per: Maggie Mae\n"
     ]
    },
    {
     "name": "stderr",
     "output_type": "stream",
     "text": [
      "Estrazione ottimizzata:  75%|███████▌  | 353/470 [01:05<00:29,  4.03it/s]"
     ]
    },
    {
     "name": "stdout",
     "output_type": "stream",
     "text": [
      "🟨 Estrazione data per: Gilda\n"
     ]
    },
    {
     "name": "stderr",
     "output_type": "stream",
     "text": [
      "Estrazione ottimizzata:  76%|███████▌  | 355/470 [01:05<00:25,  4.46it/s]"
     ]
    },
    {
     "name": "stdout",
     "output_type": "stream",
     "text": [
      "🟨 Estrazione data per: Anna Oxa\n",
      "🟨 Estrazione data per: Laura Luca\n"
     ]
    },
    {
     "name": "stderr",
     "output_type": "stream",
     "text": [
      "Estrazione ottimizzata:  76%|███████▌  | 358/470 [01:05<00:18,  6.00it/s]"
     ]
    },
    {
     "name": "stdout",
     "output_type": "stream",
     "text": [
      "🟨 Estrazione data per: Dora Moroni\n",
      "❌ Nessuna pagina trovata per: Helena Hellwig\n",
      "🟨 Estrazione data per: Lorella Pescerelli\n",
      "❌ Nessuna pagina trovata per: Rossella\n",
      "🟨 Estrazione data per: Nicoletta Bauce\n"
     ]
    },
    {
     "name": "stderr",
     "output_type": "stream",
     "text": [
      "Estrazione ottimizzata:  77%|███████▋  | 360/470 [01:06<00:16,  6.71it/s]"
     ]
    },
    {
     "name": "stdout",
     "output_type": "stream",
     "text": [
      "🟨 Estrazione data per: Gabriella Sanna\n",
      "❌ Nessuna pagina trovata per: Eva 2000\n",
      "🟨 Estrazione data per: Sally Oldfield\n"
     ]
    },
    {
     "name": "stderr",
     "output_type": "stream",
     "text": [
      "Estrazione ottimizzata:  77%|███████▋  | 362/470 [01:06<00:22,  4.70it/s]"
     ]
    },
    {
     "name": "stdout",
     "output_type": "stream",
     "text": [
      "❌ Nessuna pagina trovata per: Giovanna D'Angi\n",
      "🟨 Estrazione data per: Linda Lee\n",
      "🟨 Estrazione data per: Loretta Goggi\n"
     ]
    },
    {
     "name": "stderr",
     "output_type": "stream",
     "text": [
      "Estrazione ottimizzata:  77%|███████▋  | 364/470 [01:07<00:19,  5.33it/s]"
     ]
    },
    {
     "name": "stdout",
     "output_type": "stream",
     "text": [
      "🟨 Estrazione data per: Fiorella Mannoia\n",
      "🟨 Estrazione data per: Jò Chiarello\n",
      "🟨 Estrazione data per: Lene Lovich\n"
     ]
    },
    {
     "name": "stderr",
     "output_type": "stream",
     "text": [
      "Estrazione ottimizzata:  78%|███████▊  | 368/470 [01:07<00:12,  8.01it/s]"
     ]
    },
    {
     "name": "stdout",
     "output_type": "stream",
     "text": [
      "❌ Nessuna pagina trovata per: Gloriana\n",
      "🟨 Estrazione data per: Elisabetta Viviani\n",
      "🟨 Estrazione data per: Mia Martini\n",
      "🟨 Estrazione data per: Viola Valentino\n"
     ]
    },
    {
     "name": "stderr",
     "output_type": "stream",
     "text": [
      "Estrazione ottimizzata:  79%|███████▊  | 369/470 [01:07<00:22,  4.46it/s]"
     ]
    },
    {
     "name": "stdout",
     "output_type": "stream",
     "text": [
      "🟨 Estrazione data per: Marina Lai\n"
     ]
    },
    {
     "name": "stderr",
     "output_type": "stream",
     "text": [
      "Estrazione ottimizzata:  79%|███████▊  | 370/470 [01:08<00:27,  3.70it/s]"
     ]
    },
    {
     "name": "stdout",
     "output_type": "stream",
     "text": [
      "🟨 Estrazione data per: Fiordaliso\n",
      "🟨 Estrazione data per: Tiziana Rivale\n",
      "❌ Nessuna pagina trovata per: Gilda\n",
      "🟨 Estrazione data per: Donatella Milani\n",
      "🟨 Estrazione data per: Dori Ghezzi\n"
     ]
    },
    {
     "name": "stderr",
     "output_type": "stream",
     "text": [
      "Estrazione ottimizzata:  80%|███████▉  | 374/470 [01:08<00:15,  6.37it/s]"
     ]
    },
    {
     "name": "stdout",
     "output_type": "stream",
     "text": [
      "🟨 Estrazione data per: Amii Stewart\n",
      "❌ Nessuna pagina trovata per: Gabriella Sanna\n",
      "🟨 Estrazione data per: Flavia Fortunato\n"
     ]
    },
    {
     "name": "stderr",
     "output_type": "stream",
     "text": [
      "Estrazione ottimizzata:  80%|████████  | 376/470 [01:08<00:13,  6.87it/s]"
     ]
    },
    {
     "name": "stdout",
     "output_type": "stream",
     "text": [
      "⚠️ Nessuna data trovata per: Viola Valentino\n",
      "🟨 Estrazione data per: Barbara Boncompagni\n",
      "🟨 Estrazione data per: Daniela Goggi\n",
      "🟨 Estrazione data per: Brunella Borciani\n"
     ]
    },
    {
     "name": "stderr",
     "output_type": "stream",
     "text": [
      "Estrazione ottimizzata:  81%|████████  | 381/470 [01:09<00:14,  5.95it/s]"
     ]
    },
    {
     "name": "stdout",
     "output_type": "stream",
     "text": [
      "🟨 Estrazione data per: Patty Pravo\n",
      "🟨 Estrazione data per: Marisa Sannia\n",
      "🟨 Estrazione data per: Loredana Bertè\n",
      "🟨 Estrazione data per: Rossana Casale\n"
     ]
    },
    {
     "name": "stderr",
     "output_type": "stream",
     "text": [
      "Estrazione ottimizzata:  81%|████████▏ | 383/470 [01:10<00:13,  6.52it/s]"
     ]
    },
    {
     "name": "stdout",
     "output_type": "stream",
     "text": [
      "🟨 Estrazione data per: Lena Biolcati\n",
      "🟨 Estrazione data per: Ornella Vanoni\n"
     ]
    },
    {
     "name": "stderr",
     "output_type": "stream",
     "text": [
      "Estrazione ottimizzata:  82%|████████▏ | 385/470 [01:10<00:12,  7.07it/s]"
     ]
    },
    {
     "name": "stdout",
     "output_type": "stream",
     "text": [
      "🟨 Estrazione data per: Marisa Laurito\n",
      "⚠️ Nomi multipli rilevati, salto: Marcella e Gianni Bella\n",
      "🟨 Estrazione data per: Caterina Caselli\n",
      "🟨 Estrazione data per: Paola Turci\n"
     ]
    },
    {
     "name": "stderr",
     "output_type": "stream",
     "text": [
      "Estrazione ottimizzata:  83%|████████▎ | 391/470 [01:11<00:12,  6.23it/s]"
     ]
    },
    {
     "name": "stdout",
     "output_type": "stream",
     "text": [
      "🟨 Estrazione data per: Grazia Di Michele\n",
      "🟨 Estrazione data per: Mietta\n",
      "🟨 Estrazione data per: Daniela\n",
      "🟨 Estrazione data per: Mariella Nava\n"
     ]
    },
    {
     "name": "stderr",
     "output_type": "stream",
     "text": [
      "Estrazione ottimizzata:  84%|████████▎ | 393/470 [01:11<00:10,  7.29it/s]"
     ]
    },
    {
     "name": "stdout",
     "output_type": "stream",
     "text": [
      "🟨 Estrazione data per: Lina Sastri\n",
      "🟨 Estrazione data per: Francesca Alotta\n"
     ]
    },
    {
     "name": "stderr",
     "output_type": "stream",
     "text": [
      "Estrazione ottimizzata:  85%|████████▍ | 398/470 [01:12<00:07,  9.90it/s]"
     ]
    },
    {
     "name": "stdout",
     "output_type": "stream",
     "text": [
      "❌ Nessuna pagina trovata per: Fiordaliso\n",
      "🟨 Estrazione data per: Jo Squillo\n",
      "🟨 Estrazione data per: Laura Pausini\n",
      "🟨 Estrazione data per: Gerardina Trovato\n",
      "🟨 Estrazione data per: Claudia Mori\n"
     ]
    },
    {
     "name": "stderr",
     "output_type": "stream",
     "text": [
      "Estrazione ottimizzata:  86%|████████▌ | 402/470 [01:13<00:10,  6.52it/s]"
     ]
    },
    {
     "name": "stdout",
     "output_type": "stream",
     "text": [
      "🟨 Estrazione data per: Giorgia\n",
      "🟨 Estrazione data per: Ivana Spagna\n",
      "⚠️ Nessuna data trovata per: Daniela\n",
      "🟨 Estrazione data per: Lighea\n",
      "🟨 Estrazione data per: Antonella Arancio\n",
      "🟨 Estrazione data per: Lorella Cuccarini\n"
     ]
    },
    {
     "name": "stderr",
     "output_type": "stream",
     "text": [
      "Estrazione ottimizzata:  86%|████████▌ | 404/470 [01:13<00:08,  7.88it/s]"
     ]
    },
    {
     "name": "stdout",
     "output_type": "stream",
     "text": [
      "⚠️ Nessuna data trovata per: Francesca Alotta\n",
      "🟨 Estrazione data per: Francesca Schiavo\n"
     ]
    },
    {
     "name": "stderr",
     "output_type": "stream",
     "text": [
      "Estrazione ottimizzata:  86%|████████▋ | 406/470 [01:13<00:08,  7.57it/s]"
     ]
    },
    {
     "name": "stdout",
     "output_type": "stream",
     "text": [
      "🟨 Estrazione data per: Valeria Visconti\n",
      "🟨 Estrazione data per: Rossella Marcone\n",
      "🟨 Estrazione data per: Raffaella Cavalli\n"
     ]
    },
    {
     "name": "stderr",
     "output_type": "stream",
     "text": [
      "Estrazione ottimizzata:  87%|████████▋ | 408/470 [01:13<00:08,  7.50it/s]"
     ]
    },
    {
     "name": "stdout",
     "output_type": "stream",
     "text": [
      "🟨 Estrazione data per: Syria\n"
     ]
    },
    {
     "name": "stderr",
     "output_type": "stream",
     "text": [
      "Estrazione ottimizzata:  87%|████████▋ | 411/470 [01:14<00:10,  5.75it/s]"
     ]
    },
    {
     "name": "stdout",
     "output_type": "stream",
     "text": [
      "🟨 Estrazione data per: Silvia Salemi\n",
      "🟨 Estrazione data per: Marina Rei\n",
      "🟨 Estrazione data per: Carmen Consoli\n"
     ]
    },
    {
     "name": "stderr",
     "output_type": "stream",
     "text": [
      "Estrazione ottimizzata:  88%|████████▊ | 413/470 [01:14<00:08,  6.74it/s]"
     ]
    },
    {
     "name": "stdout",
     "output_type": "stream",
     "text": [
      "🟨 Estrazione data per: Olivia\n",
      "🟨 Estrazione data per: Adriana Ruocco\n"
     ]
    },
    {
     "name": "stderr",
     "output_type": "stream",
     "text": [
      "Estrazione ottimizzata:  89%|████████▊ | 416/470 [01:15<00:06,  8.96it/s]"
     ]
    },
    {
     "name": "stdout",
     "output_type": "stream",
     "text": [
      "🟨 Estrazione data per: Petra Magoni\n",
      "🟨 Estrazione data per: Annalisa Minetti\n",
      "🟨 Estrazione data per: Antonella Ruggiero\n",
      "🟨 Estrazione data per: Lisa\n"
     ]
    },
    {
     "name": "stderr",
     "output_type": "stream",
     "text": [
      "Estrazione ottimizzata:  89%|████████▉ | 419/470 [01:15<00:09,  5.14it/s]"
     ]
    },
    {
     "name": "stdout",
     "output_type": "stream",
     "text": [
      "🟨 Estrazione data per: Irene Grandi\n",
      "🟨 Estrazione data per: Elisa\n"
     ]
    },
    {
     "name": "stderr",
     "output_type": "stream",
     "text": [
      "Estrazione ottimizzata:  90%|████████▉ | 421/470 [01:16<00:08,  5.47it/s]"
     ]
    },
    {
     "name": "stdout",
     "output_type": "stream",
     "text": [
      "🟨 Estrazione data per: Jenny B\n",
      "🟨 Estrazione data per: Alexia\n"
     ]
    },
    {
     "name": "stderr",
     "output_type": "stream",
     "text": [
      "Estrazione ottimizzata:  90%|████████▉ | 422/470 [01:16<00:07,  6.20it/s]"
     ]
    },
    {
     "name": "stdout",
     "output_type": "stream",
     "text": [
      "🟨 Estrazione data per: Filippa Giordano\n",
      "❌ Nessuna pagina trovata per: Giorgia\n",
      "🟨 Estrazione data per: Giuni Russo\n"
     ]
    },
    {
     "name": "stderr",
     "output_type": "stream",
     "text": [
      "Estrazione ottimizzata:  90%|█████████ | 424/470 [01:16<00:07,  6.55it/s]"
     ]
    },
    {
     "name": "stdout",
     "output_type": "stream",
     "text": [
      "🟨 Estrazione data per: Linda\n",
      "🟨 Estrazione data per: Veruska\n"
     ]
    },
    {
     "name": "stderr",
     "output_type": "stream",
     "text": [
      "Estrazione ottimizzata:  91%|█████████ | 426/470 [01:17<00:08,  4.96it/s]"
     ]
    },
    {
     "name": "stdout",
     "output_type": "stream",
     "text": [
      "🟨 Estrazione data per: Laura Bono\n"
     ]
    },
    {
     "name": "stderr",
     "output_type": "stream",
     "text": [
      "Estrazione ottimizzata:  91%|█████████ | 428/470 [01:17<00:09,  4.53it/s]"
     ]
    },
    {
     "name": "stdout",
     "output_type": "stream",
     "text": [
      "🟨 Estrazione data per: Chiara\n",
      "🟨 Estrazione data per: Anna Tatangelo\n",
      "🟨 Estrazione data per: Camilla\n"
     ]
    },
    {
     "name": "stderr",
     "output_type": "stream",
     "text": [
      "Estrazione ottimizzata:  92%|█████████▏| 432/470 [01:18<00:06,  6.25it/s]"
     ]
    },
    {
     "name": "stdout",
     "output_type": "stream",
     "text": [
      "🟨 Estrazione data per: Dolcenera\n",
      "🟨 Estrazione data per: Simona Bencini\n",
      "❌ Nessuna pagina trovata per: Olivia\n",
      "🟨 Estrazione data per: Nicky Nicolai\n"
     ]
    },
    {
     "name": "stderr",
     "output_type": "stream",
     "text": [
      "Estrazione ottimizzata:  92%|█████████▏| 433/470 [01:18<00:07,  4.81it/s]"
     ]
    },
    {
     "name": "stdout",
     "output_type": "stream",
     "text": [
      "🟨 Estrazione data per: L'Aura\n"
     ]
    },
    {
     "name": "stderr",
     "output_type": "stream",
     "text": [
      "Estrazione ottimizzata:  93%|█████████▎| 435/470 [01:19<00:07,  4.67it/s]"
     ]
    },
    {
     "name": "stdout",
     "output_type": "stream",
     "text": [
      "❌ Nessuna pagina trovata per: Lisa\n",
      "🟨 Estrazione data per: Amalia Gré\n",
      "⚠️ Nessuna data trovata per: Chiara\n",
      "🟨 Estrazione data per: Leda Battisti\n"
     ]
    },
    {
     "name": "stderr",
     "output_type": "stream",
     "text": [
      "Estrazione ottimizzata:  93%|█████████▎| 437/470 [01:19<00:05,  5.96it/s]"
     ]
    },
    {
     "name": "stdout",
     "output_type": "stream",
     "text": [
      "⚠️ Nessuna data trovata per: Camilla\n",
      "🟨 Estrazione data per: Ariete\n",
      "🟨 Estrazione data per: Noemi\n"
     ]
    },
    {
     "name": "stderr",
     "output_type": "stream",
     "text": [
      "Estrazione ottimizzata:  93%|█████████▎| 439/470 [01:19<00:05,  6.20it/s]"
     ]
    },
    {
     "name": "stdout",
     "output_type": "stream",
     "text": [
      "❌ Nessuna pagina trovata per: Elisa\n",
      "🟨 Estrazione data per: Malika Ayane\n",
      "🟨 Estrazione data per: Arisa\n",
      "🟨 Estrazione data per: Antonella Bellan\n",
      "🟨 Estrazione data per: Giusy Ferreri\n"
     ]
    },
    {
     "name": "stderr",
     "output_type": "stream",
     "text": [
      "Estrazione ottimizzata:  94%|█████████▍| 442/470 [01:20<00:04,  6.06it/s]"
     ]
    },
    {
     "name": "stdout",
     "output_type": "stream",
     "text": [
      "❌ Nessuna pagina trovata per: Linda\n",
      "🟨 Estrazione data per: Emma\n",
      "🟨 Estrazione data per: Nina Zilli\n"
     ]
    },
    {
     "name": "stderr",
     "output_type": "stream",
     "text": [
      "Estrazione ottimizzata:  95%|█████████▍| 445/470 [01:20<00:03,  6.64it/s]"
     ]
    },
    {
     "name": "stdout",
     "output_type": "stream",
     "text": [
      "🟨 Estrazione data per: Chiara Civello\n",
      "🟨 Estrazione data per: Irene Fornaciari\n"
     ]
    },
    {
     "name": "stderr",
     "output_type": "stream",
     "text": [
      "Estrazione ottimizzata:  95%|█████████▍| 446/470 [01:20<00:04,  5.29it/s]"
     ]
    },
    {
     "name": "stdout",
     "output_type": "stream",
     "text": [
      "🟨 Estrazione data per: Annalisa\n"
     ]
    },
    {
     "name": "stderr",
     "output_type": "stream",
     "text": [
      "Estrazione ottimizzata:  95%|█████████▌| 447/470 [01:21<00:05,  4.23it/s]"
     ]
    },
    {
     "name": "stdout",
     "output_type": "stream",
     "text": [
      "🟨 Estrazione data per: Maria Nazionale\n",
      "🟨 Estrazione data per: Bianca Atzei\n"
     ]
    },
    {
     "name": "stderr",
     "output_type": "stream",
     "text": [
      "Estrazione ottimizzata:  96%|█████████▌| 449/470 [01:21<00:04,  4.91it/s]"
     ]
    },
    {
     "name": "stdout",
     "output_type": "stream",
     "text": [
      "⚠️ Nessuna data trovata per: Emma\n",
      "🟨 Estrazione data per: Angelica\n",
      "🟨 Estrazione data per: Lara Fabian\n"
     ]
    },
    {
     "name": "stderr",
     "output_type": "stream",
     "text": [
      "Estrazione ottimizzata:  96%|█████████▌| 451/470 [01:21<00:03,  5.10it/s]"
     ]
    },
    {
     "name": "stdout",
     "output_type": "stream",
     "text": [
      "🟨 Estrazione data per: Francesca Michielin\n",
      "🟨 Estrazione data per: Elodie\n"
     ]
    },
    {
     "name": "stderr",
     "output_type": "stream",
     "text": [
      "Estrazione ottimizzata:  96%|█████████▋| 453/470 [01:22<00:03,  5.24it/s]"
     ]
    },
    {
     "name": "stdout",
     "output_type": "stream",
     "text": [
      "⚠️ Nessuna data trovata per: Annalisa\n",
      "🟨 Estrazione data per: Lodovica Comello\n"
     ]
    },
    {
     "name": "stderr",
     "output_type": "stream",
     "text": [
      "Estrazione ottimizzata:  97%|█████████▋| 456/470 [01:22<00:02,  6.65it/s]"
     ]
    },
    {
     "name": "stdout",
     "output_type": "stream",
     "text": [
      "❌ Nessuna pagina trovata per: Antonella Bellan\n",
      "🟨 Estrazione data per: Alice\n",
      "🟨 Estrazione data per: Giordana Angi\n",
      "❌ Nessuna pagina trovata per: Noemi\n",
      "🟨 Estrazione data per: Elettra Lamborghini\n",
      "🟨 Estrazione data per: Gaia\n"
     ]
    },
    {
     "name": "stderr",
     "output_type": "stream",
     "text": [
      "Estrazione ottimizzata:  97%|█████████▋| 458/470 [01:22<00:01,  7.65it/s]"
     ]
    },
    {
     "name": "stdout",
     "output_type": "stream",
     "text": [
      "❌ Nessuna pagina trovata per: Ariete\n",
      "🟨 Estrazione data per: Ana Mena\n"
     ]
    },
    {
     "name": "stderr",
     "output_type": "stream",
     "text": [
      "Estrazione ottimizzata:  98%|█████████▊| 459/470 [01:23<00:01,  5.81it/s]"
     ]
    },
    {
     "name": "stdout",
     "output_type": "stream",
     "text": [
      "🟨 Estrazione data per: Mara Sattei\n"
     ]
    },
    {
     "name": "stderr",
     "output_type": "stream",
     "text": [
      "Estrazione ottimizzata:  98%|█████████▊| 461/470 [01:23<00:01,  6.04it/s]"
     ]
    },
    {
     "name": "stdout",
     "output_type": "stream",
     "text": [
      "🟨 Estrazione data per: Shari\n"
     ]
    },
    {
     "name": "stderr",
     "output_type": "stream",
     "text": [
      "Estrazione ottimizzata:  99%|█████████▉| 467/470 [01:25<00:00,  3.56it/s]"
     ]
    },
    {
     "name": "stdout",
     "output_type": "stream",
     "text": [
      "❌ Nessuna pagina trovata per: Angelica\n"
     ]
    },
    {
     "name": "stderr",
     "output_type": "stream",
     "text": [
      "Estrazione ottimizzata: 100%|█████████▉| 469/470 [01:26<00:00,  2.34it/s]"
     ]
    },
    {
     "name": "stdout",
     "output_type": "stream",
     "text": [
      "❌ Nessuna pagina trovata per: Alice\n",
      "❌ Nessuna pagina trovata per: Gaia\n"
     ]
    },
    {
     "name": "stderr",
     "output_type": "stream",
     "text": [
      "Estrazione ottimizzata: 100%|██████████| 470/470 [01:26<00:00,  5.42it/s]"
     ]
    },
    {
     "name": "stdout",
     "output_type": "stream",
     "text": [
      "❌ Nessuna pagina trovata per: Shari\n",
      "\n",
      "✅ File salvato con successo: Artisti_unici_filtro_genere_e_ottimizzati.xlsx\n"
     ]
    },
    {
     "name": "stderr",
     "output_type": "stream",
     "text": [
      "\n"
     ]
    }
   ],
   "source": [
    "import pandas as pd\n",
    "import wikipedia\n",
    "import re\n",
    "import concurrent.futures\n",
    "from tqdm import tqdm\n",
    "\n",
    "wikipedia.set_lang(\"it\")\n",
    "wikipedia.set_rate_limiting(True)\n",
    "\n",
    "file_path = \"File Unico Sanremo.xlsx\"\n",
    "df = pd.read_excel(file_path, sheet_name=\"Artisti Unici con genere\")\n",
    "\n",
    "# Filtra solo Maschio e Femmina\n",
    "df = df[df[\"Genere\"].isin([\"Maschio\", \"Femmina\"])].copy()\n",
    "\n",
    "dob_cache = {}\n",
    "\n",
    "mesi_ita = {\n",
    "    \"gennaio\": \"01\", \"febbraio\": \"02\", \"marzo\": \"03\", \"aprile\": \"04\",\n",
    "    \"maggio\": \"05\", \"giugno\": \"06\", \"luglio\": \"07\", \"agosto\": \"08\",\n",
    "    \"settembre\": \"09\", \"ottobre\": \"10\", \"novembre\": \"11\", \"dicembre\": \"12\"\n",
    "}\n",
    "\n",
    "# Tentativi alternativi per cercare la pagina Wikipedia giusta\n",
    "def cerca_pagina(artista):\n",
    "    varianti = [artista]\n",
    "    parole_chiave = [\"cantante\", \"musicista\", \"cantautore\", \"cantautrice\", \"sanremo\"]\n",
    "\n",
    "    # Aggiungi varianti con parole chiave\n",
    "    for parola in parole_chiave:\n",
    "        varianti.append(f\"{artista} {parola}\")\n",
    "\n",
    "    for nome in varianti:\n",
    "        try:\n",
    "            return wikipedia.page(nome, auto_suggest=False, preload=False)\n",
    "        except wikipedia.exceptions.DisambiguationError as e:\n",
    "            continue  # Prova il prossimo\n",
    "        except wikipedia.exceptions.PageError:\n",
    "            continue\n",
    "        except Exception:\n",
    "            continue\n",
    "\n",
    "    return None\n",
    "\n",
    "def estrai_data_nascita(artista):\n",
    "    if artista in dob_cache:\n",
    "        return dob_cache[artista]\n",
    "\n",
    "    if any(sep in artista.lower() for sep in [\",\", \" e \", \" - \"]):\n",
    "        print(f\"⚠️ Nomi multipli rilevati, salto: {artista}\")\n",
    "        return \"Da verificare\"\n",
    "\n",
    "    print(f\"🟨 Estrazione data per: {artista}\")\n",
    "    pagina = cerca_pagina(artista)\n",
    "\n",
    "    if pagina is None:\n",
    "        print(f\"❌ Nessuna pagina trovata per: {artista}\")\n",
    "        return \"Da verificare\"\n",
    "\n",
    "    testo = (pagina.summary + \" \" + pagina.content).lower()[:1000]\n",
    "\n",
    "    match = re.search(r'(\\d{1,2})\\s+([a-z]+)\\s+(\\d{4})', testo)\n",
    "    if match:\n",
    "        giorno = match.group(1).zfill(2)\n",
    "        mese_testo = match.group(2)\n",
    "        mese = mesi_ita.get(mese_testo)\n",
    "        anno = match.group(3)\n",
    "\n",
    "        if mese:\n",
    "            data = f\"{giorno}/{mese}/{anno}\"\n",
    "            dob_cache[artista] = data\n",
    "            return data\n",
    "\n",
    "    print(f\"⚠️ Nessuna data trovata per: {artista}\")\n",
    "    return \"Da verificare\"\n",
    "\n",
    "def apply_parallel(df, func, descrizione):\n",
    "    results = []\n",
    "    with concurrent.futures.ThreadPoolExecutor(max_workers=10) as executor:\n",
    "        futures = {executor.submit(func, artista): artista for artista in df[\"Artista\"]}\n",
    "        for future in tqdm(concurrent.futures.as_completed(futures), total=len(futures), desc=descrizione):\n",
    "            artista = futures[future]\n",
    "            try:\n",
    "                result = future.result()\n",
    "                results.append(result)\n",
    "            except Exception as e:\n",
    "                print(f\"❌ Errore durante {descrizione} su: {artista} — {e}\")\n",
    "                results.append(\"Errore\")\n",
    "    return results\n",
    "\n",
    "df[\"Data di nascita\"] = apply_parallel(df, estrai_data_nascita, \"Estrazione ottimizzata\")\n",
    "output_file = \"Artisti_unici_filtro_genere_e_ottimizzati.xlsx\"\n",
    "df.to_excel(output_file, index=False)\n",
    "\n",
    "print(f\"\\n✅ File salvato con successo: {output_file}\")\n"
   ]
  },
  {
   "cell_type": "code",
   "execution_count": null,
   "id": "75d48bdd-28bf-4746-b3fd-7d3db5faf749",
   "metadata": {},
   "outputs": [],
   "source": []
  }
 ],
 "metadata": {
  "kernelspec": {
   "display_name": "Python [conda env:base] *",
   "language": "python",
   "name": "conda-base-py"
  },
  "language_info": {
   "codemirror_mode": {
    "name": "ipython",
    "version": 3
   },
   "file_extension": ".py",
   "mimetype": "text/x-python",
   "name": "python",
   "nbconvert_exporter": "python",
   "pygments_lexer": "ipython3",
   "version": "3.12.7"
  }
 },
 "nbformat": 4,
 "nbformat_minor": 5
}

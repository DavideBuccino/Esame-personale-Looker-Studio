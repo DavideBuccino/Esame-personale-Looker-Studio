{
 "cells": [
  {
   "cell_type": "markdown",
   "id": "2508b9f8-4a99-4d61-a708-9855074c89a7",
   "metadata": {},
   "source": [
    "CREO UNA NUOVA COLONNA CON IL GENERE DEGLI ARTISTI - OTTIMIZZATO CON INSERIMENTO ARTICOLI (UN - UNA)"
   ]
  },
  {
   "cell_type": "code",
   "execution_count": 9,
   "id": "562d34c8-6ef8-41d8-9637-f595610d33a1",
   "metadata": {},
   "outputs": [
    {
     "name": "stderr",
     "output_type": "stream",
     "text": [
      "D:\\bocci\\anaconda3\\Lib\\site-packages\\wikipedia\\wikipedia.py:389: GuessedAtParserWarning: No parser was explicitly specified, so I'm using the best available HTML parser for this system (\"lxml\"). This usually isn't a problem, but if you run this code on another system, or in a different virtual environment, it may use a different parser and behave differently.\n",
      "\n",
      "The code that caused this warning is on line 389 of the file D:\\bocci\\anaconda3\\Lib\\site-packages\\wikipedia\\wikipedia.py. To get rid of this warning, pass the additional argument 'features=\"lxml\"' to the BeautifulSoup constructor.\n",
      "\n",
      "  lis = BeautifulSoup(html).find_all('li')\n"
     ]
    },
    {
     "name": "stdout",
     "output_type": "stream",
     "text": [
      "✅ Colonna 'Genere' aggiunta e file salvato come 'Artisti_unici_con_genere_ottimizzato.xlsx'\n"
     ]
    }
   ],
   "source": [
    "import pandas as pd\n",
    "import wikipedia\n",
    "import concurrent.futures\n",
    "\n",
    "# Imposta la lingua italiana\n",
    "wikipedia.set_lang(\"it\")\n",
    "\n",
    "# Carica il file Excel e il foglio degli artisti\n",
    "file_path = \"File Unico Sanremo.xlsx\"  # Cambia il nome se necessario\n",
    "df = pd.read_excel(file_path, sheet_name=\"Artisti unici\")\n",
    "\n",
    "# Cache dei riassunti\n",
    "summary_cache = {}\n",
    "def determina_genere(artista):\n",
    "    if artista in summary_cache:\n",
    "        summary = summary_cache[artista]\n",
    "    else:\n",
    "        try:\n",
    "            summary = wikipedia.summary(artista, sentences=2).lower()\n",
    "            summary_cache[artista] = summary\n",
    "        except (wikipedia.exceptions.DisambiguationError, wikipedia.exceptions.PageError):\n",
    "            return \"Da verificare\"\n",
    "    \n",
    "    # Logica migliorata con articoli\n",
    "    if any(x in summary for x in [\"una cantante\", \"una cantautrice\", \"un'attrice\", \"voce femminile\"]):\n",
    "        return \"Femmina\"\n",
    "    elif any(x in summary for x in [\"un cantante\", \"un cantautore\", \"un attore\", \"rapper\", \"voce maschile\"]):\n",
    "        return \"Maschio\"\n",
    "    elif any(x in summary for x in [\"gruppo\", \"band\", \"duo\"]):\n",
    "        return \"Gruppo\"\n",
    "    else:\n",
    "        return \"Da verificare\"\n",
    "# Funzione per applicare parallelamente\n",
    "def apply_parallel(df, func):\n",
    "    with concurrent.futures.ThreadPoolExecutor() as executor:\n",
    "        return list(executor.map(func, df[\"Artista\"]))\n",
    "\n",
    "# Applica la funzione in parallelo\n",
    "df[\"Genere\"] = apply_parallel(df, determina_genere)\n",
    "\n",
    "# Salva il nuovo file con la colonna aggiunta\n",
    "df.to_excel(\"Artisti_unici_con_genere_ottimizzato2.xlsx\", index=False)\n",
    "\n",
    "print(\"✅ Colonna 'Genere' aggiunta e file salvato come 'Artisti_unici_con_genere_ottimizzato2.xlsx'\")"
   ]
  },
  {
   "cell_type": "code",
   "execution_count": 14,
   "id": "2ce8da65-6658-4c5e-932d-8cfbe9e594f5",
   "metadata": {},
   "outputs": [
    {
     "name": "stdout",
     "output_type": "stream",
     "text": [
      "Genere\n",
      "Maschio          418\n",
      "Femmina          294\n",
      "Da verificare    227\n",
      "Gruppo           125\n",
      "Name: count, dtype: int64\n"
     ]
    }
   ],
   "source": [
    "print(df['Genere'].value_counts())  # Conta i valori unici nella colonna 'Genere'"
   ]
  },
  {
   "cell_type": "code",
   "execution_count": null,
   "id": "e5c69a32-0bfc-4b8d-abcd-ca7a4f7afe07",
   "metadata": {},
   "outputs": [],
   "source": []
  }
 ],
 "metadata": {
  "kernelspec": {
   "display_name": "Python [conda env:base] *",
   "language": "python",
   "name": "conda-base-py"
  },
  "language_info": {
   "codemirror_mode": {
    "name": "ipython",
    "version": 3
   },
   "file_extension": ".py",
   "mimetype": "text/x-python",
   "name": "python",
   "nbconvert_exporter": "python",
   "pygments_lexer": "ipython3",
   "version": "3.12.7"
  }
 },
 "nbformat": 4,
 "nbformat_minor": 5
}
